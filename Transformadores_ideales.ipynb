{
 "cells": [
  {
   "cell_type": "markdown",
   "metadata": {},
   "source": [
    "## Transformadores ideales\n",
    "Un transformador ideal es aquel con acoplamiento perfecto $(k=1)$. Consta de dos (o más) bobinas con gran número de vueltas devanadas en un núcleo común de alta permeabilidad. A causa de esta permeabilidad del núcleo, el flujo enlaza a todas las vueltas de ambas bobinas, lo que da por resultado un acoplamiento perfecto."
   ]
  },
  {
   "cell_type": "markdown",
   "metadata": {},
   "source": [
    "<div class=\"alert-success\">Un <strong>transformador ideal</strong> es un transformador de acoplamiento unitario sin pérdidas en el que las bobinas primaria y secundaria tienen autoinductacias infinitas.</div>"
   ]
  },
  {
   "cell_type": "markdown",
   "metadata": {},
   "source": [
    "Los transformadores de núcleo de hierro son una aproximación muy cercana de transformadores ideales. Se les emplea en sistemas de potencia y en electrónica."
   ]
  },
  {
   "cell_type": "markdown",
   "metadata": {},
   "source": [
    "Cuando se aplica una tensión senoidal al devanado primario, como se advierte en la figura, por ambos devanados pasa el mismo flujo magnético $\\phi$. De acuerdo con la ley de Faraday, la tensión en el devanado primario es"
   ]
  },
  {
   "cell_type": "markdown",
   "metadata": {},
   "source": [
    "$$ v_1 = N_1 \\frac{d \\phi}{dt} \\tag{a} $$"
   ]
  },
  {
   "cell_type": "markdown",
   "metadata": {},
   "source": [
    "mientras que a través del devanado secundario es"
   ]
  },
  {
   "cell_type": "markdown",
   "metadata": {},
   "source": [
    "$$ v_2 = N_2 \\frac{d \\phi}{dt} \\tag{b} $$"
   ]
  },
  {
   "cell_type": "markdown",
   "metadata": {},
   "source": [
    "Al dividir la ecuación (b) entre la ecuación (a) se obtiene"
   ]
  },
  {
   "cell_type": "markdown",
   "metadata": {},
   "source": [
    "$$ \\frac{v_2}{v_1} = \\frac{N_2}{N_1} = n \\tag{1} $$"
   ]
  },
  {
   "cell_type": "markdown",
   "metadata": {},
   "source": [
    "donde $n$ es, de nueva cuanta, la *relación de vueltas* o *relación de transformación*. Pueden usarse las tensiones fasoriales $V_1$ y $V_2$ en lugar de los valores instantáneos $v_1$ y $v_2$. Así, la ecuación (1) puede escribirse como"
   ]
  },
  {
   "cell_type": "markdown",
   "metadata": {},
   "source": [
    "$$ \\frac{V_2}{V_1} = \\frac{N_2}{N_1} = n \\tag{2} $$"
   ]
  },
  {
   "cell_type": "markdown",
   "metadata": {},
   "source": [
    "Por efecto de la conservación de la potencia, la energía suministrada al devanador primario debe ser igual a la energía absorbida por el devanado secundario, ya que en un transformador ideal no hay pérdidas. Esto implica que"
   ]
  },
  {
   "cell_type": "markdown",
   "metadata": {},
   "source": [
    "$$ v_1 i_1 = v_2 i_2 \\tag{3} $$"
   ]
  },
  {
   "cell_type": "markdown",
   "metadata": {},
   "source": [
    "En forma fasorial, la ecuación (3) se convierte, junto con la ecuación (2), en"
   ]
  },
  {
   "cell_type": "markdown",
   "metadata": {},
   "source": [
    "$$ \\frac{I_1}{I_2} = \\frac{V_2}{V_1} = n \\tag{4} $$"
   ]
  },
  {
   "cell_type": "markdown",
   "metadata": {},
   "source": [
    "lo que indica que las corrientes primaria y secundaria se determinan con la relación de vueltas en forma inversa que las tensiones. Así,"
   ]
  },
  {
   "cell_type": "markdown",
   "metadata": {},
   "source": [
    "$$ \\frac{I_2}{I_1} = \\frac{N_2}{N_1} = \\frac{1}{n} \\tag{5} $$"
   ]
  },
  {
   "cell_type": "markdown",
   "metadata": {},
   "source": [
    "Cuando $n=1$, el transformador se llama por lo general *transformador de aislamiento*. Si $n>1$, se tiene un *transformador elevador*, pues la tensión aumenta de primaria a secundaria $(V_2 > V_1)$. Por otra parte, $n<1$, el transformador es un transformador reductor, ya que la tensión se reduce de primaria a secundaria $(V_2 < V_1)$"
   ]
  },
  {
   "cell_type": "markdown",
   "metadata": {},
   "source": [
    "<div class=\"alert-success\">Un <strong>transformador reductor</strong> es aquel cuya tensión secundaria es menor que su tensión primaria.</div>"
   ]
  },
  {
   "cell_type": "markdown",
   "metadata": {},
   "source": [
    "<div class=\"alert-success\">Un <strong>transformador elevador</strong> es aquel cuya tensión secundaria es mayor que su tensión primaria.</div>"
   ]
  },
  {
   "cell_type": "markdown",
   "metadata": {},
   "source": [
    "La capacidad nominal de los transformadores suele especificarse como $V_1/V_2$. Un transformador con capacidad nominal de 2400/120 V debe tener 2400 V en el devanado primario y 120 en el secundario (es decir, se trata de un transformador reductor). Téngase presente que las capacidades nominales de tensión están en rms."
   ]
  },
  {
   "cell_type": "markdown",
   "metadata": {},
   "source": [
    "Las companías de electricidad generan a menudo cierta tensión conveniente y se sirven de un transformador elevador para aumentar la tensión a fin de que la energía eléctrica pueda transmitirse a muy alta tensión y baja corriente por las líneas de transmisión, lo cual permite ahorros significativos. Cerca de las residencias de los consumidores, se emplean transformadores reductores para disminuir las tensión."
   ]
  },
  {
   "cell_type": "markdown",
   "metadata": {},
   "source": [
    "Es importante saber cómo obtener la polaridad apropiada de las tensiones y la dirección de las corrientes del transformador de la figura. Si la polaridad de $V_1$ o $V_2$ o la dirección de $I_1$ o $I_2$ cambia, podría ser necesario reemplazar $n$ en las ecuaciones (1) a (5) por $-n$- Las dos reglas simples por seguir son:"
   ]
  },
  {
   "cell_type": "markdown",
   "metadata": {},
   "source": [
    "<img src=\"img/fig13-31.png\">"
   ]
  },
  {
   "cell_type": "markdown",
   "metadata": {},
   "source": [
    "1. Si tanto $V_1$ como $V_2$ son *ambas* positivas o negativas en las terminales con marca, se usa $+n$ en la ecuación.      \n",
    "De lo contrario, se usa $-n$.\n",
    "2. Si tanto $I_1$ como $I_2$ *ambas* entran o salen de las terminales marcadas, se usa $-n$ en la ecuación (5).    \n",
    "De lo contrario, se usa $+n$."
   ]
  },
  {
   "cell_type": "markdown",
   "metadata": {},
   "source": [
    "Estas reglas se demuestran en los cuatro circuitos de la figura"
   ]
  },
  {
   "cell_type": "markdown",
   "metadata": {},
   "source": [
    "<img src=\"img/fig13-32-1.png\">"
   ]
  },
  {
   "cell_type": "markdown",
   "metadata": {},
   "source": [
    "<img src=\"img/fig13-32-2.png\">"
   ]
  },
  {
   "cell_type": "markdown",
   "metadata": {},
   "source": [
    "Usando las ecuaciones (2) y (5), siempre es posible expresar $V_1$ en término de $V_2$ e $I_2$ o viceversa:"
   ]
  },
  {
   "cell_type": "markdown",
   "metadata": {},
   "source": [
    "$$ V_1 = \\frac{V_2}{n} \\qquad \\mbox{o} \\qquad V_2 = n V_1 \\tag{6} $$"
   ]
  },
  {
   "cell_type": "markdown",
   "metadata": {},
   "source": [
    "$$ I_1 = n I_2 \\qquad \\mbox{o} \\qquad I_2 = \\frac{I_1}{n} \\tag{7} $$"
   ]
  },
  {
   "cell_type": "markdown",
   "metadata": {},
   "source": [
    "La potencia compleja en el devanado primario es"
   ]
  },
  {
   "cell_type": "markdown",
   "metadata": {},
   "source": [
    "$$ S_1 = V_1 I^\\ast_1 = \\frac{V_2}{n} (n I_2)^\\ast = V_2 I^\\ast_2 = S_2 \\tag{8} $$"
   ]
  },
  {
   "cell_type": "markdown",
   "metadata": {},
   "source": [
    "lo que indica que la potencia compleja provista al devanado primario se entrega al devanado secundario sin pérdidas. El transformador no absorbe potencia."
   ]
  },
  {
   "cell_type": "markdown",
   "metadata": {},
   "source": [
    "$$ Z_{ent} = \\frac{V_2}{I_1} = \\frac{1}{n^2} \\frac{V_2}{I_2} \\tag{9} $$"
   ]
  },
  {
   "cell_type": "markdown",
   "metadata": {},
   "source": [
    "En la figura siguiente es evidente que $V_2/I_2 = Z_L$ de modo que"
   ]
  },
  {
   "cell_type": "markdown",
   "metadata": {},
   "source": [
    "$$ Z_{ent} = \\frac{Z_L}{n^2} \\tag{10} $$"
   ]
  },
  {
   "cell_type": "markdown",
   "metadata": {},
   "source": [
    "La impedancia de entrada también se llama *impedancia reflejada*, puesto que parecería que la impedancia de carga se reflejara en el lado primario. Esta capacidad del transformador para convertir una impedancia dada en otra impedancia proporciona un medio de *acoplamiento de impedancias* que garantice la transferencia de potencia máxima."
   ]
  },
  {
   "cell_type": "markdown",
   "metadata": {},
   "source": [
    "Al analizar un circuito que contiene un transformador ideal, es práctica común eliminar el transformador reflejando impedancias y fuentes de un lado del transformador al otro."
   ]
  },
  {
   "cell_type": "markdown",
   "metadata": {},
   "source": [
    "Supóngase que en el circuito de la figura, se desea reflejar el lado secundario del circuito en el lado primario. Se halla el equivalente de Thevenin del circuito a la derecha de las terminales *a-b*. Se obtiene $V_{TH}$ como la tensión de circuito abierto en las terminales *a-b*, como se observa en la figura."
   ]
  },
  {
   "cell_type": "markdown",
   "metadata": {},
   "source": [
    "<img src=\"img/fig13-33.png\">\n",
    "\n",
    "<center>Circuito con transformador ideal cuyos circuitos equivalentes se desea hallar.</center>"
   ]
  },
  {
   "cell_type": "markdown",
   "metadata": {},
   "source": [
    "<img src=\"img/fig13-34.png\">\n",
    "\n",
    "<center>(a) Obtención de $V_{TH}$   ;   (b) Obtención de $Z_{TH}$</center>"
   ]
  },
  {
   "cell_type": "markdown",
   "metadata": {},
   "source": [
    "Dado que las terminales *a-b* están abiertas, $I_1 = 0 = I_2$, de manera que $V_2 = V_{s2}$. Así, con base en la ecuación (6)"
   ]
  },
  {
   "cell_type": "markdown",
   "metadata": {},
   "source": [
    "$$ V_{TH} = V_1 = \\frac{V_2}{n} = \\frac{V_{s2}}{n} \\tag{11} $$"
   ]
  },
  {
   "cell_type": "markdown",
   "metadata": {},
   "source": [
    "Para obtener $Z_{TH}$, se elimina la fuente de tensión del bobinado secundario y se inserta una fuente unitaria entre las terminales *a-b*."
   ]
  },
  {
   "cell_type": "markdown",
   "metadata": {},
   "source": [
    "Partiendo de las ecuaciones (6) y (7), $I_1 = n I_2$ y $V_1 = V_2/n$, de modo que"
   ]
  },
  {
   "cell_type": "markdown",
   "metadata": {},
   "source": [
    "$$ Z_{Th} = \\frac{V_1}{I_1} = \\frac{V_2/n}{n I_2} = \\frac{Z_2}{n^2} \\qquad ; \\qquad V_2 = Z_2 I_2 \\tag{12} $$"
   ]
  },
  {
   "cell_type": "markdown",
   "metadata": {},
   "source": [
    "Una vez que se tiene $V_{TH}$ y $Z_{TH}$, se añade el equivalente de Thevenin a la parte del circuito de la figura a la izquierda de las terminales *a-b*"
   ]
  },
  {
   "cell_type": "markdown",
   "metadata": {},
   "source": [
    "<img src=\"img/fig13-33.png\">"
   ]
  },
  {
   "cell_type": "markdown",
   "metadata": {},
   "source": [
    "<img src=\"img/fig13-35.png\">\n",
    "\n",
    "<center>Circuito equivalente al de la figura anterior obtenido reflejando el circuito secundario en el lado primario.</center>"
   ]
  },
  {
   "cell_type": "markdown",
   "metadata": {},
   "source": [
    "<img src=\"img/fig13-36.png\">\n",
    "\n",
    "<center>Circuito equivalente obtenido reflejando el circuito primario en el lado secundario.</center>"
   ]
  },
  {
   "cell_type": "markdown",
   "metadata": {},
   "source": [
    "<div class=\"alert-success\">La regla general para eliminar el transformador y reflejar el circuito secundario en el lado primario es: divida la impedancia secundaria entre $n^2$, divida la tensión secundaria entre $n$ y multiplique la corriente secundaria por $n$.</div>"
   ]
  },
  {
   "cell_type": "markdown",
   "metadata": {},
   "source": [
    "De acuerdo con la ecuación (8), la potencia se mantiene sin cambios ya sea que se calcule en el lado primario o en el secundario. Sin embargo, debe tomarse en cuenta que este método de reflexión sólo se aplica si no hay conexiones externas sobre los devanados primario y secundario, se aplica simplemente el análisis regular de lazo y de nodo. Ejemplos de circuitos en los que hay conexiones externas entre los devanados primario y secundario se dan en las figuras. Adviértase asimismo que si la ubicación de las marcas en la figura cambia, quizá tendría que reemplazarse $n$ por $-n$ para obedecer la regla del punto."
   ]
  },
  {
   "cell_type": "markdown",
   "metadata": {},
   "source": [
    "## Ejemplo 13.7\n",
    "Un transformador ideal tiene capacidad nominal de 2400/120 V, 9,6 kVA y 50 vueltas en el lado secundario.Calcule:\n",
    "\n",
    "a) la razón de vueltas.\n",
    "\n",
    "b) el número de vueltas en el lado primario.\n",
    "\n",
    "c) las capacidades nominales de corriente de los devanados primario y secundario."
   ]
  },
  {
   "cell_type": "markdown",
   "metadata": {},
   "source": [
    "### Solución\n",
    "__a)__ Éste es un transformador reductor, ya que $V_1 = 2400 \\, \\mathrm{V} > V_2 = 120 \\, \\mathrm{V}$."
   ]
  },
  {
   "cell_type": "markdown",
   "metadata": {},
   "source": [
    "$$ n = \\frac{V_2}{V_1} = \\frac{120}{2400} = 0,05 $$"
   ]
  },
  {
   "cell_type": "markdown",
   "metadata": {},
   "source": [
    "__b)__\n",
    "$$ n = \\frac{N_2}{N_1} \\qquad \\Rightarrow \\qquad 0,05 = \\frac{50}{N_1} $$"
   ]
  },
  {
   "cell_type": "markdown",
   "metadata": {},
   "source": [
    "o sea\n",
    "$$ N_1 = \\frac{50}{0,05} = 1000 \\, \\mbox{vueltas} $$"
   ]
  },
  {
   "cell_type": "markdown",
   "metadata": {},
   "source": [
    "__c)__\n",
    "$$ S = V_1 I_1 = V_2 I_2 = 9,6 \\, \\mathrm{kVA} $$"
   ]
  },
  {
   "cell_type": "markdown",
   "metadata": {},
   "source": [
    "Por lo tanto,\n",
    "$$ I_1 = \\frac{S}{V_1} = \\frac{9600}{2400} = 4 \\, \\mathrm{A} $$"
   ]
  },
  {
   "cell_type": "markdown",
   "metadata": {},
   "source": [
    "$$ I_2 = \\frac{S}{V_2} = \\frac{9600}{120} = 80 \\, \\mathrm{A} $$"
   ]
  },
  {
   "cell_type": "code",
   "execution_count": 1,
   "metadata": {},
   "outputs": [],
   "source": [
    "# Datos:\n",
    "V1 = 2400 # V\n",
    "V2 = 120 # V\n",
    "N2 = 50\n",
    "S = 9.6e3 # VA "
   ]
  },
  {
   "cell_type": "code",
   "execution_count": 2,
   "metadata": {},
   "outputs": [],
   "source": [
    "n = V2/V1\n",
    "N1 = N2/n\n",
    "I1 = S/V1\n",
    "I2 = S/V2"
   ]
  },
  {
   "cell_type": "code",
   "execution_count": 6,
   "metadata": {
    "jupyter": {
     "source_hidden": true
    }
   },
   "outputs": [
    {
     "name": "stdout",
     "output_type": "stream",
     "text": [
      "a) ítem\n",
      "n = 0.05\n",
      "b) ítem\n",
      "N1 = 1000\n",
      "c) ítem\n",
      "I1 = 4.0 A\n",
      "I2 = 80.0 A\n"
     ]
    }
   ],
   "source": [
    "print('a) ítem')\n",
    "print('n = %.2f'%n)\n",
    "print('b) ítem')\n",
    "print('N1 = %.0f'%N1)\n",
    "print('c) ítem')\n",
    "print('I1 = %.1f A'%I1)\n",
    "print('I2 = %.1f A'%I2)"
   ]
  },
  {
   "cell_type": "code",
   "execution_count": 7,
   "metadata": {},
   "outputs": [],
   "source": [
    "%reset -s -f"
   ]
  },
  {
   "cell_type": "markdown",
   "metadata": {},
   "source": [
    "## Problema de práctica 13.7\n",
    "La corriente primaria que entra a un transformador ideal con capacidad nominal de 3300/110 V es de 3 A. Calcule:\n",
    "\n",
    "a) la razón de vueltas.\n",
    "\n",
    "b) la capacidad nominal en kVA.\n",
    "\n",
    "c) la corriente secundaria."
   ]
  },
  {
   "cell_type": "markdown",
   "metadata": {},
   "source": [
    "### Solución\n",
    "a) Éste es un transformador reductor, ya que $V_1 = 3300 \\, \\mathrm{V} > V_2 = 110 \\, \\mathrm{V}$."
   ]
  },
  {
   "cell_type": "markdown",
   "metadata": {},
   "source": [
    "$$ n = \\frac{V_2}{V_1} = \\frac{1}{30} \\cong 0,03333 $$"
   ]
  },
  {
   "cell_type": "markdown",
   "metadata": {},
   "source": [
    "b) Capacidad nominal en kVA\n",
    "$$ S = V_2 I_2 = V_2 \\left( \\frac{I_1}{n} \\right) = 9,9 \\, \\mathrm{kVA} $$"
   ]
  },
  {
   "cell_type": "markdown",
   "metadata": {},
   "source": [
    "c) Corriente secundaria\n",
    "$$ I_2 = \\frac{I_1}{n} = 90 \\, \\mathrm{A} $$"
   ]
  },
  {
   "cell_type": "code",
   "execution_count": 33,
   "metadata": {},
   "outputs": [],
   "source": [
    "# Datos:\n",
    "V1 = 3300 # V\n",
    "V2 =  110 # V\n",
    "I1 =    3 # A"
   ]
  },
  {
   "cell_type": "code",
   "execution_count": 35,
   "metadata": {},
   "outputs": [],
   "source": [
    "# item a) razón de vueltas.\n",
    "n = V2/V1\n",
    "# item c) corriente secundaria.\n",
    "I2 = I1/n\n",
    "# item b) capacidad nominal en kVA.\n",
    "S = V2*I2"
   ]
  },
  {
   "cell_type": "code",
   "execution_count": 36,
   "metadata": {
    "jupyter": {
     "source_hidden": true
    }
   },
   "outputs": [
    {
     "name": "stdout",
     "output_type": "stream",
     "text": [
      "a) Razón de vualtas:     n  = 0.03333\n",
      "b) Capacidad nominal:    S  = 9.90 kVA\n",
      "c) Corriente secundaria: I2 = 90.0 A\n"
     ]
    }
   ],
   "source": [
    "print('a) Razón de vualtas:     n  = %.5f'%n)\n",
    "print('b) Capacidad nominal:    S  = %.2f kVA'%(S/1000) )\n",
    "print('c) Corriente secundaria: I2 = %.1f A'%I2)"
   ]
  },
  {
   "cell_type": "code",
   "execution_count": 37,
   "metadata": {},
   "outputs": [],
   "source": [
    "%reset -s -f"
   ]
  },
  {
   "cell_type": "markdown",
   "metadata": {},
   "source": [
    "## Ejemplo 13.8\n",
    "En referencia al circuito con transformador ideal de la figura, halle:\n",
    "1. la corriente $I_1$\n",
    "2. la tensión de salida $V_0$\n",
    "3. la potencia compleja suministrada por la fuente."
   ]
  },
  {
   "cell_type": "markdown",
   "metadata": {},
   "source": [
    "<img src=\"img/fig13-37.png\">"
   ]
  },
  {
   "cell_type": "markdown",
   "metadata": {},
   "source": [
    "### Solución"
   ]
  },
  {
   "cell_type": "code",
   "execution_count": 38,
   "metadata": {},
   "outputs": [],
   "source": [
    "import cmath\n",
    "import numpy as np"
   ]
  },
  {
   "cell_type": "code",
   "execution_count": 39,
   "metadata": {},
   "outputs": [],
   "source": [
    "# Datos:\n",
    "Vs = 120\n",
    "Z1 = 4 - 6j # Ohm\n",
    "Z2 = 20 # Ohm\n",
    "n = 2"
   ]
  },
  {
   "cell_type": "code",
   "execution_count": 43,
   "metadata": {},
   "outputs": [],
   "source": [
    "# a) La impedancia Z2 puede reflejarse en el lado primario\n",
    "ZR = Z2/n**2\n",
    "Zent = Z1 + ZR\n",
    "I1 = Vs/Zent\n",
    "# b) Puesto que tanto I1 como I2 salen de las terminales marcas\n",
    "I2 = -(1/n)*I1\n",
    "Vo = I2*Z2\n",
    "# c) La potencia compleja suministrada es\n",
    "S = Vs*I1.conjugate()"
   ]
  },
  {
   "cell_type": "code",
   "execution_count": 50,
   "metadata": {
    "jupyter": {
     "source_hidden": true
    }
   },
   "outputs": [
    {
     "name": "stdout",
     "output_type": "stream",
     "text": [
      "a) La impedancia Z2 puede reflejarse en el lado primario\n",
      "   I1 = (11.09 < 33.69°) A\n",
      "b) Puesto que tanto I1 como I2 salen de las terminales marcas\n",
      "   I2 = (5.55 < -146.31°) A\n",
      "   Vo = (110.94 < -146.31°) V\n",
      "c) La potencia compleja suministrada es\n",
      "   S  = (1331.28 < -33.69) VA\n"
     ]
    }
   ],
   "source": [
    "print('a) La impedancia Z2 puede reflejarse en el lado primario')\n",
    "print('   I1 = (%.2f < %.2f°) A'%(abs(I1) , np.rad2deg( cmath.phase(I1) ) ))\n",
    "print('b) Puesto que tanto I1 como I2 salen de las terminales marcas')\n",
    "print('   I2 = (%.2f < %.2f°) A'%(abs(I2) , np.rad2deg( cmath.phase(I2) ) ))\n",
    "print('   Vo = (%.2f < %.2f°) V'%(abs(Vo) , np.rad2deg( cmath.phase(Vo) ) ))\n",
    "print('c) La potencia compleja suministrada es')\n",
    "print('   S  = (%.2f < %.2f) VA'%(abs(S) , np.rad2deg( cmath.phase(S) )))"
   ]
  },
  {
   "cell_type": "code",
   "execution_count": 51,
   "metadata": {},
   "outputs": [],
   "source": [
    "%reset -s -f"
   ]
  },
  {
   "cell_type": "markdown",
   "metadata": {},
   "source": [
    "## Problema de práctica 13.8\n",
    "En el circuito con transformador ideal de la figura, halle $V_0$ y la potencia compleja suministrada por la fuente."
   ]
  },
  {
   "cell_type": "markdown",
   "metadata": {},
   "source": [
    "<img src=\"img/fig13-38.png\">"
   ]
  },
  {
   "cell_type": "markdown",
   "metadata": {},
   "source": [
    "### Solución"
   ]
  },
  {
   "cell_type": "code",
   "execution_count": 52,
   "metadata": {},
   "outputs": [],
   "source": [
    "import cmath\n",
    "import numpy as np"
   ]
  },
  {
   "cell_type": "code",
   "execution_count": 57,
   "metadata": {},
   "outputs": [],
   "source": [
    "# Datos:\n",
    "Vs = 120 # V\n",
    "Z1 = 2 # Ohm\n",
    "Z2 = 16 - 24j # Ohm\n",
    "C1 = -24j # Ohm\n",
    "n = 4"
   ]
  },
  {
   "cell_type": "code",
   "execution_count": 58,
   "metadata": {},
   "outputs": [],
   "source": [
    "ZR = Z2/n**2\n",
    "Zent = Z1 + ZR\n",
    "I1 = Vs/Zent\n",
    "I2 = -(1/n)*I1\n",
    "Vo = I2*C1\n",
    "S = Vs*I1.conjugate()"
   ]
  },
  {
   "cell_type": "code",
   "execution_count": 61,
   "metadata": {
    "jupyter": {
     "source_hidden": true
    }
   },
   "outputs": [
    {
     "name": "stdout",
     "output_type": "stream",
     "text": [
      "Vo = (214.7 < 116.57°) V\n",
      "S  = (4.293 < -26.57) kVA\n"
     ]
    }
   ],
   "source": [
    "print('Vo = (%.1f < %.2f°) V'%(abs(Vo) , np.rad2deg( cmath.phase(Vo) ) ))\n",
    "print('S  = (%.3f < %.2f) kVA'%(abs(S)/1e3 , np.rad2deg( cmath.phase(S) )))"
   ]
  },
  {
   "cell_type": "code",
   "execution_count": 62,
   "metadata": {},
   "outputs": [],
   "source": [
    "%reset -s -f"
   ]
  },
  {
   "cell_type": "markdown",
   "metadata": {},
   "source": [
    "## Ejemplo 13.9\n",
    "Calcule la potencia suministrada a la resistencia de $10 \\, \\Omega$ en el circuito con transformador ideal de la figura."
   ]
  },
  {
   "cell_type": "markdown",
   "metadata": {},
   "source": [
    "<img src=\"img/fig13-39.png\">"
   ]
  },
  {
   "cell_type": "markdown",
   "metadata": {},
   "source": [
    "## Solución\n",
    "En este circuito no puede realizarse el reflejo en el lado secundario o primario; hay una conexión directa entre los lados primario y secundario debido al resistor de $30 \\, \\Omega$. Se aplica el análisis de lazos."
   ]
  },
  {
   "cell_type": "markdown",
   "metadata": {},
   "source": [
    "En cuanto al lazo 1\n",
    "$$ -120 + (20 + 30)I_1 - 30I_2 + V_1 = 0  $$"
   ]
  },
  {
   "cell_type": "markdown",
   "metadata": {},
   "source": [
    "o sea\n",
    "$$ 50 I_1 - 30 I_2 + V_1 = 120 \\tag{1} $$"
   ]
  },
  {
   "cell_type": "markdown",
   "metadata": {},
   "source": [
    "En cuanto al lazo 2\n",
    "$$ -V_2 + (10 + 30)I_2 + 30I_2 = 0 $$"
   ]
  },
  {
   "cell_type": "markdown",
   "metadata": {},
   "source": [
    "o sea\n",
    "$$ -30I_1 + 40I_2 + V_2 = 0 \\tag{2} $$"
   ]
  },
  {
   "cell_type": "markdown",
   "metadata": {},
   "source": [
    "En las terminales del transformador"
   ]
  },
  {
   "cell_type": "markdown",
   "metadata": {},
   "source": [
    "$$ V_2 = - \\frac{1}{2} V_1 \\tag{3} $$"
   ]
  },
  {
   "cell_type": "markdown",
   "metadata": {},
   "source": [
    "$$ I_2 = 2 I_1 \\tag{4} $$"
   ]
  },
  {
   "cell_type": "markdown",
   "metadata": {},
   "source": [
    "(Nótese que $n = 1/2$) Ahora se tiene cuatro ecuaciones y cuatro incógnitas, pero la meta es obtener $I_2$. Así, se sustituye $V_1$ e $I_1$ en términos de $V_2$ e $I_2$ en las ecuaciones (1) y (2). La ecuación (1) se convierte en"
   ]
  },
  {
   "cell_type": "markdown",
   "metadata": {},
   "source": [
    "$$ -55 I_1 - 2 V_2 = 120 \\tag{5} $$"
   ]
  },
  {
   "cell_type": "markdown",
   "metadata": {},
   "source": [
    "y la ecuación (2) en\n",
    "$$ 15 I_2 + 40 I_2 - V_2 = 0 $$"
   ]
  },
  {
   "cell_type": "markdown",
   "metadata": {},
   "source": [
    "$$ V_2 = 55 I_2 \\tag{6} $$"
   ]
  },
  {
   "cell_type": "markdown",
   "metadata": {},
   "source": [
    "Al sustituir la ecuación (6) en la ecuación (5)"
   ]
  },
  {
   "cell_type": "markdown",
   "metadata": {},
   "source": [
    "$$ -165 I_2 = 120 $$"
   ]
  },
  {
   "cell_type": "markdown",
   "metadata": {},
   "source": [
    "$$ I_2 = - \\frac{120}{165} = - 0,7272 \\, \\mathrm{A} $$"
   ]
  },
  {
   "cell_type": "markdown",
   "metadata": {},
   "source": [
    "La potencia absorbida por la resistencia de $10 \\, \\Omega$ es"
   ]
  },
  {
   "cell_type": "markdown",
   "metadata": {},
   "source": [
    "$$ P = I_2^2 Z_2 = 5,3 \\, \\mathrm{W} $$"
   ]
  },
  {
   "cell_type": "code",
   "execution_count": 2,
   "metadata": {},
   "outputs": [],
   "source": [
    "# Datos:\n",
    "Vs = 120 # V (rms)\n",
    "Z1 = 20 # Ohm\n",
    "Z2 = 10 # Ohm\n",
    "R1 = 30 # Ohm"
   ]
  },
  {
   "cell_type": "markdown",
   "metadata": {},
   "source": [
    "En forma matricial\n",
    "\n",
    "$$\\left[\n",
    "\\begin{array}{cccc}\n",
    "50 & - 30 & 1 & 0 \\\\\n",
    "-30 & 40 & 0 & 1 \\\\\n",
    "0 & 0 & -1/2 & 1 \\\\\n",
    "2 & 1 & 0 & 0 \\\\\n",
    "\\end{array}\n",
    "\\right]\n",
    "\\left[\n",
    "\\begin{array}{c}\n",
    "I_1 \\\\\n",
    "I_2 \\\\\n",
    "V_1 \\\\\n",
    "V_2 \\\\\n",
    "\\end{array}\n",
    "\\right]\n",
    "=\n",
    "\\left[\n",
    "\\begin{array}{c}\n",
    "120 \\\\\n",
    "0 \\\\\n",
    "0 \\\\\n",
    "0 \\\\\n",
    "\\end{array}\n",
    "\\right]$$"
   ]
  },
  {
   "cell_type": "markdown",
   "metadata": {},
   "source": [
    "$$ A I = B $$"
   ]
  },
  {
   "cell_type": "markdown",
   "metadata": {},
   "source": [
    "Entonces\n",
    "$$ I = A^{-1} B $$"
   ]
  },
  {
   "cell_type": "markdown",
   "metadata": {},
   "source": [
    "### Usando numpy"
   ]
  },
  {
   "cell_type": "code",
   "execution_count": 24,
   "metadata": {},
   "outputs": [],
   "source": [
    "import numpy as np\n",
    "import cmath"
   ]
  },
  {
   "cell_type": "code",
   "execution_count": 4,
   "metadata": {},
   "outputs": [],
   "source": [
    "A = np.array([[50,-30,1,0],[-30,40,0,1],[0,0,-1/2,1],[2,1,0,0]])\n",
    "B = np.array([[120],[0],[0],[0]])"
   ]
  },
  {
   "cell_type": "code",
   "execution_count": 5,
   "metadata": {},
   "outputs": [],
   "source": [
    "I = np.dot( np.linalg.inv(A) , B )"
   ]
  },
  {
   "cell_type": "code",
   "execution_count": 6,
   "metadata": {},
   "outputs": [],
   "source": [
    "I1 = I[0] ; I2 = I[1]\n",
    "P = I2**2 * Z2"
   ]
  },
  {
   "cell_type": "code",
   "execution_count": 7,
   "metadata": {},
   "outputs": [
    {
     "name": "stdout",
     "output_type": "stream",
     "text": [
      "I1 = 0.3636 A\n",
      "I2 = -0.7273 A\n",
      "P = 5.29 W\n"
     ]
    }
   ],
   "source": [
    "print('I1 = %.4f A'%I[0])\n",
    "print('I2 = %.4f A'%I[1])\n",
    "print('P = %.2f W'%P)"
   ]
  },
  {
   "cell_type": "markdown",
   "metadata": {},
   "source": [
    "### Usando sympy"
   ]
  },
  {
   "cell_type": "code",
   "execution_count": 8,
   "metadata": {},
   "outputs": [],
   "source": [
    "import sympy as sp"
   ]
  },
  {
   "cell_type": "code",
   "execution_count": 27,
   "metadata": {},
   "outputs": [
    {
     "data": {
      "text/latex": [
       "$\\displaystyle \\left[\\begin{matrix}50 & -30 & 1 & 0 & 120\\\\-30 & 40 & 0 & 1 & 0\\\\0 & 0 & -0.5 & 1 & 0\\\\2 & 1 & 0 & 0 & 0\\end{matrix}\\right]$"
      ],
      "text/plain": [
       "Matrix([\n",
       "[ 50, -30,    1, 0, 120],\n",
       "[-30,  40,    0, 1,   0],\n",
       "[  0,   0, -0.5, 1,   0],\n",
       "[  2,   1,    0, 0,   0]])"
      ]
     },
     "execution_count": 27,
     "metadata": {},
     "output_type": "execute_result"
    }
   ],
   "source": [
    "M = sp.Matrix([[50,-30,1,0,120],[-30,40,0,1,0],[0,0,-1/2,1,0],[2,1,0,0,0]])\n",
    "M"
   ]
  },
  {
   "cell_type": "code",
   "execution_count": 30,
   "metadata": {},
   "outputs": [],
   "source": [
    "S = M.rref()\n",
    "Sol = S[0]"
   ]
  },
  {
   "cell_type": "code",
   "execution_count": 37,
   "metadata": {},
   "outputs": [
    {
     "data": {
      "text/latex": [
       "$\\displaystyle \\left[\\begin{matrix}1 & 0 & 0 & 0 & 0.363636363636364\\\\0 & 1 & 0 & 0 & -0.727272727272727\\\\0 & 0 & 1 & 0 & 80.0\\\\0 & 0 & 0 & 1 & 40.0\\end{matrix}\\right]$"
      ],
      "text/plain": [
       "Matrix([\n",
       "[1, 0, 0, 0,  0.363636363636364],\n",
       "[0, 1, 0, 0, -0.727272727272727],\n",
       "[0, 0, 1, 0,               80.0],\n",
       "[0, 0, 0, 1,               40.0]])"
      ]
     },
     "execution_count": 37,
     "metadata": {},
     "output_type": "execute_result"
    }
   ],
   "source": [
    "Sol"
   ]
  },
  {
   "cell_type": "code",
   "execution_count": 46,
   "metadata": {},
   "outputs": [],
   "source": [
    "I1 = Sol[0,4]\n",
    "I2 = Sol[1,4]\n",
    "V1 = Sol[2,4]\n",
    "V2 = Sol[3,4]"
   ]
  },
  {
   "cell_type": "code",
   "execution_count": 48,
   "metadata": {},
   "outputs": [],
   "source": [
    "%reset -s -f"
   ]
  },
  {
   "cell_type": "markdown",
   "metadata": {},
   "source": []
  }
 ],
 "metadata": {
  "kernelspec": {
   "display_name": "Python 3",
   "language": "python",
   "name": "python3"
  },
  "language_info": {
   "codemirror_mode": {
    "name": "ipython",
    "version": 3
   },
   "file_extension": ".py",
   "mimetype": "text/x-python",
   "name": "python",
   "nbconvert_exporter": "python",
   "pygments_lexer": "ipython3",
   "version": "3.7.6"
  }
 },
 "nbformat": 4,
 "nbformat_minor": 4
}
