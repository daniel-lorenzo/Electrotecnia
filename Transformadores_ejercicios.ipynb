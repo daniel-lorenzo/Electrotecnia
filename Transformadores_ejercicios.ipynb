{
 "cells": [
  {
   "cell_type": "markdown",
   "metadata": {},
   "source": [
    "# Transformadores ejercicios\n",
    "__UNLZ - Facultad de Ingeniería__       \n",
    "__Electrotecnia__      \n",
    "__Alumno:__ Daniel Antonio Lorenzo"
   ]
  },
  {
   "cell_type": "markdown",
   "metadata": {},
   "source": [
    "<a href=\"https://colab.research.google.com/github/daniel-lorenzo/Electrotecnia/blob/master/Transformadores_ejercicios.ipynb\"><img align=\"left\" src=\"https://colab.research.google.com/assets/colab-badge.svg\" alt=\"Open in Colab\" title=\"Open and Execute in Google Colaboratory\"></a>"
   ]
  },
  {
   "cell_type": "markdown",
   "metadata": {},
   "source": [
    "## Ejercicio 13.7\n",
    "En relación con el circuito de la figura, halle $V_0$"
   ]
  },
  {
   "cell_type": "markdown",
   "metadata": {},
   "source": [
    "<img src=\"img/prob13-7.png\">"
   ]
  },
  {
   "cell_type": "markdown",
   "metadata": {},
   "source": [
    "### Solución\n",
    "Aplicamos el análisis de malla al circuito"
   ]
  },
  {
   "cell_type": "markdown",
   "metadata": {},
   "source": [
    "<img src=\"img/prob13-7-2.png\">"
   ]
  },
  {
   "cell_type": "markdown",
   "metadata": {},
   "source": [
    "Para la malla 1\n",
    "$$ 12 = I_1 (2+j6) + jI_2 \\tag{1} $$"
   ]
  },
  {
   "cell_type": "markdown",
   "metadata": {},
   "source": [
    "Para la malla 2\n",
    "$$ 0 = jI_1 + (2+j3)I_2 \\tag{2} $$"
   ]
  },
  {
   "cell_type": "markdown",
   "metadata": {},
   "source": [
    "En forma matricial\n",
    "$$\\left[\n",
    "\\begin{array}{c}\n",
    "12 \\\\\n",
    "0\n",
    "\\end{array}\n",
    "\\right]\n",
    "=\n",
    "\\left[\n",
    "\\begin{array}{cc}\n",
    "2+j6 & j \\\\\n",
    "j & 2+j3\n",
    "\\end{array}\n",
    "\\right]\n",
    "\\left[\n",
    "\\begin{array}{c}\n",
    "I_1 \\\\\n",
    "I_2\n",
    "\\end{array}\n",
    "\\right]$$"
   ]
  },
  {
   "cell_type": "code",
   "execution_count": 1,
   "metadata": {},
   "outputs": [],
   "source": [
    "import numpy as np\n",
    "import cmath"
   ]
  },
  {
   "cell_type": "code",
   "execution_count": 5,
   "metadata": {},
   "outputs": [],
   "source": [
    "B = np.array([[12],[0]])\n",
    "A = np.array([[2+6j,1j],[1j,2+3j]])\n",
    "R3 = 1 # Ohm\n",
    "\n",
    "I = np.dot( np.linalg.inv(A) , B )\n",
    "\n",
    "I1 = I[0] ; I2 = I[1]\n",
    "Vo = I2*R3"
   ]
  },
  {
   "cell_type": "code",
   "execution_count": 7,
   "metadata": {
    "jupyter": {
     "source_hidden": true
    }
   },
   "outputs": [
    {
     "name": "stdout",
     "output_type": "stream",
     "text": [
      "Resultados:\n",
      "I1 = (1.95 < -69.53°) A\n",
      "I2 = (0.54 < 144.16°) A\n",
      "Vo = (540.45 < 144.16°) mV\n"
     ]
    }
   ],
   "source": [
    "print('Resultados:')\n",
    "print('I1 = (%.2f < %.2f°) A'%(abs(I[0]) , np.rad2deg( cmath.phase(I[0]) ) ))\n",
    "print('I2 = (%.2f < %.2f°) A'%(abs(I[1]) , np.rad2deg( cmath.phase(I[1]) ) ))\n",
    "print('Vo = (%.2f < %.2f°) mV'%(abs(Vo)*1e3 , np.rad2deg( cmath.phase(Vo) ) ))"
   ]
  },
  {
   "cell_type": "code",
   "execution_count": 8,
   "metadata": {},
   "outputs": [],
   "source": [
    "%reset -s -f"
   ]
  },
  {
   "cell_type": "code",
   "execution_count": null,
   "metadata": {},
   "outputs": [],
   "source": []
  }
 ],
 "metadata": {
  "kernelspec": {
   "display_name": "Python 3",
   "language": "python",
   "name": "python3"
  },
  "language_info": {
   "codemirror_mode": {
    "name": "ipython",
    "version": 3
   },
   "file_extension": ".py",
   "mimetype": "text/x-python",
   "name": "python",
   "nbconvert_exporter": "python",
   "pygments_lexer": "ipython3",
   "version": "3.7.6"
  }
 },
 "nbformat": 4,
 "nbformat_minor": 4
}
