{
 "cells": [
  {
   "cell_type": "markdown",
   "metadata": {},
   "source": [
    "# Circuitos magnéticamente acoplados"
   ]
  },
  {
   "cell_type": "markdown",
   "metadata": {},
   "source": [
    "1. Se dice que dos bobinas están acopladas mutuamente si el flujo magnético $\\phi$ que emana de una de ellas pasa por la otra. La inductancia mutua entre las dos bobinas está dada por"
   ]
  },
  {
   "cell_type": "markdown",
   "metadata": {},
   "source": [
    "$$ M = k \\sqrt{L_1 L_2} $$"
   ]
  },
  {
   "cell_type": "markdown",
   "metadata": {},
   "source": [
    "donde $k$ es el coeficiente de acoplamiento $0<k<1$."
   ]
  },
  {
   "cell_type": "markdown",
   "metadata": {},
   "source": [
    "<div class=\"alert-success\">La <strong>inductancia mutua</strong> es la capacidad de un inductor de inducir una tensión en un inductor cercano, medida en henrys (H).\n",
    "    </div>"
   ]
  },
  {
   "cell_type": "markdown",
   "metadata": {},
   "source": [
    "2. Si $v_1$ e $i_1$ son la tensión y la corriente en la bobina 1, mientras que $v_2$ e $i_2$ son la tensión y la corriente en la bobina 2, entonces"
   ]
  },
  {
   "cell_type": "markdown",
   "metadata": {},
   "source": [
    "$$ v_1 = L_1 \\frac{di_1}{dt} + M \\frac{di_2}{dt} \\qquad \\mbox{y} \\qquad v_2 = L_2 \\frac{di_2}{dt} + M \\frac{di_1}{dt} $$"
   ]
  },
  {
   "cell_type": "markdown",
   "metadata": {},
   "source": [
    "Así, la tensión inducida en una bobina acoplada consta de la tensión autoinducida y la tensión mutua."
   ]
  },
  {
   "cell_type": "markdown",
   "metadata": {},
   "source": [
    "3. La polaridad de la tensión inducida mutuamente se expresa en diagramas mediante la convención de las marcas de polaridad"
   ]
  },
  {
   "cell_type": "markdown",
   "metadata": {},
   "source": [
    "4. La energía almacenada en las dos bobinas acopladas es"
   ]
  },
  {
   "cell_type": "markdown",
   "metadata": {},
   "source": [
    "$$ \\frac{1}{2} L_1 i_1^2 + \\frac{1}{2} L_2 i_2^2 \\pm Mi_1i_2 $$"
   ]
  },
  {
   "cell_type": "markdown",
   "metadata": {},
   "source": [
    "5. Un transformador es un dispositivo de cuatro terminales que contiene dos o más bobinas acopladas magnéticamente. Se emplea para modificar el nivel de corriente, tensión o impedancia en un circuito."
   ]
  },
  {
   "cell_type": "markdown",
   "metadata": {},
   "source": [
    "6. Las bobinas de un transformador lineal (o acoplado con holgura) están devanadas magéticamente en un material lineal. Este transformador puede reemplazarse por una red T o $\\Pi$ equivalente para efectos de análisis."
   ]
  },
  {
   "cell_type": "markdown",
   "metadata": {},
   "source": [
    "7. Un transformador ideal (o con núcleo de hierro) es un transformador sin pérdidas $(R_1=R_2=R_3)=0$ con coeficiente de acoplamiento unitario $(k=1)$ e inductancias infinitas $(L_1, \\, L_2, \\,M \\rightarrow \\infty)$."
   ]
  },
  {
   "cell_type": "markdown",
   "metadata": {},
   "source": [
    "8. En un transformador ideal"
   ]
  },
  {
   "cell_type": "markdown",
   "metadata": {},
   "source": [
    "$$ V_2 = n V_1 \\qquad I_2 = \\frac{I_1}{n} \\qquad S_1 = S_2 \\qquad Z_R = \\frac{Z_L}{n^2} $$"
   ]
  },
  {
   "cell_type": "markdown",
   "metadata": {},
   "source": [
    "donde $n=N_2/N_1$, es la relación de vueltas. $N_1$ es el número de vueltas del devanado primario y $N_2$ el número de vueltas del devanado secundario. El transformador aumenta la tensión primaria cuando $n>1$, la reduce cuando $n<1$ o sirve como dispositivo acoplador cuando $n=1$."
   ]
  },
  {
   "cell_type": "markdown",
   "metadata": {},
   "source": [
    "9. Un autotransformador es un transformador con un mismo devanado común a los circuitos primario y secundario."
   ]
  },
  {
   "cell_type": "markdown",
   "metadata": {},
   "source": [
    "10. Los transformadores son necesarios en todas las etapas de los sistemas de distribución de potencia. Las tensiones trifásicas pueden aumentarse o reducirse mediante transformadores trifásicos."
   ]
  },
  {
   "cell_type": "markdown",
   "metadata": {},
   "source": [
    "11. Usos importantes de los transformadores en aplicaciones electrónicas son como dispositivos de aislamiento eléctrico y como dispositivos de acoplamiento de impedancias."
   ]
  },
  {
   "cell_type": "markdown",
   "metadata": {},
   "source": [
    "## Ejemplo 13.1\n",
    "Calcule las corrientes fasoriales $I_1$ e $I_2$ del circuito de la figura"
   ]
  },
  {
   "cell_type": "markdown",
   "metadata": {},
   "source": [
    "<img src=\"img/ej13-1.png\">"
   ]
  },
  {
   "cell_type": "markdown",
   "metadata": {},
   "source": [
    "### Solución\n",
    "En relación con la bobina 1, la LTK da como resultado"
   ]
  },
  {
   "cell_type": "markdown",
   "metadata": {},
   "source": [
    "$$ -12 + (-j4 + j5)I_1 - j3 I_2 = 0 $$"
   ]
  },
  {
   "cell_type": "markdown",
   "metadata": {},
   "source": [
    "o sea\n",
    "$$ jI_1 - j3I_2 = 12 \\tag{1} $$"
   ]
  },
  {
   "cell_type": "markdown",
   "metadata": {},
   "source": [
    "En la bobina 2, la LTK da por resultado"
   ]
  },
  {
   "cell_type": "markdown",
   "metadata": {},
   "source": [
    "$$ -j3I_1 + (12 + j6)I_2 = 0 $$"
   ]
  },
  {
   "cell_type": "markdown",
   "metadata": {},
   "source": [
    "o sea\n",
    "$$ I_1 = \\frac{(12 + j6)I_2}{j3} = (2 - j4)I_2 \\tag{2} $$"
   ]
  },
  {
   "cell_type": "markdown",
   "metadata": {},
   "source": [
    "Al sustituir (2) en (1) se obtiene"
   ]
  },
  {
   "cell_type": "markdown",
   "metadata": {},
   "source": [
    "$$ j(2 - j4)I_2 - j3I_2 = 12 $$"
   ]
  },
  {
   "cell_type": "markdown",
   "metadata": {},
   "source": [
    "$$ (j2 + 4)I_2 - j3I_2 = 12 $$"
   ]
  },
  {
   "cell_type": "markdown",
   "metadata": {},
   "source": [
    "$$ I_2(4 - j) = 12 $$"
   ]
  },
  {
   "cell_type": "markdown",
   "metadata": {},
   "source": [
    "$$ I_2 = \\frac{12}{4-j} = 2,91 \\angle 14,04^\\circ \\, \\mathrm{A} \\tag{3} $$"
   ]
  },
  {
   "cell_type": "markdown",
   "metadata": {},
   "source": [
    "Con base en las ecuaciones (2) y (3)"
   ]
  },
  {
   "cell_type": "markdown",
   "metadata": {},
   "source": [
    "$$ I_1 = (2-j4)I_2 = (4,472 \\angle -63,43^\\circ) \\cdot (2,91 \\angle 14,04^\\circ) $$"
   ]
  },
  {
   "cell_type": "markdown",
   "metadata": {},
   "source": [
    "$$ I_1 = 13,02 \\angle -49,40^\\circ \\, \\mathrm{A} $$"
   ]
  },
  {
   "cell_type": "markdown",
   "metadata": {},
   "source": [
    "### Usando sympy"
   ]
  },
  {
   "cell_type": "code",
   "execution_count": 1,
   "metadata": {},
   "outputs": [],
   "source": [
    "import sympy as sp"
   ]
  },
  {
   "cell_type": "code",
   "execution_count": 5,
   "metadata": {},
   "outputs": [],
   "source": [
    "import math, cmath"
   ]
  },
  {
   "cell_type": "code",
   "execution_count": 2,
   "metadata": {},
   "outputs": [],
   "source": [
    "I1, I2 = sp.symbols('I1 I2')\n",
    "Eq1 = sp.Eq(-12 + (-4j + 5j)*I1 - 3j*I2 , 0)\n",
    "Eq2 = sp.Eq(-3j*I1 + (12 + 6j)*I2 , 0)"
   ]
  },
  {
   "cell_type": "code",
   "execution_count": 3,
   "metadata": {},
   "outputs": [],
   "source": [
    "Sol = sp.solve([Eq1,Eq2],[I1,I2])"
   ]
  },
  {
   "cell_type": "code",
   "execution_count": 9,
   "metadata": {
    "jupyter": {
     "source_hidden": true
    }
   },
   "outputs": [
    {
     "name": "stdout",
     "output_type": "stream",
     "text": [
      "I1 = (13.02 < -49.40°) A\n",
      "I2 = (2.91 < 14.04°) A\n"
     ]
    }
   ],
   "source": [
    "print('I1 = (%.2f < %.2f°) A'%( abs(Sol[I1]) , math.degrees( cmath.phase(Sol[I1] ) ) ) )\n",
    "print('I2 = (%.2f < %.2f°) A'%( abs(Sol[I2]) , math.degrees( cmath.phase(Sol[I2] ) ) ) )"
   ]
  },
  {
   "cell_type": "markdown",
   "metadata": {},
   "source": [
    "### Por regla de Cramer, (usando numpy)"
   ]
  },
  {
   "cell_type": "markdown",
   "metadata": {},
   "source": [
    "$$\\left[\n",
    "\\begin{array}{cc}\n",
    "1j & -3j \\\\\n",
    "-3j & 12+6j\n",
    "\\end{array}\n",
    "\\right]\n",
    "\\left[\n",
    "\\begin{array}{c}\n",
    "I_1 \\\\\n",
    "I_2\n",
    "\\end{array}\n",
    "\\right]\n",
    "=\n",
    "\\left[\n",
    "\\begin{array}{c}\n",
    "12 \\\\\n",
    "0\n",
    "\\end{array}\n",
    "\\right]$$"
   ]
  },
  {
   "cell_type": "code",
   "execution_count": 2,
   "metadata": {},
   "outputs": [],
   "source": [
    "import numpy as np"
   ]
  },
  {
   "cell_type": "code",
   "execution_count": 3,
   "metadata": {},
   "outputs": [],
   "source": [
    "M = np.array([[1j , -3j],[-3j , 12+6j] ])\n",
    "M1 = np.array([[12 , -3j],[0 , 12+6j] ])\n",
    "M2 = np.array([[1j , 12],[-3j , 0] ])"
   ]
  },
  {
   "cell_type": "code",
   "execution_count": 4,
   "metadata": {},
   "outputs": [],
   "source": [
    "Delta = np.linalg.det(M)\n",
    "Delta1 = np.linalg.det(M1)\n",
    "Delta2 = np.linalg.det(M2)\n",
    "I1 = Delta1/Delta\n",
    "I2 = Delta2/Delta"
   ]
  },
  {
   "cell_type": "markdown",
   "metadata": {},
   "source": [
    "$$\\Delta = \\left|\n",
    "\\begin{array}{cc}\n",
    "1j & -3j \\\\\n",
    "-3j & 12+6j\n",
    "\\end{array}\n",
    "\\right| $$"
   ]
  },
  {
   "cell_type": "code",
   "execution_count": 26,
   "metadata": {},
   "outputs": [
    {
     "name": "stdout",
     "output_type": "stream",
     "text": [
      "Delta = 3.00+12.00j\n"
     ]
    }
   ],
   "source": [
    "print('Delta = {:.2f}'.format(Delta))"
   ]
  },
  {
   "cell_type": "markdown",
   "metadata": {},
   "source": [
    "$$\\Delta_1 = \\left|\n",
    "\\begin{array}{cc}\n",
    "12 & -3j \\\\\n",
    "0 & 12+6j\n",
    "\\end{array}\n",
    "\\right| $$"
   ]
  },
  {
   "cell_type": "code",
   "execution_count": 27,
   "metadata": {},
   "outputs": [
    {
     "name": "stdout",
     "output_type": "stream",
     "text": [
      "Delta1 = 144.00+72.00j\n"
     ]
    }
   ],
   "source": [
    "print('Delta1 = {:.2f}'.format(Delta1))"
   ]
  },
  {
   "cell_type": "markdown",
   "metadata": {},
   "source": [
    "$$\\Delta_2 = \\left|\n",
    "\\begin{array}{cc}\n",
    "1j & 12 \\\\\n",
    "-3j & 0\n",
    "\\end{array}\n",
    "\\right| $$"
   ]
  },
  {
   "cell_type": "code",
   "execution_count": 28,
   "metadata": {},
   "outputs": [
    {
     "name": "stdout",
     "output_type": "stream",
     "text": [
      "Delta2 = 0.00+36.00j\n"
     ]
    }
   ],
   "source": [
    "print('Delta2 = {:.2f}'.format(Delta2))"
   ]
  },
  {
   "cell_type": "markdown",
   "metadata": {},
   "source": [
    "$$ I_1 = \\frac{\\Delta_1}{\\Delta} \\qquad ; \\qquad I_2 = \\frac{\\Delta_2}{\\Delta} $$"
   ]
  },
  {
   "cell_type": "code",
   "execution_count": 9,
   "metadata": {
    "jupyter": {
     "source_hidden": true
    }
   },
   "outputs": [
    {
     "name": "stdout",
     "output_type": "stream",
     "text": [
      "I1 = (13.02 < -49.40°) A\n",
      "I2 = (2.91 < 14.04°) A\n"
     ]
    }
   ],
   "source": [
    "print('I1 = (%.2f < %.2f°) A'%(abs(I1) , math.degrees( cmath.phase(I1) )))\n",
    "print('I2 = (%.2f < %.2f°) A'%(abs(I2) , math.degrees( cmath.phase(I2) )))"
   ]
  },
  {
   "cell_type": "markdown",
   "metadata": {},
   "source": [
    "### Otro método"
   ]
  },
  {
   "cell_type": "markdown",
   "metadata": {},
   "source": [
    "$$\\left[\n",
    "\\begin{array}{cc}\n",
    "1j & -3j \\\\\n",
    "-3j & 12+6j\n",
    "\\end{array}\n",
    "\\right]\n",
    "\\left[\n",
    "\\begin{array}{c}\n",
    "I_1 \\\\\n",
    "I_2\n",
    "\\end{array}\n",
    "\\right]\n",
    "=\n",
    "\\left[\n",
    "\\begin{array}{c}\n",
    "12 \\\\\n",
    "0\n",
    "\\end{array}\n",
    "\\right]$$"
   ]
  },
  {
   "cell_type": "markdown",
   "metadata": {},
   "source": [
    "$$ A I = B $$"
   ]
  },
  {
   "cell_type": "markdown",
   "metadata": {},
   "source": [
    "Entonces\n",
    "$$ I = A^{-1} B $$"
   ]
  },
  {
   "cell_type": "code",
   "execution_count": 29,
   "metadata": {},
   "outputs": [],
   "source": [
    "Ap = np.linalg.inv(M)\n",
    "B = np.array([[12] , [0]])\n",
    "I = np.dot(Ap , B)"
   ]
  },
  {
   "cell_type": "code",
   "execution_count": 30,
   "metadata": {
    "jupyter": {
     "source_hidden": true
    }
   },
   "outputs": [
    {
     "name": "stdout",
     "output_type": "stream",
     "text": [
      "I1 = (13.02 < -49.40) A\n",
      "I2 = (2.91 < 14.04) A\n"
     ]
    }
   ],
   "source": [
    "print('I1 = (%.2f < %.2f) A'%(abs(I[0]) , math.degrees( cmath.phase(I[0]) ) ))\n",
    "print('I2 = (%.2f < %.2f) A'%(abs(I[1]) , math.degrees( cmath.phase(I[1]) ) ))"
   ]
  },
  {
   "cell_type": "code",
   "execution_count": 31,
   "metadata": {},
   "outputs": [],
   "source": [
    "%reset -s -f"
   ]
  },
  {
   "cell_type": "markdown",
   "metadata": {},
   "source": [
    "## Problema de práctica 13.1\n",
    "Determine la tensión $V_0$ en el circuito de la figura."
   ]
  },
  {
   "cell_type": "markdown",
   "metadata": {},
   "source": [
    "<img src=\"img/ejp13-1.png\">"
   ]
  },
  {
   "cell_type": "markdown",
   "metadata": {},
   "source": [
    "### Solución"
   ]
  },
  {
   "cell_type": "code",
   "execution_count": 32,
   "metadata": {},
   "outputs": [],
   "source": [
    "import numpy as np"
   ]
  },
  {
   "cell_type": "code",
   "execution_count": 33,
   "metadata": {},
   "outputs": [],
   "source": [
    "import math, cmath"
   ]
  },
  {
   "cell_type": "code",
   "execution_count": 37,
   "metadata": {},
   "outputs": [],
   "source": [
    "# Datos:\n",
    "Vs = cmath.rect(100 , np.deg2rad(45) ) # V\n",
    "A = np.array([ [4+8j , -1j],[-1j , 10+5j] ])\n",
    "B = np.array([ [Vs],[0] ])"
   ]
  },
  {
   "cell_type": "code",
   "execution_count": 38,
   "metadata": {},
   "outputs": [],
   "source": [
    "I = np.dot(np.linalg.inv(A) , B)"
   ]
  },
  {
   "cell_type": "code",
   "execution_count": 43,
   "metadata": {
    "jupyter": {
     "source_hidden": true
    }
   },
   "outputs": [
    {
     "name": "stdout",
     "output_type": "stream",
     "text": [
      "I1 = (11.18 < -17.86) A\n",
      "I2 = (1.00 < 45.57) A\n"
     ]
    }
   ],
   "source": [
    "print('I1 = (%.2f < %.2f) A'%(abs(I[0]) , np.rad2deg( cmath.phase(I[0]) ) ))\n",
    "print('I2 = (%.2f < %.2f) A'%(abs(I[1]) , np.rad2deg( cmath.phase(I[1]) ) ))"
   ]
  },
  {
   "cell_type": "markdown",
   "metadata": {},
   "source": [
    "$$ V = IR $$"
   ]
  },
  {
   "cell_type": "code",
   "execution_count": 40,
   "metadata": {},
   "outputs": [],
   "source": [
    "I1 = I[0] ; I2 = I[1]\n",
    "R2 = 10 # Ohm\n",
    "Vo = -(I2*R2)  # (caida de tensión)"
   ]
  },
  {
   "cell_type": "code",
   "execution_count": 41,
   "metadata": {
    "jupyter": {
     "source_hidden": true
    }
   },
   "outputs": [
    {
     "name": "stdout",
     "output_type": "stream",
     "text": [
      "Vo = (10.00 < 45.57° V)\n"
     ]
    }
   ],
   "source": [
    "print('Vo = (%.2f < %.2f° V)'%(abs(Vo) , np.rad2deg( cmath.phase(Vo) ) ))"
   ]
  },
  {
   "cell_type": "code",
   "execution_count": 44,
   "metadata": {},
   "outputs": [],
   "source": [
    "A1 = np.array([ [Vs , -1j],[0 , 10+5j] ])\n",
    "A2 = np.array([ [4+8j , Vs],[-1j , 0] ])\n",
    "Delta = np.linalg.det(A)\n",
    "Delta1 = np.linalg.det(A1)\n",
    "Delta2 = np.linalg.det(A2)\n",
    "I1 = Delta1/Delta\n",
    "I2 = Delta2/Delta"
   ]
  },
  {
   "cell_type": "code",
   "execution_count": 45,
   "metadata": {
    "jupyter": {
     "source_hidden": true
    }
   },
   "outputs": [
    {
     "name": "stdout",
     "output_type": "stream",
     "text": [
      "I1 = (11.18 < -17.86) A\n",
      "I2 = (1.00 < 45.57) A\n"
     ]
    }
   ],
   "source": [
    "print('I1 = (%.2f < %.2f) A'%(abs(I1) , np.rad2deg( cmath.phase(I1) ) ))\n",
    "print('I2 = (%.2f < %.2f) A'%(abs(I2) , np.rad2deg( cmath.phase(I2) ) ))"
   ]
  },
  {
   "cell_type": "code",
   "execution_count": 50,
   "metadata": {},
   "outputs": [],
   "source": [
    "Vo = -(I2*R2) # (caida de tensión)"
   ]
  },
  {
   "cell_type": "code",
   "execution_count": 51,
   "metadata": {
    "jupyter": {
     "source_hidden": true
    }
   },
   "outputs": [
    {
     "name": "stdout",
     "output_type": "stream",
     "text": [
      "Vo = (10.00 < -134.43° V)\n"
     ]
    }
   ],
   "source": [
    "print('Vo = (%.2f < %.2f° V)'%(abs(Vo) , np.rad2deg( cmath.phase(Vo) ) ))"
   ]
  },
  {
   "cell_type": "code",
   "execution_count": 52,
   "metadata": {},
   "outputs": [],
   "source": [
    "%reset -s -f"
   ]
  },
  {
   "cell_type": "markdown",
   "metadata": {},
   "source": [
    "## Ejemplo 13.2\n",
    "Calcule las corrientes de malla en el circuito de la figura."
   ]
  },
  {
   "cell_type": "markdown",
   "metadata": {},
   "source": [
    "<img src=\"img/ej13-2.png\">"
   ]
  },
  {
   "cell_type": "markdown",
   "metadata": {},
   "source": [
    "### Solución\n",
    "La clave para analizar un circuito magnéticamente acoplado es conocer la polaridad de la tensión mutua. Se debe aplicar la regla del punto. En la figura, supóngase que la bobina 1 es aquella cuya reactancia es de $6 \\, \\Omega$,  la bobina 2 aquella cuya reactancia es de $8 \\, \\Omega$. Para deducir la polaridad de la tensión mutua en la bobina 1 debida a la corriente $I_2$, se  observa que $I_2$ sale de la terminal marcada de la bobina 2. Puesto que se está aplicando la LTK en el sentido de las manecillas del reloj, esto implica que la tensión mutua es negativa, es decir $-j2I_2$."
   ]
  },
  {
   "cell_type": "markdown",
   "metadata": {},
   "source": [
    "Así, en cuanto al lazo 1 de la figura, la LTK da como resultado"
   ]
  },
  {
   "cell_type": "markdown",
   "metadata": {},
   "source": [
    "$$ -100 + I_1 (4 - j3 + j6) - j6I_2 - j2 I_2 = 0 $$"
   ]
  },
  {
   "cell_type": "markdown",
   "metadata": {},
   "source": [
    "o\n",
    "$$ (4+j3)I_1 - j8I_2 = 100 \\tag{1} $$"
   ]
  },
  {
   "cell_type": "markdown",
   "metadata": {},
   "source": [
    "En consecuencia, en relación con la malla 2 de la figura, la LTK produce"
   ]
  },
  {
   "cell_type": "markdown",
   "metadata": {},
   "source": [
    "$$ -2jI_1 -j6I_1 + (j6 + j8 + j2 \\times 2 + 5)I_2 = 0 $$"
   ]
  },
  {
   "cell_type": "markdown",
   "metadata": {},
   "source": [
    "o\n",
    "$$ -j8I_1 + (5 + j18)I_2 = 0 \\tag{2} $$"
   ]
  },
  {
   "cell_type": "markdown",
   "metadata": {},
   "source": [
    "Al colocar las ecuaciones (1) y (2) en forma matricial se obtiene"
   ]
  },
  {
   "cell_type": "markdown",
   "metadata": {},
   "source": [
    "$$\\left[\n",
    "\\begin{array}{cc}\n",
    "4+j3 & -j8 \\\\\n",
    "-j8 & 5+j18 \n",
    "\\end{array}\n",
    "\\right]\n",
    "\\left[\n",
    "\\begin{array}{c}\n",
    "I_1 \\\\\n",
    "I_2\n",
    "\\end{array}\n",
    "\\right]\n",
    "=\n",
    "\\left[\n",
    "\\begin{array}{c}\n",
    "100 \\\\\n",
    "0\n",
    "\\end{array}\n",
    "\\right]$$"
   ]
  },
  {
   "cell_type": "markdown",
   "metadata": {},
   "source": [
    "Alternativamnete, podría ser mejor deducir la tensión mutua redibujando la porción pertinente del circuito, como se muestra en la fig., donde resulta claro que la tensión mutua es $V_1 = -2jI_2$."
   ]
  },
  {
   "cell_type": "markdown",
   "metadata": {},
   "source": [
    "<img src=\"img/ej13-2-2.png\">"
   ]
  },
  {
   "cell_type": "markdown",
   "metadata": {},
   "source": [
    "Los determinantes son"
   ]
  },
  {
   "cell_type": "markdown",
   "metadata": {},
   "source": [
    "$$ \\Delta = \\left|\n",
    "\\begin{array}{cc}\n",
    "4+j3 & -j8 \\\\\n",
    "-j8 & 5+j18 \n",
    "\\end{array}\n",
    "\\right| = 30+j87 $$"
   ]
  },
  {
   "cell_type": "markdown",
   "metadata": {},
   "source": [
    "$$ \\Delta_1 = \\left|\n",
    "\\begin{array}{cc}\n",
    "100 & -j8 \\\\\n",
    "0 & 5+j18 \n",
    "\\end{array}\n",
    "\\right| = 500+j1800 $$"
   ]
  },
  {
   "cell_type": "markdown",
   "metadata": {},
   "source": [
    "$$ \\Delta_2 = \\left|\n",
    "\\begin{array}{cc}\n",
    "4+j3 & 100 \\\\\n",
    "-j8 & 0 \n",
    "\\end{array}\n",
    "\\right| = 0+j800 $$"
   ]
  },
  {
   "cell_type": "code",
   "execution_count": 1,
   "metadata": {},
   "outputs": [],
   "source": [
    "import numpy as np"
   ]
  },
  {
   "cell_type": "code",
   "execution_count": 11,
   "metadata": {},
   "outputs": [],
   "source": [
    "M = np.array([ [4+3j , -8j],[-8j , 5+18j] ])\n",
    "M1 = np.array([ [100 , -8j],[0 , 5+18j] ])\n",
    "M2 = np.array([ [4+3j , 100],[-8j , 0] ])\n",
    "\n",
    "Delta = np.linalg.det(M)\n",
    "Delta1 = np.linalg.det(M1)\n",
    "Delta2 = np.linalg.det(M2)"
   ]
  },
  {
   "cell_type": "code",
   "execution_count": 13,
   "metadata": {},
   "outputs": [
    {
     "name": "stdout",
     "output_type": "stream",
     "text": [
      "Delta = 30+87j\n",
      "Delta1 = 500+1800j\n",
      "Delta2 = 0+800j\n"
     ]
    }
   ],
   "source": [
    "print('Delta = {:.0f}'.format(Delta))\n",
    "print('Delta1 = {:.0f}'.format(Delta1))\n",
    "print('Delta2 = {:.0f}'.format(Delta2))"
   ]
  },
  {
   "cell_type": "markdown",
   "metadata": {},
   "source": [
    "$$ I_1 = \\frac{\\Delta_1}{\\Delta} = 20,30 \\angle 3,50^\\circ \\, \\mathrm{A} $$"
   ]
  },
  {
   "cell_type": "markdown",
   "metadata": {},
   "source": [
    "$$ I_2 = \\frac{\\Delta_2}{\\Delta} = 8,693 \\angle 19,03^\\circ \\, \\mathrm{A} $$"
   ]
  },
  {
   "cell_type": "code",
   "execution_count": 4,
   "metadata": {},
   "outputs": [],
   "source": [
    "I1 = Delta1/Delta\n",
    "I2 = Delta2/Delta"
   ]
  },
  {
   "cell_type": "code",
   "execution_count": 10,
   "metadata": {
    "jupyter": {
     "source_hidden": true
    }
   },
   "outputs": [
    {
     "name": "stdout",
     "output_type": "stream",
     "text": [
      "I1 = (20.30 < 3.50°) A\n",
      "I2 = (8.693 < 19.03°) A\n"
     ]
    }
   ],
   "source": [
    "print('I1 = (%.2f < %.2f°) A'%(abs(I1) , np.rad2deg( np.angle(I1) ) ))\n",
    "print('I2 = (%.3f < %.2f°) A'%(abs(I2) , np.rad2deg( np.angle(I2) ) ))"
   ]
  },
  {
   "cell_type": "code",
   "execution_count": 14,
   "metadata": {},
   "outputs": [],
   "source": [
    "%reset -s -f"
   ]
  },
  {
   "cell_type": "markdown",
   "metadata": {},
   "source": [
    "## Ejemplo 13.3\n",
    "Considere el circuito de la figura. Determine el coeficiente de acoplamiento. Calcule la energía almacenada en los inductores acoplados en el momento $t=1 \\, s$ si $v = 60 \\cos (4t + 30^\\circ) \\, \\mathrm{V}$"
   ]
  },
  {
   "cell_type": "markdown",
   "metadata": {},
   "source": [
    "<img src=\"img/ej13-3.png\">"
   ]
  },
  {
   "cell_type": "markdown",
   "metadata": {},
   "source": [
    "### Solución\n",
    "El coeficiente de acoplamiento es"
   ]
  },
  {
   "cell_type": "markdown",
   "metadata": {},
   "source": [
    "$$ k = \\frac{M}{\\sqrt{L_1 L_2}} = \\frac{2,5}{\\sqrt{5 \\cdot 4}} = 0,559 $$"
   ]
  },
  {
   "cell_type": "markdown",
   "metadata": {},
   "source": [
    "lo que indica que los inductores están acoplados estrechamente. Para hallar la energía almacenada, se debe calcular la corriente. Para encontrar la corriente, debe obtenerse el equivalente del circuito en el dominio de la frecuencia."
   ]
  },
  {
   "cell_type": "markdown",
   "metadata": {},
   "source": [
    "$$\\begin{array}{rcl}\n",
    "60 \\cos (4t + 30^\\circ) & \\Rightarrow & 60 \\angle 30^\\circ, \\quad \\omega = 4 \\, \\mathrm{rad/s} \\\\\n",
    "5 \\, \\mathrm{H} & \\Rightarrow & j \\omega L_1 = j20 \\, \\Omega \\\\\n",
    "2,5 \\, \\mathrm{H} & \\Rightarrow & j \\omega M = j10 \\, \\Omega \\\\\n",
    "4 \\, \\mathrm{H} & \\Rightarrow & j \\omega L_2 = j16 \\, \\Omega \\\\\n",
    "\\displaystyle \\frac{1}{16} \\, \\mathrm{F} & \\Rightarrow & \\displaystyle \\frac{1}{j \\omega C} = -j4 \\, \\Omega \n",
    "\\end{array}$$"
   ]
  },
  {
   "cell_type": "markdown",
   "metadata": {},
   "source": [
    "Ahora se aplica el análisis de mallas. En cuanto al lazo 1,"
   ]
  },
  {
   "cell_type": "markdown",
   "metadata": {},
   "source": [
    "$$ (10 + j20) I_1 + j10 I_2 = 60 \\angle 30^\\circ $$"
   ]
  },
  {
   "cell_type": "markdown",
   "metadata": {},
   "source": [
    "En cuanto al lazo 2"
   ]
  },
  {
   "cell_type": "markdown",
   "metadata": {},
   "source": [
    "$$ j10 I_1 + (j16 - j4)I_2 = 0 $$"
   ]
  },
  {
   "cell_type": "markdown",
   "metadata": {},
   "source": [
    "o sea\n",
    "$$ j10I_1 + j12 I_2 = 0 $$"
   ]
  },
  {
   "cell_type": "code",
   "execution_count": 25,
   "metadata": {},
   "outputs": [],
   "source": [
    "import cmath\n",
    "import numpy as np"
   ]
  },
  {
   "cell_type": "code",
   "execution_count": 26,
   "metadata": {},
   "outputs": [],
   "source": [
    "# Datos\n",
    "w = 4 # rad/s\n",
    "R1 = 10 # Ohm\n",
    "L1 = 5 # H\n",
    "L2 = 4 # H\n",
    "M = 2.5 # H\n",
    "C1 = 1/16 # F\n",
    "Vs = cmath.rect( 60 , np.deg2rad(30) )"
   ]
  },
  {
   "cell_type": "code",
   "execution_count": 27,
   "metadata": {},
   "outputs": [],
   "source": [
    "XL1 = complex(0 , w*L1)\n",
    "XL2 = complex(0 , w*L2)\n",
    "XC1 = complex(0 , -1/(w*C1) )\n",
    "Xm = complex(0 , w*M)"
   ]
  },
  {
   "cell_type": "code",
   "execution_count": 31,
   "metadata": {},
   "outputs": [],
   "source": [
    "A = np.array([[R1+XL1 , Xm],[Xm , XL2 + XC1]])\n",
    "B = np.array([ [Vs] , [0] ])"
   ]
  },
  {
   "cell_type": "code",
   "execution_count": 32,
   "metadata": {},
   "outputs": [],
   "source": [
    "I = np.dot( np.linalg.inv(A) , B )"
   ]
  },
  {
   "cell_type": "code",
   "execution_count": 33,
   "metadata": {},
   "outputs": [
    {
     "name": "stdout",
     "output_type": "stream",
     "text": [
      "I1 = (3.905 < -19.40°) A\n",
      "I2 = (3.254 < 160.60°) A\n"
     ]
    }
   ],
   "source": [
    "print('I1 = (%.3f < %.2f°) A'%(abs(I[0]) , np.rad2deg( np.angle(I[0]) ) ) )\n",
    "print('I2 = (%.3f < %.2f°) A'%(abs(I[1]) , np.rad2deg( np.angle(I[1]) ) ) )"
   ]
  },
  {
   "cell_type": "markdown",
   "metadata": {},
   "source": [
    "__Simulación en qucs:__\n",
    "\n",
    "<img src=\"img/ej13-3-2.png\" style=\"float:left\">"
   ]
  },
  {
   "cell_type": "markdown",
   "metadata": {},
   "source": [
    "En el dominio temporal"
   ]
  },
  {
   "cell_type": "markdown",
   "metadata": {},
   "source": [
    "$\\begin{array}{l}\n",
    "i_1 = 3,905 \\cos (4t - 19,4^\\circ) \\\\\n",
    "i_2 = 3,254 \\cos (4t + 160,6^\\circ)\n",
    "\\end{array}$"
   ]
  },
  {
   "cell_type": "markdown",
   "metadata": {},
   "source": [
    "En el momento  $t = 1 \\, s \\quad \\rightarrow \\quad 4t = 4 \\, \\mathrm{rad} = 229,2^\\circ$"
   ]
  },
  {
   "cell_type": "code",
   "execution_count": 68,
   "metadata": {},
   "outputs": [],
   "source": [
    "def i1(t):\n",
    "    return abs(I[0])*np.cos(4*t + np.angle(I[0]))\n",
    "\n",
    "def i2(t):\n",
    "    return abs(I[1])*np.cos(4*t + np.angle(I[1]))"
   ]
  },
  {
   "cell_type": "code",
   "execution_count": 70,
   "metadata": {},
   "outputs": [
    {
     "name": "stdout",
     "output_type": "stream",
     "text": [
      "i1 = -3.389 A\n",
      "i2 = 2.824 A\n"
     ]
    }
   ],
   "source": [
    "time = 1 # s\n",
    "print('i1 = %.3f A'%i1(time))\n",
    "print('i2 = %.3f A'%i2(time))"
   ]
  },
  {
   "cell_type": "markdown",
   "metadata": {},
   "source": [
    "La energía total almacenada en los dos inductores acoplados es"
   ]
  },
  {
   "cell_type": "markdown",
   "metadata": {},
   "source": [
    "$$ \\omega = \\frac{1}{2} L_1 i_1^2 + \\frac{1}{2} L_2 i_2^2 + M i_1 i_2 $$"
   ]
  },
  {
   "cell_type": "code",
   "execution_count": 71,
   "metadata": {},
   "outputs": [],
   "source": [
    "W = 1/2 * L1 * i1(time)**2 + 1/2 * L2 * i2(time)**2 + M * i1(time) * i2(time)"
   ]
  },
  {
   "cell_type": "code",
   "execution_count": 72,
   "metadata": {},
   "outputs": [
    {
     "name": "stdout",
     "output_type": "stream",
     "text": [
      "W = 20.74 J\n"
     ]
    }
   ],
   "source": [
    "print('W = %.2f J'%W)"
   ]
  },
  {
   "cell_type": "code",
   "execution_count": 73,
   "metadata": {},
   "outputs": [],
   "source": [
    "%reset -s -f"
   ]
  },
  {
   "cell_type": "markdown",
   "metadata": {},
   "source": [
    "## Problema de práctica 13.3\n",
    "En referencia al circuito de la figura, determine el coeficiente de acoplamiento y la energía almacenada en los inductores acoplados en $t = 1,5 \\, \\mathrm{s}$."
   ]
  },
  {
   "cell_type": "markdown",
   "metadata": {},
   "source": [
    "<img src=\"img/ejp13-3.png\">"
   ]
  },
  {
   "cell_type": "markdown",
   "metadata": {},
   "source": [
    "### Solución"
   ]
  },
  {
   "cell_type": "markdown",
   "metadata": {},
   "source": [
    "El coeficiente de acoplamiento es"
   ]
  },
  {
   "cell_type": "markdown",
   "metadata": {},
   "source": [
    "$$ k = \\frac{M}{\\sqrt{L_1 L_2}} = \\frac{1}{\\sqrt{2 \\cdot 1}} = 0,707 $$"
   ]
  },
  {
   "cell_type": "code",
   "execution_count": 35,
   "metadata": {},
   "outputs": [],
   "source": [
    "import cmath\n",
    "import numpy as np"
   ]
  },
  {
   "cell_type": "code",
   "execution_count": 36,
   "metadata": {},
   "outputs": [],
   "source": [
    "k = 1/np.sqrt(2*1)"
   ]
  },
  {
   "cell_type": "code",
   "execution_count": 37,
   "metadata": {},
   "outputs": [
    {
     "name": "stdout",
     "output_type": "stream",
     "text": [
      "k = 0.7071\n"
     ]
    }
   ],
   "source": [
    "print('k = %.4f'%k)"
   ]
  },
  {
   "cell_type": "markdown",
   "metadata": {},
   "source": [
    "En este caso $k>0,5$, entonces se dice que las bobinas están acopladas estrechamente."
   ]
  },
  {
   "cell_type": "markdown",
   "metadata": {},
   "source": [
    "Para encontrar la corriente, debe obtenerse el equivalente del circuito en el dominio de la frecuencia."
   ]
  },
  {
   "cell_type": "markdown",
   "metadata": {},
   "source": [
    "$$\\begin{array}{rcl}\n",
    "40 \\cos 2t & \\Rightarrow & 40 \\angle 0^\\circ , \\quad \\omega = 2 \\, \\mathrm{rad/s} \\\\\n",
    "2 \\, \\mathrm{H} & \\Rightarrow & j \\omega L_1 = j4 \\, \\Omega \\\\\n",
    "1 \\, \\mathrm{H} & \\Rightarrow & j \\omega M = j2 \\, \\Omega\\\\\n",
    "1 \\, \\mathrm{H} & \\Rightarrow & j \\omega L_2 = j2 \\, \\Omega\\\\\n",
    "\\displaystyle \\frac{1}{8} \\, \\mathrm{F} & \\Rightarrow & \\displaystyle \\frac{1}{j \\omega C} = -j4 \\, \\Omega\n",
    "\\end{array}$$"
   ]
  },
  {
   "cell_type": "code",
   "execution_count": 38,
   "metadata": {},
   "outputs": [],
   "source": [
    "# Datos:\n",
    "Vs = 40 # V\n",
    "w = 2 # rad/s\n",
    "R1 = 4 # Ohm\n",
    "R2 = 2 # Ohm\n",
    "L1 = 2 # H\n",
    "L2 = 1 # H\n",
    "M = 1 # H\n",
    "C1 = 1/8 # F"
   ]
  },
  {
   "cell_type": "code",
   "execution_count": 39,
   "metadata": {},
   "outputs": [],
   "source": [
    "XL1 = complex(0 , w*L1)\n",
    "XL2 = complex(0 , w*L2)\n",
    "XM = complex(0 , w*M)\n",
    "XC1 = complex(0 , -1/(w*C1))"
   ]
  },
  {
   "cell_type": "code",
   "execution_count": 40,
   "metadata": {
    "jupyter": {
     "source_hidden": true
    }
   },
   "outputs": [
    {
     "name": "stdout",
     "output_type": "stream",
     "text": [
      "XL1 = 0.0+4.0j Ohm\n",
      "XL2 = 0.0+2.0j Ohm\n",
      "XM = 0.0+2.0j Ohm\n",
      "XC1 = 0.0-4.0j Ohm\n"
     ]
    }
   ],
   "source": [
    "print('XL1 = {:.1f} Ohm'.format(XL1))\n",
    "print('XL2 = {:.1f} Ohm'.format(XL2))\n",
    "print('XM = {:.1f} Ohm'.format(XM))\n",
    "print('XC1 = {:.1f} Ohm'.format(XC1))"
   ]
  },
  {
   "cell_type": "code",
   "execution_count": 17,
   "metadata": {},
   "outputs": [],
   "source": [
    "A = np.array([ [R1 + XC1 + XL1 , XM], [XM , XL2 + R2 ] ])\n",
    "B = np.array([ [Vs],[0] ])"
   ]
  },
  {
   "cell_type": "code",
   "execution_count": 18,
   "metadata": {},
   "outputs": [],
   "source": [
    "I =  np.dot(np.linalg.inv(A) , B)"
   ]
  },
  {
   "cell_type": "code",
   "execution_count": 19,
   "metadata": {
    "jupyter": {
     "source_hidden": true
    }
   },
   "outputs": [
    {
     "name": "stdout",
     "output_type": "stream",
     "text": [
      "I1 = (7.845 < 11.31°) A\n",
      "I2 = (5.547 < -123.69°) A\n"
     ]
    }
   ],
   "source": [
    "print('I1 = (%.3f < %.2f°) A'%(abs(I[0]) , np.rad2deg( cmath.phase(I[0]) ) ))\n",
    "print('I2 = (%.3f < %.2f°) A'%(abs(I[1]) , np.rad2deg( cmath.phase(I[1]) ) ))"
   ]
  },
  {
   "cell_type": "markdown",
   "metadata": {},
   "source": [
    "__Simulación en qucs:__\n",
    "\n",
    "<img src=\"img/ejp13-3-2.png\">"
   ]
  },
  {
   "cell_type": "markdown",
   "metadata": {},
   "source": [
    "En el dominio temporal\n",
    "\n",
    "$\\begin{array}{l}\n",
    "i_1 = 7,845 \\cos (2t + 11,31^\\circ) \\\\\n",
    "i_2 = 5,547 \\cos (2t - 123,69^\\circ)\n",
    "\\end{array}$"
   ]
  },
  {
   "cell_type": "code",
   "execution_count": 20,
   "metadata": {},
   "outputs": [],
   "source": [
    "def i1(t):\n",
    "    return abs(I[0])*np.cos(w*t + np.angle(I[0]))\n",
    "\n",
    "def i2(t):\n",
    "    return abs(I[1])*np.cos(w*t + np.angle(I[1]))"
   ]
  },
  {
   "cell_type": "markdown",
   "metadata": {},
   "source": [
    "En el momento $t = 1,5 \\, s$"
   ]
  },
  {
   "cell_type": "code",
   "execution_count": 21,
   "metadata": {},
   "outputs": [
    {
     "name": "stdout",
     "output_type": "stream",
     "text": [
      "i1(1.5s) = -7.832 A\n",
      "i2(1.5s) = 3.697 A\n"
     ]
    }
   ],
   "source": [
    "time = 1.5 # s\n",
    "print('i1(1.5s) = %.3f A'%i1(time))\n",
    "print('i2(1.5s) = %.3f A'%i2(time))"
   ]
  },
  {
   "cell_type": "markdown",
   "metadata": {},
   "source": [
    "La energía total almacenada en los dos inductores acoplados es"
   ]
  },
  {
   "cell_type": "markdown",
   "metadata": {},
   "source": [
    "$$ W = \\frac{1}{2} L_1 i_1^2 + \\frac{1}{2} L_2^2 i_2^2 + M i_1 i_2 $$"
   ]
  },
  {
   "cell_type": "code",
   "execution_count": 22,
   "metadata": {},
   "outputs": [],
   "source": [
    "W = (1/2)*L1*i1(time)**2 + (1/2)*L2*i2(time)**2 + M*i1(time) * i2(time)"
   ]
  },
  {
   "cell_type": "code",
   "execution_count": 23,
   "metadata": {},
   "outputs": [
    {
     "name": "stdout",
     "output_type": "stream",
     "text": [
      "W = 39.22 J\n"
     ]
    }
   ],
   "source": [
    "print('W = %.2f J'%W)"
   ]
  },
  {
   "cell_type": "code",
   "execution_count": 24,
   "metadata": {},
   "outputs": [],
   "source": [
    "%reset -s -f"
   ]
  }
 ],
 "metadata": {
  "kernelspec": {
   "display_name": "Python 3",
   "language": "python",
   "name": "python3"
  },
  "language_info": {
   "codemirror_mode": {
    "name": "ipython",
    "version": 3
   },
   "file_extension": ".py",
   "mimetype": "text/x-python",
   "name": "python",
   "nbconvert_exporter": "python",
   "pygments_lexer": "ipython3",
   "version": "3.7.6"
  }
 },
 "nbformat": 4,
 "nbformat_minor": 4
}
