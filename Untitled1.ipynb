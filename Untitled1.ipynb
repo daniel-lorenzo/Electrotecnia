{
 "cells": [
  {
   "cell_type": "code",
   "execution_count": 2,
   "metadata": {},
   "outputs": [
    {
     "name": "stdout",
     "output_type": "stream",
     "text": [
      "Collecting package metadata (current_repodata.json): done\n",
      "Solving environment: done\n",
      "\n",
      "\n",
      "==> WARNING: A newer version of conda exists. <==\n",
      "  current version: 4.7.12\n",
      "  latest version: 4.8.3\n",
      "\n",
      "Please update conda by running\n",
      "\n",
      "    $ conda update -n base -c defaults conda\n",
      "\n",
      "\n",
      "\n",
      "## Package Plan ##\n",
      "\n",
      "  environment location: /home/dany-lm19/anaconda3\n",
      "\n",
      "  added / updated specs:\n",
      "    - sos-notebook\n",
      "\n",
      "\n",
      "The following packages will be downloaded:\n",
      "\n",
      "    package                    |            build\n",
      "    ---------------------------|-----------------\n",
      "    conda-4.8.3                |   py37hc8dfbb8_1         3.0 MB  conda-forge\n",
      "    fasteners-0.14.1           |             py_3          18 KB  conda-forge\n",
      "    markdown-3.2.1             |             py_0          61 KB  conda-forge\n",
      "    matplotlib-base-3.1.3      |   py37hef1b27d_0         5.0 MB\n",
      "    monotonic-1.5              |             py_0           9 KB  conda-forge\n",
      "    pydot-1.2.4                |             py_0          20 KB  conda-forge\n",
      "    pydotplus-2.0.2            |             py_1          22 KB  conda-forge\n",
      "    python-xxhash-1.4.3        |   py37h8f50634_1          28 KB  conda-forge\n",
      "    python_abi-3.7             |          1_cp37m           4 KB  conda-forge\n",
      "    sos-0.21.5                 |             py_0         192 KB  conda-forge\n",
      "    sos-notebook-0.21.7        |           py37_1         151 KB  conda-forge\n",
      "    tabulate-0.8.7             |     pyh9f0ad1d_0          24 KB  conda-forge\n",
      "    ------------------------------------------------------------\n",
      "                                           Total:         8.5 MB\n",
      "\n",
      "The following NEW packages will be INSTALLED:\n",
      "\n",
      "  fasteners          conda-forge/noarch::fasteners-0.14.1-py_3\n",
      "  markdown           conda-forge/noarch::markdown-3.2.1-py_0\n",
      "  matplotlib-base    pkgs/main/linux-64::matplotlib-base-3.1.3-py37hef1b27d_0\n",
      "  monotonic          conda-forge/noarch::monotonic-1.5-py_0\n",
      "  pydot              conda-forge/noarch::pydot-1.2.4-py_0\n",
      "  pydotplus          conda-forge/noarch::pydotplus-2.0.2-py_1\n",
      "  python-xxhash      conda-forge/linux-64::python-xxhash-1.4.3-py37h8f50634_1\n",
      "  python_abi         conda-forge/linux-64::python_abi-3.7-1_cp37m\n",
      "  sos                conda-forge/noarch::sos-0.21.5-py_0\n",
      "  sos-notebook       conda-forge/linux-64::sos-notebook-0.21.7-py37_1\n",
      "  tabulate           conda-forge/noarch::tabulate-0.8.7-pyh9f0ad1d_0\n",
      "\n",
      "The following packages will be UPDATED:\n",
      "\n",
      "  conda                      pkgs/main::conda-4.7.12-py37_0 --> conda-forge::conda-4.8.3-py37hc8dfbb8_1\n",
      "\n",
      "\n",
      "\n",
      "Downloading and Extracting Packages\n",
      "sos-0.21.5           | 192 KB    | ##################################### | 100% \n",
      "markdown-3.2.1       | 61 KB     | ##################################### | 100% \n",
      "sos-notebook-0.21.7  | 151 KB    | ##################################### | 100% \n",
      "pydot-1.2.4          | 20 KB     | ##################################### | 100% \n",
      "matplotlib-base-3.1. | 5.0 MB    | ##################################### | 100% \n",
      "python_abi-3.7       | 4 KB      | ##################################### | 100% \n",
      "monotonic-1.5        | 9 KB      | ##################################### | 100% \n",
      "python-xxhash-1.4.3  | 28 KB     | ##################################### | 100% \n",
      "conda-4.8.3          | 3.0 MB    | ##################################### | 100% \n",
      "tabulate-0.8.7       | 24 KB     | ##################################### | 100% \n",
      "fasteners-0.14.1     | 18 KB     | ##################################### | 100% \n",
      "pydotplus-2.0.2      | 22 KB     | ##################################### | 100% \n",
      "Preparing transaction: done\n",
      "Verifying transaction: done\n",
      "Executing transaction: done\n",
      "\n",
      "Note: you may need to restart the kernel to use updated packages.\n"
     ]
    }
   ],
   "source": [
    "conda install -c conda-forge sos-notebook"
   ]
  },
  {
   "cell_type": "code",
   "execution_count": null,
   "metadata": {},
   "outputs": [],
   "source": []
  }
 ],
 "metadata": {
  "kernelspec": {
   "display_name": "Python 3",
   "language": "python",
   "name": "python3"
  },
  "language_info": {
   "codemirror_mode": {
    "name": "ipython",
    "version": 3
   },
   "file_extension": ".py",
   "mimetype": "text/x-python",
   "name": "python",
   "nbconvert_exporter": "python",
   "pygments_lexer": "ipython3",
   "version": "3.7.4"
  }
 },
 "nbformat": 4,
 "nbformat_minor": 2
}
