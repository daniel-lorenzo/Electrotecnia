{
 "cells": [
  {
   "cell_type": "markdown",
   "metadata": {},
   "source": [
    "# Análisis de lazo\n",
    "__UNLZ - Facultad de Ingeniería__       \n",
    "__Electrotecnia__      \n",
    "__Alumno:__ Daniel Antonio Lorenzo"
   ]
  },
  {
   "cell_type": "markdown",
   "metadata": {},
   "source": [
    "<a href=\"https://colab.research.google.com/github/daniel-lorenzo/Electrotecnia/blob/master/Analisis_de_lazo1.ipynb\"><img align=\"left\" src=\"https://colab.research.google.com/assets/colab-badge.svg\" alt=\"Open in Colab\" title=\"Open and Execute in Google Colaboratory\"></a>"
   ]
  },
  {
   "cell_type": "markdown",
   "metadata": {},
   "source": [
    "La ley de la tensión de Kirchhoff (LTK) constituye la base del análisis de lazo."
   ]
  },
  {
   "cell_type": "markdown",
   "metadata": {},
   "source": [
    "## Ejemplo 10-13\n",
    "Determine la corriente $I_0$ en el circuito de la figura, aplicando el análisis de lazo."
   ]
  },
  {
   "cell_type": "markdown",
   "metadata": {},
   "source": [
    "<img src=\"img/ej10-13.png\" alt=\"ej10-13.png\">"
   ]
  },
  {
   "cell_type": "markdown",
   "metadata": {},
   "source": [
    "### Solución\n",
    "Al aplicar la LTK al lazo 1 se obtiene"
   ]
  },
  {
   "cell_type": "markdown",
   "metadata": {},
   "source": [
    "$$ (8 + j10 - j2) I_1 - (-j2)I_2 - (j10) I_3 = 0 \\tag{1} $$"
   ]
  },
  {
   "cell_type": "markdown",
   "metadata": {},
   "source": [
    "En cuanto al lazo 2"
   ]
  },
  {
   "cell_type": "markdown",
   "metadata": {},
   "source": [
    "$$ (j2) I_1 + (4 - 2j -2j)I_2 + (j2) I_3 + 20 \\angle 90^\\circ = 0 \\tag{2} $$"
   ]
  },
  {
   "cell_type": "markdown",
   "metadata": {},
   "source": [
    "En cuanto al lazo 3"
   ]
  },
  {
   "cell_type": "markdown",
   "metadata": {},
   "source": [
    "$$ I_3 = 5 \\angle  0^\\circ \\tag{3} $$"
   ]
  },
  {
   "cell_type": "markdown",
   "metadata": {},
   "source": [
    "En forma matricial"
   ]
  },
  {
   "cell_type": "markdown",
   "metadata": {},
   "source": [
    "$$\\left[\n",
    "\\begin{array}{cc}\n",
    "8 + 8j & j2 \\\\\n",
    "j2 & 4 - 4j\n",
    "\\end{array}\n",
    "\\right]\n",
    "\\left[\n",
    "\\begin{array}{c}\n",
    "I_1 \\\\\n",
    "I_2\n",
    "\\end{array}\n",
    "\\right]\n",
    "=\n",
    "\\left[\n",
    "\\begin{array}{c}\n",
    "j50 \\\\\n",
    "-j30\n",
    "\\end{array}\n",
    "\\right]$$"
   ]
  },
  {
   "cell_type": "markdown",
   "metadata": {},
   "source": [
    "De donde se obtivieron los determinantes"
   ]
  },
  {
   "cell_type": "markdown",
   "metadata": {},
   "source": [
    "$$ \\Delta =\n",
    "\\left|\n",
    "\\begin{array}{cc}\n",
    "8 + 8j & j2 \\\\\n",
    "j2 & 4 - j4\n",
    "\\end{array}\n",
    "\\right|$$"
   ]
  },
  {
   "cell_type": "code",
   "execution_count": 1,
   "metadata": {},
   "outputs": [],
   "source": [
    "import numpy as np"
   ]
  },
  {
   "cell_type": "code",
   "execution_count": 2,
   "metadata": {},
   "outputs": [
    {
     "name": "stdout",
     "output_type": "stream",
     "text": [
      "Delta = 68.00+0.00j\n"
     ]
    }
   ],
   "source": [
    "M = np.array([ [8 + 8j , 2j],[2j , 4 - 4j] ])\n",
    "Delta = np.linalg.det(M)\n",
    "print('Delta = {:.2f}'.format(Delta))"
   ]
  },
  {
   "cell_type": "markdown",
   "metadata": {},
   "source": [
    "$$ \\Delta_1 =\n",
    "\\left|\n",
    "\\begin{array}{cc}\n",
    "j50 & j2 \\\\\n",
    "-j30 & 4 - j4\n",
    "\\end{array}\n",
    "\\right|$$"
   ]
  },
  {
   "cell_type": "code",
   "execution_count": 3,
   "metadata": {},
   "outputs": [
    {
     "name": "stdout",
     "output_type": "stream",
     "text": [
      "Delta1 = 140.00+200.00j\n"
     ]
    }
   ],
   "source": [
    "M1 = np.array([ [50j , 2j],[-30j , 4 - 4j] ])\n",
    "Delta1 = np.linalg.det(M1)\n",
    "print('Delta1 = {:.2f}'.format(Delta1))"
   ]
  },
  {
   "cell_type": "markdown",
   "metadata": {},
   "source": [
    "$$ \\Delta_2 =\n",
    "\\left|\n",
    "\\begin{array}{cc}\n",
    "8 + j8 & j50 \\\\\n",
    "j2 & -j30\n",
    "\\end{array}\n",
    "\\right|$$"
   ]
  },
  {
   "cell_type": "code",
   "execution_count": 4,
   "metadata": {},
   "outputs": [
    {
     "name": "stdout",
     "output_type": "stream",
     "text": [
      "Delta2 = 340.00-240.00j\n"
     ]
    }
   ],
   "source": [
    "M2 = np.array([ [8 + 8j , 50j],[2j , -30j] ])\n",
    "Delta2 = np.linalg.det(M2)\n",
    "print('Delta2 = {:.2f}'.format(Delta2))"
   ]
  },
  {
   "cell_type": "markdown",
   "metadata": {},
   "source": [
    "$$ I_1 = \\frac{\\Delta_1}{\\Delta} \\qquad ; \\qquad I_2 = \\frac{\\Delta_2}{\\Delta} $$"
   ]
  },
  {
   "cell_type": "code",
   "execution_count": 5,
   "metadata": {},
   "outputs": [],
   "source": [
    "import cmath, math"
   ]
  },
  {
   "cell_type": "code",
   "execution_count": 6,
   "metadata": {},
   "outputs": [],
   "source": [
    "I1 = Delta1/Delta\n",
    "I2 = Delta2/Delta\n",
    "I1_pol = cmath.polar(I1)\n",
    "I2_pol = cmath.polar(I2)"
   ]
  },
  {
   "cell_type": "markdown",
   "metadata": {},
   "source": [
    "En coordenadas rectangulares"
   ]
  },
  {
   "cell_type": "code",
   "execution_count": 7,
   "metadata": {},
   "outputs": [
    {
     "name": "stdout",
     "output_type": "stream",
     "text": [
      "I1 = 2.06+2.94j A\n",
      "I2 = 5.00-3.53j A\n"
     ]
    }
   ],
   "source": [
    "print('I1 = {:.2f} A'.format(I1))\n",
    "print('I2 = {:.2f} A'.format(I2))"
   ]
  },
  {
   "cell_type": "markdown",
   "metadata": {},
   "source": [
    "En coordenadas polares (radianes)"
   ]
  },
  {
   "cell_type": "code",
   "execution_count": 8,
   "metadata": {},
   "outputs": [
    {
     "name": "stdout",
     "output_type": "stream",
     "text": [
      "I1_pol = (3.59<0.96 rad) A\n",
      "I2_pol = (6.12<-0.61 rad) A\n"
     ]
    }
   ],
   "source": [
    "print('I1_pol = (%.2f<%.2f rad) A'%I1_pol)\n",
    "print('I2_pol = (%.2f<%.2f rad) A'%I2_pol)"
   ]
  },
  {
   "cell_type": "markdown",
   "metadata": {},
   "source": [
    "En coordenadas polares (grados)"
   ]
  },
  {
   "cell_type": "code",
   "execution_count": 9,
   "metadata": {},
   "outputs": [
    {
     "name": "stdout",
     "output_type": "stream",
     "text": [
      "I1_pol = (3.59<55.01°) A\n",
      "I2_pol = (6.12<-35.22°) A\n"
     ]
    }
   ],
   "source": [
    "print('I1_pol = (%.2f<%.2f°) A'%(I1_pol[0],I1_pol[1]*180/math.pi))\n",
    "print('I2_pol = (%.2f<%.2f°) A'%(I2_pol[0],I2_pol[1]*180/math.pi))"
   ]
  },
  {
   "cell_type": "markdown",
   "metadata": {},
   "source": [
    "La corriente deseada es\n",
    "$$ I_0 = - I_2 $$"
   ]
  },
  {
   "cell_type": "code",
   "execution_count": 10,
   "metadata": {},
   "outputs": [],
   "source": [
    "I0 = -I2\n",
    "I0_pol = cmath.polar(I0)"
   ]
  },
  {
   "cell_type": "code",
   "execution_count": 11,
   "metadata": {},
   "outputs": [
    {
     "name": "stdout",
     "output_type": "stream",
     "text": [
      "En coordenadas rectangulares:\n",
      "I0 = -5.00+3.53j A\n",
      "En coordenadas polares (radianes):\n",
      "I0_pol = (6.12<2.53 rad) A\n",
      "En coordenadas polares (grados):\n",
      "I0_pol = (6.12<144.78°) A\n"
     ]
    }
   ],
   "source": [
    "print('En coordenadas rectangulares:')\n",
    "print('I0 = {:.2f} A'.format(I0))\n",
    "print('En coordenadas polares (radianes):')\n",
    "print('I0_pol = (%.2f<%.2f rad) A'%I0_pol)\n",
    "print('En coordenadas polares (grados):')\n",
    "print('I0_pol = (%.2f<%.2f°) A'%(I0_pol[0],I0_pol[1]*180/math.pi))"
   ]
  },
  {
   "cell_type": "code",
   "execution_count": 12,
   "metadata": {},
   "outputs": [],
   "source": [
    "%reset -s -f"
   ]
  },
  {
   "cell_type": "markdown",
   "metadata": {},
   "source": [
    "## Problema de práctica 10.3\n",
    "Halle $I_0$ en la fig. aplicando el análisis de malla."
   ]
  },
  {
   "cell_type": "markdown",
   "metadata": {},
   "source": [
    "<img src=\"img/ejpr10-3.png\" alt=\"ejpr10-3.png\">"
   ]
  },
  {
   "cell_type": "markdown",
   "metadata": {},
   "source": [
    "### Solución\n",
    "Al aplicar LTK al lazo 1 se obtiene"
   ]
  },
  {
   "cell_type": "markdown",
   "metadata": {},
   "source": [
    "$$ I_1 = 6 \\angle 0^\\circ $$"
   ]
  },
  {
   "cell_type": "markdown",
   "metadata": {},
   "source": [
    "Lazo 2"
   ]
  },
  {
   "cell_type": "markdown",
   "metadata": {},
   "source": [
    "$$ (8 - 2j + 4j)I_2 - (4j) I_3 = 0 $$"
   ]
  },
  {
   "cell_type": "markdown",
   "metadata": {},
   "source": [
    "Lazo 3"
   ]
  },
  {
   "cell_type": "markdown",
   "metadata": {},
   "source": [
    "$$  (-6)I_1 + (-4j)I_2 + (6 + 4j)I_3 - 30 \\angle 30^\\circ = 0 $$"
   ]
  },
  {
   "cell_type": "markdown",
   "metadata": {},
   "source": [
    "En forma matricial"
   ]
  },
  {
   "cell_type": "markdown",
   "metadata": {},
   "source": [
    "$$\\left[\n",
    "\\begin{array}{cc}\n",
    "8 + 2j & -4j \\\\\n",
    "-4j & 6 + 4j\n",
    "\\end{array}\n",
    "\\right]\n",
    "\\left[\n",
    "\\begin{array}{c}\n",
    "I_2 \\\\\n",
    "I_3\n",
    "\\end{array}\n",
    "\\right]\n",
    "=\n",
    "\\left[\n",
    "\\begin{array}{c}\n",
    "0 \\\\\n",
    "36 + 30 \\angle 30^\\circ\n",
    "\\end{array}\n",
    "\\right] \\cong\n",
    "\\left[\n",
    "\\begin{array}{c}\n",
    "0 \\\\\n",
    "61,98 + 15j\n",
    "\\end{array}\n",
    "\\right]$$"
   ]
  },
  {
   "cell_type": "code",
   "execution_count": 13,
   "metadata": {},
   "outputs": [],
   "source": [
    "import numpy as np"
   ]
  },
  {
   "cell_type": "code",
   "execution_count": 14,
   "metadata": {},
   "outputs": [],
   "source": [
    "import cmath, math"
   ]
  },
  {
   "cell_type": "markdown",
   "metadata": {},
   "source": [
    "$$ \\Delta =\n",
    "\\left|\n",
    "\\begin{array}{cc}\n",
    "8 + 2j & -4j \\\\\n",
    "-4j & 6 + 4j\n",
    "\\end{array}\n",
    "\\right|$$"
   ]
  },
  {
   "cell_type": "code",
   "execution_count": 15,
   "metadata": {},
   "outputs": [
    {
     "name": "stdout",
     "output_type": "stream",
     "text": [
      "Delta = 56.00+44.00j\n"
     ]
    }
   ],
   "source": [
    "M = np.array( [ [8 + 2j , -4j],[-4j , 6 + 4j] ] )\n",
    "Delta = np.linalg.det(M)\n",
    "print('Delta = {:.2f}'.format(Delta))"
   ]
  },
  {
   "cell_type": "markdown",
   "metadata": {},
   "source": [
    "$$ \\Delta_2 = \n",
    "\\left|\n",
    "\\begin{array}{cc}\n",
    "0 & -4j \\\\\n",
    "61,98 + 15j & 6 + 4j\n",
    "\\end{array}\n",
    "\\right|$$"
   ]
  },
  {
   "cell_type": "code",
   "execution_count": 16,
   "metadata": {},
   "outputs": [
    {
     "name": "stdout",
     "output_type": "stream",
     "text": [
      "Delta2 = -60.00+247.92j\n"
     ]
    }
   ],
   "source": [
    "Vs = cmath.rect(30,math.pi/6)\n",
    "M2 = np.array([ [0 , -4j],[36 + Vs , 6 + 4j] ])\n",
    "Delta2 = np.linalg.det(M2)\n",
    "print('Delta2 = {:.2f}'.format(Delta2))"
   ]
  },
  {
   "cell_type": "markdown",
   "metadata": {},
   "source": [
    "$$ \\Delta_3 =\n",
    "\\left|\n",
    "\\begin{array}{cc}\n",
    "8 + 2j & 0 \\\\\n",
    "-4j & 61,98 + 15j\n",
    "\\end{array}\n",
    "\\right|$$"
   ]
  },
  {
   "cell_type": "code",
   "execution_count": 17,
   "metadata": {},
   "outputs": [
    {
     "name": "stdout",
     "output_type": "stream",
     "text": [
      "Delta3 = 465.85+243.96j\n"
     ]
    }
   ],
   "source": [
    "M3 = np.array([ [8 + 2j , 0],[-4j ,  36 + Vs] ])\n",
    "Delta3 = np.linalg.det(M3)\n",
    "print('Delta3 = {:.2f}'.format(Delta3))"
   ]
  },
  {
   "cell_type": "markdown",
   "metadata": {},
   "source": [
    "$$ I_2 = \\frac{\\Delta_2}{\\Delta} \\qquad ; \\qquad I_3 = \\frac{\\Delta_3}{\\Delta} $$"
   ]
  },
  {
   "cell_type": "code",
   "execution_count": 18,
   "metadata": {},
   "outputs": [],
   "source": [
    "I2 = Delta2/Delta\n",
    "I3 = Delta3/Delta\n",
    "I2_pol = cmath.polar(I2)\n",
    "I3_pol = cmath.polar(I3)"
   ]
  },
  {
   "cell_type": "code",
   "execution_count": 19,
   "metadata": {},
   "outputs": [
    {
     "name": "stdout",
     "output_type": "stream",
     "text": [
      "Coordenadas rectangulares:\n",
      "I2 = 1.49+3.26j A\n",
      "I3 = 7.26-1.35j A\n"
     ]
    }
   ],
   "source": [
    "print('Coordenadas rectangulares:')\n",
    "print('I2 = {:.2f} A'.format(I2))\n",
    "print('I3 = {:.2f} A'.format(I3))"
   ]
  },
  {
   "cell_type": "code",
   "execution_count": 20,
   "metadata": {},
   "outputs": [
    {
     "name": "stdout",
     "output_type": "stream",
     "text": [
      "Coordenadas polares (radianes):\n",
      "I2_pol = (3.58<1.142 rad) A\n",
      "I3_pol = (7.38<-0.184 rad) A\n"
     ]
    }
   ],
   "source": [
    "print('Coordenadas polares (radianes):')\n",
    "print('I2_pol = (%.2f<%.3f rad) A'%I2_pol)\n",
    "print('I3_pol = (%.2f<%.3f rad) A'%I3_pol)"
   ]
  },
  {
   "cell_type": "code",
   "execution_count": 21,
   "metadata": {},
   "outputs": [
    {
     "name": "stdout",
     "output_type": "stream",
     "text": [
      "Coordenadas polares (grados):\n",
      "I2_pol = (3.582<65.45°) A\n",
      "I3_pol = (7.384<-10.52°) A\n"
     ]
    }
   ],
   "source": [
    "print('Coordenadas polares (grados):')\n",
    "print('I2_pol = (%.3f<%.2f°) A'%(I2_pol[0],I2_pol[1]*180/math.pi))\n",
    "print('I3_pol = (%.3f<%.2f°) A'%(I3_pol[0],I3_pol[1]*180/math.pi))"
   ]
  },
  {
   "cell_type": "markdown",
   "metadata": {},
   "source": [
    "Entonces, $I_0 = I_2 = (3,582 \\angle 65,45^\\circ) \\, \\mathrm{A}$"
   ]
  },
  {
   "cell_type": "markdown",
   "metadata": {},
   "source": [
    "----------------\n",
    "### Utilizando sympy para resolvel el sistema de ecuaciones (opcional)"
   ]
  },
  {
   "cell_type": "code",
   "execution_count": 22,
   "metadata": {},
   "outputs": [],
   "source": [
    "import sympy as sp"
   ]
  },
  {
   "cell_type": "code",
   "execution_count": 23,
   "metadata": {},
   "outputs": [],
   "source": [
    "I1, I2, I3 = sp.symbols('I1 I2 I3')\n",
    "Vs = cmath.rect(30,math.pi/6)\n",
    "Eq1 = sp.Eq(I1,6)\n",
    "Eq2 = sp.Eq( (8 + 2j)*I2 - (4j)*I3 , 0 )\n",
    "Eq3 = sp.Eq( (6 + 4j)*I3 - (4j)*I2 - 6*I1 - Vs , 0 )"
   ]
  },
  {
   "cell_type": "code",
   "execution_count": 24,
   "metadata": {},
   "outputs": [],
   "source": [
    "Sol = sp.solve([Eq1,Eq2,Eq3],[I1,I2,I3])"
   ]
  },
  {
   "cell_type": "code",
   "execution_count": 25,
   "metadata": {
    "scrolled": true
   },
   "outputs": [],
   "source": [
    "I2_pol = cmath.polar(Sol[I2])\n",
    "I3_pol = cmath.polar(Sol[I3])"
   ]
  },
  {
   "cell_type": "code",
   "execution_count": 26,
   "metadata": {},
   "outputs": [
    {
     "name": "stdout",
     "output_type": "stream",
     "text": [
      "Coordenadas rectangulares:\n",
      "I2 =  1.48829142980715 + 3.25782545611819*I\n",
      "I3 =  7.25979662713994 - 1.3476701315552*I\n"
     ]
    }
   ],
   "source": [
    "print('Coordenadas rectangulares:')\n",
    "print('I2 = ',Sol[I2])\n",
    "print('I3 = ',Sol[I3])"
   ]
  },
  {
   "cell_type": "code",
   "execution_count": 27,
   "metadata": {},
   "outputs": [
    {
     "name": "stdout",
     "output_type": "stream",
     "text": [
      "Coordenadas polares (radianes):\n",
      "I2 = (3.582<1.142 rad) A\n",
      "I3 = (7.384<-0.184 rad) A\n"
     ]
    }
   ],
   "source": [
    "print('Coordenadas polares (radianes):')\n",
    "print('I2 = (%.3f<%.3f rad) A'%I2_pol)\n",
    "print('I3 = (%.3f<%.3f rad) A'%I3_pol)"
   ]
  },
  {
   "cell_type": "code",
   "execution_count": 28,
   "metadata": {},
   "outputs": [
    {
     "name": "stdout",
     "output_type": "stream",
     "text": [
      "Coordenadas polares (grados):\n",
      "I2_pol = (3.582<65.45°) A\n",
      "I3_pol = (7.384<-10.52°) A\n"
     ]
    }
   ],
   "source": [
    "print('Coordenadas polares (grados):')\n",
    "print('I2_pol = (%.3f<%.2f°) A'%(I2_pol[0],I2_pol[1]*180/math.pi))\n",
    "print('I3_pol = (%.3f<%.2f°) A'%(I3_pol[0],I3_pol[1]*180/math.pi))"
   ]
  },
  {
   "cell_type": "markdown",
   "metadata": {},
   "source": [
    "Entonces, $I_0 = I_2 = (3,582 \\angle 65,45^\\circ) \\, \\mathrm{A}$"
   ]
  },
  {
   "cell_type": "code",
   "execution_count": 29,
   "metadata": {},
   "outputs": [],
   "source": [
    "%reset -s -f"
   ]
  },
  {
   "cell_type": "code",
   "execution_count": 1,
   "metadata": {},
   "outputs": [
    {
     "data": {
      "text/html": [
       "/* This template is inspired in the one used by Lorena Barba\n",
       "in the numerical-mooc repository: https://github.com/numerical-mooc/numerical-mooc\n",
       "We thank her work and hope you also enjoy the look of the notobooks with this style */\n",
       "\n",
       "/* <link href='http://fonts.googleapis.com/css?family=Source+Sans+Pro|Josefin+Sans:400,700,400italic|Ubuntu+Condensed' rel='stylesheet' type='text/css'>\n",
       "\n",
       "El estilo se ha aplicado =)\n",
       "\n",
       "<style>\n",
       "\n",
       "\n",
       "\n",
       "#notebook_panel { /* main background */\n",
       "    background: #f7f7f7;\n",
       "}\n",
       "\n",
       "div.cell { /* set cell width */\n",
       "    width: 900px;\n",
       "}\n",
       "\n",
       "div #notebook { /* centre the content */\n",
       "    background: #fff; /* white background for content */\n",
       "    width: 1100px;\n",
       "    margin: auto;\n",
       "    padding-left: 0em;\n",
       "}\n",
       "\n",
       "#notebook li { /* More space between bullet points */\n",
       "    margin-top:0.7em;\n",
       "}\n",
       "\n",
       "/* draw border around running cells */\n",
       "div.cell.border-box-sizing.code_cell.running { \n",
       "    border: 1px solid #111;\n",
       "}\n",
       "\n",
       "/* Put a solid color box around each cell and its output, visually linking them*/\n",
       "div.cell.code_cell {\n",
       "    font-family: 'Source Sans Pro', sans-serif;\n",
       "    background-color: rgb(256,256,256);\n",
       "    font-size: 110%;\n",
       "    border-radius: 0px; \n",
       "    padding: 0.5em;\n",
       "    margin-left:1em;\n",
       "    margin-top: 1em;\n",
       "}\n",
       "\n",
       "div.text_cell_render{\n",
       "    font-family: 'DejaVu Serif', serif;\n",
       "    line-height: 145%;\n",
       "    font-size: 125%;\n",
       "    font-weight: 500;\n",
       "    width:800px;\n",
       "    margin-left:auto;\n",
       "    margin-right:auto;\n",
       "}\n",
       "\n",
       "\n",
       "/* Formatting for header cells */\n",
       ".text_cell_render h1, .text_cell_render h2, .text_cell_render h3,\n",
       ".text_cell_render h4, .text_cell_render h5 {\n",
       "    font-family: 'Ubuntu Condensed', sans-serif;\n",
       "}\n",
       "/*\n",
       ".text_cell_render h1 {\n",
       "    font-family: Flux, 'Ubuntu Condensed', serif;\n",
       "    font-style:regular;\n",
       "    font-weight: 400;    \n",
       "    font-size: 30pt;\n",
       "    text-align: center;\n",
       "    line-height: 100%;\n",
       "    color: #335082;\n",
       "    margin-bottom: 0.5em;\n",
       "    margin-top: 0.5em;\n",
       "    display: block;\n",
       "}\n",
       "*/\n",
       ".text_cell_render h1 {\n",
       "    font-weight: 600;\n",
       "    font-size: 35pt;\n",
       "    line-height: 100%;\n",
       "    color: #000000;\n",
       "    margin-bottom: 0.1em;\n",
       "    margin-top: 0.3em;\n",
       "    display: block;\n",
       "}\n",
       "\n",
       ".text_cell_render h2 {\n",
       "    margin-top:16px;\n",
       "    font-size: 27pt;\n",
       "    font-weight: 550;\n",
       "    margin-bottom: 0.1em;\n",
       "    margin-top: 0.3em;\n",
       "    font-style: regular;\n",
       "    color: #2c6391;\n",
       "}\t\n",
       "\n",
       ".text_cell_render h3 {\n",
       "    font-size: 20pt;\n",
       "    font-weight: 550\n",
       "    text-align: left;\n",
       "    margin-bottom: 0.1em;\n",
       "    margin-top: 0.3em;\n",
       "    font-style: regular;\n",
       "    color:  #387eb8;\n",
       "}\n",
       "\n",
       ".text_cell_render h4 {    /*Use this for captions*/\n",
       "    font-size: 18pt;\n",
       "    font-weight: 450\n",
       "    text-align: left;\n",
       "    margin-bottom: 0.1em;\n",
       "    margin-top: 0.3em;\n",
       "    font-style: regular;\n",
       "    color:  #5797cc;\n",
       "}\n",
       "\n",
       ".text_cell_render h5 {  /*Use this for small titles*/\n",
       "    font-size: 18pt;\n",
       "    font-weight: 550;\n",
       "    color: rgb(163,0,0);\n",
       "    font-style: italic;\n",
       "    margin-bottom: .1em;\n",
       "    margin-top: 0.8em;\n",
       "    display: block;\n",
       "    color:  #b21c0d;\n",
       "}\n",
       "\n",
       ".text_cell_render h6 { /*use this for copyright note*/\n",
       "    font-family: 'Ubuntu Condensed', sans-serif;\n",
       "    font-weight: 300;\n",
       "    font-size: 14pt;\n",
       "    line-height: 100%;\n",
       "    color: #252525;\n",
       "    text-align: right;\n",
       "    margin-bottom: 1px;\n",
       "    margin-top: 1px;\n",
       "}\n",
       "\n",
       ".CodeMirror{\n",
       "        font-family: 'Duru Sans', sans-serif;\n",
       "        font-size: 100%;\n",
       "}\n",
       "\n",
       "</style>\n",
       "<script>\n",
       "    MathJax.Hub.Config({\n",
       "                        TeX: {\n",
       "                           extensions: [\"AMSmath.js\"],\n",
       "                           equationNumbers: { autoNumber: \"AMS\", useLabelIds: true}\n",
       "                           },\n",
       "                tex2jax: {\n",
       "                    inlineMath: [ ['$','$'], [\"\\\\(\",\"\\\\)\"] ],\n",
       "                    displayMath: [ ['$$','$$'], [\"\\\\[\",\"\\\\]\"] ]\n",
       "                },\n",
       "                displayAlign: 'center', // Change this to 'center' to center equations.\n",
       "                \"HTML-CSS\": {\n",
       "                    styles: {'.MathJax_Display': {\"margin\": 4}}\n",
       "                }\n",
       "        });\n",
       "</script>\n"
      ],
      "text/plain": [
       "<IPython.core.display.HTML object>"
      ]
     },
     "execution_count": 1,
     "metadata": {},
     "output_type": "execute_result"
    }
   ],
   "source": [
    "# Esta celda da el estilo al notebook\n",
    "from IPython.core.display import HTML\n",
    "css_file = 'styles/aeropython.css'\n",
    "HTML(open(css_file, \"r\").read())"
   ]
  },
  {
   "cell_type": "markdown",
   "metadata": {},
   "source": [
    "-------------\n",
    "<a href=\"https://colab.research.google.com/github/daniel-lorenzo/Electrotecnia/blob/master/Analisis_de_lazo1.ipynb\"><img align=\"left\" src=\"https://colab.research.google.com/assets/colab-badge.svg\" alt=\"Open in Colab\" title=\"Open and Execute in Google Colaboratory\"></a>"
   ]
  }
 ],
 "metadata": {
  "kernelspec": {
   "display_name": "Python 3",
   "language": "python",
   "name": "python3"
  },
  "language_info": {
   "codemirror_mode": {
    "name": "ipython",
    "version": 3
   },
   "file_extension": ".py",
   "mimetype": "text/x-python",
   "name": "python",
   "nbconvert_exporter": "python",
   "pygments_lexer": "ipython3",
   "version": "3.7.6"
  }
 },
 "nbformat": 4,
 "nbformat_minor": 4
}
