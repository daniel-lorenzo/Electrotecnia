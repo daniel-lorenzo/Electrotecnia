{
 "cells": [
  {
   "cell_type": "markdown",
   "metadata": {},
   "source": [
    "## Potencia compleja"
   ]
  },
  {
   "cell_type": "markdown",
   "metadata": {},
   "source": [
    "$$ \\vec{S} = \\vec{V}_\\mathrm{rms} (\\vec{I}_\\mathrm{rms})^* $$"
   ]
  },
  {
   "cell_type": "markdown",
   "metadata": {},
   "source": [
    "$V_\\mathrm{rms} = \\frac{\\vec{V}}{\\sqrt{2}} = V_\\mathrm{rms} \\angle \\theta_v$ "
   ]
  },
  {
   "cell_type": "markdown",
   "metadata": {},
   "source": [
    "$I_\\mathrm{rms} = \\frac{\\vec{I}}{\\sqrt{2}} = I_\\mathrm{rms} \\angle \\theta_i$ "
   ]
  },
  {
   "cell_type": "markdown",
   "metadata": {},
   "source": [
    "$$ S = V_\\mathrm{rms} I_\\mathrm{rms} \\angle \\theta_v - \\theta_i $$"
   ]
  },
  {
   "cell_type": "markdown",
   "metadata": {},
   "source": [
    "## Ejemplo 11.11\n",
    "La tensión en las terminales de una carga es $v(t) = 60 \\cos(\\omega t -10^\\circ) \\, \\mathrm{V}$ y la corriente que fluye a través del elemento en la dirección de la caída de tensión es $i(t) = 1,5 \\cos(\\omega t + 50^\\circ) \\, \\mathrm{A}$. \n",
    "\n",
    "Halle:\n",
    "1. las potencias compleja y aparente.\n",
    "2. las potencias real y reactiva.\n",
    "3. el fasor de potencia y la impedancia de carga."
   ]
  },
  {
   "cell_type": "markdown",
   "metadata": {},
   "source": [
    "### Solución\n",
    "1. En cuanto a los valores rms de la tensión y la corriente, se escribe"
   ]
  },
  {
   "cell_type": "markdown",
   "metadata": {},
   "source": [
    "$$ V_\\mathrm{rms} = \\frac{60}{\\sqrt{2}} \\angle -10^\\circ \\qquad \\wedge \\qquad I_\\mathrm{rms} = \\frac{1,5}{\\sqrt{2}} \\angle +50^\\circ $$"
   ]
  },
  {
   "cell_type": "code",
   "execution_count": 1,
   "metadata": {},
   "outputs": [],
   "source": [
    "import math, cmath"
   ]
  },
  {
   "cell_type": "code",
   "execution_count": 2,
   "metadata": {},
   "outputs": [],
   "source": [
    "V_rms = cmath.rect( 60/math.sqrt(2) , math.radians(-10) )\n",
    "I_rms = cmath.rect( 1.5/math.sqrt(2) , math.radians(50) )"
   ]
  },
  {
   "cell_type": "code",
   "execution_count": 3,
   "metadata": {},
   "outputs": [],
   "source": [
    "# La potencia compleja es\n",
    "S = V_rms*I_rms.conjugate()"
   ]
  },
  {
   "cell_type": "code",
   "execution_count": 7,
   "metadata": {},
   "outputs": [
    {
     "name": "stdout",
     "output_type": "stream",
     "text": [
      "S = (45.00 < -60.00°) VA\n"
     ]
    }
   ],
   "source": [
    "phi = cmath.phase(S)\n",
    "print('S = (%.2f < %.2f°) VA'%(abs(S) , math.degrees( phi )))"
   ]
  },
  {
   "cell_type": "code",
   "execution_count": 6,
   "metadata": {},
   "outputs": [
    {
     "name": "stdout",
     "output_type": "stream",
     "text": [
      "S = 22.50-38.97j VA\n"
     ]
    }
   ],
   "source": [
    "print('S = {:.2f} VA'.format(S))"
   ]
  },
  {
   "cell_type": "code",
   "execution_count": 17,
   "metadata": {},
   "outputs": [],
   "source": [
    "# P = abs(S)*math.cos(phi)\n",
    "P = S.real\n",
    "Q = S.imag"
   ]
  },
  {
   "cell_type": "code",
   "execution_count": 18,
   "metadata": {},
   "outputs": [
    {
     "name": "stdout",
     "output_type": "stream",
     "text": [
      "P = 22.50 W\n",
      "Q = -38.97 VAr\n"
     ]
    }
   ],
   "source": [
    "print('P = %.2f W'%P)\n",
    "print('Q = %.2f VAr'%Q)"
   ]
  },
  {
   "cell_type": "code",
   "execution_count": 19,
   "metadata": {},
   "outputs": [],
   "source": [
    "# El factor de potencia es\n",
    "fp = math.cos(phi)"
   ]
  },
  {
   "cell_type": "code",
   "execution_count": 20,
   "metadata": {},
   "outputs": [
    {
     "name": "stdout",
     "output_type": "stream",
     "text": [
      "fp = 0.50\n"
     ]
    }
   ],
   "source": [
    "print('fp = %.2f'%fp)"
   ]
  },
  {
   "cell_type": "markdown",
   "metadata": {},
   "source": [
    "El factor de potencia es adelantado, porque la potencia reactiva es negativa. La impedancia de la carga es"
   ]
  },
  {
   "cell_type": "code",
   "execution_count": 21,
   "metadata": {},
   "outputs": [],
   "source": [
    "Z = V_rms/I_rms"
   ]
  },
  {
   "cell_type": "code",
   "execution_count": 22,
   "metadata": {},
   "outputs": [
    {
     "name": "stdout",
     "output_type": "stream",
     "text": [
      "Z = (40.00 < -60.00°) Ohm\n"
     ]
    }
   ],
   "source": [
    "print('Z = (%.2f < %.2f°) Ohm'%(abs(Z), math.degrees( cmath.phase(Z) ) ))"
   ]
  },
  {
   "cell_type": "code",
   "execution_count": null,
   "metadata": {},
   "outputs": [],
   "source": []
  }
 ],
 "metadata": {
  "kernelspec": {
   "display_name": "Python 3",
   "language": "python",
   "name": "python3"
  },
  "language_info": {
   "codemirror_mode": {
    "name": "ipython",
    "version": 3
   },
   "file_extension": ".py",
   "mimetype": "text/x-python",
   "name": "python",
   "nbconvert_exporter": "python",
   "pygments_lexer": "ipython3",
   "version": "3.7.6"
  }
 },
 "nbformat": 4,
 "nbformat_minor": 4
}
