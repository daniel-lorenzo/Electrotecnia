{
 "cells": [
  {
   "cell_type": "markdown",
   "metadata": {},
   "source": [
    "# Potencia compleja"
   ]
  },
  {
   "cell_type": "markdown",
   "metadata": {},
   "source": [
    "## Ejemplor 11.14\n",
    "En el circuito de la figura, $Z_1 = 60 \\angle -30^\\circ \\, \\Omega$ y $Z_2 = 40 \\angle 45^\\circ \\, \\Omega$. Calcule los valores totales de:\n",
    "1. La potencia aparente\n",
    "2. La potencia real\n",
    "3. La potencia reactiva\n",
    "4. El fp, suministrados por la fuente y vistos por la fuente"
   ]
  },
  {
   "cell_type": "markdown",
   "metadata": {},
   "source": [
    "<img src=\"img/ej11-14.png\">"
   ]
  },
  {
   "cell_type": "markdown",
   "metadata": {},
   "source": [
    "### Solución"
   ]
  },
  {
   "cell_type": "code",
   "execution_count": 9,
   "metadata": {},
   "outputs": [],
   "source": [
    "import math, cmath"
   ]
  },
  {
   "cell_type": "code",
   "execution_count": 10,
   "metadata": {},
   "outputs": [],
   "source": [
    "#Datos:\n",
    "Z1 = cmath.rect(60 , math.radians(-30) )\n",
    "Z2 = cmath.rect(40 , math.radians(45) )\n",
    "Vrms = cmath.rect(120 , math.radians(10) )"
   ]
  },
  {
   "cell_type": "code",
   "execution_count": 11,
   "metadata": {},
   "outputs": [],
   "source": [
    "def prl(x,y):\n",
    "    return (x*y)/(x + y)"
   ]
  },
  {
   "cell_type": "code",
   "execution_count": 22,
   "metadata": {},
   "outputs": [],
   "source": [
    "# ítem 1\n",
    "Zeq = prl(Z1,Z2)\n",
    "It = Vrms/Zeq\n",
    "S = Vrms*It.conjugate()\n",
    "# ítem 2\n",
    "P = S.real\n",
    "# ítem 3\n",
    "Q = S.imag\n",
    "# ítem 4\n",
    "fp = P/abs(S)\n",
    "# opcional\n",
    "I1 = Vrms/Z1\n",
    "I2 = Vrms/Z2\n",
    "S1 = abs(Vrms)**2/Z1.conjugate()\n",
    "S2 = abs(Vrms)**2/Z2.conjugate()"
   ]
  },
  {
   "cell_type": "code",
   "execution_count": 23,
   "metadata": {},
   "outputs": [
    {
     "name": "stdout",
     "output_type": "stream",
     "text": [
      "Resultados:\n",
      "-------------------------------\n",
      "Zeq = 28.71+8.35j Ohm\n",
      "It = (4.01 < -6.22°) A\n",
      "It = 3.99-0.44j A\n",
      "-------------------------------\n",
      "S = 462.40+134.56j VA\n",
      "P = 462.40 W\n",
      "Q = 134.56 VAr\n",
      "fp = 0.9602\n",
      "-------------------------------\n",
      "I1 = (2.00 < 40.00°) A\n",
      "I2 = (3.00 < -35.00°) A\n",
      "S1 = 207.85-120.00j VA\n",
      "S2 = 254.56+254.56j VA\n",
      "S = S1 + S2 = 462.40+134.56j VA\n",
      "-------------------------------\n"
     ]
    }
   ],
   "source": [
    "print('Resultados:')\n",
    "print('-------------------------------')\n",
    "print('Zeq = {:.2f} Ohm'.format(Zeq) )\n",
    "print('It = (%.2f < %.2f°) A'%(abs(It) , math.degrees( cmath.phase(It) ) ))\n",
    "print('It = {:.2f} A'.format(It))\n",
    "print('-------------------------------')\n",
    "print('S = {:.2f} VA'.format(S) )\n",
    "print('P = %.2f W'%P)\n",
    "print('Q = %.2f VAr'%Q)\n",
    "print('fp = %.4f'%fp)\n",
    "print('-------------------------------')\n",
    "print('I1 = (%.2f < %.2f°) A'%(abs(I1) , math.degrees( cmath.phase(I1) )))\n",
    "print('I2 = (%.2f < %.2f°) A'%(abs(I2) , math.degrees( cmath.phase(I2) )))\n",
    "print('S1 = {:.2f} VA'.format(S1))\n",
    "print('S2 = {:.2f} VA'.format(S2))\n",
    "print('S = S1 + S2 = {:.2f} VA'.format(S1 + S2))\n",
    "print('-------------------------------')"
   ]
  },
  {
   "cell_type": "code",
   "execution_count": 24,
   "metadata": {},
   "outputs": [],
   "source": [
    "%reset -s -f"
   ]
  },
  {
   "cell_type": "markdown",
   "metadata": {},
   "source": [
    "## Problema de práctica 11.14\n",
    "Dos cargas conectadas en paralelo son de 2 kW con fp adelantado de 0,75 y 4 kW con fp atrasado de 0,95, respectivamente. Calcule el fp de las dos cargas. Halle la potencia compleja suministrada por la fuente."
   ]
  },
  {
   "cell_type": "markdown",
   "metadata": {},
   "source": [
    "### Solución"
   ]
  },
  {
   "cell_type": "code",
   "execution_count": 1,
   "metadata": {},
   "outputs": [],
   "source": [
    "# Datos:\n",
    "P1 = 2e3 # W\n",
    "P2 = 4e3 # W\n",
    "fp1 = 0.75 # adelantado\n",
    "fp2 = 0.95 # atrasado"
   ]
  },
  {
   "cell_type": "code",
   "execution_count": 2,
   "metadata": {},
   "outputs": [],
   "source": [
    "import math, cmath"
   ]
  },
  {
   "cell_type": "code",
   "execution_count": 3,
   "metadata": {},
   "outputs": [],
   "source": [
    "phi1 = - math.acos(fp1) # adelantado\n",
    "phi2 = math.acos(fp2)  # atrasado\n",
    "S1 = cmath.rect(P1/fp1 , phi1 )\n",
    "S2 = cmath.rect(P2/fp2 , phi2 )\n",
    "St = S1 + S2\n",
    "Pt = P1 + P2\n",
    "fpt = Pt/abs(St)"
   ]
  },
  {
   "cell_type": "code",
   "execution_count": 6,
   "metadata": {},
   "outputs": [
    {
     "name": "stdout",
     "output_type": "stream",
     "text": [
      "Resultados:\n",
      "-------------------------------\n",
      "S1 = 2000.0-1763.8j VA\n",
      "S2 = 4000.0+1314.7j VA\n",
      "St = 6000.0-449.1j VA\n",
      "-------------------------------\n",
      "fpt = 0.9972\n"
     ]
    }
   ],
   "source": [
    "print('Resultados:')\n",
    "print('-------------------------------')\n",
    "print('S1 = {:.1f} VA'.format(S1))\n",
    "print('S2 = {:.1f} VA'.format(S2))\n",
    "print('St = {:.1f} VA'.format(St))\n",
    "print('-------------------------------')\n",
    "print('fpt = %.4f'%fpt)"
   ]
  },
  {
   "cell_type": "code",
   "execution_count": 7,
   "metadata": {},
   "outputs": [],
   "source": [
    "%reset -s -f"
   ]
  },
  {
   "cell_type": "code",
   "execution_count": null,
   "metadata": {},
   "outputs": [],
   "source": []
  }
 ],
 "metadata": {
  "kernelspec": {
   "display_name": "Python 3",
   "language": "python",
   "name": "python3"
  },
  "language_info": {
   "codemirror_mode": {
    "name": "ipython",
    "version": 3
   },
   "file_extension": ".py",
   "mimetype": "text/x-python",
   "name": "python",
   "nbconvert_exporter": "python",
   "pygments_lexer": "ipython3",
   "version": "3.7.6"
  }
 },
 "nbformat": 4,
 "nbformat_minor": 4
}
