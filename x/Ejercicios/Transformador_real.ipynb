{
 "cells": [
  {
   "cell_type": "markdown",
   "metadata": {},
   "source": [
    "## Ejemplo de cálculo de parámetros\n",
    "A un transformador monofásico de $S_N = 333 \\, \\mathrm{kVA}$; $U_N = 6000/133 \\, \\mathrm{V}$; en $50 \\, \\mathrm{Hz}$ se lo somete a ensayos. En vacío y aplicando $133 \\, \\mathrm{V}$ se lee una corriente de $110 \\, \\mathrm{A}$ y una potencia de $1300 \\, \\mathrm{W}$. Por su parte en el ensayo de corto circuito se obtuvieron: $I_{CC} = 55,5 \\, \\mathrm{A}$; $U_{CC} = 193,5 \\, \\mathrm{V}$, y consumió $2500 \\, \\mathrm{W}$. Calcular los parámetros equivalentes tanto al lado de alta como los del lado de baja tensión. Dibujar el circuito equivalente."
   ]
  },
  {
   "cell_type": "markdown",
   "metadata": {},
   "source": [
    "### Solución"
   ]
  },
  {
   "cell_type": "code",
   "execution_count": 1,
   "metadata": {},
   "outputs": [],
   "source": [
    "import numpy as np\n",
    "import cmath"
   ]
  },
  {
   "cell_type": "code",
   "execution_count": 2,
   "metadata": {},
   "outputs": [],
   "source": [
    "# Datos:\n",
    "SN = 333e3   # VA (potencia aparente nominal)\n",
    "UN1 = 6000   # V  (voltaje nominal primario)\n",
    "UN2 =  133   # V  (voltaje nominal secundario)\n",
    "f =     50   # Hz (frecuencia)\n",
    "Ucc = 193.5  # V (voltaje de cortocircuito)\n",
    "Icc =  55.5  # A (corriente de cortocircuito)\n",
    "Pcc = 2500   # W (potencia de cortocircuito)"
   ]
  },
  {
   "cell_type": "code",
   "execution_count": 3,
   "metadata": {},
   "outputs": [],
   "source": [
    "# Corriente nominal primaria\n",
    "IN1 = SN/UN1\n",
    "# Corriente nominal secundaria\n",
    "IN2 = SN/UN2\n",
    "# (relación de transformación)\n",
    "a = UN1/UN2 \n",
    "# De las lecturas del ensayo\n",
    "Zeq1 = Ucc/Icc"
   ]
  },
  {
   "cell_type": "markdown",
   "metadata": {},
   "source": [
    "$$ P_{CC} = I_{CC} U_{CC} \\cos \\varphi_{CC} $$"
   ]
  },
  {
   "cell_type": "markdown",
   "metadata": {},
   "source": [
    "Entonces:\n",
    "$$ \\varphi_{CC} = \\arccos \\left( \\frac{P_{CC}}{I_{CC} U_{CC}} \\right) $$"
   ]
  },
  {
   "cell_type": "code",
   "execution_count": 4,
   "metadata": {},
   "outputs": [],
   "source": [
    "# ángulo de corto circuito\n",
    "phi_cc = np.arccos(Pcc/(Icc*Ucc))"
   ]
  },
  {
   "cell_type": "code",
   "execution_count": 5,
   "metadata": {},
   "outputs": [],
   "source": [
    "# Parámetros longitudinales del modelo\n",
    "# Primario (o alta tensión)\n",
    "Req1 = Zeq1*np.cos(phi_cc)\n",
    "Xeq1 = Zeq1*np.sin(phi_cc)\n",
    "Zeq1 = complex(Req1,Xeq1)"
   ]
  },
  {
   "cell_type": "code",
   "execution_count": 6,
   "metadata": {},
   "outputs": [],
   "source": [
    "# Secundario (o baja tensión)\n",
    "Req2 = Req1/a**2\n",
    "Xeq2 = Xeq1/a**2\n",
    "Zeq2 = complex(Req2,Xeq2)"
   ]
  },
  {
   "cell_type": "code",
   "execution_count": 7,
   "metadata": {},
   "outputs": [],
   "source": [
    "# De las lecturas del ensayo en vacío se obtiene:\n",
    "Uo =  133 # V\n",
    "Po = 1300 # W\n",
    "Io =  110 # A\n",
    "Io2 = Io"
   ]
  },
  {
   "cell_type": "markdown",
   "metadata": {},
   "source": [
    "$$ P_0 = U_0 I_0 \\cos \\varphi_0 $$"
   ]
  },
  {
   "cell_type": "markdown",
   "metadata": {},
   "source": [
    "Entonces\n",
    "$$ \\varphi_0 = \\arccos \\left( \\frac{P_0}{I_0 U_0} \\right) $$"
   ]
  },
  {
   "cell_type": "code",
   "execution_count": 11,
   "metadata": {},
   "outputs": [],
   "source": [
    "phi_0 = Po/(Io*Uo)\n",
    "Ip = Io*np.cos(phi_0)\n",
    "Im = Io*np.sin(phi_0)\n",
    "# Secundario\n",
    "Rp2 = Uo/Ip\n",
    "Xm2 = Uo/Im\n",
    "# Primario\n",
    "Rp1 = Rp2*a**2\n",
    "Xm1 = Xm2*a**2"
   ]
  },
  {
   "cell_type": "markdown",
   "metadata": {},
   "source": [
    "## Ejemplo de cálculos de regulación\n",
    "Tomando el transformador del ejemplo anterior calcular la regulación para una carga que, conectada al secundario, demande el 70% de la corriente nominal con coseno de fi de 0,7 inductivo, y para una carga con un coseno de fi de 0,7 capacitivo, e igual corriente"
   ]
  },
  {
   "cell_type": "code",
   "execution_count": 12,
   "metadata": {},
   "outputs": [],
   "source": [
    "I2 = 0.7*IN2\n",
    "U20 = UN2\n",
    "fp2 = 0.7\n",
    "phi2 = np.arccos(fp2)"
   ]
  },
  {
   "cell_type": "code",
   "execution_count": 19,
   "metadata": {},
   "outputs": [],
   "source": [
    "# La regulación para el caso inductivo\n",
    "U2i = U20 - I2*(Req2*fp2 + Xeq2*np.sin(phi2))\n",
    "r_perc_ind = (U20 - U2i)/U20 * 100"
   ]
  },
  {
   "cell_type": "code",
   "execution_count": 21,
   "metadata": {},
   "outputs": [],
   "source": [
    "# La regulación para el caso capacitivo\n",
    "U2c = U20 - I2*(Req2*fp2 - Xeq2*np.sin(phi2))\n",
    "r_perc_cap = (U20 - U2c)/U20 * 100"
   ]
  },
  {
   "cell_type": "code",
   "execution_count": 26,
   "metadata": {},
   "outputs": [],
   "source": [
    "Pcu = Po\n",
    "I2n_max = np.sqrt(Po/Req2)"
   ]
  },
  {
   "cell_type": "code",
   "execution_count": 30,
   "metadata": {},
   "outputs": [],
   "source": [
    "fp = 0.8\n",
    "n_ind = (U2i*I2*fp)/(U2i*I2*fp + Pcu + Po)\n",
    "n_cap = (U2c*I2*fp)/(U2c*I2*fp + Pcu + Po)"
   ]
  },
  {
   "cell_type": "code",
   "execution_count": 41,
   "metadata": {},
   "outputs": [],
   "source": [
    "I2_max = np.sqrt(Po/Req2)\n",
    "U2_max = U20 - I2_max*(Req2)"
   ]
  },
  {
   "cell_type": "code",
   "execution_count": 42,
   "metadata": {},
   "outputs": [],
   "source": [
    "n_max = (U2_max*I2_max*1)/(U2_max*I2_max*1 + Pcu + Po)"
   ]
  },
  {
   "cell_type": "code",
   "execution_count": 44,
   "metadata": {},
   "outputs": [
    {
     "data": {
      "text/plain": [
       "98.92308202385833"
      ]
     },
     "execution_count": 44,
     "metadata": {},
     "output_type": "execute_result"
    }
   ],
   "source": [
    "n_max * 100"
   ]
  },
  {
   "cell_type": "code",
   "execution_count": null,
   "metadata": {},
   "outputs": [],
   "source": []
  }
 ],
 "metadata": {
  "kernelspec": {
   "display_name": "Python 3",
   "language": "python",
   "name": "python3"
  },
  "language_info": {
   "codemirror_mode": {
    "name": "ipython",
    "version": 3
   },
   "file_extension": ".py",
   "mimetype": "text/x-python",
   "name": "python",
   "nbconvert_exporter": "python",
   "pygments_lexer": "ipython3",
   "version": "3.7.6"
  }
 },
 "nbformat": 4,
 "nbformat_minor": 4
}
