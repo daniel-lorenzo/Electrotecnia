{
 "cells": [
  {
   "cell_type": "markdown",
   "id": "bba7e58a-8d51-4d2c-a690-7ee20bb15ba6",
   "metadata": {},
   "source": [
    "# TP N°5 - Circuitos trifásicos\n",
    "__U.N.L.Z. - Facultad de Ingeniería__       \n",
    "__Electrotecnia__      \n",
    "__Alumno:__ Daniel Antonio Lorenzo       \n",
    "<mark><strong>(Resolución en python3)</strong></mark>"
   ]
  },
  {
   "cell_type": "markdown",
   "id": "0e013890-ce56-49a9-b3c0-236081a4cee4",
   "metadata": {},
   "source": [
    "## Problema N°3\n",
    "Un sistema trifásico de secuencia CBA 3x380V de 4 conductores, alimenta una carga trifásica en estrella."
   ]
  },
  {
   "cell_type": "markdown",
   "id": "564a029c-5568-4bdc-a6c6-57401d0af9e0",
   "metadata": {},
   "source": [
    "$Z_a = 6 \\, \\Omega$ con ángulo de desfasaje 0°    \n",
    "$Z_b = 6 \\, \\Omega$ con ángulo de desfasaje 30° inductivo    \n",
    "$Z_c = 5 \\, \\Omega$ con ángulo de desfasaje 45° inductivo"
   ]
  },
  {
   "cell_type": "markdown",
   "id": "e784de22-9a89-481d-a70a-259036d7f772",
   "metadata": {},
   "source": [
    "1. Calcular las corrientes $I_r, \\, I_s, \\ I_t, \\, I_\\mathrm{neutro}$, representar el diagrama de tensiones y corrientes.\n",
    "2. Determinar la potencia en cada fase y la potencia trifásica."
   ]
  },
  {
   "cell_type": "markdown",
   "id": "91a7e019-f4d7-4a30-a19f-1ec0dd555b0f",
   "metadata": {},
   "source": [
    "<img src=\"img/tp5ej2.png\">"
   ]
  },
  {
   "cell_type": "markdown",
   "id": "ad6e376c-aed7-4dfd-9e4f-f8ac0fcde29d",
   "metadata": {},
   "source": [
    "### Solución"
   ]
  },
  {
   "cell_type": "code",
   "execution_count": 8,
   "id": "9fb3288e-3822-497e-8577-1732c8cb7b7a",
   "metadata": {},
   "outputs": [],
   "source": [
    "import numpy as np\n",
    "import cmath"
   ]
  },
  {
   "cell_type": "code",
   "execution_count": 9,
   "id": "ef89c802-d4e5-4554-8f02-6d7d4fb3fcf9",
   "metadata": {},
   "outputs": [],
   "source": [
    "# Datos:\n",
    "E_lin = 380 # V                       (tensión de línea)\n",
    "E_fase = E_lin/np.sqrt(3) # V         (tensión de fase)\n",
    "# Tensiones de generación:\n",
    "Ean = cmath.rect(E_fase, np.deg2rad(0) )\n",
    "Ebn = cmath.rect(E_fase, np.deg2rad(120))\n",
    "Ecn = cmath.rect(E_fase, np.deg2rad(240))\n",
    "# Caídas de tensión en las cargas\n",
    "Uao = Ean\n",
    "Ubo = Ebn\n",
    "Uco = Ecn\n",
    "# Impedancias de carga\n",
    "Za = cmath.rect(6,0)\n",
    "Zb = cmath.rect(6, np.deg2rad(30) )\n",
    "Zc = cmath.rect(5, np.deg2rad(45) )"
   ]
  },
  {
   "cell_type": "markdown",
   "id": "541ea8b9-c58a-4269-9634-dc80c08a7f5f",
   "metadata": {},
   "source": [
    "<div class=\"alert-danger\">\n",
    "<strong>La carga trifásica NO es equilibrada</strong>, conectada en estrella, eso significa que las tres impedancias <strong>NO SON iguales</strong> entre sí.\n",
    "    </div>"
   ]
  },
  {
   "cell_type": "code",
   "execution_count": 10,
   "id": "19e90096-713e-43df-9824-6ac69be4b398",
   "metadata": {},
   "outputs": [],
   "source": [
    "# Cálculo de las intensidades de corriente en fase\n",
    "Ia = Uao/Za\n",
    "Ib = Ubo/Zb\n",
    "Ic = Uco/Zc\n",
    "# Cálculo de intensidad de corriente de Neutro (4to. conductor)\n",
    "In = Ia + Ib +Ic\n",
    "# Cálculo de potencia aparente\n",
    "Sa = Uao*Ia.conjugate()\n",
    "Sb = Ubo*Ib.conjugate()\n",
    "Sc = Uco*Ic.conjugate()\n",
    "# Cálculo de potencia activa\n",
    "Pa = Sa.real\n",
    "Pb = Sb.real\n",
    "Pc = Sc.real\n",
    "# Cálculo de potencia reactiva\n",
    "Qa = Sa.imag\n",
    "Qb = Sb.imag\n",
    "Qc = Sc.imag\n",
    "# Cálculo de potencia trifásica aparente\n",
    "Strif = Sa + Sb + Sc\n",
    "# Potencia trifásica activa\n",
    "Ptrif = Strif.real\n",
    "# Potencia trifásica reactiva\n",
    "Qtrif = Strif.imag"
   ]
  },
  {
   "cell_type": "code",
   "execution_count": 11,
   "id": "fa5b9d79-8b13-44e9-93f9-e3f3dec86512",
   "metadata": {
    "jupyter": {
     "source_hidden": true
    },
    "tags": []
   },
   "outputs": [
    {
     "name": "stdout",
     "output_type": "stream",
     "text": [
      "Corrientes de fase:\n",
      "Ia = (36.57 ∠ 0.00°) A\n",
      "Ib = (36.57 ∠ 90.00°) A\n",
      "Ic = (43.88 ∠ -165.00°) A\n",
      "Corriente de neutro:\n",
      "In = (25.87 ∠ 103.00°) A\n",
      "Potencia aparente:\n",
      "Sa = 8022.22+0.00j VA = (8022.22 ∠ 0.00°) VA\n",
      "Sb = 6947.45+4011.11j VA = (8022.22 ∠ 30.00°) VA\n",
      "Sc = 6807.08+6807.08j VA = (9626.67 ∠ 45.00°) VA\n",
      "Potencia activa:\n",
      "Pa = 8022.22 W\n",
      "Pb = 6947.45 W\n",
      "Pc = 6807.08 W\n",
      "Potencia reactiva:\n",
      "Qa = 0.00 VAr\n",
      "Qb = 4011.11 VAr\n",
      "Qc = 6807.08 VAr\n",
      "Potencia trifásica aparente:\n",
      "Strif = 21776.75+10818.19j VA = (24315.84 ∠ 26.42°) VA\n",
      "Potencia trifásica activa:\n",
      "Ptrif = 21776.75 W\n",
      "Potencia trifásica reactiva:\n",
      "Qtrif = 10818.19 VAr\n"
     ]
    }
   ],
   "source": [
    "print('Corrientes de fase:')\n",
    "print('Ia = (%.2f ∠ %.2f°) A'%(abs(Ia) , np.rad2deg( cmath.phase(Ia) ) ))\n",
    "print('Ib = (%.2f ∠ %.2f°) A'%(abs(Ib) , np.rad2deg( cmath.phase(Ib) ) ))\n",
    "print('Ic = (%.2f ∠ %.2f°) A'%(abs(Ic) , np.rad2deg( cmath.phase(Ic) ) ))\n",
    "print('Corriente de neutro:')\n",
    "print('In = (%.2f ∠ %.2f°) A'%(abs(In) , np.rad2deg( cmath.phase(In) ) ))\n",
    "print('Potencia aparente:')\n",
    "print('Sa = {:.2f} VA = (%.2f ∠ %.2f°) VA'.format(Sa)%(abs(Sa) , np.rad2deg( cmath.phase(Sa) ) ))\n",
    "print('Sb = {:.2f} VA = (%.2f ∠ %.2f°) VA'.format(Sb)%(abs(Sb) , np.rad2deg( cmath.phase(Sb) ) ))\n",
    "print('Sc = {:.2f} VA = (%.2f ∠ %.2f°) VA'.format(Sc)%(abs(Sc) , np.rad2deg( cmath.phase(Sc) ) ))\n",
    "print('Potencia activa:')\n",
    "print('Pa = %.2f W'%Pa)\n",
    "print('Pb = %.2f W'%Pb)\n",
    "print('Pc = %.2f W'%Pc)\n",
    "print('Potencia reactiva:')\n",
    "print('Qa = %.2f VAr'%Qa)\n",
    "print('Qb = %.2f VAr'%Qb)\n",
    "print('Qc = %.2f VAr'%Qc)\n",
    "print('Potencia trifásica aparente:')\n",
    "print('Strif = {:.2f} VA = (%.2f ∠ %.2f°) VA'.format(Strif)%(abs(Strif) , np.rad2deg( cmath.phase(Strif) ) ))\n",
    "print('Potencia trifásica activa:')\n",
    "print('Ptrif = %.2f W'%Ptrif)\n",
    "print('Potencia trifásica reactiva:')\n",
    "print('Qtrif = %.2f VAr'%Qtrif)"
   ]
  },
  {
   "cell_type": "code",
   "execution_count": 12,
   "id": "f383440c-6bd2-4cdb-991b-68e85869b97e",
   "metadata": {},
   "outputs": [],
   "source": [
    "%reset -s -f"
   ]
  }
 ],
 "metadata": {
  "kernelspec": {
   "display_name": "Python 3 (ipykernel)",
   "language": "python",
   "name": "python3"
  },
  "language_info": {
   "codemirror_mode": {
    "name": "ipython",
    "version": 3
   },
   "file_extension": ".py",
   "mimetype": "text/x-python",
   "name": "python",
   "nbconvert_exporter": "python",
   "pygments_lexer": "ipython3",
   "version": "3.9.12"
  }
 },
 "nbformat": 4,
 "nbformat_minor": 5
}
