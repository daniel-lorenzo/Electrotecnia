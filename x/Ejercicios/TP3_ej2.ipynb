{
 "cells": [
  {
   "cell_type": "markdown",
   "id": "18e9cb37-44c4-45ed-8064-981870ee3246",
   "metadata": {},
   "source": [
    "# Ejercicios de clase - Thevenin\n",
    "__UNLZ - Facultad de Ingeniería__       \n",
    "__Electrotecnia__      \n",
    "__Alumno:__ Daniel Antonio Lorenzo"
   ]
  },
  {
   "cell_type": "markdown",
   "id": "aee97c2c-e4f0-4fd7-b1a3-a5e80494414d",
   "metadata": {},
   "source": [
    "## Problema N°2\n",
    "Obtener el equivalente de Thevenin (entre los puntos a y b) y calcular la corriente que circularía si, en estos terminales, se coloca una resistencia de $30 \\, \\Omega$ $(R_c)$."
   ]
  },
  {
   "cell_type": "markdown",
   "id": "5e47ea3b-b258-4cd0-b85f-dc97209f9197",
   "metadata": {},
   "source": [
    "<img src=\"img/tp3e2.png\" alt=\"tp3e2.png\">"
   ]
  },
  {
   "cell_type": "markdown",
   "id": "2c523409-3cab-42f2-ae5b-128fbf829ec5",
   "metadata": {},
   "source": [
    "### Solución"
   ]
  },
  {
   "cell_type": "markdown",
   "id": "e9f6e9dc-43e6-429c-be3b-78a44ba16918",
   "metadata": {},
   "source": [
    "__Cálculo de $Z_{th}$__\n",
    "\n",
    "1) $Z_0 || Z_1$; siendo $Z_0 = 0 + j0 = 0e^{-j0^\\circ}$"
   ]
  },
  {
   "cell_type": "markdown",
   "id": "d8db8ebb-bdec-4e0f-9b03-d8f115855e0a",
   "metadata": {},
   "source": [
    "$$ \\frac{Z_0 Z_1}{Z_0 + Z_1} = \\frac{0e^{j0} \\cdot 111,8e^{j63,43^\\circ}}{(0 + j0) + (50 + j100)} = 0 $$"
   ]
  },
  {
   "cell_type": "markdown",
   "id": "086cc710-6c56-46ac-838e-774f00187dbe",
   "metadata": {},
   "source": [
    "<img src=\"img/tp3e2-1.png\" alt=\"tp3e2-1.png\">"
   ]
  },
  {
   "cell_type": "markdown",
   "id": "b68d8d62-5b6b-47a2-8ff3-4e94b10faad6",
   "metadata": {},
   "source": [
    "2) $Z_2 || Z_3$"
   ]
  },
  {
   "cell_type": "markdown",
   "id": "058b75a7-781a-4ed2-971f-747d245275c9",
   "metadata": {},
   "source": [
    "$$ \\frac{Z_2 Z_3}{Z_2 + Z_3} = \\frac{111,8e^{j63,43} \\cdot 50e^{-j90^\\circ}}{(50 + j100) + (0 - j50)} = 79,06e^{-j71,57^\\circ} \\, \\Omega \\quad \\rightarrow (25 - j75) \\, \\Omega$$"
   ]
  },
  {
   "cell_type": "markdown",
   "id": "ee595afa-ec36-4dee-a987-5fe0152c2c77",
   "metadata": {},
   "source": [
    "<img src=\"img/tp3e2-2.png\" alt=\"tp3e2-2.png\">"
   ]
  },
  {
   "cell_type": "markdown",
   "id": "9d078753-7238-42fb-b166-507cbf30f43a",
   "metadata": {},
   "source": [
    "3) $(Z_2 || Z_3) + Z_4$"
   ]
  },
  {
   "cell_type": "markdown",
   "id": "97294ff5-9349-458a-b508-ad7457b38603",
   "metadata": {},
   "source": [
    "<img src=\"img/tp3e2-3.png\" alt=\"tp3e2-3.png\">"
   ]
  },
  {
   "cell_type": "markdown",
   "id": "9fa7780f-cc2f-4f1d-b967-550531e823b5",
   "metadata": {},
   "source": [
    "$$ (25 - j75) + (25 + j0) = (50 - j75) \\, \\Omega $$"
   ]
  },
  {
   "cell_type": "markdown",
   "id": "7c062876-82ba-4f85-8be7-e2b19341dd4f",
   "metadata": {},
   "source": [
    "<div class=\"alert-info\"><strong>Por lo tanto</strong>\n",
    "$$ Z_{th} = (50 - j75) \\, \\Omega \\quad \\rightarrow \\quad 90,14e^{-j56,31^\\circ} \\, \\Omega $$\n",
    "    </div>"
   ]
  },
  {
   "cell_type": "markdown",
   "id": "c95b55d6-66e5-4ff9-9a98-2e74a78a3581",
   "metadata": {},
   "source": [
    "__Cálculo de $V_{th}$__"
   ]
  },
  {
   "cell_type": "markdown",
   "id": "c608e107-fd76-436b-94ef-ec3ee2867bb3",
   "metadata": {},
   "source": [
    "$$ V_{th} = V_{AB} = V_{Z_3} $$"
   ]
  },
  {
   "cell_type": "markdown",
   "id": "3c763697-ae21-40a4-880a-85f7156e0cb7",
   "metadata": {},
   "source": [
    "<img src=\"img/tp3e2-4.png\" alt=\"tp3e2-4.png\">"
   ]
  },
  {
   "cell_type": "markdown",
   "id": "d36a5d8e-d1cb-44b5-bf31-a4ced6eb1c93",
   "metadata": {},
   "source": [
    "1) $Z_3 + Z_2$\n",
    "$$ (0 - j50) + (50 + j100) = 50 + j50 \\, \\Omega \\quad \\rightarrow 70,71e^{j45^\\circ} \\, \\Omega $$"
   ]
  },
  {
   "cell_type": "markdown",
   "id": "4c16245a-391d-40e5-9f97-b22d635728db",
   "metadata": {},
   "source": [
    "<img src=\"img/tp3e2-5.png\" alt=\"tp3e2-5.png\">"
   ]
  },
  {
   "cell_type": "markdown",
   "id": "b6f0a5c5-a75b-4013-8042-bd566cf4a630",
   "metadata": {},
   "source": [
    "2) $(Z_4 + Z_3) \\, || Z_1$\n",
    "$$ \\frac{70,71e^{j45^\\circ} \\cdot 111,8e^{j63,43^\\circ}}{(50 + j50) + (50 + j100)} = 43,85e^{j52,13^\\circ} \\, \\Omega $$"
   ]
  },
  {
   "cell_type": "markdown",
   "id": "c5552ac1-680c-43c2-8792-b4e5025a20a0",
   "metadata": {},
   "source": [
    "Por lo tanto\n",
    "$$ Z_{eq} = 43,85e^{j52,13^\\circ} \\, \\Omega $$"
   ]
  },
  {
   "cell_type": "markdown",
   "id": "03f83b83-8af0-4fe1-91c3-adc8a4b6842b",
   "metadata": {},
   "source": [
    "Cálculo $I_t$"
   ]
  },
  {
   "cell_type": "markdown",
   "id": "8cd8032f-4368-48d1-a3d8-f546654a82a0",
   "metadata": {},
   "source": [
    "<img src=\"img/tp3e2-6.png\" alt=\"tp3e2-6.png\">"
   ]
  },
  {
   "cell_type": "markdown",
   "id": "d3ec59e0-1474-49e6-96d4-bed40241a744",
   "metadata": {},
   "source": [
    "$$ I_t = \\frac{V}{Z_{eq}} = \\frac{220e^{j0^\\circ}}{43,85e^{51,13^\\circ}} = 5,02e^{-j52,13^\\circ} \\, \\mathrm{A} \\quad \\rightarrow (3,08 - j3,96) \\, \\mathrm{A}  $$"
   ]
  },
  {
   "cell_type": "markdown",
   "id": "9362cbfc-a4ab-4e4d-8304-4bb71bca3139",
   "metadata": {},
   "source": [
    "Además\n",
    "$$ I_2 = I_t - I_1 $$"
   ]
  },
  {
   "cell_type": "markdown",
   "id": "00028342-9ef2-475d-be24-3c93d0371dea",
   "metadata": {},
   "source": [
    "Entonces\n",
    "$$ I_1 = \\frac{U}{Z_1} = \\frac{220e^{j0^\\circ}}{111,8e^{j63,43^\\circ}} = 1,97e^{-j63,43^\\circ} \\, \\mathrm{A} \\quad \\rightarrow (0,88 - j1,76) \\, \\mathrm{A} $$"
   ]
  },
  {
   "cell_type": "markdown",
   "id": "3d65151f-7261-4912-bbd6-4d8ae3f31bcc",
   "metadata": {},
   "source": [
    "Cálculo de $I_2$\n",
    "$$ I_2 = I_t - I_2 = (2,20 - j2,20) \\, \\mathrm{A} \\quad \\rightarrow 3,11e^{-j45^\\circ} \\, \\mathrm{A}  $$"
   ]
  },
  {
   "cell_type": "markdown",
   "id": "4d36f88f-cd67-4d1b-8f3f-1a4f156504a1",
   "metadata": {},
   "source": [
    "<div class=\"alert-info\"><strong>Por lo tanto</strong>\n",
    "$$ V_{th} = V_{AB} = V_{Z_3} = I_2 Z_3 = 155,56e^{-j135^\\circ} \\, \\mathrm{V} $$\n",
    "    </div>"
   ]
  },
  {
   "cell_type": "markdown",
   "id": "1d332c75-6000-442e-a984-96e85944f3c0",
   "metadata": {},
   "source": [
    "<img src=\"img/tp3e2-7.png\" alt=\"tp3e2-7.png\">"
   ]
  },
  {
   "cell_type": "markdown",
   "id": "f610c1b3-5e73-4f8b-8d6b-0627f9c83288",
   "metadata": {},
   "source": [
    "<div class=\"alert-info\"><strong>Cálculo de $I_{RC}$</strong>\n",
    "$$ I_{RC} = \\frac{V_{th}}{Z_{th} + R_c} = 1,42e^{-j91,85^\\circ} \\, \\mathrm{A} $$\n",
    "    </div>"
   ]
  },
  {
   "cell_type": "markdown",
   "id": "7df834cb-2815-4678-9c58-73a38194b716",
   "metadata": {},
   "source": [
    "### Usando python para calcular (opcional)"
   ]
  },
  {
   "cell_type": "code",
   "execution_count": 6,
   "id": "0e2cf2fd-223a-4832-ad9d-21dfdc87be86",
   "metadata": {},
   "outputs": [],
   "source": [
    "import math, cmath"
   ]
  },
  {
   "cell_type": "code",
   "execution_count": 7,
   "id": "6066899c-efa1-45d1-ae67-028882a9063a",
   "metadata": {},
   "outputs": [],
   "source": [
    "# Datos\n",
    "Z1 = 50+100j\n",
    "Z2 = Z1\n",
    "Z3 = 0-50j\n",
    "Z4 = 25+0j\n",
    "U = 220+0j\n",
    "Rc = 30"
   ]
  },
  {
   "cell_type": "code",
   "execution_count": 8,
   "id": "638f6acb-9934-46e3-ba8f-6f18d3e7a7a3",
   "metadata": {},
   "outputs": [],
   "source": [
    "# Cálculo de Zth\n",
    "#1)   Z0 || Z1 ; siendo Z0 = 0 + 0j\n",
    "Z0 = 0\n",
    "ans1 = (Z0*Z1)/(Z0 + Z3)\n",
    "\n",
    "#2)   Z2 || Z3\n",
    "ans2 = (Z2*Z3)/(Z2+Z3)\n",
    "\n",
    "#3)   (Z2 || Z3) + Z4\n",
    "Zth = ans2 + Z4\n",
    "Zthpol = cmath.polar(Zth)\n",
    "\n",
    "# Cálculo de Zeq = (Z2 + Z3) || Z1\n",
    "Zeq = ((Z2 + Z3)*Z1)/(Z1 + Z2 + Z3)\n",
    "\n",
    "# Cálculo de It\n",
    "It = U/Zeq\n",
    "I1 = U/Z1\n",
    "I2 = It - I1\n",
    "\n",
    "# Cálculo de Vth\n",
    "Vth = I2*Z3\n",
    "Vth_pol = cmath.polar(Vth)\n",
    "\n",
    "# Cálculo de I_rc\n",
    "I_rc = Vth/(Zth + Rc)\n",
    "I_rcpol = cmath.polar(I_rc)"
   ]
  },
  {
   "cell_type": "code",
   "execution_count": 9,
   "id": "36265203-8e00-437d-9913-888ceeae49a2",
   "metadata": {},
   "outputs": [
    {
     "name": "stdout",
     "output_type": "stream",
     "text": [
      "Resultados:\n",
      "-----------------------------------------\n",
      "Zth = (90.14 < -56.31°) Ohm\n",
      "Zth = 50.00-75.00j Ohm\n",
      "-----------------------------------------\n",
      "Vth = (155.56 < -135.00°) V\n",
      "Vth = -110.00-110.00j V\n",
      "-----------------------------------------\n",
      "I_rc = (1.42 < -91.85°) A\n",
      "I_rc = -0.0457-1.4179j A\n",
      "-----------------------------------------\n"
     ]
    }
   ],
   "source": [
    "print('Resultados:')\n",
    "print('-----------------------------------------')\n",
    "print('Zth = (%.2f < %.2f°) Ohm'%(Zthpol[0], math.degrees(Zthpol[1]) ) )\n",
    "print('Zth = {:.2f} Ohm'.format(Zth))\n",
    "print('-----------------------------------------')\n",
    "print('Vth = (%.2f < %.2f°) V'%(Vth_pol[0], math.degrees(Vth_pol[1]) ))\n",
    "print('Vth = {:.2f} V'.format(Vth))\n",
    "print('-----------------------------------------')\n",
    "print('I_rc = (%.2f < %.2f°) A'%(I_rcpol[0], math.degrees(I_rcpol[1]) ))\n",
    "print('I_rc = {:.4f} A'.format(I_rc))\n",
    "print('-----------------------------------------')"
   ]
  },
  {
   "cell_type": "code",
   "execution_count": 10,
   "id": "f97a1732-323b-421b-b378-8cfaa5f60bd6",
   "metadata": {},
   "outputs": [],
   "source": [
    "%reset -s -f"
   ]
  }
 ],
 "metadata": {
  "kernelspec": {
   "display_name": "Python 3 (ipykernel)",
   "language": "python",
   "name": "python3"
  },
  "language_info": {
   "codemirror_mode": {
    "name": "ipython",
    "version": 3
   },
   "file_extension": ".py",
   "mimetype": "text/x-python",
   "name": "python",
   "nbconvert_exporter": "python",
   "pygments_lexer": "ipython3",
   "version": "3.9.12"
  }
 },
 "nbformat": 4,
 "nbformat_minor": 5
}
