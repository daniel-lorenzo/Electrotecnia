{
 "cells": [
  {
   "cell_type": "markdown",
   "metadata": {},
   "source": [
    "# Transformador monofásico"
   ]
  },
  {
   "cell_type": "markdown",
   "metadata": {},
   "source": [
    "## Parámetros y ensayos"
   ]
  },
  {
   "cell_type": "markdown",
   "metadata": {},
   "source": [
    "## Problema 1.1\n",
    "Los ensayos de un transformador monofásico de 10kVA, 230/2300V han dado los siguentes resultados:"
   ]
  },
  {
   "cell_type": "markdown",
   "metadata": {},
   "source": [
    "<table style=\"width: 80%;\"><tbody><tr><td style=\"width: 40.0000%;\"><strong>Vac&iacute;o (medidas en el lado de BT)</strong><br></td><td style=\"width: 20%; text-align: center;\">230 V<br></td><td style=\"width: 25%; text-align: center;\">0,45 A<br></td><td style=\"width: 20%; text-align: center;\">70 W<br></td></tr><tr><td style=\"width: 20.0000%;\"><strong>Cortocircuito (medidas en el lado de AT)</strong><br></td><td style=\"width: 40%; text-align: center;\">120 V<br></td><td style=\"width: 20%; text-align: center;\">4,5 A<br></td><td style=\"width: 20%; text-align: center;\">240 W<br></td></tr></tbody></table>"
   ]
  },
  {
   "cell_type": "markdown",
   "metadata": {},
   "source": [
    "__a)__ Calcular los parámetros del circuito equivalente.       \n",
    "__b)__ Calcular las tensiones relativas $\\varepsilon_{Rcc}, \\, \\varepsilon_{Xcc}$ y $\\varepsilon_{cc}$."
   ]
  },
  {
   "cell_type": "markdown",
   "metadata": {},
   "source": [
    "### Solución"
   ]
  },
  {
   "cell_type": "code",
   "execution_count": 1,
   "metadata": {},
   "outputs": [],
   "source": [
    "import numpy as np"
   ]
  },
  {
   "cell_type": "code",
   "execution_count": 2,
   "metadata": {},
   "outputs": [],
   "source": [
    "# Datos:\n",
    "\n",
    "# Ensayo de vacío:\n",
    "Vo  = 230  # V\n",
    "Io  = 0.45 # A\n",
    "Po  = 70   # W\n",
    "# Ensayo de cortocircuito:\n",
    "V2corto = 120 # V\n",
    "I2corto = 4.5 # A\n",
    "Pcorto = 240 # W\n",
    "\n",
    "SN  = 10e3 # VA   (potencia nominal)\n",
    "V1N = 230  # V    (voltaje nominal primario)\n",
    "V2N = 2300 # V    (voltaje nominal secundario)\n",
    "m   = V1N/V2N  #  (relación de transformación)"
   ]
  },
  {
   "cell_type": "code",
   "execution_count": 3,
   "metadata": {},
   "outputs": [],
   "source": [
    "# Cálcul de corriente nominal\n",
    "I1N = SN/V1N\n",
    "I2N = SN/V2N\n",
    "# Cálculo de phi_o\n",
    "phi_o = np.arccos( Po/(V1N*Io) )\n",
    "# Cálculo de corriente Ife o Ip\n",
    "Ife = Io*np.cos(phi_o)\n",
    "# Cálculo de corriente Iu o Im\n",
    "Iu  = Io*np.sin(phi_o)\n",
    "# Cálculo de la resistencia en el núcleo\n",
    "Rfe = V1N/Ife\n",
    "# Cálculo de la reactancia en el núcleo\n",
    "Xu = V1N/Iu"
   ]
  },
  {
   "cell_type": "code",
   "execution_count": 4,
   "metadata": {},
   "outputs": [],
   "source": [
    "V1corto = m*V2corto\n",
    "I1corto = I2corto/m"
   ]
  },
  {
   "cell_type": "markdown",
   "metadata": {},
   "source": [
    "A continuación se van a calcular las medidas que se hubieran obtenido si el ensayo de cortocircuito se hubiera efectuado con la corriente asignada:"
   ]
  },
  {
   "cell_type": "code",
   "execution_count": 5,
   "metadata": {},
   "outputs": [],
   "source": [
    "V1cc = V1corto*I1N/I1corto\n",
    "Pcc = Pcorto*(I1N/I1corto)**2"
   ]
  },
  {
   "cell_type": "code",
   "execution_count": 6,
   "metadata": {},
   "outputs": [],
   "source": [
    "phi_cc = np.arccos(Pcc/(V1cc*I1N))"
   ]
  },
  {
   "cell_type": "code",
   "execution_count": 7,
   "metadata": {},
   "outputs": [],
   "source": [
    "Zcc = V1cc/I1N\n",
    "Rcc = Zcc*np.cos(phi_cc)\n",
    "Xcc = Zcc*np.sin(phi_cc)"
   ]
  },
  {
   "cell_type": "code",
   "execution_count": 8,
   "metadata": {},
   "outputs": [],
   "source": [
    "# Tensión relativa de corto circuito\n",
    "ε_cc = V1cc/V1N*100\n",
    "ε_Rcc = ε_cc*np.cos(phi_cc)\n",
    "ε_Xcc = ε_cc*np.sin(phi_cc)"
   ]
  },
  {
   "cell_type": "code",
   "execution_count": 9,
   "metadata": {},
   "outputs": [
    {
     "name": "stdout",
     "output_type": "stream",
     "text": [
      "Resultados:\n",
      "a) ítem\n",
      "Parámetros del circuito equivalente:\n",
      "Rfe = 755.71 Ω\n",
      "Xu = 693.88 Ω\n",
      "\n",
      "Rcc = 0.119 Ω\n",
      "Xcc = 0.239 Ω\n",
      "\n",
      "b) ítem\n",
      "Tensiones relativas:\n",
      "|ε_cc| = 5.04 %\n",
      "ε_Rcc  = 2.24 %\n",
      "ε_Xcc  = 4.52 %\n"
     ]
    }
   ],
   "source": [
    "print('Resultados:')\n",
    "print('a) ítem')\n",
    "print('Parámetros del circuito equivalente:')\n",
    "print('Rfe = %.2f Ω'%Rfe)\n",
    "print('Xu = %.2f Ω'%Xu)\n",
    "print()\n",
    "print('Rcc = %.3f Ω'%Rcc)\n",
    "print('Xcc = %.3f Ω'%Xcc)\n",
    "print()\n",
    "print('b) ítem')\n",
    "print('Tensiones relativas:')\n",
    "print('|ε_cc| = %.2f %%'%ε_cc)\n",
    "print('ε_Rcc  = %.2f %%'%ε_Rcc)\n",
    "print('ε_Xcc  = %.2f %%'%ε_Xcc)"
   ]
  },
  {
   "cell_type": "code",
   "execution_count": 47,
   "metadata": {},
   "outputs": [],
   "source": [
    "%reset -s -f"
   ]
  },
  {
   "cell_type": "markdown",
   "metadata": {},
   "source": [
    "## Problema 1.2\n",
    "Un transformado monofásico de 1 MVA, 10000/1000 V y 50 Hz ha dado los siguientes resultados en unos ensayos:"
   ]
  },
  {
   "cell_type": "markdown",
   "metadata": {},
   "source": [
    "<table style=\"width: 80%;\"><tbody><tr><td style=\"width: 40.0000%;\"><strong>Vac&iacute;o (medidas en el lado de BT):</strong><br></td><td style=\"width: 20%; text-align: center;\">1000 V<br></td><td style=\"width: 25%; text-align: center;\">30 A<br></td><td style=\"width: 20%; text-align: center;\">10 kW<br></td></tr><tr><td style=\"width: 20.0000%;\"><strong>Cortocircuito (medidas en el lado de AT):</strong><br></td><td style=\"width: 40%; text-align: center;\">540 V<br></td><td style=\"width: 20%; text-align: center;\">90 A<br></td><td style=\"width: 20%; text-align: center;\">12 kW<br></td></tr></tbody></table>"
   ]
  },
  {
   "cell_type": "markdown",
   "metadata": {},
   "source": [
    "Calcular los parámetros $R_{Fe}, X_\\mu, R_{cc}, X_{cc},\\varepsilon_{cc} ,\\varepsilon_{Rcc}$ y $\\varepsilon_{Xcc}$ del transformador."
   ]
  },
  {
   "cell_type": "markdown",
   "metadata": {},
   "source": [
    "### Solución"
   ]
  },
  {
   "cell_type": "code",
   "execution_count": 77,
   "metadata": {},
   "outputs": [],
   "source": [
    "import numpy as np"
   ]
  },
  {
   "cell_type": "code",
   "execution_count": 78,
   "metadata": {},
   "outputs": [],
   "source": [
    "# Datos:\n",
    "\n",
    "# Ensayo de vacío: (B.T.) secundario\n",
    "Vo = 1000 # V\n",
    "I2o =   30 # A\n",
    "Po = 10e3 # W\n",
    "# Ensayo de cortocircuito: (A.T.) primario\n",
    "V1corto = 540  # V\n",
    "I1corto =  90  # A\n",
    "Pcorto  = 12e3 # W \n",
    "\n",
    "SN  =  1e6 # VA (potencia nominal)\n",
    "V1N = 10e3 # V  (voltaje nominal primario)\n",
    "V2N =  1e3 # V  (voltaje nominal secundario)\n",
    "m   = V1N/V2N # (relación de transformación)"
   ]
  },
  {
   "cell_type": "code",
   "execution_count": 79,
   "metadata": {},
   "outputs": [],
   "source": [
    "# Cálculo de Io\n",
    "Io = I2o/m"
   ]
  },
  {
   "cell_type": "code",
   "execution_count": 80,
   "metadata": {},
   "outputs": [],
   "source": [
    "# Cálculo de corriente nominal\n",
    "I1N = SN/V1N\n",
    "I2N = SN/V2N\n",
    "# Cálculo de phi_o\n",
    "phi_o = np.arccos( Po/(V1N*Io) )\n",
    "# Cálculo de corriente I_Fe o I_p\n",
    "I_Fe = Io*np.cos(phi_o)\n",
    "# Cálculo de corriente I_u o I_m\n",
    "I_u  = Io*np.sin(phi_o)\n",
    "# Cálculo de la resistencia en el núcleo\n",
    "Rfe = V1N/I_Fe\n",
    "# Cálculo de la reactancia en el núcleo\n",
    "Xu = V1N/I_u"
   ]
  },
  {
   "cell_type": "markdown",
   "metadata": {},
   "source": [
    "A continuación se van a calcular las medidas que se hubieran obtenido se el ensayo de cortocircuito se hubiera efectuado con la corriente asignada:"
   ]
  },
  {
   "cell_type": "code",
   "execution_count": 81,
   "metadata": {},
   "outputs": [],
   "source": [
    "V1cc = V1corto*I1N/I1corto\n",
    "Pcc  = Pcorto*(I1N/I1corto)**2"
   ]
  },
  {
   "cell_type": "code",
   "execution_count": 82,
   "metadata": {},
   "outputs": [],
   "source": [
    "phi_cc = np.arccos( Pcc/(V1cc*I1N) )"
   ]
  },
  {
   "cell_type": "code",
   "execution_count": 83,
   "metadata": {},
   "outputs": [],
   "source": [
    "Zcc = V1cc/I1N\n",
    "Rcc = Zcc*np.cos(phi_cc)\n",
    "Xcc = Zcc*np.sin(phi_cc)"
   ]
  },
  {
   "cell_type": "code",
   "execution_count": 84,
   "metadata": {},
   "outputs": [],
   "source": [
    "# Tensión relativa de corto circuito\n",
    "ε_cc = V1cc/V1N*100\n",
    "ε_Rcc = ε_cc*np.cos(phi_cc)\n",
    "ε_Xcc = ε_cc*np.sin(phi_cc)"
   ]
  },
  {
   "cell_type": "code",
   "execution_count": 85,
   "metadata": {},
   "outputs": [
    {
     "name": "stdout",
     "output_type": "stream",
     "text": [
      "Resultados:\n",
      "a) ítem\n",
      "Parámetros del circuito equivalente:\n",
      "Rfe = 10000.00 Ω\n",
      "Xu = 3535.53 Ω\n",
      "\n",
      "Rcc = 1.481 Ω\n",
      "Xcc = 5.814 Ω\n",
      "\n",
      "b) ítem\n",
      "Tensiones relativas:\n",
      "|ε_cc| = 6.00 %\n",
      "ε_Rcc  = 1.48 %\n",
      "ε_Xcc  = 5.81 %\n"
     ]
    }
   ],
   "source": [
    "print('Resultados:')\n",
    "print('a) ítem')\n",
    "print('Parámetros del circuito equivalente:')\n",
    "print('Rfe = %.2f Ω'%Rfe)\n",
    "print('Xu = %.2f Ω'%Xu)\n",
    "print()\n",
    "print('Rcc = %.3f Ω'%Rcc)\n",
    "print('Xcc = %.3f Ω'%Xcc)\n",
    "print()\n",
    "print('b) ítem')\n",
    "print('Tensiones relativas:')\n",
    "print('|ε_cc| = %.2f %%'%ε_cc)\n",
    "print('ε_Rcc  = %.2f %%'%ε_Rcc)\n",
    "print('ε_Xcc  = %.2f %%'%ε_Xcc)"
   ]
  },
  {
   "cell_type": "code",
   "execution_count": 66,
   "metadata": {},
   "outputs": [],
   "source": [
    "%reset -s -f"
   ]
  },
  {
   "cell_type": "markdown",
   "metadata": {},
   "source": [
    "## Problema T.1.3\n",
    "Se ha ensayado un transformador monofásico de 500 kVA, 15000/3000 V y 50 Hz, obteniéndose los siguientes resultados:"
   ]
  },
  {
   "cell_type": "markdown",
   "metadata": {},
   "source": [
    "<table style=\"width: 80%;\"><tbody><tr><td style=\"width: 40.0000%;\"><strong>Vac&iacute;o :</strong><br></td><td style=\"width: 20%; text-align: center;\">15000 V<br></td><td style=\"width: 25%; text-align: center;\">1,67 A<br></td><td style=\"width: 20%; text-align: center;\">4000 W<br></td></tr><tr><td style=\"width: 20.0000%;\"><strong>Cortocircuito :</strong><br></td><td style=\"width: 40%; text-align: center;\">126 V<br></td><td style=\"width: 20%; text-align: center;\">140 A<br></td><td style=\"width: 20%; text-align: center;\">7056 W<br></td></tr></tbody></table>"
   ]
  },
  {
   "cell_type": "code",
   "execution_count": 67,
   "metadata": {},
   "outputs": [],
   "source": [
    "import numpy as np"
   ]
  },
  {
   "cell_type": "code",
   "execution_count": 68,
   "metadata": {},
   "outputs": [],
   "source": [
    "# Datos:\n",
    "\n",
    "# Ensayo de vacío:\n",
    "Vo = 15000 # V\n",
    "Io = 1.67  # A\n",
    "Po = 4000  # W\n",
    "# Ensayo de cortocircuito\n",
    "V2corto =  126 # V\n",
    "I2corto =  140 # A\n",
    "Pcorto  = 7056 # W\n",
    "\n",
    "SN =  500e3 # VA\n",
    "V1N = 15000 # V\n",
    "V2N =  3000 # V\n",
    "m =   V1N/V2N # (relación de transformación)"
   ]
  },
  {
   "cell_type": "code",
   "execution_count": 69,
   "metadata": {},
   "outputs": [],
   "source": [
    "# Cálculo de corriente nominal\n",
    "I1N = SN/V1N\n",
    "I2N = SN/V2N\n",
    "# Cálculo de phi_o\n",
    "### Po = V1N*Io*cos(phi_o)\n",
    "phi_o = np.arccos( Po/(V1N*Io) )\n",
    "# Cálculo de corriente I_Fe\n",
    "I_Fe = Io*np.cos(phi_o)\n",
    "# Cálculo de corriente I_u\n",
    "I_u = Io*np.sin(phi_o)\n",
    "# Cálculo de la resistencia en el núcleo\n",
    "R_Fe = V1N/I_Fe\n",
    "# Cálculo de la reactancia en el núcleo\n",
    "X_u = V1N/I_u"
   ]
  },
  {
   "cell_type": "markdown",
   "metadata": {},
   "source": [
    "A continuación se van a calcular las medidas que se hubieran obtenido si el ensayo de cortocircuito se hubiera efectuado con la corriente asignada:"
   ]
  },
  {
   "cell_type": "code",
   "execution_count": 70,
   "metadata": {},
   "outputs": [],
   "source": [
    "V1corto = m*V2corto\n",
    "I1corto = I2corto/m"
   ]
  },
  {
   "cell_type": "code",
   "execution_count": 71,
   "metadata": {},
   "outputs": [],
   "source": [
    "V1cc = V1corto*I1N/I1corto\n",
    "Pcc = Pcorto*(I1N/I1corto)**2\n",
    "phi_cc = np.arccos(Pcc/(V1cc*I1N))"
   ]
  },
  {
   "cell_type": "code",
   "execution_count": 72,
   "metadata": {},
   "outputs": [],
   "source": [
    "Zcc = V1cc/I1N\n",
    "Rcc = Zcc*np.cos(phi_cc)\n",
    "Xcc = Zcc*np.sin(phi_cc)"
   ]
  },
  {
   "cell_type": "code",
   "execution_count": 73,
   "metadata": {},
   "outputs": [],
   "source": [
    "# Tensión relativa de corto circuito\n",
    "ε_cc = V1cc/V1N*100\n",
    "ε_Rcc = ε_cc*np.cos(phi_cc)\n",
    "ε_Xcc = ε_cc*np.sin(phi_cc)"
   ]
  },
  {
   "cell_type": "code",
   "execution_count": 75,
   "metadata": {
    "jupyter": {
     "source_hidden": true
    }
   },
   "outputs": [
    {
     "name": "stdout",
     "output_type": "stream",
     "text": [
      "Resultados:\n",
      "a) ítem\n",
      "Parámetros del circuito equivalente:\n",
      "R_Fe = 56250 Ω\n",
      "X_u = 9099 Ω\n",
      "\n",
      "Rcc = 9.0 Ω\n",
      "Xcc = 20.6 Ω\n",
      "\n",
      "b) ítem\n",
      "Tensiones relativas:\n",
      "|ε_cc| = 5.00 %\n",
      "ε_Rcc  = 2.00 %\n",
      "ε_Xcc  = 4.58 %\n"
     ]
    }
   ],
   "source": [
    "print('Resultados:')\n",
    "print('a) ítem')\n",
    "print('Parámetros del circuito equivalente:')\n",
    "print('R_Fe = %.0f Ω'%R_Fe)\n",
    "print('X_u = %.0f Ω'%X_u)\n",
    "print()\n",
    "print('Rcc = %.1f Ω'%Rcc)\n",
    "print('Xcc = %.1f Ω'%Xcc)\n",
    "print()\n",
    "print('b) ítem')\n",
    "print('Tensiones relativas:')\n",
    "print('|ε_cc| = %.2f %%'%ε_cc)\n",
    "print('ε_Rcc  = %.2f %%'%ε_Rcc)\n",
    "print('ε_Xcc  = %.2f %%'%ε_Xcc)"
   ]
  },
  {
   "cell_type": "code",
   "execution_count": 146,
   "metadata": {},
   "outputs": [],
   "source": [
    "%reset -s -f"
   ]
  },
  {
   "cell_type": "markdown",
   "metadata": {},
   "source": [
    "## Rendimientos, cortocircuitos y caídas de tensión"
   ]
  },
  {
   "cell_type": "markdown",
   "metadata": {},
   "source": [
    "## Ejercicio\n",
    "Se realizaron los ensayos de vacío y de cortocircuito sobre un transformador monofásico de 15kVA; 1000/500V, obteniéndose los siguientes resultados:"
   ]
  },
  {
   "cell_type": "code",
   "execution_count": 148,
   "metadata": {},
   "outputs": [],
   "source": [
    "# Datos\n",
    "V1N = 1000 # V\n",
    "V2N =  500 # V\n",
    "SN  = 15e3 # VA\n",
    "# Ensayo de vacío\n",
    "Po =  135 # W\n",
    "Io = 0.48 # A\n",
    "Vo =  500 # V\n",
    "# Ensayo de cortocircuito\n",
    "Pcc = 150 # W\n",
    "Icc = 15  # A\n",
    "Vcc = 45  # V"
   ]
  },
  {
   "cell_type": "markdown",
   "metadata": {},
   "source": [
    "a) Obtener los parámetros del circuito equivalente referido al lado de baja tensión modelo de transformador monofásico real."
   ]
  },
  {
   "cell_type": "code",
   "execution_count": 149,
   "metadata": {},
   "outputs": [],
   "source": [
    "import numpy as np"
   ]
  },
  {
   "cell_type": "code",
   "execution_count": 151,
   "metadata": {},
   "outputs": [],
   "source": [
    "# El objetivo es hallar el valor de la magnitud de\n",
    "# los parámetros referidos al lado de baja tensión\n",
    "\n",
    "# Cálculo de phi_o\n",
    "# Po = Io Vo cos(phi_o)\n",
    "phi_o = np.arccos( Po/(Io*Vo) )\n",
    "# Cálculo de Ip\n",
    "Ip = Io*np.cos(phi_o)\n",
    "# Cálculo de Im\n",
    "Im = Io*np.sin(phi_o)\n",
    "# Cálculo de Rp2 (referido al lado de B.T.)\n",
    "Rp2 = V2N/Ip\n",
    "# Cálculo de Xm2 (referido al lado de B.T.)\n",
    "Xm2 = V2N/Im"
   ]
  },
  {
   "cell_type": "code",
   "execution_count": 153,
   "metadata": {},
   "outputs": [],
   "source": [
    "# Cálculo de corriente nominal\n",
    "I1N = SN/V1N\n",
    "I2N = SN/V2N\n",
    "# Cálculo de relación de transformación\n",
    "a = V1N/V2N"
   ]
  },
  {
   "cell_type": "code",
   "execution_count": 158,
   "metadata": {},
   "outputs": [],
   "source": [
    "# Cálculo de phi_cc\n",
    "phi_cc = np.arccos(Pcc/(Vcc*Icc))\n",
    "# Cálculo de Zeq2\n",
    "Zeq2 = (Vcc/I1N)/a**2\n",
    "# Cálculo de Req2\n",
    "Req2 = Zeq2*np.cos(phi_cc)\n",
    "# Cálculo de Xeq2\n",
    "Xeq2 = Zeq2*np.sin(phi_cc)"
   ]
  },
  {
   "cell_type": "code",
   "execution_count": 164,
   "metadata": {},
   "outputs": [],
   "source": [
    "fp = 0.8   # condición del problema\n",
    "# Cálculo de I2\n",
    "I2 = fp*I2N\n",
    "# Cálculo de phi\n",
    "phi = np.arccos(fp)\n",
    "# Cálculo de V2\n",
    "V2 = V2N - I2*(Req2*fp + Xeq2*np.sin(phi))"
   ]
  },
  {
   "cell_type": "code",
   "execution_count": 166,
   "metadata": {},
   "outputs": [],
   "source": [
    "# Cálculo de Pcu\n",
    "Pcu = I2**2 * Req2"
   ]
  },
  {
   "cell_type": "code",
   "execution_count": 170,
   "metadata": {},
   "outputs": [],
   "source": [
    "n = (V2*I2*np.cos(phi))/(V2*I2*np.cos(phi) + Po + Pcu)"
   ]
  },
  {
   "cell_type": "code",
   "execution_count": 172,
   "metadata": {},
   "outputs": [
    {
     "name": "stdout",
     "output_type": "stream",
     "text": [
      "n = 0.976\n"
     ]
    }
   ],
   "source": [
    "print('n = %.3f'%n)"
   ]
  },
  {
   "cell_type": "code",
   "execution_count": 173,
   "metadata": {},
   "outputs": [],
   "source": [
    "# \n",
    "In2_max = np.sqrt(Po/Req2)"
   ]
  },
  {
   "cell_type": "code",
   "execution_count": 174,
   "metadata": {},
   "outputs": [
    {
     "data": {
      "text/plain": [
       "28.46049894151541"
      ]
     },
     "execution_count": 174,
     "metadata": {},
     "output_type": "execute_result"
    }
   ],
   "source": [
    "In2_max"
   ]
  },
  {
   "cell_type": "code",
   "execution_count": null,
   "metadata": {},
   "outputs": [],
   "source": []
  }
 ],
 "metadata": {
  "kernelspec": {
   "display_name": "Python 3",
   "language": "python",
   "name": "python3"
  },
  "language_info": {
   "codemirror_mode": {
    "name": "ipython",
    "version": 3
   },
   "file_extension": ".py",
   "mimetype": "text/x-python",
   "name": "python",
   "nbconvert_exporter": "python",
   "pygments_lexer": "ipython3",
   "version": "3.7.6"
  }
 },
 "nbformat": 4,
 "nbformat_minor": 4
}
