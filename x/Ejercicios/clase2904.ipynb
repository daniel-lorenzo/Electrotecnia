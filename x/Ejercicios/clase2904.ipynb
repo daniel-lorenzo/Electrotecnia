{
 "cells": [
  {
   "cell_type": "code",
   "execution_count": 19,
   "metadata": {},
   "outputs": [],
   "source": [
    "import cmath, math"
   ]
  },
  {
   "cell_type": "code",
   "execution_count": 20,
   "metadata": {},
   "outputs": [],
   "source": [
    "def prl(x,y):\n",
    "    return (x*y)/(x + y)"
   ]
  },
  {
   "cell_type": "code",
   "execution_count": 21,
   "metadata": {},
   "outputs": [],
   "source": [
    "# Datos:\n",
    "Z1 = 9 + 60j # Ohm\n",
    "Z2 = 5 + 55j # Ohm\n",
    "Z3 = 40 - 10j # Ohm\n",
    "Z4 = 40 + 100j # Ohm\n",
    "U = 1000 # V"
   ]
  },
  {
   "cell_type": "code",
   "execution_count": 22,
   "metadata": {},
   "outputs": [],
   "source": [
    "# Cálculo de impedancia equivalente [ (Z3 || Z4) + Z2 ] || Z1\n",
    "Zeq = prl( prl(Z3 , Z4) + Z2 , Z1)"
   ]
  },
  {
   "cell_type": "code",
   "execution_count": 23,
   "metadata": {},
   "outputs": [
    {
     "name": "stdout",
     "output_type": "stream",
     "text": [
      "Zeq = 12.01+31.64j Ohm\n",
      "Zeq = (33.85 < 69.22°) Ohm\n"
     ]
    }
   ],
   "source": [
    "print('Zeq = {:.2f} Ohm'.format(Zeq))\n",
    "print('Zeq = (%.2f < %.2f°) Ohm'%( abs(Zeq) , math.degrees(cmath.phase(Zeq)) ))"
   ]
  },
  {
   "cell_type": "code",
   "execution_count": 24,
   "metadata": {},
   "outputs": [],
   "source": [
    "It = U/Zeq\n",
    "phi = abs(cmath.phase(It))"
   ]
  },
  {
   "cell_type": "code",
   "execution_count": 25,
   "metadata": {},
   "outputs": [
    {
     "name": "stdout",
     "output_type": "stream",
     "text": [
      "It = (29.54 < -69.22°) A\n"
     ]
    }
   ],
   "source": [
    "print('It = (%.2f < %.2f°) A'%(abs(It),math.degrees( cmath.phase(It) )  ) )"
   ]
  },
  {
   "cell_type": "code",
   "execution_count": 27,
   "metadata": {},
   "outputs": [],
   "source": [
    "Pt = abs(U)*abs(It)*math.cos(phi)\n",
    "Qt = abs(U)*abs(It)*math.sin(phi)"
   ]
  },
  {
   "cell_type": "code",
   "execution_count": 28,
   "metadata": {},
   "outputs": [
    {
     "name": "stdout",
     "output_type": "stream",
     "text": [
      "Pt = 10483 [W]\n",
      "Qt = 27622.3 [VAr]\n"
     ]
    }
   ],
   "source": [
    "print('Pt = %.0f [W]'%Pt)\n",
    "print('Qt = %.1f [VAr]'%Qt)"
   ]
  },
  {
   "cell_type": "code",
   "execution_count": 29,
   "metadata": {},
   "outputs": [],
   "source": [
    "I1 = U/Z1\n",
    "U1 = U\n",
    "I2 = U/( prl(Z3,Z4) + Z2 )\n",
    "U2 = I2*Z2\n",
    "U3 = U - U2\n",
    "I3 = U3/Z3\n",
    "U4 = U3\n",
    "I4 = U4/Z4"
   ]
  },
  {
   "cell_type": "code",
   "execution_count": 53,
   "metadata": {},
   "outputs": [
    {
     "name": "stdout",
     "output_type": "stream",
     "text": [
      "It = 10.48-27.62j [A]\n",
      "I1 = 2.44-16.30j [A]\n",
      "I2 = 8.04-11.32j [A]\n",
      "I3 = 10.20-7.09j [A]\n",
      "I4 = -2.16-4.24j [A]\n",
      "--------------------------------------\n",
      "It = (29.54 < -69.22°) [A]\n",
      "I1 = (16.48 < -81.47°) [A]\n",
      "I2 = (13.89 < -54.63°) [A]\n",
      "I3 = (12.42 < -34.80°) [A]\n",
      "I4 = (4.75 < -117.03°) [A]\n"
     ]
    }
   ],
   "source": [
    "print('It = {:.2f} [A]'.format(It))\n",
    "print('I1 = {:.2f} [A]'.format(I1))\n",
    "print('I2 = {:.2f} [A]'.format(I2))\n",
    "print('I3 = {:.2f} [A]'.format(I3))\n",
    "print('I4 = {:.2f} [A]'.format(I4))\n",
    "print('--------------------------------------')\n",
    "print('It = (%.2f < %.2f°) [A]'%(abs(It) , math.degrees(cmath.phase(It)) ))\n",
    "print('I1 = (%.2f < %.2f°) [A]'%(abs(I1) , math.degrees(cmath.phase(I1)) ))\n",
    "print('I2 = (%.2f < %.2f°) [A]'%(abs(I2) , math.degrees(cmath.phase(I2)) ))\n",
    "print('I3 = (%.2f < %.2f°) [A]'%(abs(I3) , math.degrees(cmath.phase(I3)) ))\n",
    "print('I4 = (%.2f < %.2f°) [A]'%(abs(I4) , math.degrees(cmath.phase(I4)) ))"
   ]
  },
  {
   "cell_type": "code",
   "execution_count": 52,
   "metadata": {},
   "outputs": [
    {
     "name": "stdout",
     "output_type": "stream",
     "text": [
      "U1 = 1000.00 [V]\n",
      "U2 = 662.92+385.48j [V]\n",
      "U3 = 337.08-385.48j [V]\n",
      "U4 = 337.08-385.48j [V]\n",
      "--------------------------------------\n",
      "U1 = (1000.00 < 0.00°) [V]\n",
      "U2 = (766.85 < 30.18°) [V]\n",
      "U3 = (512.07 < -48.83°) [V]\n",
      "U4 = (512.07 < -48.83°) [V]\n"
     ]
    }
   ],
   "source": [
    "print('U1 = {:.2f} [V]'.format(U1))\n",
    "print('U2 = {:.2f} [V]'.format(U2))\n",
    "print('U3 = {:.2f} [V]'.format(U3))\n",
    "print('U4 = {:.2f} [V]'.format(U4))\n",
    "print('--------------------------------------')\n",
    "print('U1 = (%.2f < %.2f°) [V]'%(abs(U1) , math.degrees(cmath.phase(U1)) ))\n",
    "print('U2 = (%.2f < %.2f°) [V]'%(abs(U2) , math.degrees(cmath.phase(U2)) ))\n",
    "print('U3 = (%.2f < %.2f°) [V]'%(abs(U3) , math.degrees(cmath.phase(U3)) ))\n",
    "print('U4 = (%.2f < %.2f°) [V]'%(abs(U4) , math.degrees(cmath.phase(U4)) ))"
   ]
  },
  {
   "cell_type": "code",
   "execution_count": 47,
   "metadata": {},
   "outputs": [
    {
     "data": {
      "text/plain": [
       "55.226805085936306"
      ]
     },
     "execution_count": 47,
     "metadata": {},
     "output_type": "execute_result"
    }
   ],
   "source": [
    "abs(Z2)"
   ]
  },
  {
   "cell_type": "code",
   "execution_count": 18,
   "metadata": {},
   "outputs": [],
   "source": [
    "%reset -s -f"
   ]
  },
  {
   "cell_type": "code",
   "execution_count": null,
   "metadata": {},
   "outputs": [],
   "source": []
  }
 ],
 "metadata": {
  "kernelspec": {
   "display_name": "Python 3",
   "language": "python",
   "name": "python3"
  },
  "language_info": {
   "codemirror_mode": {
    "name": "ipython",
    "version": 3
   },
   "file_extension": ".py",
   "mimetype": "text/x-python",
   "name": "python",
   "nbconvert_exporter": "python",
   "pygments_lexer": "ipython3",
   "version": "3.7.6"
  }
 },
 "nbformat": 4,
 "nbformat_minor": 4
}
