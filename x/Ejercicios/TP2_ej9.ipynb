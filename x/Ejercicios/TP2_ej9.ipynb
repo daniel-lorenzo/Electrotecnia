{
 "cells": [
  {
   "cell_type": "markdown",
   "id": "e460d48e-7ad8-4da2-acc5-eaa1d51743f9",
   "metadata": {},
   "source": [
    "# TP N°2 - Conplejos - Impedancia Compleja\n",
    "## Ejercicios de CA - Dominio de la frecuencia\n",
    "__UNLZ - Facultad de Ingeniería__       \n",
    "__Electrotecnia__      \n",
    "__Alumno:__ Daniel Antonio Lorenzo"
   ]
  },
  {
   "cell_type": "markdown",
   "id": "7eb289f1-8ea2-4b9d-8b8a-3d33592ace3f",
   "metadata": {},
   "source": [
    "## Problema 9\n",
    "El valor eficaz de la corriente del circuito de la figura es de 5 A.\n",
    "* Cuál sera el valor leído en el voltímetro se se conecta:        \n",
    " a. en la entrada del circuito (puntos A y B)        \n",
    " b. en la resistencia       \n",
    " c. en la reactancia inductiva     \n",
    " d. en la reactancia capacitiva     \n",
    " \n",
    "* Representar el diagrama fasorial con todas las tensiones presentes en este circuito."
   ]
  },
  {
   "cell_type": "markdown",
   "id": "a3d1ed0f-0d22-4085-8c35-906f284504a4",
   "metadata": {},
   "source": [
    "<img src=\"img/tp2e9.png\" alt=\"tp2e9.png\">"
   ]
  },
  {
   "cell_type": "markdown",
   "id": "81fa48eb-50fe-40d2-8a73-ce2c8ff59982",
   "metadata": {},
   "source": [
    "### Solución"
   ]
  },
  {
   "cell_type": "markdown",
   "id": "0d46d597-57e0-4d3f-83db-de64e39392d1",
   "metadata": {},
   "source": [
    "a)\n",
    "$$ Z_T = R + X_L + X_C $$"
   ]
  },
  {
   "cell_type": "markdown",
   "id": "22d29b1e-10b5-4c58-9c33-f90fdcf9bdf1",
   "metadata": {},
   "source": [
    "$$ Z_T = 2 \\, \\Omega + j4 \\, \\Omega - j6 \\, \\Omega $$"
   ]
  },
  {
   "cell_type": "markdown",
   "id": "b835969a-bc3d-4d3c-99de-2b1ba4400553",
   "metadata": {},
   "source": [
    "$$ Z_T = 2 - j2 \\, \\Omega $$"
   ]
  },
  {
   "cell_type": "markdown",
   "id": "978c7b91-9cd9-4856-89d4-002c1c9ea63e",
   "metadata": {},
   "source": [
    "$$ V_{AB}= I Z_T  = 10 - j10 \\, \\mathrm{V} = 14,14 \\angle -45^\\circ \\, \\mathrm{V}$$"
   ]
  },
  {
   "cell_type": "markdown",
   "id": "17268680-ec7a-4d4c-bbb9-465b20658485",
   "metadata": {},
   "source": [
    "b)\n",
    "$$ V_R = I R = 10 \\angle 0^\\circ \\, \\mathrm{V} $$"
   ]
  },
  {
   "cell_type": "markdown",
   "id": "f7f492d8-afdb-475c-a8ce-8112fa186d20",
   "metadata": {},
   "source": [
    "c)\n",
    "$$ V_L = I X_L = 20 \\angle 90^\\circ \\, \\mathrm{V} $$"
   ]
  },
  {
   "cell_type": "markdown",
   "id": "21aaaaf0-e3b9-4282-b0da-a82538fef4c9",
   "metadata": {},
   "source": [
    "d)\n",
    "$$ V_C = I X_C = 30 \\angle -90^\\circ \\, \\mathrm{V} $$"
   ]
  },
  {
   "cell_type": "markdown",
   "id": "02125e3a-6763-4add-9242-c373fe050c8a",
   "metadata": {},
   "source": [
    "Diagrama fasorial:\n",
    "<img src=\"img/tp2e9-2.png\" alt=\"tp2e9-2.png\">"
   ]
  },
  {
   "cell_type": "code",
   "execution_count": 54,
   "id": "00a000da-5cd4-4bea-8bcf-ca5f62b09f1b",
   "metadata": {},
   "outputs": [],
   "source": [
    "import cmath, math"
   ]
  },
  {
   "cell_type": "code",
   "execution_count": 55,
   "id": "c50e6453-18c4-402c-8da5-877e533efa6e",
   "metadata": {},
   "outputs": [],
   "source": [
    "# Datos:\n",
    "i = 5 # A\n",
    "R = 2 # Ohm\n",
    "X_L = 4j # Ohm\n",
    "X_C = -6j # Ohm\n",
    "\n",
    "Z_T = R + X_L + X_C\n",
    "\n",
    "# ítem a)\n",
    "v_AB = i*Z_T\n",
    "# ítem b)\n",
    "v_R = i*R\n",
    "# ítem c)\n",
    "v_L = i*X_L\n",
    "# ítem d)\n",
    "v_C = i*X_C"
   ]
  },
  {
   "cell_type": "code",
   "execution_count": 56,
   "id": "5eac1f87-5d5e-46e0-90a7-b39322e929fa",
   "metadata": {},
   "outputs": [],
   "source": [
    "v_ABpol = cmath.polar(v_AB)\n",
    "v_Rpol = cmath.polar(v_R)\n",
    "v_Lpol = cmath.polar(v_L)\n",
    "v_Cpol = cmath.polar(v_C)"
   ]
  },
  {
   "cell_type": "code",
   "execution_count": 57,
   "id": "e003fc56-9aeb-481c-b4db-f7f4df8ef5e6",
   "metadata": {},
   "outputs": [
    {
     "name": "stdout",
     "output_type": "stream",
     "text": [
      "Tensiones:\n",
      "v_AB = (14.14 < -45.00°) V\n",
      "v_R = (10.00 < 0.00°) V\n",
      "v_L = (20.00 < 90.00°) V\n",
      "v_C = (30.00 < -90.00°) V\n"
     ]
    }
   ],
   "source": [
    "print('Tensiones:')\n",
    "print('v_AB = (%.2f < %.2f°) V'%(v_ABpol[0], math.degrees( v_ABpol[1] ) ))\n",
    "print('v_R = (%.2f < %.2f°) V'%(v_Rpol[0], math.degrees( v_Rpol[1] ) ))\n",
    "print('v_L = (%.2f < %.2f°) V'%(v_Lpol[0], math.degrees( v_Lpol[1] ) ))\n",
    "print('v_C = (%.2f < %.2f°) V'%(v_Cpol[0], math.degrees( v_Cpol[1] ) ))"
   ]
  },
  {
   "cell_type": "code",
   "execution_count": 58,
   "id": "a7f32684-db99-47c0-a483-17b51fc941dc",
   "metadata": {},
   "outputs": [],
   "source": [
    "%reset -s -f"
   ]
  }
 ],
 "metadata": {
  "kernelspec": {
   "display_name": "Python 3 (ipykernel)",
   "language": "python",
   "name": "python3"
  },
  "language_info": {
   "codemirror_mode": {
    "name": "ipython",
    "version": 3
   },
   "file_extension": ".py",
   "mimetype": "text/x-python",
   "name": "python",
   "nbconvert_exporter": "python",
   "pygments_lexer": "ipython3",
   "version": "3.9.12"
  }
 },
 "nbformat": 4,
 "nbformat_minor": 5
}
