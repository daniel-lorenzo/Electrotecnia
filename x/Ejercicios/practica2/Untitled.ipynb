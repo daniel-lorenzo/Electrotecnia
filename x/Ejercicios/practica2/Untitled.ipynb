{
 "cells": [
  {
   "cell_type": "code",
   "execution_count": null,
   "metadata": {},
   "outputs": [],
   "source": [
    "from IPython.display import display, Markdown"
   ]
  },
  {
   "cell_type": "code",
   "execution_count": 22,
   "metadata": {},
   "outputs": [],
   "source": [
    "a = 13.49\n",
    "b = 2.2544223\n",
    "P = 302.99\n",
    "V = 90.02"
   ]
  },
  {
   "cell_type": "code",
   "execution_count": 23,
   "metadata": {},
   "outputs": [
    {
     "data": {
      "text/markdown": [
       "\n",
       "Dims: $\\mathrm{ 30.41 \\, m \\times 2.25 \\, m }$\n",
       "\n",
       "Area: $\\mathrm{ 302.99 \\, m^2 }$\n",
       "\n",
       "Volume: $\\mathrm{ 90.02 \\, m^3}$\n"
      ],
      "text/plain": [
       "<IPython.core.display.Markdown object>"
      ]
     },
     "metadata": {},
     "output_type": "display_data"
    }
   ],
   "source": [
    "display(Markdown(\n",
    "   rf\"\"\"\n",
    "Dims: $\\mathrm{{ {a*b:.4} \\, m \\times {b:.3} \\, m }}$\n",
    "\n",
    "Area: $\\mathrm{{ {P} \\, m^2 }}$\n",
    "\n",
    "Volume: $\\mathrm{{ {V} \\, m^3}}$\n",
    "\"\"\"))"
   ]
  },
  {
   "cell_type": "code",
   "execution_count": null,
   "metadata": {},
   "outputs": [],
   "source": []
  }
 ],
 "metadata": {
  "kernelspec": {
   "display_name": "Python 3",
   "language": "python",
   "name": "python3"
  },
  "language_info": {
   "codemirror_mode": {
    "name": "ipython",
    "version": 3
   },
   "file_extension": ".py",
   "mimetype": "text/x-python",
   "name": "python",
   "nbconvert_exporter": "python",
   "pygments_lexer": "ipython3",
   "version": "3.7.6"
  }
 },
 "nbformat": 4,
 "nbformat_minor": 4
}
