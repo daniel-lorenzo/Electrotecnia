{
 "cells": [
  {
   "cell_type": "raw",
   "metadata": {},
   "source": [
    "<script>\n",
    "  function code_toggle() {\n",
    "    if (code_shown){\n",
    "      $('div.input').hide('500');\n",
    "      $('#toggleButton').val('Show Code')\n",
    "    } else {\n",
    "      $('div.input').show('500');\n",
    "      $('#toggleButton').val('Hide Code')\n",
    "    }\n",
    "    code_shown = !code_shown\n",
    "  }\n",
    "\n",
    "  $( document ).ready(function(){\n",
    "    code_shown=true;\n",
    "    $('div.input').show()\n",
    "  });\n",
    "</script>\n",
    "<form action=\"javascript:code_toggle()\"><input type=\"submit\" id=\"toggleButton\" value=\"Hide Code\"></form>"
   ]
  },
  {
   "cell_type": "markdown",
   "metadata": {},
   "source": [
    "## Ejercicio N°1\n",
    "Dadas las siguientes tensiones y componentes de los circuitos a) y b), representar gráficamente, en el dominio del tiempo y de la frecuencia, la tensión y la corriente $(f = 50 \\, \\mathrm{Hz})$"
   ]
  },
  {
   "cell_type": "markdown",
   "metadata": {},
   "source": [
    "<img src=\"img/tp5e1-1.png\">"
   ]
  },
  {
   "cell_type": "markdown",
   "metadata": {},
   "source": [
    "__a)__ ítem\n",
    "\n",
    "Datos:\n",
    "$\\left\\{\n",
    "\\begin{array}{l}\n",
    "\\displaystyle v(t) = 311,127 \\sin \\left( \\omega t + {\\pi \\over 4} \\right) \\, \\mathrm{V} \\\\\n",
    "L = 1 \\, \\mathrm{H} \\\\\n",
    "R = 10 \\, \\Omega\n",
    "\\end{array}\n",
    "\\right.$\n",
    "\n",
    "__b)__ ítem\n",
    "\n",
    "Datos:\n",
    "$\\left\\{\n",
    "\\begin{array}{l}\n",
    "v(t) = 311,127 \\sin ( \\omega t ) \\, \\mathrm{V} \\\\\n",
    "C = 10 \\, \\mu \\mathrm{F} \\\\\n",
    "R = 0 \\, \\Omega\n",
    "\\end{array}\n",
    "\\right.$"
   ]
  },
  {
   "cell_type": "markdown",
   "metadata": {},
   "source": [
    "### Solución\n",
    "__a)__ ítem"
   ]
  },
  {
   "cell_type": "markdown",
   "metadata": {},
   "source": [
    "Cálculo de $X_L$\n",
    "\n",
    "$\\begin{array}{l}\n",
    "X_L = \\omega L \\\\\n",
    "\\omega = 2 \\pi f \\\\\n",
    "X_L = 2 \\pi (50) (1) = 314,16\n",
    "\\end{array}$"
   ]
  },
  {
   "cell_type": "markdown",
   "metadata": {},
   "source": [
    "Impedancia inductiva-resistiva"
   ]
  },
  {
   "cell_type": "markdown",
   "metadata": {},
   "source": [
    "$Z = (10 + j314,16) \\, \\Omega \\quad \\rightarrow \\quad 314,34e^{j88,18^\\circ} \\, \\Omega$"
   ]
  },
  {
   "cell_type": "markdown",
   "metadata": {},
   "source": [
    "Dominio del tiempo\n",
    "\n",
    "$\\begin{array}{l}\n",
    "v(t) = 311,127 \\sin (\\omega t + 45^\\circ ) \\, \\mathrm{V} \\\\\n",
    "i(t) = 0,7 \\sqrt{2} \\sin (\\omega t - 43,18^\\circ ) \\, \\mathrm{A}\n",
    "\\end{array}$"
   ]
  },
  {
   "cell_type": "markdown",
   "metadata": {},
   "source": [
    "Dominio de la frecuencia\n",
    "\n",
    "$\\begin{array}{l}\n",
    " V_\\mathrm{rms} = 220 e^{j45^\\circ} \\, \\mathrm{V} \\\\\n",
    "I_\\mathrm{rms} = 0,7 e^{-j43,18^\\circ} \\, \\mathrm{A}\n",
    "\\end{array}$"
   ]
  },
  {
   "cell_type": "code",
   "execution_count": 61,
   "metadata": {},
   "outputs": [],
   "source": [
    "import math, cmath"
   ]
  },
  {
   "cell_type": "code",
   "execution_count": 62,
   "metadata": {},
   "outputs": [],
   "source": [
    "# Datos:\n",
    "v_a = cmath.rect(311.127 , math.pi/4) # V\n",
    "v_b = cmath.rect(311.127 , 0) # V\n",
    "L_a = 1 # H\n",
    "C_b = 10e-6 # F\n",
    "R_a = 10 # Ohm\n",
    "R_b = 0 # Ohm\n",
    "f = 50 # Hz\n",
    "w = 2*math.pi*f"
   ]
  },
  {
   "cell_type": "code",
   "execution_count": 63,
   "metadata": {},
   "outputs": [],
   "source": [
    "XL = w*L_a\n",
    "XC = -1/(w*C_b)\n",
    "Z_a = complex(R_a , XL)\n",
    "Z_b = complex(R_b , XC)\n",
    "Vrms_a = v_a/math.sqrt(2)\n",
    "Irms_a = Vrms_a/Z_a\n",
    "i_a = v_a/Z_a\n",
    "i_b = v_b/Z_b\n",
    "theta_ia = cmath.phase(i_a)\n",
    "Vrms_b = v_b/math.sqrt(2)\n",
    "Irms_b = Vrms_b/Z_b\n",
    "theta_ib = cmath.phase(i_b)"
   ]
  },
  {
   "cell_type": "code",
   "execution_count": 64,
   "metadata": {},
   "outputs": [
    {
     "name": "stdout",
     "output_type": "stream",
     "text": [
      "Resultados:\n",
      "--------------------------------\n",
      "Z_a = 10.00+314.16j Ohm\n",
      "Vrms_a (220.00 < 45.00°) V\n",
      "Irms_a = (0.70 < -43.18°) A\n",
      "--------------------------------\n",
      "Z_b = 0.00-318.31j Ohm\n",
      "Vrms_b (220.00 < 0.00°) V\n",
      "Irms_b = (0.7 < 90.00°) A\n",
      "--------------------------------\n"
     ]
    }
   ],
   "source": [
    "print('Resultados:')\n",
    "print('--------------------------------')\n",
    "print('Z_a = {:.2f} Ohm'.format(Z_a))\n",
    "print('Vrms_a (%.2f < %.2f°) V'%(abs(Vrms_a) , math.degrees( cmath.phase(Vrms_a) ) ))\n",
    "print('Irms_a = (%.2f < %.2f°) A'%(abs(Irms_a) , math.degrees( cmath.phase(Irms_a) ) ))\n",
    "print('--------------------------------')\n",
    "print('Z_b = {:.2f} Ohm'.format(Z_b))\n",
    "print('Vrms_b (%.2f < %.2f°) V'%(abs(Vrms_b) , math.degrees( cmath.phase(Vrms_b) ) ))\n",
    "print('Irms_b = (%.1f < %.2f°) A'%(abs(Irms_b) , math.degrees( cmath.phase(Irms_b) ) ))\n",
    "print('--------------------------------')"
   ]
  },
  {
   "cell_type": "markdown",
   "metadata": {},
   "source": [
    "__b)__ ítem\n",
    "\n",
    "Datos:\n",
    "$\\left\\{\n",
    "\\begin{array}{l}\n",
    "v(t) = 311,127 \\sin ( \\omega t ) \\, \\mathrm{V} \\\\\n",
    "C = 10 \\, \\mu \\mathrm{F} \\\\\n",
    "R = 0 \\, \\Omega\n",
    "\\end{array}\n",
    "\\right.$"
   ]
  },
  {
   "cell_type": "markdown",
   "metadata": {},
   "source": [
    "Cálculo de $X_C$"
   ]
  },
  {
   "cell_type": "markdown",
   "metadata": {},
   "source": [
    "$$ X_C = {1 \\over j \\omega C} = 0 - j318,31 \\, \\Omega $$"
   ]
  },
  {
   "cell_type": "markdown",
   "metadata": {},
   "source": [
    "$$ Z = R + X_C = 0 - j318,31 \\, \\Omega $$"
   ]
  },
  {
   "cell_type": "markdown",
   "metadata": {},
   "source": [
    "$$ Z = 318,31 \\angle -90^\\circ \\, \\Omega $$"
   ]
  },
  {
   "cell_type": "markdown",
   "metadata": {},
   "source": [
    "$$ I = {v \\over Z} = {311,127 \\angle 0^\\circ \\over 318,31 \\angle -90^\\circ} = 0,9774 \\angle 90^\\circ \\, \\mathrm{A} $$"
   ]
  },
  {
   "cell_type": "markdown",
   "metadata": {},
   "source": [
    "Dominio del tiempo:\n",
    "\n",
    "$\\begin{array}{l}\n",
    "v(t) = 311,127 \\sin ( \\omega t + 45^\\circ) \\, \\mathrm{V} \\\\\n",
    "i(t) = 0,9774 \\sin ( \\omega t - 43,18^\\circ) \\, \\mathrm{A}\n",
    "\\end{array}$"
   ]
  },
  {
   "cell_type": "code",
   "execution_count": 65,
   "metadata": {},
   "outputs": [],
   "source": [
    "import matplotlib.pyplot as plt\n",
    "import numpy as np"
   ]
  },
  {
   "cell_type": "code",
   "execution_count": 66,
   "metadata": {},
   "outputs": [],
   "source": [
    "def va(t):\n",
    "    return abs(v_a)*np.sin(w*t + np.pi/4)"
   ]
  },
  {
   "cell_type": "code",
   "execution_count": 67,
   "metadata": {},
   "outputs": [],
   "source": [
    "def ia(t):\n",
    "    return abs(i_a)*np.sin(w*t + theta_ia )"
   ]
  },
  {
   "cell_type": "code",
   "execution_count": 68,
   "metadata": {},
   "outputs": [
    {
     "data": {
      "image/png": "[encoded data removed]",
      "text/plain": [
       "<Figure size 720x432 with 2 Axes>"
      ]
     },
     "metadata": {
      "needs_background": "light"
     },
     "output_type": "display_data"
    }
   ],
   "source": [
    "%matplotlib inline\n",
    "plt.figure(figsize=(10,6))\n",
    "\n",
    "t = np.arange(0, 0.1, 0.0001)\n",
    "\n",
    "plt.subplot(211)\n",
    "plt.plot(t, va(t))\n",
    "plt.grid(linestyle=\":\")\n",
    "plt.title('Voltaje', fontsize=14)\n",
    "plt.xlabel('tiempo (s)', fontsize=14)\n",
    "plt.ylabel('volts [V]', fontsize=14)\n",
    "\n",
    "plt.subplot(212)\n",
    "plt.plot(t, ia(t)  , color='green' )\n",
    "plt.grid(linestyle=\":\")\n",
    "plt.title('Corriente', fontsize=14)\n",
    "plt.xlabel('tiempo (s)', fontsize=14)\n",
    "plt.ylabel('corriente [A]', fontsize=14)\n",
    "\n",
    "plt.draw()\n",
    "plt.tight_layout()\n",
    "plt.show()"
   ]
  },
  {
   "cell_type": "code",
   "execution_count": 69,
   "metadata": {},
   "outputs": [],
   "source": [
    "def vb(t):\n",
    "    return abs(v_b)*np.sin(w*t)"
   ]
  },
  {
   "cell_type": "code",
   "execution_count": 70,
   "metadata": {},
   "outputs": [],
   "source": [
    "def ib(t):\n",
    "    return abs(i_b)*np.sin(w*t + theta_ib )"
   ]
  },
  {
   "cell_type": "code",
   "execution_count": 71,
   "metadata": {},
   "outputs": [
    {
     "data": {
      "image/png": "[encoded data removed]",
      "text/plain": [
       "<Figure size 720x432 with 2 Axes>"
      ]
     },
     "metadata": {
      "needs_background": "light"
     },
     "output_type": "display_data"
    }
   ],
   "source": [
    "%matplotlib inline\n",
    "plt.figure(figsize=(10,6))\n",
    "\n",
    "t = np.arange(0, 0.1, 0.0001)\n",
    "\n",
    "plt.subplot(211)\n",
    "plt.plot(t, vb(t))\n",
    "plt.grid(linestyle=\":\")\n",
    "plt.title('Voltaje', fontsize=14)\n",
    "plt.xlabel('tiempo (s)', fontsize=14)\n",
    "plt.ylabel('volts [V]', fontsize=14)\n",
    "\n",
    "plt.subplot(212)\n",
    "plt.plot(t, ib(t)  , color='green' )\n",
    "plt.grid(linestyle=\":\")\n",
    "plt.title('Corriente', fontsize=14)\n",
    "plt.xlabel('tiempo (s)', fontsize=14)\n",
    "plt.ylabel('corriente [A]', fontsize=14)\n",
    "\n",
    "plt.draw()\n",
    "plt.tight_layout()\n",
    "plt.show()"
   ]
  },
  {
   "cell_type": "code",
   "execution_count": 60,
   "metadata": {},
   "outputs": [],
   "source": [
    "%reset -s -f"
   ]
  },
  {
   "cell_type": "markdown",
   "metadata": {},
   "source": [
    "## Ejercicio N°2\n",
    "Calcular las potencias P, Q, S del siguiente circuito y dibujar el triángulo de potencias."
   ]
  },
  {
   "cell_type": "markdown",
   "metadata": {},
   "source": [
    "<img src=\"img/tp5e2-1.png\">"
   ]
  },
  {
   "cell_type": "markdown",
   "metadata": {},
   "source": [
    "### Solución"
   ]
  },
  {
   "cell_type": "code",
   "execution_count": 20,
   "metadata": {},
   "outputs": [],
   "source": [
    "# Datos:\n",
    "Z1 = 9 + 4j # Ohm\n",
    "Z2 = 9 + 24j # Ohm\n",
    "Z3 = Z2 # Ohm\n",
    "Z4 = Z3 # Ohm\n",
    "U = 700 # V"
   ]
  },
  {
   "cell_type": "code",
   "execution_count": 21,
   "metadata": {},
   "outputs": [],
   "source": [
    "import math, cmath\n",
    "def prl(x,y):\n",
    "    return (x*y)/(x + y)"
   ]
  },
  {
   "cell_type": "code",
   "execution_count": 22,
   "metadata": {},
   "outputs": [],
   "source": [
    "# Cálculo de Zeq\n",
    "Zeq = Z1 + prl( Z2 , prl(Z3,Z4) )\n",
    "# Cálculo de It\n",
    "It = U/Zeq\n",
    "# Cálculo de S\n",
    "S = U*It.conjugate()\n",
    "# Cálculo de P\n",
    "P = S.real\n",
    "# Cálculo de Q\n",
    "Q = S.imag\n",
    "# Cálculo de phi\n",
    "phi = cmath.phase(S)"
   ]
  },
  {
   "cell_type": "code",
   "execution_count": 23,
   "metadata": {},
   "outputs": [
    {
     "name": "stdout",
     "output_type": "stream",
     "text": [
      "Resultados:\n",
      "S = (28873.53 < 45.00°) VA\n",
      "S = 20416.67+20416.67j VA\n",
      "P = 20416.67 W\n",
      "Q = 20416.67 VAr\n",
      "phi = 45.00°\n"
     ]
    }
   ],
   "source": [
    "print('Resultados:')\n",
    "print('S = (%.2f < %.2f°) VA'%(abs(S) , math.degrees( phi ) ))\n",
    "print('S = {:.2f} VA'.format(S))\n",
    "print('P = %.2f W'%P)\n",
    "print('Q = %.2f VAr'%Q)\n",
    "print('phi = %.2f°'%( math.degrees(phi) ))"
   ]
  },
  {
   "cell_type": "code",
   "execution_count": 24,
   "metadata": {},
   "outputs": [],
   "source": [
    "import numpy as np\n",
    "import matplotlib.pyplot as plt"
   ]
  },
  {
   "cell_type": "code",
   "execution_count": 27,
   "metadata": {},
   "outputs": [
    {
     "data": {
      "application/javascript": [
       "/* Put everything inside the global mpl namespace */\n",
       "window.mpl = {};\n",
       "\n",
       "\n",
       "mpl.get_websocket_type = function() {\n",
       "    if (typeof(WebSocket) !== 'undefined') {\n",
       "        return WebSocket;\n",
       "    } else if (typeof(MozWebSocket) !== 'undefined') {\n",
       "        return MozWebSocket;\n",
       "    } else {\n",
       "        alert('Your browser does not have WebSocket support. ' +\n",
       "              'Please try Chrome, Safari or Firefox ≥ 6. ' +\n",
       "              'Firefox 4 and 5 are also supported but you ' +\n",
       "              'have to enable WebSockets in about:config.');\n",
       "    };\n",
       "}\n",
       "\n",
       "mpl.figure = function(figure_id, websocket, ondownload, parent_element) {\n",
       "    this.id = figure_id;\n",
       "\n",
       "    this.ws = websocket;\n",
       "\n",
       "    this.supports_binary = (this.ws.binaryType != undefined);\n",
       "\n",
       "    if (!this.supports_binary) {\n",
       "        var warnings = document.getElementById(\"mpl-warnings\");\n",
       "        if (warnings) {\n",
       "            warnings.style.display = 'block';\n",
       "            warnings.textContent = (\n",
       "                \"This browser does not support binary websocket messages. \" +\n",
       "                    \"Performance may be slow.\");\n",
       "        }\n",
       "    }\n",
       "\n",
       "    this.imageObj = new Image();\n",
       "\n",
       "    this.context = undefined;\n",
       "    this.message = undefined;\n",
       "    this.canvas = undefined;\n",
       "    this.rubberband_canvas = undefined;\n",
       "    this.rubberband_context = undefined;\n",
       "    this.format_dropdown = undefined;\n",
       "\n",
       "    this.image_mode = 'full';\n",
       "\n",
       "    this.root = $('<div/>');\n",
       "    this._root_extra_style(this.root)\n",
       "    this.root.attr('style', 'display: inline-block');\n",
       "\n",
       "    $(parent_element).append(this.root);\n",
       "\n",
       "    this._init_header(this);\n",
       "    this._init_canvas(this);\n",
       "    this._init_toolbar(this);\n",
       "\n",
       "    var fig = this;\n",
       "\n",
       "    this.waiting = false;\n",
       "\n",
       "    this.ws.onopen =  function () {\n",
       "            fig.send_message(\"supports_binary\", {value: fig.supports_binary});\n",
       "            fig.send_message(\"send_image_mode\", {});\n",
       "            if (mpl.ratio != 1) {\n",
       "                fig.send_message(\"set_dpi_ratio\", {'dpi_ratio': mpl.ratio});\n",
       "            }\n",
       "            fig.send_message(\"refresh\", {});\n",
       "        }\n",
       "\n",
       "    this.imageObj.onload = function() {\n",
       "            if (fig.image_mode == 'full') {\n",
       "                // Full images could contain transparency (where diff images\n",
       "                // almost always do), so we need to clear the canvas so that\n",
       "                // there is no ghosting.\n",
       "                fig.context.clearRect(0, 0, fig.canvas.width, fig.canvas.height);\n",
       "            }\n",
       "            fig.context.drawImage(fig.imageObj, 0, 0);\n",
       "        };\n",
       "\n",
       "    this.imageObj.onunload = function() {\n",
       "        fig.ws.close();\n",
       "    }\n",
       "\n",
       "    this.ws.onmessage = this._make_on_message_function(this);\n",
       "\n",
       "    this.ondownload = ondownload;\n",
       "}\n",
       "\n",
       "mpl.figure.prototype._init_header = function() {\n",
       "    var titlebar = $(\n",
       "        '<div class=\"ui-dialog-titlebar ui-widget-header ui-corner-all ' +\n",
       "        'ui-helper-clearfix\"/>');\n",
       "    var titletext = $(\n",
       "        '<div class=\"ui-dialog-title\" style=\"width: 100%; ' +\n",
       "        'text-align: center; padding: 3px;\"/>');\n",
       "    titlebar.append(titletext)\n",
       "    this.root.append(titlebar);\n",
       "    this.header = titletext[0];\n",
       "}\n",
       "\n",
       "\n",
       "\n",
       "mpl.figure.prototype._canvas_extra_style = function(canvas_div) {\n",
       "\n",
       "}\n",
       "\n",
       "\n",
       "mpl.figure.prototype._root_extra_style = function(canvas_div) {\n",
       "\n",
       "}\n",
       "\n",
       "mpl.figure.prototype._init_canvas = function() {\n",
       "    var fig = this;\n",
       "\n",
       "    var canvas_div = $('<div/>');\n",
       "\n",
       "    canvas_div.attr('style', 'position: relative; clear: both; outline: 0');\n",
       "\n",
       "    function canvas_keyboard_event(event) {\n",
       "        return fig.key_event(event, event['data']);\n",
       "    }\n",
       "\n",
       "    canvas_div.keydown('key_press', canvas_keyboard_event);\n",
       "    canvas_div.keyup('key_release', canvas_keyboard_event);\n",
       "    this.canvas_div = canvas_div\n",
       "    this._canvas_extra_style(canvas_div)\n",
       "    this.root.append(canvas_div);\n",
       "\n",
       "    var canvas = $('<canvas/>');\n",
       "    canvas.addClass('mpl-canvas');\n",
       "    canvas.attr('style', \"left: 0; top: 0; z-index: 0; outline: 0\")\n",
       "\n",
       "    this.canvas = canvas[0];\n",
       "    this.context = canvas[0].getContext(\"2d\");\n",
       "\n",
       "    var backingStore = this.context.backingStorePixelRatio ||\n",
       "\tthis.context.webkitBackingStorePixelRatio ||\n",
       "\tthis.context.mozBackingStorePixelRatio ||\n",
       "\tthis.context.msBackingStorePixelRatio ||\n",
       "\tthis.context.oBackingStorePixelRatio ||\n",
       "\tthis.context.backingStorePixelRatio || 1;\n",
       "\n",
       "    mpl.ratio = (window.devicePixelRatio || 1) / backingStore;\n",
       "\n",
       "    var rubberband = $('<canvas/>');\n",
       "    rubberband.attr('style', \"position: absolute; left: 0; top: 0; z-index: 1;\")\n",
       "\n",
       "    var pass_mouse_events = true;\n",
       "\n",
       "    canvas_div.resizable({\n",
       "        start: function(event, ui) {\n",
       "            pass_mouse_events = false;\n",
       "        },\n",
       "        resize: function(event, ui) {\n",
       "            fig.request_resize(ui.size.width, ui.size.height);\n",
       "        },\n",
       "        stop: function(event, ui) {\n",
       "            pass_mouse_events = true;\n",
       "            fig.request_resize(ui.size.width, ui.size.height);\n",
       "        },\n",
       "    });\n",
       "\n",
       "    function mouse_event_fn(event) {\n",
       "        if (pass_mouse_events)\n",
       "            return fig.mouse_event(event, event['data']);\n",
       "    }\n",
       "\n",
       "    rubberband.mousedown('button_press', mouse_event_fn);\n",
       "    rubberband.mouseup('button_release', mouse_event_fn);\n",
       "    // Throttle sequential mouse events to 1 every 20ms.\n",
       "    rubberband.mousemove('motion_notify', mouse_event_fn);\n",
       "\n",
       "    rubberband.mouseenter('figure_enter', mouse_event_fn);\n",
       "    rubberband.mouseleave('figure_leave', mouse_event_fn);\n",
       "\n",
       "    canvas_div.on(\"wheel\", function (event) {\n",
       "        event = event.originalEvent;\n",
       "        event['data'] = 'scroll'\n",
       "        if (event.deltaY < 0) {\n",
       "            event.step = 1;\n",
       "        } else {\n",
       "            event.step = -1;\n",
       "        }\n",
       "        mouse_event_fn(event);\n",
       "    });\n",
       "\n",
       "    canvas_div.append(canvas);\n",
       "    canvas_div.append(rubberband);\n",
       "\n",
       "    this.rubberband = rubberband;\n",
       "    this.rubberband_canvas = rubberband[0];\n",
       "    this.rubberband_context = rubberband[0].getContext(\"2d\");\n",
       "    this.rubberband_context.strokeStyle = \"#000000\";\n",
       "\n",
       "    this._resize_canvas = function(width, height) {\n",
       "        // Keep the size of the canvas, canvas container, and rubber band\n",
       "        // canvas in synch.\n",
       "        canvas_div.css('width', width)\n",
       "        canvas_div.css('height', height)\n",
       "\n",
       "        canvas.attr('width', width * mpl.ratio);\n",
       "        canvas.attr('height', height * mpl.ratio);\n",
       "        canvas.attr('style', 'width: ' + width + 'px; height: ' + height + 'px;');\n",
       "\n",
       "        rubberband.attr('width', width);\n",
       "        rubberband.attr('height', height);\n",
       "    }\n",
       "\n",
       "    // Set the figure to an initial 600x600px, this will subsequently be updated\n",
       "    // upon first draw.\n",
       "    this._resize_canvas(600, 600);\n",
       "\n",
       "    // Disable right mouse context menu.\n",
       "    $(this.rubberband_canvas).bind(\"contextmenu\",function(e){\n",
       "        return false;\n",
       "    });\n",
       "\n",
       "    function set_focus () {\n",
       "        canvas.focus();\n",
       "        canvas_div.focus();\n",
       "    }\n",
       "\n",
       "    window.setTimeout(set_focus, 100);\n",
       "}\n",
       "\n",
       "mpl.figure.prototype._init_toolbar = function() {\n",
       "    var fig = this;\n",
       "\n",
       "    var nav_element = $('<div/>');\n",
       "    nav_element.attr('style', 'width: 100%');\n",
       "    this.root.append(nav_element);\n",
       "\n",
       "    // Define a callback function for later on.\n",
       "    function toolbar_event(event) {\n",
       "        return fig.toolbar_button_onclick(event['data']);\n",
       "    }\n",
       "    function toolbar_mouse_event(event) {\n",
       "        return fig.toolbar_button_onmouseover(event['data']);\n",
       "    }\n",
       "\n",
       "    for(var toolbar_ind in mpl.toolbar_items) {\n",
       "        var name = mpl.toolbar_items[toolbar_ind][0];\n",
       "        var tooltip = mpl.toolbar_items[toolbar_ind][1];\n",
       "        var image = mpl.toolbar_items[toolbar_ind][2];\n",
       "        var method_name = mpl.toolbar_items[toolbar_ind][3];\n",
       "\n",
       "        if (!name) {\n",
       "            // put a spacer in here.\n",
       "            continue;\n",
       "        }\n",
       "        var button = $('<button/>');\n",
       "        button.addClass('ui-button ui-widget ui-state-default ui-corner-all ' +\n",
       "                        'ui-button-icon-only');\n",
       "        button.attr('role', 'button');\n",
       "        button.attr('aria-disabled', 'false');\n",
       "        button.click(method_name, toolbar_event);\n",
       "        button.mouseover(tooltip, toolbar_mouse_event);\n",
       "\n",
       "        var icon_img = $('<span/>');\n",
       "        icon_img.addClass('ui-button-icon-primary ui-icon');\n",
       "        icon_img.addClass(image);\n",
       "        icon_img.addClass('ui-corner-all');\n",
       "\n",
       "        var tooltip_span = $('<span/>');\n",
       "        tooltip_span.addClass('ui-button-text');\n",
       "        tooltip_span.html(tooltip);\n",
       "\n",
       "        button.append(icon_img);\n",
       "        button.append(tooltip_span);\n",
       "\n",
       "        nav_element.append(button);\n",
       "    }\n",
       "\n",
       "    var fmt_picker_span = $('<span/>');\n",
       "\n",
       "    var fmt_picker = $('<select/>');\n",
       "    fmt_picker.addClass('mpl-toolbar-option ui-widget ui-widget-content');\n",
       "    fmt_picker_span.append(fmt_picker);\n",
       "    nav_element.append(fmt_picker_span);\n",
       "    this.format_dropdown = fmt_picker[0];\n",
       "\n",
       "    for (var ind in mpl.extensions) {\n",
       "        var fmt = mpl.extensions[ind];\n",
       "        var option = $(\n",
       "            '<option/>', {selected: fmt === mpl.default_extension}).html(fmt);\n",
       "        fmt_picker.append(option);\n",
       "    }\n",
       "\n",
       "    // Add hover states to the ui-buttons\n",
       "    $( \".ui-button\" ).hover(\n",
       "        function() { $(this).addClass(\"ui-state-hover\");},\n",
       "        function() { $(this).removeClass(\"ui-state-hover\");}\n",
       "    );\n",
       "\n",
       "    var status_bar = $('<span class=\"mpl-message\"/>');\n",
       "    nav_element.append(status_bar);\n",
       "    this.message = status_bar[0];\n",
       "}\n",
       "\n",
       "mpl.figure.prototype.request_resize = function(x_pixels, y_pixels) {\n",
       "    // Request matplotlib to resize the figure. Matplotlib will then trigger a resize in the client,\n",
       "    // which will in turn request a refresh of the image.\n",
       "    this.send_message('resize', {'width': x_pixels, 'height': y_pixels});\n",
       "}\n",
       "\n",
       "mpl.figure.prototype.send_message = function(type, properties) {\n",
       "    properties['type'] = type;\n",
       "    properties['figure_id'] = this.id;\n",
       "    this.ws.send(JSON.stringify(properties));\n",
       "}\n",
       "\n",
       "mpl.figure.prototype.send_draw_message = function() {\n",
       "    if (!this.waiting) {\n",
       "        this.waiting = true;\n",
       "        this.ws.send(JSON.stringify({type: \"draw\", figure_id: this.id}));\n",
       "    }\n",
       "}\n",
       "\n",
       "\n",
       "mpl.figure.prototype.handle_save = function(fig, msg) {\n",
       "    var format_dropdown = fig.format_dropdown;\n",
       "    var format = format_dropdown.options[format_dropdown.selectedIndex].value;\n",
       "    fig.ondownload(fig, format);\n",
       "}\n",
       "\n",
       "\n",
       "mpl.figure.prototype.handle_resize = function(fig, msg) {\n",
       "    var size = msg['size'];\n",
       "    if (size[0] != fig.canvas.width || size[1] != fig.canvas.height) {\n",
       "        fig._resize_canvas(size[0], size[1]);\n",
       "        fig.send_message(\"refresh\", {});\n",
       "    };\n",
       "}\n",
       "\n",
       "mpl.figure.prototype.handle_rubberband = function(fig, msg) {\n",
       "    var x0 = msg['x0'] / mpl.ratio;\n",
       "    var y0 = (fig.canvas.height - msg['y0']) / mpl.ratio;\n",
       "    var x1 = msg['x1'] / mpl.ratio;\n",
       "    var y1 = (fig.canvas.height - msg['y1']) / mpl.ratio;\n",
       "    x0 = Math.floor(x0) + 0.5;\n",
       "    y0 = Math.floor(y0) + 0.5;\n",
       "    x1 = Math.floor(x1) + 0.5;\n",
       "    y1 = Math.floor(y1) + 0.5;\n",
       "    var min_x = Math.min(x0, x1);\n",
       "    var min_y = Math.min(y0, y1);\n",
       "    var width = Math.abs(x1 - x0);\n",
       "    var height = Math.abs(y1 - y0);\n",
       "\n",
       "    fig.rubberband_context.clearRect(\n",
       "        0, 0, fig.canvas.width / mpl.ratio, fig.canvas.height / mpl.ratio);\n",
       "\n",
       "    fig.rubberband_context.strokeRect(min_x, min_y, width, height);\n",
       "}\n",
       "\n",
       "mpl.figure.prototype.handle_figure_label = function(fig, msg) {\n",
       "    // Updates the figure title.\n",
       "    fig.header.textContent = msg['label'];\n",
       "}\n",
       "\n",
       "mpl.figure.prototype.handle_cursor = function(fig, msg) {\n",
       "    var cursor = msg['cursor'];\n",
       "    switch(cursor)\n",
       "    {\n",
       "    case 0:\n",
       "        cursor = 'pointer';\n",
       "        break;\n",
       "    case 1:\n",
       "        cursor = 'default';\n",
       "        break;\n",
       "    case 2:\n",
       "        cursor = 'crosshair';\n",
       "        break;\n",
       "    case 3:\n",
       "        cursor = 'move';\n",
       "        break;\n",
       "    }\n",
       "    fig.rubberband_canvas.style.cursor = cursor;\n",
       "}\n",
       "\n",
       "mpl.figure.prototype.handle_message = function(fig, msg) {\n",
       "    fig.message.textContent = msg['message'];\n",
       "}\n",
       "\n",
       "mpl.figure.prototype.handle_draw = function(fig, msg) {\n",
       "    // Request the server to send over a new figure.\n",
       "    fig.send_draw_message();\n",
       "}\n",
       "\n",
       "mpl.figure.prototype.handle_image_mode = function(fig, msg) {\n",
       "    fig.image_mode = msg['mode'];\n",
       "}\n",
       "\n",
       "mpl.figure.prototype.updated_canvas_event = function() {\n",
       "    // Called whenever the canvas gets updated.\n",
       "    this.send_message(\"ack\", {});\n",
       "}\n",
       "\n",
       "// A function to construct a web socket function for onmessage handling.\n",
       "// Called in the figure constructor.\n",
       "mpl.figure.prototype._make_on_message_function = function(fig) {\n",
       "    return function socket_on_message(evt) {\n",
       "        if (evt.data instanceof Blob) {\n",
       "            /* FIXME: We get \"Resource interpreted as Image but\n",
       "             * transferred with MIME type text/plain:\" errors on\n",
       "             * Chrome.  But how to set the MIME type?  It doesn't seem\n",
       "             * to be part of the websocket stream */\n",
       "            evt.data.type = \"image/png\";\n",
       "\n",
       "            /* Free the memory for the previous frames */\n",
       "            if (fig.imageObj.src) {\n",
       "                (window.URL || window.webkitURL).revokeObjectURL(\n",
       "                    fig.imageObj.src);\n",
       "            }\n",
       "\n",
       "            fig.imageObj.src = (window.URL || window.webkitURL).createObjectURL(\n",
       "                evt.data);\n",
       "            fig.updated_canvas_event();\n",
       "            fig.waiting = false;\n",
       "            return;\n",
       "        }\n",
       "        else if (typeof evt.data === 'string' && evt.data.slice(0, 21) == \"data:image/png;base64\") {\n",
       "            fig.imageObj.src = evt.data;\n",
       "            fig.updated_canvas_event();\n",
       "            fig.waiting = false;\n",
       "            return;\n",
       "        }\n",
       "\n",
       "        var msg = JSON.parse(evt.data);\n",
       "        var msg_type = msg['type'];\n",
       "\n",
       "        // Call the  \"handle_{type}\" callback, which takes\n",
       "        // the figure and JSON message as its only arguments.\n",
       "        try {\n",
       "            var callback = fig[\"handle_\" + msg_type];\n",
       "        } catch (e) {\n",
       "            console.log(\"No handler for the '\" + msg_type + \"' message type: \", msg);\n",
       "            return;\n",
       "        }\n",
       "\n",
       "        if (callback) {\n",
       "            try {\n",
       "                // console.log(\"Handling '\" + msg_type + \"' message: \", msg);\n",
       "                callback(fig, msg);\n",
       "            } catch (e) {\n",
       "                console.log(\"Exception inside the 'handler_\" + msg_type + \"' callback:\", e, e.stack, msg);\n",
       "            }\n",
       "        }\n",
       "    };\n",
       "}\n",
       "\n",
       "// from http://stackoverflow.com/questions/1114465/getting-mouse-location-in-canvas\n",
       "mpl.findpos = function(e) {\n",
       "    //this section is from http://www.quirksmode.org/js/events_properties.html\n",
       "    var targ;\n",
       "    if (!e)\n",
       "        e = window.event;\n",
       "    if (e.target)\n",
       "        targ = e.target;\n",
       "    else if (e.srcElement)\n",
       "        targ = e.srcElement;\n",
       "    if (targ.nodeType == 3) // defeat Safari bug\n",
       "        targ = targ.parentNode;\n",
       "\n",
       "    // jQuery normalizes the pageX and pageY\n",
       "    // pageX,Y are the mouse positions relative to the document\n",
       "    // offset() returns the position of the element relative to the document\n",
       "    var x = e.pageX - $(targ).offset().left;\n",
       "    var y = e.pageY - $(targ).offset().top;\n",
       "\n",
       "    return {\"x\": x, \"y\": y};\n",
       "};\n",
       "\n",
       "/*\n",
       " * return a copy of an object with only non-object keys\n",
       " * we need this to avoid circular references\n",
       " * http://stackoverflow.com/a/24161582/3208463\n",
       " */\n",
       "function simpleKeys (original) {\n",
       "  return Object.keys(original).reduce(function (obj, key) {\n",
       "    if (typeof original[key] !== 'object')\n",
       "        obj[key] = original[key]\n",
       "    return obj;\n",
       "  }, {});\n",
       "}\n",
       "\n",
       "mpl.figure.prototype.mouse_event = function(event, name) {\n",
       "    var canvas_pos = mpl.findpos(event)\n",
       "\n",
       "    if (name === 'button_press')\n",
       "    {\n",
       "        this.canvas.focus();\n",
       "        this.canvas_div.focus();\n",
       "    }\n",
       "\n",
       "    var x = canvas_pos.x * mpl.ratio;\n",
       "    var y = canvas_pos.y * mpl.ratio;\n",
       "\n",
       "    this.send_message(name, {x: x, y: y, button: event.button,\n",
       "                             step: event.step,\n",
       "                             guiEvent: simpleKeys(event)});\n",
       "\n",
       "    /* This prevents the web browser from automatically changing to\n",
       "     * the text insertion cursor when the button is pressed.  We want\n",
       "     * to control all of the cursor setting manually through the\n",
       "     * 'cursor' event from matplotlib */\n",
       "    event.preventDefault();\n",
       "    return false;\n",
       "}\n",
       "\n",
       "mpl.figure.prototype._key_event_extra = function(event, name) {\n",
       "    // Handle any extra behaviour associated with a key event\n",
       "}\n",
       "\n",
       "mpl.figure.prototype.key_event = function(event, name) {\n",
       "\n",
       "    // Prevent repeat events\n",
       "    if (name == 'key_press')\n",
       "    {\n",
       "        if (event.which === this._key)\n",
       "            return;\n",
       "        else\n",
       "            this._key = event.which;\n",
       "    }\n",
       "    if (name == 'key_release')\n",
       "        this._key = null;\n",
       "\n",
       "    var value = '';\n",
       "    if (event.ctrlKey && event.which != 17)\n",
       "        value += \"ctrl+\";\n",
       "    if (event.altKey && event.which != 18)\n",
       "        value += \"alt+\";\n",
       "    if (event.shiftKey && event.which != 16)\n",
       "        value += \"shift+\";\n",
       "\n",
       "    value += 'k';\n",
       "    value += event.which.toString();\n",
       "\n",
       "    this._key_event_extra(event, name);\n",
       "\n",
       "    this.send_message(name, {key: value,\n",
       "                             guiEvent: simpleKeys(event)});\n",
       "    return false;\n",
       "}\n",
       "\n",
       "mpl.figure.prototype.toolbar_button_onclick = function(name) {\n",
       "    if (name == 'download') {\n",
       "        this.handle_save(this, null);\n",
       "    } else {\n",
       "        this.send_message(\"toolbar_button\", {name: name});\n",
       "    }\n",
       "};\n",
       "\n",
       "mpl.figure.prototype.toolbar_button_onmouseover = function(tooltip) {\n",
       "    this.message.textContent = tooltip;\n",
       "};\n",
       "mpl.toolbar_items = [[\"Home\", \"Reset original view\", \"fa fa-home icon-home\", \"home\"], [\"Back\", \"Back to previous view\", \"fa fa-arrow-left icon-arrow-left\", \"back\"], [\"Forward\", \"Forward to next view\", \"fa fa-arrow-right icon-arrow-right\", \"forward\"], [\"\", \"\", \"\", \"\"], [\"Pan\", \"Pan axes with left mouse, zoom with right\", \"fa fa-arrows icon-move\", \"pan\"], [\"Zoom\", \"Zoom to rectangle\", \"fa fa-square-o icon-check-empty\", \"zoom\"], [\"\", \"\", \"\", \"\"], [\"Download\", \"Download plot\", \"fa fa-floppy-o icon-save\", \"download\"]];\n",
       "\n",
       "mpl.extensions = [\"eps\", \"jpeg\", \"pdf\", \"png\", \"ps\", \"raw\", \"svg\", \"tif\"];\n",
       "\n",
       "mpl.default_extension = \"png\";var comm_websocket_adapter = function(comm) {\n",
       "    // Create a \"websocket\"-like object which calls the given IPython comm\n",
       "    // object with the appropriate methods. Currently this is a non binary\n",
       "    // socket, so there is still some room for performance tuning.\n",
       "    var ws = {};\n",
       "\n",
       "    ws.close = function() {\n",
       "        comm.close()\n",
       "    };\n",
       "    ws.send = function(m) {\n",
       "        //console.log('sending', m);\n",
       "        comm.send(m);\n",
       "    };\n",
       "    // Register the callback with on_msg.\n",
       "    comm.on_msg(function(msg) {\n",
       "        //console.log('receiving', msg['content']['data'], msg);\n",
       "        // Pass the mpl event to the overridden (by mpl) onmessage function.\n",
       "        ws.onmessage(msg['content']['data'])\n",
       "    });\n",
       "    return ws;\n",
       "}\n",
       "\n",
       "mpl.mpl_figure_comm = function(comm, msg) {\n",
       "    // This is the function which gets called when the mpl process\n",
       "    // starts-up an IPython Comm through the \"matplotlib\" channel.\n",
       "\n",
       "    var id = msg.content.data.id;\n",
       "    // Get hold of the div created by the display call when the Comm\n",
       "    // socket was opened in Python.\n",
       "    var element = $(\"#\" + id);\n",
       "    var ws_proxy = comm_websocket_adapter(comm)\n",
       "\n",
       "    function ondownload(figure, format) {\n",
       "        window.open(figure.imageObj.src);\n",
       "    }\n",
       "\n",
       "    var fig = new mpl.figure(id, ws_proxy,\n",
       "                           ondownload,\n",
       "                           element.get(0));\n",
       "\n",
       "    // Call onopen now - mpl needs it, as it is assuming we've passed it a real\n",
       "    // web socket which is closed, not our websocket->open comm proxy.\n",
       "    ws_proxy.onopen();\n",
       "\n",
       "    fig.parent_element = element.get(0);\n",
       "    fig.cell_info = mpl.find_output_cell(\"<div id='\" + id + \"'></div>\");\n",
       "    if (!fig.cell_info) {\n",
       "        console.error(\"Failed to find cell for figure\", id, fig);\n",
       "        return;\n",
       "    }\n",
       "\n",
       "    var output_index = fig.cell_info[2]\n",
       "    var cell = fig.cell_info[0];\n",
       "\n",
       "};\n",
       "\n",
       "mpl.figure.prototype.handle_close = function(fig, msg) {\n",
       "    var width = fig.canvas.width/mpl.ratio\n",
       "    fig.root.unbind('remove')\n",
       "\n",
       "    // Update the output cell to use the data from the current canvas.\n",
       "    fig.push_to_output();\n",
       "    var dataURL = fig.canvas.toDataURL();\n",
       "    // Re-enable the keyboard manager in IPython - without this line, in FF,\n",
       "    // the notebook keyboard shortcuts fail.\n",
       "    IPython.keyboard_manager.enable()\n",
       "    $(fig.parent_element).html('<img src=\"' + dataURL + '\" width=\"' + width + '\">');\n",
       "    fig.close_ws(fig, msg);\n",
       "}\n",
       "\n",
       "mpl.figure.prototype.close_ws = function(fig, msg){\n",
       "    fig.send_message('closing', msg);\n",
       "    // fig.ws.close()\n",
       "}\n",
       "\n",
       "mpl.figure.prototype.push_to_output = function(remove_interactive) {\n",
       "    // Turn the data on the canvas into data in the output cell.\n",
       "    var width = this.canvas.width/mpl.ratio\n",
       "    var dataURL = this.canvas.toDataURL();\n",
       "    this.cell_info[1]['text/html'] = '<img src=\"' + dataURL + '\" width=\"' + width + '\">';\n",
       "}\n",
       "\n",
       "mpl.figure.prototype.updated_canvas_event = function() {\n",
       "    // Tell IPython that the notebook contents must change.\n",
       "    IPython.notebook.set_dirty(true);\n",
       "    this.send_message(\"ack\", {});\n",
       "    var fig = this;\n",
       "    // Wait a second, then push the new image to the DOM so\n",
       "    // that it is saved nicely (might be nice to debounce this).\n",
       "    setTimeout(function () { fig.push_to_output() }, 1000);\n",
       "}\n",
       "\n",
       "mpl.figure.prototype._init_toolbar = function() {\n",
       "    var fig = this;\n",
       "\n",
       "    var nav_element = $('<div/>');\n",
       "    nav_element.attr('style', 'width: 100%');\n",
       "    this.root.append(nav_element);\n",
       "\n",
       "    // Define a callback function for later on.\n",
       "    function toolbar_event(event) {\n",
       "        return fig.toolbar_button_onclick(event['data']);\n",
       "    }\n",
       "    function toolbar_mouse_event(event) {\n",
       "        return fig.toolbar_button_onmouseover(event['data']);\n",
       "    }\n",
       "\n",
       "    for(var toolbar_ind in mpl.toolbar_items){\n",
       "        var name = mpl.toolbar_items[toolbar_ind][0];\n",
       "        var tooltip = mpl.toolbar_items[toolbar_ind][1];\n",
       "        var image = mpl.toolbar_items[toolbar_ind][2];\n",
       "        var method_name = mpl.toolbar_items[toolbar_ind][3];\n",
       "\n",
       "        if (!name) { continue; };\n",
       "\n",
       "        var button = $('<button class=\"btn btn-default\" href=\"#\" title=\"' + name + '\"><i class=\"fa ' + image + ' fa-lg\"></i></button>');\n",
       "        button.click(method_name, toolbar_event);\n",
       "        button.mouseover(tooltip, toolbar_mouse_event);\n",
       "        nav_element.append(button);\n",
       "    }\n",
       "\n",
       "    // Add the status bar.\n",
       "    var status_bar = $('<span class=\"mpl-message\" style=\"text-align:right; float: right;\"/>');\n",
       "    nav_element.append(status_bar);\n",
       "    this.message = status_bar[0];\n",
       "\n",
       "    // Add the close button to the window.\n",
       "    var buttongrp = $('<div class=\"btn-group inline pull-right\"></div>');\n",
       "    var button = $('<button class=\"btn btn-mini btn-primary\" href=\"#\" title=\"Stop Interaction\"><i class=\"fa fa-power-off icon-remove icon-large\"></i></button>');\n",
       "    button.click(function (evt) { fig.handle_close(fig, {}); } );\n",
       "    button.mouseover('Stop Interaction', toolbar_mouse_event);\n",
       "    buttongrp.append(button);\n",
       "    var titlebar = this.root.find($('.ui-dialog-titlebar'));\n",
       "    titlebar.prepend(buttongrp);\n",
       "}\n",
       "\n",
       "mpl.figure.prototype._root_extra_style = function(el){\n",
       "    var fig = this\n",
       "    el.on(\"remove\", function(){\n",
       "\tfig.close_ws(fig, {});\n",
       "    });\n",
       "}\n",
       "\n",
       "mpl.figure.prototype._canvas_extra_style = function(el){\n",
       "    // this is important to make the div 'focusable\n",
       "    el.attr('tabindex', 0)\n",
       "    // reach out to IPython and tell the keyboard manager to turn it's self\n",
       "    // off when our div gets focus\n",
       "\n",
       "    // location in version 3\n",
       "    if (IPython.notebook.keyboard_manager) {\n",
       "        IPython.notebook.keyboard_manager.register_events(el);\n",
       "    }\n",
       "    else {\n",
       "        // location in version 2\n",
       "        IPython.keyboard_manager.register_events(el);\n",
       "    }\n",
       "\n",
       "}\n",
       "\n",
       "mpl.figure.prototype._key_event_extra = function(event, name) {\n",
       "    var manager = IPython.notebook.keyboard_manager;\n",
       "    if (!manager)\n",
       "        manager = IPython.keyboard_manager;\n",
       "\n",
       "    // Check for shift+enter\n",
       "    if (event.shiftKey && event.which == 13) {\n",
       "        this.canvas_div.blur();\n",
       "        // select the cell after this one\n",
       "        var index = IPython.notebook.find_cell_index(this.cell_info[0]);\n",
       "        IPython.notebook.select(index + 1);\n",
       "    }\n",
       "}\n",
       "\n",
       "mpl.figure.prototype.handle_save = function(fig, msg) {\n",
       "    fig.ondownload(fig, null);\n",
       "}\n",
       "\n",
       "\n",
       "mpl.find_output_cell = function(html_output) {\n",
       "    // Return the cell and output element which can be found *uniquely* in the notebook.\n",
       "    // Note - this is a bit hacky, but it is done because the \"notebook_saving.Notebook\"\n",
       "    // IPython event is triggered only after the cells have been serialised, which for\n",
       "    // our purposes (turning an active figure into a static one), is too late.\n",
       "    var cells = IPython.notebook.get_cells();\n",
       "    var ncells = cells.length;\n",
       "    for (var i=0; i<ncells; i++) {\n",
       "        var cell = cells[i];\n",
       "        if (cell.cell_type === 'code'){\n",
       "            for (var j=0; j<cell.output_area.outputs.length; j++) {\n",
       "                var data = cell.output_area.outputs[j];\n",
       "                if (data.data) {\n",
       "                    // IPython >= 3 moved mimebundle to data attribute of output\n",
       "                    data = data.data;\n",
       "                }\n",
       "                if (data['text/html'] == html_output) {\n",
       "                    return [cell, data, j];\n",
       "                }\n",
       "            }\n",
       "        }\n",
       "    }\n",
       "}\n",
       "\n",
       "// Register the function which deals with the matplotlib target/channel.\n",
       "// The kernel may be null if the page has been refreshed.\n",
       "if (IPython.notebook.kernel != null) {\n",
       "    IPython.notebook.kernel.comm_manager.register_target('matplotlib', mpl.mpl_figure_comm);\n",
       "}\n"
      ],
      "text/plain": [
       "<IPython.core.display.Javascript object>"
      ]
     },
     "metadata": {},
     "output_type": "display_data"
    },
    {
     "data": {
      "text/html": [
       "<img src=\"data:image/png;base64,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\" width=\"640\">"
      ],
      "text/plain": [
       "<IPython.core.display.HTML object>"
      ]
     },
     "metadata": {},
     "output_type": "display_data"
    }
   ],
   "source": [
    "%matplotlib notebook\n",
    "plt.figure()\n",
    "ax = plt.gca()\n",
    "ax.quiver(0,0,P,Q,angles='xy', scale_units='xy', scale=1, color='red' )\n",
    "ax.quiver(0,0,P,0, angles='xy', scale_units='xy', scale=1, color='blue')\n",
    "ax.quiver(P,0,0,Q, angles='xy', scale_units='xy', scale=1, color='green')\n",
    "ax.set_xlim([0,25000])\n",
    "ax.set_ylim([-1000,24000])\n",
    "plt.text(P - 1500, Q, r'$\\vec S$', fontsize=14, color='red', fontweight='bold')\n",
    "plt.text(P - 1500,  200, r'$\\vec P$', fontsize=14, color='blue', fontweight='bold')\n",
    "plt.text(P + 100, Q, r'$\\vec Q$', fontsize=14, color='green', fontweight='bold')\n",
    "plt.text(5500,  2000, r'$\\varphi =$ %.2f°'%( math.degrees(phi) ), fontsize=12)\n",
    "theta = np.linspace(0, phi, 100) \n",
    "x1 = 5000 * np.cos(theta)\n",
    "x2 = 5000 * np.sin(theta)\n",
    "plt.plot(x1, x2, linestyle='--')\n",
    "ax.set_aspect('equal')\n",
    "ax.grid(linestyle=\":\")\n",
    "plt.title('Triángulo de potencias', fontsize=16)\n",
    "plt.xlabel('Re (Eje real)',  fontsize=12)\n",
    "plt.ylabel('Im (Eje imaginario)',  fontsize=12)\n",
    "ax.set_axisbelow(True)\n",
    "plt.draw()\n",
    "plt.show()"
   ]
  },
  {
   "cell_type": "code",
   "execution_count": 28,
   "metadata": {},
   "outputs": [],
   "source": [
    "%reset -s -f"
   ]
  },
  {
   "cell_type": "markdown",
   "metadata": {},
   "source": [
    "## Ejercicio N°3\n",
    "Determinar el valor de la capacidad para lograr una corriente del 57,63% de la inicial que entrega la fuente."
   ]
  },
  {
   "cell_type": "markdown",
   "metadata": {},
   "source": [
    "<img src=\"img/tp5e3-1.png\">"
   ]
  },
  {
   "cell_type": "markdown",
   "metadata": {},
   "source": [
    "### Solución"
   ]
  },
  {
   "cell_type": "markdown",
   "metadata": {},
   "source": [
    "Cálculo de $Z_{eq}$"
   ]
  },
  {
   "cell_type": "markdown",
   "metadata": {},
   "source": [
    "$$ Z_{eq} = [ (Z_4 || Z_3) + Z_2 ] \\, ||  \\, Z_1 $$"
   ]
  },
  {
   "cell_type": "markdown",
   "metadata": {},
   "source": [
    "$$ Z_{eq} = 38,06 \\angle 80,56^\\circ  \\, \\Omega \\quad \\rightarrow \\quad 6,24 + j 37,54 \\, \\Omega$$"
   ]
  },
  {
   "cell_type": "markdown",
   "metadata": {},
   "source": [
    "Cálculo de I"
   ]
  },
  {
   "cell_type": "markdown",
   "metadata": {},
   "source": [
    "$$ I = \\frac{U}{Z_{eq}} = 5,78 \\angle -80,56^\\circ \\, \\mathrm{A} $$"
   ]
  },
  {
   "cell_type": "markdown",
   "metadata": {},
   "source": [
    "Cálculo de $S_1$"
   ]
  },
  {
   "cell_type": "markdown",
   "metadata": {},
   "source": [
    "$$ S_1 = U \\cdot I^\\ast $$"
   ]
  },
  {
   "cell_type": "markdown",
   "metadata": {},
   "source": [
    "$$ S_1 = 1271,81 \\angle 80,56^\\circ \\, \\mathrm{VA} \\quad \\rightarrow \\quad 208,64 + j1254,57 \\, \\mathrm{VA} $$"
   ]
  },
  {
   "cell_type": "markdown",
   "metadata": {},
   "source": [
    "Entonces:\n",
    "\n",
    "$\\begin{array}{l}\n",
    "P_1 = 208,64 \\, \\mathrm{W} \\\\\n",
    "Q_1 = 1254,57 \\, \\mathrm{VAr}\n",
    "\\end{array}$"
   ]
  },
  {
   "cell_type": "markdown",
   "metadata": {},
   "source": [
    "Estado compensado"
   ]
  },
  {
   "cell_type": "markdown",
   "metadata": {},
   "source": [
    "$$ |I_2| = |I_1| \\cdot 0,5763 = 3,33 \\, \\mathrm{A} $$"
   ]
  },
  {
   "cell_type": "markdown",
   "metadata": {},
   "source": [
    "Cálculo de $\\varphi_2$"
   ]
  },
  {
   "cell_type": "markdown",
   "metadata": {},
   "source": [
    "$$ P_1 = P_2 $$"
   ]
  },
  {
   "cell_type": "markdown",
   "metadata": {},
   "source": [
    "$$ U I_1 \\cos \\varphi_1 = U I_2 \\cos \\varphi_2 $$"
   ]
  },
  {
   "cell_type": "markdown",
   "metadata": {},
   "source": [
    "$$ \\varphi_2 = \\arccos {|I_1| \\cos \\varphi_1 \\over |I_2|  } = 73,46^\\circ $$"
   ]
  },
  {
   "cell_type": "markdown",
   "metadata": {},
   "source": [
    "Cálculo de $Q_2$"
   ]
  },
  {
   "cell_type": "markdown",
   "metadata": {},
   "source": [
    "$$ Q_2 = U I_2 \\sin \\varphi_2 = 702,62 \\, \\mathrm{VAr} $$"
   ]
  },
  {
   "cell_type": "markdown",
   "metadata": {},
   "source": [
    "Cálculo de $Q_C$"
   ]
  },
  {
   "cell_type": "markdown",
   "metadata": {},
   "source": [
    "$$ Q_C = Q_1 - Q_2 = 551,96 \\, \\mathrm{VAr} $$"
   ]
  },
  {
   "cell_type": "markdown",
   "metadata": {},
   "source": [
    "Entonces"
   ]
  },
  {
   "cell_type": "markdown",
   "metadata": {},
   "source": [
    "$$ Q_C = {U^2 \\over X_C} = {U^2 \\over 1/(\\omega C)} = U^2 \\omega C $$"
   ]
  },
  {
   "cell_type": "markdown",
   "metadata": {},
   "source": [
    "$$ C = {Q_C \\over \\omega U^2} = {Q_C \\over 2 \\pi f U^2} = 36,3 \\, \\mu \\mathrm{F} $$"
   ]
  },
  {
   "cell_type": "code",
   "execution_count": 29,
   "metadata": {},
   "outputs": [],
   "source": [
    "# Datos:\n",
    "Z1 = 15 + 75j # Ohm\n",
    "Z2 = 5 + 0j # Ohm\n",
    "Z3 = 10 + 150j # Ohm\n",
    "Z4 = Z3\n",
    "U = 220 # V\n",
    "f = 50 # Hz"
   ]
  },
  {
   "cell_type": "code",
   "execution_count": 30,
   "metadata": {},
   "outputs": [],
   "source": [
    "import math, cmath\n",
    "def prl(x,y):\n",
    "    return (x*y)/(x+y)"
   ]
  },
  {
   "cell_type": "code",
   "execution_count": 48,
   "metadata": {},
   "outputs": [],
   "source": [
    "# Cálculo de Zeq\n",
    "Zeq = prl( prl(Z4,Z3) + Z2 , Z1)\n",
    "# Cálculo de I\n",
    "I1 = U/Zeq\n",
    "# Cálculo de S1\n",
    "S1 = U*I.conjugate()\n",
    "P1 = S1.real\n",
    "Q1 = S1.imag\n",
    "# Cálculo de I2\n",
    "I2 = abs(I1)*0.5763\n",
    "phi1 = -cmath.phase(I1)\n",
    "phi2 = math.acos( abs(I1)*math.cos(phi1)/I2 )\n",
    "Q2 = U*I2*math.sin(phi2)\n",
    "P2 = P1\n",
    "S2 = complex(P2,Q2)\n",
    "Qc = Q1 - Q2\n",
    "C = Qc/(2*math.pi*f*U**2)"
   ]
  },
  {
   "cell_type": "code",
   "execution_count": 53,
   "metadata": {},
   "outputs": [
    {
     "name": "stdout",
     "output_type": "stream",
     "text": [
      "Resultados:\n",
      "--------------------------------\n",
      "Zeq = (38.06 < 80.56°) Ohm\n",
      "Zeq = 6.24+37.54j Ohm\n",
      "I1 = (5.78 < -80.56°) A\n",
      "--------------------------------\n",
      "S1 = (1271.81 < 80.56°) VA\n",
      "S1 = 208.64+1254.57j VA\n",
      "P1 = 208.64 W\n",
      "Q1 = 1254.57 VAr\n",
      "--------------------------------\n",
      "|I2| = 3.33 A\n",
      "phi2 = 73.46°\n",
      "I2 = (3.33 < -73.46°) A\n",
      "--------------------------------\n",
      "Q2 = 702.62 VAr\n",
      "P2 = 208.64 W\n",
      "S2 = 208.64+702.62j VA\n",
      "S2 = (732.94 < 73.46°) VA\n",
      "--------------------------------\n",
      "Qc = 551.96 VAr\n",
      "C = 36.30 uF\n",
      "--------------------------------\n"
     ]
    }
   ],
   "source": [
    "print('Resultados:')\n",
    "print('--------------------------------')\n",
    "print('Zeq = (%.2f < %.2f°) Ohm'%(abs(Zeq) , math.degrees( cmath.phase(Zeq) ) ))\n",
    "print('Zeq = {:.2f} Ohm'.format(Zeq))\n",
    "print('I1 = (%.2f < %.2f°) A'%(abs(I1), math.degrees( cmath.phase(I1) ) ))\n",
    "print('--------------------------------')\n",
    "print('S1 = (%.2f < %.2f°) VA'%(abs(S1) , math.degrees( cmath.phase(S1) ) ))\n",
    "print('S1 = {:.2f} VA'.format(S1))\n",
    "print('P1 = %.2f W'%P1)\n",
    "print('Q1 = %.2f VAr'%Q1)\n",
    "print('--------------------------------')\n",
    "print('|I2| = %.2f A'%I2)\n",
    "print('phi2 = %.2f°'%( math.degrees(phi2) ))\n",
    "print('I2 = (%.2f < %.2f°) A'%(I2 , -math.degrees(phi2) ))\n",
    "print('--------------------------------')\n",
    "print('Q2 = %.2f VAr'%Q2)\n",
    "print('P2 = %.2f W'%P2)\n",
    "print('S2 = {:.2f} VA'.format(S2))\n",
    "print('S2 = (%.2f < %.2f°) VA'%(abs(S2), math.degrees( cmath.phase(S2) ) ))\n",
    "print('--------------------------------')\n",
    "print('Qc = %.2f VAr'%Qc)\n",
    "print('C = %.2f uF'%(C*1e6))\n",
    "print('--------------------------------')"
   ]
  },
  {
   "cell_type": "code",
   "execution_count": null,
   "metadata": {},
   "outputs": [],
   "source": [
    "%reset -s -f"
   ]
  },
  {
   "cell_type": "markdown",
   "metadata": {},
   "source": [
    "## Ejercicio N°4\n",
    "Obtener el circuito de Thévenin entre los puntos a y b, y calcular la corriente que circularía si se conecta $R_C$."
   ]
  },
  {
   "cell_type": "markdown",
   "metadata": {},
   "source": [
    "<img src=\"img/tp5e4-1.png\">"
   ]
  },
  {
   "cell_type": "markdown",
   "metadata": {},
   "source": [
    "### Solución"
   ]
  },
  {
   "cell_type": "markdown",
   "metadata": {},
   "source": [
    "Cálculo de $Z_{th}$"
   ]
  },
  {
   "cell_type": "markdown",
   "metadata": {},
   "source": [
    "$$ Z_{th} = [(Z_4 + Z_2) \\, || \\, Z_3 ] + Z_5 $$"
   ]
  },
  {
   "cell_type": "markdown",
   "metadata": {},
   "source": [
    "Voltaje de Thevenin"
   ]
  },
  {
   "cell_type": "markdown",
   "metadata": {},
   "source": [
    "$$ U_{th} = U_\\mathrm{ab} = U_{Z_3} $$"
   ]
  },
  {
   "cell_type": "markdown",
   "metadata": {},
   "source": [
    "$$ U_{Z_3} = I \\cdot Z_3 $$"
   ]
  },
  {
   "cell_type": "markdown",
   "metadata": {},
   "source": [
    "Cálculo de *I*"
   ]
  },
  {
   "cell_type": "markdown",
   "metadata": {},
   "source": [
    "$$ I = {U \\over Z_2 + Z_3 + Z_4} $$"
   ]
  },
  {
   "cell_type": "code",
   "execution_count": 2,
   "metadata": {},
   "outputs": [],
   "source": [
    "# Datos:\n",
    "Z0 = 187.6 + 831.3j # Ohm\n",
    "Z1 = Z0\n",
    "Z2 = 0 + 21j # Ohm\n",
    "Z3 = Z2\n",
    "Z4 = Z3\n",
    "Z5 = 123 + 17.1j # Ohm\n",
    "U = 200 # V\n",
    "Rc = 20 # Ohm"
   ]
  },
  {
   "cell_type": "code",
   "execution_count": 3,
   "metadata": {},
   "outputs": [],
   "source": [
    "import math, cmath\n",
    "def prl(x,y):\n",
    "    return (x*y)/(x + y)"
   ]
  },
  {
   "cell_type": "code",
   "execution_count": 14,
   "metadata": {},
   "outputs": [],
   "source": [
    "Zth = prl(Z4 + Z2, Z3) + Z5\n",
    "I = U/(Z2 + Z3 + Z4)\n",
    "Uth = I*Z3\n",
    "Ic = Uth/(Zth + Rc)"
   ]
  },
  {
   "cell_type": "code",
   "execution_count": 16,
   "metadata": {},
   "outputs": [
    {
     "name": "stdout",
     "output_type": "stream",
     "text": [
      "Resultados:\n",
      "--------------------------------\n",
      "Zth = 123.00+31.10j Ohm\n",
      "Uth = (66.67 < 0.00°) V\n",
      "--------------------------------\n",
      "Ic = (0.46 < -12.27°) A\n",
      "--------------------------------\n"
     ]
    }
   ],
   "source": [
    "print('Resultados:')\n",
    "print('--------------------------------')\n",
    "print('Zth = {:.2f} Ohm'.format(Zth))\n",
    "print('Uth = (%.2f < %.2f°) V'%(abs(Uth) , math.degrees( cmath.phase(U) ) ) )\n",
    "print('--------------------------------')\n",
    "print('Ic = (%.2f < %.2f°) A'%(abs(Ic) , math.degrees( cmath.phase(Ic) ) ))\n",
    "print('--------------------------------')"
   ]
  },
  {
   "cell_type": "code",
   "execution_count": 17,
   "metadata": {},
   "outputs": [
    {
     "data": {
      "text/html": [
       "/* This template is inspired in the one used by Aeropython */\n",
       "\n",
       "/* <link href='http://fonts.googleapis.com/css?family=Source+Sans+Pro|Josefin+Sans:400,700,400italic|Ubuntu+Condensed' rel='stylesheet' type='text/css'>\n",
       "\n",
       "El estilo se ha aplicado =)\n",
       "\n",
       "<style>\n",
       "\n",
       "\n",
       "\n",
       "#notebook_panel { /* main background */\n",
       "    background: #f7f7f7;\n",
       "}\n",
       "\n",
       "div.cell { /* set cell width */\n",
       "    width: 900px;\n",
       "}\n",
       "\n",
       "div #notebook { /* centre the content */\n",
       "    background: #fff; /* white background for content */\n",
       "    width: 1200px;\n",
       "    margin: auto;\n",
       "    padding-left: 0em;\n",
       "}\n",
       "\n",
       "#notebook li { /* More space between bullet points */\n",
       "    margin-top:0.7em;\n",
       "}\n",
       "\n",
       "/* draw border around running cells */\n",
       "div.cell.border-box-sizing.code_cell.running { \n",
       "    border: 1px solid #111;\n",
       "}\n",
       "\n",
       "/* Put a solid color box around each cell and its output, visually linking them*/\n",
       "div.cell.code_cell {\n",
       "    font-family: 'Source Sans Pro', sans-serif;\n",
       "    background-color: rgb(256,256,256);\n",
       "    font-size: 110%;\n",
       "    border-radius: 0px; \n",
       "    padding: 0.5em;\n",
       "    margin-left:1em;\n",
       "    margin-top: 1em;\n",
       "}\n",
       "\n",
       "div.text_cell_render{\n",
       "    font-family: 'DejaVu Serif', serif;\n",
       "    line-height: 145%;\n",
       "    font-size: 125%;\n",
       "    font-weight: 500;\n",
       "    width:900px;\n",
       "    margin-left:auto;\n",
       "    margin-right:auto;\n",
       "}\n",
       "\n",
       "\n",
       "/* Formatting for header cells */\n",
       ".text_cell_render h1, .text_cell_render h2, .text_cell_render h3,\n",
       ".text_cell_render h4, .text_cell_render h5 {\n",
       "    font-family: 'Ubuntu Condensed', sans-serif;\n",
       "}\n",
       "/*\n",
       ".text_cell_render h1 {\n",
       "    font-family: Flux, 'Ubuntu Condensed', serif;\n",
       "    font-style:regular;\n",
       "    font-weight: 400;    \n",
       "    font-size: 30pt;\n",
       "    text-align: center;\n",
       "    line-height: 100%;\n",
       "    color: #335082;\n",
       "    margin-bottom: 0.5em;\n",
       "    margin-top: 0.5em;\n",
       "    display: block;\n",
       "}\n",
       "*/\n",
       ".text_cell_render h1 {\n",
       "    font-weight: 600;\n",
       "    font-size: 35pt;\n",
       "    line-height: 100%;\n",
       "    color: #000000;\n",
       "    margin-bottom: 0.1em;\n",
       "    margin-top: 0.3em;\n",
       "    display: block;\n",
       "}\n",
       "\n",
       ".text_cell_render h2 {\n",
       "    margin-top:16px;\n",
       "    font-size: 27pt;\n",
       "    font-weight: 550;\n",
       "    margin-bottom: 0.1em;\n",
       "    margin-top: 0.3em;\n",
       "    font-style: regular;\n",
       "    color: #2c6391;\n",
       "}\t\n",
       "\n",
       ".text_cell_render h3 {\n",
       "    font-size: 20pt;\n",
       "    font-weight: 550\n",
       "    text-align: left;\n",
       "    margin-bottom: 0.1em;\n",
       "    margin-top: 0.3em;\n",
       "    font-style: regular;\n",
       "    color:  #387eb8;\n",
       "}\n",
       "\n",
       ".text_cell_render h4 {    /*Use this for captions*/\n",
       "    font-size: 18pt;\n",
       "    font-weight: 450\n",
       "    text-align: left;\n",
       "    margin-bottom: 0.1em;\n",
       "    margin-top: 0.3em;\n",
       "    font-style: regular;\n",
       "    color:  #5797cc;\n",
       "}\n",
       "\n",
       ".text_cell_render h5 {  /*Use this for small titles*/\n",
       "    font-size: 18pt;\n",
       "    font-weight: 550;\n",
       "    color: rgb(163,0,0);\n",
       "    font-style: italic;\n",
       "    margin-bottom: .1em;\n",
       "    margin-top: 0.8em;\n",
       "    display: block;\n",
       "    color:  #b21c0d;\n",
       "}\n",
       "\n",
       ".text_cell_render h6 { /*use this for copyright note*/\n",
       "    font-family: 'Ubuntu Condensed', sans-serif;\n",
       "    font-weight: 300;\n",
       "    font-size: 14pt;\n",
       "    line-height: 100%;\n",
       "    color: #252525;\n",
       "    text-align: right;\n",
       "    margin-bottom: 1px;\n",
       "    margin-top: 1px;\n",
       "}\n",
       "\n",
       ".CodeMirror{\n",
       "        font-family: 'Duru Sans', sans-serif;\n",
       "        font-size: 100%;\n",
       "}\n",
       "\n",
       "</style>\n",
       "<script>\n",
       "    MathJax.Hub.Config({\n",
       "                        TeX: {\n",
       "                           extensions: [\"AMSmath.js\"],\n",
       "                           equationNumbers: { autoNumber: \"AMS\", useLabelIds: true}\n",
       "                           },\n",
       "                tex2jax: {\n",
       "                    inlineMath: [ ['$','$'], [\"\\\\(\",\"\\\\)\"] ],\n",
       "                    displayMath: [ ['$$','$$'], [\"\\\\[\",\"\\\\]\"] ]\n",
       "                },\n",
       "                displayAlign: 'center', // Change this to 'center' to center equations.\n",
       "                \"HTML-CSS\": {\n",
       "                    styles: {'.MathJax_Display': {\"margin\": 4}}\n",
       "                }\n",
       "        });\n",
       "</script>\n"
      ],
      "text/plain": [
       "<IPython.core.display.HTML object>"
      ]
     },
     "execution_count": 17,
     "metadata": {},
     "output_type": "execute_result"
    }
   ],
   "source": [
    "# Esta celda da el estilo al notebook\n",
    "from IPython.core.display import HTML\n",
    "css_file = 'styles/aeropython.css'\n",
    "HTML(open(css_file, \"r\").read())"
   ]
  },
  {
   "cell_type": "code",
   "execution_count": null,
   "metadata": {},
   "outputs": [],
   "source": []
  }
 ],
 "metadata": {
  "kernelspec": {
   "display_name": "Python 3",
   "language": "python",
   "name": "python3"
  },
  "language_info": {
   "codemirror_mode": {
    "name": "ipython",
    "version": 3
   },
   "file_extension": ".py",
   "mimetype": "text/x-python",
   "name": "python",
   "nbconvert_exporter": "python",
   "pygments_lexer": "ipython3",
   "version": "3.7.6"
  }
 },
 "nbformat": 4,
 "nbformat_minor": 4
}
