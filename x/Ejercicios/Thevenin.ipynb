{
 "cells": [
  {
   "cell_type": "markdown",
   "metadata": {},
   "source": [
    "# Electrotecnia\n",
    "__Ejercitación Teorema de Thévenin__"
   ]
  },
  {
   "cell_type": "markdown",
   "metadata": {},
   "source": [
    "## Ejercicio 1\n",
    "Hallar el circuito equivalente de Thévenin entre los puntos A y B"
   ]
  },
  {
   "cell_type": "markdown",
   "metadata": {},
   "source": [
    "<img src=\"img/thev1-1.png\" alt=\"thev1-1.png\">"
   ]
  },
  {
   "cell_type": "markdown",
   "metadata": {},
   "source": [
    "### Solución\n",
    "* __Cálculo de resistencia de Thévenin:__      \n",
    "Lo primero que hacemos es pasivar la fuente de tensión."
   ]
  },
  {
   "cell_type": "markdown",
   "metadata": {},
   "source": [
    "<img src=\"img/thev1-2.png\" alt=\"thev1-2.png\">"
   ]
  },
  {
   "cell_type": "markdown",
   "metadata": {},
   "source": [
    "Las resistencias $R_1$, $R_2$ y $R_3$ estan en paralelo, y éstas a su vez se ecuentran en paralelo con una resistecia cuyo valor tiende a cero, es decir un cortocircuito. De modo que la resistencia de Thevenin es igual a cero."
   ]
  },
  {
   "cell_type": "markdown",
   "metadata": {},
   "source": [
    "$R_{TH} \\rightarrow 0 $"
   ]
  },
  {
   "cell_type": "markdown",
   "metadata": {},
   "source": [
    "* __Cálculo de tensión de Thévenin:__      \n",
    "La tensión de Thévenin entre los puntos A y B es la misma que puedo medir en la resistencia $R_3$"
   ]
  },
  {
   "cell_type": "markdown",
   "metadata": {},
   "source": [
    "$V_{TH} = V_{R_3} = 12 \\, \\mathrm{V}$"
   ]
  },
  {
   "cell_type": "markdown",
   "metadata": {},
   "source": [
    "* __Circuito equivalente de Thévenin:__"
   ]
  },
  {
   "cell_type": "markdown",
   "metadata": {},
   "source": [
    "<img src=\"img/thev1-3.png\" alt=\"thev1-3.png\">"
   ]
  },
  {
   "cell_type": "markdown",
   "metadata": {},
   "source": [
    "## Ejercicio 2\n",
    "Hallar el circuito equivalente de Thévenin entre los puntos A y B."
   ]
  },
  {
   "cell_type": "markdown",
   "metadata": {},
   "source": [
    "<img src=\"img/thevenin2-1.png\" alt=\"thevenin2-1.png\">"
   ]
  },
  {
   "cell_type": "markdown",
   "metadata": {},
   "source": [
    "### Solución\n",
    "* __Cálculo de resistecia de Thévenin:__       \n",
    "Lo primero que hacemos es pasivar la fuente de tensión."
   ]
  },
  {
   "cell_type": "markdown",
   "metadata": {},
   "source": [
    "<img src=\"img/thev2-2.png\" alt=\"thev2-2.png\">"
   ]
  },
  {
   "cell_type": "markdown",
   "metadata": {},
   "source": [
    "Las resistencias $R_1$, $R_2$ y $R_3$ estan en paralelo, y éstas a su vez se ecuentran en paralelo con una resistecia cuyo valor tiende a cero, es decir un cortocircuito. De modo que la resistencia de Thevenin es igual a $R_4$."
   ]
  },
  {
   "cell_type": "markdown",
   "metadata": {},
   "source": [
    "$$ R_{TH} = R_4 = 7,5 \\, \\Omega $$"
   ]
  },
  {
   "cell_type": "markdown",
   "metadata": {},
   "source": [
    "* __Cálculo de tensión de Thévenin:__       \n",
    "Entre los puntos A y B, tenemos un circuito abierto, no circula corriente por $R_4$, no tengo caida de tensión en $R_4$ entonces puedo despreciarla. La tensión que puedo medir entre los puntos A y B, es la que veo en $R_3$"
   ]
  },
  {
   "cell_type": "markdown",
   "metadata": {},
   "source": [
    "$$ V_{A-B} = V_{TH} = V_{R_3} = V_{R_2} = V_{R_1} = 100 \\, \\mathrm{V} $$"
   ]
  },
  {
   "cell_type": "markdown",
   "metadata": {},
   "source": [
    "* __Circuito equivalente de Thévenin__"
   ]
  },
  {
   "cell_type": "markdown",
   "metadata": {},
   "source": [
    "<img src=\"img/thev2-3.png\" alt=\"thev2-3.png\">"
   ]
  },
  {
   "cell_type": "markdown",
   "metadata": {},
   "source": [
    "--------\n",
    "## Ejercicio 3\n",
    "Hallar el circuito equivalente de Thevenin entre los puntos A y B."
   ]
  },
  {
   "cell_type": "markdown",
   "metadata": {},
   "source": [
    "<img src=\"img/thev3-1.png\" alt=\"thev3-1.png\">"
   ]
  },
  {
   "cell_type": "markdown",
   "metadata": {},
   "source": [
    "### Solución"
   ]
  },
  {
   "cell_type": "markdown",
   "metadata": {},
   "source": [
    "* __Cálculo de resistencia de Thévenin:__      \n",
    "Pasivamos la fuente de tensión."
   ]
  },
  {
   "cell_type": "markdown",
   "metadata": {},
   "source": [
    "<img src=\"img/thev3-2.png\" alt=\"thev3-2.png\">"
   ]
  },
  {
   "cell_type": "markdown",
   "metadata": {},
   "source": [
    "Podemos apreciar que $R_1$ está en paralelo con $R_2$."
   ]
  },
  {
   "cell_type": "markdown",
   "metadata": {},
   "source": [
    "$$R_{eq} = R_1 \\, || \\, R_2 = \\frac{R_1 \\cdot R_2}{R_1 + R_2}  $$"
   ]
  },
  {
   "cell_type": "code",
   "execution_count": 8,
   "metadata": {},
   "outputs": [],
   "source": [
    "# Datos:\n",
    "R1 = 12 ; R2 = 10 ; R3 = 12 ; # Ohm\n",
    "E1 = 24 ; # V"
   ]
  },
  {
   "cell_type": "code",
   "execution_count": 10,
   "metadata": {},
   "outputs": [
    {
     "name": "stdout",
     "output_type": "stream",
     "text": [
      "Req =  5.4545\r\n"
     ]
    }
   ],
   "source": [
    "Req = (R1*R2)/(R1 + R2) "
   ]
  },
  {
   "cell_type": "markdown",
   "metadata": {},
   "source": [
    "$$ R_{TH} = R_{eq} + R_3 $$"
   ]
  },
  {
   "cell_type": "code",
   "execution_count": 11,
   "metadata": {},
   "outputs": [
    {
     "name": "stdout",
     "output_type": "stream",
     "text": [
      "Rth =  17.455\r\n"
     ]
    }
   ],
   "source": [
    "Rth = Req + R3 "
   ]
  },
  {
   "cell_type": "markdown",
   "metadata": {},
   "source": [
    "$ R_{TH} = 17,455 \\, \\Omega $"
   ]
  },
  {
   "cell_type": "markdown",
   "metadata": {},
   "source": [
    "* __Cálculo de tensión de Thévenin:__      \n",
    "Entre los puntos A y B, tenemos un circuito abierto, no circula corriente por $R_3$, no tengo caida de tensión en $R_3$ entonces puedo despreciarla. La tensión que puedo medir entre los puntos A y B, es la que veo en $R_2$"
   ]
  },
  {
   "cell_type": "markdown",
   "metadata": {},
   "source": [
    "<img src=\"img/thev3-3.png\" alt=\"thev3-3.png\">"
   ]
  },
  {
   "cell_type": "markdown",
   "metadata": {},
   "source": [
    "$$ E_{TH} = \\frac{R_2 \\cdot E_1}{R_1 + R_2} $$"
   ]
  },
  {
   "cell_type": "code",
   "execution_count": 9,
   "metadata": {},
   "outputs": [
    {
     "name": "stdout",
     "output_type": "stream",
     "text": [
      "Eth =  10.909\r\n"
     ]
    }
   ],
   "source": [
    "Eth = (R2*E1)/(R1 + R2)"
   ]
  },
  {
   "cell_type": "markdown",
   "metadata": {},
   "source": [
    "$E_{TH} = 10,909 \\, \\mathrm{V}$"
   ]
  },
  {
   "cell_type": "markdown",
   "metadata": {},
   "source": [
    "* __Circuito equivalente de Thévenin:__\n",
    "<img  src=\"img/thev3-4.png\" alt=\"thev3-4.png\">"
   ]
  },
  {
   "cell_type": "code",
   "execution_count": 15,
   "metadata": {},
   "outputs": [
    {
     "name": "stdout",
     "output_type": "stream",
     "text": [
      "Respuesta: \n",
      "Rth = 17.455 Ohm \n",
      "Eth = 10.909 Ohm \n"
     ]
    }
   ],
   "source": [
    "fprintf('Respuesta: \\n')\n",
    "fprintf('Rth = %.3f Ohm \\n',Rth)\n",
    "fprintf('Eth = %.3f Ohm \\n',Eth)"
   ]
  },
  {
   "cell_type": "code",
   "execution_count": null,
   "metadata": {},
   "outputs": [],
   "source": []
  }
 ],
 "metadata": {
  "kernelspec": {
   "display_name": "Octave",
   "language": "octave",
   "name": "octave"
  },
  "language_info": {
   "file_extension": ".m",
   "help_links": [
    {
     "text": "GNU Octave",
     "url": "https://www.gnu.org/software/octave/support.html"
    },
    {
     "text": "Octave Kernel",
     "url": "https://github.com/Calysto/octave_kernel"
    },
    {
     "text": "MetaKernel Magics",
     "url": "https://metakernel.readthedocs.io/en/latest/source/README.html"
    }
   ],
   "mimetype": "text/x-octave",
   "name": "octave",
   "version": "5.2.0"
  }
 },
 "nbformat": 4,
 "nbformat_minor": 2
}
