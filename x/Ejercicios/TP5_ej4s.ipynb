{
 "cells": [
  {
   "cell_type": "markdown",
   "id": "a3f32add-8c81-49fa-9a60-051573658a96",
   "metadata": {},
   "source": [
    "# TP N°5 - Circuitos trifásicos\n",
    "__U.N.L.Z. - Facultad de Ingeniería__       \n",
    "__Electrotecnia__      \n",
    "__Alumno:__ Daniel Antonio Lorenzo       \n",
    "<mark><strong>(Resolución en python3)</strong></mark>"
   ]
  },
  {
   "cell_type": "markdown",
   "id": "be8caa31-2ebf-44f8-a630-9de01aea04e5",
   "metadata": {},
   "source": [
    "## Problema N°4\n",
    "Un sistema trifásico de secuencia ABC (secuencia directa), 3x380V (tensiones de línea en valor eficaz), de 3 conductores (sistema trifilar), alimente una carga trifásica __equilibrada y simétrica (perfecta)__ conectada en triángulo."
   ]
  },
  {
   "cell_type": "markdown",
   "id": "d56c184b-b8e5-4fd1-bdf8-330a73e87250",
   "metadata": {},
   "source": [
    "El valor de cada impedancia es de 5 Ohm con ángulo de desfasaje de 45° inductivo.\n",
    "1. Calcular las corrientes $I_r, \\, I_s, \\, I_t$, representar el diagrama fasorial de tensiones y corrientes.\n",
    "2. Determinar las potencias por fase y trifásica (P,Q,S)"
   ]
  },
  {
   "cell_type": "markdown",
   "id": "020dec0e-7190-41cc-9654-9060e37d4b48",
   "metadata": {},
   "source": [
    "<img src=\"img/tp5ej4.png\">\n",
    "\n",
    "> Las impedancias de carga son iguales entre sí, (cargatrifásica equilibrada y simétrica perfecta)."
   ]
  },
  {
   "cell_type": "markdown",
   "id": "f0330cff-0ceb-42c5-b4e7-728945d8216c",
   "metadata": {},
   "source": [
    "### Solución"
   ]
  },
  {
   "cell_type": "code",
   "execution_count": 13,
   "id": "03b2d665-f1ab-4b9d-8f47-660d2cbfc951",
   "metadata": {},
   "outputs": [],
   "source": [
    "import numpy as np\n",
    "import cmath"
   ]
  },
  {
   "cell_type": "code",
   "execution_count": 14,
   "id": "6def0a1d-8dbd-49ef-90bc-81c99e19296a",
   "metadata": {},
   "outputs": [],
   "source": [
    "# Datos:\n",
    "# Tensiones de línea\n",
    "Eab = cmath.rect(380, np.deg2rad(30) )\n",
    "Ebc = cmath.rect(380, np.deg2rad(30-120) )\n",
    "Eca = cmath.rect(380, np.deg2rad(30+120) )\n",
    "# Caídas de tensión compuesta en las impedancias de cargas\n",
    "Uab = Eab\n",
    "Ubc = Ebc\n",
    "Uca = Eca\n",
    "# Impedancias de carga\n",
    "Zab = cmath.rect(5, np.deg2rad(45) )\n",
    "Zbc = Zab\n",
    "Zca = Zbc"
   ]
  },
  {
   "cell_type": "code",
   "execution_count": 15,
   "id": "2b1e92e0-fdba-4fd1-b927-84a63b88a591",
   "metadata": {},
   "outputs": [],
   "source": [
    "# Cálculo de corriente de línea o compuesta\n",
    "Iab = Uab/Zab\n",
    "Ibc = Ubc/Zbc\n",
    "Ica = Uca/Zca\n",
    "# Cálculo de corrientes de fase\n",
    "Ir = Iab - Ica\n",
    "Is = Ibc - Iab\n",
    "It = Ica - Ibc\n",
    "Ia = Ir ; Ib = Is ; Ic = It\n",
    "# Cálculo de potencia aparente\n",
    "Sab = Uab*Iab.conjugate()\n",
    "Sbc = Ubc*Ibc.conjugate()\n",
    "Sca = Uca*Ica.conjugate()\n",
    "# Potencia activa\n",
    "Pab = Sab.real\n",
    "Pbc = Sbc.real\n",
    "Pca = Sca.real\n",
    "# Potencia reactiva\n",
    "Qab = Sab.imag\n",
    "Qbc = Sab.imag\n",
    "Qca = Sca.imag\n",
    "# Potencia trifásica aparente\n",
    "Strif = Sab + Sbc + Sca\n",
    "# Potencia trifásica activa\n",
    "Ptrif = Strif.real\n",
    "# Potencia trifásica reactiva\n",
    "Qtrif = Strif.imag"
   ]
  },
  {
   "cell_type": "code",
   "execution_count": 16,
   "id": "905bd111-d414-4f88-a8b8-ba1e4a945803",
   "metadata": {
    "jupyter": {
     "source_hidden": true
    },
    "tags": []
   },
   "outputs": [
    {
     "name": "stdout",
     "output_type": "stream",
     "text": [
      "Corrientes de línea o compuesta:\n",
      "Iab = (76.00 ∠ -15.00) A\n",
      "Ibc = (76.00 ∠ -135.00) A\n",
      "Ica = (76.00 ∠ 105.00) A\n",
      "Corrientes de fase:\n",
      "Ir = Ia = (131.64 ∠ -45.00) A\n",
      "Is = Ib = (131.64 ∠ -165.00) A\n",
      "It = Ic = (131.64 ∠ 75.00) A\n",
      "Potencia aparente:\n",
      "|Sab| = 28880.0 VA\n",
      "|Sbc| = 28880.0 VA\n",
      "|Sca| = 28880.0 VA\n",
      "Sab = 20421.24+20421.24j VA = (28880.00 ∠ 45.00°) VA\n",
      "Sbc = 20421.24+20421.24j VA = (28880.00 ∠ 45.00°) VA\n",
      "Sca = 20421.24+20421.24j VA = (28880.00 ∠ 45.00°) VA\n",
      "Potencia activa:\n",
      "Pab = 20421.24 W\n",
      "Pbc = 20421.24 W\n",
      "Pca = 20421.24 W\n",
      "Potencia reactiva:\n",
      "Qab = 20421.24 VAr\n",
      "Qbc = 20421.24 VAr\n",
      "Qca = 20421.24 VAr\n",
      "Potencia trifásica aparente:\n",
      "|Strif| = 86640.00 VA\n",
      "Strif = 61263.73+61263.73j VA = (86640.00 ∠ 45.00°) VA\n",
      "Potencia trifásica activa:\n",
      "Ptrif = 61263.73 W\n",
      "Potencia trifásica reactiva:\n",
      "Qtrif = 61263.73 VAr\n"
     ]
    }
   ],
   "source": [
    "print('Corrientes de línea o compuesta:')\n",
    "print('Iab = (%.2f ∠ %.2f) A'%(abs(Iab) , np.rad2deg( cmath.phase(Iab) ) ))\n",
    "print('Ibc = (%.2f ∠ %.2f) A'%(abs(Ibc) , np.rad2deg( cmath.phase(Ibc) ) ))\n",
    "print('Ica = (%.2f ∠ %.2f) A'%(abs(Ica) , np.rad2deg( cmath.phase(Ica) ) ))\n",
    "print('Corrientes de fase:')\n",
    "print('Ir = Ia = (%.2f ∠ %.2f) A'%(abs(Ir) , np.rad2deg( cmath.phase(Ir) ) ))\n",
    "print('Is = Ib = (%.2f ∠ %.2f) A'%(abs(Is) , np.rad2deg( cmath.phase(Is) ) ))\n",
    "print('It = Ic = (%.2f ∠ %.2f) A'%(abs(It) , np.rad2deg( cmath.phase(It) ) ))\n",
    "print('Potencia aparente:')\n",
    "print('|Sab| = %.1f VA'%abs(Sab))\n",
    "print('|Sbc| = %.1f VA'%abs(Sbc))\n",
    "print('|Sca| = %.1f VA'%abs(Sca))\n",
    "print('Sab = {:.2f} VA = (%.2f ∠ %.2f°) VA'.format(Sab)%(abs(Sab), np.rad2deg( cmath.phase(Sab) ) ))\n",
    "print('Sbc = {:.2f} VA = (%.2f ∠ %.2f°) VA'.format(Sbc)%(abs(Sbc), np.rad2deg( cmath.phase(Sbc) ) ))\n",
    "print('Sca = {:.2f} VA = (%.2f ∠ %.2f°) VA'.format(Sca)%(abs(Sca), np.rad2deg( cmath.phase(Sca) ) ))\n",
    "print('Potencia activa:')\n",
    "print('Pab = %.2f W'%Pab)\n",
    "print('Pbc = %.2f W'%Pbc)\n",
    "print('Pca = %.2f W'%Pca)\n",
    "print('Potencia reactiva:')\n",
    "print('Qab = %.2f VAr'%Qab)\n",
    "print('Qbc = %.2f VAr'%Qbc)\n",
    "print('Qca = %.2f VAr'%Qca)\n",
    "print('Potencia trifásica aparente:')\n",
    "print('|Strif| = %.2f VA'%abs(Strif))\n",
    "print('Strif = {:.2f} VA = (%.2f ∠ %.2f°) VA'.format(Strif)%(abs(Strif) , np.rad2deg( cmath.phase(Sab) ) ))\n",
    "print('Potencia trifásica activa:')\n",
    "print('Ptrif = %.2f W'%Ptrif)\n",
    "print('Potencia trifásica reactiva:')\n",
    "print('Qtrif = %.2f VAr'%Qtrif)"
   ]
  },
  {
   "cell_type": "code",
   "execution_count": 17,
   "id": "8028cc20-8154-4ea5-b135-668323cc484b",
   "metadata": {},
   "outputs": [],
   "source": [
    "%reset -s -f"
   ]
  }
 ],
 "metadata": {
  "kernelspec": {
   "display_name": "Python 3 (ipykernel)",
   "language": "python",
   "name": "python3"
  },
  "language_info": {
   "codemirror_mode": {
    "name": "ipython",
    "version": 3
   },
   "file_extension": ".py",
   "mimetype": "text/x-python",
   "name": "python",
   "nbconvert_exporter": "python",
   "pygments_lexer": "ipython3",
   "version": "3.9.12"
  }
 },
 "nbformat": 4,
 "nbformat_minor": 5
}
