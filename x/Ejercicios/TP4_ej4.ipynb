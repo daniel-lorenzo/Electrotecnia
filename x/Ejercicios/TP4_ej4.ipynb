{
 "cells": [
  {
   "cell_type": "markdown",
   "id": "031455f0-43c2-44ff-a26f-d2be63915f65",
   "metadata": {},
   "source": [
    "# Ejercicios de clase - Potencia\n",
    "__UNLZ - Facultad de Ingeniería__       \n",
    "__Electrotecnia__      \n",
    "__Alumno:__ Daniel Antonio Lorenzo"
   ]
  },
  {
   "cell_type": "markdown",
   "id": "63cd21a7-4b10-448f-a6b9-4973d81c2e3e",
   "metadata": {},
   "source": [
    "## Problema N°4\n",
    "Si se conoce que, para una tensión alterna de U=380 V, la potencia activa total es P=400 W y que la potencia inductiva total es Q=870 VAr.\n",
    "1. Hallar el valor de la potencia reactiva de capacitores necesarios a conectar en paralelo, para lograr un factor de potencia, visto de la fuente, sea igual a 0,86 inductivo.\n",
    "2. Representar los triángulos de potencia, antes y después de la compensación.\n",
    "3. Determinar el valor de la capacitancia a incorporar, si la frecuencia de red es 50 Hz."
   ]
  },
  {
   "cell_type": "markdown",
   "id": "a8c99e03-f65e-43a6-acc8-144b509d2235",
   "metadata": {},
   "source": [
    "### Solución\n",
    "__Datos:__\n",
    "$\\left\\{\n",
    "\\begin{array}{l}\n",
    "U = 380 \\, \\mathrm{V} \\\\\n",
    "P = 400 \\, \\mathrm{W} \\\\\n",
    "Q = 870 \\, \\mathrm{VAr}\n",
    "\\end{array}\n",
    "\\right.$"
   ]
  },
  {
   "cell_type": "markdown",
   "id": "c462a80c-9a26-4166-8c79-32d40c875a4f",
   "metadata": {},
   "source": [
    "1) ítem"
   ]
  },
  {
   "cell_type": "markdown",
   "id": "882c0e8c-562f-4661-adfb-205dc7b47dd6",
   "metadata": {},
   "source": [
    "__Cálculo de $\\varphi_1$__\n",
    "$$ \\tan \\varphi_1 = \\frac{Q_1}{P} \\qquad \\rightarrow \\qquad \\varphi_1 =  \\arctan \\mathrm{ \\frac{870 \\, VAr}{400 \\, W} = 65,31^\\circ } $$"
   ]
  },
  {
   "cell_type": "markdown",
   "id": "e19b5a3e-2a72-4a81-8da5-afeb39f81bc1",
   "metadata": {},
   "source": [
    "__Cálculo $I_1$__\n",
    "$$ P_1 = U I_1 \\cos( \\varphi_1 ) $$"
   ]
  },
  {
   "cell_type": "markdown",
   "id": "5a3fe0c8-f734-4d50-8c4a-191b13bac70e",
   "metadata": {},
   "source": [
    "$$ I_1 = \\frac{P_1}{U \\cos( \\varphi_1 )} = 2,52 \\, \\mathrm{A} $$"
   ]
  },
  {
   "cell_type": "markdown",
   "id": "5579d789-5077-4845-a78c-87140779bd92",
   "metadata": {},
   "source": [
    "__Cálculo de $I_2$__\n",
    "$$ P_1 = P_2 \\quad \\rightarrow \\quad U I_1 \\cos (\\varphi_1) = U I_2 \\cos( \\varphi_2 ) $$"
   ]
  },
  {
   "cell_type": "markdown",
   "id": "4a944167-d47b-43b0-bb44-3e4c86bd828a",
   "metadata": {},
   "source": [
    "$$ I_2 = I_1 {\\cos \\varphi_1 \\over \\cos \\varphi_2  } = I_1 { \\cos \\varphi_1  \\over 0,86 } = 1,22 \\, \\mathrm{A} $$"
   ]
  },
  {
   "cell_type": "markdown",
   "id": "2adbcbbe-f2bc-4404-b6f0-d8fbb1cc33d0",
   "metadata": {},
   "source": [
    "__Cálculo de $\\varphi_2$__\n",
    "$$ \\varphi_2 = \\arccos 0,86 = 30,68^\\circ $$"
   ]
  },
  {
   "cell_type": "markdown",
   "id": "2770f7fe-531a-49b0-a635-965e20330fd0",
   "metadata": {},
   "source": [
    "__Cálculo de $Q_2$__\n",
    "$$ Q_2 = U I_2 \\sin \\varphi_2 = 237,35 \\, \\mathrm{VAr} $$"
   ]
  },
  {
   "cell_type": "markdown",
   "id": "b7ee1d1d-8127-42db-9c15-daecad77ab35",
   "metadata": {},
   "source": [
    "__Cálculo de $Q_C$__\n",
    "$$ Q_C = Q_1 - Q_2 = 632,65 \\, \\mathrm{VAr} $$"
   ]
  },
  {
   "cell_type": "markdown",
   "id": "3393ad73-025b-4df8-8923-fa8f1e31851d",
   "metadata": {},
   "source": [
    "2) ítem"
   ]
  },
  {
   "cell_type": "markdown",
   "id": "a234b963-14b0-4ac4-b7e5-a8e661893170",
   "metadata": {},
   "source": [
    "__Cálculo de $S_1$__"
   ]
  },
  {
   "cell_type": "markdown",
   "id": "92e6e231-16e2-45cb-82e5-9cfc3e02c2cf",
   "metadata": {},
   "source": [
    "$$ S_1 = \\sqrt{P_1^2 + Q_1^2} = 957,55 \\, \\mathrm{VA} $$"
   ]
  },
  {
   "cell_type": "markdown",
   "id": "6d36d3d3-8626-427f-9d79-5a242ed77a0f",
   "metadata": {},
   "source": [
    "__Cálculo de $S_2$__\n",
    "\n",
    "$P_1 = P_2$\n",
    "$$ S_2 = \\sqrt{P^2_2 + Q^2_2} = 465,12 \\, \\mathrm{VA}$$"
   ]
  },
  {
   "cell_type": "markdown",
   "id": "41ccbd64-4001-4125-99ff-604dcfe25ec5",
   "metadata": {},
   "source": [
    "3) ítem"
   ]
  },
  {
   "cell_type": "markdown",
   "id": "4370d1f5-ea51-473a-ba3e-fda47c5a54b9",
   "metadata": {},
   "source": [
    "__Cálculo de $Q_C$__\n",
    "$$ Q_C = \\frac{U^2}{X_C} = \\frac{U^2}{ 1 \\over \\omega C } $$"
   ]
  },
  {
   "cell_type": "markdown",
   "id": "dde947d7-7c6e-4a89-a7e4-8316e952b006",
   "metadata": {},
   "source": [
    "Entonces\n",
    "$$ C = \\frac{Q_C}{2 \\pi f U^2} = 13,9 \\, \\mu \\mathrm{F} $$"
   ]
  },
  {
   "cell_type": "code",
   "execution_count": 27,
   "id": "dc97593e-5ac5-42cc-8538-52d9c6cc54e3",
   "metadata": {},
   "outputs": [],
   "source": [
    "# Datos:\n",
    "U = 380 # V\n",
    "P1 = 400 # W\n",
    "Q1 = 870 # VAr\n",
    "fp = 0.86 # factor de potencia\n",
    "f = 50 # Hz"
   ]
  },
  {
   "cell_type": "code",
   "execution_count": 28,
   "id": "bda6967d-ca58-4a69-af17-6ae3fd35b981",
   "metadata": {},
   "outputs": [],
   "source": [
    "import math, cmath"
   ]
  },
  {
   "cell_type": "code",
   "execution_count": 30,
   "id": "937cf9c3-300a-4bba-98d9-abdc651a2c90",
   "metadata": {},
   "outputs": [],
   "source": [
    "## ítem 1\n",
    "# Cálculo de phi\n",
    "phi1 = math.atan(Q1/P1)\n",
    "# Cálculo de I1\n",
    "I1 = P1/(U*math.cos( phi1 ) )\n",
    "# Cálculo de I2\n",
    "I2 = I1 * math.cos(phi1)/fp\n",
    "# Cálculo de phi2\n",
    "phi2 = math.acos(fp)\n",
    "# Cálculo de Q2\n",
    "Q2 = U*I2*math.sin(phi2)\n",
    "# Cálculo de Qc\n",
    "Qc = Q1 - Q2"
   ]
  },
  {
   "cell_type": "code",
   "execution_count": 31,
   "id": "0a870ca1-8f3b-4dd1-8d9f-079c83ebda66",
   "metadata": {},
   "outputs": [],
   "source": [
    "## ítem 2\n",
    "# Cálculo de S1\n",
    "S1 = math.sqrt(P1**2 + Q1**2)\n",
    "# Cálculo de S2\n",
    "P2 = P1\n",
    "S2 = math.sqrt(P2**2 + Q2**2)"
   ]
  },
  {
   "cell_type": "code",
   "execution_count": 32,
   "id": "bb1249e7-37bd-4ef6-99b5-3831c81db5ef",
   "metadata": {},
   "outputs": [],
   "source": [
    "## ítem 3\n",
    "C = Qc/(2*math.pi*f*U**2)"
   ]
  },
  {
   "cell_type": "code",
   "execution_count": 33,
   "id": "273b0608-1365-4279-aa8a-dc98ebd6d96a",
   "metadata": {},
   "outputs": [
    {
     "name": "stdout",
     "output_type": "stream",
     "text": [
      "Resultados:\n",
      "I1 = 2.52 A\n",
      "I2 = 1.22 A\n",
      "ítem 1\n",
      "Qc = 632.65 VAr\n",
      "ítem 2\n",
      "S1 = 957.55 VA\n",
      "S2 = 465.12 VA\n",
      "ítem 3\n",
      "C = 13.95 uF\n"
     ]
    }
   ],
   "source": [
    "print('Resultados:')\n",
    "print('I1 = %.2f A'%I1)\n",
    "print('I2 = %.2f A'%I2)\n",
    "\n",
    "print('ítem 1')\n",
    "print('Qc = %.2f VAr'%Qc)\n",
    "print('ítem 2')\n",
    "print('S1 = %.2f VA'%S1)\n",
    "print('S2 = %.2f VA'%S2)\n",
    "print('ítem 3')\n",
    "print('C = %.2f uF'%(C*1e6) )"
   ]
  },
  {
   "cell_type": "code",
   "execution_count": 34,
   "id": "aec95977-58d6-496e-8bb8-8a15d00ea97f",
   "metadata": {},
   "outputs": [],
   "source": [
    "import numpy as np\n",
    "import matplotlib.pyplot as plt"
   ]
  },
  {
   "cell_type": "code",
   "execution_count": 36,
   "id": "a950dd31-b234-4fc7-b858-bdd6435e8942",
   "metadata": {},
   "outputs": [
    {
     "data": {
      "image/png": "[encoded data removed]",
      "text/plain": [
       "<Figure size 504x504 with 1 Axes>"
      ]
     },
     "metadata": {
      "needs_background": "light"
     },
     "output_type": "display_data"
    }
   ],
   "source": [
    "%matplotlib inline\n",
    "plt.figure(figsize=(7,7))\n",
    "ax = plt.gca()\n",
    "ax.quiver(0,0,P1,Q1,angles='xy',scale_units='xy',scale=1,color='red')\n",
    "ax.quiver(0,0,P2,Q2,angles='xy',scale_units='xy',scale=1,color='orange')\n",
    "ax.quiver(0,0,P1,0,angles='xy',scale_units='xy',scale=1,color='blue')\n",
    "ax.quiver(P1,0,0,Q1,angles='xy',scale_units='xy',scale=1,color='green')\n",
    "ax.quiver(P2 + 10,0,0,Q2,angles='xy',scale_units='xy',scale=1,color='orange')  \n",
    "plt.text(P1 - 100, Q1 - 10 , r'$\\vec S_1$', fontsize=18, color='red', fontweight='bold')\n",
    "plt.text(P2 - 130, Q2 - 10 , r'$\\vec S_2$', fontsize=18, color='orange', fontweight='bold')\n",
    "plt.text(P1 - 100,  30, r'$\\vec P_1$', fontsize=18, color='blue', fontweight='bold')\n",
    "plt.text(P1 + 10, Q1 - 10, r'$\\vec Q_1$', fontsize=18, color='green', fontweight='bold')\n",
    "plt.text(P2 + 10, Q2 - 10, r'$\\vec Q_2$', fontsize=18, color='orange', fontweight='bold')\n",
    "ax.set_xlim([0,1000])\n",
    "ax.set_ylim([-50,1000])\n",
    "ax.set_aspect('equal')\n",
    "plt.title('Triángulo de potencias', fontsize=18)\n",
    "plt.xlabel('Re (Eje real)',  fontsize=16)\n",
    "plt.ylabel('Im (Eje imaginario)',  fontsize=16)\n",
    "plt.grid(linestyle=\":\")\n",
    "ax.set_axisbelow(True)\n",
    "plt.draw()\n",
    "plt.show()"
   ]
  },
  {
   "cell_type": "code",
   "execution_count": null,
   "id": "8d4bc041-aafb-413e-ae25-be00cff03ef4",
   "metadata": {},
   "outputs": [],
   "source": [
    "%reset -s -f"
   ]
  }
 ],
 "metadata": {
  "kernelspec": {
   "display_name": "Python 3 (ipykernel)",
   "language": "python",
   "name": "python3"
  },
  "language_info": {
   "codemirror_mode": {
    "name": "ipython",
    "version": 3
   },
   "file_extension": ".py",
   "mimetype": "text/x-python",
   "name": "python",
   "nbconvert_exporter": "python",
   "pygments_lexer": "ipython3",
   "version": "3.9.12"
  }
 },
 "nbformat": 4,
 "nbformat_minor": 5
}
