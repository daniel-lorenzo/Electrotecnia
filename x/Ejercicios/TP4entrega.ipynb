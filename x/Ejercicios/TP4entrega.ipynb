{
 "cells": [
  {
   "cell_type": "markdown",
   "metadata": {},
   "source": [
    "# TP N°3 - Potencia\n",
    "__UNLZ - Facultad de Ingeniería__       \n",
    "__Electrotecnia__      \n",
    "__Alumno:__ Daniel Antonio Lorenzo"
   ]
  },
  {
   "cell_type": "markdown",
   "metadata": {},
   "source": [
    "<a href=\"https://colab.research.google.com/github/daniel-lorenzo/Electrotecnia/blob/master/Ejercitacion/TP4entrega.ipynb\"><img align=\"left\" src=\"https://colab.research.google.com/assets/colab-badge.svg\" alt=\"Open in Colab\" title=\"Open and Execute in Google Colaboratory\"></a>"
   ]
  },
  {
   "cell_type": "markdown",
   "metadata": {},
   "source": [
    "## Ejercicio N°1\n",
    "Calcular las potencias activa (P), reactiva (Q) y aparente (S) del siguiente circuito y dibujar el fasorial de potencias."
   ]
  },
  {
   "cell_type": "markdown",
   "metadata": {},
   "source": [
    "<img src=\"img/tp4ep1.png\">"
   ]
  },
  {
   "cell_type": "markdown",
   "metadata": {},
   "source": [
    "### Solución"
   ]
  },
  {
   "cell_type": "markdown",
   "metadata": {},
   "source": [
    "__Datos:__\n",
    "$\\left\\{\n",
    "\\begin{array}{l}\n",
    "Z_1 = 10 + j10 \\, \\Omega \\\\\n",
    "Z_2 = 0 + j10 \\, \\Omega \\\\\n",
    "Z_3 = 100 + j0 \\, \\Omega \\\\\n",
    "U_\\mathrm{rms} = 220 \\, \\mathrm{V}\n",
    "\\end{array}\n",
    "\\right.$"
   ]
  },
  {
   "cell_type": "markdown",
   "metadata": {},
   "source": [
    "Cálculo de $Z_{eq} = (Z_2 + Z_3) \\,  || \\, Z_1$"
   ]
  },
  {
   "cell_type": "markdown",
   "metadata": {},
   "source": [
    "$$ Z_{eq} = {Z_1 \\cdot (Z_2 + Z_3) \\over Z_1 + Z_2 + Z_3 } = 12,71 \\angle 40,41^\\circ \\, \\Omega = 9,68 + j8,24 \\, \\Omega $$"
   ]
  },
  {
   "cell_type": "markdown",
   "metadata": {},
   "source": [
    "Cálculo de $I_\\mathrm{rms}$"
   ]
  },
  {
   "cell_type": "markdown",
   "metadata": {},
   "source": [
    "$$ I_\\mathrm{rms} = {U_\\mathrm{rms} \\over Z_{eq} } = 17,31 \\angle -40,41^\\circ \\, \\mathrm{A} $$"
   ]
  },
  {
   "cell_type": "markdown",
   "metadata": {},
   "source": [
    "Cálculo de $S$\n",
    "$$ S = U_\\mathrm{rms} I_\\mathrm{rms}^* = 3807,37 \\angle 40,41^\\circ \\, \\mathrm{VA} $$"
   ]
  },
  {
   "cell_type": "markdown",
   "metadata": {},
   "source": [
    "$$ S = 2899,21 + j2467,92 \\, \\mathrm{VA} $$"
   ]
  },
  {
   "cell_type": "markdown",
   "metadata": {},
   "source": [
    "Entonces\n",
    "$$ P = 2899,21 \\, \\mathrm{W} $$"
   ]
  },
  {
   "cell_type": "markdown",
   "metadata": {},
   "source": [
    "$$ Q = 2467,92 \\, \\mathrm{VAr} $$"
   ]
  },
  {
   "cell_type": "code",
   "execution_count": 1,
   "metadata": {},
   "outputs": [],
   "source": [
    "import math, cmath"
   ]
  },
  {
   "cell_type": "code",
   "execution_count": 2,
   "metadata": {},
   "outputs": [],
   "source": [
    "# Datos:\n",
    "Z1 = 10 + 10j # Ohm\n",
    "Z2 = 0 + 10j # Ohm\n",
    "Z3 = 100 + 0j # Ohm\n",
    "Urms = 220 # V"
   ]
  },
  {
   "cell_type": "code",
   "execution_count": 3,
   "metadata": {},
   "outputs": [],
   "source": [
    "# Defino una función que calcula elementos en paralelo\n",
    "def prl(x,y):\n",
    "    return (x*y)/(x + y)"
   ]
  },
  {
   "cell_type": "code",
   "execution_count": 4,
   "metadata": {},
   "outputs": [],
   "source": [
    "# (Z2 + Z3) || Z1\n",
    "Zeq = prl(Z2 + Z3, Z1)\n",
    "Irms = Urms/Zeq"
   ]
  },
  {
   "cell_type": "code",
   "execution_count": 5,
   "metadata": {},
   "outputs": [],
   "source": [
    "# Potencia aparente (S):\n",
    "S = Urms*( Irms.conjugate() )\n",
    "phi = cmath.phase(S)\n",
    "# Potencia activa (P):\n",
    "P = S.real\n",
    "# Potencia reactiva (Q):\n",
    "Q = S.imag"
   ]
  },
  {
   "cell_type": "code",
   "execution_count": 6,
   "metadata": {},
   "outputs": [
    {
     "name": "stdout",
     "output_type": "stream",
     "text": [
      "Resultados:\n",
      "---------------------------------------\n",
      "Zeq = (12.71 < 40.41°) Ohm\n",
      "Zeq = 9.68+8.24j Ohm\n",
      "Irms = (17.31 < -40.41°) A\n",
      "---------------------------------------\n",
      "S = (3807.37 < 40.41°) VA\n",
      "S = 2899.21+2467.92j VA\n",
      "P = 2899.21 W\n",
      "Q = 2467.92 VAr\n",
      "---------------------------------------\n"
     ]
    }
   ],
   "source": [
    "print('Resultados:')\n",
    "print('---------------------------------------')\n",
    "print('Zeq = (%.2f < %.2f°) Ohm'%(abs(Zeq) , math.degrees( cmath.phase(Zeq) ) ) )\n",
    "print('Zeq = {:.2f} Ohm'.format(Zeq))\n",
    "print('Irms = (%.2f < %.2f°) A'%(abs(Irms) , math.degrees( cmath.phase(Irms) ) ))\n",
    "print('---------------------------------------')\n",
    "print('S = (%.2f < %.2f°) VA'%(abs(S) , math.degrees( phi ) ))\n",
    "print('S = {:.2f} VA'.format(S))\n",
    "print('P = %.2f W'%P)\n",
    "print('Q = %.2f VAr'%abs(Q) ) \n",
    "print('---------------------------------------')"
   ]
  },
  {
   "cell_type": "code",
   "execution_count": 7,
   "metadata": {},
   "outputs": [],
   "source": [
    "import numpy as np\n",
    "import matplotlib.pyplot as plt"
   ]
  },
  {
   "cell_type": "code",
   "execution_count": 8,
   "metadata": {},
   "outputs": [
    {
     "data": {
      "image/png": "[encoded data removed]",
      "text/plain": [
       "<Figure size 504x504 with 1 Axes>"
      ]
     },
     "metadata": {
      "needs_background": "light"
     },
     "output_type": "display_data"
    }
   ],
   "source": [
    "%matplotlib inline\n",
    "plt.figure(figsize=(7,7))\n",
    "ax = plt.gca()\n",
    "ax.quiver(0,0,P,Q,angles='xy',scale_units='xy',scale=1,color='red')\n",
    "ax.quiver(0,0,P,0,angles='xy',scale_units='xy',scale=1,color='blue')\n",
    "ax.quiver(P,0,0,Q,angles='xy',scale_units='xy',scale=1,color='green')   \n",
    "plt.text(P - 250, Q, r'$\\vec S$', fontsize=18, color='red', fontweight='bold')\n",
    "plt.text(P - 200,  100, r'$\\vec P$', fontsize=18, color='blue', fontweight='bold')\n",
    "plt.text(P + 100, Q, r'$\\vec Q$', fontsize=18, color='green', fontweight='bold')\n",
    "plt.text(500,  200, r'$\\varphi =$ %.2f°'%( math.degrees(phi) ), fontsize=14)\n",
    "theta = np.linspace(0, phi, 100) \n",
    "x1 = 500 * np.cos(theta)\n",
    "x2 = 500 * np.sin(theta)\n",
    "plt.plot(x1, x2, color='red')\n",
    "ax.set_xlim([0,3500])\n",
    "ax.set_ylim([-500,3000])\n",
    "ax.set_aspect('equal')\n",
    "plt.title('Triángulo de potencias', fontsize=18)\n",
    "plt.xlabel('Re (Eje real)',  fontsize=16)\n",
    "plt.ylabel('Im (Eje imaginario)',  fontsize=16)\n",
    "plt.grid(linestyle=\":\")\n",
    "ax.set_axisbelow(True)\n",
    "plt.draw()\n",
    "plt.show()"
   ]
  },
  {
   "cell_type": "code",
   "execution_count": 9,
   "metadata": {},
   "outputs": [],
   "source": [
    "%reset -s -f"
   ]
  },
  {
   "cell_type": "markdown",
   "metadata": {},
   "source": [
    "## Ejercicio N°2\n",
    "Calcular el valor de la capacidad para que $\\cos \\varphi = 0,9$"
   ]
  },
  {
   "cell_type": "markdown",
   "metadata": {},
   "source": [
    "<img src=\"img/tp4ep2.png\">"
   ]
  },
  {
   "cell_type": "markdown",
   "metadata": {},
   "source": [
    "### Solución"
   ]
  },
  {
   "cell_type": "markdown",
   "metadata": {},
   "source": [
    "__Datos:__\n",
    "$\\left\\{\n",
    "\\begin{array}{l}\n",
    "Z_1 = 10 + j5 \\, \\Omega \\\\\n",
    "Z_2 = 10 + j100 \\, \\Omega \\\\\n",
    "U = 100 \\, \\mathrm{V \\; (rms)} \\\\\n",
    "\\mathrm{fp} = 0,9 \\\\\n",
    "f = 50 \\, \\mathrm{Hz}\n",
    "\\end{array}\n",
    "\\right.\n",
    "$"
   ]
  },
  {
   "cell_type": "markdown",
   "metadata": {},
   "source": [
    "Cálculo de $Z_{eq1} = Z_1 || Z_2$\n",
    "$$ Z_{eq1} = { Z_1 \\times Z_2 \\over Z_1 + Z_2 } = 10,51 < 31.64^\\circ \\, \\Omega = 8,95 + j5,51 \\, \\Omega $$"
   ]
  },
  {
   "cell_type": "markdown",
   "metadata": {},
   "source": [
    "Cálculo de $I_1$\n",
    "$$ I_1 = {U \\over Z_{eq1}} = 9,51 \\angle -31,54^\\circ \\, \\mathrm{A} $$"
   ]
  },
  {
   "cell_type": "markdown",
   "metadata": {},
   "source": [
    "Cálculo de $S_1$\n",
    "$$ S_1 = U \\times I_1^* = 951,29 \\angle 31,64^\\circ \\, \\mathrm{VA}$$"
   ]
  },
  {
   "cell_type": "markdown",
   "metadata": {},
   "source": [
    "$$ S_1 = 809,90 + j499,01 \\, \\mathrm{VA} $$"
   ]
  },
  {
   "cell_type": "markdown",
   "metadata": {},
   "source": [
    "Entonces:\n",
    "$$ P_1 = 809,90 \\, \\mathrm{W} $$"
   ]
  },
  {
   "cell_type": "markdown",
   "metadata": {},
   "source": [
    "$$ Q_1 = 499,01 \\, \\mathrm{VAr} $$"
   ]
  },
  {
   "cell_type": "markdown",
   "metadata": {},
   "source": [
    "$$\\begin{array}{c}\n",
    "P_1 = P_2 \\\\\n",
    "|U| |I_1| \\cos \\varphi_1 = |U| |I_2| \\cos \\varphi_2 \\\\\n",
    "|I_1| \\cos \\varphi_1 = |I_2| \\cos \\varphi_2\n",
    "\\end{array}$$"
   ]
  },
  {
   "cell_type": "markdown",
   "metadata": {},
   "source": [
    "Entonces\n",
    "$$\\begin{array}{l}\n",
    " | I_2 | &= \\displaystyle | I_1 | {\\cos \\varphi_1 \\over \\cos \\varphi_2} \\\\\n",
    " | I_2 | &= \\displaystyle | I_1 | {\\cos \\varphi_1 \\over \\mathrm{fp} } \\\\\n",
    " |I_2| &= 9,00 \\, \\mathrm{A}\n",
    "\\end{array}$$"
   ]
  },
  {
   "cell_type": "markdown",
   "metadata": {},
   "source": [
    "Cálculo de $\\varphi_2$\n",
    "$$ \\mathrm{fp} = \\cos \\varphi_2 = 0,9 $$"
   ]
  },
  {
   "cell_type": "markdown",
   "metadata": {},
   "source": [
    "$$ \\varphi_2 =  \\arccos 0,9 = 25,84^\\circ $$"
   ]
  },
  {
   "cell_type": "markdown",
   "metadata": {},
   "source": [
    "Cálculo de $S_2$\n",
    "$$ S_2 = U  I_2 \\cos (\\varphi_2) = 899,89 \\angle 25,84^\\circ \\, \\mathrm{VA} $$"
   ]
  },
  {
   "cell_type": "markdown",
   "metadata": {},
   "source": [
    "$$ S_2 = 809,90 + j392,25 \\, \\mathrm{VA} $$"
   ]
  },
  {
   "cell_type": "markdown",
   "metadata": {},
   "source": [
    "Luego\n",
    "$$ Q_2 = 392,25 \\, \\mathrm{VAr} $$"
   ]
  },
  {
   "cell_type": "markdown",
   "metadata": {},
   "source": [
    "__Cálculo de $Q_C$__\n",
    "$$ Q_C = Q_1 - Q_2 = 106,76 \\, \\mathrm{VAr} $$"
   ]
  },
  {
   "cell_type": "markdown",
   "metadata": {},
   "source": [
    "$$ Q_C = \\frac{U^2}{X_C} = \\frac{U^2}{ 1 \\over \\omega C } $$"
   ]
  },
  {
   "cell_type": "markdown",
   "metadata": {},
   "source": [
    "__Entonces__\n",
    "$$ C = \\frac{Q_C}{2 \\pi f U^2} = 33,98 \\, \\mu \\mathrm{F} $$"
   ]
  },
  {
   "cell_type": "code",
   "execution_count": 10,
   "metadata": {},
   "outputs": [],
   "source": [
    "import math, cmath"
   ]
  },
  {
   "cell_type": "code",
   "execution_count": 11,
   "metadata": {},
   "outputs": [],
   "source": [
    "# Datos:\n",
    "Z1 = 10 + 5j # Ohm\n",
    "Z2 = 10 + 100j # Ohm\n",
    "U = 100 # V\n",
    "fp = 0.9\n",
    "f = 50 # Hz"
   ]
  },
  {
   "cell_type": "code",
   "execution_count": 12,
   "metadata": {},
   "outputs": [],
   "source": [
    "def prl(x,y):\n",
    "    return (x*y)/(x + y)"
   ]
  },
  {
   "cell_type": "code",
   "execution_count": 13,
   "metadata": {},
   "outputs": [],
   "source": [
    "#Cálculo de Zeq\n",
    "Zeq1 = prl(Z1,Z2)\n",
    "# Cálculo de I1\n",
    "I1 = U/Zeq1\n",
    "S1 = U*I1.conjugate()\n",
    "P1 = S1.real\n",
    "Q1 = S1.imag\n",
    "P2 = P1\n",
    "phi1 = cmath.phase(S1)\n",
    "# P1 = P2  --> U*I1*cos(phi1) = U*I2*cos(phi2)\n",
    "# y tenemos que fp = cos(phi2)\n",
    "# Cálculo de phi2\n",
    "phi2 = math.acos(fp)\n",
    "I2 = cmath.rect( abs(I1)*math.cos(phi1)/fp , -phi2)\n",
    "S2 = U*I2.conjugate()\n",
    "Q2 = S2.imag\n",
    "# Cálculo de Qc\n",
    "Qc = Q1 - Q2\n",
    "# Cálculo de C\n",
    "C = Qc/(2*math.pi*f*U**2)"
   ]
  },
  {
   "cell_type": "code",
   "execution_count": 14,
   "metadata": {
    "jupyter": {
     "source_hidden": true
    }
   },
   "outputs": [
    {
     "name": "stdout",
     "output_type": "stream",
     "text": [
      "Resultados:\n",
      "---------------------------------------\n",
      "Zeq1 = (10.51 < 31.64°) Ohm\n",
      "Zeq1 = 8.95+5.51j Ohm\n",
      "I1 = (9.51 < -31.64°) A\n",
      "I2 = (9.00 < -25.84) A\n",
      "---------------------------------------\n",
      "S1 = (951.29 < 31.64°) VA\n",
      "S1 = 809.90+499.01j VA\n",
      "P1 = 809.90 W\n",
      "Q1 = 499.01 VAr\n",
      "---------------------------------------\n",
      "S2 = (899.89 < 25.84°) VA\n",
      "S2 = 809.90+392.25j VA\n",
      "P2 = 809.90 W\n",
      "Q2 = 392.25 VAr\n",
      "---------------------------------------\n",
      "Qc = 106.76 VAr\n",
      "C = 33.98 uF\n",
      "---------------------------------------\n"
     ]
    }
   ],
   "source": [
    "print('Resultados:')\n",
    "print('---------------------------------------')\n",
    "print('Zeq1 = (%.2f < %.2f°) Ohm'%(abs(Zeq1) , math.degrees( cmath.phase(Zeq1) ) ))\n",
    "print('Zeq1 = {:.2f} Ohm'.format(Zeq1))\n",
    "print('I1 = (%.2f < %.2f°) A'%(abs(I1), math.degrees( cmath.phase(I1) )))\n",
    "print('I2 = (%.2f < %.2f) A'%(abs(I2) , math.degrees( cmath.phase(I2) ) ))\n",
    "print('---------------------------------------')\n",
    "print('S1 = (%.2f < %.2f°) VA'%(abs(S1) , math.degrees( cmath.phase(S1) ) ))\n",
    "print('S1 = {:.2f} VA'.format(S1))\n",
    "print('P1 = %.2f W'%P1)\n",
    "print('Q1 = %.2f VAr'%Q1)\n",
    "print('---------------------------------------')\n",
    "print('S2 = (%.2f < %.2f°) VA'%(abs(S2), math.degrees( cmath.phase(S2) ) ))\n",
    "print('S2 = {:.2f} VA'.format(S2) )\n",
    "print('P2 = %.2f W'%P2)\n",
    "print('Q2 = %.2f VAr'%(abs(Q2)))\n",
    "print('---------------------------------------')\n",
    "print('Qc = %.2f VAr'%Qc)\n",
    "print('C = %.2f uF'%(C*1e6) )\n",
    "print('---------------------------------------')"
   ]
  },
  {
   "cell_type": "code",
   "execution_count": 15,
   "metadata": {},
   "outputs": [],
   "source": [
    "import numpy as np\n",
    "import matplotlib.pyplot as plt"
   ]
  },
  {
   "cell_type": "code",
   "execution_count": 16,
   "metadata": {},
   "outputs": [
    {
     "data": {
      "image/png": "[encoded data removed]",
      "text/plain": [
       "<Figure size 504x504 with 1 Axes>"
      ]
     },
     "metadata": {
      "needs_background": "light"
     },
     "output_type": "display_data"
    }
   ],
   "source": [
    "%matplotlib inline\n",
    "plt.figure(figsize=(7,7))\n",
    "ax = plt.gca()\n",
    "ax.quiver(0,0,P1,Q1,angles='xy',scale_units='xy',scale=1,color='red')\n",
    "ax.quiver(0,0,P1,0,angles='xy',scale_units='xy',scale=1,color='blue')\n",
    "ax.quiver(P1,0,0,Q1,angles='xy',scale_units='xy',scale=1,color='green')   \n",
    "ax.quiver(P2 + 10,0,0,Q2,angles='xy',scale_units='xy',scale=1,color='orange')   \n",
    "ax.quiver(0,0,P2,Q2,angles='xy',scale_units='xy',scale=1,color='orange')\n",
    "plt.text(P1 - 100, Q1, r'$\\vec S_1$', fontsize=18, color='red', fontweight='bold')\n",
    "plt.text(P1 - 90,  30, r'$\\vec P_1$', fontsize=18, color='blue', fontweight='bold')\n",
    "plt.text(P1 + 20, Q1, r'$\\vec Q_1$', fontsize=18, color='green', fontweight='bold')\n",
    "plt.text(P2 - 80, Q2, r'$\\vec S_2$', fontsize=18, color='orange', fontweight='bold')\n",
    "plt.text(P2 + 20, Q2, r'$\\vec Q_2$', fontsize=18, color='orange', fontweight='bold')\n",
    "plt.text(200, 50, r'$\\varphi_1 =$ %.2f°'%( math.degrees(phi1) ), fontsize=14)\n",
    "plt.text(500, 120, r'$\\varphi_2 =$ %.2f°'%( math.degrees(phi2) ), fontsize=14)\n",
    "theta1 = np.linspace(0, phi1, 100) \n",
    "x1 = 200 * np.cos(theta1)\n",
    "x2 = 200 * np.sin(theta1)\n",
    "plt.plot(x1, x2, color='red', linestyle=\"--\")\n",
    "theta2 = np.linspace(0, phi2, 100) \n",
    "x3 = 500 * np.cos(theta2)\n",
    "x4 = 500 * np.sin(theta2)\n",
    "plt.plot(x3, x4, color='orange', linestyle=\"--\")\n",
    "ax.set_xlim([0,1000])\n",
    "ax.set_ylim([-100,800])\n",
    "ax.set_aspect('equal')\n",
    "plt.title('Triángulo de potencias', fontsize=18)\n",
    "plt.xlabel('Re (Eje real)',  fontsize=14)\n",
    "plt.ylabel('Im (Eje imaginario)',  fontsize=14)\n",
    "plt.grid(linestyle=\":\")\n",
    "ax.set_axisbelow(True)\n",
    "plt.draw()\n",
    "plt.show()"
   ]
  },
  {
   "cell_type": "markdown",
   "metadata": {},
   "source": [
    "----------\n",
    "\n",
    "<a href=\"https://colab.research.google.com/github/daniel-lorenzo/Electrotecnia/blob/master/Ejercitacion/TP4entrega.ipynb\"><img align=\"left\" src=\"https://colab.research.google.com/assets/colab-badge.svg\" alt=\"Open in Colab\" title=\"Open and Execute in Google Colaboratory\"></a>"
   ]
  },
  {
   "cell_type": "code",
   "execution_count": null,
   "metadata": {},
   "outputs": [],
   "source": []
  }
 ],
 "metadata": {
  "kernelspec": {
   "display_name": "Python 3",
   "language": "python",
   "name": "python3"
  },
  "language_info": {
   "codemirror_mode": {
    "name": "ipython",
    "version": 3
   },
   "file_extension": ".py",
   "mimetype": "text/x-python",
   "name": "python",
   "nbconvert_exporter": "python",
   "pygments_lexer": "ipython3",
   "version": "3.8.3"
  }
 },
 "nbformat": 4,
 "nbformat_minor": 4
}
