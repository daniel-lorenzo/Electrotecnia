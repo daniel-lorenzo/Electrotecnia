{
 "cells": [
  {
   "cell_type": "markdown",
   "id": "feaf6716-80cf-4d69-a6d1-5755f9b3a1b6",
   "metadata": {},
   "source": [
    "# TP N°5 - Circuitos trifásicos\n",
    "__UNLZ - Facultad de Ingeniería__       \n",
    "__Electrotecnia__      \n",
    "__Alumno:__ Daniel Antonio Lorenzo"
   ]
  },
  {
   "cell_type": "markdown",
   "id": "0690951f-ac93-4a93-a567-aac7644168cd",
   "metadata": {},
   "source": [
    "## Problema N°2\n",
    "Un sistema trifásico de secuencia CBA (Secuencia Inversa o Indirecta), $3 \\times 380 \\, \\mathrm{V}$ (tensión eficaz compuesta o de línea), de 4 conductores (tetrafilar), alimenta una carga trifásica equilibrada conectada en estrella.\n",
    "\n",
    "El valor de cada impedancia es de 20 Ohm con ángulo de desfasaje de 30° capacitivo.\n",
    "\n",
    "2.1 Calcular las corrientes $I_r$, $I_s$, $I_t$, $I_\\mathrm{neutro}$, representar diagrama fasorial de tensiones y corrientes.\n",
    "\n",
    "2.2 Determinar la potencia por fase y trifásica."
   ]
  },
  {
   "cell_type": "markdown",
   "id": "fdeaf7d2-9e16-4c45-8825-bda4fed4ee2c",
   "metadata": {},
   "source": [
    "### Solución\n",
    "El siguiente gráfico es una representación fasorial de las tensiones de fase del generador trifásico o fuente de energía, según lo solicitado en el enunciado del problema."
   ]
  },
  {
   "cell_type": "markdown",
   "id": "63f41695-e48b-4c43-a075-11ad08d44ae1",
   "metadata": {},
   "source": [
    "__Tensiones de fase    \n",
    "Generación trifásica__\n",
    "\n",
    "<img src=\"img/tp5-1-7.png\">"
   ]
  },
  {
   "cell_type": "markdown",
   "id": "9dfaca6e-bd26-4ae1-8616-debe30a74676",
   "metadata": {},
   "source": [
    "## Conexión estrella-estrella balanceada"
   ]
  },
  {
   "cell_type": "markdown",
   "id": "7a175d54-0e10-4bb6-90ff-b56b1aa9d9e2",
   "metadata": {},
   "source": [
    "<div class=\"alert-info\">\n",
    "Un sistema Y-Y balanceado es un sistema trifásico con fuente balanceada conectada en Y y carga balanceada conectada en Y.\n",
    "    </div>"
   ]
  },
  {
   "cell_type": "markdown",
   "id": "5b79e57e-4ec2-4460-9186-7282215022ab",
   "metadata": {},
   "source": [
    "<img src=\"img/tp5-2-1.png\">"
   ]
  },
  {
   "cell_type": "markdown",
   "id": "f20c16b7-7313-4de2-86e7-d994fb435d93",
   "metadata": {},
   "source": [
    "Las tensiones de generación las denominaremos con la letrea E, $E_{an}$, $E_{bn}$, $E_{cn}$."
   ]
  },
  {
   "cell_type": "markdown",
   "id": "fe395fbe-aee9-418c-9dca-3a0b461a0f84",
   "metadata": {},
   "source": [
    "Las <mark>caídas de tensión en las impedancias de carga las denominamos con la letra U</mark>, $U_{ao}$, $U_{bo}$, $U_{co}$"
   ]
  },
  {
   "cell_type": "markdown",
   "id": "8924e925-7108-4144-9d34-e81d5146d935",
   "metadata": {},
   "source": [
    "Las <mark>corrientes por los conductores</mark> que conectan el generador con la carga $I_r$, $I_s$, $I_t$ o $I_a$, $I_b$, $I_c$."
   ]
  },
  {
   "cell_type": "markdown",
   "id": "95875c9c-27de-4f9d-83f3-ab77cbab21fd",
   "metadata": {},
   "source": [
    "Las <mark>corrientes que circulan por la carga</mark> $I_a$, $I_b$, $I_c$."
   ]
  },
  {
   "cell_type": "markdown",
   "id": "0c91c1a1-3fda-4bf1-88ea-f020ef12b720",
   "metadata": {},
   "source": [
    "La corriente que circula por el cuarto conductor, que une el centro de estrella del generador (n) y el neutro de la carga (o), se denomina corriente de Neutro, $I_\\mathrm{neutro}$."
   ]
  },
  {
   "cell_type": "markdown",
   "id": "d84e98a9-618d-4a6b-b76e-b47a478e912e",
   "metadata": {},
   "source": [
    "__Cálculos:__\n",
    "\n",
    "Las tensiones de generación son Datos del problema $3 \\times 380 \\, \\mathrm{V}$.\n",
    "Esto significa, que entre bornes de salida el generador ab, bc, ca tenemos un valor de 380 V. Siendo esa una tensión de línea o compuesta."
   ]
  },
  {
   "cell_type": "markdown",
   "id": "268100af-3695-4aa0-8b41-0df3ec2d81eb",
   "metadata": {},
   "source": [
    "Para sistemas perfectos, la relación entre la tensión compuesta y la de fase es $\\sqrt{3} \\cong 1,73$, es decir, si <mark>la tensión de línea</mark> es:"
   ]
  },
  {
   "cell_type": "markdown",
   "id": "b788ead9-e180-4999-99a4-40ca8ec50f6f",
   "metadata": {},
   "source": [
    "$$ E_\\mathrm{linea} = 380 \\, \\mathrm{V} \\quad (E_{ab} = E_{bc} = E_{ca} = 380 \\, \\mathrm{V}) $$"
   ]
  },
  {
   "cell_type": "markdown",
   "id": "c0b12e59-2e58-45b9-b827-75ba00ee4cba",
   "metadata": {},
   "source": [
    "<mark>La tensión de fase</mark> es:"
   ]
  },
  {
   "cell_type": "markdown",
   "id": "a1172c1e-f341-4ea2-b4da-c97f9bfd86cc",
   "metadata": {},
   "source": [
    "$$ E_\\mathrm{fase} = {E_\\mathrm{linea} \\over \\sqrt{3} } = 220 \\, \\mathrm{V} $$"
   ]
  },
  {
   "cell_type": "markdown",
   "id": "d0faf1de-2f18-4e3c-9f56-cd7461776330",
   "metadata": {},
   "source": [
    "$$ E_{an} = E_{bn} = E_{cn} = 220 \\, \\mathrm{V} $$"
   ]
  },
  {
   "cell_type": "markdown",
   "id": "81ea1567-31a6-420e-8258-8f5b1e7c84eb",
   "metadata": {},
   "source": [
    "Las tensiones de generación son iguales a las caídas de tensión en las cargas cuando el sistema es generación en conexión estrella y cargas en conexión estrella."
   ]
  },
  {
   "cell_type": "markdown",
   "id": "d98355c9-873c-4098-be18-1fed406c8e2b",
   "metadata": {},
   "source": [
    "$\\begin{array}{l}\n",
    "E_{an} = U_{ao} \\\\\n",
    "E_{bn} = U_{bo} \\\\\n",
    "E_{cn} = U_{co}\n",
    "\\end{array}$"
   ]
  },
  {
   "cell_type": "markdown",
   "id": "1a7dafc7-2574-4241-a8ea-528f2a99220e",
   "metadata": {},
   "source": [
    "La carga trifásica es equilibrada, conectada en estrella, eso significa que el valor de cada impedancia es igual entre ellas y su valor de $20 \\, \\Omega$ con ángulo desfasaje de 30° capacitivo."
   ]
  },
  {
   "cell_type": "markdown",
   "id": "daa7a2f4-f6dd-47a5-9f58-3155c59af09e",
   "metadata": {},
   "source": [
    "$$ Z_a = Z_b = Z_c = 20 e^{-j30^\\circ} \\, \\Omega $$"
   ]
  },
  {
   "cell_type": "markdown",
   "id": "254866cb-cdfc-4506-8993-fad9b84fcdb9",
   "metadata": {},
   "source": [
    "Aplicamos la ley de Ohm para corriente alterna."
   ]
  },
  {
   "cell_type": "markdown",
   "id": "43c6270f-8a45-4905-b4dc-38b81e0a8ca6",
   "metadata": {},
   "source": [
    "$$ I_r = I_a = \\frac{U_{ao}}{Z_a} = \\frac{220 e^{j0^\\circ} \\, \\mathrm{V}}{20 e^{-j30^\\circ} \\, \\Omega} = 11 e^{j30^\\circ} \\, \\mathrm{A} = (9,5 + j5,5) \\, \\mathrm{A} $$"
   ]
  },
  {
   "cell_type": "markdown",
   "id": "c5ff2c61-45ba-424a-b5dd-8a41059cc7cd",
   "metadata": {},
   "source": [
    "$$ I_s = I_b = \\frac{U_{bo}}{Z_b} = \\frac{220 e^{j120^\\circ} \\, \\mathrm{V}}{20 e^{-j30^\\circ} \\, \\Omega} = 11 e^{j150^\\circ} \\, \\mathrm{A} = (-9,5 + j5,5) \\, \\mathrm{A} $$"
   ]
  },
  {
   "cell_type": "markdown",
   "id": "b59b87fa-f109-4712-9761-7bd65209f0ab",
   "metadata": {},
   "source": [
    "$$ I_t = I_c = \\frac{U_{co}}{Z_c} = \\frac{220 e^{j240^\\circ} \\, \\mathrm{V}}{20 e^{-j30^\\circ} \\, \\Omega} = 11 e^{j270^\\circ} \\, \\mathrm{A} = - j11 \\, \\mathrm{A} $$"
   ]
  },
  {
   "cell_type": "markdown",
   "id": "fe0749fd-41fb-44de-b9c1-90cf2cbade86",
   "metadata": {},
   "source": [
    "Aplicando la ley de Kirchhoff en el centro de estrella de la carga, podemos calcular <mark>la corriente de neutro, es la que circula por el cuarto conductor.</mark>"
   ]
  },
  {
   "cell_type": "markdown",
   "id": "7fccbda4-c370-4eae-850a-0790ee8d6839",
   "metadata": {},
   "source": [
    "$$ I_\\mathrm{neutro} = \\sum_a^c I_i = (9,5+j5,5) + (-9,5+j5,5) + (-j11) = 0 \\, \\mathrm{A} $$"
   ]
  },
  {
   "cell_type": "markdown",
   "id": "2546c4aa-6bb5-41a6-8090-e2af5eec192e",
   "metadata": {},
   "source": [
    "__Diagrama Fasorial de tensiones y corrientes en la carga:__"
   ]
  },
  {
   "cell_type": "markdown",
   "id": "4db746dc-541a-4e61-8df6-48117883e4b9",
   "metadata": {},
   "source": [
    "<img src=\"img/tp5-2-2.png\">"
   ]
  },
  {
   "cell_type": "markdown",
   "id": "f9fb4faf-61a1-420a-a030-368d91035358",
   "metadata": {},
   "source": [
    "__2.2__ Determinar la potencia por fase y trifásica"
   ]
  },
  {
   "cell_type": "markdown",
   "id": "c86d270d-a923-4a54-9cc0-267095faa2ab",
   "metadata": {},
   "source": [
    "En todo sistema tenemos que calcular:"
   ]
  },
  {
   "cell_type": "markdown",
   "id": "52bd97d2-b619-4236-914a-9c5408f7422e",
   "metadata": {},
   "source": [
    "La __Potencia Activa (P)__ medida en Watts."
   ]
  },
  {
   "cell_type": "markdown",
   "id": "1e0dd391-b7a4-44a9-95d6-054fe4d98526",
   "metadata": {},
   "source": [
    "La __Potencia Reactiva (Q)__ medida en VAr."
   ]
  },
  {
   "cell_type": "markdown",
   "id": "fa356ee2-6dc8-4e0d-a7a9-257f082f6283",
   "metadata": {},
   "source": [
    "La __Potencia Aparente (S)__ medida en VA."
   ]
  },
  {
   "cell_type": "markdown",
   "id": "0772b57e-2643-4ee0-8620-f2f0e4627e79",
   "metadata": {},
   "source": [
    "Recordando el <mark>triángulo de potencias.</mark>"
   ]
  },
  {
   "cell_type": "markdown",
   "id": "55109400-ec9c-48a9-862a-bee4b80b23e5",
   "metadata": {},
   "source": [
    "<img src=\"img/tp5-2-3.png\">"
   ]
  },
  {
   "cell_type": "markdown",
   "id": "2716b414-8ad7-48c4-9ed3-854eab613189",
   "metadata": {},
   "source": [
    "A cada una de las fases le corresponderá un valor de potencia monofásica:"
   ]
  },
  {
   "cell_type": "markdown",
   "id": "f5d7cc95-fb60-4d92-900b-08009bdf23b5",
   "metadata": {},
   "source": [
    "Potencia Activa P (Watt): $P_a, \\; P_b , \\; P_c$"
   ]
  },
  {
   "cell_type": "markdown",
   "id": "29e8da93-2f5a-4904-9471-a86e902d7e43",
   "metadata": {},
   "source": [
    "Potencia Reactiva Q (VAr): $Q_a , \\; Q_b , \\; Q_c$"
   ]
  },
  {
   "cell_type": "markdown",
   "id": "d7cb26a6-362b-4817-a06d-3fa06844eb80",
   "metadata": {},
   "source": [
    "Potencia Aparente S (VA): $S_a, \\; S_b , \\; S_c$"
   ]
  },
  {
   "cell_type": "markdown",
   "id": "4b30bd35-1be2-4793-9b95-a22ae81d4347",
   "metadata": {},
   "source": [
    "__La Potencia trifásica \"Activa, Reactiva y Aparente\"__ se calculará como la sumatoria de las potencias de cada una de las fases."
   ]
  },
  {
   "cell_type": "markdown",
   "id": "671de9d2-5b7b-47c0-bf9a-01f3e0abda47",
   "metadata": {},
   "source": [
    "Para calcular la __potencia Activa trifásica__ y __Reactiva trifásica__ la __sumatoria__ se podrá realizar __algebráicamente__."
   ]
  },
  {
   "cell_type": "markdown",
   "id": "eef0b1f0-d602-4c90-a149-3befd2e3d07d",
   "metadata": {},
   "source": [
    "$$ P_\\mathrm{trifasica} = P_a + P_b + P_c $$"
   ]
  },
  {
   "cell_type": "markdown",
   "id": "a1202330-4d3e-4778-a6fc-c1c69c10ab03",
   "metadata": {},
   "source": [
    "$$ Q_\\mathrm{trifasica} = Q_a + Q_b + Q_c $$"
   ]
  },
  {
   "cell_type": "markdown",
   "id": "d95c5efc-1de8-4e5a-a32a-773ea38a9bf7",
   "metadata": {},
   "source": [
    "Para la potencia Aparente, lo conveniente, para no cometer errores, es usar para el cálculo, el teorema de Pitágoras aplicando el triángulo de potencias."
   ]
  },
  {
   "cell_type": "markdown",
   "id": "ac05b145-b439-40e1-9fa4-1d3481a94aba",
   "metadata": {},
   "source": [
    "$$ S_\\mathrm{trifasica} = \\sqrt{ (P_\\mathrm{trifasica})^2 + (Q_\\mathrm{trifasica})^2 } $$"
   ]
  },
  {
   "cell_type": "markdown",
   "id": "f94b60aa-4067-4d0e-ae3d-a0e58e905f22",
   "metadata": {},
   "source": [
    "Las impedancias o cargas de cada una de las fases son iguales entre sí."
   ]
  },
  {
   "cell_type": "markdown",
   "id": "0962643a-7bb1-4158-aeef-7e91bd4c9b61",
   "metadata": {},
   "source": [
    "$$ Z_a = Z_b = Z_c = 20e^{-j30^\\circ} \\, \\Omega $$"
   ]
  },
  {
   "cell_type": "markdown",
   "id": "ca15e494-afcb-409c-9e6d-339cbded2eca",
   "metadata": {},
   "source": [
    "__Cálculo de la Potencia Activa P monofásica.__"
   ]
  },
  {
   "cell_type": "markdown",
   "id": "8412874e-63c6-428e-9818-76c1edcc08c8",
   "metadata": {},
   "source": [
    "$$ U_f = U_{ao} = U_{bo} = U_{co} \\quad \\mbox{(Tensión de cada fase)} $$"
   ]
  },
  {
   "cell_type": "markdown",
   "id": "e163e295-1f38-481d-accd-cfd34393c7f3",
   "metadata": {},
   "source": [
    "$$ I_f = I_a = I_b = I_c \\quad \\mbox{(Corriente de cada fase)} $$"
   ]
  },
  {
   "cell_type": "markdown",
   "id": "21569bb3-dd91-4ae6-b048-b9ee6fc55c3b",
   "metadata": {},
   "source": [
    "$\\varphi_a =$ ángulo de la impedancia (a) o ángulo de carga (a) desfasaje entre la caída de tensión (Uao) y la corriente (Ia) que circula por la carga)"
   ]
  },
  {
   "cell_type": "markdown",
   "id": "6d6fc5f1-4484-4e40-bd8d-74625bf3491c",
   "metadata": {},
   "source": [
    "$\\varphi_a = \\varphi_b = \\varphi_c = \\varphi$"
   ]
  },
  {
   "cell_type": "code",
   "execution_count": 9,
   "id": "9eb9eef1-6d54-46ec-a57d-951863912160",
   "metadata": {},
   "outputs": [],
   "source": [
    "import math, cmath"
   ]
  },
  {
   "cell_type": "code",
   "execution_count": 10,
   "id": "c4e3df0b-22bb-4237-97b6-43cb59972840",
   "metadata": {},
   "outputs": [],
   "source": [
    "# Datos\n",
    "E_linea = 380 # V\n",
    "phi = math.radians(-30)\n",
    "E_fase = E_linea/math.sqrt(3)\n",
    "Ean = cmath.rect(E_fase, math.radians(0) )\n",
    "Ebn = cmath.rect(E_fase, math.radians(120))\n",
    "Ecn = cmath.rect(E_fase, math.radians(240))\n",
    "Uao = Ean\n",
    "Ubo = Ebn\n",
    "Uco = Ecn\n",
    "Za = cmath.rect(20 , phi)\n",
    "Zb = Za\n",
    "Zc = Za"
   ]
  },
  {
   "cell_type": "markdown",
   "id": "0e221403-9798-4f39-bedf-2cada44f500b",
   "metadata": {},
   "source": [
    "Ley de Ohm\n",
    "$$ I = \\frac{U}{Z} $$"
   ]
  },
  {
   "cell_type": "code",
   "execution_count": 11,
   "id": "41098a26-76e0-42b5-b4d6-de3bfa794547",
   "metadata": {},
   "outputs": [],
   "source": [
    "Ia = Uao/Za\n",
    "Ib = Ubo/Zb\n",
    "Ic = Uco/Zc"
   ]
  },
  {
   "cell_type": "code",
   "execution_count": 12,
   "id": "b02c8cee-7a90-43b1-98b9-b5081758a9f6",
   "metadata": {
    "jupyter": {
     "source_hidden": true
    },
    "tags": []
   },
   "outputs": [
    {
     "name": "stdout",
     "output_type": "stream",
     "text": [
      "Ia = (10.97 < 30.00°)\n",
      "Ia = 9.50+5.48j A\n",
      "Ib = (10.97 < 150.00°)\n",
      "Ib = -9.50+5.48j A\n",
      "Ic = (10.97 < -90.00°)\n",
      "Ic = -0.00-10.97j A\n"
     ]
    }
   ],
   "source": [
    "print('Ia = (%.2f < %.2f°)'%(abs(Ia) , math.degrees(cmath.phase(Ia))))\n",
    "print('Ia = {:.2f} A'.format(Ia))\n",
    "print('Ib = (%.2f < %.2f°)'%(abs(Ib) , math.degrees(cmath.phase(Ib))))\n",
    "print('Ib = {:.2f} A'.format(Ib))\n",
    "print('Ic = (%.2f < %.2f°)'%(abs(Ic) , math.degrees(cmath.phase(Ic))))\n",
    "print('Ic = {:.2f} A'.format(Ic))"
   ]
  },
  {
   "cell_type": "markdown",
   "id": "a366d90b-6abd-4f93-981a-d797efcd6368",
   "metadata": {},
   "source": [
    "Sistema balanceado\n",
    "$$ \\sum_a^c I_i = 0 $$"
   ]
  },
  {
   "cell_type": "code",
   "execution_count": 13,
   "id": "97df197c-3e51-4fce-8627-d6bea0d7d591",
   "metadata": {},
   "outputs": [],
   "source": [
    "Sum_I = Ia + Ib + Ic"
   ]
  },
  {
   "cell_type": "code",
   "execution_count": 14,
   "id": "115de664-d818-4196-a7ac-29d109ced1e2",
   "metadata": {},
   "outputs": [
    {
     "name": "stdout",
     "output_type": "stream",
     "text": [
      "|Sum_I| = 0.00 A\n"
     ]
    }
   ],
   "source": [
    "print('|Sum_I| = %.2f A'%abs(Sum_I))"
   ]
  },
  {
   "cell_type": "markdown",
   "id": "25dbf813-41bf-42c0-b52b-25251b91b975",
   "metadata": {},
   "source": [
    "Potencia aparente\n",
    "$$ \\vec{S} = \\vec{U} \\times (\\vec{I})^\\ast $$"
   ]
  },
  {
   "cell_type": "markdown",
   "id": "3bf85f37-b6b0-4d37-ae49-30cee9a8f19b",
   "metadata": {},
   "source": [
    "Potencia real\n",
    "$$ P = |\\vec{S}| \\cos \\varphi $$"
   ]
  },
  {
   "cell_type": "markdown",
   "id": "af046acb-1c9e-425d-a6f9-1520f5698131",
   "metadata": {},
   "source": [
    "Potencia reactiva\n",
    "$$ Q = |\\vec{S}| \\sin \\varphi $$"
   ]
  },
  {
   "cell_type": "code",
   "execution_count": 15,
   "id": "c86d5e23-4af0-4ed6-9141-75def8055dfe",
   "metadata": {},
   "outputs": [],
   "source": [
    "# Potencia aparente\n",
    "Sa = Uao*Ia.conjugate()\n",
    "Sb = Ubo*Ib.conjugate()\n",
    "Sc = Uco*Ic.conjugate()\n",
    "# Potencia activa\n",
    "Pa = Sa.real\n",
    "Pb = Sb.real\n",
    "Pc = Sc.real\n",
    "# Potencia reactiva\n",
    "Qa = Sa.imag\n",
    "Qb = Sb.imag\n",
    "Qc = Sc.imag"
   ]
  },
  {
   "cell_type": "code",
   "execution_count": 16,
   "id": "8a6af078-abf9-4ef6-8665-2985150a2ef3",
   "metadata": {
    "jupyter": {
     "source_hidden": true
    }
   },
   "outputs": [
    {
     "name": "stdout",
     "output_type": "stream",
     "text": [
      "Potencia aparente:\n",
      "|Sa| = 2406.67 VA\n",
      "|Sb| = 2406.67 VA\n",
      "|Sc| = 2406.67 VA\n"
     ]
    }
   ],
   "source": [
    "print('Potencia aparente:')\n",
    "print('|Sa| = %.2f VA'%abs(Sa))\n",
    "print('|Sb| = %.2f VA'%abs(Sb))\n",
    "print('|Sc| = %.2f VA'%abs(Sc))"
   ]
  },
  {
   "cell_type": "code",
   "execution_count": 17,
   "id": "deee8d66-6288-4cd6-aa8f-f23379ddfa11",
   "metadata": {
    "jupyter": {
     "source_hidden": true
    },
    "tags": []
   },
   "outputs": [
    {
     "name": "stdout",
     "output_type": "stream",
     "text": [
      "Potencia activa:\n",
      "Pa = 2084.23 W\n",
      "Pb = 2084.23 W\n",
      "Pc = 2084.23 W\n"
     ]
    }
   ],
   "source": [
    "print('Potencia activa:')\n",
    "print('Pa = %.2f W'%Pa)\n",
    "print('Pb = %.2f W'%Pb)\n",
    "print('Pc = %.2f W'%Pc)"
   ]
  },
  {
   "cell_type": "code",
   "execution_count": 18,
   "id": "9fd13450-a242-4ad2-ab8b-b65f34da4de7",
   "metadata": {
    "jupyter": {
     "source_hidden": true
    }
   },
   "outputs": [
    {
     "name": "stdout",
     "output_type": "stream",
     "text": [
      "Potencia reactiva:\n",
      "Qa = -1203.33 VAr\n",
      "Qb = -1203.33 VAr\n",
      "Qc = -1203.33 VAr\n"
     ]
    }
   ],
   "source": [
    "print('Potencia reactiva:')\n",
    "print('Qa = %.2f VAr'%Qa)\n",
    "print('Qb = %.2f VAr'%Qb)\n",
    "print('Qc = %.2f VAr'%Qc)"
   ]
  },
  {
   "cell_type": "markdown",
   "id": "f2eb582a-2c5d-44d6-b57a-2c317bbfec92",
   "metadata": {},
   "source": [
    "Potencia trifásica real\n",
    "$$ P_\\mathrm{trifasica} = P_a + P_b + P_c $$"
   ]
  },
  {
   "cell_type": "markdown",
   "id": "6c52db4f-135b-4a8a-901b-e4d00a1d4937",
   "metadata": {},
   "source": [
    "Potencia trifásica reactiva\n",
    "$$ Q_\\mathrm{trifasica} = Q_a + Q_b + Q_c $$"
   ]
  },
  {
   "cell_type": "markdown",
   "id": "418fdcf8-b499-4999-8218-58d84cd65064",
   "metadata": {},
   "source": [
    "Potencia trifásica aparente\n",
    "$$ S_\\mathrm{trifasica} = \\sqrt{(P_\\mathrm{trifasica})^2 + (Q_\\mathrm{trifasica})^2} $$"
   ]
  },
  {
   "cell_type": "code",
   "execution_count": 19,
   "id": "3cb87d0c-8338-4ee2-99da-55f26fc0e47c",
   "metadata": {},
   "outputs": [],
   "source": [
    "P_trifasica = Pa + Pb + Pc\n",
    "Q_trifasica = Qa + Qb + Qc\n",
    "S_trifasica = math.sqrt(P_trifasica**2 + Q_trifasica**2)"
   ]
  },
  {
   "cell_type": "code",
   "execution_count": 20,
   "id": "312c8f45-a95b-4271-ad70-89b57dba0b53",
   "metadata": {
    "jupyter": {
     "source_hidden": true
    },
    "tags": []
   },
   "outputs": [
    {
     "name": "stdout",
     "output_type": "stream",
     "text": [
      "P_trifasica = 6252.70 W\n",
      "Q_trifasica = -3610.00 W\n",
      "S_trifasica = 7220.00 W\n"
     ]
    }
   ],
   "source": [
    "print('P_trifasica = %.2f W'%P_trifasica)\n",
    "print('Q_trifasica = %.2f W'%Q_trifasica)\n",
    "print('S_trifasica = %.2f W'%S_trifasica)"
   ]
  },
  {
   "cell_type": "markdown",
   "id": "1138f5f7-ba3f-4451-80c0-578dca3586c7",
   "metadata": {},
   "source": [
    "__Como comprobación, aplicamos la ecuación a la resolución del ejercicio__"
   ]
  },
  {
   "cell_type": "markdown",
   "id": "a930e36b-9e88-4b12-b93e-8cec6db7a4a9",
   "metadata": {},
   "source": [
    "Potencia trifásica activa\n",
    "$$ P_\\mathrm{trifasica} = \\sqrt{3} \\cdot 380 |I_\\mathrm{fase}| \\cos \\varphi $$"
   ]
  },
  {
   "cell_type": "markdown",
   "id": "c1d71d9b-73c2-40ef-8a73-9bc93386ebb1",
   "metadata": {},
   "source": [
    "Potencia trifásica reactiva\n",
    "$$ Q_\\mathrm{trifasica} = \\sqrt{3} \\cdot 380 |I_\\mathrm{fase}| \\sin \\varphi $$"
   ]
  },
  {
   "cell_type": "markdown",
   "id": "c5250a4c-40c1-4c96-868a-ac902bdbbd56",
   "metadata": {},
   "source": [
    "Potencia trifásica aparente\n",
    "$$ S_\\mathrm{trifasica} = \\sqrt{3} \\cdot 380 |I_\\mathrm{fase}| $$"
   ]
  },
  {
   "cell_type": "code",
   "execution_count": 21,
   "id": "44cadc72-59c1-4079-b600-54de69b4cb2c",
   "metadata": {},
   "outputs": [],
   "source": [
    "P_trif = math.sqrt(3)*380*abs(Ia)*math.cos( phi )\n",
    "Q_trif = math.sqrt(3)*380*abs(Ia)*math.sin( phi )\n",
    "S_trif = math.sqrt(3)*380*abs(Ia)"
   ]
  },
  {
   "cell_type": "code",
   "execution_count": 22,
   "id": "fa6f315c-37a1-4caa-a745-137fab1d5070",
   "metadata": {
    "jupyter": {
     "source_hidden": true
    },
    "tags": []
   },
   "outputs": [
    {
     "name": "stdout",
     "output_type": "stream",
     "text": [
      "P_trif = 6252.70 W\n",
      "Q_trif = -3610.00 VAr\n",
      "S_trif = 7220.00 VA\n"
     ]
    }
   ],
   "source": [
    "print('P_trif = %.2f W'%P_trif)\n",
    "print('Q_trif = %.2f VAr'%Q_trif)\n",
    "print('S_trif = %.2f VA'%S_trif)"
   ]
  },
  {
   "cell_type": "markdown",
   "id": "f51725f0-acb2-44c1-af4a-9aa3b3e5b732",
   "metadata": {},
   "source": [
    "__Simulación en qucs__\n",
    "\n",
    "<img src=\"img/tp5-2-4.svg\" width=\"800\">"
   ]
  },
  {
   "cell_type": "code",
   "execution_count": 23,
   "id": "fcad99d4-3e53-49b9-8e24-919aa42833b1",
   "metadata": {},
   "outputs": [],
   "source": [
    "%reset -s -f"
   ]
  }
 ],
 "metadata": {
  "kernelspec": {
   "display_name": "Python 3 (ipykernel)",
   "language": "python",
   "name": "python3"
  },
  "language_info": {
   "codemirror_mode": {
    "name": "ipython",
    "version": 3
   },
   "file_extension": ".py",
   "mimetype": "text/x-python",
   "name": "python",
   "nbconvert_exporter": "python",
   "pygments_lexer": "ipython3",
   "version": "3.9.12"
  }
 },
 "nbformat": 4,
 "nbformat_minor": 5
}
