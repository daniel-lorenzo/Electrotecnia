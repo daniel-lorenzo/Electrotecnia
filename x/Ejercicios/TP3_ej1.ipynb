{
 "cells": [
  {
   "cell_type": "markdown",
   "id": "84bacec2-1edc-4a8d-b02e-65e34b532a6a",
   "metadata": {},
   "source": [
    "# Ejercicios de clase - Thevenin\n",
    "__UNLZ - Facultad de Ingeniería__       \n",
    "__Electrotecnia__      \n",
    "__Alumno:__ Daniel Antonio Lorenzo"
   ]
  },
  {
   "cell_type": "markdown",
   "id": "0d61988c-3271-4ef2-9911-04bc214a6f06",
   "metadata": {},
   "source": [
    "## Problema N°1\n",
    "1.1 Hallar el circuito equivalente de Thevenin entre los puntos A y B.\n",
    "\n",
    "1.2 Hallar el circuito equivalente de Norton entre los puntos A y B."
   ]
  },
  {
   "cell_type": "markdown",
   "id": "5cfb2eda-5a14-4bf2-99c9-b3b036f46a57",
   "metadata": {},
   "source": [
    "<img src=\"img/tp3e1.png\" alt=\"tp3e1.png\">"
   ]
  },
  {
   "cell_type": "markdown",
   "id": "5e1a4c52-81dc-46e7-b474-0568bb00294b",
   "metadata": {},
   "source": [
    "### Solución"
   ]
  },
  {
   "cell_type": "markdown",
   "id": "ec7875d6-984d-4728-9074-96400fab5151",
   "metadata": {},
   "source": [
    "* __Cálculo de $Z_{th}$__      "
   ]
  },
  {
   "cell_type": "markdown",
   "id": "c81f2b8a-42f3-4533-bb7e-9e2baab95be6",
   "metadata": {},
   "source": [
    "<img src=\"img/tp3e1-1.png\" alt=\"tp3e1-1.png\">"
   ]
  },
  {
   "cell_type": "markdown",
   "id": "cc5dc276-4139-45f0-92fd-c3ad57f87a58",
   "metadata": {},
   "source": [
    "1)  $Z_1 || Z_2$     \n",
    "2)  $(Z_1 || Z_2) + Z_3$      \n",
    "3) $[(Z_1 || Z_2) + Z_3] || Z_4$"
   ]
  },
  {
   "cell_type": "markdown",
   "id": "cf477ad2-9f93-49dc-889a-bdbd98e5beab",
   "metadata": {},
   "source": [
    "1) Hacemos $Z_1 || Z_2$"
   ]
  },
  {
   "cell_type": "markdown",
   "id": "4ba6fc10-407f-4421-af6c-7b094f60e186",
   "metadata": {},
   "source": [
    "<img src=\"img/tp3e1-2.png\" alt=\"tp3e1-2.png\">"
   ]
  },
  {
   "cell_type": "markdown",
   "id": "b28ba9ba-da9f-4a30-873b-b0d246cd8621",
   "metadata": {},
   "source": [
    "$$ \\frac{Z_1 \\cdot Z_2}{Z_1 + Z_2} = \\frac{5e^{j0^\\circ} \\cdot 5e^{j90^\\circ}}{(5 + j0) + (0 + j5)} = \\frac{25^{j90^\\circ}}{5 + j5} = \\frac{25e^{j90^\\circ}}{\\sqrt{50} e^{j45^\\circ}} = 3,54e^{j45^\\circ} \\, \\Omega \\quad \\rightarrow 2,5 + j2,5 \\, \\Omega $$"
   ]
  },
  {
   "cell_type": "markdown",
   "id": "d43c1d89-dc80-4403-948c-024bea718485",
   "metadata": {},
   "source": [
    "2)  $(Z_1 || Z_2) + Z_3$"
   ]
  },
  {
   "cell_type": "markdown",
   "id": "d06e8b0a-3158-47aa-80a7-43d57ddeb951",
   "metadata": {},
   "source": [
    "<img src=\"img/tp3e1-3.png\" alt=\"tp3e1-3.png\">"
   ]
  },
  {
   "cell_type": "markdown",
   "id": "32ccb9c4-0424-4610-b8d4-13d33d08880e",
   "metadata": {},
   "source": [
    "$$ (2,5 + j2,5) + (2 + j2) = 4,5 + j4,5 \\, \\Omega \\quad \\rightarrow  6,36e^{j45} \\, \\Omega $$"
   ]
  },
  {
   "cell_type": "markdown",
   "id": "57901c6f-158d-41ac-8ce1-49f35860f483",
   "metadata": {},
   "source": [
    "3) $\\left[(Z_1 || Z_2) + Z_3 \\right]  \\, || \\, Z_4$"
   ]
  },
  {
   "cell_type": "markdown",
   "id": "3a0c0a9d-b6e7-48cd-9e4f-4b0859aa7ed8",
   "metadata": {},
   "source": [
    "<img src=\"img/tp3e1-4.png\" alt=\"tp3e1-4.png\">"
   ]
  },
  {
   "cell_type": "markdown",
   "id": "05d0355a-21a9-4a6f-abdd-34ab3da86460",
   "metadata": {},
   "source": [
    "$$ = \\frac{6,36e^{j45^\\circ} \\cdot 6e^{j0^\\circ}}{(4,5 + j4,5) + (6 + j0)} = \\frac{38,18e^{j45^\\circ}}{10,45 + j4,5} = \\frac{38,18e^{j45^\\circ}}{11,42e^{j23,2^\\circ}} = 3,34e^{j21,8^\\circ} $$"
   ]
  },
  {
   "cell_type": "markdown",
   "id": "106f2c65-91e5-4834-b68e-1542bce58c1c",
   "metadata": {},
   "source": [
    "<div class=\"alert-info\"><strong>Por lo tanto</strong>\n",
    "$$ Z_{th} =3,34e^{j21,8} \\, \\Omega = (3,1 + j1,2) \\, \\Omega $$\n",
    "    </div>"
   ]
  },
  {
   "cell_type": "markdown",
   "id": "3d07cc48-0b62-4cfc-87c7-767fdade8957",
   "metadata": {},
   "source": [
    "* __Cálculo de $V_{th}$__"
   ]
  },
  {
   "cell_type": "markdown",
   "id": "d2419072-7dbf-4633-9d52-07f27a51914a",
   "metadata": {},
   "source": [
    "<img src=\"img/tp3e1-5.png\" alt=\"tp3e1-5.png\">"
   ]
  },
  {
   "cell_type": "markdown",
   "id": "1458aa4c-b922-4993-a450-8945a66aa7f2",
   "metadata": {},
   "source": [
    "$V_{th} = V_{AB} = V_{Z_4}$"
   ]
  },
  {
   "cell_type": "markdown",
   "id": "4adf2be0-1a36-4775-81ea-b252c096eed8",
   "metadata": {},
   "source": [
    "1) $Z_4 + Z_3$"
   ]
  },
  {
   "cell_type": "markdown",
   "id": "dafe5bbf-e579-4233-9a97-29410f0f04c9",
   "metadata": {},
   "source": [
    "<img src=\"img/tp3e1-6.png\" alt=\"tp3e1-6.png\">"
   ]
  },
  {
   "cell_type": "markdown",
   "id": "1764c31c-eba9-48ce-8d03-f18289140caa",
   "metadata": {},
   "source": [
    "$$ = (6 + j0) + (2 + j2) = 8 + j2 \\quad \\rightarrow \\sqrt{68} e^{j14^\\circ} $$"
   ]
  },
  {
   "cell_type": "markdown",
   "id": "bf5e8b5b-6448-4687-864b-dc51d204b51e",
   "metadata": {},
   "source": [
    "2) $(Z_4 + Z_3) || Z_2$"
   ]
  },
  {
   "cell_type": "markdown",
   "id": "ca14fccc-1bc0-4d15-bc1f-a45561f49b57",
   "metadata": {},
   "source": [
    "<img src=\"img/tp3e1-7.png\" alt=\"tp3e1-7.png\">"
   ]
  },
  {
   "cell_type": "markdown",
   "id": "b4407af3-008c-4465-ac9d-d87f1318585f",
   "metadata": {},
   "source": [
    "$$ = \\frac{\\sqrt{68} e^{j14^\\circ} \\cdot 5e^{j90^\\circ}}{(8 + j2) + (0 + j5)} = \\frac{5 \\sqrt{68} e^{j104^\\circ} }{8 + j7} = \\frac{ 5 \\sqrt{68} e^{j104^\\circ} }{\\sqrt{113} e^{j41,18^\\circ} } = 3,88e^{j62,85^\\circ} $$"
   ]
  },
  {
   "cell_type": "markdown",
   "id": "733f3d1a-44cd-4de1-95d3-5a6d59f3b236",
   "metadata": {},
   "source": [
    "$$ \\rightarrow 3,88e^{j62,85^\\circ} = (1,77 + j3,45) \\, \\Omega $$"
   ]
  },
  {
   "cell_type": "markdown",
   "id": "13b84427-0b08-470c-bf84-70de4ee08333",
   "metadata": {},
   "source": [
    "3) $[(Z_4 + Z_3) || Z_2] + Z_1 $"
   ]
  },
  {
   "cell_type": "markdown",
   "id": "9eb684de-cab2-451b-be99-0e097e7adeac",
   "metadata": {},
   "source": [
    "<img src=\"img/tp3e1-8.png\" alt=\"tp3e1-8.png\">"
   ]
  },
  {
   "cell_type": "markdown",
   "id": "0b1dd8b1-f1a9-474d-88c2-b81fbdbf6d95",
   "metadata": {},
   "source": [
    "$$ Z_{eq} = (1,77 + j3,45) + (5 + j0) = (6,77 + j3,45) \\, \\Omega \\quad \\rightarrow 7,60e^{j27^\\circ} \\, \\Omega $$"
   ]
  },
  {
   "cell_type": "markdown",
   "id": "90c8bdd6-106d-4e04-a7df-3d92dc298715",
   "metadata": {},
   "source": [
    "<img src=\"img/tp3e1-5.png\" alt=\"tp3e1-5.png\">"
   ]
  },
  {
   "cell_type": "markdown",
   "id": "f72ffa2a-60f2-4927-a3f6-c33934f6047c",
   "metadata": {},
   "source": [
    "__Cálculo  de $I_t$__\n",
    "$$ I_t = \\frac{U}{Z_{eq}} = \\frac{55,8e^{-j17,4^\\circ}}{7,60e^{j27}} = 7,34e^{-j44,4^\\circ} \\, \\mathrm{A} $$"
   ]
  },
  {
   "cell_type": "markdown",
   "id": "244735ca-84e5-42f4-ba75-adb2b45ceb35",
   "metadata": {},
   "source": [
    "__Cálculo de $V_{Z1}$__"
   ]
  },
  {
   "cell_type": "markdown",
   "id": "f07b26cf-997d-4b0d-a2e6-be2736113bc7",
   "metadata": {},
   "source": [
    "$$ V_{Z_1} = I_t Z_1 = 7,34e^{-j44,4^\\circ} 5e^{j0^\\circ} = 36,7e^{-j44,4^\\circ} \\, \\mathrm{V} $$"
   ]
  },
  {
   "cell_type": "markdown",
   "id": "eda16fd0-9d29-487e-be92-4ec909c6881b",
   "metadata": {},
   "source": [
    "__Cálculo de $V_{Z_2}$__"
   ]
  },
  {
   "cell_type": "markdown",
   "id": "30b1d7d2-fb02-45a1-bb05-634f905af0df",
   "metadata": {},
   "source": [
    "$$ V_{Z_2} = V - V_{Z_1} = (27,02 + j9,01) \\, \\mathrm{V} \\quad \\rightarrow 28,48e^{18,44^\\circ} \\, \\mathrm{V} $$"
   ]
  },
  {
   "cell_type": "markdown",
   "id": "9fe19580-7bd6-4dbd-89d2-f04392d69b05",
   "metadata": {},
   "source": [
    "__Cálculo de $I_3$__"
   ]
  },
  {
   "cell_type": "markdown",
   "id": "7a5a9608-d882-4427-9cdf-c416ed7c3f0b",
   "metadata": {},
   "source": [
    "$$ I_3 = \\frac{V_{Z_2}}{Z_3 + Z_4} = \\frac{28,48e^{j18,44^\\circ}}{\\sqrt{68}e^{j14}} = 3,45e^{j4,40^\\circ} \\, \\mathrm{V} $$"
   ]
  },
  {
   "cell_type": "markdown",
   "id": "851d55af-3680-4f8f-8670-230b3afdaf33",
   "metadata": {},
   "source": [
    "<div class=\"alert-info\"><strong>Cálculo de $V_{th}$</strong>\n",
    "$$ V_{th} = V_{AB} = V_{Z_4} = I_3 Z_4 = 20,72 e^{j4,40^\\circ} \\, \\mathrm{V}$$\n",
    "    </div>"
   ]
  },
  {
   "cell_type": "markdown",
   "id": "79470e6c-585c-450b-b28e-8f623ef84e0c",
   "metadata": {},
   "source": [
    "### Usando python para calcular (opcional)"
   ]
  },
  {
   "cell_type": "code",
   "execution_count": 1,
   "id": "2b599262-924b-4042-9516-ba87ad1de092",
   "metadata": {},
   "outputs": [],
   "source": [
    "import math, cmath"
   ]
  },
  {
   "cell_type": "code",
   "execution_count": 2,
   "id": "1acf41a4-22c7-4a47-8efe-b7580a0dd275",
   "metadata": {},
   "outputs": [],
   "source": [
    "# Datos:\n",
    "U = cmath.rect(55.8, math.radians(-17.4) )\n",
    "Z1 = 5 + 0j\n",
    "Z2 = 0 + 5j\n",
    "Z3 = 2 + 2j\n",
    "Z4 = 6 + 0j"
   ]
  },
  {
   "cell_type": "code",
   "execution_count": 3,
   "id": "dbbc02b7-f308-46bc-a788-f9af140498e4",
   "metadata": {},
   "outputs": [],
   "source": [
    "# Cálculo de Z1 || Z2\n",
    "ans1 = (Z1*Z2)/(Z1+Z2)\n",
    "\n",
    "# Cálculo de (Z1 || Z2) || Z3\n",
    "ans2 = ans1 + Z3\n",
    "\n",
    "# Cálculo de Zth\n",
    "Zth = (ans2*Z4)/(ans2 + Z4)\n",
    "Zthpol = cmath.polar(Zth)\n",
    "\n",
    "# Cálculo de Z3 + Z4\n",
    "ans3 = Z4 + Z3\n",
    "\n",
    "# Cálculo (Z4 + Z3) || Z2 \n",
    "ans4 = (ans3*Z2)/(ans3 + Z2)\n",
    "\n",
    "# Cálculo de Zeq\n",
    "Zeq = ans4 + Z1\n",
    "\n",
    "# Cálculo de It\n",
    "It = U/Zeq\n",
    "\n",
    "# Cálculo de V_z1\n",
    "V_z1 = It * Z1\n",
    "\n",
    "# Cálculo de V_z2\n",
    "V_z2 = U - V_z1\n",
    "\n",
    "# Cálculo de I3\n",
    "I3 = V_z2/(Z3 + Z4)\n",
    "I3pol = cmath.polar(I3)\n",
    "\n",
    "# Cálculo de Vth\n",
    "Vth = I3*Z4\n",
    "Vth_pol = cmath.polar(Vth)"
   ]
  },
  {
   "cell_type": "code",
   "execution_count": 4,
   "id": "cb4f42a9-3edd-4b36-a4ab-c7736b162746",
   "metadata": {},
   "outputs": [
    {
     "name": "stdout",
     "output_type": "stream",
     "text": [
      "Resultados:\n",
      "-----------------------------------------\n",
      "Zth = (3.34 < 21.80°) Ohm\n",
      "Zth = 3.10+1.24j Ohm\n",
      "-----------------------------------------\n",
      "Vth = (20.72 < 4.40°) V\n",
      "Vth = 20.66+1.59j V\n",
      "-----------------------------------------\n"
     ]
    }
   ],
   "source": [
    "print('Resultados:')\n",
    "print('-----------------------------------------')\n",
    "print('Zth = (%.2f < %.2f°) Ohm'%(Zthpol[0], math.degrees(Zthpol[1]) ) )\n",
    "print('Zth = {:.2f} Ohm'.format(Zth))\n",
    "print('-----------------------------------------')\n",
    "print('Vth = (%.2f < %.2f°) V'%(Vth_pol[0], math.degrees(Vth_pol[1]) ))\n",
    "print('Vth = {:.2f} V'.format(Vth))\n",
    "print('-----------------------------------------')"
   ]
  },
  {
   "cell_type": "code",
   "execution_count": 5,
   "id": "14e43812-3608-4b9a-b632-dc26742642d3",
   "metadata": {},
   "outputs": [],
   "source": [
    "%reset -s -f"
   ]
  }
 ],
 "metadata": {
  "kernelspec": {
   "display_name": "Python 3 (ipykernel)",
   "language": "python",
   "name": "python3"
  },
  "language_info": {
   "codemirror_mode": {
    "name": "ipython",
    "version": 3
   },
   "file_extension": ".py",
   "mimetype": "text/x-python",
   "name": "python",
   "nbconvert_exporter": "python",
   "pygments_lexer": "ipython3",
   "version": "3.9.12"
  }
 },
 "nbformat": 4,
 "nbformat_minor": 5
}
