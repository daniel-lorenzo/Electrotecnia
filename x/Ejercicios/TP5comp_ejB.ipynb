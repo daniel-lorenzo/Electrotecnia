{
 "cells": [
  {
   "cell_type": "markdown",
   "id": "61fad46e-9911-4a51-90f4-94aa56a968bb",
   "metadata": {},
   "source": [
    "# TP N°5 - Circuitos trifásicos - ejercicios complementarios\n",
    "__U.N.L.Z. - Facultad de Ingeniería__       \n",
    "__Electrotecnia__      \n",
    "__Alumno:__ Daniel Antonio Lorenzo       "
   ]
  },
  {
   "cell_type": "markdown",
   "id": "eb8ca37a-0be8-4764-b4d4-a934e23e8c4c",
   "metadata": {},
   "source": [
    "## Ejercicio B\n",
    "Dada la carga de la figura calcular:\n",
    "1. La tensión $U_{pat} = V_{on}$, sobre la resistencia de puesta a tierra $(R_{pat})$.\n",
    "2. La potencia trifásica"
   ]
  },
  {
   "cell_type": "markdown",
   "id": "b5e77be1-51f0-477d-9c65-56a4ff720d0f",
   "metadata": {},
   "source": [
    "<img src=\"img/tp4cej-b-1.png\">\n",
    "\n",
    "$\\begin{array}{l}\n",
    "Z_a = Z_b = 20 + j0 \\, \\Omega \\\\\n",
    "Z_c = 10 + j0 \\, \\Omega\n",
    "\\end{array}$\n",
    "\n",
    "$R_{pat} =$ Resistencia de puesta a tierra $= 5 \\, \\Omega$"
   ]
  },
  {
   "cell_type": "markdown",
   "id": "a45c07bb-1fb8-4943-825f-9874c69c5208",
   "metadata": {},
   "source": [
    "__Secuencia a-b-c__\n",
    "\n",
    "<img src=\"img/tp4cej-b-2.png\">"
   ]
  },
  {
   "cell_type": "markdown",
   "id": "b8097e2e-a0d8-4b44-b281-66d7e7cf07cb",
   "metadata": {},
   "source": [
    "### Solución"
   ]
  },
  {
   "cell_type": "markdown",
   "id": "03f39984-5d1c-4e5a-b036-991112269657",
   "metadata": {},
   "source": [
    "Tensiones de generación:\n",
    "\n",
    "$\\begin{array}{l}\n",
    "E_{an} = 400/\\sqrt{3} \\angle 0^\\circ \\, \\mathrm{V} \\\\\n",
    "E_{bn} = 400/\\sqrt{3} \\angle -120^\\circ \\, \\mathrm{V} \\\\\n",
    "E_{cn} = 400/\\sqrt{3} \\angle 120^\\circ \\, \\mathrm{V}\n",
    "\\end{array}$"
   ]
  },
  {
   "cell_type": "markdown",
   "id": "7d51e52a-a36a-4dab-95b8-373e63e57cdf",
   "metadata": {},
   "source": [
    "Impedancias de carga:\n",
    "\n",
    "$\\begin{array}{l}\n",
    "Z_a = 20 \\, \\Omega \\\\\n",
    "Z_b = Z_a \\\\\n",
    "Z_c = 10 \\, \\Omega \\\\\n",
    "Z_n = 5 \\, \\Omega\n",
    "\\end{array}$"
   ]
  },
  {
   "cell_type": "markdown",
   "id": "bc06cffd-6f22-42ed-b922-b0010f19ee8e",
   "metadata": {},
   "source": [
    "Cálculo de admitancias:\n",
    "\n",
    "$$ Y_a = \\frac{1}{Z_a} \\quad ; \\quad Y_b = \\frac{1}{Z_b} \\quad ; \\quad Y_c = \\frac{1}{Z_c} \\quad ; \\quad Y_n = \\frac{1}{Z_n} $$\n",
    "\n",
    "$$ Y_a = \\frac{1}{20 \\, \\Omega} \\quad ; \\quad Y_b = \\frac{1}{20 \\, \\Omega} \\quad ; \\quad Y_c = \\frac{1}{10 \\, \\Omega} \\quad ; \\quad Y_n = \\frac{1}{5 \\, \\Omega} $$"
   ]
  },
  {
   "cell_type": "markdown",
   "id": "eb9fc26a-07a3-47ab-a52a-66989dcfc1d9",
   "metadata": {},
   "source": [
    "Cálculo de tensión de neutro:\n",
    "\n",
    "$$ V_{on} = \\frac{E_{an} Y_a + E_{bn} Y_b + E_{cn} Y_c}{Y_a + Y_b + Y_c + Y_n} = 28,87 \\angle 120^\\circ \\, \\mathrm{V} $$"
   ]
  },
  {
   "cell_type": "markdown",
   "id": "852e70a3-b24e-49ad-8645-77b142778308",
   "metadata": {},
   "source": [
    "Cálculo de tensiones de fase:\n",
    "\n",
    "$\\begin{array}{l}\n",
    "U_{ao} = E_{an} - V_{on} = 246,64 \\angle -5,82^\\circ \\, \\mathrm{V} \\\\\n",
    "U_{bo} = E_{bn} - V_{on} = 246,64 \\angle -114,18^\\circ \\, \\mathrm{V} \\\\\n",
    "U_{co} = E_{cn} - V_{on} = 246,64 \\angle 120^\\circ \\, \\mathrm{V}\n",
    "\\end{array}$"
   ]
  },
  {
   "cell_type": "markdown",
   "id": "4f586676-7434-438e-82e7-11d60bd44c0e",
   "metadata": {},
   "source": [
    "Cálculo de corrientes de fase:\n",
    "\n",
    "$$ I_a = \\frac{U_{ao}}{Z_a} = 12,33 \\angle -5,82^\\circ \\, \\mathrm{A}  $$"
   ]
  },
  {
   "cell_type": "markdown",
   "id": "736c42b5-5db8-44c0-bbae-7eba93f170a4",
   "metadata": {},
   "source": [
    "$$I_b = \\frac{U_{bo}}{Z_b} = 12,33 \\angle -114,18^\\circ \\, \\mathrm{A}$$"
   ]
  },
  {
   "cell_type": "markdown",
   "id": "0f2e2f65-b6ac-4025-8e91-6b2b0df03e86",
   "metadata": {},
   "source": [
    "$$ I_c = \\frac{U_{co}}{Z_c} = 20,21 \\angle 120^\\circ \\mathrm{A} $$"
   ]
  },
  {
   "cell_type": "markdown",
   "id": "028811a8-02ea-4146-a332-32094569dc94",
   "metadata": {},
   "source": [
    "Cálculo de corriente de neutro\n",
    "\n",
    "$$ I_\\mathrm{neutro} = I_a + I_b + I_c = 5,77 \\angle 120^\\circ \\, \\mathrm{A} $$"
   ]
  },
  {
   "cell_type": "markdown",
   "id": "156479d2-293a-4903-b95e-5a0fbddeca00",
   "metadata": {},
   "source": [
    "Cálculo de potencia aparente:\n",
    "\n",
    "$\\begin{array}{l}\n",
    "S_a = U_{ao} \\times I_a^\\ast = 3041,67 + j0 \\, \\mathrm{VA} \\\\\n",
    "S_b = U_{bo} \\times I_b^\\ast = 3041,67 + j0 \\, \\mathrm{VA} \\\\\n",
    "S_c = U_{co} \\times I_c^\\ast = 4083,33 + j0 \\, \\mathrm{VA}\n",
    "\\end{array}$"
   ]
  },
  {
   "cell_type": "markdown",
   "id": "886464bf-2a0e-4ca1-912a-fdea81b72b96",
   "metadata": {},
   "source": [
    "Potencia activa:\n",
    "\n",
    "$\\begin{array}{l}\n",
    "P_a = |S_a| \\cos \\varphi_a = 3041,67 \\, \\mathrm{W} \\\\\n",
    "P_b = |S_b| \\cos \\varphi_b = 3041,67 \\, \\mathrm{W} \\\\\n",
    "P_c = |S_c| \\cos \\varphi_c = 4083,33 \\, \\mathrm{W}\n",
    "\\end{array}$"
   ]
  },
  {
   "cell_type": "markdown",
   "id": "38bc0b37-1164-4a1e-860b-e0f75c791019",
   "metadata": {},
   "source": [
    "Potencia reactiva:\n",
    "\n",
    "$\\begin{array}{l}\n",
    "Q_a = |S_a| \\sin \\varphi_a = 0 \\, \\mathrm{VAr} \\\\\n",
    "Q_b = |S_b| \\sin \\varphi_b = 0 \\, \\mathrm{VAr} \\\\\n",
    "Q_c = |S_c| \\sin \\varphi_c = 0 \\, \\mathrm{VAr}\n",
    "\\end{array}$"
   ]
  },
  {
   "cell_type": "markdown",
   "id": "9e525d30-547b-476b-a230-50e03304f1f6",
   "metadata": {},
   "source": [
    "Potencia trifásica aparente:\n",
    "\n",
    "$$ S_\\mathrm{trif} = S_a + S_b + S_c $$\n",
    "$$ S_\\mathrm{trif} = 10166,7 + j0 \\, \\mathrm{VA} $$"
   ]
  },
  {
   "cell_type": "markdown",
   "id": "87be5712-fd4a-486a-b698-bfc53586bfbe",
   "metadata": {},
   "source": [
    "Potencia trifásica activa:\n",
    "\n",
    "$$ P_\\mathrm{trif} = |S_\\mathrm{trif}| \\cos \\varphi_t = \\mathrm{real}(S_\\mathrm{trif}) $$\n",
    "$$ P_\\mathrm{trif} = 10166,7 \\, \\mathrm{W} $$"
   ]
  },
  {
   "cell_type": "markdown",
   "id": "ee6d7423-22ae-4a7f-91f6-8921700a9a5e",
   "metadata": {},
   "source": [
    "Potencia trifásica reactiva:\n",
    "\n",
    "$$ Q_\\mathrm{trif} = |S_\\mathrm{trif}| \\sin  \\varphi_t = \\mathrm{imag}(S_\\mathrm{trif}) $$\n",
    "$$ Q_\\mathrm{trif} = 0 \\, \\mathrm{VAr} $$"
   ]
  },
  {
   "cell_type": "markdown",
   "id": "53f3b567-277e-449e-8410-58a166b4f41a",
   "metadata": {},
   "source": [
    "<mark><strong>Resolución en Python 3</strong></mark>"
   ]
  },
  {
   "cell_type": "code",
   "execution_count": 8,
   "id": "1b8560e3-21d1-4929-b366-5680db730388",
   "metadata": {},
   "outputs": [],
   "source": [
    "import numpy as np\n",
    "import cmath"
   ]
  },
  {
   "cell_type": "code",
   "execution_count": 9,
   "id": "ee4eb708-4ee1-4688-a74f-094039b05bad",
   "metadata": {},
   "outputs": [],
   "source": [
    "# Datos\n",
    "E_lin  = 400             # V     Tensión de línea\n",
    "E_fase = 400/np.sqrt(3)  # V     Tensión de fase\n",
    "# Tensiones de generación\n",
    "Ean = cmath.rect(E_fase, np.deg2rad(0) )\n",
    "Ebn = cmath.rect(E_fase, np.deg2rad(-120))\n",
    "Ecn = cmath.rect(E_fase, np.deg2rad(120))\n",
    "# Impedancias de carga\n",
    "Za = 20\n",
    "Zb = Za\n",
    "Zc = 10\n",
    "Zn = 5 # Ohm"
   ]
  },
  {
   "cell_type": "code",
   "execution_count": 10,
   "id": "93cdf0e4-14a5-48e8-ad8b-4f179786ed7b",
   "metadata": {},
   "outputs": [],
   "source": [
    "# Cálculo de admitancias\n",
    "Ya = 1/Za\n",
    "Yb = 1/Zb\n",
    "Yc = 1/Zc\n",
    "Yn = 1/Zn\n",
    "# Cálculo de tensión de neutro\n",
    "Von = (Ean*Ya + Ebn*Yb + Ecn*Yc)/(Ya + Yb + Yc + Yn)\n",
    "# Tensiones de fase\n",
    "Uao = Ean - Von\n",
    "Ubo = Ebn - Von\n",
    "Uco = Ecn - Von\n",
    "# Tensiones de línea\n",
    "Uab = Ebn - Ean\n",
    "Ubc = Ecn - Ebn\n",
    "Uca = Ean - Ecn\n",
    "# Cálculo de corrientes de fase\n",
    "Ia = Uao/Za\n",
    "Ib = Ubo/Zb\n",
    "Ic = Uco/Zc\n",
    "# Corriente de neutro\n",
    "I_neutro = Ia + Ib + Ic\n",
    "# Potencia aparente\n",
    "Sa = Uao*Ia.conjugate()\n",
    "Sb = Ubo*Ib.conjugate()\n",
    "Sc = Uco*Ic.conjugate()\n",
    "# Potencia real\n",
    "Pa = Sa.real\n",
    "Pb = Sb.real\n",
    "Pc = Sc.real\n",
    "# Potencia reactiva\n",
    "Qa = Sa.imag\n",
    "Qb = Sb.imag\n",
    "Qc = Sc.imag\n",
    "# Potencia trifásica aparente \n",
    "Strif = Sa + Sb + Sc\n",
    "# Potencia trifásica real\n",
    "Ptrif = Strif.real\n",
    "# Potencia trifásica reactiva\n",
    "Qtrif = Strif.imag"
   ]
  },
  {
   "cell_type": "code",
   "execution_count": 11,
   "id": "0244b031-0bbb-4eb9-b49b-cb9c363c6db5",
   "metadata": {
    "jupyter": {
     "source_hidden": true
    },
    "tags": []
   },
   "outputs": [
    {
     "name": "stdout",
     "output_type": "stream",
     "text": [
      "Resultados:\n",
      "\n",
      "* ítem 1)\n",
      "---------------------------------\n",
      "Tensión de neutro:\n",
      "Von = Upat = (28.87 ∠ 120.00°) V\n",
      "---------------------------------\n",
      "\n",
      "Tensiones de fase:\n",
      "Uao = (246.64 ∠ -5.82°) V\n",
      "Ubo = (246.64 ∠ -114.18°) V\n",
      "Uco = (246.64 ∠ 120.00°) V\n",
      "Corrientes de fase:\n",
      "Ia = (12.33 ∠ -5.82°) A\n",
      "Ib = (12.33 ∠ -114.18°) A\n",
      "Ic = (20.21 ∠ 120.00°) A\n",
      "Corriente de neutro:\n",
      "I_neutro = (5.77 ∠ 120.00°) A\n",
      "Potencia aparente:\n",
      "Sa = 3041.67+0.00j VA = (3041.67 ∠ 0.00°) VA\n",
      "Sb = 3041.67+0.00j VA = (3041.67 ∠ 0.00°) VA\n",
      "Sc = 4083.33-0.00j VA = (4083.33 ∠ -0.00°) VA\n",
      "Potencia activa:\n",
      "Pa = 3041.67 W\n",
      "Pb = 3041.67 W\n",
      "Pc = 4083.33 W\n",
      "Potencia reactiva:\n",
      "Qa = 0.00 VAr\n",
      "Qb = 0.00 VAr\n",
      "Qc = -0.00 VAr\n",
      "\n",
      "* ítem 2)\n",
      "---------------------------------------------------\n",
      "Potencia trifásica aparente:\n",
      "Strif = 10166.67-0.00j VA = (10166.67 ∠ -0.00°) VA\n",
      "Potencia trifásica activa:\n",
      "Ptrif = 10166.67 W\n",
      "Potencia trifásica reactiva:\n",
      "Qtrif = -0.00 VAr\n",
      "---------------------------------------------------\n"
     ]
    }
   ],
   "source": [
    "## Imprime resultados\n",
    "print('Resultados:')\n",
    "print()\n",
    "print('* ítem 1)')\n",
    "print('---------------------------------')\n",
    "print('Tensión de neutro:')\n",
    "print('Von = Upat = (%.2f ∠ %.2f°) V'%(abs(Von) , np.rad2deg(cmath.phase(Von)) ))\n",
    "print('---------------------------------')\n",
    "print()\n",
    "print('Tensiones de fase:')\n",
    "print('Uao = (%.2f ∠ %.2f°) V'%(abs(Uao) , np.rad2deg(cmath.phase(Uao)) ))\n",
    "print('Ubo = (%.2f ∠ %.2f°) V'%(abs(Uao) , np.rad2deg(cmath.phase(Ubo)) ))\n",
    "print('Uco = (%.2f ∠ %.2f°) V'%(abs(Uao) , np.rad2deg(cmath.phase(Uco)) ))\n",
    "print('Corrientes de fase:')\n",
    "print('Ia = (%.2f ∠ %.2f°) A'%(abs(Ia) , np.rad2deg( cmath.phase(Ia) ) ))\n",
    "print('Ib = (%.2f ∠ %.2f°) A'%(abs(Ib) , np.rad2deg( cmath.phase(Ib) ) ))\n",
    "print('Ic = (%.2f ∠ %.2f°) A'%(abs(Ic) , np.rad2deg( cmath.phase(Ic) ) ))\n",
    "print('Corriente de neutro:')\n",
    "print('I_neutro = (%.2f ∠ %.2f°) A'%(abs(I_neutro), np.rad2deg(cmath.phase(I_neutro)) ))\n",
    "print('Potencia aparente:')\n",
    "print('Sa = {:.2f} VA = (%.2f ∠ %.2f°) VA'.format(Sa)%(abs(Sa) , np.rad2deg( cmath.phase(Sa) ) ))\n",
    "print('Sb = {:.2f} VA = (%.2f ∠ %.2f°) VA'.format(Sb)%(abs(Sb) , np.rad2deg( cmath.phase(Sb) ) ))\n",
    "print('Sc = {:.2f} VA = (%.2f ∠ %.2f°) VA'.format(Sc)%(abs(Sc) , np.rad2deg( cmath.phase(Sc) ) ))\n",
    "print('Potencia activa:')\n",
    "print('Pa = %.2f W'%Pa)\n",
    "print('Pb = %.2f W'%Pb)\n",
    "print('Pc = %.2f W'%Pc)\n",
    "print('Potencia reactiva:')\n",
    "print('Qa = %.2f VAr'%Qa)\n",
    "print('Qb = %.2f VAr'%Qb)\n",
    "print('Qc = %.2f VAr'%Qc)\n",
    "print()\n",
    "print('* ítem 2)')\n",
    "print('---------------------------------------------------')\n",
    "print('Potencia trifásica aparente:')\n",
    "print('Strif = {:.2f} VA = (%.2f ∠ %.2f°) VA'.format(Strif)%(abs(Strif) , np.rad2deg( cmath.phase(Strif) ) ))\n",
    "print('Potencia trifásica activa:')\n",
    "print('Ptrif = %.2f W'%Ptrif)\n",
    "print('Potencia trifásica reactiva:')\n",
    "print('Qtrif = %.2f VAr'%Qtrif)\n",
    "print('---------------------------------------------------')"
   ]
  },
  {
   "cell_type": "markdown",
   "id": "5b1bbc27-ff5a-41a4-b307-b0837995a1ba",
   "metadata": {},
   "source": [
    "### Graficando con matplotlib"
   ]
  },
  {
   "cell_type": "code",
   "execution_count": 12,
   "id": "05be3e59-99a1-4b61-badc-a6b2af8d23b3",
   "metadata": {},
   "outputs": [],
   "source": [
    "import matplotlib\n",
    "import matplotlib.pyplot as plt"
   ]
  },
  {
   "cell_type": "code",
   "execution_count": 13,
   "id": "8592e148-0232-43ec-afbe-6f833cd84529",
   "metadata": {
    "jupyter": {
     "source_hidden": true
    },
    "tags": []
   },
   "outputs": [
    {
     "data": {
      "image/png": "[encoded data removed]",
      "text/plain": [
       "<Figure size 576x576 with 1 Axes>"
      ]
     },
     "metadata": {
      "needs_background": "light"
     },
     "output_type": "display_data"
    },
    {
     "name": "stdout",
     "output_type": "stream",
     "text": [
      "Tensiones de generación:\n",
      "Ean = 230.94+0.00j  V = (230.94 < 0.00°) V\n",
      "Ebn = -115.47-200.00j  V = (230.94 < -120.00°) V\n",
      "Ecn = -115.47+200.00j  V = (230.94 < 120.00°) V\n",
      "Tensiones compuestas:\n",
      "Uab = -346.41-200.00j  V = (400.00 < -150.00°) V\n",
      "Ubc = 0.00+400.00j  V = (400.00 < 90.00°) V\n",
      "Uca = 346.41-200.00j  V = (230.94 < -30.00°) V\n",
      "Tensión de desplazamiento de neutro:\n",
      "Von = -14.43+25.00j  V = (28.87 < 120.00°) V\n",
      "Tensiones de fase:\n",
      "Uao =  245.37-25.00j V = (246.64 < -5.82°) V\n",
      "Ubo = -101.04-225.00j V = (246.64 < -114.18°) V\n",
      "Uco = -101.04+175.00j V = (202.07 < 120.00°) V\n"
     ]
    }
   ],
   "source": [
    "%matplotlib inline\n",
    "plt.figure(figsize=(8,8))\n",
    "ax = plt.gca()\n",
    "ax.quiver(0,0,Ean.real,Ean.imag,angles='xy',scale_units='xy',scale=1)\n",
    "ax.quiver(0,0,Ebn.real,Ebn.imag,angles='xy',scale_units='xy',scale=1)\n",
    "ax.quiver(0,0,Ecn.real,Ecn.imag,angles='xy',scale_units='xy',scale=1)\n",
    "ax.quiver(Von.real,Von.imag,Uao.real,Uao.imag,width=0.005,angles='xy',scale_units='xy',scale=1,color='blue')\n",
    "ax.quiver(Von.real,Von.imag,Ubo.real,Ubo.imag,width=0.005,angles='xy',scale_units='xy',scale=1,color='blue')\n",
    "ax.quiver(Von.real,Von.imag,Uco.real,Uco.imag,width=0.005,angles='xy',scale_units='xy',scale=1,color='blue')\n",
    "ax.quiver(0,0,Von.real,Von.imag,angles='xy',scale_units='xy',scale=1,color='green')\n",
    "ax.quiver(Ean.real,Ean.imag,Uab.real,Uab.imag,angles='xy',scale_units='xy',scale=1,color='red')\n",
    "ax.quiver(Ecn.real,Ecn.imag,Uca.real,Uca.imag,angles='xy',scale_units='xy',scale=1,color='red')\n",
    "ax.quiver(Ebn.real,Ebn.imag,Ubc.real,Ubc.imag,angles='xy',scale_units='xy',scale=1,color='red')\n",
    "plt.text(Ean.real, Ean.imag, r'$E_{an} < %.1f°$'%(np.rad2deg(cmath.phase(Ean))), fontsize=14)\n",
    "plt.text(Ebn.real, Ebn.imag - 40, r'$E_{bn} < %.1f°$'%(np.rad2deg(cmath.phase(Ebn))), fontsize=14)\n",
    "plt.text(Ecn.real, Ecn.imag + 20, r'$E_{cn} < %.1f°$'%(np.rad2deg(cmath.phase(Ecn))), fontsize=14)\n",
    "plt.text(Ean.real/2, Ebn.imag/2, r'$U_{ab} < %.1f°$'%(np.rad2deg(cmath.phase(Uab))), fontsize=14,color='red')\n",
    "plt.text(Ean.real/2, Ecn.imag/2, r'$U_{ca} < %.1f°$'%(np.rad2deg(cmath.phase(Uca))), fontsize=14,color='red')\n",
    "plt.text(Ebn.real - 40, 0, r'$U_{bc} < %.1f°$'%(np.rad2deg(cmath.phase(Ubc))), fontsize=14,color='red')\n",
    "plt.text(Von.real + 20, Von.imag, r'$V_{on} < %.1f°$'%(np.rad2deg(cmath.phase(Von))), fontsize=14,color='green')\n",
    "plt.text(Uao.real + Von.real - 15, Uao.imag + Von.imag + 20, r'$U_{ao} < %.1f°$'%(np.rad2deg(cmath.phase(Uao))), fontsize=14,color='blue')\n",
    "plt.text(Ubo.real + Von.real, Ubo.imag + Von.imag - 20, r'$U_{bo} < %.1f°$'%(np.rad2deg(cmath.phase(Ubo))), fontsize=14,color='blue')\n",
    "plt.text(Uco.real + Von.real + 20, Uco.imag + Von.imag, r'$U_{co} < %.1f°$'%(np.rad2deg(cmath.phase(Uco))), fontsize=14,color='blue')\n",
    "plt.text(0, -20, r'$N$', fontsize=14,color='green')\n",
    "ax.set_aspect('equal')\n",
    "plt.title('Tensiones de fase y compuesta', fontsize=16)\n",
    "plt.xlabel('Re (Eje real)',  fontsize=16)\n",
    "plt.ylabel('Im (Eje imaginario)',  fontsize=16)\n",
    "plt.grid(linestyle=\":\")\n",
    "ax.set_axisbelow(True)\n",
    "ax.set_xlim([-200,300])\n",
    "ax.set_ylim([-250,250])\n",
    "#plt.draw()\n",
    "plt.show()\n",
    "print('Tensiones de generación:')\n",
    "print('Ean = {:.2f}  V = (%.2f < %.2f°) V'.format(Ean)%(abs(Ean), np.rad2deg(cmath.phase(Ean)) ))\n",
    "print('Ebn = {:.2f}  V = (%.2f < %.2f°) V'.format(Ebn)%(abs(Ebn), np.rad2deg(cmath.phase(Ebn)) ))\n",
    "print('Ecn = {:.2f}  V = (%.2f < %.2f°) V'.format(Ecn)%(abs(Ecn), np.rad2deg(cmath.phase(Ecn)) ))\n",
    "print('Tensiones compuestas:')\n",
    "print('Uab = {:.2f}  V = (%.2f < %.2f°) V'.format(Uab)%(abs(Uab), np.rad2deg(cmath.phase(Uab)) ))\n",
    "print('Ubc = {:.2f}  V = (%.2f < %.2f°) V'.format(Ubc)%(abs(Ubc), np.rad2deg(cmath.phase(Ubc)) ))\n",
    "print('Uca = {:.2f}  V = (%.2f < %.2f°) V'.format(Uca)%(abs(Ecn), np.rad2deg(cmath.phase(Uca)) ))\n",
    "print('Tensión de desplazamiento de neutro:')\n",
    "print('Von = {:.2f}  V = (%.2f < %.2f°) V'.format(Von)%(abs(Von), np.rad2deg(cmath.phase(Von)) ))\n",
    "print('Tensiones de fase:')\n",
    "print('Uao =  {:.2f} V = (%.2f < %.2f°) V'.format(Uao)%(abs(Uao), np.rad2deg(cmath.phase(Uao)) ))\n",
    "print('Ubo = {:.2f} V = (%.2f < %.2f°) V'.format(Ubo)%(abs(Ubo), np.rad2deg(cmath.phase(Ubo)) ))\n",
    "print('Uco = {:.2f} V = (%.2f < %.2f°) V'.format(Uco)%(abs(Uco), np.rad2deg(cmath.phase(Uco)) ))"
   ]
  }
 ],
 "metadata": {
  "kernelspec": {
   "display_name": "Python 3 (ipykernel)",
   "language": "python",
   "name": "python3"
  },
  "language_info": {
   "codemirror_mode": {
    "name": "ipython",
    "version": 3
   },
   "file_extension": ".py",
   "mimetype": "text/x-python",
   "name": "python",
   "nbconvert_exporter": "python",
   "pygments_lexer": "ipython3",
   "version": "3.9.12"
  }
 },
 "nbformat": 4,
 "nbformat_minor": 5
}
