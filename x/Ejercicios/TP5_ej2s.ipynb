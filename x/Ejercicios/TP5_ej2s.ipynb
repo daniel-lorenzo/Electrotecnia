{
 "cells": [
  {
   "cell_type": "markdown",
   "id": "a6f86d53-c6c9-4799-a4fb-5b4326f380d2",
   "metadata": {},
   "source": [
    "# TP N°5 - Circuitos trifásicos\n",
    "__U.N.L.Z. - Facultad de Ingeniería__       \n",
    "__Electrotecnia__      \n",
    "__Alumno:__ Daniel Antonio Lorenzo       \n",
    "<mark><strong>(Resolución en python3)</strong></mark>"
   ]
  },
  {
   "cell_type": "markdown",
   "id": "6ebad50e-cf2d-4fc3-a212-8c0513ba9b9e",
   "metadata": {},
   "source": [
    "## Problema N°2\n",
    "Un sistema trifásico CBA (secuencia inversa o indirecta 3x380V (tensión eficaz compuesta o de línea), de 4 conductores (tetrafilar), alimenta una carga trifásica conectada en estrella."
   ]
  },
  {
   "cell_type": "markdown",
   "id": "bfa52907-baf1-4d2f-92ee-f1e9c2af1315",
   "metadata": {},
   "source": [
    "El valor de cada impedancia es de 20 Ohm con ángulo de desfasaje de 30° capacitivo."
   ]
  },
  {
   "cell_type": "markdown",
   "id": "8885620c-df5c-40e3-bea8-674e0c822497",
   "metadata": {},
   "source": [
    "1. Calcular las corrientes $I_r, \\, I_s, \\, I_t, \\, I_\\mathrm{neutro}$, representar diagrama fasorial de tensiones y corrientes.\n",
    "2. Determinar la potencia por fase y trifásica."
   ]
  },
  {
   "cell_type": "markdown",
   "id": "9fea41bd-c33a-4948-8f6a-e518f1f12692",
   "metadata": {},
   "source": [
    "<img src=\"img/tp5ej2.png\">"
   ]
  },
  {
   "cell_type": "markdown",
   "id": "afbd441a-de01-419a-9442-58c893185df2",
   "metadata": {},
   "source": [
    "### Solución"
   ]
  },
  {
   "cell_type": "markdown",
   "id": "ed7e439f-c192-4ce2-be5b-5973a02edf30",
   "metadata": {},
   "source": [
    "* Las tensiones de generación las denominaremos con la letra E, $E_{an}, \\, E_{bn}, \\, E_{cn}$\n",
    "* Las caídas de tensión en las impedancias de carga las denominamos con la letra U, $U_{ao}, \\; U_{bo}, \\, U_{co}$\n",
    "* Las corrientes que circulan por la carga las denominamos con la letra I, $I_a, \\, I_b \\, I_c$"
   ]
  },
  {
   "cell_type": "markdown",
   "id": "3809fc31-d0fa-4c3f-a084-95d53d23f1b7",
   "metadata": {},
   "source": [
    "La corriente que circula por el cuarto conductor, que une el centro de estrella del generador (n) y el neutro de la carga (o), se denomina corriente de neutro, $I_\\mathrm{neutro}$"
   ]
  },
  {
   "cell_type": "code",
   "execution_count": 1,
   "id": "ac23679d-d811-4343-ad3c-3e16d7268154",
   "metadata": {},
   "outputs": [],
   "source": [
    "import numpy as np\n",
    "import cmath"
   ]
  },
  {
   "cell_type": "code",
   "execution_count": 2,
   "id": "1ee27ba3-db83-4e03-9abb-be2c7969b2ea",
   "metadata": {},
   "outputs": [],
   "source": [
    "# Datos\n",
    "E_lin = 380 # V                  Tensión de línea\n",
    "E_fase = E_lin/np.sqrt(3)  #     Tensión de fase\n",
    "# Tensiones de generación\n",
    "Ean = cmath.rect(E_fase, np.deg2rad(0) )\n",
    "Ebn = cmath.rect(E_fase, np.deg2rad(120))\n",
    "Ecn = cmath.rect(E_fase, np.deg2rad(240))\n",
    "# Tensiones en las impedancias de carga\n",
    "Uao = Ean\n",
    "Ubo = Ebn\n",
    "Uco = Ecn\n",
    "# Impedancias de carga\n",
    "Za = cmath.rect(20, np.deg2rad(-30) )\n",
    "Zb = Za\n",
    "Zc = Za"
   ]
  },
  {
   "cell_type": "code",
   "execution_count": 3,
   "id": "27b839c1-b640-4865-a932-2e81d5e34e0c",
   "metadata": {},
   "outputs": [],
   "source": [
    "# Cálculo de corrientes de fase\n",
    "Ia = Uao/Za\n",
    "Ib = Ubo/Zb\n",
    "Ic = Uco/Zc\n",
    "# Corriente de neutro (sistema balanceado)\n",
    "I_neutro = Ia + Ib + Ic\n",
    "# Potencia aparente\n",
    "Sa = Uao*Ia.conjugate()\n",
    "Sb = Ubo*Ib.conjugate()\n",
    "Sc = Uco*Ic.conjugate()\n",
    "# Potencia real\n",
    "Pa = Sa.real\n",
    "Pb = Sb.real\n",
    "Pc = Sc.real\n",
    "# Potencia reactiva\n",
    "Qa = Sa.imag\n",
    "Qb = Sb.imag\n",
    "Qc = Sc.imag\n",
    "# Potencia trifásica aparente \n",
    "Strif = Sa + Sb + Sc\n",
    "# Potencia trifásica real\n",
    "Ptrif = Strif.real\n",
    "# Potencia trifásica reactiva\n",
    "Qtrif = Strif.imag"
   ]
  },
  {
   "cell_type": "code",
   "execution_count": 4,
   "id": "2febca8b-6c9a-4076-9712-aef76831154a",
   "metadata": {
    "jupyter": {
     "source_hidden": true
    },
    "tags": []
   },
   "outputs": [
    {
     "name": "stdout",
     "output_type": "stream",
     "text": [
      "Corrientes de fase:\n",
      "Ia = (10.97 ∠ 30.00°) A\n",
      "Ib = (10.97 ∠ 150.00°) A\n",
      "Ic = (10.97 ∠ -90.00°) A\n",
      "Corriente de neutro:\n",
      "I_neutro = 0.00 A\n",
      "Potencia aparente:\n",
      "Sa = 2084.23-1203.33j VA = (2406.67 ∠ -30.00°) VA\n",
      "Sb = 2084.23-1203.33j VA = (2406.67 ∠ -30.00°) VA\n",
      "Sc = 2084.23-1203.33j VA = (2406.67 ∠ -30.00°) VA\n",
      "Potencia activa:\n",
      "Pa = 2084.23 W\n",
      "Pb = 2084.23 W\n",
      "Pc = 2084.23 W\n",
      "Potencia reactiva:\n",
      "Qa = -1203.33 VAr\n",
      "Qb = -1203.33 VAr\n",
      "Qc = -1203.33 VAr\n",
      "Potencia trifásica aparente:\n",
      "Strif = 6252.70-3610.00j VA = (7220.00 ∠ -30.00°) VA\n",
      "Potencia trifásica activa:\n",
      "Ptrif = 6252.70 W\n",
      "Potencia trifásica reactiva:\n",
      "Qtrif = -3610.00 VAr\n"
     ]
    }
   ],
   "source": [
    "print('Corrientes de fase:')\n",
    "print('Ia = (%.2f ∠ %.2f°) A'%(abs(Ia) , np.rad2deg( cmath.phase(Ia) ) ))\n",
    "print('Ib = (%.2f ∠ %.2f°) A'%(abs(Ib) , np.rad2deg( cmath.phase(Ib) ) ))\n",
    "print('Ic = (%.2f ∠ %.2f°) A'%(abs(Ic) , np.rad2deg( cmath.phase(Ic) ) ))\n",
    "print('Corriente de neutro:')\n",
    "print('I_neutro = %.2f A'%abs(I_neutro))\n",
    "print('Potencia aparente:')\n",
    "print('Sa = {:.2f} VA = (%.2f ∠ %.2f°) VA'.format(Sa)%(abs(Sa) , np.rad2deg( cmath.phase(Sa) ) ))\n",
    "print('Sb = {:.2f} VA = (%.2f ∠ %.2f°) VA'.format(Sb)%(abs(Sb) , np.rad2deg( cmath.phase(Sb) ) ))\n",
    "print('Sc = {:.2f} VA = (%.2f ∠ %.2f°) VA'.format(Sc)%(abs(Sc) , np.rad2deg( cmath.phase(Sc) ) ))\n",
    "print('Potencia activa:')\n",
    "print('Pa = %.2f W'%Pa)\n",
    "print('Pb = %.2f W'%Pb)\n",
    "print('Pc = %.2f W'%Pc)\n",
    "print('Potencia reactiva:')\n",
    "print('Qa = %.2f VAr'%Qa)\n",
    "print('Qb = %.2f VAr'%Qb)\n",
    "print('Qc = %.2f VAr'%Qc)\n",
    "print('Potencia trifásica aparente:')\n",
    "print('Strif = {:.2f} VA = (%.2f ∠ %.2f°) VA'.format(Strif)%(abs(Strif) , np.rad2deg( cmath.phase(Strif) ) ))\n",
    "print('Potencia trifásica activa:')\n",
    "print('Ptrif = %.2f W'%Ptrif)\n",
    "print('Potencia trifásica reactiva:')\n",
    "print('Qtrif = %.2f VAr'%Qtrif)"
   ]
  },
  {
   "cell_type": "code",
   "execution_count": 5,
   "id": "e552bee0-d64f-4d91-8504-80eb4df98442",
   "metadata": {},
   "outputs": [],
   "source": [
    "import numpy as np\n",
    "import matplotlib.pyplot as plt"
   ]
  },
  {
   "cell_type": "code",
   "execution_count": 6,
   "id": "156f23bf-6e15-47f6-b880-4c5d67133529",
   "metadata": {
    "jupyter": {
     "source_hidden": true
    },
    "tags": []
   },
   "outputs": [
    {
     "data": {
      "image/png": "[encoded data removed]",
      "text/plain": [
       "<Figure size 504x504 with 1 Axes>"
      ]
     },
     "metadata": {
      "needs_background": "light"
     },
     "output_type": "display_data"
    }
   ],
   "source": [
    "%matplotlib inline\n",
    "plt.figure(figsize=(7,7))\n",
    "ax = plt.gca()\n",
    "ax.quiver(0,0,Pa,Qa,angles='xy',scale_units='xy',scale=1,color='red')\n",
    "ax.quiver(0,0,Pa,0,angles='xy',scale_units='xy',scale=1,color='blue')\n",
    "ax.quiver(Pa,0,0,Qa,angles='xy',scale_units='xy',scale=1,color='green')   \n",
    "plt.text(Pa - 300, Qa, r'$\\vec S$', fontsize=18, color='red', fontweight='bold')\n",
    "plt.text(Pa - 200,  100, r'$\\vec P$', fontsize=18, color='blue', fontweight='bold')\n",
    "plt.text(Pa + 100, Qa, r'$\\vec Q$', fontsize=18, color='green', fontweight='bold')\n",
    "plt.text(550,  -200, r'$\\varphi =$ %.2f°'%( np.rad2deg( cmath.phase(Sa) ) ), fontsize=14)\n",
    "theta = np.linspace(0, cmath.phase(Sa), 100) \n",
    "x1 = 500 * np.cos(theta)\n",
    "x2 = 500 * np.sin(theta)\n",
    "plt.plot(x1, x2, color='red')\n",
    "ax.set_xlim([0,2500])\n",
    "ax.set_ylim([-1500,500])\n",
    "ax.set_aspect('equal')\n",
    "plt.title('Triángulo de potencias por fase', fontsize=18)\n",
    "plt.xlabel('Re (Eje real)',  fontsize=16)\n",
    "plt.ylabel('Im (Eje imaginario)',  fontsize=16)\n",
    "plt.grid(linestyle=\":\")\n",
    "ax.set_axisbelow(True)\n",
    "plt.draw()\n",
    "plt.show()"
   ]
  },
  {
   "cell_type": "markdown",
   "id": "9fc7c5b5-1c1c-4c28-a094-8dfcc27edc5b",
   "metadata": {},
   "source": [
    "A cada una de las fases le corresponde un valor de potencia monofásica."
   ]
  },
  {
   "cell_type": "code",
   "execution_count": 7,
   "id": "2c0f326b-d429-46b9-bfd6-8c333462712f",
   "metadata": {},
   "outputs": [],
   "source": [
    "%reset -s -f"
   ]
  }
 ],
 "metadata": {
  "kernelspec": {
   "display_name": "Python 3 (ipykernel)",
   "language": "python",
   "name": "python3"
  },
  "language_info": {
   "codemirror_mode": {
    "name": "ipython",
    "version": 3
   },
   "file_extension": ".py",
   "mimetype": "text/x-python",
   "name": "python",
   "nbconvert_exporter": "python",
   "pygments_lexer": "ipython3",
   "version": "3.9.12"
  }
 },
 "nbformat": 4,
 "nbformat_minor": 5
}
