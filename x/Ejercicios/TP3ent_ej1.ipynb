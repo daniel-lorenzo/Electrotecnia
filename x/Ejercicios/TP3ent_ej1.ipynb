{
 "cells": [
  {
   "cell_type": "markdown",
   "id": "28d2c435-7aad-4b28-893c-b49bc5cbf11f",
   "metadata": {
    "tags": []
   },
   "source": [
    "# TP N°2 - Teorema de Thevenin\n",
    "\n",
    "__UNLZ - Facultad de Ingeniería__       \n",
    "__Electrotecnia__      \n",
    "__Alumno:__ Daniel Antonio Lorenzo"
   ]
  },
  {
   "cell_type": "markdown",
   "id": "ce9bdf6d-3eb7-42da-ad61-b232390f7d00",
   "metadata": {},
   "source": [
    "## Ejercicio N°1\n",
    "Obtener el equivalente de Thevenin (entre los puntos a y b)"
   ]
  },
  {
   "cell_type": "markdown",
   "id": "86a83f4a-3c23-4133-bf65-fac7eba79749",
   "metadata": {},
   "source": [
    "<img src=\"img/tp3ep1.png\" alt=\"tp3ep1.png\">"
   ]
  },
  {
   "cell_type": "markdown",
   "id": "da5dbb7f-e371-42c5-92d3-c47accadd9fb",
   "metadata": {},
   "source": [
    "### Solución\n",
    "* __Cálculo de $Z_{th}$__"
   ]
  },
  {
   "cell_type": "markdown",
   "id": "e9430bd2-ff3e-49df-b62e-ac9fdcc9b64a",
   "metadata": {},
   "source": [
    "Primero, pasivamos la fuente"
   ]
  },
  {
   "cell_type": "markdown",
   "id": "adbf45ec-8cfb-4d99-a60a-59c3e670f5a6",
   "metadata": {},
   "source": [
    "<img src=\"img/tp3ep1-2.png\" alt=\"tp3ep1-2.png\">"
   ]
  },
  {
   "cell_type": "markdown",
   "id": "4a84d49f-2ab3-4405-a259-bdcc417f1d27",
   "metadata": {},
   "source": [
    "1) Hacemos $Z_1 || Z_2$"
   ]
  },
  {
   "cell_type": "markdown",
   "id": "de1f9d2f-df1f-409b-9e15-af0e354f3d84",
   "metadata": {},
   "source": [
    "$Z_1 = Z_2 = 1,7 + 2 \\, \\Omega = 2,625e^{j49,635^\\circ}$"
   ]
  },
  {
   "cell_type": "markdown",
   "id": "f021e636-e4a5-4a6b-8b1d-8812f3664baf",
   "metadata": {},
   "source": [
    "$$ Z_1 || Z_2 = \\frac{Z_1 \\cdot Z_2}{Z_1 + Z_2} = 1,312e^{j49,635^\\circ} \\, \\Omega \\quad \\rightarrow \\quad 0,850 + j1 \\, \\Omega $$"
   ]
  },
  {
   "cell_type": "markdown",
   "id": "62dc2ba9-046f-4581-a01d-900f94312340",
   "metadata": {},
   "source": [
    "2) Hacemos $(Z_1 || Z_2) + Z_3$"
   ]
  },
  {
   "cell_type": "markdown",
   "id": "9d06b147-3953-4ff2-b9ed-f6bac92287cd",
   "metadata": {},
   "source": [
    "$$ (Z_1 || Z_2) + Z_3 = (0,850 + j1) \\, \\Omega + (0 + j10) \\, \\Omega = (0,850 + j11) \\, \\Omega $$"
   ]
  },
  {
   "cell_type": "markdown",
   "id": "f968e4c2-4715-4cbb-8a60-c3f086bc57ca",
   "metadata": {},
   "source": [
    "<div class=\"alert-info\"><strong>Por lo tanto</strong>\n",
    "$$ Z_{th} = (0,850 + j11) \\, \\Omega \\quad \\rightarrow \\quad 11,033 e^{j85,581^\\circ} \\, \\Omega $$\n",
    "    </div>"
   ]
  },
  {
   "cell_type": "markdown",
   "id": "12dbb210-5ba0-421b-94cd-fc51a6d5f7a0",
   "metadata": {},
   "source": [
    "* __Cálculo de $V_{th}$__"
   ]
  },
  {
   "cell_type": "markdown",
   "id": "46958813-a09e-4593-a5c7-f6eb5dfa3f15",
   "metadata": {},
   "source": [
    "$V_{th} = V_{AB} = V_{Z_2}$"
   ]
  },
  {
   "cell_type": "markdown",
   "id": "fc8cad11-7db7-4849-bc41-eeec249d5757",
   "metadata": {},
   "source": [
    "<img src=\"img/tp3ep1-3.png\" alt=\"tp3ep1-3.png\">"
   ]
  },
  {
   "cell_type": "markdown",
   "id": "b52712d9-47b2-4f06-beee-9b93ebe1dd8f",
   "metadata": {},
   "source": [
    "$$ Z_1 + Z_2 = (1,7 + j2) \\, \\Omega + (1,7 + j2) \\, \\Omega = (3,4 + j4) \\, \\Omega $$"
   ]
  },
  {
   "cell_type": "markdown",
   "id": "393780aa-206f-427e-a6cc-1e425f7a554d",
   "metadata": {},
   "source": [
    "$$Z_{eq} = Z_1 + Z_2 = 5,25e^{49,635^\\circ} \\, \\Omega$$"
   ]
  },
  {
   "cell_type": "markdown",
   "id": "48d43bad-ddbc-433c-8463-542872c4b294",
   "metadata": {},
   "source": [
    "<img src=\"img/tp3ep1-4.png\" alt=\"tp3ep1-4.png\">"
   ]
  },
  {
   "cell_type": "markdown",
   "id": "4a7f229d-d714-4a35-9ae1-c48a7382f786",
   "metadata": {},
   "source": [
    "Cálculo de $I_1$"
   ]
  },
  {
   "cell_type": "markdown",
   "id": "e24e04f8-7439-43ca-bf4b-a05e0dfb1d2d",
   "metadata": {},
   "source": [
    "<img src=\"img/tp3ep1-5.png\" alt=\"tp3ep1-5.png\">"
   ]
  },
  {
   "cell_type": "markdown",
   "id": "90597c04-e2d4-48cf-8817-b8581361ae05",
   "metadata": {},
   "source": [
    "$$ I_1 = \\frac{U}{Z_{eq}} = 9,524 e^{-49,635^\\circ} \\, \\mathrm{A} $$"
   ]
  },
  {
   "cell_type": "markdown",
   "id": "6db3554e-26b6-4e0a-bbdd-ba381ea13be4",
   "metadata": {},
   "source": [
    "Entonces\n",
    "$$ V_1 = I_1 Z_1 = 25e^{j0^\\circ} \\, \\mathrm{V} $$"
   ]
  },
  {
   "cell_type": "markdown",
   "id": "12a86235-0265-46d3-b21d-84bf8fca15d7",
   "metadata": {},
   "source": [
    "<div class=\"alert-info\"><strong>Por lo tanto</strong>\n",
    "$$ V_{th} = V_{AB} = U - V_1 = 25 - j0 \\, \\mathrm{V} \\quad \\rightarrow \\quad 25e^{j0^\\circ} \\, \\mathrm{V} $$\n",
    "    </div>"
   ]
  },
  {
   "cell_type": "markdown",
   "id": "64ba4e78-e94d-4c3d-9468-6b31dd6aacf6",
   "metadata": {},
   "source": [
    "Circuito equivalente de Thevenin\n",
    "\n",
    "<img src=\"img/tp3ep1-6.png\" alt=\"tp3ep1-6.png\">"
   ]
  },
  {
   "cell_type": "markdown",
   "id": "6614b648-dc45-4938-9f37-8d41d8dedfa7",
   "metadata": {},
   "source": [
    "### Usando python para calcular (opcional)"
   ]
  },
  {
   "cell_type": "code",
   "execution_count": 1,
   "id": "34d3ac6f-83ea-4672-a2d3-0c3651f60310",
   "metadata": {},
   "outputs": [],
   "source": [
    "import math, cmath"
   ]
  },
  {
   "cell_type": "code",
   "execution_count": 2,
   "id": "36feac8e-042a-4020-97c4-4db0f632bc3d",
   "metadata": {},
   "outputs": [],
   "source": [
    "# Datos:\n",
    "Z1 = 1.7 + 2j # Ohm\n",
    "Z2 = Z1\n",
    "Z3 = 0 + 10j # Ohm\n",
    "U = 50 # V"
   ]
  },
  {
   "cell_type": "code",
   "execution_count": 3,
   "id": "0e053aae-e395-4957-9342-385b128e4836",
   "metadata": {},
   "outputs": [],
   "source": [
    "Zth = (Z1*Z2)/(Z1 + Z2) + Z3\n",
    "Zeq = Z1 + Z2\n",
    "I1 = U/Zeq\n",
    "V1 = I1*Z1\n",
    "Vth = U - V1"
   ]
  },
  {
   "cell_type": "code",
   "execution_count": 4,
   "id": "dcae05ab-8ddc-4474-898f-52939cc51067",
   "metadata": {},
   "outputs": [],
   "source": [
    "Zth_pol = cmath.polar(Zth)\n",
    "Vth_pol = cmath.polar(Vth)"
   ]
  },
  {
   "cell_type": "code",
   "execution_count": 5,
   "id": "876797e8-daac-4e77-8ff8-103b74966cca",
   "metadata": {},
   "outputs": [
    {
     "name": "stdout",
     "output_type": "stream",
     "text": [
      "Resultados:\n",
      "----------------------------------------\n",
      "Zth = 0.85+11.00j Ohm\n",
      "Zth = (11.033 < 85.581°) Ohm\n",
      "----------------------------------------\n",
      "Vth = 25.00+0.00j V\n",
      "Vth = (25.000 < 0.000°) V\n",
      "----------------------------------------\n"
     ]
    }
   ],
   "source": [
    "print('Resultados:')\n",
    "print('----------------------------------------')\n",
    "print('Zth = {:.2f} Ohm'.format(Zth))\n",
    "print('Zth = (%.3f < %.3f°) Ohm'%(Zth_pol[0] , math.degrees(Zth_pol[1]) ))\n",
    "print('----------------------------------------')\n",
    "print('Vth = {:.2f} V'.format(Vth))\n",
    "print('Vth = (%.3f < %.3f°) V'%(Vth_pol[0], math.degrees(Vth_pol[1]) ))\n",
    "print('----------------------------------------')"
   ]
  },
  {
   "cell_type": "code",
   "execution_count": 6,
   "id": "da203d55-ea34-44a2-abf2-df14f409fe2d",
   "metadata": {},
   "outputs": [],
   "source": [
    "%reset -s -f"
   ]
  }
 ],
 "metadata": {
  "kernelspec": {
   "display_name": "Python 3 (ipykernel)",
   "language": "python",
   "name": "python3"
  },
  "language_info": {
   "codemirror_mode": {
    "name": "ipython",
    "version": 3
   },
   "file_extension": ".py",
   "mimetype": "text/x-python",
   "name": "python",
   "nbconvert_exporter": "python",
   "pygments_lexer": "ipython3",
   "version": "3.9.12"
  }
 },
 "nbformat": 4,
 "nbformat_minor": 5
}
