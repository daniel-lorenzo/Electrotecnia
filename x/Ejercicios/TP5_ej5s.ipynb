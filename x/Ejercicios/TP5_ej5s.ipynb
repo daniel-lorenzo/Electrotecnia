{
 "cells": [
  {
   "cell_type": "markdown",
   "id": "886e41cd-d138-4c87-9325-9cc103c16c51",
   "metadata": {},
   "source": [
    "# TP N°5 - Circuitos trifásicos\n",
    "__U.N.L.Z. - Facultad de Ingeniería__       \n",
    "__Electrotecnia__      \n",
    "__Alumno:__ Daniel Antonio Lorenzo       \n",
    "<mark><strong>(Resolución en python3)</strong></mark>"
   ]
  },
  {
   "cell_type": "markdown",
   "id": "ad666369-3676-4536-8c38-f01117394308",
   "metadata": {},
   "source": [
    "## Problema 5\n",
    "Un sistema trifásico de secuencia ABC 3x380V, de 3 conductores, alimenta una carga trifásica conectada en triángulo."
   ]
  },
  {
   "cell_type": "markdown",
   "id": "7ff85fdc-d0a4-4a6f-8ab9-ff16a0f6ea03",
   "metadata": {},
   "source": [
    "* $Z_{ab} = 10 \\, \\Omega$ con ángulo de desfasaje 0°      \n",
    "* $Z_{bc} = 10 \\, \\Omega$ con ángulo de desfasaje 30° inductivo\n",
    "* $Z_{ca} = 15 \\, \\Omega$ con ángulo de desfasaje 30° capacitivo"
   ]
  },
  {
   "cell_type": "markdown",
   "id": "b830774d-726f-4b93-84d3-d813922d4422",
   "metadata": {},
   "source": [
    "1. Calcular las corrientes $I_r, \\, I_s, \\, I_t$, representar diagrama fasorial de tensiones y corrientes.\n",
    "2. Determinar las potencias en cada fase y las potencias trifásicas (P,Q,S)"
   ]
  },
  {
   "cell_type": "markdown",
   "id": "ab31f704-65d0-41f0-a9bf-19d041a009be",
   "metadata": {},
   "source": [
    "<img src=\"img/tp5ej5.png\">"
   ]
  },
  {
   "cell_type": "markdown",
   "id": "04c1bd6e-b1dd-4e6b-8e32-21a87bb5e538",
   "metadata": {},
   "source": [
    "### Solución"
   ]
  },
  {
   "cell_type": "code",
   "execution_count": 18,
   "id": "10a51b6b-4f7c-4d66-b41c-96ec20bb1664",
   "metadata": {},
   "outputs": [],
   "source": [
    "import numpy as np\n",
    "import cmath"
   ]
  },
  {
   "cell_type": "code",
   "execution_count": 19,
   "id": "9757b248-13a7-4a1c-b766-19aed801e22c",
   "metadata": {},
   "outputs": [],
   "source": [
    "# Datos:\n",
    "# Tensiones de línea\n",
    "Eab = cmath.rect(380 , np.deg2rad(30) )\n",
    "Ebc = cmath.rect(380 , np.deg2rad(30-120) )\n",
    "Eca = cmath.rect(380 , np.deg2rad(30+120) )\n",
    "# Caídas de tensión compuesta en las impedancias de cargas\n",
    "Uab = Eab\n",
    "Ubc = Ebc\n",
    "Uca = Eca\n",
    "# Impedancias de carga\n",
    "Zab = cmath.rect(10 , 0)\n",
    "Zbc = cmath.rect(10 , np.deg2rad(30) )\n",
    "Zca = cmath.rect(15 , np.deg2rad(-30) )"
   ]
  },
  {
   "cell_type": "code",
   "execution_count": 20,
   "id": "22faef66-2124-48f5-b202-6660c3ba1e02",
   "metadata": {},
   "outputs": [],
   "source": [
    "# Cálculo de corrientes de línea o compuesta\n",
    "Iab = Uab/Zab\n",
    "Ibc = Ubc/Zbc\n",
    "Ica = Uca/Zca\n",
    "# Cálculo de corrientes de fase\n",
    "Ir = Iab - Ica\n",
    "Is = Ibc - Iab\n",
    "It = Ica - Ibc\n",
    "Ia = Ir ; Ib = Is ; Ic = It\n",
    "# Cálculo de potencia aparente\n",
    "Sab = Uab*Iab.conjugate()\n",
    "Sbc = Ubc*Ibc.conjugate()\n",
    "Sca = Uca*Ica.conjugate()\n",
    "# Potencia activa\n",
    "Pab = Sab.real\n",
    "Pbc = Sbc.real\n",
    "Pca = Sca.real\n",
    "# Potencia reactiva\n",
    "Qab = Sab.imag\n",
    "Qbc = Sbc.imag\n",
    "Qca = Sca.imag\n",
    "# Cálculo de potencia trifásica aparente\n",
    "Strif = Sab + Sbc + Sca\n",
    "Ptrif = Strif.real\n",
    "Qtrif = Strif.imag"
   ]
  },
  {
   "cell_type": "code",
   "execution_count": 21,
   "id": "7dd52236-bd4a-4a49-a907-e46d70785b46",
   "metadata": {
    "jupyter": {
     "source_hidden": true
    },
    "tags": []
   },
   "outputs": [
    {
     "name": "stdout",
     "output_type": "stream",
     "text": [
      "Corrientes de línea o compuesta:\n",
      "Iab = (38.00 ∠ 30.00) A\n",
      "Ibc = (38.00 ∠ -120.00) A\n",
      "Ica = (25.33 ∠ -180.00) A\n",
      "Corrientes de fase:\n",
      "Ir = Ia = (61.26 ∠ 18.07) A\n",
      "Is = Ib = (73.41 ∠ -135.00) A\n",
      "It = Ic = (33.51 ∠ 100.89) A\n",
      "Potencia aparente:\n",
      "|Sab| = 14440.0 VA\n",
      "|Sbc| = 14440.0 VA\n",
      "|Sca| = 9626.7 VA\n",
      "Sab = 14440.00+0.00j VA = (14440.00 ∠ 0.00°) VA\n",
      "Sbc = 12505.41+7220.00j VA = (14440.00 ∠ 30.00°) VA\n",
      "Sca = 8336.94-4813.33j VA = (9626.67 ∠ -30.00°) VA\n",
      "Potencia activa:\n",
      "Pab = 14440.00 W\n",
      "Pbc = 12505.41 W\n",
      "Pca = 8336.94 W\n",
      "Potencia reactiva:\n",
      "Qab = 0.00 VAr\n",
      "Qbc = 7220.00 VAr\n",
      "Qca = -4813.33 VAr\n",
      "Potencia trifásica aparente:\n",
      "|Strif| = 35364.33 VA\n",
      "Strif = 35282.34+2406.67j VA = (35364.33 ∠ 0.00°) VA\n",
      "Potencia trifásica activa:\n",
      "Ptrif = 35282.34 W\n",
      "Potencia trifásica reactiva:\n",
      "Qtrif = 2406.67 VAr\n"
     ]
    }
   ],
   "source": [
    "print('Corrientes de línea o compuesta:')\n",
    "print('Iab = (%.2f ∠ %.2f) A'%(abs(Iab) , np.rad2deg( cmath.phase(Iab) ) ))\n",
    "print('Ibc = (%.2f ∠ %.2f) A'%(abs(Ibc) , np.rad2deg( cmath.phase(Ibc) ) ))\n",
    "print('Ica = (%.2f ∠ %.2f) A'%(abs(Ica) , np.rad2deg( cmath.phase(Ica) ) ))\n",
    "print('Corrientes de fase:')\n",
    "print('Ir = Ia = (%.2f ∠ %.2f) A'%(abs(Ir) , np.rad2deg( cmath.phase(Ir) ) ))\n",
    "print('Is = Ib = (%.2f ∠ %.2f) A'%(abs(Is) , np.rad2deg( cmath.phase(Is) ) ))\n",
    "print('It = Ic = (%.2f ∠ %.2f) A'%(abs(It) , np.rad2deg( cmath.phase(It) ) ))\n",
    "print('Potencia aparente:')\n",
    "print('|Sab| = %.1f VA'%abs(Sab))\n",
    "print('|Sbc| = %.1f VA'%abs(Sbc))\n",
    "print('|Sca| = %.1f VA'%abs(Sca))\n",
    "print('Sab = {:.2f} VA = (%.2f ∠ %.2f°) VA'.format(Sab)%(abs(Sab), np.rad2deg( cmath.phase(Sab) ) ))\n",
    "print('Sbc = {:.2f} VA = (%.2f ∠ %.2f°) VA'.format(Sbc)%(abs(Sbc), np.rad2deg( cmath.phase(Sbc) ) ))\n",
    "print('Sca = {:.2f} VA = (%.2f ∠ %.2f°) VA'.format(Sca)%(abs(Sca), np.rad2deg( cmath.phase(Sca) ) ))\n",
    "print('Potencia activa:')\n",
    "print('Pab = %.2f W'%Pab)\n",
    "print('Pbc = %.2f W'%Pbc)\n",
    "print('Pca = %.2f W'%Pca)\n",
    "print('Potencia reactiva:')\n",
    "print('Qab = %.2f VAr'%Qab)\n",
    "print('Qbc = %.2f VAr'%Qbc)\n",
    "print('Qca = %.2f VAr'%Qca)\n",
    "print('Potencia trifásica aparente:')\n",
    "print('|Strif| = %.2f VA'%abs(Strif))\n",
    "print('Strif = {:.2f} VA = (%.2f ∠ %.2f°) VA'.format(Strif)%(abs(Strif) , np.rad2deg( cmath.phase(Sab) ) ))\n",
    "print('Potencia trifásica activa:')\n",
    "print('Ptrif = %.2f W'%Ptrif)\n",
    "print('Potencia trifásica reactiva:')\n",
    "print('Qtrif = %.2f VAr'%Qtrif)"
   ]
  },
  {
   "cell_type": "code",
   "execution_count": 22,
   "id": "9ece75b6-e39f-4fa4-8ae9-874dfc23d3d1",
   "metadata": {},
   "outputs": [],
   "source": [
    "import matplotlib\n",
    "import matplotlib.pyplot as plt"
   ]
  },
  {
   "cell_type": "code",
   "execution_count": 23,
   "id": "1fcefeb1-333c-464e-af88-ec84e7781c82",
   "metadata": {
    "jupyter": {
     "source_hidden": true
    },
    "tags": []
   },
   "outputs": [
    {
     "data": {
      "image/png": "[encoded data removed]",
      "text/plain": [
       "<Figure size 504x504 with 1 Axes>"
      ]
     },
     "metadata": {
      "needs_background": "light"
     },
     "output_type": "display_data"
    },
    {
     "name": "stdout",
     "output_type": "stream",
     "text": [
      "Ia  = (61.26 < 18.07°) A\n",
      "Ib  = (73.41 < -135.00°) A\n",
      "Ic  = (33.51 < 100.89°) A\n",
      "Iab = (38.00 < 30.00°) A\n",
      "Ibc = (38.00 < -120.00°) A\n",
      "Ica = (25.33 < -180.00°) A\n",
      "Uab = (380.00 < 30.00°) V\n",
      "Ubc = (380.00 < -90.00°) V\n",
      "Uca = (380.00 < 150.00°) V\n"
     ]
    }
   ],
   "source": [
    "%matplotlib inline\n",
    "plt.figure(figsize=(7,7))\n",
    "ax = plt.gca()\n",
    "ax.quiver(0,0,Uab.real,Uab.imag,width=0.003,angles='xy',scale_units='xy',scale=1,color='blue')\n",
    "ax.quiver(0,0,Ubc.real,Ubc.imag,width=0.003,angles='xy',scale_units='xy',scale=1,color='blue')\n",
    "ax.quiver(0,0,Uca.real,Uca.imag,width=0.003,angles='xy',scale_units='xy',scale=1,color='blue')\n",
    "ax.quiver(0,0,Ia.real,Ia.imag,angles='xy',scale_units='xy',scale=1,color='red')\n",
    "ax.quiver(0,0,Ib.real,Ib.imag,angles='xy',scale_units='xy',scale=1,color='red')\n",
    "ax.quiver(0,0,Ic.real,Ic.imag,angles='xy',scale_units='xy',scale=1,color='red')\n",
    "ax.quiver(0,0,Iab.real,Iab.imag,angles='xy',scale_units='xy',scale=1,color='yellow')\n",
    "ax.quiver(0,0,Ibc.real,Ibc.imag,angles='xy',scale_units='xy',scale=1,color='yellow')\n",
    "ax.quiver(0,0,Ica.real,Ica.imag,angles='xy',scale_units='xy',scale=1,color='yellow')\n",
    "plt.text(Ia.real, Ia.imag, r'$I_a ∠ %.2f°$'%(np.rad2deg(cmath.phase(Ia))), fontsize=14, color='red')\n",
    "plt.text(Ib.real - 5 , Ib.imag - 5, r'$I_b ∠ %.2f$°'%(np.rad2deg(cmath.phase(Ib))), fontsize=14, color='red')\n",
    "plt.text(Ic.real, Ic.imag, r'$I_c ∠ %.2f$°'%(np.rad2deg(cmath.phase(Ic))), fontsize=14, color='red')\n",
    "plt.text(Iab.real, Iab.imag, r'$I_{ab}$', fontsize=18, fontweight='bold')\n",
    "plt.text(Ibc.real - 5 , Ibc.imag - 5, r'$I_{bc}$', fontsize=18, fontweight='bold')\n",
    "plt.text(Ica.real - 12, Ica.imag, r'$I_{ca}$', fontsize=18, fontweight='bold')\n",
    "#plt.axhline(y=0, xmin=0.5, xmax=1, linestyle=\"--\")\n",
    "ax.set_aspect('equal')\n",
    "plt.title('Diagrama fasorial de corrientes en la carga', fontsize=16)\n",
    "plt.xlabel('Re (Eje real)',  fontsize=16)\n",
    "plt.ylabel('Im (Eje imaginario)',  fontsize=16)\n",
    "plt.grid(linestyle=\":\")\n",
    "ax.set_axisbelow(True)\n",
    "ax.set_xlim([-100,100])\n",
    "ax.set_ylim([-100,100])\n",
    "#plt.draw()\n",
    "plt.show()\n",
    "print('Ia  = (%.2f < %.2f°) A'%(abs(Ir), np.rad2deg( cmath.phase(Ir) ) ))\n",
    "print('Ib  = (%.2f < %.2f°) A'%(abs(Is), np.rad2deg( cmath.phase(Is) ) ))\n",
    "print('Ic  = (%.2f < %.2f°) A'%(abs(It), np.rad2deg( cmath.phase(It) ) ))\n",
    "print('Iab = (%.2f < %.2f°) A'%(abs(Iab), np.rad2deg( cmath.phase(Iab) ) ))\n",
    "print('Ibc = (%.2f < %.2f°) A'%(abs(Ibc), np.rad2deg( cmath.phase(Ibc) ) ))\n",
    "print('Ica = (%.2f < %.2f°) A'%(abs(Ica), np.rad2deg( cmath.phase(Ica) ) ))\n",
    "print('Uab = (%.2f < %.2f°) V'%(abs(Uab), np.rad2deg( cmath.phase(Uab) ) ))\n",
    "print('Ubc = (%.2f < %.2f°) V'%(abs(Ubc), np.rad2deg( cmath.phase(Ubc) ) ))\n",
    "print('Uca = (%.2f < %.2f°) V'%(abs(Uca), np.rad2deg( cmath.phase(Uca) ) ))"
   ]
  },
  {
   "cell_type": "code",
   "execution_count": 24,
   "id": "ca75feb9-1afb-4686-a380-b3586f1dcc3e",
   "metadata": {},
   "outputs": [],
   "source": [
    "%reset -s -f"
   ]
  }
 ],
 "metadata": {
  "kernelspec": {
   "display_name": "Python 3 (ipykernel)",
   "language": "python",
   "name": "python3"
  },
  "language_info": {
   "codemirror_mode": {
    "name": "ipython",
    "version": 3
   },
   "file_extension": ".py",
   "mimetype": "text/x-python",
   "name": "python",
   "nbconvert_exporter": "python",
   "pygments_lexer": "ipython3",
   "version": "3.9.12"
  }
 },
 "nbformat": 4,
 "nbformat_minor": 5
}
