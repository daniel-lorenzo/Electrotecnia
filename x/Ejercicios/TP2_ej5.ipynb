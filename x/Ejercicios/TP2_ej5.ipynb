{
 "cells": [
  {
   "cell_type": "markdown",
   "id": "068ab480-3e7d-4182-8df4-d69412c6892f",
   "metadata": {},
   "source": [
    "# TP N°2 - Conplejos - Impedancia Compleja\n",
    "## Ejercicios de CA - Dominio de la frecuencia\n",
    "__UNLZ - Facultad de Ingeniería__       \n",
    "__Electrotecnia__      \n",
    "__Alumno:__ Daniel Antonio Lorenzo"
   ]
  },
  {
   "cell_type": "markdown",
   "id": "1dc2aa5e-9fc4-43e0-9bc9-623307c8841b",
   "metadata": {},
   "source": [
    "## Problema 5\n",
    "Un elemento de circuito tiene una $i(t) = 2,5 \\cos (314 t - \\pi/6)$ y una $v(t) = 5 \\sin (314 t - \\pi/6)$.            \n",
    "Determinar la característica del elemento."
   ]
  },
  {
   "cell_type": "markdown",
   "id": "e7400d67-b746-49d0-9669-679053a226ca",
   "metadata": {},
   "source": [
    "<img src=\"img/tp2e5.png\" alt=\"tp2e5.png\">"
   ]
  },
  {
   "cell_type": "markdown",
   "id": "af66d1ce-970c-4db5-b1f4-4a7f93841f77",
   "metadata": {},
   "source": [
    "### Solución"
   ]
  },
  {
   "cell_type": "markdown",
   "id": "6c0fadf6-bd74-4ef8-b080-60733662470d",
   "metadata": {},
   "source": [
    "Datos:\n",
    "\n",
    "$\\left\\{\n",
    "\\begin{array}{l}\n",
    "v(t) = 5 \\sin (314t - \\pi/6) \\, \\mathrm{V} \\\\\n",
    "i(t) = 2,5 \\cos (314t - \\pi/6) \\, \\mathrm{A}\n",
    "\\end{array}\n",
    "\\right.$"
   ]
  },
  {
   "cell_type": "markdown",
   "id": "dc020839-a9e2-46f9-89ee-414ec54184c7",
   "metadata": {},
   "source": [
    "Por identidades trigonométricas se sabe que"
   ]
  },
  {
   "cell_type": "markdown",
   "id": "ccad2b12-0e30-478c-9bc0-f2b49cbf323a",
   "metadata": {},
   "source": [
    "$$ \\cos (\\theta) = \\sin (\\theta + \\pi/2) $$"
   ]
  },
  {
   "cell_type": "markdown",
   "id": "64283668-f10c-4deb-9bdc-9508fbef5621",
   "metadata": {},
   "source": [
    "y haciendo $\\theta = 314t - \\pi/6$, se tiene que"
   ]
  },
  {
   "cell_type": "markdown",
   "id": "0a021566-ac9f-46b2-a751-2767aab39375",
   "metadata": {},
   "source": [
    "$$ i(t) = 2,5 \\cos (314 t - \\pi/6) = 2,5 \\sin (314t - \\pi/6 + \\pi/2) $$"
   ]
  },
  {
   "cell_type": "markdown",
   "id": "17b8ea31-7bc6-41f3-b25d-0b9adfffde7c",
   "metadata": {},
   "source": [
    "$$ i(t) = 2,5 \\sin (314 t + \\pi/3) $$"
   ]
  },
  {
   "cell_type": "markdown",
   "id": "81a08bc2-aed9-4896-8395-40f71d2152ee",
   "metadata": {},
   "source": [
    "Los fasores equivalentes de las funciones del tiempo de la tensión y la corriente resultan,"
   ]
  },
  {
   "cell_type": "markdown",
   "id": "1daac88d-9d1a-4949-8c8b-f26796b02f89",
   "metadata": {},
   "source": [
    "$$ \\vec{I} = I_\\mathrm{ef} \\angle 60^\\circ = \\frac{I_\\mathrm{m \\acute ax}}{\\sqrt{2}} e^{j60^\\circ} \\qquad \\wedge \\qquad \\vec{V} = V_\\mathrm{ef} \\angle -30^\\circ = \\frac{V_\\mathrm{m \\acute ax}}{\\sqrt{2}} e^{-j30^\\circ} $$"
   ]
  },
  {
   "cell_type": "markdown",
   "id": "60ed5166-f3e4-47bb-82e7-e43f17e1faea",
   "metadata": {},
   "source": [
    "La diferencia de fase o desfase entre las ondas de corriente y tensión viene dada por"
   ]
  },
  {
   "cell_type": "markdown",
   "id": "26957182-1b29-4b0d-8729-ef762181b7af",
   "metadata": {},
   "source": [
    "$$ \\theta = \\varphi_i = \\varphi_v = 60^\\circ - ( -30^\\circ) = 90^\\circ $$"
   ]
  },
  {
   "cell_type": "markdown",
   "id": "71bd57b0-3a95-4cec-a37b-a8f119ecbabe",
   "metadata": {},
   "source": [
    "En base al ángulo de desfase podemos decir que se trate de un elemento capacitivo puro, por lo tanto, se verifica que:"
   ]
  },
  {
   "cell_type": "markdown",
   "id": "47389634-8176-4b17-95d4-9d37973ba9e7",
   "metadata": {},
   "source": [
    "$$ \\vec{V} = Z \\vec{I} \\quad \\Rightarrow \\quad Z = \\frac{\\vec{V}}{\\vec{I}} $$"
   ]
  },
  {
   "cell_type": "markdown",
   "id": "a921b4a4-3c39-4a81-840b-9eb5c0fb47e0",
   "metadata": {},
   "source": [
    "$$ Z = \\frac{ \\left(V_\\mathrm{m \\acute ax}/ \\sqrt{2} \\right) e^{-j30^\\circ}}{ \\left(I_\\mathrm{m \\acute ax}/\\sqrt{2}\\right)e^{j60^\\circ}} = \\frac{V_\\mathrm{m \\acute ax}}{I_\\mathrm{m \\acute ax}} e^{-j(30^\\circ + 60^\\circ)} $$"
   ]
  },
  {
   "cell_type": "markdown",
   "id": "a32588e1-ff71-4f2a-8934-fc4eed3c5549",
   "metadata": {},
   "source": [
    "$$ Z = \\frac{5}{2,5} e^{-j90^\\circ} \\, \\Omega $$"
   ]
  },
  {
   "cell_type": "markdown",
   "id": "dcf90c60-c10a-4083-9835-d4fcc280b0eb",
   "metadata": {},
   "source": [
    "Entonces\n",
    "$$ Z = 2e^{-j90^\\circ} \\, \\Omega \\tag{1} $$"
   ]
  },
  {
   "cell_type": "markdown",
   "id": "bbce0921-202e-4dd3-bd0d-edcb9b9e64bf",
   "metadata": {},
   "source": [
    "Además se sabe que:"
   ]
  },
  {
   "cell_type": "markdown",
   "id": "5c64d0df-00b9-429f-80cc-f24a4b3667d6",
   "metadata": {},
   "source": [
    "$$ Z = |Z| e^{j \\varphi} \\quad \\Rightarrow \\quad |Z| = 2 \\, \\Omega \\quad \\wedge \\quad \\varphi = 90^\\circ $$"
   ]
  },
  {
   "cell_type": "markdown",
   "id": "c456801e-f771-4f9e-a5ff-e1779f9f6c29",
   "metadata": {},
   "source": [
    "y que:"
   ]
  },
  {
   "cell_type": "markdown",
   "id": "5bd2040e-2fc5-47d1-bbdf-41d6c08c1fea",
   "metadata": {},
   "source": [
    "$$ Z = R - jX_c =|Z| (\\cos \\varphi + j \\sin \\varphi) $$"
   ]
  },
  {
   "cell_type": "markdown",
   "id": "55cdf22e-063a-4614-af91-5231d72764a2",
   "metadata": {},
   "source": [
    "$$ Z = 2 \\Omega \\, [ \\cos (-90^\\circ) + j \\sin (-90^\\circ)] = (0 - j2) \\, \\Omega $$"
   ]
  },
  {
   "cell_type": "markdown",
   "id": "1bad8a53-9e05-4cd5-b462-5c625387bdcc",
   "metadata": {},
   "source": [
    "El resultado obtenido en la ecuación anterior implica que $R = 0$ (cosa que ya se sabía) y que $X_c = 2 \\, \\Omega$. Pero, como además $X_c = 1/ \\omega C$, resulta que:"
   ]
  },
  {
   "cell_type": "markdown",
   "id": "baf26650-a78d-4e8d-a9d5-62123a00953a",
   "metadata": {},
   "source": [
    "$$ \\frac{1}{\\omega C} = 2 \\, \\Omega $$"
   ]
  },
  {
   "cell_type": "markdown",
   "id": "d2306d20-f705-459f-9cae-ef5bd54ae2ad",
   "metadata": {},
   "source": [
    "Entonces\n",
    "$$ C = \\frac{1}{\\omega (2 \\, \\Omega)} = \\frac{1}{(314 \\, \\mathrm{s}^{-1})(2 \\, \\mathrm{V/A})} = 1,59 \\, \\mathrm{mF} $$"
   ]
  },
  {
   "cell_type": "markdown",
   "id": "e1538df4-8922-4360-b1a0-f8570542d856",
   "metadata": {},
   "source": [
    "El elemento es un capacitor puro. Podemos observar en el diagrama fasorial que la corriente *(I)* adelanta 90 grados a la tensión *(U)*. "
   ]
  },
  {
   "cell_type": "markdown",
   "id": "adeceb5c-eaf4-4b87-bdb6-a14b537d3c3a",
   "metadata": {},
   "source": [
    "<img src=\"img/tp2e5-2.png\" alt=\"tp2e5-2.png\">"
   ]
  }
 ],
 "metadata": {
  "kernelspec": {
   "display_name": "Python 3 (ipykernel)",
   "language": "python",
   "name": "python3"
  },
  "language_info": {
   "codemirror_mode": {
    "name": "ipython",
    "version": 3
   },
   "file_extension": ".py",
   "mimetype": "text/x-python",
   "name": "python",
   "nbconvert_exporter": "python",
   "pygments_lexer": "ipython3",
   "version": "3.9.12"
  }
 },
 "nbformat": 4,
 "nbformat_minor": 5
}
