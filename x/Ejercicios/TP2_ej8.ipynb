{
 "cells": [
  {
   "cell_type": "markdown",
   "id": "5309dc3d-173e-4cbe-8ef8-98cc7599cf4d",
   "metadata": {},
   "source": [
    "# TP N°2 - Conplejos - Impedancia Compleja\n",
    "## Ejercicios de CA - Dominio de la frecuencia\n",
    "__UNLZ - Facultad de Ingeniería__       \n",
    "__Electrotecnia__      \n",
    "__Alumno:__ Daniel Antonio Lorenzo"
   ]
  },
  {
   "cell_type": "markdown",
   "id": "cd4b62f8-67aa-44cd-9b80-438996953d2b",
   "metadata": {},
   "source": [
    "## Problema 8\n",
    "Dado el siguiente circuito:\n",
    "1. Hallar las intensidades de corriente que circulan por cada elemento.\n",
    "2. Realizar el diagrama fasorial de tensiones y corrientes."
   ]
  },
  {
   "cell_type": "markdown",
   "id": "488fd9ae-f8fe-412c-92fc-60f23561137b",
   "metadata": {},
   "source": [
    "<img src=\"img/tp2e8.png\" alt=\"tp2e8.png\">"
   ]
  },
  {
   "cell_type": "markdown",
   "id": "af0152f6-23e7-4458-b11b-94ee76d13e4c",
   "metadata": {},
   "source": [
    "### Solución"
   ]
  },
  {
   "cell_type": "markdown",
   "id": "50a8e41c-b998-47c9-969a-7d7b41df90a9",
   "metadata": {},
   "source": [
    "Calculamos la impedancia total\n",
    "$$ Z_T = Z_1 + Z_2 || Z_3 $$"
   ]
  },
  {
   "cell_type": "markdown",
   "id": "3bbaa30f-71f3-49bd-b3fb-93cfbbebbd9e",
   "metadata": {},
   "source": [
    "$$ Z_T = Z_1 + \\frac{Z_2 \\cdot Z_3}{Z_2 + Z_3} = 14,14 \\, \\Omega \\angle 8,13^\\circ $$"
   ]
  },
  {
   "cell_type": "markdown",
   "id": "50001884-c32e-4c6d-94c6-0183547a23ff",
   "metadata": {},
   "source": [
    "Por ley de Ohm\n",
    "$$ i_1 = \\frac{U}{Z_T} = 7,07 \\, \\mathrm{A} \\angle -8,13^\\circ $$"
   ]
  },
  {
   "cell_type": "markdown",
   "id": "bbd210c6-d5da-4279-b8df-9d24bd5e9b70",
   "metadata": {},
   "source": [
    "Caida de tensión en 1\n",
    "$$ U_1 = I_1 Z_1 = (70,71 \\, \\mathrm{V} \\angle -8,13^\\circ) $$"
   ]
  },
  {
   "cell_type": "markdown",
   "id": "03a11b40-d83d-49e1-b9ab-3a9f133f6f83",
   "metadata": {},
   "source": [
    "Caida de tensión en AB\n",
    "$$ V_{AB} = U - U_1 = 31,62 \\, \\mathrm{V} \\angle 18,43^\\circ $$"
   ]
  },
  {
   "cell_type": "markdown",
   "id": "b3af7279-2d08-4447-8a49-50b29f33da62",
   "metadata": {},
   "source": [
    "Corriente 2\n",
    "$$ i_2 = \\frac{V_{AB}}{Z_2} = 3,16 \\, \\mathrm{A} \\angle -71,57^\\circ $$"
   ]
  },
  {
   "cell_type": "markdown",
   "id": "1d0992d8-95b8-4a4f-9585-b8a5bbf9e483",
   "metadata": {},
   "source": [
    "Corriente 3\n",
    "$$ i_3 = \\frac{V_{AB}}{Z_3} = 6,32 \\, \\mathrm{A} \\angle 18,43^\\circ $$"
   ]
  },
  {
   "cell_type": "markdown",
   "id": "e34f74f9-eea1-44dd-bdd4-fe0f510001bb",
   "metadata": {},
   "source": [
    "Voltajes:\n",
    "$$ v_1 = i_1 Z_1 = 70,71 \\, \\mathrm{V} \\angle -8,13^\\circ $$"
   ]
  },
  {
   "cell_type": "markdown",
   "id": "ae6b4c7e-924b-4646-ad5e-810569b892c0",
   "metadata": {},
   "source": [
    "$$ v_2 = i_2 Z_2 = 31,62 \\, \\mathrm{V} \\angle 18,43^\\circ $$"
   ]
  },
  {
   "cell_type": "markdown",
   "id": "f92a8d39-9de1-4ffb-b0e0-66901e3780f8",
   "metadata": {},
   "source": [
    "$$ v_3 = i_3 Z_3 = 31,62 \\, \\mathrm{V} \\angle 18,43^\\circ $$"
   ]
  },
  {
   "cell_type": "markdown",
   "id": "33431189-2f7a-49eb-90a3-6a333fe77670",
   "metadata": {},
   "source": [
    "### Método 2"
   ]
  },
  {
   "cell_type": "markdown",
   "id": "3d2ed62d-1080-4137-935b-3b7f40d55ff0",
   "metadata": {},
   "source": [
    "Aplicamos LKV\n",
    "$$\\begin{array}{c}\n",
    "(Z_1 + Z_3) i_1 - (Z_3) i_2 = U \\\\\n",
    "-(Z_3) i_1 + (Z_2 + Z_3) i_2 = 0\n",
    "\\end{array}$$"
   ]
  },
  {
   "cell_type": "markdown",
   "id": "8007ebc8-35bb-4223-ade9-e19266f21495",
   "metadata": {},
   "source": [
    "Reemplazando"
   ]
  },
  {
   "cell_type": "markdown",
   "id": "1ddaed7e-3e8b-48d9-a3ef-b5a122904698",
   "metadata": {},
   "source": [
    "$$\\begin{array}{c}\n",
    "15 i_1 - 5 i_2 = 100 \\\\\n",
    "-5 i_1 + (5 + j10) i_2 = 0\n",
    "\\end{array}$$"
   ]
  },
  {
   "cell_type": "markdown",
   "id": "bea65921-a5d2-40f4-9430-3343a25324a4",
   "metadata": {},
   "source": [
    "En forma matricial\n",
    "\n",
    "$$\\left[\n",
    "\\begin{array}{cc}\n",
    "15 & -5 \\\\\n",
    "-5 & 5 + 10j \\\\\n",
    "\\end{array}\n",
    "\\right]\n",
    "\\left[\n",
    "\\begin{array}{c}\n",
    "i_1 \\\\\n",
    "i_2 \\\\\n",
    "\\end{array}\n",
    "\\right]\n",
    "=\n",
    "\\left[\n",
    "\\begin{array}{c}\n",
    "100 \\\\\n",
    "0 \\\\\n",
    "\\end{array}\n",
    "\\right]\n",
    "$$"
   ]
  },
  {
   "cell_type": "markdown",
   "id": "6224204c-c450-4d1a-88c8-a3bd97e3f9a0",
   "metadata": {},
   "source": [
    "Usando regla de Cramer"
   ]
  },
  {
   "cell_type": "markdown",
   "id": "fd8fdcd2-6ac9-40f7-b9f3-deee30099ad0",
   "metadata": {},
   "source": [
    "$ \\Delta =\n",
    "\\begin{array}{|cc|}\n",
    "15 & -5 \\\\\n",
    "-5 & 5 + 10j\n",
    "\\end{array} = 50 + 150j = 158,11 \\angle 71,57^\\circ$"
   ]
  },
  {
   "cell_type": "markdown",
   "id": "a87ab5aa-06da-48ea-9c74-5858e5be8c0f",
   "metadata": {},
   "source": [
    "$ \\Delta_1 = \n",
    "\\begin{array}{|cc|}\n",
    "100 & -5 \\\\\n",
    "0 & 5 + 10j\n",
    "\\end{array} = 500 + 1000j = 1118,03 \\angle 63,43^\\circ$"
   ]
  },
  {
   "cell_type": "markdown",
   "id": "7eaeac3e-89d8-4860-8b76-4c4ff3313662",
   "metadata": {},
   "source": [
    "$ \\Delta_2 =\n",
    "\\begin{array}{|cc|}\n",
    "15 & 100 \\\\\n",
    "-5 & 0\n",
    "\\end{array} = 500 = 500 \\angle 0^\\circ$"
   ]
  },
  {
   "cell_type": "markdown",
   "id": "336d9d35-906f-40aa-b5e0-548ff558aeb6",
   "metadata": {},
   "source": [
    "Corrientes:\n",
    "$$ i_1 = \\frac{\\Delta_1}{\\Delta} = 7,07 \\, \\mathrm{ A} \\angle - 8,13^\\circ $$"
   ]
  },
  {
   "cell_type": "markdown",
   "id": "ce734c92-f4a1-473d-9d68-205f01641257",
   "metadata": {},
   "source": [
    "$$  i_2 = \\frac{\\Delta_2}{\\Delta} = 3,16 \\, \\mathrm{A} \\angle -71,57^\\circ $$"
   ]
  },
  {
   "cell_type": "markdown",
   "id": "cb3b3466-56c9-4e70-b132-4e945e41cbbd",
   "metadata": {},
   "source": [
    "$$ i_3 = I_1 - I_2 = 6 + 2j \\, \\mathrm{A = 6,32 \\, A} \\angle 18,43^\\circ $$"
   ]
  },
  {
   "cell_type": "markdown",
   "id": "7e292ae2-c1df-49ce-958f-b3d6ba3ed26b",
   "metadata": {},
   "source": [
    "Voltajes:\n",
    "$$ v_1 = i_1 Z_1 = 70,71 \\, \\mathrm{V} \\angle -8,13^\\circ $$"
   ]
  },
  {
   "cell_type": "markdown",
   "id": "a57a8cd6-cbb5-457d-8e2c-31c5d4a0ce83",
   "metadata": {},
   "source": [
    "$$ v_2 = i_2 Z_2 = 31,62 \\, \\mathrm{V} \\angle 18,43^\\circ $$"
   ]
  },
  {
   "cell_type": "markdown",
   "id": "a2d0b848-4e8b-45ba-9fee-0eb43f1585c3",
   "metadata": {},
   "source": [
    "$$ v_3 = i_3 Z_3 = 31,62 \\, \\mathrm{V} \\angle 18,43^\\circ $$"
   ]
  },
  {
   "cell_type": "markdown",
   "id": "891b6792-23e0-4536-b624-e6e951fe8faa",
   "metadata": {},
   "source": [
    "Diagrama fasorial:\n",
    "<img src=\"img/tp2e8-2.png\" alt=\"tp2e8-2.png\">"
   ]
  },
  {
   "cell_type": "markdown",
   "id": "e0bbc709-d27e-478b-8935-a57902839b54",
   "metadata": {},
   "source": [
    "### Usando python (opcional)"
   ]
  },
  {
   "cell_type": "code",
   "execution_count": 50,
   "id": "944a0cde-2708-46ef-8cf5-a9b599ac5542",
   "metadata": {},
   "outputs": [],
   "source": [
    "import numpy as np\n",
    "import math, cmath"
   ]
  },
  {
   "cell_type": "code",
   "execution_count": 51,
   "id": "01cda260-69eb-471a-8170-8ed64e76511c",
   "metadata": {},
   "outputs": [
    {
     "name": "stdout",
     "output_type": "stream",
     "text": [
      "Corrientes (coordenadas rectangulares):\n",
      "I1 = 7.00-1.00j A\n",
      "I2 = 1.00-3.00j A\n",
      "I3 = 6.00+2.00j A\n"
     ]
    }
   ],
   "source": [
    "M = np.array([ [15 , -5],[-5 , 5+10j] ])\n",
    "M1 = np.array([ [100 , -5],[0 , 5+10j] ])\n",
    "M2 = np.array([ [15 , 100],[-5 ,0 ] ])\n",
    "Delta = np.linalg.det(M)\n",
    "Delta1 = np.linalg.det(M1)\n",
    "Delta2 = np.linalg.det(M2)\n",
    "I1 = Delta1/Delta\n",
    "I2 = Delta2/Delta\n",
    "I3 = I1 - I2\n",
    "\n",
    "print('Corrientes (coordenadas rectangulares):')\n",
    "print('I1 = {:.2f} A'.format(I1))\n",
    "print('I2 = {:.2f} A'.format(I2))\n",
    "print('I3 = {:.2f} A'.format(I3))"
   ]
  },
  {
   "cell_type": "code",
   "execution_count": 52,
   "id": "f7f39317-aa5f-4e81-9667-b0151f4d69f0",
   "metadata": {},
   "outputs": [
    {
     "name": "stdout",
     "output_type": "stream",
     "text": [
      "Corrientes (coordenadas polares):\n",
      "I1 = (7.07 < -8.13°) A\n",
      "I2 = (3.16 < -71.57°) A\n",
      "I3 = (6.32 < 18.43°) A\n"
     ]
    }
   ],
   "source": [
    "# Conversión a coordenadas polares (radianes)\n",
    "I1_pol = cmath.polar(I1)\n",
    "I2_pol = cmath.polar(I2)\n",
    "I3_pol = cmath.polar(I3)\n",
    "\n",
    "print('Corrientes (coordenadas polares):')\n",
    "print('I1 = (%.2f < %.2f°) A'%(I1_pol[0] , np.rad2deg(I1_pol[1]) )  )\n",
    "print('I2 = (%.2f < %.2f°) A'%(I2_pol[0] , np.rad2deg(I2_pol[1]) )  )\n",
    "print('I3 = (%.2f < %.2f°) A'%(I3_pol[0] , np.rad2deg(I3_pol[1]) )  )"
   ]
  },
  {
   "cell_type": "code",
   "execution_count": 53,
   "id": "e3825b57-7f0c-4161-8b93-9b7f225e3862",
   "metadata": {},
   "outputs": [],
   "source": [
    "%reset -s -f"
   ]
  }
 ],
 "metadata": {
  "kernelspec": {
   "display_name": "Python 3 (ipykernel)",
   "language": "python",
   "name": "python3"
  },
  "language_info": {
   "codemirror_mode": {
    "name": "ipython",
    "version": 3
   },
   "file_extension": ".py",
   "mimetype": "text/x-python",
   "name": "python",
   "nbconvert_exporter": "python",
   "pygments_lexer": "ipython3",
   "version": "3.9.12"
  }
 },
 "nbformat": 4,
 "nbformat_minor": 5
}
