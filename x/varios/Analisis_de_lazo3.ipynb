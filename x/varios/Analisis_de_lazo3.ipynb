{
 "cells": [
  {
   "cell_type": "markdown",
   "metadata": {
    "kernel": "SoS"
   },
   "source": [
    "## Problema de práctica 10.4\n",
    "Calcule la $I_0$ en el circuito de la figura"
   ]
  },
  {
   "cell_type": "markdown",
   "metadata": {
    "kernel": "Python 3"
   },
   "source": [
    "<img src=\"img/ejpr10-4.png\" alt=\"ejpr10-14.png\">"
   ]
  },
  {
   "cell_type": "markdown",
   "metadata": {
    "kernel": "SoS"
   },
   "source": [
    "### Solución"
   ]
  },
  {
   "cell_type": "markdown",
   "metadata": {
    "kernel": "SoS"
   },
   "source": [
    "$$ (10 - 4j + 5) I_1 - (-4j) I_2 - 5 I_3 = 0 $$"
   ]
  },
  {
   "cell_type": "markdown",
   "metadata": {
    "kernel": "SoS"
   },
   "source": [
    "$$ (15 - 4j) I_1 + (4j) I_2 - 5 I_3 = 0 \\tag{1} $$"
   ]
  },
  {
   "cell_type": "markdown",
   "metadata": {
    "kernel": "SoS"
   },
   "source": [
    "Supermalla"
   ]
  },
  {
   "cell_type": "markdown",
   "metadata": {
    "kernel": "SoS"
   },
   "source": [
    "$$ (-5+4j) I_1 + (4j) I_2 + (5-6j) I_3 = 25 \\tag{2} $$"
   ]
  },
  {
   "cell_type": "markdown",
   "metadata": {
    "kernel": "SoS"
   },
   "source": [
    "Debido a la fuente de corriente entre las mallas 2 y 3"
   ]
  },
  {
   "cell_type": "markdown",
   "metadata": {
    "kernel": "SoS"
   },
   "source": [
    "$$ - I_2 + I_3 = 1 \\tag{3} $$"
   ]
  },
  {
   "cell_type": "markdown",
   "metadata": {
    "kernel": "SoS"
   },
   "source": [
    "### Método 1"
   ]
  },
  {
   "cell_type": "markdown",
   "metadata": {
    "kernel": "Octave"
   },
   "source": [
    "Se obtienen los siguientes determinantes"
   ]
  },
  {
   "cell_type": "markdown",
   "metadata": {
    "kernel": "Octave"
   },
   "source": [
    "$$ \\Delta = \n",
    "\\left| \n",
    "\\begin{array}{ccc}\n",
    "15 - 4j & 4j & -5 \\\\\n",
    "-5 + 4j & 4j & 5 - 6j \\\\\n",
    "0 & -1 & 1\n",
    "\\end{array}\n",
    "\\right|$$"
   ]
  },
  {
   "cell_type": "code",
   "execution_count": 1,
   "metadata": {
    "kernel": "Octave"
   },
   "outputs": [
    {
     "name": "stdout",
     "output_type": "stream",
     "text": [
      "Delta =  58.0000 - 10.0000i\r\n"
     ]
    }
   ],
   "source": [
    "# octave\n",
    "M = [(15-4*j)      4*j    -5\n",
    "        (-5+4*j)     4*j    (5-6j)\n",
    "        0               -1       1];\n",
    "Delta = det(M)"
   ]
  },
  {
   "cell_type": "markdown",
   "metadata": {
    "kernel": "Octave"
   },
   "source": [
    "$$ \\Delta_1 = \n",
    "\\left| \n",
    "\\begin{array}{ccc}\n",
    "25 & 4j & -5 \\\\\n",
    "0 & 4j & 5 - 6j \\\\\n",
    "1 & -1 & 1\n",
    "\\end{array}\n",
    "\\right|$$"
   ]
  },
  {
   "cell_type": "code",
   "execution_count": 2,
   "metadata": {
    "kernel": "Octave"
   },
   "outputs": [
    {
     "name": "stdout",
     "output_type": "stream",
     "text": [
      "Delta1 =  149.000 -  10.000i\r\n"
     ]
    }
   ],
   "source": [
    "# octave\n",
    "M1 = [ 25   4*j   -5\n",
    "            0    4*j    5-6*j\n",
    "            1     -1      1];\n",
    "Delta1 = det(M1)"
   ]
  },
  {
   "cell_type": "markdown",
   "metadata": {
    "kernel": "Octave"
   },
   "source": [
    "$$ \\Delta_2 = \n",
    "\\left| \n",
    "\\begin{array}{ccc}\n",
    "15 - 4j & 25 & -5 \\\\\n",
    "-5 + 4j & 0 & 5 - 6j \\\\\n",
    "0 & 1 & 1\n",
    "\\end{array}\n",
    "\\right|$$"
   ]
  },
  {
   "cell_type": "code",
   "execution_count": 3,
   "metadata": {
    "kernel": "Octave"
   },
   "outputs": [
    {
     "name": "stdout",
     "output_type": "stream",
     "text": [
      "Delta2 =  99.000 - 10.000i\r\n"
     ]
    }
   ],
   "source": [
    "# octave\n",
    "M2 = [ 15-4*j  25  -5\n",
    "          -5+4*j   0    5-6*j\n",
    "             0        1      1];\n",
    "Delta2 = det(M2)"
   ]
  },
  {
   "cell_type": "markdown",
   "metadata": {
    "kernel": "Octave"
   },
   "source": [
    "$$ \\Delta_3 = \n",
    "\\left| \n",
    "\\begin{array}{ccc}\n",
    "15 - 4j & 4j & 25 \\\\\n",
    "-5 + 4j & 4j & 0 \\\\\n",
    "0 & -1 & 1\n",
    "\\end{array}\n",
    "\\right|$$"
   ]
  },
  {
   "cell_type": "code",
   "execution_count": 4,
   "metadata": {
    "kernel": "Octave"
   },
   "outputs": [
    {
     "name": "stdout",
     "output_type": "stream",
     "text": [
      "Delta3 =  157.000 -  20.000i\r\n"
     ]
    }
   ],
   "source": [
    "# octave\n",
    "M3 = [15-4*j    4j   25\n",
    "           -5+4*j   4j    0\n",
    "             0        -1     1];\n",
    "Delta3 = det(M3)"
   ]
  },
  {
   "cell_type": "code",
   "execution_count": 5,
   "metadata": {
    "kernel": "Octave"
   },
   "outputs": [
    {
     "name": "stdout",
     "output_type": "stream",
     "text": [
      "I1 =  2.52367 + 0.26270i\n",
      "I2 =  1.68649 + 0.11836i\n",
      "I3 =  2.68649 + 0.11836i\n"
     ]
    }
   ],
   "source": [
    "# octave\n",
    "I1 = Delta1/Delta\n",
    "I2 = Delta2/Delta\n",
    "I3 = Delta3/Delta"
   ]
  },
  {
   "cell_type": "markdown",
   "metadata": {
    "kernel": "Octave"
   },
   "source": [
    "$I_0 = I_1$, en notación polar"
   ]
  },
  {
   "cell_type": "code",
   "execution_count": 6,
   "metadata": {
    "kernel": "Octave"
   },
   "outputs": [
    {
     "name": "stdout",
     "output_type": "stream",
     "text": [
      "r0 =  2.5373\n",
      "phi0 =  5.9428\n"
     ]
    }
   ],
   "source": [
    "# octave\n",
    "r0 = abs(I1) \n",
    "phi0 = angle(I1)*180/pi  #  (grados)"
   ]
  },
  {
   "cell_type": "markdown",
   "metadata": {
    "kernel": "Octave"
   },
   "source": [
    "$$ I_0 = 2,5373 \\angle 5,9428^\\circ \\, \\mathrm{A} $$"
   ]
  },
  {
   "cell_type": "markdown",
   "metadata": {
    "kernel": "Octave"
   },
   "source": [
    "### Método 2\n",
    "Se puede usar octave para resolver las ecuaciones (1) a (3)."
   ]
  },
  {
   "cell_type": "markdown",
   "metadata": {
    "kernel": "Octave"
   },
   "source": [
    "$$\\left[\n",
    "\\begin{array}{ccc}\n",
    "15 - 4j & 4j & -5 \\\\\n",
    "-5 + 4j & 4j & 5 - 6j \\\\\n",
    "0 & -1 & 1\n",
    "\\end{array}\n",
    "\\right]\n",
    "\\left[\n",
    "\\begin{array}{c}\n",
    "I_1 \\\\\n",
    "I_2 \\\\\n",
    "I_3\n",
    "\\end{array}\n",
    "\\right]\n",
    "=\n",
    "\\left[\n",
    "\\begin{array}{c}\n",
    "25 \\\\\n",
    "0 \\\\\n",
    "1\n",
    "\\end{array}\n",
    "\\right]$$"
   ]
  },
  {
   "cell_type": "markdown",
   "metadata": {
    "kernel": "Octave"
   },
   "source": [
    "o sea\n",
    "$$ A I = B $$"
   ]
  },
  {
   "cell_type": "markdown",
   "metadata": {
    "kernel": "Octave"
   },
   "source": [
    "Al invertir $A$ se puede obtener $I$ como"
   ]
  },
  {
   "cell_type": "markdown",
   "metadata": {
    "kernel": "Octave"
   },
   "source": [
    "$$ I = A^{-1} B $$"
   ]
  },
  {
   "cell_type": "code",
   "execution_count": 7,
   "metadata": {
    "kernel": "Octave"
   },
   "outputs": [],
   "source": [
    "# octave\n",
    "#       I1            I2       I3        \n",
    "A = [(15-4*j)      4*j    -5\n",
    "        (-5+4*j)     4*j    (5-6j)\n",
    "            0           -1       1];\n",
    "\n",
    "B = [25 0 1]';            "
   ]
  },
  {
   "cell_type": "code",
   "execution_count": 8,
   "metadata": {
    "kernel": "Octave"
   },
   "outputs": [
    {
     "name": "stdout",
     "output_type": "stream",
     "text": [
      "I =\r\n",
      "\r\n",
      "   2.5237 + 0.2627i\r\n",
      "   1.6865 + 0.1184i\r\n",
      "   2.6865 + 0.1184i\r\n",
      "\r\n"
     ]
    }
   ],
   "source": [
    "# octave\n",
    "I = inv(A)*B"
   ]
  },
  {
   "cell_type": "code",
   "execution_count": 9,
   "metadata": {
    "kernel": "Octave"
   },
   "outputs": [
    {
     "name": "stdout",
     "output_type": "stream",
     "text": [
      "r =  2.5373\n",
      "phi =  5.9428\n"
     ]
    }
   ],
   "source": [
    "r = abs( I(1) )\n",
    "phi = angle( I(1) )*180/pi"
   ]
  },
  {
   "cell_type": "markdown",
   "metadata": {
    "kernel": "Octave"
   },
   "source": [
    "$$ I_1 = I_0 = 2,5373 \\angle 5,9428^\\circ \\, \\mathrm{A}$$"
   ]
  },
  {
   "cell_type": "code",
   "execution_count": null,
   "metadata": {
    "kernel": "Python 3"
   },
   "outputs": [],
   "source": []
  }
 ],
 "metadata": {
  "kernelspec": {
   "display_name": "Octave",
   "language": "octave",
   "name": "octave"
  },
  "language_info": {
   "file_extension": ".m",
   "help_links": [
    {
     "text": "GNU Octave",
     "url": "https://www.gnu.org/software/octave/support.html"
    },
    {
     "text": "Octave Kernel",
     "url": "https://github.com/Calysto/octave_kernel"
    },
    {
     "text": "MetaKernel Magics",
     "url": "https://metakernel.readthedocs.io/en/latest/source/README.html"
    }
   ],
   "mimetype": "text/x-octave",
   "name": "octave",
   "version": "5.2.0"
  },
  "sos": {
   "kernels": [
    [
     "Octave",
     "octave",
     "octave",
     "",
     ""
    ],
    [
     "Python 3",
     "python3",
     "python3",
     "",
     {
      "name": "ipython",
      "version": 3
     }
    ]
   ],
   "panel": {
    "displayed": false,
    "height": 0
   },
   "version": "0.21.7"
  }
 },
 "nbformat": 4,
 "nbformat_minor": 2
}
