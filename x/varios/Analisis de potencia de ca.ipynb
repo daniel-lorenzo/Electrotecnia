{
 "cells": [
  {
   "cell_type": "markdown",
   "metadata": {},
   "source": [
    "# Análisis de potencia de ca\n",
    "## Introducción\n",
    "La potencia es la cantidad más relevante en sistemas de suministro de electricidad, electrónicos y de cominicación, porque tales sistemas implican la transmisión de potencia de un punto a otro. De igual manera, cada aparato eléctrico industrial y doméstico, cada ventilador, motor, lampara, plancha, televisor y computadora personal, tiene una potencia nominal que indica cuánta potencia requiere el equipo. La forma más común de potencia eléctrica es la potencia de ca a 50 o 60 Hz. La elección de la ca sobre la cd permitió la transmisión de potencia en alta tensión desde la planta generadore de energía al consumidor."
   ]
  },
  {
   "cell_type": "markdown",
   "metadata": {},
   "source": [
    "## Potencia instantánea y promedio\n",
    "La *potencia instantánea p(t)* absorbida por un elemento es el producto de la tensión instantánea *v(t)* en las terminales del elemento y la corriente instantánea *i(t)* a través de él."
   ]
  },
  {
   "cell_type": "markdown",
   "metadata": {},
   "source": [
    "$$ p(t) = v(t) i(t) \\tag{1} $$"
   ]
  },
  {
   "cell_type": "markdown",
   "metadata": {},
   "source": [
    "<div class=\"alert-info\">La <strong>potencia instantánea</strong> (en watts) es la potencia en cualquier instante.\n",
    "    </div>"
   ]
  },
  {
   "cell_type": "markdown",
   "metadata": {},
   "source": [
    "Es la tasa en la cual un elemento absorbe energía. Sean la tensión y la corriente en las terminales del circuito."
   ]
  },
  {
   "cell_type": "markdown",
   "metadata": {},
   "source": [
    "$$ v(t) = V_m \\cos (\\omega t + \\theta_v) \\tag{2a} $$"
   ]
  },
  {
   "cell_type": "markdown",
   "metadata": {},
   "source": [
    "$$ i(t) = I_m \\cos (\\omega t + \\theta_i) \\tag{2b} $$"
   ]
  },
  {
   "cell_type": "markdown",
   "metadata": {},
   "source": [
    "donde $V_m$ e $I_m$ son las amplitudes (o valores pico) y $\\theta_v$ y $\\theta_i$ son los ángulos de fase de la tensión y la corriente, respectivamente. La potencia instantánea absorbida por el circuito es"
   ]
  },
  {
   "cell_type": "markdown",
   "metadata": {},
   "source": [
    "$$ p(t) = v(t) i(t) = V_m I_m \\cos(\\omega t + \\theta_v) \\cos (\\omega t + \\theta_i ) \\tag{3} $$"
   ]
  },
  {
   "cell_type": "markdown",
   "metadata": {},
   "source": [
    "Se aplica la identidad trigonométrica"
   ]
  },
  {
   "cell_type": "markdown",
   "metadata": {},
   "source": [
    "$$ \\cos A \\cos B = \\frac{1}{2} [ \\cos (A - B) + \\cos (A + B)] \\tag{4} $$"
   ]
  },
  {
   "cell_type": "markdown",
   "metadata": {},
   "source": [
    "y se expresa la ecuación $(3)$ como"
   ]
  },
  {
   "cell_type": "markdown",
   "metadata": {},
   "source": [
    "$$ p(t) = \\frac{1}{2} V_m I_m \\cos (\\theta_v - \\theta_i) + \\frac{1}{2} V_m I_m \\cos (2 \\omega t + \\theta_v \\theta_i) \\tag{5} $$"
   ]
  },
  {
   "cell_type": "markdown",
   "metadata": {},
   "source": [
    "Esto indica que la potencia instantánea tiene dos partes. La primera es constante o independiente del tiempo. Su valor depende de la diferencia de fase entre la tensión y la corriente. La segunda es una función senoidal cuya frecuencia es $2 \\omega$, el doble de la frecuencia angular de la tensión o la corriente."
   ]
  },
  {
   "cell_type": "markdown",
   "metadata": {},
   "source": [
    "Una gráfica de $p(t)$ en la ecuación $(5)$ se presenta en la figura, donde $T = 2 \\pi / \\omega$ es el periodo de la tensión o la corriente. Obsérvese que $p(t)$ es periódica, $p(t) = p (t + T_0)$, y que tiene un periodo de $T_0 = T/2$, ya que su frecuencia wa dos veces la de la tensión o la corriente. Obsérvese asimismo que $p(t)$ es positiva en cierta parte de cada ciclo y negativa en el resto del ciclo. Cuando $p(t)$ es positiva, el circuito absorve potencia. Cuando $pt(t)$ es negativa, la fuente absorbe potencia; es decir, se transfiere potencia del circuito a la fuente. Esto es posible a causa de los elemento de almacenamiento (capacitores e inductores) en el circuito."
   ]
  },
  {
   "cell_type": "markdown",
   "metadata": {},
   "source": [
    "<img src=\"img/fig11-2.png\" alt=\"fig11-2.png\">"
   ]
  },
  {
   "cell_type": "markdown",
   "metadata": {},
   "source": [
    "La potencia instantánea cambia con el tiempo, y por lo tanto es dificil de medir. La potencia *promedio* es más fácil de medir. De hecho, el wattímetro, el instrumento para medir la potencia, reponde a la potencia promedio."
   ]
  },
  {
   "cell_type": "markdown",
   "metadata": {},
   "source": [
    "<div class=\"alert-info\">La <strong>potencia promedio</strong>, en watts, es el promedio de la potencia instantánea a lo largo de un periodo.\n",
    "    </div>"
   ]
  },
  {
   "cell_type": "markdown",
   "metadata": {},
   "source": [
    "Así, la potencia promedio está dada por"
   ]
  },
  {
   "cell_type": "markdown",
   "metadata": {},
   "source": [
    "$$ P = \\frac{1}{T} \\int_0^T p(t) \\, dt \\tag{6} $$"
   ]
  },
  {
   "cell_type": "markdown",
   "metadata": {},
   "source": [
    "Aunque la ecuación $(6)$  muestra el promedio sobre $T$, se obtendría el mismo resultado si se realizara la integración sobre el periodo real de $p(t)$, el cual es $T_0 = T/2$ ."
   ]
  },
  {
   "cell_type": "markdown",
   "metadata": {},
   "source": [
    "La sustitución de $p(t)$ de la ecuación $(5)$ en la ecuación $(6)$ produce"
   ]
  },
  {
   "cell_type": "markdown",
   "metadata": {},
   "source": [
    "$$ P = \\frac{1}{T} \\int_0^T \\frac{1}{2} V_m I_m \\cos (\\theta_v - \\theta_i) \\, dt $$"
   ]
  },
  {
   "cell_type": "markdown",
   "metadata": {},
   "source": [
    "$$ + \\frac{1}{T} \\int_0^T \\frac{1}{2} V_m I_i \\cos (2 \\omega t + \\theta_v + \\theta_i) \\, dt $$"
   ]
  },
  {
   "cell_type": "markdown",
   "metadata": {},
   "source": [
    "$$ = \\frac{1}{2} V_m I_m \\cos (\\theta_v - \\theta_i) \\frac{1}{T} \\int_0^T dt $$"
   ]
  },
  {
   "cell_type": "markdown",
   "metadata": {},
   "source": [
    "$$ + \\frac{1}{2} V_m I_m \\frac{1}{T} \\int_0^T \\cos (2 \\omega t + \\theta_v + \\theta_i) \\, dt \\tag{7} $$"
   ]
  },
  {
   "cell_type": "markdown",
   "metadata": {},
   "source": [
    "El primer integrando es constante, y el promedio de una constante es la misma constante. El segundo  integrando es una senoide. Se sabe que el promedio de una senoide a la largo de su periodo es de cero, por lo que el área bajo la senoide durante medio ciclo positivo  es cancelada por el área bajo ella durante el siguiente medio ciclo negativo. Así, el segundo término de la ecuación $(7)$ se anula y la potencia promedio se convierte en"
   ]
  },
  {
   "cell_type": "markdown",
   "metadata": {},
   "source": [
    "$$ P = \\frac{1}{2} V_m I_m \\cos(\\theta_v - \\theta_i) \\tag{8} $$"
   ]
  },
  {
   "cell_type": "markdown",
   "metadata": {},
   "source": [
    "Puesto que $\\cos (\\theta_v - \\theta_i) = \\cos (\\theta_i - \\theta_v)$, lo importante es la diferencia en la fases de la tensión y la corriente."
   ]
  },
  {
   "cell_type": "markdown",
   "metadata": {},
   "source": [
    "Cabe señalar que $p(t)$ es variable en el tiempo, mientras que $P$ no depende del tiempo. Para hallar la potencia instantánea, necesariamente debe tenerse $v(t)$ e $i(t)$ en el dominio del tiempo. En cambio, la potencia promedio puede hallarse cuando la tensión y la corriente se expresan en el dominio temporal, como en la ecuación $(8)$, o cuando se expresan en el dominio de frecuencia. Las formas fasoriales de $v(t)$ e $i(t)$ en la ecuación $(2)$ son $\\mathrm{V} = V_m \\angle \\theta_v$ e $\\mathrm{I} = I_m \\angle \\theta_i$, respectivamente. $P$ se calcula mediante la ecuación $(8)$ o empleando los fasores $\\mathrm{V}$ e $\\mathrm{I}$. Para emplear fasores, adviértase que"
   ]
  },
  {
   "cell_type": "markdown",
   "metadata": {},
   "source": [
    "$$ \\frac{1}{2} \\mathrm{V I^*} = \\frac{1}{2} V_m I_m \\angle (\\theta_v - \\theta_i) $$"
   ]
  },
  {
   "cell_type": "markdown",
   "metadata": {},
   "source": [
    "$$ = \\frac{1}{2} V_m I_m [ \\cos (\\theta_v - \\theta_i) + j \\sin (\\theta_v - \\theta_i)] \\tag{9} $$"
   ]
  },
  {
   "cell_type": "markdown",
   "metadata": {},
   "source": [
    "En la parte real de esta expresión se reconoce la potencia promedio *P*, de acuerdo con la ecuación"
   ]
  },
  {
   "cell_type": "markdown",
   "metadata": {},
   "source": [
    "$$\\begin{array}{|c|}\n",
    "\\hline\n",
    "\\displaystyle P = \\frac{1}{2} \\mathrm{Re[VI^*]} = {1 \\over 2} V_m I_m \\cos(\\theta_v - \\theta_i) \\tag{10} \\\\\n",
    "\\hline\n",
    "\\end{array}$$"
   ]
  },
  {
   "cell_type": "markdown",
   "metadata": {},
   "source": [
    "Considérese dos casos especiales de la ecuación (10). Cuando $\\theta_v = \\theta_i$, la tensión y la corriente están en fase. Esto implica un circuito puramente resistivo o carga resistiva *R*, y"
   ]
  },
  {
   "cell_type": "markdown",
   "metadata": {},
   "source": [
    "$$ P = {1 \\over 2} V_m I_m = {1 \\over 2} I^2_m R = {1 \\over 2} \\mathrm{|I|}^2 R \\tag{11} $$"
   ]
  },
  {
   "cell_type": "markdown",
   "metadata": {},
   "source": [
    "donde $\\mathrm{|I|^2 = I \\times I^*}$. La ecuación (11) indica que un circuito puramente resistivo absorbe todo el tiempo. Cuando $\\theta_v - \\theta_i = \\pm 90^\\circ$ se tiene un circuito puramente reactivo, y"
   ]
  },
  {
   "cell_type": "markdown",
   "metadata": {},
   "source": [
    "$$ P = {1 \\over 2} V_m I_m \\cos 90^\\circ = 0 \\tag{12} $$"
   ]
  },
  {
   "cell_type": "markdown",
   "metadata": {},
   "source": [
    "lo que indica que un circuito puramente reactivo no absorbe potencia en promedio. En suma,"
   ]
  },
  {
   "cell_type": "markdown",
   "metadata": {},
   "source": [
    "<div class=\"alert-info\">Una carga resistiva $(R)$ absorbe potencia todo el tiempo, mientras que una carga reactiva $(L \\; o \\; C)$ absorbe una potencia promedio nula. \n",
    "    </div>"
   ]
  },
  {
   "cell_type": "markdown",
   "metadata": {},
   "source": [
    "## Ejemplo 11.1\n",
    "Dado que"
   ]
  },
  {
   "cell_type": "markdown",
   "metadata": {},
   "source": [
    "$$\\begin{array}{l}\n",
    "v(t) = 120 \\cos (377t + 45^\\circ ) \\, \\mathrm{V} \\\\\n",
    "i(t) = 10 \\cos ( 377t - 10^\\circ) \\, \\mathrm{A}\n",
    "\\end{array}$$"
   ]
  },
  {
   "cell_type": "markdown",
   "metadata": {},
   "source": [
    "halle la potencia instantánea y la potencia promedio absorbidas por la red lineal pasiva de la figura."
   ]
  },
  {
   "cell_type": "markdown",
   "metadata": {},
   "source": [
    "<img src=\"img/fig11-1.png\" alt=\"fig11-1.png\">"
   ]
  },
  {
   "cell_type": "markdown",
   "metadata": {},
   "source": [
    "### Solución\n",
    "La potencia instantánea está dada por"
   ]
  },
  {
   "cell_type": "markdown",
   "metadata": {},
   "source": [
    "$$ p = vi = 1200 \\cos (377t + 45^\\circ) \\cos (377t - 10^\\circ) $$"
   ]
  },
  {
   "cell_type": "markdown",
   "metadata": {},
   "source": [
    "La aplicación de la identidad trigonométrica"
   ]
  },
  {
   "cell_type": "markdown",
   "metadata": {},
   "source": [
    "$$ \\cos A \\cos B = {1 \\over 2} [\\cos (A + B) + \\cos(A - B)] $$"
   ]
  },
  {
   "cell_type": "markdown",
   "metadata": {},
   "source": [
    "da como resultado"
   ]
  },
  {
   "cell_type": "markdown",
   "metadata": {},
   "source": [
    "$$ p = 600 [\\cos (754t + 35^\\circ) + \\cos 55^\\circ] $$"
   ]
  },
  {
   "cell_type": "markdown",
   "metadata": {},
   "source": [
    "o sea"
   ]
  },
  {
   "cell_type": "markdown",
   "metadata": {},
   "source": [
    "$$ p(t) = 344,2 + 600 \\cos (754t + 35^\\circ) \\, \\mathrm{W} $$"
   ]
  },
  {
   "cell_type": "markdown",
   "metadata": {},
   "source": [
    "La potencia promedio es"
   ]
  },
  {
   "cell_type": "markdown",
   "metadata": {},
   "source": [
    "$$ P = {1 \\over 2} V_m I_m \\cos(\\theta_v - \\theta_i) = {1 \\over 2} 120 (10) \\cos [(45^\\circ - (-10^\\circ)] $$"
   ]
  },
  {
   "cell_type": "markdown",
   "metadata": {},
   "source": [
    "$$ P = 600 \\cos 55^\\circ = 344,2 \\, \\mathrm{W} $$"
   ]
  },
  {
   "cell_type": "markdown",
   "metadata": {},
   "source": [
    "la cual es la parte constante de $p(t)$, arriba."
   ]
  },
  {
   "cell_type": "markdown",
   "metadata": {},
   "source": [
    "## Problema de práctica 11.1\n",
    "Calcule la potenci instantánea y la potencia promedio absorbidas por la red lineal pasiva, si"
   ]
  },
  {
   "cell_type": "markdown",
   "metadata": {},
   "source": [
    "$$ v(t) = 80 \\cos(10t + 20^\\circ) \\, \\mathrm{V} \\qquad ; \\qquad i(t) = 15 \\sin (10t + 60^\\circ) \\, \\mathrm{A} $$"
   ]
  },
  {
   "cell_type": "markdown",
   "metadata": {},
   "source": [
    "### Solución\n",
    "La potencia instantánea está dada por"
   ]
  },
  {
   "cell_type": "markdown",
   "metadata": {},
   "source": [
    "$$ p = vi $$"
   ]
  },
  {
   "cell_type": "markdown",
   "metadata": {},
   "source": [
    "i(t) = $ 15 \\sin(10t + 60^\\circ) = 15 \\cos(10t + 60^\\circ - 90^\\circ) = 15 \\cos (10t - 30^\\circ) \\, \\mathrm{A}$"
   ]
  },
  {
   "cell_type": "markdown",
   "metadata": {},
   "source": [
    "Entonces"
   ]
  },
  {
   "cell_type": "markdown",
   "metadata": {},
   "source": [
    "$$ p = vi = 80 \\cos (10t + 20^\\circ) \\cdot 15 \\cos (10t - 30^\\circ) $$"
   ]
  },
  {
   "cell_type": "markdown",
   "metadata": {},
   "source": [
    "$$ \\cos A \\cos B = {1 \\over 2} [\\cos(A + B) + \\cos(A - B)] $$"
   ]
  },
  {
   "cell_type": "markdown",
   "metadata": {},
   "source": [
    "$$ p = 600 [\\cos(20t - 10^\\circ) + \\cos(50^\\circ)]  $$"
   ]
  },
  {
   "cell_type": "markdown",
   "metadata": {},
   "source": [
    "$$ p = 385,67 + 600 \\cos (20t - 10^\\circ) \\, \\mathrm{W} $$"
   ]
  },
  {
   "cell_type": "markdown",
   "metadata": {},
   "source": [
    "La potencia promedio es"
   ]
  },
  {
   "cell_type": "markdown",
   "metadata": {},
   "source": [
    "$$ P = {1 \\over 2} V_m I_m \\cos (\\theta_v - \\theta_i) $$"
   ]
  },
  {
   "cell_type": "markdown",
   "metadata": {},
   "source": [
    "$$ P = {1 \\over 2} (80) (15) \\cos(20^\\circ - (-30)^\\circ) = 385,67 \\, \\mathrm{W} $$"
   ]
  },
  {
   "cell_type": "markdown",
   "metadata": {},
   "source": [
    "## Ejemplo 11.2\n",
    "Calcule la potencia promedio absorbida por una impedancia $Z = 30 - j70 \\, \\Omega$ cuando una tensión $\\mathrm{V} = 120 \\angle 0^\\circ$ se aplica en sus terminales."
   ]
  },
  {
   "cell_type": "markdown",
   "metadata": {},
   "source": [
    "### Solución\n",
    "La corriente a través de la impedancia es"
   ]
  },
  {
   "cell_type": "markdown",
   "metadata": {},
   "source": [
    "$$  I = \\frac{V}{Z} = \\frac{120 \\angle 0^\\circ}{30 -j70} = \\frac{120 \\angle 0^\\circ}{76,16 \\angle -66,8^\\circ} = 1,576 \\angle 66,8^\\circ \\, \\mathrm{A}  $$"
   ]
  },
  {
   "cell_type": "markdown",
   "metadata": {},
   "source": [
    "La potencia promedio es"
   ]
  },
  {
   "cell_type": "markdown",
   "metadata": {},
   "source": [
    "$$ P = {1 \\over 2} V_m I_m \\cos (\\theta_v - \\theta_i) = 37,24 \\, \\mathrm{W} $$"
   ]
  },
  {
   "cell_type": "code",
   "execution_count": 1,
   "metadata": {},
   "outputs": [],
   "source": [
    "import cmath, math"
   ]
  },
  {
   "cell_type": "code",
   "execution_count": 2,
   "metadata": {},
   "outputs": [],
   "source": [
    "# Datos:\n",
    "V = cmath.rect(120,0)\n",
    "Z = 30 - 70j"
   ]
  },
  {
   "cell_type": "code",
   "execution_count": 20,
   "metadata": {},
   "outputs": [],
   "source": [
    "I = V/Z\n",
    "\n",
    "Vm = abs(V)\n",
    "Im = abs(I)\n",
    "theta_v = cmath.phase(V)\n",
    "theta_i = cmath.phase(I)\n",
    "\n",
    "P = (1/2)* Vm*Im*math.cos(theta_v - theta_i)"
   ]
  },
  {
   "cell_type": "code",
   "execution_count": 22,
   "metadata": {},
   "outputs": [
    {
     "name": "stdout",
     "output_type": "stream",
     "text": [
      "I = (1.576 < 66.80°) A\n",
      "P = 37.24 W\n"
     ]
    }
   ],
   "source": [
    "print('I = (%.3f < %.2f°) A'%(abs(I) , math.degrees( cmath.phase(I) ) ))\n",
    "print('P = %.2f W'%P)"
   ]
  },
  {
   "cell_type": "code",
   "execution_count": 26,
   "metadata": {},
   "outputs": [],
   "source": [
    "%reset -s -f"
   ]
  },
  {
   "cell_type": "markdown",
   "metadata": {},
   "source": [
    "## Problema de práctica 11.2\n",
    "Una corriente $I = 10 \\angle 30^\\circ \\, \\mathrm{A}$ fluye a través de una impedancia $Z = 20 \\angle - 22^\\circ \\, \\Omega$.      \n",
    "Halle la potencia promedio suministrada a la impedancia."
   ]
  },
  {
   "cell_type": "markdown",
   "metadata": {},
   "source": [
    "### Solución\n",
    "$$ V = I Z = (10 \\angle 30^\\circ)(20 \\angle -22^\\circ) = 200 \\angle 8^\\circ \\, \\mathrm{V} $$"
   ]
  },
  {
   "cell_type": "markdown",
   "metadata": {},
   "source": [
    "$$ P = {1 \\over 2} V_m I_m \\cos(\\theta_v - \\theta_i) $$"
   ]
  },
  {
   "cell_type": "code",
   "execution_count": 27,
   "metadata": {},
   "outputs": [],
   "source": [
    "import cmath, math"
   ]
  },
  {
   "cell_type": "code",
   "execution_count": 29,
   "metadata": {},
   "outputs": [],
   "source": [
    "# Datos\n",
    "I = cmath.rect(10, math.radians(30) ) # A\n",
    "Z = cmath.rect(20, math.radians(-22) ) # Ohm"
   ]
  },
  {
   "cell_type": "code",
   "execution_count": 31,
   "metadata": {},
   "outputs": [],
   "source": [
    "V = I*Z\n",
    "\n",
    "Vm = abs(V)\n",
    "Im = abs(I)\n",
    "theta_v = cmath.phase(V)\n",
    "theta_i = cmath.phase(I)\n",
    "\n",
    "P = (1/2)*Vm*Im*math.cos( theta_v - theta_i )"
   ]
  },
  {
   "cell_type": "code",
   "execution_count": 33,
   "metadata": {},
   "outputs": [
    {
     "name": "stdout",
     "output_type": "stream",
     "text": [
      "Resultados:\n",
      "V = (200.0 < 8.00°) V\n",
      "P = 927.18 W\n"
     ]
    }
   ],
   "source": [
    "print('Resultados:')\n",
    "print('V = (%.1f < %.2f°) V'%(Vm, math.degrees(theta_v)) )\n",
    "print('P = %.2f W'%P)"
   ]
  },
  {
   "cell_type": "code",
   "execution_count": 34,
   "metadata": {},
   "outputs": [],
   "source": [
    "%reset -s -f"
   ]
  },
  {
   "cell_type": "markdown",
   "metadata": {},
   "source": [
    "## Ejemplo 11.3\n",
    "En referencia al circuito de la figura, halle la potencia promedio suministrada por la fuente y la potencia promedio absorbida por el resistor."
   ]
  },
  {
   "cell_type": "markdown",
   "metadata": {},
   "source": [
    "<img src=\"img/fig11-3.png\" alt=\"fig11-3.png\">"
   ]
  },
  {
   "cell_type": "markdown",
   "metadata": {},
   "source": [
    "### Solución\n",
    "La corriente I está dada por"
   ]
  },
  {
   "cell_type": "markdown",
   "metadata": {},
   "source": [
    "$$ I = \\frac{5 \\angle 30^\\circ}{4 - j2} = 1,118 \\angle 56,57^\\circ \\, \\mathrm{A} $$"
   ]
  },
  {
   "cell_type": "code",
   "execution_count": 35,
   "metadata": {},
   "outputs": [],
   "source": [
    "import cmath, math"
   ]
  },
  {
   "cell_type": "code",
   "execution_count": 36,
   "metadata": {},
   "outputs": [],
   "source": [
    "# Datos:\n",
    "Vs = cmath.rect(5, math.radians(30) )\n",
    "Z = 4 - 2j"
   ]
  },
  {
   "cell_type": "code",
   "execution_count": 37,
   "metadata": {},
   "outputs": [],
   "source": [
    "I = Vs/Z"
   ]
  },
  {
   "cell_type": "code",
   "execution_count": 38,
   "metadata": {},
   "outputs": [
    {
     "name": "stdout",
     "output_type": "stream",
     "text": [
      "I = (1.118 < 56.57°) A\n"
     ]
    }
   ],
   "source": [
    "print('I = (%.3f < %.2f°) A'%(abs(I), math.degrees( cmath.phase(I) ) ))"
   ]
  },
  {
   "cell_type": "markdown",
   "metadata": {},
   "source": [
    "La potencia suministrada por la fuente de tensión es"
   ]
  },
  {
   "cell_type": "markdown",
   "metadata": {},
   "source": [
    "$$ P = \\frac{1}{2} V_m I_m \\cos( \\theta_v - \\theta_i) = 2,5 \\, \\mathrm{W} $$"
   ]
  },
  {
   "cell_type": "code",
   "execution_count": 40,
   "metadata": {},
   "outputs": [],
   "source": [
    "P = (1/2)*abs(Vs)*abs(I)*math.cos( cmath.phase(Vs) - cmath.phase(I) )"
   ]
  },
  {
   "cell_type": "code",
   "execution_count": 41,
   "metadata": {},
   "outputs": [
    {
     "name": "stdout",
     "output_type": "stream",
     "text": [
      "P = 2.50 W\n"
     ]
    }
   ],
   "source": [
    "print('P = %.2f W'%P)"
   ]
  },
  {
   "cell_type": "markdown",
   "metadata": {},
   "source": [
    "La corriente a través del resistor es\n",
    "$$ I_R = I = 1,118 \\angle 56,57^\\circ \\, \\mathrm{A} $$"
   ]
  },
  {
   "cell_type": "markdown",
   "metadata": {},
   "source": [
    "y la tensión en sus terminales es\n",
    "$$ V_R = 4 I_R $$"
   ]
  },
  {
   "cell_type": "code",
   "execution_count": 42,
   "metadata": {},
   "outputs": [],
   "source": [
    "V_R = 4*I"
   ]
  },
  {
   "cell_type": "code",
   "execution_count": 44,
   "metadata": {},
   "outputs": [
    {
     "name": "stdout",
     "output_type": "stream",
     "text": [
      "V_R = (4.472 < 56.57°) V\n"
     ]
    }
   ],
   "source": [
    "print('V_R = (%.3f < %.2f°) V'%(abs(V_R), math.degrees( cmath.phase(V_R) ) ))"
   ]
  },
  {
   "cell_type": "markdown",
   "metadata": {},
   "source": [
    "La potencia absobriba por el resistor es"
   ]
  },
  {
   "cell_type": "markdown",
   "metadata": {},
   "source": [
    "$$ P_R = \\frac{1}{2} V_{mR} I_{mR} \\cos( \\theta_{vR} - \\theta_{iR} ) = 2,5 \\, \\mathrm{W} $$"
   ]
  },
  {
   "cell_type": "code",
   "execution_count": 45,
   "metadata": {},
   "outputs": [],
   "source": [
    "P_R = (1/2)*abs(V_R)*abs(I)*math.cos( cmath.phase(V_R) - cmath.phase(I) )"
   ]
  },
  {
   "cell_type": "code",
   "execution_count": 46,
   "metadata": {},
   "outputs": [
    {
     "name": "stdout",
     "output_type": "stream",
     "text": [
      "P_R = 2.50 W\n"
     ]
    }
   ],
   "source": [
    "print('P_R = %.2f W'%P_R)"
   ]
  },
  {
   "cell_type": "markdown",
   "metadata": {},
   "source": [
    "la cual es igual que la potencia promedio suministrada. El capacitor absorbe potencia promedio nula."
   ]
  },
  {
   "cell_type": "code",
   "execution_count": 47,
   "metadata": {},
   "outputs": [],
   "source": [
    "%reset -s -f"
   ]
  },
  {
   "cell_type": "code",
   "execution_count": 1,
   "metadata": {},
   "outputs": [],
   "source": [
    "import numpy as np\n",
    "import matplotlib.pyplot as plt"
   ]
  },
  {
   "cell_type": "code",
   "execution_count": 11,
   "metadata": {},
   "outputs": [],
   "source": [
    "x = np.linspace(-1, 6.28, 100)"
   ]
  },
  {
   "cell_type": "code",
   "execution_count": 15,
   "metadata": {},
   "outputs": [],
   "source": [
    "def f(x):\n",
    "    return np.cos(x)"
   ]
  },
  {
   "cell_type": "code",
   "execution_count": 27,
   "metadata": {},
   "outputs": [
    {
     "data": {
      "application/javascript": [
       "/* Put everything inside the global mpl namespace */\n",
       "window.mpl = {};\n",
       "\n",
       "\n",
       "mpl.get_websocket_type = function() {\n",
       "    if (typeof(WebSocket) !== 'undefined') {\n",
       "        return WebSocket;\n",
       "    } else if (typeof(MozWebSocket) !== 'undefined') {\n",
       "        return MozWebSocket;\n",
       "    } else {\n",
       "        alert('Your browser does not have WebSocket support. ' +\n",
       "              'Please try Chrome, Safari or Firefox ≥ 6. ' +\n",
       "              'Firefox 4 and 5 are also supported but you ' +\n",
       "              'have to enable WebSockets in about:config.');\n",
       "    };\n",
       "}\n",
       "\n",
       "mpl.figure = function(figure_id, websocket, ondownload, parent_element) {\n",
       "    this.id = figure_id;\n",
       "\n",
       "    this.ws = websocket;\n",
       "\n",
       "    this.supports_binary = (this.ws.binaryType != undefined);\n",
       "\n",
       "    if (!this.supports_binary) {\n",
       "        var warnings = document.getElementById(\"mpl-warnings\");\n",
       "        if (warnings) {\n",
       "            warnings.style.display = 'block';\n",
       "            warnings.textContent = (\n",
       "                \"This browser does not support binary websocket messages. \" +\n",
       "                    \"Performance may be slow.\");\n",
       "        }\n",
       "    }\n",
       "\n",
       "    this.imageObj = new Image();\n",
       "\n",
       "    this.context = undefined;\n",
       "    this.message = undefined;\n",
       "    this.canvas = undefined;\n",
       "    this.rubberband_canvas = undefined;\n",
       "    this.rubberband_context = undefined;\n",
       "    this.format_dropdown = undefined;\n",
       "\n",
       "    this.image_mode = 'full';\n",
       "\n",
       "    this.root = $('<div/>');\n",
       "    this._root_extra_style(this.root)\n",
       "    this.root.attr('style', 'display: inline-block');\n",
       "\n",
       "    $(parent_element).append(this.root);\n",
       "\n",
       "    this._init_header(this);\n",
       "    this._init_canvas(this);\n",
       "    this._init_toolbar(this);\n",
       "\n",
       "    var fig = this;\n",
       "\n",
       "    this.waiting = false;\n",
       "\n",
       "    this.ws.onopen =  function () {\n",
       "            fig.send_message(\"supports_binary\", {value: fig.supports_binary});\n",
       "            fig.send_message(\"send_image_mode\", {});\n",
       "            if (mpl.ratio != 1) {\n",
       "                fig.send_message(\"set_dpi_ratio\", {'dpi_ratio': mpl.ratio});\n",
       "            }\n",
       "            fig.send_message(\"refresh\", {});\n",
       "        }\n",
       "\n",
       "    this.imageObj.onload = function() {\n",
       "            if (fig.image_mode == 'full') {\n",
       "                // Full images could contain transparency (where diff images\n",
       "                // almost always do), so we need to clear the canvas so that\n",
       "                // there is no ghosting.\n",
       "                fig.context.clearRect(0, 0, fig.canvas.width, fig.canvas.height);\n",
       "            }\n",
       "            fig.context.drawImage(fig.imageObj, 0, 0);\n",
       "        };\n",
       "\n",
       "    this.imageObj.onunload = function() {\n",
       "        fig.ws.close();\n",
       "    }\n",
       "\n",
       "    this.ws.onmessage = this._make_on_message_function(this);\n",
       "\n",
       "    this.ondownload = ondownload;\n",
       "}\n",
       "\n",
       "mpl.figure.prototype._init_header = function() {\n",
       "    var titlebar = $(\n",
       "        '<div class=\"ui-dialog-titlebar ui-widget-header ui-corner-all ' +\n",
       "        'ui-helper-clearfix\"/>');\n",
       "    var titletext = $(\n",
       "        '<div class=\"ui-dialog-title\" style=\"width: 100%; ' +\n",
       "        'text-align: center; padding: 3px;\"/>');\n",
       "    titlebar.append(titletext)\n",
       "    this.root.append(titlebar);\n",
       "    this.header = titletext[0];\n",
       "}\n",
       "\n",
       "\n",
       "\n",
       "mpl.figure.prototype._canvas_extra_style = function(canvas_div) {\n",
       "\n",
       "}\n",
       "\n",
       "\n",
       "mpl.figure.prototype._root_extra_style = function(canvas_div) {\n",
       "\n",
       "}\n",
       "\n",
       "mpl.figure.prototype._init_canvas = function() {\n",
       "    var fig = this;\n",
       "\n",
       "    var canvas_div = $('<div/>');\n",
       "\n",
       "    canvas_div.attr('style', 'position: relative; clear: both; outline: 0');\n",
       "\n",
       "    function canvas_keyboard_event(event) {\n",
       "        return fig.key_event(event, event['data']);\n",
       "    }\n",
       "\n",
       "    canvas_div.keydown('key_press', canvas_keyboard_event);\n",
       "    canvas_div.keyup('key_release', canvas_keyboard_event);\n",
       "    this.canvas_div = canvas_div\n",
       "    this._canvas_extra_style(canvas_div)\n",
       "    this.root.append(canvas_div);\n",
       "\n",
       "    var canvas = $('<canvas/>');\n",
       "    canvas.addClass('mpl-canvas');\n",
       "    canvas.attr('style', \"left: 0; top: 0; z-index: 0; outline: 0\")\n",
       "\n",
       "    this.canvas = canvas[0];\n",
       "    this.context = canvas[0].getContext(\"2d\");\n",
       "\n",
       "    var backingStore = this.context.backingStorePixelRatio ||\n",
       "\tthis.context.webkitBackingStorePixelRatio ||\n",
       "\tthis.context.mozBackingStorePixelRatio ||\n",
       "\tthis.context.msBackingStorePixelRatio ||\n",
       "\tthis.context.oBackingStorePixelRatio ||\n",
       "\tthis.context.backingStorePixelRatio || 1;\n",
       "\n",
       "    mpl.ratio = (window.devicePixelRatio || 1) / backingStore;\n",
       "\n",
       "    var rubberband = $('<canvas/>');\n",
       "    rubberband.attr('style', \"position: absolute; left: 0; top: 0; z-index: 1;\")\n",
       "\n",
       "    var pass_mouse_events = true;\n",
       "\n",
       "    canvas_div.resizable({\n",
       "        start: function(event, ui) {\n",
       "            pass_mouse_events = false;\n",
       "        },\n",
       "        resize: function(event, ui) {\n",
       "            fig.request_resize(ui.size.width, ui.size.height);\n",
       "        },\n",
       "        stop: function(event, ui) {\n",
       "            pass_mouse_events = true;\n",
       "            fig.request_resize(ui.size.width, ui.size.height);\n",
       "        },\n",
       "    });\n",
       "\n",
       "    function mouse_event_fn(event) {\n",
       "        if (pass_mouse_events)\n",
       "            return fig.mouse_event(event, event['data']);\n",
       "    }\n",
       "\n",
       "    rubberband.mousedown('button_press', mouse_event_fn);\n",
       "    rubberband.mouseup('button_release', mouse_event_fn);\n",
       "    // Throttle sequential mouse events to 1 every 20ms.\n",
       "    rubberband.mousemove('motion_notify', mouse_event_fn);\n",
       "\n",
       "    rubberband.mouseenter('figure_enter', mouse_event_fn);\n",
       "    rubberband.mouseleave('figure_leave', mouse_event_fn);\n",
       "\n",
       "    canvas_div.on(\"wheel\", function (event) {\n",
       "        event = event.originalEvent;\n",
       "        event['data'] = 'scroll'\n",
       "        if (event.deltaY < 0) {\n",
       "            event.step = 1;\n",
       "        } else {\n",
       "            event.step = -1;\n",
       "        }\n",
       "        mouse_event_fn(event);\n",
       "    });\n",
       "\n",
       "    canvas_div.append(canvas);\n",
       "    canvas_div.append(rubberband);\n",
       "\n",
       "    this.rubberband = rubberband;\n",
       "    this.rubberband_canvas = rubberband[0];\n",
       "    this.rubberband_context = rubberband[0].getContext(\"2d\");\n",
       "    this.rubberband_context.strokeStyle = \"#000000\";\n",
       "\n",
       "    this._resize_canvas = function(width, height) {\n",
       "        // Keep the size of the canvas, canvas container, and rubber band\n",
       "        // canvas in synch.\n",
       "        canvas_div.css('width', width)\n",
       "        canvas_div.css('height', height)\n",
       "\n",
       "        canvas.attr('width', width * mpl.ratio);\n",
       "        canvas.attr('height', height * mpl.ratio);\n",
       "        canvas.attr('style', 'width: ' + width + 'px; height: ' + height + 'px;');\n",
       "\n",
       "        rubberband.attr('width', width);\n",
       "        rubberband.attr('height', height);\n",
       "    }\n",
       "\n",
       "    // Set the figure to an initial 600x600px, this will subsequently be updated\n",
       "    // upon first draw.\n",
       "    this._resize_canvas(600, 600);\n",
       "\n",
       "    // Disable right mouse context menu.\n",
       "    $(this.rubberband_canvas).bind(\"contextmenu\",function(e){\n",
       "        return false;\n",
       "    });\n",
       "\n",
       "    function set_focus () {\n",
       "        canvas.focus();\n",
       "        canvas_div.focus();\n",
       "    }\n",
       "\n",
       "    window.setTimeout(set_focus, 100);\n",
       "}\n",
       "\n",
       "mpl.figure.prototype._init_toolbar = function() {\n",
       "    var fig = this;\n",
       "\n",
       "    var nav_element = $('<div/>');\n",
       "    nav_element.attr('style', 'width: 100%');\n",
       "    this.root.append(nav_element);\n",
       "\n",
       "    // Define a callback function for later on.\n",
       "    function toolbar_event(event) {\n",
       "        return fig.toolbar_button_onclick(event['data']);\n",
       "    }\n",
       "    function toolbar_mouse_event(event) {\n",
       "        return fig.toolbar_button_onmouseover(event['data']);\n",
       "    }\n",
       "\n",
       "    for(var toolbar_ind in mpl.toolbar_items) {\n",
       "        var name = mpl.toolbar_items[toolbar_ind][0];\n",
       "        var tooltip = mpl.toolbar_items[toolbar_ind][1];\n",
       "        var image = mpl.toolbar_items[toolbar_ind][2];\n",
       "        var method_name = mpl.toolbar_items[toolbar_ind][3];\n",
       "\n",
       "        if (!name) {\n",
       "            // put a spacer in here.\n",
       "            continue;\n",
       "        }\n",
       "        var button = $('<button/>');\n",
       "        button.addClass('ui-button ui-widget ui-state-default ui-corner-all ' +\n",
       "                        'ui-button-icon-only');\n",
       "        button.attr('role', 'button');\n",
       "        button.attr('aria-disabled', 'false');\n",
       "        button.click(method_name, toolbar_event);\n",
       "        button.mouseover(tooltip, toolbar_mouse_event);\n",
       "\n",
       "        var icon_img = $('<span/>');\n",
       "        icon_img.addClass('ui-button-icon-primary ui-icon');\n",
       "        icon_img.addClass(image);\n",
       "        icon_img.addClass('ui-corner-all');\n",
       "\n",
       "        var tooltip_span = $('<span/>');\n",
       "        tooltip_span.addClass('ui-button-text');\n",
       "        tooltip_span.html(tooltip);\n",
       "\n",
       "        button.append(icon_img);\n",
       "        button.append(tooltip_span);\n",
       "\n",
       "        nav_element.append(button);\n",
       "    }\n",
       "\n",
       "    var fmt_picker_span = $('<span/>');\n",
       "\n",
       "    var fmt_picker = $('<select/>');\n",
       "    fmt_picker.addClass('mpl-toolbar-option ui-widget ui-widget-content');\n",
       "    fmt_picker_span.append(fmt_picker);\n",
       "    nav_element.append(fmt_picker_span);\n",
       "    this.format_dropdown = fmt_picker[0];\n",
       "\n",
       "    for (var ind in mpl.extensions) {\n",
       "        var fmt = mpl.extensions[ind];\n",
       "        var option = $(\n",
       "            '<option/>', {selected: fmt === mpl.default_extension}).html(fmt);\n",
       "        fmt_picker.append(option);\n",
       "    }\n",
       "\n",
       "    // Add hover states to the ui-buttons\n",
       "    $( \".ui-button\" ).hover(\n",
       "        function() { $(this).addClass(\"ui-state-hover\");},\n",
       "        function() { $(this).removeClass(\"ui-state-hover\");}\n",
       "    );\n",
       "\n",
       "    var status_bar = $('<span class=\"mpl-message\"/>');\n",
       "    nav_element.append(status_bar);\n",
       "    this.message = status_bar[0];\n",
       "}\n",
       "\n",
       "mpl.figure.prototype.request_resize = function(x_pixels, y_pixels) {\n",
       "    // Request matplotlib to resize the figure. Matplotlib will then trigger a resize in the client,\n",
       "    // which will in turn request a refresh of the image.\n",
       "    this.send_message('resize', {'width': x_pixels, 'height': y_pixels});\n",
       "}\n",
       "\n",
       "mpl.figure.prototype.send_message = function(type, properties) {\n",
       "    properties['type'] = type;\n",
       "    properties['figure_id'] = this.id;\n",
       "    this.ws.send(JSON.stringify(properties));\n",
       "}\n",
       "\n",
       "mpl.figure.prototype.send_draw_message = function() {\n",
       "    if (!this.waiting) {\n",
       "        this.waiting = true;\n",
       "        this.ws.send(JSON.stringify({type: \"draw\", figure_id: this.id}));\n",
       "    }\n",
       "}\n",
       "\n",
       "\n",
       "mpl.figure.prototype.handle_save = function(fig, msg) {\n",
       "    var format_dropdown = fig.format_dropdown;\n",
       "    var format = format_dropdown.options[format_dropdown.selectedIndex].value;\n",
       "    fig.ondownload(fig, format);\n",
       "}\n",
       "\n",
       "\n",
       "mpl.figure.prototype.handle_resize = function(fig, msg) {\n",
       "    var size = msg['size'];\n",
       "    if (size[0] != fig.canvas.width || size[1] != fig.canvas.height) {\n",
       "        fig._resize_canvas(size[0], size[1]);\n",
       "        fig.send_message(\"refresh\", {});\n",
       "    };\n",
       "}\n",
       "\n",
       "mpl.figure.prototype.handle_rubberband = function(fig, msg) {\n",
       "    var x0 = msg['x0'] / mpl.ratio;\n",
       "    var y0 = (fig.canvas.height - msg['y0']) / mpl.ratio;\n",
       "    var x1 = msg['x1'] / mpl.ratio;\n",
       "    var y1 = (fig.canvas.height - msg['y1']) / mpl.ratio;\n",
       "    x0 = Math.floor(x0) + 0.5;\n",
       "    y0 = Math.floor(y0) + 0.5;\n",
       "    x1 = Math.floor(x1) + 0.5;\n",
       "    y1 = Math.floor(y1) + 0.5;\n",
       "    var min_x = Math.min(x0, x1);\n",
       "    var min_y = Math.min(y0, y1);\n",
       "    var width = Math.abs(x1 - x0);\n",
       "    var height = Math.abs(y1 - y0);\n",
       "\n",
       "    fig.rubberband_context.clearRect(\n",
       "        0, 0, fig.canvas.width / mpl.ratio, fig.canvas.height / mpl.ratio);\n",
       "\n",
       "    fig.rubberband_context.strokeRect(min_x, min_y, width, height);\n",
       "}\n",
       "\n",
       "mpl.figure.prototype.handle_figure_label = function(fig, msg) {\n",
       "    // Updates the figure title.\n",
       "    fig.header.textContent = msg['label'];\n",
       "}\n",
       "\n",
       "mpl.figure.prototype.handle_cursor = function(fig, msg) {\n",
       "    var cursor = msg['cursor'];\n",
       "    switch(cursor)\n",
       "    {\n",
       "    case 0:\n",
       "        cursor = 'pointer';\n",
       "        break;\n",
       "    case 1:\n",
       "        cursor = 'default';\n",
       "        break;\n",
       "    case 2:\n",
       "        cursor = 'crosshair';\n",
       "        break;\n",
       "    case 3:\n",
       "        cursor = 'move';\n",
       "        break;\n",
       "    }\n",
       "    fig.rubberband_canvas.style.cursor = cursor;\n",
       "}\n",
       "\n",
       "mpl.figure.prototype.handle_message = function(fig, msg) {\n",
       "    fig.message.textContent = msg['message'];\n",
       "}\n",
       "\n",
       "mpl.figure.prototype.handle_draw = function(fig, msg) {\n",
       "    // Request the server to send over a new figure.\n",
       "    fig.send_draw_message();\n",
       "}\n",
       "\n",
       "mpl.figure.prototype.handle_image_mode = function(fig, msg) {\n",
       "    fig.image_mode = msg['mode'];\n",
       "}\n",
       "\n",
       "mpl.figure.prototype.updated_canvas_event = function() {\n",
       "    // Called whenever the canvas gets updated.\n",
       "    this.send_message(\"ack\", {});\n",
       "}\n",
       "\n",
       "// A function to construct a web socket function for onmessage handling.\n",
       "// Called in the figure constructor.\n",
       "mpl.figure.prototype._make_on_message_function = function(fig) {\n",
       "    return function socket_on_message(evt) {\n",
       "        if (evt.data instanceof Blob) {\n",
       "            /* FIXME: We get \"Resource interpreted as Image but\n",
       "             * transferred with MIME type text/plain:\" errors on\n",
       "             * Chrome.  But how to set the MIME type?  It doesn't seem\n",
       "             * to be part of the websocket stream */\n",
       "            evt.data.type = \"image/png\";\n",
       "\n",
       "            /* Free the memory for the previous frames */\n",
       "            if (fig.imageObj.src) {\n",
       "                (window.URL || window.webkitURL).revokeObjectURL(\n",
       "                    fig.imageObj.src);\n",
       "            }\n",
       "\n",
       "            fig.imageObj.src = (window.URL || window.webkitURL).createObjectURL(\n",
       "                evt.data);\n",
       "            fig.updated_canvas_event();\n",
       "            fig.waiting = false;\n",
       "            return;\n",
       "        }\n",
       "        else if (typeof evt.data === 'string' && evt.data.slice(0, 21) == \"data:image/png;base64\") {\n",
       "            fig.imageObj.src = evt.data;\n",
       "            fig.updated_canvas_event();\n",
       "            fig.waiting = false;\n",
       "            return;\n",
       "        }\n",
       "\n",
       "        var msg = JSON.parse(evt.data);\n",
       "        var msg_type = msg['type'];\n",
       "\n",
       "        // Call the  \"handle_{type}\" callback, which takes\n",
       "        // the figure and JSON message as its only arguments.\n",
       "        try {\n",
       "            var callback = fig[\"handle_\" + msg_type];\n",
       "        } catch (e) {\n",
       "            console.log(\"No handler for the '\" + msg_type + \"' message type: \", msg);\n",
       "            return;\n",
       "        }\n",
       "\n",
       "        if (callback) {\n",
       "            try {\n",
       "                // console.log(\"Handling '\" + msg_type + \"' message: \", msg);\n",
       "                callback(fig, msg);\n",
       "            } catch (e) {\n",
       "                console.log(\"Exception inside the 'handler_\" + msg_type + \"' callback:\", e, e.stack, msg);\n",
       "            }\n",
       "        }\n",
       "    };\n",
       "}\n",
       "\n",
       "// from http://stackoverflow.com/questions/1114465/getting-mouse-location-in-canvas\n",
       "mpl.findpos = function(e) {\n",
       "    //this section is from http://www.quirksmode.org/js/events_properties.html\n",
       "    var targ;\n",
       "    if (!e)\n",
       "        e = window.event;\n",
       "    if (e.target)\n",
       "        targ = e.target;\n",
       "    else if (e.srcElement)\n",
       "        targ = e.srcElement;\n",
       "    if (targ.nodeType == 3) // defeat Safari bug\n",
       "        targ = targ.parentNode;\n",
       "\n",
       "    // jQuery normalizes the pageX and pageY\n",
       "    // pageX,Y are the mouse positions relative to the document\n",
       "    // offset() returns the position of the element relative to the document\n",
       "    var x = e.pageX - $(targ).offset().left;\n",
       "    var y = e.pageY - $(targ).offset().top;\n",
       "\n",
       "    return {\"x\": x, \"y\": y};\n",
       "};\n",
       "\n",
       "/*\n",
       " * return a copy of an object with only non-object keys\n",
       " * we need this to avoid circular references\n",
       " * http://stackoverflow.com/a/24161582/3208463\n",
       " */\n",
       "function simpleKeys (original) {\n",
       "  return Object.keys(original).reduce(function (obj, key) {\n",
       "    if (typeof original[key] !== 'object')\n",
       "        obj[key] = original[key]\n",
       "    return obj;\n",
       "  }, {});\n",
       "}\n",
       "\n",
       "mpl.figure.prototype.mouse_event = function(event, name) {\n",
       "    var canvas_pos = mpl.findpos(event)\n",
       "\n",
       "    if (name === 'button_press')\n",
       "    {\n",
       "        this.canvas.focus();\n",
       "        this.canvas_div.focus();\n",
       "    }\n",
       "\n",
       "    var x = canvas_pos.x * mpl.ratio;\n",
       "    var y = canvas_pos.y * mpl.ratio;\n",
       "\n",
       "    this.send_message(name, {x: x, y: y, button: event.button,\n",
       "                             step: event.step,\n",
       "                             guiEvent: simpleKeys(event)});\n",
       "\n",
       "    /* This prevents the web browser from automatically changing to\n",
       "     * the text insertion cursor when the button is pressed.  We want\n",
       "     * to control all of the cursor setting manually through the\n",
       "     * 'cursor' event from matplotlib */\n",
       "    event.preventDefault();\n",
       "    return false;\n",
       "}\n",
       "\n",
       "mpl.figure.prototype._key_event_extra = function(event, name) {\n",
       "    // Handle any extra behaviour associated with a key event\n",
       "}\n",
       "\n",
       "mpl.figure.prototype.key_event = function(event, name) {\n",
       "\n",
       "    // Prevent repeat events\n",
       "    if (name == 'key_press')\n",
       "    {\n",
       "        if (event.which === this._key)\n",
       "            return;\n",
       "        else\n",
       "            this._key = event.which;\n",
       "    }\n",
       "    if (name == 'key_release')\n",
       "        this._key = null;\n",
       "\n",
       "    var value = '';\n",
       "    if (event.ctrlKey && event.which != 17)\n",
       "        value += \"ctrl+\";\n",
       "    if (event.altKey && event.which != 18)\n",
       "        value += \"alt+\";\n",
       "    if (event.shiftKey && event.which != 16)\n",
       "        value += \"shift+\";\n",
       "\n",
       "    value += 'k';\n",
       "    value += event.which.toString();\n",
       "\n",
       "    this._key_event_extra(event, name);\n",
       "\n",
       "    this.send_message(name, {key: value,\n",
       "                             guiEvent: simpleKeys(event)});\n",
       "    return false;\n",
       "}\n",
       "\n",
       "mpl.figure.prototype.toolbar_button_onclick = function(name) {\n",
       "    if (name == 'download') {\n",
       "        this.handle_save(this, null);\n",
       "    } else {\n",
       "        this.send_message(\"toolbar_button\", {name: name});\n",
       "    }\n",
       "};\n",
       "\n",
       "mpl.figure.prototype.toolbar_button_onmouseover = function(tooltip) {\n",
       "    this.message.textContent = tooltip;\n",
       "};\n",
       "mpl.toolbar_items = [[\"Home\", \"Reset original view\", \"fa fa-home icon-home\", \"home\"], [\"Back\", \"Back to previous view\", \"fa fa-arrow-left icon-arrow-left\", \"back\"], [\"Forward\", \"Forward to next view\", \"fa fa-arrow-right icon-arrow-right\", \"forward\"], [\"\", \"\", \"\", \"\"], [\"Pan\", \"Pan axes with left mouse, zoom with right\", \"fa fa-arrows icon-move\", \"pan\"], [\"Zoom\", \"Zoom to rectangle\", \"fa fa-square-o icon-check-empty\", \"zoom\"], [\"\", \"\", \"\", \"\"], [\"Download\", \"Download plot\", \"fa fa-floppy-o icon-save\", \"download\"]];\n",
       "\n",
       "mpl.extensions = [\"eps\", \"jpeg\", \"pdf\", \"png\", \"ps\", \"raw\", \"svg\", \"tif\"];\n",
       "\n",
       "mpl.default_extension = \"png\";var comm_websocket_adapter = function(comm) {\n",
       "    // Create a \"websocket\"-like object which calls the given IPython comm\n",
       "    // object with the appropriate methods. Currently this is a non binary\n",
       "    // socket, so there is still some room for performance tuning.\n",
       "    var ws = {};\n",
       "\n",
       "    ws.close = function() {\n",
       "        comm.close()\n",
       "    };\n",
       "    ws.send = function(m) {\n",
       "        //console.log('sending', m);\n",
       "        comm.send(m);\n",
       "    };\n",
       "    // Register the callback with on_msg.\n",
       "    comm.on_msg(function(msg) {\n",
       "        //console.log('receiving', msg['content']['data'], msg);\n",
       "        // Pass the mpl event to the overridden (by mpl) onmessage function.\n",
       "        ws.onmessage(msg['content']['data'])\n",
       "    });\n",
       "    return ws;\n",
       "}\n",
       "\n",
       "mpl.mpl_figure_comm = function(comm, msg) {\n",
       "    // This is the function which gets called when the mpl process\n",
       "    // starts-up an IPython Comm through the \"matplotlib\" channel.\n",
       "\n",
       "    var id = msg.content.data.id;\n",
       "    // Get hold of the div created by the display call when the Comm\n",
       "    // socket was opened in Python.\n",
       "    var element = $(\"#\" + id);\n",
       "    var ws_proxy = comm_websocket_adapter(comm)\n",
       "\n",
       "    function ondownload(figure, format) {\n",
       "        window.open(figure.imageObj.src);\n",
       "    }\n",
       "\n",
       "    var fig = new mpl.figure(id, ws_proxy,\n",
       "                           ondownload,\n",
       "                           element.get(0));\n",
       "\n",
       "    // Call onopen now - mpl needs it, as it is assuming we've passed it a real\n",
       "    // web socket which is closed, not our websocket->open comm proxy.\n",
       "    ws_proxy.onopen();\n",
       "\n",
       "    fig.parent_element = element.get(0);\n",
       "    fig.cell_info = mpl.find_output_cell(\"<div id='\" + id + \"'></div>\");\n",
       "    if (!fig.cell_info) {\n",
       "        console.error(\"Failed to find cell for figure\", id, fig);\n",
       "        return;\n",
       "    }\n",
       "\n",
       "    var output_index = fig.cell_info[2]\n",
       "    var cell = fig.cell_info[0];\n",
       "\n",
       "};\n",
       "\n",
       "mpl.figure.prototype.handle_close = function(fig, msg) {\n",
       "    var width = fig.canvas.width/mpl.ratio\n",
       "    fig.root.unbind('remove')\n",
       "\n",
       "    // Update the output cell to use the data from the current canvas.\n",
       "    fig.push_to_output();\n",
       "    var dataURL = fig.canvas.toDataURL();\n",
       "    // Re-enable the keyboard manager in IPython - without this line, in FF,\n",
       "    // the notebook keyboard shortcuts fail.\n",
       "    IPython.keyboard_manager.enable()\n",
       "    $(fig.parent_element).html('<img src=\"' + dataURL + '\" width=\"' + width + '\">');\n",
       "    fig.close_ws(fig, msg);\n",
       "}\n",
       "\n",
       "mpl.figure.prototype.close_ws = function(fig, msg){\n",
       "    fig.send_message('closing', msg);\n",
       "    // fig.ws.close()\n",
       "}\n",
       "\n",
       "mpl.figure.prototype.push_to_output = function(remove_interactive) {\n",
       "    // Turn the data on the canvas into data in the output cell.\n",
       "    var width = this.canvas.width/mpl.ratio\n",
       "    var dataURL = this.canvas.toDataURL();\n",
       "    this.cell_info[1]['text/html'] = '<img src=\"' + dataURL + '\" width=\"' + width + '\">';\n",
       "}\n",
       "\n",
       "mpl.figure.prototype.updated_canvas_event = function() {\n",
       "    // Tell IPython that the notebook contents must change.\n",
       "    IPython.notebook.set_dirty(true);\n",
       "    this.send_message(\"ack\", {});\n",
       "    var fig = this;\n",
       "    // Wait a second, then push the new image to the DOM so\n",
       "    // that it is saved nicely (might be nice to debounce this).\n",
       "    setTimeout(function () { fig.push_to_output() }, 1000);\n",
       "}\n",
       "\n",
       "mpl.figure.prototype._init_toolbar = function() {\n",
       "    var fig = this;\n",
       "\n",
       "    var nav_element = $('<div/>');\n",
       "    nav_element.attr('style', 'width: 100%');\n",
       "    this.root.append(nav_element);\n",
       "\n",
       "    // Define a callback function for later on.\n",
       "    function toolbar_event(event) {\n",
       "        return fig.toolbar_button_onclick(event['data']);\n",
       "    }\n",
       "    function toolbar_mouse_event(event) {\n",
       "        return fig.toolbar_button_onmouseover(event['data']);\n",
       "    }\n",
       "\n",
       "    for(var toolbar_ind in mpl.toolbar_items){\n",
       "        var name = mpl.toolbar_items[toolbar_ind][0];\n",
       "        var tooltip = mpl.toolbar_items[toolbar_ind][1];\n",
       "        var image = mpl.toolbar_items[toolbar_ind][2];\n",
       "        var method_name = mpl.toolbar_items[toolbar_ind][3];\n",
       "\n",
       "        if (!name) { continue; };\n",
       "\n",
       "        var button = $('<button class=\"btn btn-default\" href=\"#\" title=\"' + name + '\"><i class=\"fa ' + image + ' fa-lg\"></i></button>');\n",
       "        button.click(method_name, toolbar_event);\n",
       "        button.mouseover(tooltip, toolbar_mouse_event);\n",
       "        nav_element.append(button);\n",
       "    }\n",
       "\n",
       "    // Add the status bar.\n",
       "    var status_bar = $('<span class=\"mpl-message\" style=\"text-align:right; float: right;\"/>');\n",
       "    nav_element.append(status_bar);\n",
       "    this.message = status_bar[0];\n",
       "\n",
       "    // Add the close button to the window.\n",
       "    var buttongrp = $('<div class=\"btn-group inline pull-right\"></div>');\n",
       "    var button = $('<button class=\"btn btn-mini btn-primary\" href=\"#\" title=\"Stop Interaction\"><i class=\"fa fa-power-off icon-remove icon-large\"></i></button>');\n",
       "    button.click(function (evt) { fig.handle_close(fig, {}); } );\n",
       "    button.mouseover('Stop Interaction', toolbar_mouse_event);\n",
       "    buttongrp.append(button);\n",
       "    var titlebar = this.root.find($('.ui-dialog-titlebar'));\n",
       "    titlebar.prepend(buttongrp);\n",
       "}\n",
       "\n",
       "mpl.figure.prototype._root_extra_style = function(el){\n",
       "    var fig = this\n",
       "    el.on(\"remove\", function(){\n",
       "\tfig.close_ws(fig, {});\n",
       "    });\n",
       "}\n",
       "\n",
       "mpl.figure.prototype._canvas_extra_style = function(el){\n",
       "    // this is important to make the div 'focusable\n",
       "    el.attr('tabindex', 0)\n",
       "    // reach out to IPython and tell the keyboard manager to turn it's self\n",
       "    // off when our div gets focus\n",
       "\n",
       "    // location in version 3\n",
       "    if (IPython.notebook.keyboard_manager) {\n",
       "        IPython.notebook.keyboard_manager.register_events(el);\n",
       "    }\n",
       "    else {\n",
       "        // location in version 2\n",
       "        IPython.keyboard_manager.register_events(el);\n",
       "    }\n",
       "\n",
       "}\n",
       "\n",
       "mpl.figure.prototype._key_event_extra = function(event, name) {\n",
       "    var manager = IPython.notebook.keyboard_manager;\n",
       "    if (!manager)\n",
       "        manager = IPython.keyboard_manager;\n",
       "\n",
       "    // Check for shift+enter\n",
       "    if (event.shiftKey && event.which == 13) {\n",
       "        this.canvas_div.blur();\n",
       "        // select the cell after this one\n",
       "        var index = IPython.notebook.find_cell_index(this.cell_info[0]);\n",
       "        IPython.notebook.select(index + 1);\n",
       "    }\n",
       "}\n",
       "\n",
       "mpl.figure.prototype.handle_save = function(fig, msg) {\n",
       "    fig.ondownload(fig, null);\n",
       "}\n",
       "\n",
       "\n",
       "mpl.find_output_cell = function(html_output) {\n",
       "    // Return the cell and output element which can be found *uniquely* in the notebook.\n",
       "    // Note - this is a bit hacky, but it is done because the \"notebook_saving.Notebook\"\n",
       "    // IPython event is triggered only after the cells have been serialised, which for\n",
       "    // our purposes (turning an active figure into a static one), is too late.\n",
       "    var cells = IPython.notebook.get_cells();\n",
       "    var ncells = cells.length;\n",
       "    for (var i=0; i<ncells; i++) {\n",
       "        var cell = cells[i];\n",
       "        if (cell.cell_type === 'code'){\n",
       "            for (var j=0; j<cell.output_area.outputs.length; j++) {\n",
       "                var data = cell.output_area.outputs[j];\n",
       "                if (data.data) {\n",
       "                    // IPython >= 3 moved mimebundle to data attribute of output\n",
       "                    data = data.data;\n",
       "                }\n",
       "                if (data['text/html'] == html_output) {\n",
       "                    return [cell, data, j];\n",
       "                }\n",
       "            }\n",
       "        }\n",
       "    }\n",
       "}\n",
       "\n",
       "// Register the function which deals with the matplotlib target/channel.\n",
       "// The kernel may be null if the page has been refreshed.\n",
       "if (IPython.notebook.kernel != null) {\n",
       "    IPython.notebook.kernel.comm_manager.register_target('matplotlib', mpl.mpl_figure_comm);\n",
       "}\n"
      ],
      "text/plain": [
       "<IPython.core.display.Javascript object>"
      ]
     },
     "metadata": {},
     "output_type": "display_data"
    },
    {
     "data": {
      "text/html": [
       "<img src=\"data:image/png;base64,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\" width=\"800\">"
      ],
      "text/plain": [
       "<IPython.core.display.HTML object>"
      ]
     },
     "metadata": {},
     "output_type": "display_data"
    }
   ],
   "source": [
    "%matplotlib notebook\n",
    "with plt.style.context('seaborn'):\n",
    "    plt.plot(x, f(x), 'g--',label=\"cos(x)\")\n",
    "    plt.plot(x, np.sin(x), 'r--',label=\"sin(x)\")\n",
    "    plt.xlabel(\"Eje $x$\")\n",
    "    plt.ylabel(\"$f(x)$\")\n",
    "    plt.legend()\n",
    "    plt.title(\"Función $f(x)$\")"
   ]
  },
  {
   "cell_type": "code",
   "execution_count": 20,
   "metadata": {},
   "outputs": [
    {
     "data": {
      "text/plain": [
       "['tableau-colorblind10',\n",
       " 'dark_background',\n",
       " 'seaborn-notebook',\n",
       " 'seaborn-white',\n",
       " 'fivethirtyeight',\n",
       " 'seaborn-whitegrid',\n",
       " 'seaborn-dark',\n",
       " 'seaborn-muted',\n",
       " 'seaborn-talk',\n",
       " 'seaborn-bright',\n",
       " 'seaborn-ticks',\n",
       " 'Solarize_Light2',\n",
       " 'seaborn-colorblind',\n",
       " 'seaborn-pastel',\n",
       " 'classic',\n",
       " 'grayscale',\n",
       " 'seaborn',\n",
       " 'seaborn-poster',\n",
       " 'seaborn-dark-palette',\n",
       " 'fast',\n",
       " 'ggplot',\n",
       " 'seaborn-paper',\n",
       " 'bmh',\n",
       " '_classic_test',\n",
       " 'seaborn-deep',\n",
       " 'seaborn-darkgrid']"
      ]
     },
     "execution_count": 20,
     "metadata": {},
     "output_type": "execute_result"
    }
   ],
   "source": [
    "plt.style.available"
   ]
  },
  {
   "cell_type": "markdown",
   "metadata": {},
   "source": [
    "## Potencia aparente y factor de potencia\n",
    "En la sección anterior se vio que si la tensión y la corriente en las terminales de un circuito son"
   ]
  },
  {
   "cell_type": "markdown",
   "metadata": {},
   "source": [
    "$$ v(t) = V_m \\cos (\\omega t + \\theta_v) \\quad \\mathrm{e} \\quad i(t) = I_m \\cos (\\omega t + \\theta_i) $$"
   ]
  },
  {
   "cell_type": "markdown",
   "metadata": {},
   "source": [
    "o en forma fasorial, $\\vec{V} = V_m \\angle \\theta_v$ e $\\vec{I} = I_m \\angle \\theta_i$, la potencia promedio es"
   ]
  },
  {
   "cell_type": "markdown",
   "metadata": {},
   "source": [
    "$$ P = {1 \\over 2} V_m I_m \\cos(\\theta_v - \\theta_i) $$"
   ]
  },
  {
   "cell_type": "markdown",
   "metadata": {},
   "source": [
    "$$ P = V_\\mathrm{rms} I_\\mathrm{rms} \\cos( \\theta_v - \\theta_i) = S \\cos (\\theta_v - \\theta_i) $$"
   ]
  },
  {
   "cell_type": "markdown",
   "metadata": {},
   "source": [
    "Se ha añadido un nuevo término a la ecuación:"
   ]
  },
  {
   "cell_type": "markdown",
   "metadata": {},
   "source": [
    "$$ S = V_\\mathrm{rms} I_\\mathrm{rms} $$"
   ]
  },
  {
   "cell_type": "markdown",
   "metadata": {},
   "source": [
    "La potencia promedio es producto de dos términos. El producto $V_\\mathrm{rms} I_\\mathrm{rms}$ se conoce como *potencia aparente* S. El factor $\\cos (\\theta_v - \\theta_i)$ se llama *factor de potencia* (fp)."
   ]
  },
  {
   "cell_type": "markdown",
   "metadata": {},
   "source": [
    "<div class=\"alert-info\">La <strong>potencia aparente</strong> (en VA) es el producto de los valores rms del voltaje por la corriente.\n",
    "    </div>"
   ]
  },
  {
   "cell_type": "markdown",
   "metadata": {},
   "source": [
    "La potencia aparente se llama así porque aparentemente la potencia debería ser el producto voltaja-corriente, por analogía con los circuitos resistivos de cd. Esta potencia se mide en volt-amperes o VA para distinguirla de la potencia promedio o real, la cual se mide en watts. El factor de potencia es adimensional, ya que es la proporción entre la potencia promedio y la potencia aparente,"
   ]
  },
  {
   "cell_type": "markdown",
   "metadata": {},
   "source": [
    "$$ \\mathrm{fp} = {P \\over S} = \\cos (\\theta_v - \\theta_i) $$"
   ]
  },
  {
   "cell_type": "markdown",
   "metadata": {},
   "source": [
    "El ángulo $\\theta_v - \\theta_i$ se llama *ángulo del factor de potencia*, dado que es el ángulo cuyo coseno es igual al factor de potencia."
   ]
  },
  {
   "cell_type": "markdown",
   "metadata": {},
   "source": [
    "<div class=\"alert-info\">El <strong>factor de potencia</strong> es el coseno de la diferencia de fase entre la tensión (voltaje) y la corriente. También es igual al coseno de la impedancia de la carga.\n",
    "    </div>"
   ]
  },
  {
   "cell_type": "markdown",
   "metadata": {},
   "source": [
    "$$ \\vec{Z} = { \\vec{Z} \\over \\vec{I} } = { \\vec{V}_\\mathrm{rms} \\over \\vec{I}_\\mathrm{rms} } = { V_\\mathrm{rms} \\over I_\\mathrm{rms} } \\angle \\theta_v - \\theta_i $$"
   ]
  },
  {
   "cell_type": "markdown",
   "metadata": {},
   "source": [
    "## Ejemplo 11.9\n",
    "Una carga conectada en serie toma una corriente $i(t) = 4 \\cos (100 \\pi t + 10^\\circ ) \\, \\mathrm{A}$ cuando la tensión aplicada es $v(t) = 120 \\cos (100 \\pi t - 20^\\circ ) \\, \\mathrm{V}$. Halle la potencia aparente y el factor de potencia de la carga. Determine los valores de los elementos que forman la carga conectada en serie."
   ]
  },
  {
   "cell_type": "markdown",
   "metadata": {},
   "source": [
    "### Solución\n",
    "La potencia aparenta es"
   ]
  },
  {
   "cell_type": "markdown",
   "metadata": {},
   "source": [
    "$$ S = V_\\mathrm{rms} I_\\mathrm{rms} = \\frac{120}{\\sqrt{2}} \\frac{4}{\\sqrt{2}} = 240 \\, \\mathrm{VA} $$"
   ]
  },
  {
   "cell_type": "markdown",
   "metadata": {},
   "source": [
    "El factor de potencia es"
   ]
  },
  {
   "cell_type": "markdown",
   "metadata": {},
   "source": [
    "$$ \\mathrm{fp} = \\cos (\\theta_v - \\theta_i) = \\cos (-20^\\circ - 10^\\circ) = 0,866 \\qquad \\mbox{(adelantado)} $$"
   ]
  },
  {
   "cell_type": "markdown",
   "metadata": {},
   "source": [
    "El fp está adelantado porque la corriente se adelanta a la tensión. El fp se puede obtener también a partir de la impedancia de la carga."
   ]
  },
  {
   "cell_type": "markdown",
   "metadata": {},
   "source": [
    "$$ \\vec{Z} = { \\vec{V} \\over \\vec{I} } = { 120 \\angle -20^\\circ \\over 4 \\angle 10^\\circ } = 30 \\angle -30^\\circ = 25,98 - j15 \\, \\Omega $$"
   ]
  },
  {
   "cell_type": "markdown",
   "metadata": {},
   "source": [
    "$$ \\mathrm{fp} = \\cos (-30^\\circ) = 0,866 \\qquad \\mbox{(adelantado)} $$"
   ]
  },
  {
   "cell_type": "markdown",
   "metadata": {},
   "source": [
    "La impedancia de carga $\\vec{V}$ puede modelarse como un resistencia de $25,98 \\, \\Omega$ en serie con un capacitor con"
   ]
  },
  {
   "cell_type": "markdown",
   "metadata": {},
   "source": [
    "$$ X_C = -15 = - \\frac{1}{\\omega C} $$"
   ]
  },
  {
   "cell_type": "markdown",
   "metadata": {},
   "source": [
    "o sea"
   ]
  },
  {
   "cell_type": "markdown",
   "metadata": {},
   "source": [
    "$$ C = \\frac{1}{15 \\omega} = \\frac{1}{15 \\times 100 \\pi} = 212,2 \\, \\mu \\mathrm{F} $$"
   ]
  },
  {
   "cell_type": "markdown",
   "metadata": {},
   "source": [
    "## Problema de práctica 11.9\n",
    "Obtenga el factor de potencia y la potencia aparente de una carga cuya impedancia resulta $\\vec{Z} = 60 + j40 \\, \\Omega$ cuando la tensión aplicada es $v(t) = 150 \\cos(377t + 10^\\circ) \\, \\mathrm{V}$."
   ]
  },
  {
   "cell_type": "markdown",
   "metadata": {},
   "source": [
    "### Solución\n",
    "El fp se puede obtener también a partir de la impedancia de la carga"
   ]
  },
  {
   "cell_type": "markdown",
   "metadata": {},
   "source": [
    "$$ \\vec{Z} = 60 + j40 \\, \\Omega = 72,11 \\angle 33,69^\\circ \\, \\Omega $$"
   ]
  },
  {
   "cell_type": "markdown",
   "metadata": {},
   "source": [
    "$$ \\mathrm{fp} = \\cos(33,69^\\circ) $$"
   ]
  },
  {
   "cell_type": "markdown",
   "metadata": {},
   "source": [
    "$$ i = \\frac{v}{Z} $$"
   ]
  },
  {
   "cell_type": "markdown",
   "metadata": {},
   "source": [
    "$$ V_\\mathrm{rms} = \\frac{|v|}{\\sqrt{2}} \\quad \\wedge \\quad I_\\mathrm{rms} = \\frac{|i|}{\\sqrt{2}}  $$"
   ]
  },
  {
   "cell_type": "markdown",
   "metadata": {},
   "source": [
    "$$ S = V_\\mathrm{rms} I_\\mathrm{rms} $$"
   ]
  },
  {
   "cell_type": "code",
   "execution_count": null,
   "metadata": {},
   "outputs": [],
   "source": [
    "import cmath, math"
   ]
  },
  {
   "cell_type": "code",
   "execution_count": 2,
   "metadata": {},
   "outputs": [],
   "source": [
    "# Datos:\n",
    "Z = 60 + 40j\n",
    "v = cmath.rect(150, math.radians(10) )"
   ]
  },
  {
   "cell_type": "code",
   "execution_count": 3,
   "metadata": {},
   "outputs": [],
   "source": [
    "fp = math.cos( cmath.phase(Z) )\n",
    "\n",
    "i = v/Z\n",
    "\n",
    "V_rms = abs(v)/math.sqrt(2)\n",
    "I_rms = abs(i)/math.sqrt(2)\n",
    "\n",
    "S = V_rms*I_rms"
   ]
  },
  {
   "cell_type": "code",
   "execution_count": 4,
   "metadata": {},
   "outputs": [
    {
     "name": "stdout",
     "output_type": "stream",
     "text": [
      "Resultados:\n",
      "Z = (72.11 < 33.69°) Ohm\n",
      "fp = 0.832\n",
      "S = 156.01 VA\n"
     ]
    }
   ],
   "source": [
    "print('Resultados:')\n",
    "print('Z = (%.2f < %.2f°) Ohm'%(abs(Z) , math.degrees( cmath.phase(Z) ) ))\n",
    "print('fp = %.3f'%fp)\n",
    "print('S = %.2f VA'%S)"
   ]
  },
  {
   "cell_type": "code",
   "execution_count": 8,
   "metadata": {},
   "outputs": [],
   "source": [
    "%reset -s -f"
   ]
  },
  {
   "cell_type": "markdown",
   "metadata": {},
   "source": [
    "## Ejemplo 11.10\n",
    "Determine el factor de potencia del circuito de la figura, visto desde la fuente. Calcule la potencia promedio suministrada por la fuente."
   ]
  },
  {
   "cell_type": "markdown",
   "metadata": {},
   "source": [
    "<img src=\"img/fig11-18.png\" alt=\"fig11-18.png\">"
   ]
  },
  {
   "cell_type": "markdown",
   "metadata": {},
   "source": [
    "### Solución\n",
    "La impedancia total es\n",
    "$$ Z = R_1 + \\frac{C_1 \\cdot R_2}{C_1 + R_2} $$"
   ]
  },
  {
   "cell_type": "markdown",
   "metadata": {},
   "source": [
    "El valor rms de la corriente es"
   ]
  },
  {
   "cell_type": "markdown",
   "metadata": {},
   "source": [
    "$$ I_\\mathrm{rms} = \\frac{V_\\mathrm{rms}}{Z} $$"
   ]
  },
  {
   "cell_type": "markdown",
   "metadata": {},
   "source": [
    "El factor de potencia es"
   ]
  },
  {
   "cell_type": "markdown",
   "metadata": {},
   "source": [
    "$$ \\mathrm{fp} = \\cos( \\mathrm{ang}(Z) ) $$"
   ]
  },
  {
   "cell_type": "markdown",
   "metadata": {},
   "source": [
    "La potencia promedio suministrada por la fuente es"
   ]
  },
  {
   "cell_type": "markdown",
   "metadata": {},
   "source": [
    "$$ P = |V_\\mathrm{rms}| |I_\\mathrm{rms}| \\, \\mathrm{fp} $$"
   ]
  },
  {
   "cell_type": "markdown",
   "metadata": {},
   "source": [
    "o sea\n",
    "$$ P = I^2_\\mathrm{rms} R $$"
   ]
  },
  {
   "cell_type": "markdown",
   "metadata": {},
   "source": [
    "donde *R* es la parte resistiva de *Z*."
   ]
  },
  {
   "cell_type": "code",
   "execution_count": 10,
   "metadata": {},
   "outputs": [],
   "source": [
    "import cmath, math"
   ]
  },
  {
   "cell_type": "code",
   "execution_count": 9,
   "metadata": {},
   "outputs": [],
   "source": [
    "# Datos:\n",
    "R1 = 6 # Ohm\n",
    "R2 = 4 # Ohm\n",
    "C1 = -2j # Ohm\n",
    "V_rms = 30 # V"
   ]
  },
  {
   "cell_type": "code",
   "execution_count": 17,
   "metadata": {},
   "outputs": [],
   "source": [
    "Z = R1 + (C1*R2)/(C1 + R2)\n",
    "I_rms = V_rms/Z\n",
    "fp = math.cos( cmath.phase(Z) )\n",
    "P = abs(V_rms)*abs(I_rms)*fp"
   ]
  },
  {
   "cell_type": "code",
   "execution_count": 18,
   "metadata": {},
   "outputs": [
    {
     "name": "stdout",
     "output_type": "stream",
     "text": [
      "fp = 0.9734    (adelantado)\n",
      "I_rms = (4.294 < 13.24°) A\n",
      "P = 125.4 W\n"
     ]
    }
   ],
   "source": [
    "print('fp = %.4f    (adelantado)'%fp)\n",
    "print('I_rms = (%.3f < %.2f°) A'%( abs(I_rms) , math.degrees( cmath.phase(I_rms) ) ))\n",
    "print('P = %.1f W'%P)"
   ]
  },
  {
   "cell_type": "code",
   "execution_count": 38,
   "metadata": {},
   "outputs": [
    {
     "name": "stdout",
     "output_type": "stream",
     "text": [
      "P = 125.4 W\n"
     ]
    }
   ],
   "source": [
    "print('P = %.1f W'%(abs(I_rms)**2 * Z.real))"
   ]
  },
  {
   "cell_type": "code",
   "execution_count": 39,
   "metadata": {},
   "outputs": [],
   "source": [
    "%reset -s -f"
   ]
  },
  {
   "cell_type": "markdown",
   "metadata": {},
   "source": [
    "## Problema de práctica 11.10\n",
    "Calcule el factor de potencia del circuito completo de la figura visto desde la fuente. ¿Cuál es la potencia promedio provista por la fuente?"
   ]
  },
  {
   "cell_type": "markdown",
   "metadata": {},
   "source": [
    "<img src=\"img/fig11-19.png\" alt=\"fig11-19.png\">"
   ]
  },
  {
   "cell_type": "markdown",
   "metadata": {},
   "source": [
    "### Solución"
   ]
  },
  {
   "cell_type": "code",
   "execution_count": 41,
   "metadata": {},
   "outputs": [],
   "source": [
    "import cmath, math"
   ]
  },
  {
   "cell_type": "code",
   "execution_count": 40,
   "metadata": {},
   "outputs": [],
   "source": [
    "# Datos:\n",
    "R1 = 10 # Ohm\n",
    "R2 = 8 # Ohm\n",
    "L1 = 0 + 4j # Ohm\n",
    "C1 = 0 - 6j # Ohm\n",
    "V_rms = 120 # V"
   ]
  },
  {
   "cell_type": "code",
   "execution_count": 43,
   "metadata": {},
   "outputs": [],
   "source": [
    "Zeq = R1 + (L1*(R2+C1))/(L1 + R2 + C1)\n",
    "fp = math.cos( cmath.phase(Zeq) )"
   ]
  },
  {
   "cell_type": "code",
   "execution_count": 45,
   "metadata": {},
   "outputs": [
    {
     "name": "stdout",
     "output_type": "stream",
     "text": [
      "fp = 0.936\n"
     ]
    }
   ],
   "source": [
    "print('fp = %.3f'%fp)"
   ]
  },
  {
   "cell_type": "code",
   "execution_count": 47,
   "metadata": {},
   "outputs": [],
   "source": [
    "I_rms = V_rms/Zeq\n",
    "P = abs(V_rms)*abs(I_rms)*fp"
   ]
  },
  {
   "cell_type": "code",
   "execution_count": 50,
   "metadata": {},
   "outputs": [
    {
     "name": "stdout",
     "output_type": "stream",
     "text": [
      "P = 1062 W\n"
     ]
    }
   ],
   "source": [
    "print('P = %.0f W'%P)"
   ]
  },
  {
   "cell_type": "code",
   "execution_count": 52,
   "metadata": {},
   "outputs": [
    {
     "name": "stdout",
     "output_type": "stream",
     "text": [
      "P = 1062 W\n"
     ]
    }
   ],
   "source": [
    "print('P = %.0f W'%( abs(I_rms)**2 * Zeq.real))"
   ]
  },
  {
   "cell_type": "code",
   "execution_count": 53,
   "metadata": {},
   "outputs": [],
   "source": [
    "%reset -s -f"
   ]
  },
  {
   "cell_type": "code",
   "execution_count": null,
   "metadata": {},
   "outputs": [],
   "source": []
  }
 ],
 "metadata": {
  "kernelspec": {
   "display_name": "Python 3",
   "language": "python",
   "name": "python3"
  },
  "language_info": {
   "codemirror_mode": {
    "name": "ipython",
    "version": 3
   },
   "file_extension": ".py",
   "mimetype": "text/x-python",
   "name": "python",
   "nbconvert_exporter": "python",
   "pygments_lexer": "ipython3",
   "version": "3.7.6"
  }
 },
 "nbformat": 4,
 "nbformat_minor": 4
}
