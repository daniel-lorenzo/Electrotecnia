{
 "cells": [
  {
   "cell_type": "markdown",
   "metadata": {},
   "source": [
    "# Análisis senoidal en estado estable"
   ]
  },
  {
   "cell_type": "markdown",
   "metadata": {},
   "source": [
    "## Pasos para analizar circuitos de ca\n",
    "1. Transformar el circuito al dominio fasorial o de frecuencia.\n",
    "2. Resolver el problema aplicando técnicas de circuitos (análisis nodal, análisis de malla, superposición, etc.)\n",
    "3. Transformar el fasor resultante al dominio del tiempo."
   ]
  },
  {
   "cell_type": "markdown",
   "metadata": {},
   "source": [
    "## Análisis nodal\n",
    "La base del análisis nodal es la ley de la corriente de Kirchhoff (LCK). Dado que la LCK es válida en el caso de los fasores, es posible analizar circuitos de ca por medio del análisis nodal."
   ]
  },
  {
   "cell_type": "markdown",
   "metadata": {},
   "source": [
    "## Ejemplo 10.1\n",
    "Halle $i_x$ en el circuito de la figura aplicando el análisis nodal.\n",
    "<img src=\"img/ej10-1.png\" alt=\"ej10-1.png\">"
   ]
  },
  {
   "cell_type": "markdown",
   "metadata": {},
   "source": [
    "### Solución\n",
    "Primero se convierte el circuito al dominio de frecuencia:"
   ]
  },
  {
   "cell_type": "markdown",
   "metadata": {},
   "source": [
    "$$\\begin{array}{rcll}\n",
    "20 \\cos 4t & \\Rightarrow & 20 \\angle 0^\\circ & \\omega = 4 \\, \\mathrm{rad/s} \\\\\n",
    "1 \\, \\mathrm{H} & \\Rightarrow & j \\omega L = j 4 \\\\\n",
    "0,5 \\, \\mathrm{F} & \\Rightarrow & j \\omega L = j 2 \\\\\n",
    "0,1 \\, \\mathrm{F} & \\Rightarrow & \\displaystyle \\frac{1}{j \\omega C} = -j 2,5\n",
    "\\end{array}$$"
   ]
  },
  {
   "cell_type": "markdown",
   "metadata": {},
   "source": [
    "Así, el circuito equivalente en el dominio de frecuencia es como se muestra en la figura.\n",
    "<img src=\"img/ej10-1-2.png\" alt=\"ej10-1-2.png\">"
   ]
  },
  {
   "cell_type": "markdown",
   "metadata": {},
   "source": [
    "Al aplicar LCK al nodo 1,\n",
    "$$ \\frac{20 - V_1}{10} = \\frac{V_1}{-j2,5} + \\frac{V_1 - V_2}{j4} $$"
   ]
  },
  {
   "cell_type": "markdown",
   "metadata": {},
   "source": [
    "o sea\n",
    "$$ (1  +j1,5) V_1 + j2,5 \\, V_2 = 20 \\tag{1} $$"
   ]
  },
  {
   "cell_type": "markdown",
   "metadata": {},
   "source": [
    "En el nodo 2,\n",
    "$$ 2 I_x + \\frac{V_1 - V_2}{j4} = \\frac{V_2}{j2} $$"
   ]
  },
  {
   "cell_type": "markdown",
   "metadata": {},
   "source": [
    "Pero $I_x = \\frac{V_1}{ -j2,5}$. La sustitución de esto da por resultado"
   ]
  },
  {
   "cell_type": "markdown",
   "metadata": {},
   "source": [
    "$$ \\frac{2V_1}{-j2,5} + \\frac{V_1 - V_2}{j4} = \\frac{V_2}{j2} $$"
   ]
  },
  {
   "cell_type": "markdown",
   "metadata": {},
   "source": [
    "Por simplificación se obtiene\n",
    "$$ 11 V_1 + 15 V_2 = 0 \\tag{2} $$"
   ]
  },
  {
   "cell_type": "markdown",
   "metadata": {},
   "source": [
    "Las ecuaciones (1) y (2) pueden ponerse en forma matricial como"
   ]
  },
  {
   "cell_type": "markdown",
   "metadata": {},
   "source": [
    "$$\\left[\n",
    "\\begin{array}{cc}\n",
    "1+ j1,5 & j2,5 \\\\\n",
    "11 & 15\n",
    "\\end{array}\n",
    "\\right]\n",
    "\\left[\n",
    "\\begin{array}{c}\n",
    "V_1 \\\\\n",
    "V_2\n",
    "\\end{array}\n",
    "\\right] =\n",
    "\\left[\n",
    "\\begin{array}{c}\n",
    "20 \\\\\n",
    "0\n",
    "\\end{array}\n",
    "\\right]\n",
    "$$"
   ]
  },
  {
   "cell_type": "markdown",
   "metadata": {},
   "source": [
    "Se obtienen los determinantes como"
   ]
  },
  {
   "cell_type": "markdown",
   "metadata": {},
   "source": [
    "$$ \\Delta = \n",
    "\\left|\n",
    "\\begin{array}{cc}\n",
    "1 + j1,5 & j2,5 \\\\\n",
    "11 & 15\n",
    "\\end{array}\n",
    "\\right| = 15 - j5$$"
   ]
  },
  {
   "cell_type": "markdown",
   "metadata": {},
   "source": [
    "$$ \\Delta_1 =\n",
    "\\left|\n",
    "\\begin{array}{cc}\n",
    "20 & j2,5 \\\\\n",
    "0 & 15\n",
    "\\end{array}\n",
    "\\right| = 300$$"
   ]
  },
  {
   "cell_type": "markdown",
   "metadata": {},
   "source": [
    "$$ \\Delta_2 =\n",
    "\\left|\n",
    "\\begin{array}{cc}\n",
    "1 + j1,5 & 20 \\\\\n",
    "11 & 0\n",
    "\\end{array}\n",
    "\\right| = -220 $$"
   ]
  },
  {
   "cell_type": "markdown",
   "metadata": {},
   "source": [
    "$$ V_1 = \\frac{\\Delta_1}{\\Delta} = \\frac{300}{15 - j5} = 18,97 \\angle 18,43^\\circ \\, \\mathrm{V} $$"
   ]
  },
  {
   "cell_type": "markdown",
   "metadata": {},
   "source": [
    "$$ V_2 = \\frac{\\Delta_2}{\\Delta} = \\frac{-220}{15 - j5} = 13,91 \\angle 198,3^\\circ \\, \\mathrm{V} $$"
   ]
  },
  {
   "cell_type": "markdown",
   "metadata": {},
   "source": [
    "La corriente $I_x$ está dada por"
   ]
  },
  {
   "cell_type": "markdown",
   "metadata": {},
   "source": [
    "$$ I_x = \\frac{V_1}{-j2,5} = \\frac{18,97 \\angle 18,43^\\circ}{2,5 \\angle -90^\\circ} = 7,59 \\angle 108,4^\\circ \\, \\mathrm{A} $$"
   ]
  },
  {
   "cell_type": "markdown",
   "metadata": {},
   "source": [
    "Al transformar esto al dominio de tiempo,"
   ]
  },
  {
   "cell_type": "markdown",
   "metadata": {},
   "source": [
    "$$ i_x = 7,59 \\cos (4t + 108,4^\\circ ) \\, \\mathrm{A} $$"
   ]
  },
  {
   "cell_type": "markdown",
   "metadata": {},
   "source": [
    "## Problema de práctica 10.1\n",
    "Aplicando el análisis nodal, halle $v_1$ y $v_2$ en el circuito de la figura."
   ]
  },
  {
   "cell_type": "markdown",
   "metadata": {},
   "source": [
    "<img src=\"img/ejpr10-1.png\" alt=\"ejpr10-1.png\">"
   ]
  },
  {
   "cell_type": "markdown",
   "metadata": {},
   "source": [
    "### Solución\n",
    "Primero se convierte el circuito al dominio de frecuencia:"
   ]
  },
  {
   "cell_type": "markdown",
   "metadata": {},
   "source": [
    "$$\\begin{array}{rcll}\n",
    "10 \\sin 2t & \\Rightarrow & 10 \\angle 0^\\circ & \\omega = 2 \\, \\mathrm{rad/s} \\\\\n",
    "2 \\, \\mathrm{H} & \\Rightarrow & j \\omega L = j4 \\\\\n",
    "0,2 \\, \\mathrm{F} & \\Rightarrow & \\displaystyle \\frac{1}{j \\omega C} = -j2,5\n",
    "\\end{array}$$"
   ]
  },
  {
   "cell_type": "markdown",
   "metadata": {},
   "source": [
    "Al aplicar LCK al nodo 1"
   ]
  },
  {
   "cell_type": "markdown",
   "metadata": {},
   "source": [
    "$$ 10 = \\frac{V_1}{2} + \\frac{V_1 - V_2}{-j2,5} $$"
   ]
  },
  {
   "cell_type": "markdown",
   "metadata": {},
   "source": [
    "$$ 10 (2)(-j2,5) = \\frac{V_1}{2} (2)(-j2,5) + \\frac{V_1 - V_2}{-j2,5} (2) (-j2,5) $$"
   ]
  },
  {
   "cell_type": "markdown",
   "metadata": {},
   "source": [
    "$$ -50j = V_1 (-j2,5) + 2(V_1 - V_2) $$"
   ]
  },
  {
   "cell_type": "markdown",
   "metadata": {},
   "source": [
    "$$ (2 - 2,5j) V1 - 2 V_2 = -50j \\tag{1} $$"
   ]
  },
  {
   "cell_type": "markdown",
   "metadata": {},
   "source": [
    "Al aplicar LCK al nodo 2"
   ]
  },
  {
   "cell_type": "markdown",
   "metadata": {},
   "source": [
    "$$ \\frac{V_1 - V_2}{-j2,5} = \\frac{V_2 - 3V_1}{4} + \\frac{V_2}{j4} $$"
   ]
  },
  {
   "cell_type": "markdown",
   "metadata": {},
   "source": [
    "$$ (V_1 - V_2) (4) (j4) = (V_2 - 3V_1) (-j2,5) (j4) + V_2 (-j2,5) (4) $$"
   ]
  },
  {
   "cell_type": "markdown",
   "metadata": {},
   "source": [
    "$$ (V1 - V2) 16j = (V_2 - 3V_1) 10 + V_2 (-j10) $$"
   ]
  },
  {
   "cell_type": "markdown",
   "metadata": {},
   "source": [
    "$$ (30 + j16) V_1 - (10 + j6) V_2 = 0 \\tag{2} $$"
   ]
  },
  {
   "cell_type": "markdown",
   "metadata": {},
   "source": [
    "Las ecuaciones (1) y (2) pueden ponerse en forma matricial como"
   ]
  },
  {
   "cell_type": "markdown",
   "metadata": {},
   "source": [
    "$$\\left[\n",
    "\\begin{array}{cc}\n",
    "2 - 2,5j & -2 \\\\\n",
    "30 + 16j & -10 - 6j\n",
    "\\end{array}\n",
    "\\right]\n",
    "\\left[\n",
    "\\begin{array}{c}\n",
    "-50j \\\\\n",
    "0\n",
    "\\end{array}\n",
    "\\right]$$"
   ]
  },
  {
   "cell_type": "markdown",
   "metadata": {},
   "source": [
    "Se obtienen los determinantes como"
   ]
  },
  {
   "cell_type": "markdown",
   "metadata": {},
   "source": [
    "$$ \\Delta =\n",
    "\\left|\n",
    "\\begin{array}{cc}\n",
    "2 - 2,5j & -2 \\\\\n",
    "30 + 16j & -10 - 6j\n",
    "\\end{array}\n",
    "\\right|\n",
    "$$"
   ]
  },
  {
   "cell_type": "code",
   "execution_count": 1,
   "metadata": {},
   "outputs": [],
   "source": [
    "import numpy as np"
   ]
  },
  {
   "cell_type": "code",
   "execution_count": 2,
   "metadata": {},
   "outputs": [
    {
     "name": "stdout",
     "output_type": "stream",
     "text": [
      "Delta = 25.00+45.00j\n"
     ]
    }
   ],
   "source": [
    "M = np.array([[2-2.5j   ,   -2       ],\n",
    "                       [30+16j ,-(10+6j)]  ])\n",
    "Delta = np.linalg.det(M)\n",
    "print('Delta = {:.2f}'.format(Delta))"
   ]
  },
  {
   "cell_type": "markdown",
   "metadata": {},
   "source": [
    "$$ \\Delta_1 =\n",
    "\\left|\n",
    "\\begin{array}{cc}\n",
    "-50j & -2 \\\\\n",
    "0 & -10 - 6j\n",
    "\\end{array}\n",
    "\\right|\n",
    "$$"
   ]
  },
  {
   "cell_type": "code",
   "execution_count": 3,
   "metadata": {},
   "outputs": [
    {
     "name": "stdout",
     "output_type": "stream",
     "text": [
      "Delta1 = -300.00+500.00j\n"
     ]
    }
   ],
   "source": [
    "M1 = np.array( [[-50j,   -2   ],\n",
    "                          [  0  ,-10-6j]] )\n",
    "Delta1 = np.linalg.det(M1)\n",
    "print('Delta1 = {:.2f}'.format(Delta1))"
   ]
  },
  {
   "cell_type": "markdown",
   "metadata": {},
   "source": [
    "$$ \\Delta_2 =\n",
    "\\left|\n",
    "\\begin{array}{cc}\n",
    "2 - 2.5j & -50j \\\\\n",
    "30 + 16j & 0\n",
    "\\end{array}\n",
    "\\right|\n",
    "$$"
   ]
  },
  {
   "cell_type": "code",
   "execution_count": 4,
   "metadata": {},
   "outputs": [
    {
     "name": "stdout",
     "output_type": "stream",
     "text": [
      "Delta2 = -800.00+1500.00j\n"
     ]
    }
   ],
   "source": [
    "M2 = np.array( [[2-2.5j  , -50j],\n",
    "                          [30+16j,   0]] )\n",
    "Delta2 = np.linalg.det(M2)\n",
    "print('Delta2 = {:.2f}'.format(Delta2))"
   ]
  },
  {
   "cell_type": "markdown",
   "metadata": {},
   "source": [
    "Entonces\n",
    "$$ V_1 = \\frac{\\Delta_1}{\\Delta} \\qquad ; \\qquad V_2 = \\frac{\\Delta_2}{\\Delta} $$"
   ]
  },
  {
   "cell_type": "code",
   "execution_count": 5,
   "metadata": {},
   "outputs": [],
   "source": [
    "import cmath, math"
   ]
  },
  {
   "cell_type": "code",
   "execution_count": 6,
   "metadata": {},
   "outputs": [],
   "source": [
    "v1 = Delta1/Delta\n",
    "v2 = Delta2/Delta\n",
    "\n",
    "v1_polar = cmath.polar(v1)\n",
    "v2_polar = cmath.polar(v2)"
   ]
  },
  {
   "cell_type": "code",
   "execution_count": 7,
   "metadata": {},
   "outputs": [
    {
     "name": "stdout",
     "output_type": "stream",
     "text": [
      "v1 = 5.66+9.81j V\n",
      "v2 = 17.92+27.74j V\n",
      "v1_polar = (11.33<1.048 rad)\n",
      "v2_polar = (33.02<0.997 rad)\n"
     ]
    }
   ],
   "source": [
    "print('v1 = {:.2f} V'.format(v1))\n",
    "print('v2 = {:.2f} V'.format(v2))\n",
    "print('v1_polar = (%.2f<%.3f rad)'%v1_polar)\n",
    "print('v2_polar = (%.2f<%.3f rad)'%v2_polar)"
   ]
  },
  {
   "cell_type": "code",
   "execution_count": 8,
   "metadata": {},
   "outputs": [
    {
     "name": "stdout",
     "output_type": "stream",
     "text": [
      "v1_polar = (11.33<60.02°)\n",
      "v2_polar = (33.02<57.13°)\n"
     ]
    }
   ],
   "source": [
    "# Conversión a grados sexagesimales\n",
    "r1 = v1_polar[0]   ;   phi1 = v1_polar[1]*(180/math.pi)\n",
    "r2 = v2_polar[0]   ;   phi2 = v2_polar[1]*(180/math.pi)\n",
    "\n",
    "print('v1_polar = (%.2f<%.2f°)'%(r1,phi1))\n",
    "print('v2_polar = (%.2f<%.2f°)'%(r2,phi2))"
   ]
  },
  {
   "cell_type": "markdown",
   "metadata": {},
   "source": [
    "$$\\begin{array}{l}\n",
    "v_1(t) = 11,33 \\sin (2t + 60,02^\\circ ) \\\\\n",
    "v_2(t) = 33,02 \\sin(2t + 57,13^\\circ )\n",
    "\\end{array}\n",
    "$$"
   ]
  },
  {
   "cell_type": "markdown",
   "metadata": {},
   "source": [
    "------------\n",
    "### Utilizando sympy para resolver el sistema de ecuaciones (opcional)"
   ]
  },
  {
   "cell_type": "code",
   "execution_count": 9,
   "metadata": {},
   "outputs": [],
   "source": [
    "import sympy as sp"
   ]
  },
  {
   "cell_type": "code",
   "execution_count": 10,
   "metadata": {},
   "outputs": [],
   "source": [
    "V1, V2 = sp.symbols('V1 V2')"
   ]
  },
  {
   "cell_type": "code",
   "execution_count": 11,
   "metadata": {},
   "outputs": [],
   "source": [
    "Eq1 = sp.Eq(10, V1/2 + (V1 - V2)/complex(0,-2.5))\n",
    "Eq2 = sp.Eq((V1 - V2)/complex(0,-2.5) , (V2 - 3*V1)/4 + V2/complex(0,4))"
   ]
  },
  {
   "cell_type": "code",
   "execution_count": 12,
   "metadata": {},
   "outputs": [],
   "source": [
    "Sol = sp.solve([Eq1,Eq2],[V1,V2])"
   ]
  },
  {
   "cell_type": "code",
   "execution_count": 33,
   "metadata": {},
   "outputs": [
    {
     "name": "stdout",
     "output_type": "stream",
     "text": [
      "v1 = 5.66037735849057 + 9.81132075471698*I V\n",
      "v2 = 17.9245283018868 + 27.7358490566038*I V\n"
     ]
    }
   ],
   "source": [
    "print('v1 = %s V'%Sol[V1])\n",
    "print('v2 = %s V'%Sol[V2])"
   ]
  },
  {
   "cell_type": "markdown",
   "metadata": {},
   "source": [
    "Mismo resultado obtenido anteriormente."
   ]
  },
  {
   "cell_type": "code",
   "execution_count": 5,
   "metadata": {},
   "outputs": [],
   "source": [
    "%reset -s -f"
   ]
  },
  {
   "cell_type": "markdown",
   "metadata": {},
   "source": [
    "## Ejemplo 10.2\n",
    "Calcule $V_1$ y $V_2$ en el circuito de la figura"
   ]
  },
  {
   "cell_type": "markdown",
   "metadata": {},
   "source": [
    "<img src=\"img/ej10-2.png\" alt=\"ej10-2.png\">"
   ]
  },
  {
   "cell_type": "markdown",
   "metadata": {},
   "source": [
    "### Solución\n",
    "Los nodos 1 y 2 forman un supernodo, como se indica en la fig. La aplicación de la LCK al supernodo da como resultado"
   ]
  },
  {
   "cell_type": "markdown",
   "metadata": {},
   "source": [
    "$$ 3 = \\frac{V_1}{-j3} + \\frac{V_2}{j6} + \\frac{V_2}{12} $$"
   ]
  },
  {
   "cell_type": "markdown",
   "metadata": {},
   "source": [
    "o sea\n",
    "$$ 36 = j4 V_1 + (1 - j2) V_2 \\tag{1} $$"
   ]
  },
  {
   "cell_type": "markdown",
   "metadata": {},
   "source": [
    "<img src=\"img/ej10-2-2.png\" alt=\"ej10-2-2.png\">"
   ]
  },
  {
   "cell_type": "markdown",
   "metadata": {},
   "source": [
    "Pero una fuente de tensión está conectada entre los nodos 1 y 2, de modo que"
   ]
  },
  {
   "cell_type": "markdown",
   "metadata": {},
   "source": [
    "$$ V_1 = V_2 + 10 \\angle 45^\\circ \\tag{2} $$"
   ]
  },
  {
   "cell_type": "markdown",
   "metadata": {},
   "source": [
    "La sustitución de la ecuación 2 en la ecuación 1 da por resultado"
   ]
  },
  {
   "cell_type": "markdown",
   "metadata": {},
   "source": [
    "$$ 36 - 40 \\angle 135^\\circ = (1 + j2) V_2 $$"
   ]
  },
  {
   "cell_type": "markdown",
   "metadata": {},
   "source": [
    "Entonces\n",
    "$$ V_2 = 31,41 \\angle -87,18^\\circ \\, \\mathrm{V} $$"
   ]
  },
  {
   "cell_type": "markdown",
   "metadata": {},
   "source": [
    "Con base en la ecuación 2"
   ]
  },
  {
   "cell_type": "markdown",
   "metadata": {},
   "source": [
    "$$ V_1 = V_2 + 10 \\angle 45^\\circ = 25,78 \\angle -70,48^\\circ \\, \\mathrm{V} $$"
   ]
  },
  {
   "cell_type": "markdown",
   "metadata": {},
   "source": [
    "## Problema de práctica 10.2\n",
    "Calcule $V_1$ y $V_2$ en el circuito que aparece en la fig."
   ]
  },
  {
   "cell_type": "markdown",
   "metadata": {},
   "source": [
    "<img src=\"img/ejpr10-2.png\" alt=\"ejpr10-2.png\">"
   ]
  },
  {
   "cell_type": "markdown",
   "metadata": {},
   "source": [
    "### Solución\n",
    "Los nodos 1 y 2 forman un supernodo. La aplicación de la LCK al supernodo da como resultado"
   ]
  },
  {
   "cell_type": "markdown",
   "metadata": {},
   "source": [
    "$$ \\frac{15 - V_1}{4} = \\frac{V_1}{j4} + \\frac{V_2}{-j1} + \\frac{V_2}{2} $$"
   ]
  },
  {
   "cell_type": "markdown",
   "metadata": {},
   "source": [
    "o sea\n",
    "$$ (1 + 1j)V_1 - (4 - 2j)V_2  = 15j \\tag{1} $$"
   ]
  },
  {
   "cell_type": "markdown",
   "metadata": {},
   "source": [
    "Pero una fuerte tensión está conectada entre los nodos 1 y 2, de modo que"
   ]
  },
  {
   "cell_type": "markdown",
   "metadata": {},
   "source": [
    "$$ V_1 - V_2 = 20 \\angle 60^\\circ \\tag{2} $$"
   ]
  },
  {
   "cell_type": "markdown",
   "metadata": {},
   "source": [
    "Las ecuaciones (1) y (2) pueden expresaarse en forma matricial como"
   ]
  },
  {
   "cell_type": "markdown",
   "metadata": {},
   "source": [
    "$$\\left[\n",
    "\\begin{array}{cc}\n",
    "1 + 1j & -4 + 2j \\\\\n",
    "1 & -1\n",
    "\\end{array}\n",
    "\\right]\n",
    "\\left[\n",
    "\\begin{array}{c}\n",
    "15j \\\\\n",
    "20 \\angle 60^\\circ\n",
    "\\end{array}\n",
    "\\right]$$"
   ]
  },
  {
   "cell_type": "markdown",
   "metadata": {},
   "source": [
    "Resolvemos el sistema lineal usando regal de Cramer"
   ]
  },
  {
   "cell_type": "code",
   "execution_count": 34,
   "metadata": {},
   "outputs": [],
   "source": [
    "import numpy as np\n",
    "import cmath, math"
   ]
  },
  {
   "cell_type": "code",
   "execution_count": 35,
   "metadata": {},
   "outputs": [
    {
     "name": "stdout",
     "output_type": "stream",
     "text": [
      "Vs2 = 10.00+17.32j V\n"
     ]
    }
   ],
   "source": [
    "# Convertimos 20<60° a coordenadas rectangulares\n",
    "Vs2 =cmath.rect(20,math.pi/3)\n",
    "print('Vs2 = {:.2f} V'.format(Vs2))"
   ]
  },
  {
   "cell_type": "markdown",
   "metadata": {},
   "source": [
    "$$ \\Delta =\n",
    "\\left|\n",
    "\\begin{array}{cc}\n",
    "1 + 1j & -4 + 2j \\\\\n",
    "1 & -1\n",
    "\\end{array}\n",
    "\\right|$$"
   ]
  },
  {
   "cell_type": "markdown",
   "metadata": {},
   "source": [
    "$$ \\Delta_1 =\n",
    "\\left|\n",
    "\\begin{array}{cc}\n",
    "15j & -4 + 2j \\\\\n",
    "10 + 17,32j & -1\n",
    "\\end{array}\n",
    "\\right|$$"
   ]
  },
  {
   "cell_type": "markdown",
   "metadata": {},
   "source": [
    "$$ \\Delta_2 =\n",
    "\\left|\n",
    "\\begin{array}{cc}\n",
    "1 + 1j & 15j \\\\\n",
    "1 & 10 + 17,32j\n",
    "\\end{array}\n",
    "\\right|$$"
   ]
  },
  {
   "cell_type": "code",
   "execution_count": 36,
   "metadata": {},
   "outputs": [
    {
     "name": "stdout",
     "output_type": "stream",
     "text": [
      "Delta  = 3.00-3.00j\n",
      "Delta1 = 74.64+34.28j\n",
      "Delta2 = -7.32+12.32j\n"
     ]
    }
   ],
   "source": [
    "M = np.array([ [1 + 1j , -4 + 2j],\n",
    "                        [1        ,    -1     ] ])\n",
    "\n",
    "M1 = np.array( [[15j  , -4 + 2j],\n",
    "                         [Vs2 ,     -1     ] ])\n",
    "\n",
    "M2 = np.array( [[1 + 1j , 15j],\n",
    "                          [1        , Vs2] ])\n",
    "\n",
    "Delta   = np.linalg.det(M)\n",
    "Delta1 = np.linalg.det(M1)\n",
    "Delta2 = np.linalg.det(M2)"
   ]
  },
  {
   "cell_type": "code",
   "execution_count": null,
   "metadata": {},
   "outputs": [],
   "source": [
    "print('Delta  = {:.2f}'.format(Delta))\n",
    "print('Delta1 = {:.2f}'.format(Delta1))\n",
    "print('Delta2 = {:.2f}'.format(Delta2))"
   ]
  },
  {
   "cell_type": "markdown",
   "metadata": {},
   "source": [
    "Entonces\n",
    "$$ v_1 = \\frac{\\Delta_1}{\\Delta} \\qquad ; \\qquad v_2 = \\frac{\\Delta_2}{\\Delta} $$"
   ]
  },
  {
   "cell_type": "code",
   "execution_count": 37,
   "metadata": {},
   "outputs": [],
   "source": [
    "v1 = Delta1/Delta\n",
    "v2 = Delta2/Delta\n",
    "v1_pol = cmath.polar(v1)\n",
    "v2_pol = cmath.polar(v2)"
   ]
  },
  {
   "cell_type": "code",
   "execution_count": 38,
   "metadata": {},
   "outputs": [
    {
     "name": "stdout",
     "output_type": "stream",
     "text": [
      "* En coordenadas rectangulares:\n",
      "  v1 = (6.7+18j) V\n",
      "  v2 = (-3.3+0.83j) V\n",
      "* En coordenadas polares (radianes):\n",
      "  v1_pol = (19.36<1.216 rad) V\n",
      "  v2_pol = (3.38<2.892 rad) V\n",
      "* En coordenadas polares (grados):\n",
      "  v1_pol = (19.36<69.67°) V\n",
      "  v2_pol = (3.38<165.72°) V\n"
     ]
    }
   ],
   "source": [
    "print('* En coordenadas rectangulares:')\n",
    "print('  v1 = {:.2} V'.format(v1))\n",
    "print('  v2 = {:.2} V'.format(v2))\n",
    "print('* En coordenadas polares (radianes):')\n",
    "print('  v1_pol = (%.2f<%.3f rad) V'%v1_pol)\n",
    "print('  v2_pol = (%.2f<%.3f rad) V'%v2_pol)\n",
    "print('* En coordenadas polares (grados):')\n",
    "print('  v1_pol = (%.2f<%.2f°) V'%(v1_pol[0],v1_pol[1]*(180/math.pi)))\n",
    "print('  v2_pol = (%.2f<%.2f°) V'%(v2_pol[0],v2_pol[1]*(180/math.pi)))"
   ]
  },
  {
   "cell_type": "markdown",
   "metadata": {},
   "source": [
    "----------------\n",
    "### Utilizando sympy para resolver el sistema de ecuaciones (opcional)"
   ]
  },
  {
   "cell_type": "code",
   "execution_count": 39,
   "metadata": {},
   "outputs": [],
   "source": [
    "import sympy as sp"
   ]
  },
  {
   "cell_type": "code",
   "execution_count": 40,
   "metadata": {},
   "outputs": [],
   "source": [
    "V1, V2 = sp.symbols('V1 V2')\n",
    "\n",
    "Eq1 = sp.Eq( (15 - V1)/4 , V1/complex(0,4) - V2/complex(0,1) + V2/2 )\n",
    "Eq2 = sp.Eq( V1 - V2 , Vs2 )"
   ]
  },
  {
   "cell_type": "code",
   "execution_count": 41,
   "metadata": {},
   "outputs": [],
   "source": [
    "Sol = sp.solve([Eq1,Eq2],[V1,V2])"
   ]
  },
  {
   "cell_type": "code",
   "execution_count": 42,
   "metadata": {},
   "outputs": [],
   "source": [
    "v1_polar = cmath.polar(Sol[V1])\n",
    "v2_polar = cmath.polar(Sol[V2])"
   ]
  },
  {
   "cell_type": "code",
   "execution_count": 43,
   "metadata": {},
   "outputs": [
    {
     "name": "stdout",
     "output_type": "stream",
     "text": [
      "v1 = (19.360<1.216 rad) V\n",
      "v2 = (3.378<2.892 rad) V\n"
     ]
    }
   ],
   "source": [
    "print('v1 = (%.3f<%.3f rad) V'%v1_polar)\n",
    "print('v2 = (%.3f<%.3f rad) V'%v2_polar)"
   ]
  },
  {
   "cell_type": "code",
   "execution_count": 44,
   "metadata": {},
   "outputs": [],
   "source": [
    "r1 = v1_polar[0]   ;   phi1 = v1_polar[1]*(180/math.pi)\n",
    "r2 = v2_polar[0]   ;   phi2 = v2_polar[1]*(180/math.pi)"
   ]
  },
  {
   "cell_type": "code",
   "execution_count": 45,
   "metadata": {},
   "outputs": [
    {
     "name": "stdout",
     "output_type": "stream",
     "text": [
      "v1 = (19.360<69.67°)\n",
      "v2 = (3.378<165.72°)\n"
     ]
    }
   ],
   "source": [
    "print('v1 = (%.3f<%.2f°)'%(r1,phi1))\n",
    "print('v2 = (%.3f<%.2f°)'%(r2,phi2))"
   ]
  },
  {
   "cell_type": "code",
   "execution_count": 33,
   "metadata": {},
   "outputs": [],
   "source": [
    "%reset -s -f"
   ]
  },
  {
   "cell_type": "code",
   "execution_count": 4,
   "metadata": {},
   "outputs": [
    {
     "data": {
      "text/html": [
       "/* This template is inspired in the one used by Lorena Barba\n",
       "in the numerical-mooc repository: https://github.com/numerical-mooc/numerical-mooc\n",
       "We thank her work and hope you also enjoy the look of the notobooks with this style */\n",
       "\n",
       "<link href='http://fonts.googleapis.com/css?family=Source+Sans+Pro|Josefin+Sans:400,700,400italic|Ubuntu+Condensed' rel='stylesheet' type='text/css'>\n",
       "\n",
       "El estilo se ha aplicado =)\n",
       "\n",
       "<style>\n",
       "\n",
       "\n",
       "\n",
       "#notebook_panel { /* main background */\n",
       "    background: #f7f7f7;\n",
       "}\n",
       "\n",
       "div.cell { /* set cell width */\n",
       "    width: 900px;\n",
       "}\n",
       "\n",
       "div #notebook { /* centre the content */\n",
       "    background: #fff; /* white background for content */\n",
       "    width: 950px;\n",
       "    margin: auto;\n",
       "    padding-left: 0em;\n",
       "}\n",
       "\n",
       "#notebook li { /* More space between bullet points */\n",
       "    margin-top:0.7em;\n",
       "}\n",
       "\n",
       "/* draw border around running cells */\n",
       "div.cell.border-box-sizing.code_cell.running { \n",
       "    border: 1px solid #111;\n",
       "}\n",
       "\n",
       "/* Put a solid color box around each cell and its output, visually linking them*/\n",
       "div.cell.code_cell {\n",
       "    font-family: 'Source Sans Pro', sans-serif;\n",
       "    background-color: rgb(256,256,256);\n",
       "    font-size: 110%;\n",
       "    border-radius: 0px; \n",
       "    padding: 0.5em;\n",
       "    margin-left:1em;\n",
       "    margin-top: 1em;\n",
       "}\n",
       "\n",
       "div.text_cell_render{\n",
       "    font-family: 'DejaVu Serif', serif;\n",
       "    line-height: 145%;\n",
       "    font-size: 125%;\n",
       "    font-weight: 500;\n",
       "    width:750px;\n",
       "    margin-left:auto;\n",
       "    margin-right:auto;\n",
       "}\n",
       "\n",
       "\n",
       "/* Formatting for header cells */\n",
       ".text_cell_render h1, .text_cell_render h2, .text_cell_render h3,\n",
       ".text_cell_render h4, .text_cell_render h5 {\n",
       "    font-family: 'Ubuntu Condensed', sans-serif;\n",
       "}\n",
       "/*\n",
       ".text_cell_render h1 {\n",
       "    font-family: Flux, 'Ubuntu Condensed', serif;\n",
       "    font-style:regular;\n",
       "    font-weight: 400;    \n",
       "    font-size: 30pt;\n",
       "    text-align: center;\n",
       "    line-height: 100%;\n",
       "    color: #335082;\n",
       "    margin-bottom: 0.5em;\n",
       "    margin-top: 0.5em;\n",
       "    display: block;\n",
       "}\n",
       "*/\n",
       ".text_cell_render h1 {\n",
       "    font-weight: 600;\n",
       "    font-size: 35pt;\n",
       "    line-height: 100%;\n",
       "    color: #000000;\n",
       "    margin-bottom: 0.1em;\n",
       "    margin-top: 0.3em;\n",
       "    display: block;\n",
       "}\n",
       "\n",
       ".text_cell_render h2 {\n",
       "    margin-top:16px;\n",
       "    font-size: 27pt;\n",
       "    font-weight: 550;\n",
       "    margin-bottom: 0.1em;\n",
       "    margin-top: 0.3em;\n",
       "    font-style: regular;\n",
       "    color: #2c6391;\n",
       "}\t\n",
       "\n",
       ".text_cell_render h3 {\n",
       "    font-size: 20pt;\n",
       "    font-weight: 550\n",
       "    text-align: left;\n",
       "    margin-bottom: 0.1em;\n",
       "    margin-top: 0.3em;\n",
       "    font-style: regular;\n",
       "    color:  #387eb8;\n",
       "}\n",
       "\n",
       ".text_cell_render h4 {    /*Use this for captions*/\n",
       "    font-size: 18pt;\n",
       "    font-weight: 450\n",
       "    text-align: left;\n",
       "    margin-bottom: 0.1em;\n",
       "    margin-top: 0.3em;\n",
       "    font-style: regular;\n",
       "    color:  #5797cc;\n",
       "}\n",
       "\n",
       ".text_cell_render h5 {  /*Use this for small titles*/\n",
       "    font-size: 18pt;\n",
       "    font-weight: 550;\n",
       "    color: rgb(163,0,0);\n",
       "    font-style: italic;\n",
       "    margin-bottom: .1em;\n",
       "    margin-top: 0.8em;\n",
       "    display: block;\n",
       "    color:  #b21c0d;\n",
       "}\n",
       "\n",
       ".text_cell_render h6 { /*use this for copyright note*/\n",
       "    font-family: 'Ubuntu Condensed', sans-serif;\n",
       "    font-weight: 300;\n",
       "    font-size: 14pt;\n",
       "    line-height: 100%;\n",
       "    color: #252525;\n",
       "    text-align: right;\n",
       "    margin-bottom: 1px;\n",
       "    margin-top: 1px;\n",
       "}\n",
       "\n",
       ".CodeMirror{\n",
       "        font-family: 'Duru Sans', sans-serif;\n",
       "        font-size: 100%;\n",
       "}\n",
       "\n",
       "</style>\n",
       "<script>\n",
       "    MathJax.Hub.Config({\n",
       "                        TeX: {\n",
       "                           extensions: [\"AMSmath.js\"],\n",
       "                           equationNumbers: { autoNumber: \"AMS\", useLabelIds: true}\n",
       "                           },\n",
       "                tex2jax: {\n",
       "                    inlineMath: [ ['$','$'], [\"\\\\(\",\"\\\\)\"] ],\n",
       "                    displayMath: [ ['$$','$$'], [\"\\\\[\",\"\\\\]\"] ]\n",
       "                },\n",
       "                displayAlign: 'center', // Change this to 'center' to center equations.\n",
       "                \"HTML-CSS\": {\n",
       "                    styles: {'.MathJax_Display': {\"margin\": 4}}\n",
       "                }\n",
       "        });\n",
       "</script>\n"
      ],
      "text/plain": [
       "<IPython.core.display.HTML object>"
      ]
     },
     "execution_count": 4,
     "metadata": {},
     "output_type": "execute_result"
    }
   ],
   "source": [
    "# Esta celda da el estilo al notebook\n",
    "from IPython.core.display import HTML\n",
    "css_file = 'styles/aeropython.css'\n",
    "HTML(open(css_file, \"r\").read())"
   ]
  },
  {
   "cell_type": "code",
   "execution_count": null,
   "metadata": {},
   "outputs": [],
   "source": []
  }
 ],
 "metadata": {
  "kernelspec": {
   "display_name": "Python 3",
   "language": "python",
   "name": "python3"
  },
  "language_info": {
   "codemirror_mode": {
    "name": "ipython",
    "version": 3
   },
   "file_extension": ".py",
   "mimetype": "text/x-python",
   "name": "python",
   "nbconvert_exporter": "python",
   "pygments_lexer": "ipython3",
   "version": "3.7.4"
  }
 },
 "nbformat": 4,
 "nbformat_minor": 2
}
