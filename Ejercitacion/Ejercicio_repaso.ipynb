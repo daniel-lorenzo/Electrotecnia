{
 "cells": [
  {
   "cell_type": "markdown",
   "metadata": {},
   "source": [
    "# Electrotecnia"
   ]
  },
  {
   "cell_type": "markdown",
   "metadata": {},
   "source": [
    "## Ejercicio de repaso, conceptos básicos\n",
    "Utilizando el método de mallas hallar las corrientes $I_1$, $I_2$ e $I_3$"
   ]
  },
  {
   "cell_type": "markdown",
   "metadata": {},
   "source": [
    "<img src=\"img/ejerc_repaso.svg\" alt=\"ejerc_repaso.svg\" width=\"500\" height=auto>"
   ]
  },
  {
   "cell_type": "markdown",
   "metadata": {},
   "source": [
    "### Solución\n",
    "Malla 1"
   ]
  },
  {
   "cell_type": "markdown",
   "metadata": {},
   "source": [
    "$$ - 10 + 20 I_1 + 100 I_1 - 100 I_3 = 0  $$"
   ]
  },
  {
   "cell_type": "markdown",
   "metadata": {},
   "source": [
    "$$ 120 I_1 - 100 I_3 = 10 \\tag{1} $$"
   ]
  },
  {
   "cell_type": "markdown",
   "metadata": {},
   "source": [
    "Malla 2"
   ]
  },
  {
   "cell_type": "markdown",
   "metadata": {},
   "source": [
    "$$ 5 + 100 I_3 - 100 I_1 + 10 I_3 = 0 $$"
   ]
  },
  {
   "cell_type": "markdown",
   "metadata": {},
   "source": [
    "$$ 100 I_1 - 110 I_3 = 5 \\tag{2} $$"
   ]
  },
  {
   "cell_type": "markdown",
   "metadata": {},
   "source": [
    "En forma matricial\n",
    "\n",
    "$$\\left[\n",
    "\\begin{array}{cc}\n",
    "120 & -100 \\\\\n",
    "100 & -110\n",
    "\\end{array}\n",
    "\\right]\n",
    "\\left[\n",
    "\\begin{array}{c}\n",
    "I_1 \\\\\n",
    "I_3\n",
    "\\end{array}\n",
    "\\right]\n",
    "=\n",
    "\\left[\n",
    "\\begin{array}{c}\n",
    "10 \\\\\n",
    "5\n",
    "\\end{array}\n",
    "\\right]$$"
   ]
  },
  {
   "cell_type": "markdown",
   "metadata": {},
   "source": [
    "### Método 1 - Aplicando regla de Cramer"
   ]
  },
  {
   "cell_type": "markdown",
   "metadata": {},
   "source": [
    "Calculamos los determinantes con GNU Octave / MATLAB"
   ]
  },
  {
   "cell_type": "markdown",
   "metadata": {},
   "source": [
    "$$\\Delta =\n",
    "\\left|\n",
    "\\begin{array}{cc}\n",
    "120 & -100 \\\\\n",
    "100 & -110\n",
    "\\end{array}\n",
    "\\right|$$"
   ]
  },
  {
   "cell_type": "code",
   "execution_count": 1,
   "metadata": {},
   "outputs": [
    {
     "name": "stdout",
     "output_type": "stream",
     "text": [
      "Delta = -3200.0\r\n"
     ]
    }
   ],
   "source": [
    "M = [120 -100\n",
    "     100 -110];\n",
    "Delta = det(M)"
   ]
  },
  {
   "cell_type": "markdown",
   "metadata": {},
   "source": [
    "$$\\Delta_1 =\n",
    "\\left|\n",
    "\\begin{array}{cc}\n",
    "10 & -100 \\\\\n",
    "5 & -110\n",
    "\\end{array}\n",
    "\\right|$$"
   ]
  },
  {
   "cell_type": "code",
   "execution_count": 2,
   "metadata": {},
   "outputs": [
    {
     "name": "stdout",
     "output_type": "stream",
     "text": [
      "Delta1 = -600\r\n"
     ]
    }
   ],
   "source": [
    "M1 = [10 -100\n",
    "       5 -110];\n",
    "Delta1 = det(M1)"
   ]
  },
  {
   "cell_type": "markdown",
   "metadata": {},
   "source": [
    "$$\\Delta_3 =\n",
    "\\left|\n",
    "\\begin{array}{cc}\n",
    "120 & 10 \\\\\n",
    "100 & 5\n",
    "\\end{array}\n",
    "\\right|$$"
   ]
  },
  {
   "cell_type": "code",
   "execution_count": 3,
   "metadata": {},
   "outputs": [
    {
     "name": "stdout",
     "output_type": "stream",
     "text": [
      "Delta3 = -400.00\r\n"
     ]
    }
   ],
   "source": [
    "M3 = [120 10\n",
    "      100  5];\n",
    "Delta3 = det(M3)"
   ]
  },
  {
   "cell_type": "markdown",
   "metadata": {},
   "source": [
    "$$ I_1 = \\frac{\\Delta_1}{\\Delta} \\quad ; \\quad I_3 = \\frac{\\Delta_3}{\\Delta} $$"
   ]
  },
  {
   "cell_type": "code",
   "execution_count": 4,
   "metadata": {},
   "outputs": [
    {
     "name": "stdout",
     "output_type": "stream",
     "text": [
      "I1 = 0.1875 A \n",
      "I3 = 0.1250 A \n"
     ]
    }
   ],
   "source": [
    "I1 = Delta1/Delta ;\n",
    "I3 = Delta3/Delta ;\n",
    "fprintf('I1 = %.4f A \\n',I1)\n",
    "fprintf('I3 = %.4f A \\n',I3)"
   ]
  },
  {
   "cell_type": "markdown",
   "metadata": {},
   "source": [
    "$$ I_2 = I_1 - I_3 \\tag{3} $$"
   ]
  },
  {
   "cell_type": "code",
   "execution_count": 5,
   "metadata": {},
   "outputs": [
    {
     "name": "stdout",
     "output_type": "stream",
     "text": [
      "I2 = 0.0625 A"
     ]
    }
   ],
   "source": [
    "I2 = I1 - I3 ;\n",
    "fprintf('I2 = %.4f A',I2)"
   ]
  },
  {
   "cell_type": "markdown",
   "metadata": {},
   "source": [
    "Entonces:"
   ]
  },
  {
   "cell_type": "code",
   "execution_count": 6,
   "metadata": {},
   "outputs": [
    {
     "name": "stdout",
     "output_type": "stream",
     "text": [
      "Resumen: \n",
      "I1 = 187.5 mA \n",
      "I2 = 62.5 mA \n",
      "I3 = 125.0 mA \n"
     ]
    }
   ],
   "source": [
    "fprintf('Resumen: \\n')\n",
    "fprintf('I1 = %.1f mA \\n',I1*1000)\n",
    "fprintf('I2 = %.1f mA \\n',I2*1000)\n",
    "fprintf('I3 = %.1f mA \\n',I3*1000)"
   ]
  },
  {
   "cell_type": "markdown",
   "metadata": {},
   "source": [
    "### Simulación del circuito con qucs\n",
    "<img src=\"img/ejerc_repaso_sim.png\" alt=\"ejerc_repaso_sim.png\">"
   ]
  },
  {
   "cell_type": "markdown",
   "metadata": {},
   "source": [
    "### Método 2\n",
    "$I_1$ e $I_3$ pueden calcularse también haciendo:"
   ]
  },
  {
   "cell_type": "markdown",
   "metadata": {},
   "source": [
    "$$ A = \n",
    "\\left[\n",
    "\\begin{array}{cc}\n",
    "120 & -100 \\\\\n",
    "100 & -110\n",
    "\\end{array}\n",
    "\\right] \\qquad ; \\qquad\n",
    "B =\n",
    "\\left[\n",
    "\\begin{array}{c}\n",
    "10 \\\\\n",
    "5\n",
    "\\end{array}\n",
    "\\right]$$"
   ]
  },
  {
   "cell_type": "markdown",
   "metadata": {},
   "source": [
    "$$ A I = B $$"
   ]
  },
  {
   "cell_type": "markdown",
   "metadata": {},
   "source": [
    "Entonces:\n",
    "$$ I = A^{-1} B $$"
   ]
  },
  {
   "cell_type": "code",
   "execution_count": 7,
   "metadata": {},
   "outputs": [
    {
     "name": "stdout",
     "output_type": "stream",
     "text": [
      "I =\r\n",
      "\r\n",
      "   0.18750\r\n",
      "   0.12500\r\n",
      "\r\n"
     ]
    }
   ],
   "source": [
    "A = [120 -100\n",
    "       100 -110];\n",
    "B = [10 \n",
    "          5] ; \n",
    "\n",
    "I = inv(A) * B"
   ]
  },
  {
   "cell_type": "markdown",
   "metadata": {},
   "source": [
    "Mismo valores obtenidos anteriormente para $I_1$ e $I_3$."
   ]
  },
  {
   "cell_type": "markdown",
   "metadata": {},
   "source": [
    "-----------\n",
    "### Python 3 script (opcional)"
   ]
  },
  {
   "cell_type": "code",
   "execution_count": 8,
   "metadata": {},
   "outputs": [],
   "source": [
    "%%python\n",
    "# importa biblioteca numpy:\n",
    "import numpy as np"
   ]
  },
  {
   "cell_type": "code",
   "execution_count": 9,
   "metadata": {},
   "outputs": [
    {
     "name": "stdout",
     "output_type": "stream",
     "text": [
      "Delta = -3200.0\n",
      "Delta1 = -600.0\n",
      "Delta3 = -400.0\n"
     ]
    }
   ],
   "source": [
    "%%python\n",
    "# Método 1\n",
    "# Cálculo de determinantes:\n",
    "M = np.array( [ [120 , -100] , [100 , -110] ] )\n",
    "M1 = np.array( [ [10 , -100] , [5 , -110] ] )\n",
    "M3 = np.array( [ [120 , 10] ,  [100 , 5] ] )\n",
    "\n",
    "Delta = np.linalg.det(M)\n",
    "Delta1 = np.linalg.det(M1)\n",
    "Delta3 = np.linalg.det(M3)\n",
    "\n",
    "print('Delta = %.1f'%Delta)\n",
    "print('Delta1 = %.1f'%Delta1)\n",
    "print('Delta3 = %.1f'%Delta3)"
   ]
  },
  {
   "cell_type": "code",
   "execution_count": 10,
   "metadata": {},
   "outputs": [
    {
     "name": "stdout",
     "output_type": "stream",
     "text": [
      "I1 = 0.1875 A = 187.5 mA\n",
      "I2 = 0.0625 A = 62.5 mA\n",
      "I3 = 0.1250 A = 125.0 mA\n"
     ]
    }
   ],
   "source": [
    "%%python\n",
    "# Cálculo de corrientes:\n",
    "I1 = Delta1/Delta\n",
    "I3 = Delta3/Delta\n",
    "I2 = I1 - I3\n",
    "\n",
    "print('I1 = %.4f A = %.1f mA'%(I1 , I1*1000) )\n",
    "print('I2 = %.4f A = %.1f mA'%(I2 , I2*1000) )\n",
    "print('I3 = %.4f A = %.1f mA'%(I3 , I3*1000) )"
   ]
  },
  {
   "cell_type": "code",
   "execution_count": 11,
   "metadata": {},
   "outputs": [],
   "source": [
    "%%python\n",
    "# Método 2\n",
    "A = np.array([ [120 , -100] , [100 , -110] ])\n",
    "B = np.array([ [10] , [5] ])\n",
    "\n",
    "I = np.dot( np.linalg.inv(A) , B)"
   ]
  },
  {
   "cell_type": "code",
   "execution_count": 12,
   "metadata": {},
   "outputs": [
    {
     "name": "stdout",
     "output_type": "stream",
     "text": [
      "I1 = 0.1875 A\n",
      "I3 = 0.1250 A\n",
      "I2 = 0.0625 A\n"
     ]
    }
   ],
   "source": [
    "%%python\n",
    "print('I1 = %.4f A'%I[0,0] )\n",
    "print('I3 = %.4f A'%I[1,0])\n",
    "print('I2 = %.4f A'%(I[0,0] - I[1,0]) )"
   ]
  },
  {
   "cell_type": "code",
   "execution_count": null,
   "metadata": {},
   "outputs": [],
   "source": []
  }
 ],
 "metadata": {
  "kernelspec": {
   "display_name": "Octave",
   "language": "octave",
   "name": "octave"
  },
  "language_info": {
   "file_extension": ".m",
   "help_links": [
    {
     "text": "GNU Octave",
     "url": "https://www.gnu.org/software/octave/support.html"
    },
    {
     "text": "Octave Kernel",
     "url": "https://github.com/Calysto/octave_kernel"
    },
    {
     "text": "MetaKernel Magics",
     "url": "https://metakernel.readthedocs.io/en/latest/source/README.html"
    }
   ],
   "mimetype": "text/x-octave",
   "name": "octave",
   "version": "5.2.0"
  }
 },
 "nbformat": 4,
 "nbformat_minor": 2
}
