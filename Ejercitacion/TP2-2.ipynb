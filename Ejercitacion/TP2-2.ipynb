{
 "cells": [
  {
   "cell_type": "markdown",
   "metadata": {},
   "source": [
    "## Problema 3\n",
    "Un circuito serie con $R = 25 \\, \\Omega$ y $L = 0,01 \\, \\mathrm{Hy}$ se utiliza con frecuencias 50, 100, 500 y 1000 Hz. Calcular las impedancias para cada caso y representar."
   ]
  },
  {
   "cell_type": "markdown",
   "metadata": {},
   "source": [
    "### Solución\n",
    "<div class=\"alert alert-info\">La <strong>impedancia Z</strong> \n",
    " de un circuito es la razón entre la tensión fasorial V y la corriente fasorial I, medida en ohms $(\\Omega)$.\n",
    "    </div>"
   ]
  },
  {
   "cell_type": "markdown",
   "metadata": {},
   "source": [
    "Las admitancias de resistores, inductores y capacitores, se resume en la tabla:"
   ]
  },
  {
   "cell_type": "markdown",
   "metadata": {},
   "source": [
    "$$\\begin{array}{cll}\n",
    "\\mbox{Elemento} & \\mbox{Impedancia} & \\mbox{Admitancia} \\\\\n",
    "\\hline\n",
    "R & \\mathrm{Z} = R & \\displaystyle \\mathrm{Y} = \\frac{1}{R} \\\\\n",
    "L & \\mathrm{Z} = j \\omega L & \\displaystyle \\mathrm{Y} = \\frac{1}{j \\omega L} \\\\\n",
    "C & \\displaystyle \\mathrm{Z} = \\frac{1}{j \\omega C} & \\mathrm{Y} = j \\omega C \\\\\n",
    "\\hline\n",
    "\\end{array}$$"
   ]
  },
  {
   "cell_type": "markdown",
   "metadata": {},
   "source": [
    "Con $\\omega = 50$\n",
    "$$ Z = R + j \\omega L $$"
   ]
  },
  {
   "cell_type": "markdown",
   "metadata": {},
   "source": [
    "$$ Z = 25 + j 50 \\, (0,01)  \\, \\Omega $$"
   ]
  },
  {
   "cell_type": "markdown",
   "metadata": {},
   "source": [
    "$$ Z = 25 + j0,5 \\, \\Omega $$"
   ]
  },
  {
   "cell_type": "markdown",
   "metadata": {},
   "source": [
    "Con $\\omega = 100$"
   ]
  },
  {
   "cell_type": "markdown",
   "metadata": {},
   "source": [
    "$$ Z = R + j \\omega L $$"
   ]
  },
  {
   "cell_type": "markdown",
   "metadata": {},
   "source": [
    "$$ Z = 25 + j100 \\, (0,01) \\, \\Omega $$"
   ]
  },
  {
   "cell_type": "markdown",
   "metadata": {},
   "source": [
    "$$ Z = 25 + j1 \\, \\Omega $$"
   ]
  },
  {
   "cell_type": "markdown",
   "metadata": {},
   "source": [
    "Con $\\omega = 500$"
   ]
  },
  {
   "cell_type": "markdown",
   "metadata": {},
   "source": [
    "$$ Z = R + j \\omega L $$"
   ]
  },
  {
   "cell_type": "markdown",
   "metadata": {},
   "source": [
    "$$ Z = 25 + j 500 \\, (0,01) \\, \\Omega $$"
   ]
  },
  {
   "cell_type": "markdown",
   "metadata": {},
   "source": [
    "$$ Z = 25 + j5 \\, \\Omega $$"
   ]
  },
  {
   "cell_type": "markdown",
   "metadata": {},
   "source": [
    "Con $\\omega = 1000$"
   ]
  },
  {
   "cell_type": "markdown",
   "metadata": {},
   "source": [
    "$$ Z = R + j \\omega L $$"
   ]
  },
  {
   "cell_type": "markdown",
   "metadata": {},
   "source": [
    "$$ Z = 25 + j1000 \\, (0,01) \\, \\Omega $$"
   ]
  },
  {
   "cell_type": "markdown",
   "metadata": {},
   "source": [
    "$$ Z = 25 + j10 \\, \\Omega $$"
   ]
  },
  {
   "cell_type": "markdown",
   "metadata": {},
   "source": [
    "## Problema 4\n",
    "A un circuito serie con $R = 10 \\, \\Omega$ y $C = 50 \\, \\mu \\mathrm{F}$ se le aplica una tensión cuya frecuencia es tal que la corriente adelanta $30^\\circ$ respecto de la tensión.          \n",
    "¿A qué frecuencia la corriente estaría adelanta $70^\\circ$?"
   ]
  },
  {
   "cell_type": "markdown",
   "metadata": {},
   "source": [
    "### Solución\n",
    "Para un circuito RLC, tenemos:"
   ]
  },
  {
   "cell_type": "markdown",
   "metadata": {},
   "source": [
    "$$ \\tan \\phi = \\frac{V_L - V_C}{V_R} = \\frac{I (Z_L - Z_C)}{IR} = \\frac{Z_L - Z_C}{R} $$"
   ]
  },
  {
   "cell_type": "markdown",
   "metadata": {},
   "source": [
    "En nuetro caso solo contamos con un capacitor y una resistencia, entonces"
   ]
  },
  {
   "cell_type": "markdown",
   "metadata": {},
   "source": [
    "$$ \\tan \\phi = \\frac{- Z_c}{R} = - \\frac{1/(\\omega C) }{R} $$"
   ]
  },
  {
   "cell_type": "markdown",
   "metadata": {},
   "source": [
    "$$ R \\tan \\phi =  - \\frac{1}{\\omega C}  $$"
   ]
  },
  {
   "cell_type": "markdown",
   "metadata": {},
   "source": [
    "$$ \\omega = -  \\frac{1}{RC \\tan \\phi} $$"
   ]
  },
  {
   "cell_type": "markdown",
   "metadata": {},
   "source": [
    "$$ f = - \\frac{1}{2 \\pi R C \\tan \\phi} $$"
   ]
  },
  {
   "cell_type": "code",
   "execution_count": 31,
   "metadata": {},
   "outputs": [],
   "source": [
    "# Definimos la función\n",
    "function out = f(ang)\n",
    "R = 10 ; # Ohm\n",
    "C = 50e-6 ; # F\n",
    "out = -1/(2*pi*R*C*tan(-ang)) ;\n",
    "endfunction"
   ]
  },
  {
   "cell_type": "code",
   "execution_count": 32,
   "metadata": {},
   "outputs": [
    {
     "name": "stdout",
     "output_type": "stream",
     "text": [
      "ans =  551.33\n",
      "ans =  115.86\n"
     ]
    }
   ],
   "source": [
    "# Calculamos\n",
    "phi1 = 30*pi/180 ;\n",
    "phi2 = 70*pi/180 ;\n",
    "\n",
    "f(phi1)\n",
    "f(phi2)"
   ]
  },
  {
   "cell_type": "code",
   "execution_count": 24,
   "metadata": {},
   "outputs": [],
   "source": [
    "%%python\n",
    "import math"
   ]
  },
  {
   "cell_type": "code",
   "execution_count": 41,
   "metadata": {},
   "outputs": [],
   "source": [
    "%%python\n",
    "R = 10 # Ohm\n",
    "C = 50e-6 # F\n",
    "phi1 = 30*math.pi/180\n",
    "phi2 = 70*math.pi/180"
   ]
  },
  {
   "cell_type": "code",
   "execution_count": 42,
   "metadata": {},
   "outputs": [],
   "source": [
    "%%python\n",
    "def frec(phi):\n",
    "   return -1/(2*math.pi*R*C*math.tan(-phi))"
   ]
  },
  {
   "cell_type": "code",
   "execution_count": 43,
   "metadata": {},
   "outputs": [
    {
     "name": "stdout",
     "output_type": "stream",
     "text": [
      "f(30°) = 551.33 Hz\n",
      "f(70°) = 115.86 Hz\n"
     ]
    }
   ],
   "source": [
    "%%python\n",
    "print('f(30°) = %.2f Hz'%frec(phi1))\n",
    "print('f(70°) = %.2f Hz'%frec(phi2))"
   ]
  },
  {
   "cell_type": "markdown",
   "metadata": {},
   "source": [
    "Para 30° de adelanto de la corriente con respecto a la tensión:          \n",
    "Se necesita una frecuencia de 551,33 Hz "
   ]
  },
  {
   "cell_type": "markdown",
   "metadata": {},
   "source": [
    "Para 70° de adelanto de la corriente con respecto a la tensión:            \n",
    "Se necesita una frecuencia de 115,86 Hz"
   ]
  },
  {
   "cell_type": "markdown",
   "metadata": {},
   "source": [
    "## Problema 5\n",
    "Un elemento de circuito tiene una $i(t) = 2,5 \\cos (314 t - \\pi/6)$ y una $v(t) = 5 \\sin (314 t - \\pi/6)$.            \n",
    "Determinar la característica del elemento."
   ]
  },
  {
   "cell_type": "markdown",
   "metadata": {},
   "source": [
    "<img src=\"img/tp2e5.png\" alt=\"tp2e5.png\">"
   ]
  },
  {
   "cell_type": "markdown",
   "metadata": {},
   "source": [
    "### Solución"
   ]
  },
  {
   "cell_type": "markdown",
   "metadata": {},
   "source": [
    "$$ V = I Z $$"
   ]
  },
  {
   "cell_type": "markdown",
   "metadata": {},
   "source": [
    "$$ Z = \\frac{V}{I} = \\frac{5 \\angle (-\\pi/6 \\, \\mathrm{rad}) }{2,5 \\angle (- \\pi/6 \\, \\mathrm{rad})} = 2 \\angle (0 \\, \\mathrm{rad}) \\, \\Omega $$"
   ]
  },
  {
   "cell_type": "markdown",
   "metadata": {},
   "source": [
    "Podemos ver que el elemento tiene una resistencia de $2 \\, \\Omega$"
   ]
  },
  {
   "cell_type": "markdown",
   "metadata": {},
   "source": [
    "## Problema 6\n",
    "Un elemento de circuito tiene $i(t) = 13,45 \\sin (500 t - 53,4^\\circ)$ y $v(t) = 150 \\sin (500 t + 10^\\circ)$.          \n",
    "Determinar la característica del elemento."
   ]
  },
  {
   "cell_type": "markdown",
   "metadata": {},
   "source": [
    "<img src=\"img/tp2e5.png\" alt=\"tp2e5.png\">"
   ]
  },
  {
   "cell_type": "markdown",
   "metadata": {},
   "source": [
    "### Solución"
   ]
  },
  {
   "cell_type": "markdown",
   "metadata": {},
   "source": [
    "$$ Z = \\frac{V}{I} = \\frac{150 \\angle (10^\\circ \\, \\mathrm{rad})}{13,45 \\angle (-53,4^\\circ \\, \\mathrm{rad})} = 11,152 \\angle (63,4^\\circ \\, \\mathrm{rad}) \\, \\Omega $$"
   ]
  },
  {
   "cell_type": "markdown",
   "metadata": {},
   "source": [
    "## Problema 7\n",
    "Un circuito de 2 ramas en paralelo con $R = 10 \\, \\Omega$ y una $C = 100 \\, \\mu \\mathrm{F}$, está alimentado por una $v(t) = 150 \\cos (5000 t - \\pi/6)$.\n",
    "1. Calcular las corrientes de las ramas y la de entrada.\n",
    "2. Representar el diagrama fasorial de tensión y corrientes."
   ]
  },
  {
   "cell_type": "markdown",
   "metadata": {},
   "source": [
    "<img src=\"img/tp2e7.png\" alt=\"tp2e7.png\">"
   ]
  },
  {
   "cell_type": "markdown",
   "metadata": {},
   "source": [
    "### Solución\n",
    "Para hacer el análisis en el dominio de la frecuencia, primero se debe transformar el circuito en el dominio temporal."
   ]
  },
  {
   "cell_type": "markdown",
   "metadata": {},
   "source": [
    "$$v_s = 150 \\cos (5000t - \\pi/6) \\quad \\Rightarrow \\quad \\mathrm{V}_s = 150 \\angle (-\\pi/6) \\, \\mathrm{V} \\qquad \\omega = 5000$$"
   ]
  },
  {
   "cell_type": "markdown",
   "metadata": {},
   "source": [
    "$$ 100 \\, \\mu \\mathrm{F} \\quad \\Rightarrow \\quad \\frac{1}{j \\omega C} = \\frac{1}{j (5000) \\cdot (100 \\times 10^{-6}) } = -j2 \\, \\Omega $$"
   ]
  },
  {
   "cell_type": "markdown",
   "metadata": {},
   "source": [
    "Tenemos la misma tensión en el resistor como en el capacitor, porque estan conectados en paralelo a la fuente de tensión. Entonces:"
   ]
  },
  {
   "cell_type": "markdown",
   "metadata": {},
   "source": [
    "$$ I_R = \\frac{V}{Z_R} = \\frac{150 \\angle(-\\pi/6) \\, \\mathrm{V}}{10 \\, \\Omega} = 15 \\angle (-\\pi/6) \\, \\mathrm{A} \\approx (12,99-j7,5) \\, \\mathrm{A} $$"
   ]
  },
  {
   "cell_type": "markdown",
   "metadata": {},
   "source": [
    "$$ I_C = \\frac{V}{Z_C} = \\frac{150 \\angle (-\\pi/6) \\, \\mathrm{V}}{2 \\angle (- \\pi/2) \\, \\Omega} = 75 \\angle (\\pi/3) \\, \\mathrm{A} \\approx (37,5 + j64,95) \\, \\mathrm{A} $$"
   ]
  },
  {
   "cell_type": "code",
   "execution_count": 6,
   "metadata": {},
   "outputs": [],
   "source": [
    "%%python\n",
    "import cmath, math"
   ]
  },
  {
   "cell_type": "code",
   "execution_count": 9,
   "metadata": {},
   "outputs": [
    {
     "name": "stdout",
     "output_type": "stream",
     "text": [
      "I_R = 12.990-7.500j A\n",
      "I_C = 37.500+64.952j A\n"
     ]
    }
   ],
   "source": [
    "%%python\n",
    "Vs = cmath.rect(150,-math.pi/6)\n",
    "Z_R = 10\n",
    "Z_C = -2j\n",
    "\n",
    "I_R = Vs/Z_R\n",
    "I_C = Vs/Z_C\n",
    "\n",
    "print('I_R = {:.3f} A'.format(I_R))\n",
    "print('I_C = {:.3f} A'.format(I_C))"
   ]
  },
  {
   "cell_type": "markdown",
   "metadata": {},
   "source": [
    "$$ I_{tot} = I_R + I_C = 50,49 + j57,452 \\, \\mathrm{A} $$"
   ]
  },
  {
   "cell_type": "code",
   "execution_count": 10,
   "metadata": {},
   "outputs": [
    {
     "name": "stdout",
     "output_type": "stream",
     "text": [
      "I_tot = 50.490+57.452j A\n"
     ]
    }
   ],
   "source": [
    "%%python\n",
    "\n",
    "I_tot = I_R + I_C\n",
    "\n",
    "print('I_tot = {:.3f} A'.format(I_tot))"
   ]
  },
  {
   "cell_type": "code",
   "execution_count": 17,
   "metadata": {},
   "outputs": [
    {
     "name": "stdout",
     "output_type": "stream",
     "text": [
      "I_tot = (76.485 < 0.850 rad)\n",
      "I_tot = (76.485 < 48.690 °)\n"
     ]
    }
   ],
   "source": [
    "%%python\n",
    "I_tot_pol = cmath.polar(I_tot)\n",
    "\n",
    "print('I_tot = (%.3f < %.3f rad)'%I_tot_pol)\n",
    "print('I_tot = (%.3f < %.3f °)'%(I_tot_pol[0],I_tot_pol[1]*180/math.pi))"
   ]
  },
  {
   "cell_type": "markdown",
   "metadata": {},
   "source": [
    "$$ I_{tot} = (76,485 < 0,850 \\, \\mathrm{rad}) \\, \\mathrm{A} $$"
   ]
  },
  {
   "cell_type": "markdown",
   "metadata": {},
   "source": [
    "$$ I_{tot} = ( 76,485 < 48,69^\\circ ) \\, \\mathrm{A} $$"
   ]
  },
  {
   "cell_type": "markdown",
   "metadata": {},
   "source": [
    "### Verificamos\n",
    "Sean\n",
    "\n",
    "$ Z_1 =$ Impedancia del resistor de $10 \\, \\Omega$\n",
    "\n",
    "$ Z_2 =$ Impedancia de la combinación en paralelo del resistor de $10 \\, \\Omega$ y el capacitor $100 \\, \\mu \\mathrm{F}$"
   ]
  },
  {
   "cell_type": "markdown",
   "metadata": {},
   "source": [
    "Entonces\n",
    "$$ Z_1||Z_2 = \\frac{10 \\cdot (-j2)}{10 + (- j2)} $$"
   ]
  },
  {
   "cell_type": "code",
   "execution_count": 18,
   "metadata": {},
   "outputs": [
    {
     "name": "stdout",
     "output_type": "stream",
     "text": [
      "Vs = 129.904-75.000j V\n"
     ]
    }
   ],
   "source": [
    "%%python\n",
    "# Verificamos\n",
    "Z_tot = (Z_R * Z_C)/(Z_R + Z_C)\n",
    "print('Vs = {:.3f} V'.format(Z_tot*I_tot))"
   ]
  },
  {
   "cell_type": "markdown",
   "metadata": {},
   "source": [
    "## Problema 8\n",
    "Dado el siguiente circuito:\n",
    "1. Hallar las intensidades de corriente que circulan por cada elemento.\n",
    "2. Realizar el diagrama fasorial de tensiones y corrientes."
   ]
  },
  {
   "cell_type": "markdown",
   "metadata": {},
   "source": [
    "<img src=\"img/tp2e8.png\" alt=\"tp2e8.png\">"
   ]
  },
  {
   "cell_type": "markdown",
   "metadata": {},
   "source": [
    "### Solución\n",
    "Aplicamos LKV"
   ]
  },
  {
   "cell_type": "markdown",
   "metadata": {},
   "source": [
    "$$\\begin{array}{c}\n",
    "(Z_1 + Z_3) I_1 - (Z_3) I_2 = 100 \\\\\n",
    "-(Z_3) I_1 + (Z_2 + Z_3) I_2 = 0\n",
    "\\end{array}$$"
   ]
  },
  {
   "cell_type": "markdown",
   "metadata": {},
   "source": [
    "Entonces, reemplazando"
   ]
  },
  {
   "cell_type": "markdown",
   "metadata": {},
   "source": [
    "$$\\begin{array}{c}\n",
    "15 I_1 - 5 I_2 = 100 \\\\\n",
    "-5 I_1 + (5 + 10j) I_2 = 0\n",
    "\\end{array}$$"
   ]
  },
  {
   "cell_type": "markdown",
   "metadata": {},
   "source": [
    "$$ \\Delta =\n",
    "\\begin{array}{|cc|}\n",
    "15 & -5 \\\\\n",
    "-5 & 5 + 10j\n",
    "\\end{array} = 50 + 150j$$"
   ]
  },
  {
   "cell_type": "markdown",
   "metadata": {},
   "source": [
    "$$ \\Delta_1 = \n",
    "\\begin{array}{|cc|}\n",
    "100 & -5 \\\\\n",
    "0 & 5 + 10j\n",
    "\\end{array} = 500 + 1000j$$"
   ]
  },
  {
   "cell_type": "markdown",
   "metadata": {},
   "source": [
    "$$ \\Delta_2 =\n",
    "\\begin{array}{|cc|}\n",
    "15 & 100 \\\\\n",
    "-5 & 0\n",
    "\\end{array} = 500$$"
   ]
  },
  {
   "cell_type": "markdown",
   "metadata": {},
   "source": [
    "Luego\n",
    "$$ I_1 = \\frac{\\Delta_1}{\\Delta} = 7 - 1j \\; \\mathrm{A} \\qquad ; \\qquad I_2 = \\frac{\\Delta_2}{\\Delta} = 1 - 3j \\, \\mathrm{A} $$"
   ]
  },
  {
   "cell_type": "markdown",
   "metadata": {},
   "source": [
    "$$ I_3 = I_1 - I_2 = 6 + 2j \\, \\mathrm{A} $$"
   ]
  },
  {
   "cell_type": "markdown",
   "metadata": {},
   "source": [
    "### Usando octave"
   ]
  },
  {
   "cell_type": "code",
   "execution_count": 10,
   "metadata": {},
   "outputs": [
    {
     "name": "stdout",
     "output_type": "stream",
     "text": [
      "Delta =   50 + 150i\n",
      "Delta1 =   500 + 1000i\n",
      "Delta2 =  500.00\n"
     ]
    }
   ],
   "source": [
    "# Usando octave:\n",
    "M = [15  -5\n",
    "          -5   5+10i];\n",
    "M1 = [100  -5\n",
    "            0     5+10i];\n",
    "M2 = [15   100\n",
    "           -5      0];\n",
    "           \n",
    "Delta = det(M)            \n",
    "Delta1 = det(M1)           \n",
    "Delta2 = det(M2)"
   ]
  },
  {
   "cell_type": "code",
   "execution_count": 11,
   "metadata": {},
   "outputs": [
    {
     "name": "stdout",
     "output_type": "stream",
     "text": [
      "I1 =  7.0000 - 1.0000i\n",
      "I2 =  1.00000 - 3.00000i\n",
      "I3 =  6.0000 + 2.0000i\n"
     ]
    }
   ],
   "source": [
    "I1 = Delta1/Delta\n",
    "I2 = Delta2/Delta\n",
    "I3 = I1 - I2"
   ]
  },
  {
   "cell_type": "code",
   "execution_count": 39,
   "metadata": {},
   "outputs": [
    {
     "name": "stdout",
     "output_type": "stream",
     "text": [
      "           phi           r \n",
      "I1_pol = < -0.142 rad , 7.071 \n",
      "I2_pol = < -1.249 rad , 3.162 \n",
      "I3_pol = < 0.322 rad , 6.325 \n"
     ]
    }
   ],
   "source": [
    "# conversión a coordenadas polares\n",
    "I1_pol = cart2pol( real(I1) , imag(I1) ) ;\n",
    "I2_pol = cart2pol( real(I2) , imag(I2) ) ; \n",
    "I3_pol = cart2pol( real(I3) , imag(I3) ) ;\n",
    "fprintf('           phi           r \\n')\n",
    "fprintf('I1_pol = < %.3f rad , %.3f \\n',I1_pol)\n",
    "fprintf('I2_pol = < %.3f rad , %.3f \\n',I2_pol)\n",
    "fprintf('I3_pol = < %.3f rad , %.3f \\n',I3_pol)"
   ]
  },
  {
   "cell_type": "markdown",
   "metadata": {},
   "source": [
    "### Usando python"
   ]
  },
  {
   "cell_type": "code",
   "execution_count": 12,
   "metadata": {},
   "outputs": [],
   "source": [
    "%%python\n",
    "import numpy as np\n",
    "import math, cmath"
   ]
  },
  {
   "cell_type": "code",
   "execution_count": 13,
   "metadata": {},
   "outputs": [
    {
     "name": "stdout",
     "output_type": "stream",
     "text": [
      "I1 = 7.00-1.00j A\n",
      "I2 = 1.00-3.00j A\n",
      "I3 = 6.00+2.00j A\n"
     ]
    }
   ],
   "source": [
    "%%python\n",
    "M = np.array([ [15 , -5],[-5 , 5+10j] ])\n",
    "M1 = np.array([ [100 , -5],[0 , 5+10j] ])\n",
    "M2 = np.array([ [15 , 100],[-5 ,0 ] ])\n",
    "Delta = np.linalg.det(M)\n",
    "Delta1 = np.linalg.det(M1)\n",
    "Delta2 = np.linalg.det(M2)\n",
    "I1 = Delta1/Delta\n",
    "I2 = Delta2/Delta\n",
    "I3 = I1 - I2\n",
    "\n",
    "print('I1 = {:.2f} A'.format(I1))\n",
    "print('I2 = {:.2f} A'.format(I2))\n",
    "print('I3 = {:.2f} A'.format(I3))"
   ]
  },
  {
   "cell_type": "code",
   "execution_count": 15,
   "metadata": {},
   "outputs": [
    {
     "name": "stdout",
     "output_type": "stream",
     "text": [
      "I1_pol = (7.07 < -0.142 rad)\n",
      "I2_pol = (3.16 < -1.249 rad)\n",
      "I3_pol = (6.32 < 0.322 rad)\n"
     ]
    }
   ],
   "source": [
    "%%python\n",
    "# Conversión a coordenadas polares (radianes)\n",
    "I1_pol = cmath.polar(I1)\n",
    "I2_pol = cmath.polar(I2)\n",
    "I3_pol = cmath.polar(I3)\n",
    "\n",
    "print('I1_pol = (%.2f < %.3f rad)'%I1_pol)\n",
    "print('I2_pol = (%.2f < %.3f rad)'%I2_pol)\n",
    "print('I3_pol = (%.2f < %.3f rad)'%I3_pol)"
   ]
  },
  {
   "cell_type": "code",
   "execution_count": null,
   "metadata": {},
   "outputs": [],
   "source": []
  }
 ],
 "metadata": {
  "kernelspec": {
   "display_name": "Octave",
   "language": "octave",
   "name": "octave"
  },
  "language_info": {
   "file_extension": ".m",
   "help_links": [
    {
     "text": "GNU Octave",
     "url": "https://www.gnu.org/software/octave/support.html"
    },
    {
     "text": "Octave Kernel",
     "url": "https://github.com/Calysto/octave_kernel"
    },
    {
     "text": "MetaKernel Magics",
     "url": "https://metakernel.readthedocs.io/en/latest/source/README.html"
    }
   ],
   "mimetype": "text/x-octave",
   "name": "octave",
   "version": "4.2.2"
  }
 },
 "nbformat": 4,
 "nbformat_minor": 2
}
