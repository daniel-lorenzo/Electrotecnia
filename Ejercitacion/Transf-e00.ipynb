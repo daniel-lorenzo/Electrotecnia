{
 "cells": [
  {
   "cell_type": "markdown",
   "metadata": {},
   "source": [
    "## Ejercicio\n",
    "Se realizaron los ensayos de vacío y de cortocircuito sobre un transformador monofásico de 15kVA; 1000/500V, obteniéndose los siguientes resultados:"
   ]
  },
  {
   "cell_type": "markdown",
   "metadata": {},
   "source": [
    "Ensayo de vacío:\n",
    "* $P_0 = 135 \\, \\mathrm{W}$\n",
    "* $I_0 = 0,48 \\, \\mathrm{A}$\n",
    "* $V_0 = 500 \\, \\mathrm{V}$"
   ]
  },
  {
   "cell_type": "markdown",
   "metadata": {},
   "source": [
    "Ensayo de corto circuito\n",
    "* $P_{CC} = 150 \\, \\mathrm{W}$\n",
    "* $I_{CC} = 15 \\, \\mathrm{A}$\n",
    "* $V_{CC} = 45 \\, \\mathrm{V}$"
   ]
  },
  {
   "cell_type": "markdown",
   "metadata": {},
   "source": [
    "1. Obtener los parámetros del circuito equivalente referido al lado de baja tensión modelo del transoformador monofásico real.\n",
    "2. Calcular el rendimiento de este transformador, para una carga conectada en el lado de baja tensión, considerando:\n",
    "  * La carga demanda un 80% de la corriente nominal\n",
    "  * La carga tienen un $\\cos \\varphi = 0,8$ inductivo.\n",
    "3. Calcular el rendimiento máximo de esta transformador, para una carga conectada en el lado de baja tensión, considerando:\n",
    "  * La carga tiene un $\\cos \\varphi = 0,9$ inductivo."
   ]
  },
  {
   "cell_type": "markdown",
   "metadata": {},
   "source": [
    "### Solución"
   ]
  },
  {
   "cell_type": "markdown",
   "metadata": {},
   "source": [
    "Interpretación y planteo del problema\n",
    "  * Condición del problema: analizar el circuito equivalente del transformador monofásico real con parámetros referidos al lado de baja tensión, es decir:\n",
    "\n",
    "<img src=\"img/transf_ejmp.png\">  \n",
    "\n",
    "* El objetivo es hallar el valor de la magnitud de esos parámetros referidos al lado de baja tensión."
   ]
  },
  {
   "cell_type": "code",
   "execution_count": 2,
   "metadata": {},
   "outputs": [],
   "source": [
    "import numpy as np\n",
    "import cmath"
   ]
  },
  {
   "cell_type": "code",
   "execution_count": 3,
   "metadata": {},
   "outputs": [],
   "source": [
    "# Datos:\n",
    "SN  =  15e3  # VA\n",
    "V1N =  1000  # V \n",
    "V2N =   500  # V\n",
    "# Ensayo de vacío\n",
    "Po =  135    # W\n",
    "Io =    0.48 # A\n",
    "Vo =  500    # V\n",
    "# Ensayo de corto circuito\n",
    "Pcc = 150    # W\n",
    "Icc =  15    # A\n",
    "Vcc =  45    # V"
   ]
  },
  {
   "cell_type": "markdown",
   "metadata": {},
   "source": [
    "1) ítem.    \n",
    "Cálculo de $\\varphi_0$\n",
    "$$ P_0 = I_0 V_0 \\cos \\varphi_0 $$"
   ]
  },
  {
   "cell_type": "code",
   "execution_count": 4,
   "metadata": {},
   "outputs": [],
   "source": [
    "# Cálculo de phi_0\n",
    "phi_0 = np.arccos(Po/(Io*Vo))\n",
    "# Cálculo de Ip\n",
    "Ip = Io*np.cos(phi_0)\n",
    "# Cálculo de Im\n",
    "Im = Io*np.sin(phi_0)\n",
    "# Reactancia del flujo magnético concatenado en el núcleo\n",
    "Xm2 = V2N/Im\n",
    "# Pérdidas en el núcleo de hierro\n",
    "Rp2 = V2N/Ip "
   ]
  },
  {
   "cell_type": "markdown",
   "metadata": {},
   "source": [
    "$$\\begin{array}{l}\n",
    "S_N = V_{1N} I_{1N} \\\\\n",
    "S_N = V_{2N} I_{2N}\n",
    "\\end{array}$$"
   ]
  },
  {
   "cell_type": "code",
   "execution_count": 5,
   "metadata": {},
   "outputs": [],
   "source": [
    "# Corriente nominal 1\n",
    "I1N = SN/V1N\n",
    "# Corriente nominal 2\n",
    "I2N = SN/V2N\n",
    "# Cálculo de la relación de transformación\n",
    "a = V1N/V2N"
   ]
  },
  {
   "cell_type": "markdown",
   "metadata": {},
   "source": [
    "Obtención de parámetros $R_{eq2}$ y $X_{eq2}$\n",
    "\n",
    "Análisis del ensayo de corto circuito"
   ]
  },
  {
   "cell_type": "markdown",
   "metadata": {},
   "source": [
    "$$ Z_{eq2} = \\frac{V_{cc} / I_{1N}}{a^2} $$"
   ]
  },
  {
   "cell_type": "markdown",
   "metadata": {},
   "source": [
    "Cálculo de $\\varphi_{cc}$\n",
    "$$ P_{cc} = V_{cc} I_{cc} \\cos \\varphi_{cc} $$"
   ]
  },
  {
   "cell_type": "markdown",
   "metadata": {},
   "source": [
    "$$ \\varphi_{cc} = \\cos^{-1} \\frac{P_{cc}}{V_{cc} I_{cc}} $$"
   ]
  },
  {
   "cell_type": "markdown",
   "metadata": {},
   "source": [
    "Pérdidas por efecto Joule del arrollamiento secundario"
   ]
  },
  {
   "cell_type": "markdown",
   "metadata": {},
   "source": [
    "$$R_{eq2} = Z_{eq2} \\cos \\varphi_{cc}$$"
   ]
  },
  {
   "cell_type": "markdown",
   "metadata": {},
   "source": [
    "Reactancia de dispersión del arrollamiento secundario"
   ]
  },
  {
   "cell_type": "markdown",
   "metadata": {},
   "source": [
    "$$ X_{eq2} = Z_{eq2} \\sin \\varphi_{cc} $$"
   ]
  },
  {
   "cell_type": "markdown",
   "metadata": {},
   "source": [
    "$$ Z_{eq2} = \\sqrt{R_{eq2}^2 + X_{eq2}^2} $$"
   ]
  },
  {
   "cell_type": "code",
   "execution_count": 6,
   "metadata": {},
   "outputs": [],
   "source": [
    "# Cálculo de phi de corto circuito\n",
    "phi_cc = np.arccos(Pcc/(Vcc*Icc))\n",
    "# Cálculo del módulo de la impedancia equivalente en el secundario\n",
    "Zeq2 = (Vcc/I1N)/a**2\n",
    "# Resistencia equivalente en el secundario\n",
    "Req2 = Zeq2*np.cos(phi_cc)\n",
    "# Reactancia equivalente en el secundario\n",
    "Xeq2 = Zeq2*np.sin(phi_cc)\n",
    "# Impedancia equivalente en el secundario\n",
    "Zeq2 = complex(Req2,Xeq2)"
   ]
  },
  {
   "cell_type": "markdown",
   "metadata": {},
   "source": [
    "2) ítem.     \n",
    "Rendimiento del transformador para una carga conectada en el lado de baja tensión, considerando:\n",
    "* La carga demanda un 80% de la corriente nominal\n",
    "* La carga tiene un $\\cos \\varphi = 0,8$, inductivo"
   ]
  },
  {
   "cell_type": "markdown",
   "metadata": {},
   "source": [
    "$$ \\eta = \\frac{V_2 I_2 \\cos \\varphi}{V_2 I_2 \\cos \\varphi + P_0 + P_{cu}} $$"
   ]
  },
  {
   "cell_type": "code",
   "execution_count": 7,
   "metadata": {},
   "outputs": [],
   "source": [
    "# Factor de potencia (ítem 2)\n",
    "fp = 0.8\n",
    "phi = np.arccos(fp)\n",
    "# Cálculo de I2\n",
    "I2 = fp*I2N # condición del problema\n",
    "# Cálculo de V2\n",
    "V2 = V2N - I2*(Req2*fp*Xeq2*np.sin(phi))\n",
    "Pcu = I2**2*Req2\n",
    "# Rendimiento del transformador para una carga conectada en el\n",
    "# lado de baja tensión\n",
    "n = (V2*I2*fp)/(V2*I2*np.cos(phi)+Po+Pcu)"
   ]
  },
  {
   "cell_type": "code",
   "execution_count": 13,
   "metadata": {},
   "outputs": [
    {
     "name": "stdout",
     "output_type": "stream",
     "text": [
      "n = 0.9764\n"
     ]
    }
   ],
   "source": [
    "print('n = %.4f'%n)"
   ]
  },
  {
   "cell_type": "markdown",
   "metadata": {},
   "source": [
    "3) ítem.    \n",
    "Rendimiento máximo de este transformador, para una carga conectada en el lado de baja tensión, considerando:\n",
    "* La carga tiene un $\\cos = 0,9$, inductivo"
   ]
  },
  {
   "cell_type": "code",
   "execution_count": 9,
   "metadata": {},
   "outputs": [],
   "source": [
    "# Datos:\n",
    "fp_max = 0.9"
   ]
  },
  {
   "cell_type": "markdown",
   "metadata": {},
   "source": [
    "Cálculo de $\\varphi_\\mathrm{max}$"
   ]
  },
  {
   "cell_type": "markdown",
   "metadata": {},
   "source": [
    "$$ \\varphi_\\mathrm{max} = \\arccos(\\mathrm{fp_{max}}) $$"
   ]
  },
  {
   "cell_type": "markdown",
   "metadata": {},
   "source": [
    "Cálculo de $I_\\mathrm{2max}$"
   ]
  },
  {
   "cell_type": "markdown",
   "metadata": {},
   "source": [
    "$$ I_\\mathrm{2max} = \\sqrt{\\frac{P_0}{R_{eq2}}} $$"
   ]
  },
  {
   "cell_type": "markdown",
   "metadata": {},
   "source": [
    "Cálculo de $V_\\mathrm{2max}$"
   ]
  },
  {
   "cell_type": "markdown",
   "metadata": {},
   "source": [
    "$$ V_\\mathrm{2max} = V_{2N} - I_\\mathrm{2max} (R_{eq2} \\mathrm{fp_{max}} + X_{eq2} \\sin \\varphi_\\mathrm{max}) $$"
   ]
  },
  {
   "cell_type": "markdown",
   "metadata": {},
   "source": [
    "Cálculo de $\\eta_\\mathrm{max}$"
   ]
  },
  {
   "cell_type": "markdown",
   "metadata": {},
   "source": [
    "$$ \\eta_\\mathrm{max} = \\frac{V_\\mathrm{2max} I_\\mathrm{2max} \\mathrm{fp_{max}}}{V_\\mathrm{2max} I_\\mathrm{2max} \\mathrm{fp_{max}} + 2 P_0} $$"
   ]
  },
  {
   "cell_type": "code",
   "execution_count": 10,
   "metadata": {},
   "outputs": [],
   "source": [
    "phi_max = np.arccos(fp_max)\n",
    "I2max = np.sqrt(Po/Req2)\n",
    "V2max = V2N - I2max*(Req2*fp_max+Xeq2*np.sin(phi_max))\n",
    "# Cálculo de n_max\n",
    "n_max = (V2max*I2max*fp_max)/(V2max*I2max*fp_max + 2*Po)"
   ]
  },
  {
   "cell_type": "code",
   "execution_count": 15,
   "metadata": {},
   "outputs": [
    {
     "name": "stdout",
     "output_type": "stream",
     "text": [
      "n_max = 0.9788\n"
     ]
    }
   ],
   "source": [
    "print('n_max = %.4f'%n_max)"
   ]
  },
  {
   "cell_type": "code",
   "execution_count": null,
   "metadata": {},
   "outputs": [],
   "source": []
  }
 ],
 "metadata": {
  "kernelspec": {
   "display_name": "Python 3",
   "language": "python",
   "name": "python3"
  },
  "language_info": {
   "codemirror_mode": {
    "name": "ipython",
    "version": 3
   },
   "file_extension": ".py",
   "mimetype": "text/x-python",
   "name": "python",
   "nbconvert_exporter": "python",
   "pygments_lexer": "ipython3",
   "version": "3.7.6"
  }
 },
 "nbformat": 4,
 "nbformat_minor": 4
}
