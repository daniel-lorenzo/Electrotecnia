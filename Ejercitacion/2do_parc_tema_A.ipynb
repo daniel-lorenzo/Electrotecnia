{
 "cells": [
  {
   "cell_type": "markdown",
   "metadata": {},
   "source": [
    "# Segundo parcial tema A\n",
    "__U.N.L.Z. - Facultad de Ingeniería__       \n",
    "__Electrotecnia__      \n",
    "__Alumno:__ Daniel Antonio Lorenzo       \n",
    "<mark><strong>(Resolución en python3)</strong></mark>"
   ]
  },
  {
   "cell_type": "markdown",
   "metadata": {},
   "source": [
    "<a href=\"https://colab.research.google.com/github/daniel-lorenzo/Electrotecnia/blob/master/Ejercitacion/2do_parc_tema_A.ipynb\"><img align=\"left\" src=\"https://colab.research.google.com/assets/colab-badge.svg\" alt=\"Open in Colab\" title=\"Open and Execute in Google Colaboratory\"></a>"
   ]
  },
  {
   "cell_type": "markdown",
   "metadata": {},
   "source": [
    "## Pregunta 1\n",
    "<img src=\"img/2doparc_A-01.png\">"
   ]
  },
  {
   "cell_type": "markdown",
   "metadata": {},
   "source": [
    "### Resolución\n",
    "__Datos:__\n",
    "$\\left\\{\n",
    "\\begin{array}{l}\n",
    "S_N = 11000 \\, \\mathrm{VA} \\\\\n",
    "U_{N1} = 400 \\, \\mathrm{V} \\\\\n",
    "U_{N2} = 200 \\, \\mathrm{V}\n",
    "\\end{array}\n",
    "\\right. \\qquad \\qquad$\n",
    "__Ensayo de cortocircuito:__\n",
    "$\\left\\{\n",
    "\\begin{array}{l}\n",
    "P_{cc} = 300 \\, \\mathrm{W} \\\\\n",
    "U_{cc} = 20 \\, \\mathrm{V} \\\\\n",
    "I_{cc} = 27,5 \\, \\mathrm{A}\n",
    "\\end{array}\n",
    "\\right.$"
   ]
  },
  {
   "cell_type": "markdown",
   "metadata": {},
   "source": [
    "__Corrientes nominales:__\n",
    "$$ I_{N1} = \\frac{S_N}{U_{N1}} \\qquad ; \\qquad I_{N2} = \\frac{S_N}{U_{N2}} $$"
   ]
  },
  {
   "cell_type": "markdown",
   "metadata": {},
   "source": [
    "__Relación de transformación:__\n",
    "$$ \\mathrm{a} = \\frac{U_{N1}}{U_{N2}} $$"
   ]
  },
  {
   "cell_type": "markdown",
   "metadata": {},
   "source": [
    "__Ensayo de corto circuito:__\n",
    "$$ Z_{eq1} = \\frac{U_{cc}}{I_{cc}} $$"
   ]
  },
  {
   "cell_type": "markdown",
   "metadata": {},
   "source": [
    "$$ P_{cc} = I_{cc} U_{cc} \\cos \\varphi_{cc} \\quad \\rightarrow \\quad \\varphi_{cc} = \\arccos \\left( \\frac{P_{cc}}{I_{cc} U_{cc}} \\right) $$"
   ]
  },
  {
   "cell_type": "markdown",
   "metadata": {},
   "source": [
    "__Parámetros longitudinales:__\n",
    "$$\\begin{array}{|l|l|}\n",
    "\\hline\n",
    "\\mbox{Primario} & \\mbox{Secundario} \\\\\n",
    "\\hline\n",
    "R_{eq1} = Z_{eq1} \\cos \\varphi_{cc} & R_{eq2} = R_{eq1}/\\mathrm{a}^2 \\\\\n",
    "X_{eq1} = Z_{eq1} \\sin \\varphi_{cc} & X_{eq2} = X_{eq1}/\\mathrm{a}^2 \\\\\n",
    "\\hline\n",
    "\\end{array}$$"
   ]
  },
  {
   "cell_type": "code",
   "execution_count": 1,
   "metadata": {},
   "outputs": [],
   "source": [
    "import numpy as np   # importa biblioteca numpy"
   ]
  },
  {
   "cell_type": "code",
   "execution_count": 2,
   "metadata": {},
   "outputs": [],
   "source": [
    "# Datos:\n",
    "SN = 11000 # [VA]    Potencia nominal aparente\n",
    "UN1 =  400 # [V]     Voltaje nominal primario\n",
    "UN2 =  200 # [V]     Voltaje nominal secundario\n",
    "Pcc =  300 # [W]     Potencia de cortocircuito\n",
    "Ucc =   20 # [V]     Voltaje de cortocircuito\n",
    "Icc = 27.5 # [A]     Corriente de cortocircuito"
   ]
  },
  {
   "cell_type": "code",
   "execution_count": 3,
   "metadata": {},
   "outputs": [],
   "source": [
    "# Cálculos:\n",
    "IN1 = SN/UN1 # [A]   Corriente nominal 1\n",
    "IN2 = SN/UN2 # [A]   Corriente nominal 2\n",
    "a = UN1/UN2  #       Relación de transformación\n",
    "# Ensayo de cortocircuito:\n",
    "Zeq1 = Ucc/Icc\n",
    "phi_cc = np.arccos(Pcc/(Icc*Ucc))\n",
    "# Parámetros longitudinales\n",
    "# Primario                      # Secundario\n",
    "Req1 = Zeq1*np.cos(phi_cc)   ;   Req2 = Req1/a**2\n",
    "Xeq1 = Zeq1*np.sin(phi_cc)   ;   Xeq2 = Xeq1/a**2"
   ]
  },
  {
   "cell_type": "code",
   "execution_count": 4,
   "metadata": {},
   "outputs": [
    {
     "name": "stdout",
     "output_type": "stream",
     "text": [
      "Resultado:\n",
      "Req2 = 0.099 Ohm  ;  Xeq2 = 0.152 Ohm\n"
     ]
    }
   ],
   "source": [
    "print('Resultado:')\n",
    "print('Req2 = %.3f Ohm  ;  Xeq2 = %.3f Ohm'%(Req2,Xeq2))"
   ]
  },
  {
   "cell_type": "markdown",
   "metadata": {},
   "source": [
    "## Pregunta 2\n",
    "<img src=\"img/2doparc_A-02.png\">"
   ]
  },
  {
   "cell_type": "markdown",
   "metadata": {},
   "source": [
    "### Resolución\n",
    "__Ensayo de vacío:__\n",
    "$\\left\\{\n",
    "\\begin{array}{l}\n",
    "P_0 = 110 \\, \\mathrm{W} \\\\\n",
    "U_0 = 200 \\, \\mathrm{V} \\\\\n",
    "I_0 = 2 \\, \\mathrm{A}\n",
    "\\end{array}\n",
    "\\right.$"
   ]
  },
  {
   "cell_type": "markdown",
   "metadata": {},
   "source": [
    "__Cálculo de $\\varphi_0$__\n",
    "$$ P_0 = I_0 U_0 \\cos \\varphi_0 \\qquad \\rightarrow \\qquad \\varphi_0 = \\arccos \\left( \\frac{P_0}{I_0 U_0} \\right) $$"
   ]
  },
  {
   "cell_type": "markdown",
   "metadata": {},
   "source": [
    "$\\begin{array}{l}\n",
    "I_p = I_0 \\cos \\varphi_0 \\\\\n",
    "I_m = I_0 \\sin \\varphi_0\n",
    "\\end{array}$"
   ]
  },
  {
   "cell_type": "markdown",
   "metadata": {},
   "source": [
    "$$\\begin{array}{|l|l|}\n",
    "\\hline\n",
    "\\mbox{Secundario (BT)} & \\mbox{Primario (AT)} \\\\\n",
    "\\hline\n",
    "R_{p2} = U_0 / I_p & R_{p1} = R_{p2} \\cdot \\mathrm{a}^2 \\\\\n",
    "X_{m2} = U_0 / I_m & X_{eq2} = X_{m1} \\cdot \\mathrm{a}^2 \\\\\n",
    "\\hline\n",
    "\\end{array}$$"
   ]
  },
  {
   "cell_type": "code",
   "execution_count": 5,
   "metadata": {},
   "outputs": [],
   "source": [
    "# Datos\n",
    "Po = 110 # [W]\n",
    "Uo = 200 # [V]\n",
    "Io =   2 # [A]"
   ]
  },
  {
   "cell_type": "code",
   "execution_count": 6,
   "metadata": {},
   "outputs": [],
   "source": [
    "# Ensayo de vacío\n",
    "phi_o = np.arccos(Po/(Io*Uo))\n",
    "Ip = Io*np.cos(phi_o)\n",
    "Im = Io*np.sin(phi_o)\n",
    "# Secundario (BT)      # Primario (AT)\n",
    "Rp2 = Uo/Ip        ;   Rp1 = Rp2*a**2\n",
    "Xm2 = Uo/Im        ;   Xm1 = Xm2*a**2"
   ]
  },
  {
   "cell_type": "code",
   "execution_count": 7,
   "metadata": {},
   "outputs": [
    {
     "name": "stdout",
     "output_type": "stream",
     "text": [
      "Resultado:\n",
      "Rp2 = 363.64 Ohm   ;   Xm2 = 104.01 Ohm\n"
     ]
    }
   ],
   "source": [
    "print('Resultado:')\n",
    "print('Rp2 = %.2f Ohm   ;   Xm2 = %.2f Ohm'%(Rp2,Xm2))"
   ]
  },
  {
   "cell_type": "markdown",
   "metadata": {},
   "source": [
    "## Pregunta 3\n",
    "<img src=\"img/2doparc_A-03.png\">"
   ]
  },
  {
   "cell_type": "markdown",
   "metadata": {},
   "source": [
    "### Resolución\n",
    "__Datos:__\n",
    "$\\left\\{\n",
    "\\begin{array}{l}\n",
    "\\mathrm{fp_{reg}} = 0,7 \\\\\n",
    "\\mathrm{fp_{rend} = 0,7}\n",
    "\\end{array}\n",
    "\\right.$"
   ]
  },
  {
   "cell_type": "markdown",
   "metadata": {},
   "source": [
    "__Regulación:__\n",
    "$$\\begin{array}{lcl}\n",
    "\\mathrm{fp_{reg}} = \\cos \\varphi_\\mathrm{reg} & \\quad \\Rightarrow \\quad & \\varphi_\\mathrm{reg} = \\arccos \\mathrm{fp_{reg}} \\\\\n",
    "I_\\mathrm{2reg} = \\mathrm{fp_{reg}} I_{N2} & \\quad \\wedge \\quad & U_{20} = U_0\n",
    "\\end{array}$$"
   ]
  },
  {
   "cell_type": "markdown",
   "metadata": {},
   "source": [
    "__Tensión de salida o aplicada a la carga:__\n",
    "\n",
    "$$ U_\\mathrm{2reg,ind} = U_{20} - I_\\mathrm{2reg} (R_{eq2} \\cos \\varphi_\\mathrm{reg} + X_{eq2} \\sin \\varphi_\\mathrm{reg}) $$"
   ]
  },
  {
   "cell_type": "markdown",
   "metadata": {},
   "source": [
    "__Regulación:__\n",
    "$$ \\mathrm{reg_{ind}} = \\mathrm{ \\frac{U_{20} - U_{2reg,ind}}{U_{20}} \\times 100} $$"
   ]
  },
  {
   "cell_type": "code",
   "execution_count": 8,
   "metadata": {},
   "outputs": [],
   "source": [
    "# Datos:\n",
    "fp_reg = 0.7\n",
    "fp_rend = 0.7"
   ]
  },
  {
   "cell_type": "code",
   "execution_count": 9,
   "metadata": {},
   "outputs": [],
   "source": [
    "# Cálculos de regulación\n",
    "phi_reg = np.arccos(fp_reg)\n",
    "I2_reg = fp_reg*IN2   ;   U20 = Uo\n",
    "# Tensión de salida o aplicada a la carga:\n",
    "U2reg_ind = U20 - I2_reg*(Req2*np.cos(phi_reg) + Xeq2*np.sin(phi_reg))\n",
    "# Regulación\n",
    "reg_ind = (U20 - U2reg_ind)/U20*100"
   ]
  },
  {
   "cell_type": "code",
   "execution_count": 10,
   "metadata": {},
   "outputs": [
    {
     "name": "stdout",
     "output_type": "stream",
     "text": [
      "Resultado:\n",
      "reg_ind = 3.43\n"
     ]
    }
   ],
   "source": [
    "print('Resultado:')\n",
    "print('reg_ind = %.2f'%reg_ind)"
   ]
  },
  {
   "cell_type": "markdown",
   "metadata": {},
   "source": [
    "## Pregunta 4\n",
    "<img src=\"img/2doparc_A-04.png\">"
   ]
  },
  {
   "cell_type": "markdown",
   "metadata": {},
   "source": [
    "### Resolución\n",
    "__Datos:__\n",
    "$\\left\\{\n",
    "\\begin{array}{l}\n",
    "\\mathrm{fp_{reg}} = 0,7 \\\\\n",
    "\\mathrm{fp_{rend} = 0,8}\n",
    "\\end{array}\n",
    "\\right.$"
   ]
  },
  {
   "cell_type": "markdown",
   "metadata": {},
   "source": [
    "__Regulación:__\n",
    "$$\\begin{array}{lcl}\n",
    "\\mathrm{fp_{reg}} = \\cos \\varphi_\\mathrm{reg} & \\quad \\Rightarrow \\quad & \\varphi_\\mathrm{reg} = \\arccos \\mathrm{fp_{reg}} \\\\\n",
    "I_\\mathrm{2reg} = \\mathrm{fp_{reg}} I_{N2} & \\quad \\wedge \\quad & U_{20} = U_0\n",
    "\\end{array}$$"
   ]
  },
  {
   "cell_type": "markdown",
   "metadata": {},
   "source": [
    "__Tensión de salida o aplicada a la carga:__\n",
    "\n",
    "$$ U_\\mathrm{2reg,ind} = U_{20} - I_\\mathrm{2reg} (R_{eq2} \\cos \\varphi_\\mathrm{reg} + X_{eq2} \\sin \\varphi_\\mathrm{reg}) $$"
   ]
  },
  {
   "cell_type": "markdown",
   "metadata": {},
   "source": [
    "__Regulación:__\n",
    "$$ \\mathrm{reg_{ind}} = \\mathrm{ \\frac{U_{20} - U_{2reg,ind}}{U_{20}} \\times 100} $$"
   ]
  },
  {
   "cell_type": "markdown",
   "metadata": {},
   "source": [
    "__Cálculos de rendimiento__\n",
    "\n",
    "$$ \\mathrm{fp_{rend}} = \\cos \\mathrm{\\varphi_{rend}} \\qquad \\rightarrow \\qquad \\mathrm{\\varphi_{rend} = \\arccos fp_{rend}} $$"
   ]
  },
  {
   "cell_type": "markdown",
   "metadata": {},
   "source": [
    "$I_\\mathrm{2rend} = I_{N2}$"
   ]
  },
  {
   "cell_type": "markdown",
   "metadata": {},
   "source": [
    "$P_{cu} = I_\\mathrm{2rend}^2 R_{eq2}$"
   ]
  },
  {
   "cell_type": "markdown",
   "metadata": {},
   "source": [
    "__Rendimiento para el caso inductivo__\n",
    "\n",
    "$$ U_\\mathrm{2rend,ind} = U_{20} - I_\\mathrm{2rend} (R_{eq2} \\cos \\varphi_\\mathrm{rend} + X_{eq2} \\sin \\varphi_\\mathrm{rend}) $$"
   ]
  },
  {
   "cell_type": "markdown",
   "metadata": {},
   "source": [
    "$$ \\eta_\\mathrm{ind} = \\frac{U_\\mathrm{2rend,ind} I_\\mathrm{2rend} \\cos \\varphi_\\mathrm{rend}}{U_\\mathrm{2rend,ind} I_\\mathrm{2rend} \\cos \\varphi_\\mathrm{rend} + P_{cu} + P_0} $$"
   ]
  },
  {
   "cell_type": "code",
   "execution_count": 11,
   "metadata": {},
   "outputs": [],
   "source": [
    "# Datos:\n",
    "fp_reg = 0.7\n",
    "fp_rend = 0.8"
   ]
  },
  {
   "cell_type": "code",
   "execution_count": 13,
   "metadata": {},
   "outputs": [],
   "source": [
    "# Cálculos de regulación\n",
    "phi_reg = np.arccos(fp_reg)\n",
    "I2_reg = fp_reg*IN2   ;   U20 = Uo\n",
    "# Tensión de salida o aplicada a la carga:\n",
    "U2reg_ind = U20 - I2_reg*(Req2*np.cos(phi_reg) + Xeq2*np.sin(phi_reg))\n",
    "# Regulación\n",
    "reg_ind = (U20 - U2reg_ind)/U20*100\n",
    "# Cálculos de rendimiento\n",
    "phi_rend = np.arccos(fp_rend)\n",
    "I2_rend = IN2\n",
    "Pcu = I2_rend**2*Req2\n",
    "# Rendimiento para el caso inductivo:\n",
    "U2rend_ind = U20 - I2_rend*(Req2*np.cos(phi_rend) + Xeq2*np.sin(phi_rend))\n",
    "n_ind = (U2rend_ind*I2_rend*np.cos(phi_rend))/(U2rend_ind*I2_rend*np.cos(phi_rend) + Pcu + Po)"
   ]
  },
  {
   "cell_type": "code",
   "execution_count": 14,
   "metadata": {},
   "outputs": [
    {
     "name": "stdout",
     "output_type": "stream",
     "text": [
      "Resultado:\n",
      "n_ind = 0.95\n"
     ]
    }
   ],
   "source": [
    "print('Resultado:')\n",
    "print('n_ind = %.2f'%n_ind)"
   ]
  },
  {
   "cell_type": "markdown",
   "metadata": {},
   "source": [
    "## Pregunta 5\n",
    "<img src=\"img/2doparc_A-05.png\">"
   ]
  },
  {
   "cell_type": "markdown",
   "metadata": {},
   "source": [
    "### Resolución\n",
    "__Dato:__ $\\quad \\rightarrow \\quad \\mathrm{fp_{max} = 1}$"
   ]
  },
  {
   "cell_type": "markdown",
   "metadata": {},
   "source": [
    "$$ \\mathrm{fp_{max} = \\cos \\varphi_{max}} \\qquad \\rightarrow \\qquad \\varphi_\\mathrm{max} = \\arccos \\mathrm{fp_{max}} $$"
   ]
  },
  {
   "cell_type": "markdown",
   "metadata": {},
   "source": [
    "$$ I_\\mathrm{2max} = \\sqrt{ \\frac{P_0}{R_{eq2}} } $$"
   ]
  },
  {
   "cell_type": "markdown",
   "metadata": {},
   "source": [
    "$P_\\mathrm{cu,max} = I_\\mathrm{2max}^2 R_{eq2}$"
   ]
  },
  {
   "cell_type": "markdown",
   "metadata": {},
   "source": [
    "$$ U_\\mathrm{2,max} = U_{N2} - I_\\mathrm{2max} (R_{eq2} \\cos \\varphi_\\mathrm{max} + X_\\mathrm{eq2} \\underbrace{ \\sin \\varphi_\\mathrm{max} }_{\\rightarrow \\, 0}) $$"
   ]
  },
  {
   "cell_type": "markdown",
   "metadata": {},
   "source": [
    "__Rendimiento máximo:__\n",
    "$$ \\eta_\\mathrm{max} = \\frac{U_\\mathrm{2max} I_\\mathrm{2max} \\mathrm{fp_{max}}}{U_\\mathrm{2max} I_\\mathrm{2max} \\mathrm{fp_{max}} + P_\\mathrm{cu,max} + P_0} $$"
   ]
  },
  {
   "cell_type": "code",
   "execution_count": 16,
   "metadata": {},
   "outputs": [],
   "source": [
    "# Dato:\n",
    "fp_max = 1  # factor de potencia máximo, (resistivo puro)"
   ]
  },
  {
   "cell_type": "code",
   "execution_count": 17,
   "metadata": {},
   "outputs": [],
   "source": [
    "phi_max = np.arccos(fp_max)\n",
    "I2_max = np.sqrt(Po/Req2)\n",
    "Pcu_max = I2_max**2*Req2\n",
    "U2_max = UN2 - I2_max*(Req2*np.cos(phi_max) + Xeq2*np.sin(phi_max))\n",
    "n_max = (U2_max*I2_max*fp_max)/(U2_max*I2_max*fp_max + Pcu_max + Po)"
   ]
  },
  {
   "cell_type": "code",
   "execution_count": 19,
   "metadata": {},
   "outputs": [
    {
     "name": "stdout",
     "output_type": "stream",
     "text": [
      "Resulatado:\n",
      "n_max = 0.968\n"
     ]
    }
   ],
   "source": [
    "print('Resulatado:')\n",
    "print('n_max = %.3f'%n_max)"
   ]
  },
  {
   "cell_type": "markdown",
   "metadata": {},
   "source": [
    "## Pregunta 6\n",
    "<img src=\"img/2doparc_A-06.png\">"
   ]
  },
  {
   "cell_type": "markdown",
   "metadata": {},
   "source": [
    "## Pregunta 7\n",
    "<img src=\"img/2doparc_A-07.png\">"
   ]
  },
  {
   "cell_type": "markdown",
   "metadata": {},
   "source": [
    "$$ S = \\sqrt{3} \\cdot U_\\mathrm{Linea} I_\\mathrm{Linea} $$"
   ]
  },
  {
   "cell_type": "markdown",
   "metadata": {},
   "source": [
    "## Pregunta 8\n",
    "<img src=\"img/2doparc_A-08.png\">"
   ]
  },
  {
   "cell_type": "markdown",
   "metadata": {},
   "source": [
    "## Pregunta 9\n",
    "<img src=\"img/2doparc_A-09.png\">"
   ]
  },
  {
   "cell_type": "markdown",
   "metadata": {},
   "source": [
    "## Pregunta 10\n",
    "<img src=\"img/2doparc_A-10.png\">"
   ]
  },
  {
   "cell_type": "markdown",
   "metadata": {},
   "source": [
    "### Resolución\n",
    "$$ S_t^2 = (P_r + P_s + P_t)^2 + (Q_r + Q_s + Q_t)^2 $$"
   ]
  },
  {
   "cell_type": "markdown",
   "metadata": {},
   "source": [
    "$$ 100^2 = (11 + 11 + P_t)^2 + (11 + 11 + 11)^2 $$"
   ]
  },
  {
   "cell_type": "markdown",
   "metadata": {},
   "source": [
    "$$ 100^2 = (22 + P_t)^2 + (33)^2 $$"
   ]
  },
  {
   "cell_type": "markdown",
   "metadata": {},
   "source": [
    "$$ P_t =  \\sqrt{(100)^2 - (33)^2} - 22 $$"
   ]
  },
  {
   "cell_type": "markdown",
   "metadata": {},
   "source": [
    "$$ P_t = 72,398 \\, \\mathrm{kW} $$"
   ]
  },
  {
   "cell_type": "code",
   "execution_count": 22,
   "metadata": {},
   "outputs": [],
   "source": [
    "Pt = np.sqrt(100**2 - 33**2) - 22"
   ]
  },
  {
   "cell_type": "code",
   "execution_count": 23,
   "metadata": {},
   "outputs": [
    {
     "name": "stdout",
     "output_type": "stream",
     "text": [
      "Resultado:\n",
      "Pt = 72.398 kW\n"
     ]
    }
   ],
   "source": [
    "print('Resultado:')\n",
    "print('Pt = %.3f kW'%(Pt))"
   ]
  },
  {
   "cell_type": "markdown",
   "metadata": {},
   "source": [
    "----------\n",
    "<a href=\"https://colab.research.google.com/github/daniel-lorenzo/Electrotecnia/blob/master/Ejercitacion/2do_parc_tema_A.ipynb\"><img align=\"left\" src=\"https://colab.research.google.com/assets/colab-badge.svg\" alt=\"Open in Colab\" title=\"Open and Execute in Google Colaboratory\"></a>"
   ]
  }
 ],
 "metadata": {
  "kernelspec": {
   "display_name": "Python 3",
   "language": "python",
   "name": "python3"
  },
  "language_info": {
   "codemirror_mode": {
    "name": "ipython",
    "version": 3
   },
   "file_extension": ".py",
   "mimetype": "text/x-python",
   "name": "python",
   "nbconvert_exporter": "python",
   "pygments_lexer": "ipython3",
   "version": "3.7.6"
  }
 },
 "nbformat": 4,
 "nbformat_minor": 4
}
