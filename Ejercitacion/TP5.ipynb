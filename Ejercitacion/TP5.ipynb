{
 "cells": [
  {
   "cell_type": "markdown",
   "metadata": {},
   "source": [
    "# TP N°5 - Circuitos trifásicos\n",
    "__UNLZ - Facultad de Ingeniería__       \n",
    "__Electrotecnia__      \n",
    "__Alumno:__ Daniel Antonio Lorenzo"
   ]
  },
  {
   "cell_type": "markdown",
   "metadata": {},
   "source": [
    "<a href=\"https://colab.research.google.com/github/daniel-lorenzo/Electrotecnia/blob/master/Ejercitacion/TP5.ipynb\"><img align=\"left\" src=\"https://colab.research.google.com/assets/colab-badge.svg\" alt=\"Open in Colab\" title=\"Open and Execute in Google Colaboratory\"></a>"
   ]
  },
  {
   "cell_type": "markdown",
   "metadata": {},
   "source": [
    "## Problema N°1\n",
    "En una fuente trifásica de sistema de tensiones perfecta de secuencia directa ABC, conectada en estrella.\n",
    "1. Expresar las tensiones de fase en forma fasorial y representar el esquema fasorial de tensiones de fase.\n",
    "2. Obtener las tensiones compuestas o de línea y expresarlas en función del módulo de la tensión de fase.\n",
    "3. Representar en un mismo esquema fasorial los sistemas de tensiones de fase y compuesta."
   ]
  },
  {
   "cell_type": "markdown",
   "metadata": {},
   "source": [
    "### Resolución:\n",
    "__Punto 1:__ El ejercicio nos indica que la fuente de generación trifásica produce en bornes de sus 3 devanados un sistema de generación de tensiones o voltajes de <mark>tensiones prefecta </mark>. Esta será la condición de generación que utilizaremos en el desarrollo de todos nuestros problemas."
   ]
  },
  {
   "cell_type": "markdown",
   "metadata": {},
   "source": [
    "También nos indica, que la <mark>secuencia</mark> de generación es directa __ABC__ y que tendremos una carga conectada en estrella."
   ]
  },
  {
   "cell_type": "markdown",
   "metadata": {},
   "source": [
    "Siempre, dispondremos de una fuente generadora y de un receptor o carga."
   ]
  },
  {
   "cell_type": "markdown",
   "metadata": {},
   "source": [
    "<img src=\"img/tp5-1-1.png\">"
   ]
  },
  {
   "cell_type": "markdown",
   "metadata": {},
   "source": [
    "<img src=\"img/tp5-1-4.png\">"
   ]
  },
  {
   "cell_type": "markdown",
   "metadata": {},
   "source": [
    "<img src=\"img/tp5-1-5.png\">"
   ]
  },
  {
   "cell_type": "markdown",
   "metadata": {},
   "source": [
    "Se pretende transportar energía eléctrica trifásica, desde el generador hacia la carga, lo realizaremos a través de una línea de transporte."
   ]
  },
  {
   "cell_type": "markdown",
   "metadata": {},
   "source": [
    "El esquema que graficamos a continuación se denomina sistema __Trifilar__ por disponer de __3 conductores__."
   ]
  },
  {
   "cell_type": "markdown",
   "metadata": {},
   "source": [
    "<img src=\"img/tp5-1-2.png\">"
   ]
  },
  {
   "cell_type": "markdown",
   "metadata": {},
   "source": [
    "En caso se disponer de __4 conductores__ (incluye al conductor Neutro) lo denominaremos __Tetrafilar__."
   ]
  },
  {
   "cell_type": "markdown",
   "metadata": {},
   "source": [
    "__<mark>El sistema de tensiones perfecta</mark>__ es un sistema de tensiones que cumple con la condición de simetría: tensiones desfasadas entre si un mismo ángulo de 120° eléctricos y de módulos iguales entre sí, y cumple con la condición de equilibrio: la sumatoria de los fasores de tensión es igual a cero."
   ]
  },
  {
   "cell_type": "markdown",
   "metadata": {},
   "source": [
    "Los voltajes inducidos en las bobinas del generador son senoidales."
   ]
  },
  {
   "cell_type": "markdown",
   "metadata": {},
   "source": [
    "La representación gráfica del sistema trifásico perfecto, formado por tres tensiones senoidales del mismo valor eficaz, la misma frecuencia y desfasadas entre sí 120° eléctricos será:"
   ]
  },
  {
   "cell_type": "markdown",
   "metadata": {},
   "source": [
    "<img src=\"img/tp5-1-3.png\">"
   ]
  },
  {
   "cell_type": "markdown",
   "metadata": {},
   "source": [
    "Se puede observar que en cualquier instante de tiempo:"
   ]
  },
  {
   "cell_type": "markdown",
   "metadata": {},
   "source": [
    "$$ eA + eB + eC = 0 $$"
   ]
  },
  {
   "cell_type": "markdown",
   "metadata": {},
   "source": [
    "El voltaje B está atrasado 120° eléctricos respecto de A y C pasa 240° después. Esto se llama secuencia ABC."
   ]
  },
  {
   "cell_type": "markdown",
   "metadata": {},
   "source": [
    "El cambio en la dirección rotacional $\\curvearrowright^ \\omega$ producirá A-C-B-A-C-B... Lo cual se llama secuencia indirecta o inversa o secuencia CBA."
   ]
  },
  {
   "cell_type": "markdown",
   "metadata": {},
   "source": [
    "A continuación, se indica la convención y las gráficas que adoptaremos para resolver los problemas. Los fasores están girando en el sentido de $\\omega$ indicado en la figura."
   ]
  },
  {
   "cell_type": "markdown",
   "metadata": {},
   "source": [
    "La secuencia __ABC__ se representa de esta forma:"
   ]
  },
  {
   "cell_type": "markdown",
   "metadata": {},
   "source": [
    "<img src=\"img/tp5-1-6.png\">"
   ]
  },
  {
   "cell_type": "markdown",
   "metadata": {},
   "source": [
    "La secuencia inversa o indirecta __CBA__ se representa de esta forma:"
   ]
  },
  {
   "cell_type": "markdown",
   "metadata": {},
   "source": [
    "<img src=\"img/tp5-1-7.png\">"
   ]
  },
  {
   "cell_type": "markdown",
   "metadata": {},
   "source": [
    "La representación y las ecuaciones fasoriales."
   ]
  },
  {
   "cell_type": "markdown",
   "metadata": {},
   "source": [
    "<img src=\"img/tp5-1-8.png\">"
   ]
  },
  {
   "cell_type": "markdown",
   "metadata": {},
   "source": [
    "__Tensiones de fase__\n",
    "\n",
    "$\\begin{array}{lcl}\n",
    "\\color{red}{\\vec{E}_{an}} = |E_{an}| e^{j0^\\circ} &=& E e^{j0^\\circ} \\\\\n",
    "\\color{red}{\\vec{E}_{bn}} = |E_{bn}| e^{j240^\\circ} &=& E e^{j240^\\circ} \\\\\n",
    "\\color{red}{\\vec{E}_{cn}} = |E_{cn}| e^{j120^\\circ} &=& E e^{j120^\\circ}\n",
    "\\end{array}$"
   ]
  },
  {
   "cell_type": "markdown",
   "metadata": {},
   "source": [
    "Resultan 6 tensiones:\n",
    "\n",
    "3 tensiones denominadas __\"tensiones simples o de fase\"__"
   ]
  },
  {
   "cell_type": "markdown",
   "metadata": {},
   "source": [
    "$\\color{red}{\n",
    "\\begin{array}{l}\n",
    "\\vec{E}_{an} \\\\\n",
    "\\vec{E}_{bn} \\\\\n",
    "\\vec{E}_{cn}\n",
    "\\end{array}}$"
   ]
  },
  {
   "cell_type": "markdown",
   "metadata": {},
   "source": [
    "3 tensiones denominadas __\"tensiones compuestas o tensiones de línea\"__"
   ]
  },
  {
   "cell_type": "markdown",
   "metadata": {},
   "source": [
    "$\\begin{array}{l}\n",
    "\\color{blue}{\\vec{E}_{ab}} = \\vec{E}_{an} - \\vec{E}_{bn} \\\\\n",
    "\\color{blue}{\\vec{E}_{bc}} = \\vec{E}_{bn} - \\vec{E}_{cn} \\\\\n",
    "\\color{blue}{\\vec{E}_{ca}} = \\vec{E}_{cn} - \\vec{E}_{an}\n",
    "\\end{array}$"
   ]
  },
  {
   "cell_type": "markdown",
   "metadata": {},
   "source": [
    "El eje del fasor $\\vec{E}_{an}$ se toma como referencia, los ángulos y módulos asociados a las tensiones compuestas son:"
   ]
  },
  {
   "cell_type": "markdown",
   "metadata": {},
   "source": [
    "__Tensiones compuestas o de línea:__\n",
    "\n",
    "$\\begin{array}{l}\n",
    "\\color{blue}{\\vec{E}_{ab}} = \\vec{E}_{an} - \\vec{E}_{bn} = \\sqrt{3} E e^{j30^\\circ} \\\\\n",
    "\\color{blue}{\\vec{E}_{bc}} = \\vec{E}_{bn} - \\vec{E}_{cn} = \\sqrt{3} E e^{j270^\\circ} \\\\\n",
    "\\color{blue}{\\vec{E}_{ca}} = \\vec{E}_{cn} - \\vec{E}_{an} = \\sqrt{3} E e^{j150^\\circ}\n",
    "\\end{array}$"
   ]
  },
  {
   "cell_type": "markdown",
   "metadata": {},
   "source": [
    "__1.1__ Expresar las tensiones de fase en forma fasorial y representar el esquema fasorial de tensiones de fase."
   ]
  },
  {
   "cell_type": "markdown",
   "metadata": {},
   "source": [
    "Por las condiciones de perfección del sistema."
   ]
  },
  {
   "cell_type": "markdown",
   "metadata": {},
   "source": [
    "<mark style=\"background-color:powderblue\">Condición de Simetría</mark>"
   ]
  },
  {
   "cell_type": "markdown",
   "metadata": {},
   "source": [
    "$$ |\\vec{E}_{an}| = |\\vec{E}_{bn}| = |\\vec{E}_{cn}| = E $$"
   ]
  },
  {
   "cell_type": "markdown",
   "metadata": {},
   "source": [
    "<mark style=\"background-color:powderblue\">Igualdad de ángulos entre tensiones de bobinas"
   ]
  },
  {
   "cell_type": "markdown",
   "metadata": {},
   "source": [
    "$$ \\alpha = \\beta = \\gamma = 120^\\circ $$"
   ]
  },
  {
   "cell_type": "markdown",
   "metadata": {},
   "source": [
    "<mark style=\"background-color:powderblue\">Condición de Equilibrio</mark>"
   ]
  },
  {
   "cell_type": "markdown",
   "metadata": {},
   "source": [
    "$$ \\vec{E}_{an} + \\vec{E}_{bn} + \\vec{E}_{cn} = 0 $$"
   ]
  },
  {
   "cell_type": "markdown",
   "metadata": {},
   "source": [
    "<mark>Esquema fasorial de las tensiones de fase y su secuencia directa ABC</mark>"
   ]
  },
  {
   "cell_type": "markdown",
   "metadata": {},
   "source": [
    "<img src=\"img/tp5-1-6.png\">"
   ]
  },
  {
   "cell_type": "markdown",
   "metadata": {},
   "source": [
    "__1.2__ Obtener las tensiones compuestas o de línea y expresarlas en función del módulo de la tensión de fase"
   ]
  },
  {
   "cell_type": "markdown",
   "metadata": {},
   "source": [
    "<img src=\"img/tp5-1-8.png\">"
   ]
  },
  {
   "cell_type": "markdown",
   "metadata": {},
   "source": [
    "$$ V_{ab} = E_{ab} = E_{an} e^{j0^\\circ} - E_{bn} e^{j240^\\circ} $$"
   ]
  },
  {
   "cell_type": "code",
   "execution_count": 15,
   "metadata": {},
   "outputs": [],
   "source": [
    "import math, cmath"
   ]
  },
  {
   "cell_type": "code",
   "execution_count": null,
   "metadata": {},
   "outputs": [],
   "source": [
    "# Datos\n",
    "Ean = cmath.rect(1 , 0)\n",
    "Ebn = cmath.rect(1 , math.radians(240) )\n",
    "Ecn = cmath.rect(1 , math.radians(120) )"
   ]
  },
  {
   "cell_type": "code",
   "execution_count": 21,
   "metadata": {},
   "outputs": [],
   "source": [
    "Vab = Ean - Ebn"
   ]
  },
  {
   "cell_type": "code",
   "execution_count": 20,
   "metadata": {
    "jupyter": {
     "source_hidden": true
    }
   },
   "outputs": [
    {
     "name": "stdout",
     "output_type": "stream",
     "text": [
      "|Vab| = 1.732*E V\n",
      "theta = 30.00°\n"
     ]
    }
   ],
   "source": [
    "print('|Vab| = %.3f*E [V]'%abs(Vab))\n",
    "print('theta = %.2f°'%math.degrees( cmath.phase(Vab) ) )"
   ]
  },
  {
   "cell_type": "markdown",
   "metadata": {},
   "source": [
    "<div class=\"alert-danger\">Entonces:\n",
    "$$ V_{ab} = E_{ab} = \\sqrt{3} E e^{j30^\\circ} $$\n",
    "    </div>"
   ]
  },
  {
   "cell_type": "markdown",
   "metadata": {},
   "source": [
    "<img src=\"img/tp5-1-8.png\">"
   ]
  },
  {
   "cell_type": "markdown",
   "metadata": {},
   "source": [
    "$$ V_{bc} = E_{bc} = E_{bn} e^{j240^\\circ} - E_{cn} e^{j120^\\circ} $$"
   ]
  },
  {
   "cell_type": "code",
   "execution_count": 22,
   "metadata": {},
   "outputs": [],
   "source": [
    "Vbc = Ebn - Ecn "
   ]
  },
  {
   "cell_type": "code",
   "execution_count": 23,
   "metadata": {
    "jupyter": {
     "source_hidden": true
    }
   },
   "outputs": [
    {
     "name": "stdout",
     "output_type": "stream",
     "text": [
      "|Vbc| = 1.732*E V\n",
      "theta = -90.00°\n"
     ]
    }
   ],
   "source": [
    "print('|Vbc| = %.3f*E V'%abs(Vbc))\n",
    "print('theta = %.2f°'%math.degrees( cmath.phase(Vbc) ) )"
   ]
  },
  {
   "cell_type": "markdown",
   "metadata": {},
   "source": [
    "<div class=\"alert-danger\">Entonces:\n",
    "$$ V_{bc} = E_{bc} = \\sqrt{3} E e^{-j90^\\circ} $$\n",
    "</div>"
   ]
  },
  {
   "cell_type": "markdown",
   "metadata": {},
   "source": [
    "<img src=\"img/tp5-1-8.png\">"
   ]
  },
  {
   "cell_type": "markdown",
   "metadata": {},
   "source": [
    "$$ V_{ca} = E_{ca} = E_{an} e^{j0^\\circ} - E_{cn} e^{j120^\\circ} $$"
   ]
  },
  {
   "cell_type": "code",
   "execution_count": 24,
   "metadata": {},
   "outputs": [],
   "source": [
    "Vca = Ecn - Ean"
   ]
  },
  {
   "cell_type": "code",
   "execution_count": 25,
   "metadata": {
    "jupyter": {
     "source_hidden": true
    }
   },
   "outputs": [
    {
     "name": "stdout",
     "output_type": "stream",
     "text": [
      "|Vca| = 1.732*E V\n",
      "theta = 150.00°\n"
     ]
    }
   ],
   "source": [
    "print('|Vca| = %.3f*E V'%abs(Vca))\n",
    "print('theta = %.2f°'%math.degrees( cmath.phase(Vca) ) )"
   ]
  },
  {
   "cell_type": "markdown",
   "metadata": {},
   "source": [
    "<div class=\"alert-danger\">Entonces:\n",
    "$$ V_{ca} = E_{ca} = \\sqrt{3} E e^{j150^\\circ} $$\n",
    "    </div>"
   ]
  },
  {
   "cell_type": "markdown",
   "metadata": {},
   "source": [
    "------------\n",
    "__1.3__ Representar en un mismo esquema fasorial los sistemas de tensiones de fase y compuesta."
   ]
  },
  {
   "cell_type": "markdown",
   "metadata": {},
   "source": [
    "<img src=\"img/tp5-1-8.png\">"
   ]
  },
  {
   "cell_type": "markdown",
   "metadata": {},
   "source": [
    "__Tensiones de Fase__\n",
    "\n",
    "$\\begin{array}{lcl}\n",
    "\\color{red}{\\vec{E}_{an}} = |E_{an}| e^{j0^\\circ} &=& E e^{j0^\\circ} \\\\\n",
    "\\color{red}{\\vec{E}_{bn}} = |E_{bn}| e^{j240^\\circ} &=& E e^{j240^\\circ} \\\\\n",
    "\\color{red}{\\vec{E}_{cn}} = |E_{cn}| e^{j120^\\circ} &=& E e^{j120^\\circ}\n",
    "\\end{array}\n",
    "$"
   ]
  },
  {
   "cell_type": "markdown",
   "metadata": {},
   "source": [
    "Resultan 6 tensiones:\n",
    "\n",
    "3 tensiones denominadas __\"tensiones simples o tensiones de fase\"__\n",
    "* $\\color{red}{\\vec{E}_{an}}$\n",
    "* $\\color{red}{\\vec{E}_{bn}}$\n",
    "* $\\color{red}{\\vec{E}_{cn}}$"
   ]
  },
  {
   "cell_type": "markdown",
   "metadata": {},
   "source": [
    "3 tensiones denominadas \"tensiones compuestas o tensiones de línea\"\n",
    "* $\\color{blue}{\\vec{E}_{ab}} = \\vec{E}_{an} - \\vec{E}_{bn} $\n",
    "* $\\color{blue}{\\vec{E}_{bc}} = \\vec{E}_{bn} - \\vec{E}_{cn} $\n",
    "* $\\color{blue}{\\vec{E}_{ca}} = \\vec{E}_{cn} - \\vec{E}_{an} $"
   ]
  },
  {
   "cell_type": "markdown",
   "metadata": {},
   "source": [
    "Tensiones compuestas\n",
    "\n",
    "* $\\color{blue}{\\vec{E}_{ab}} = \\vec{E}_{an} - \\vec{E}_{bn} = \\sqrt{3} E e^{j30^\\circ} $\n",
    "* $\\color{blue}{\\vec{E}_{bc}} = \\vec{E}_{bn} - \\vec{E}_{cn} = \\sqrt{3} E e^{j270^\\circ} $\n",
    "* $\\color{blue}{\\vec{E}_{ca}} = \\vec{E}_{cn} - \\vec{E}_{an} = \\sqrt{3} E e^{j150^\\circ} $"
   ]
  },
  {
   "cell_type": "markdown",
   "metadata": {},
   "source": [
    "## Problema N°2\n",
    "Un sistema trifásico de secuencia CBA (Secuencia Inversa o Indirecta), $3 \\times 380 \\, \\mathrm{V}$ (tensión eficaz compuesta o de línea), de 4 conductores (tetrafilar), alimenta una carga trifásica equilibrada conectada en estrella.\n",
    "\n",
    "El valor de cada impedancia es de 20 Ohm con ángulo de desfasaje de 30° capacitivo.\n",
    "\n",
    "2.1 Calcular las corrientes $I_r$, $I_s$, $I_t$, $I_\\mathrm{neutro}$, representar diagrama fasorial de tensiones y corrientes.\n",
    "\n",
    "2.2 Determinar la potencia por fase y trifásica."
   ]
  },
  {
   "cell_type": "markdown",
   "metadata": {},
   "source": [
    "### Solución\n",
    "El siguiente gráfico es una representación fasorial de las tensiones de fase del generador trifásico o fuente de energía, según lo solicitado en el enunciado del problema."
   ]
  },
  {
   "cell_type": "markdown",
   "metadata": {},
   "source": [
    "__Tensiones de fase    \n",
    "Generación trifásica__\n",
    "\n",
    "<img src=\"img/tp5-1-7.png\">"
   ]
  },
  {
   "cell_type": "markdown",
   "metadata": {},
   "source": [
    "-----------\n",
    "<a href=\"https://colab.research.google.com/github/daniel-lorenzo/Electrotecnia/blob/master/Ejercitacion/TP4entrega.ipynb\"><img align=\"left\" src=\"https://colab.research.google.com/assets/colab-badge.svg\" alt=\"Open in Colab\" title=\"Open and Execute in Google Colaboratory\"></a>"
   ]
  }
 ],
 "metadata": {
  "kernelspec": {
   "display_name": "Python 3",
   "language": "python",
   "name": "python3"
  },
  "language_info": {
   "codemirror_mode": {
    "name": "ipython",
    "version": 3
   },
   "file_extension": ".py",
   "mimetype": "text/x-python",
   "name": "python",
   "nbconvert_exporter": "python",
   "pygments_lexer": "ipython3",
   "version": "3.7.6"
  }
 },
 "nbformat": 4,
 "nbformat_minor": 4
}
