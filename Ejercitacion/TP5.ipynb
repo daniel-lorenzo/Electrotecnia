{
 "cells": [
  {
   "cell_type": "markdown",
   "metadata": {},
   "source": [
    "# TP N°5 - Circuitos trifásicos\n",
    "__UNLZ - Facultad de Ingeniería__       \n",
    "__Electrotecnia__      \n",
    "__Alumno:__ Daniel Antonio Lorenzo"
   ]
  },
  {
   "cell_type": "markdown",
   "metadata": {},
   "source": [
    "<a href=\"https://colab.research.google.com/github/daniel-lorenzo/Electrotecnia/blob/master/Ejercitacion/TP5.ipynb\"><img align=\"left\" src=\"https://colab.research.google.com/assets/colab-badge.svg\" alt=\"Open in Colab\" title=\"Open and Execute in Google Colaboratory\"></a>"
   ]
  },
  {
   "cell_type": "markdown",
   "metadata": {},
   "source": [
    "## Problema N°1\n",
    "En una fuente trifásica de sistema de tensiones perfecta de secuencia directa ABC, conectada en estrella.\n",
    "1. Expresar las tensiones de fase en forma fasorial y representar el esquema fasorial de tensiones de fase.\n",
    "2. Obtener las tensiones compuestas o de línea y expresarlas en función del módulo de la tensión de fase.\n",
    "3. Representar en un mismo esquema fasorial los sistemas de tensiones de fase y compuesta."
   ]
  },
  {
   "cell_type": "markdown",
   "metadata": {},
   "source": [
    "### Resolución:\n",
    "__Punto 1:__ El ejercicio nos indica que la fuente de generación trifásica produce en bornes de sus 3 devanados un sistema de generación de tensiones o voltajes de <mark>tensiones prefecta </mark>. Esta será la condición de generación que utilizaremos en el desarrollo de todos nuestros problemas."
   ]
  },
  {
   "cell_type": "markdown",
   "metadata": {},
   "source": [
    "También nos indica, que la <mark>secuencia</mark> de generación es directa __ABC__ y que tendremos una carga conectada en estrella."
   ]
  },
  {
   "cell_type": "markdown",
   "metadata": {},
   "source": [
    "Siempre, dispondremos de una fuente generadora y de un receptor o carga."
   ]
  },
  {
   "cell_type": "markdown",
   "metadata": {},
   "source": [
    "<img src=\"img/tp5-1-1.png\">"
   ]
  },
  {
   "cell_type": "markdown",
   "metadata": {},
   "source": [
    "<img src=\"img/tp5-1-4.png\">"
   ]
  },
  {
   "cell_type": "markdown",
   "metadata": {},
   "source": [
    "<img src=\"img/tp5-1-5.png\">"
   ]
  },
  {
   "cell_type": "markdown",
   "metadata": {},
   "source": [
    "Se pretende transportar energía eléctrica trifásica, desde el generador hacia la carga, lo realizaremos a través de una línea de transporte."
   ]
  },
  {
   "cell_type": "markdown",
   "metadata": {},
   "source": [
    "El esquema que graficamos a continuación se denomina sistema __Trifilar__ por disponer de __3 conductores__."
   ]
  },
  {
   "cell_type": "markdown",
   "metadata": {},
   "source": [
    "<img src=\"img/tp5-1-2.png\">"
   ]
  },
  {
   "cell_type": "markdown",
   "metadata": {},
   "source": [
    "En caso se disponer de __4 conductores__ (incluye al conductor Neutro) lo denominaremos __Tetrafilar__."
   ]
  },
  {
   "cell_type": "markdown",
   "metadata": {},
   "source": [
    "__<mark>El sistema de tensiones perfecta</mark>__ es un sistema de tensiones que cumple con la condición de simetría: tensiones desfasadas entre si un mismo ángulo de 120° eléctricos y de módulos iguales entre sí, y cumple con la condición de equilibrio: la sumatoria de los fasores de tensión es igual a cero."
   ]
  },
  {
   "cell_type": "markdown",
   "metadata": {},
   "source": [
    "Los voltajes inducidos en las bobinas del generador son senoidales."
   ]
  },
  {
   "cell_type": "markdown",
   "metadata": {},
   "source": [
    "La representación gráfica del sistema trifásico perfecto, formado por tres tensiones senoidales del mismo valor eficaz, la misma frecuencia y desfasadas entre sí 120° eléctricos será:"
   ]
  },
  {
   "cell_type": "markdown",
   "metadata": {},
   "source": [
    "<img src=\"img/tp5-1-3.png\">"
   ]
  },
  {
   "cell_type": "markdown",
   "metadata": {},
   "source": [
    "Se puede observar que en cualquier instante de tiempo:"
   ]
  },
  {
   "cell_type": "markdown",
   "metadata": {},
   "source": [
    "$$ eA + eB + eC = 0 $$"
   ]
  },
  {
   "cell_type": "markdown",
   "metadata": {},
   "source": [
    "El voltaje B está atrasado 120° eléctricos respecto de A y C pasa 240° después. Esto se llama secuencia ABC."
   ]
  },
  {
   "cell_type": "markdown",
   "metadata": {},
   "source": [
    "El cambio en la dirección rotacional $\\curvearrowright^ \\omega$ producirá A-C-B-A-C-B... Lo cual se llama secuencia indirecta o inversa o secuencia CBA."
   ]
  },
  {
   "cell_type": "markdown",
   "metadata": {},
   "source": [
    "A continuación, se indica la convención y las gráficas que adoptaremos para resolver los problemas. Los fasores están girando en el sentido de $\\omega$ indicado en la figura."
   ]
  },
  {
   "cell_type": "markdown",
   "metadata": {},
   "source": [
    "La secuencia __ABC__ se representa de esta forma:"
   ]
  },
  {
   "cell_type": "markdown",
   "metadata": {},
   "source": [
    "<img src=\"img/tp5-1-6.png\">"
   ]
  },
  {
   "cell_type": "markdown",
   "metadata": {},
   "source": [
    "La secuencia inversa o indirecta __CBA__ se representa de esta forma:"
   ]
  },
  {
   "cell_type": "markdown",
   "metadata": {},
   "source": [
    "<img src=\"img/tp5-1-7.png\">"
   ]
  },
  {
   "cell_type": "markdown",
   "metadata": {},
   "source": [
    "La representación y las ecuaciones fasoriales."
   ]
  },
  {
   "cell_type": "markdown",
   "metadata": {},
   "source": [
    "<img src=\"img/tp5-1-8.png\">"
   ]
  },
  {
   "cell_type": "markdown",
   "metadata": {},
   "source": [
    "__Tensiones de fase__\n",
    "\n",
    "$\\begin{array}{lcl}\n",
    "\\color{red}{\\vec{E}_{an}} = |E_{an}| e^{j0^\\circ} &=& E e^{j0^\\circ} \\\\\n",
    "\\color{red}{\\vec{E}_{bn}} = |E_{bn}| e^{j240^\\circ} &=& E e^{j240^\\circ} \\\\\n",
    "\\color{red}{\\vec{E}_{cn}} = |E_{cn}| e^{j120^\\circ} &=& E e^{j120^\\circ}\n",
    "\\end{array}$"
   ]
  },
  {
   "cell_type": "markdown",
   "metadata": {},
   "source": [
    "Resultan 6 tensiones:\n",
    "\n",
    "3 tensiones denominadas __\"tensiones simples o de fase\"__"
   ]
  },
  {
   "cell_type": "markdown",
   "metadata": {},
   "source": [
    "$\\color{red}{\n",
    "\\begin{array}{l}\n",
    "\\vec{E}_{an} \\\\\n",
    "\\vec{E}_{bn} \\\\\n",
    "\\vec{E}_{cn}\n",
    "\\end{array}}$"
   ]
  },
  {
   "cell_type": "markdown",
   "metadata": {},
   "source": [
    "3 tensiones denominadas __\"tensiones compuestas o tensiones de línea\"__"
   ]
  },
  {
   "cell_type": "markdown",
   "metadata": {},
   "source": [
    "$\\begin{array}{l}\n",
    "\\color{blue}{\\vec{E}_{ab}} = \\vec{E}_{an} - \\vec{E}_{bn} \\\\\n",
    "\\color{blue}{\\vec{E}_{bc}} = \\vec{E}_{bn} - \\vec{E}_{cn} \\\\\n",
    "\\color{blue}{\\vec{E}_{ca}} = \\vec{E}_{cn} - \\vec{E}_{an}\n",
    "\\end{array}$"
   ]
  },
  {
   "cell_type": "markdown",
   "metadata": {},
   "source": [
    "El eje del fasor $\\vec{E}_{an}$ se toma como referencia, los ángulos y módulos asociados a las tensiones compuestas son:"
   ]
  },
  {
   "cell_type": "markdown",
   "metadata": {},
   "source": [
    "__Tensiones compuestas o de línea:__\n",
    "\n",
    "$\\begin{array}{l}\n",
    "\\color{blue}{\\vec{E}_{ab}} = \\vec{E}_{an} - \\vec{E}_{bn} = \\sqrt{3} E e^{j30^\\circ} \\\\\n",
    "\\color{blue}{\\vec{E}_{bc}} = \\vec{E}_{bn} - \\vec{E}_{cn} = \\sqrt{3} E e^{j270^\\circ} \\\\\n",
    "\\color{blue}{\\vec{E}_{ca}} = \\vec{E}_{cn} - \\vec{E}_{an} = \\sqrt{3} E e^{j150^\\circ}\n",
    "\\end{array}$"
   ]
  },
  {
   "cell_type": "markdown",
   "metadata": {},
   "source": [
    "__1.1__ Expresar las tensiones de fase en forma fasorial y representar el esquema fasorial de tensiones de fase."
   ]
  },
  {
   "cell_type": "markdown",
   "metadata": {},
   "source": [
    "Por las condiciones de perfección del sistema."
   ]
  },
  {
   "cell_type": "markdown",
   "metadata": {},
   "source": [
    "<mark style=\"background-color:powderblue\">Condición de Simetría</mark>"
   ]
  },
  {
   "cell_type": "markdown",
   "metadata": {},
   "source": [
    "$$ |\\vec{E}_{an}| = |\\vec{E}_{bn}| = |\\vec{E}_{cn}| = E $$"
   ]
  },
  {
   "cell_type": "markdown",
   "metadata": {},
   "source": [
    "<mark style=\"background-color:powderblue\">Igualdad de ángulos entre tensiones de bobinas"
   ]
  },
  {
   "cell_type": "markdown",
   "metadata": {},
   "source": [
    "$$ \\alpha = \\beta = \\gamma = 120^\\circ $$"
   ]
  },
  {
   "cell_type": "markdown",
   "metadata": {},
   "source": [
    "<mark style=\"background-color:powderblue\">Condición de Equilibrio</mark>"
   ]
  },
  {
   "cell_type": "markdown",
   "metadata": {},
   "source": [
    "$$ \\vec{E}_{an} + \\vec{E}_{bn} + \\vec{E}_{cn} = 0 $$"
   ]
  },
  {
   "cell_type": "markdown",
   "metadata": {},
   "source": [
    "<mark>Esquema fasorial de las tensiones de fase y su secuencia directa ABC</mark>"
   ]
  },
  {
   "cell_type": "markdown",
   "metadata": {},
   "source": [
    "<img src=\"img/tp5-1-6.png\">"
   ]
  },
  {
   "cell_type": "markdown",
   "metadata": {},
   "source": [
    "__1.2__ Obtener las tensiones compuestas o de línea y expresarlas en función del módulo de la tensión de fase"
   ]
  },
  {
   "cell_type": "markdown",
   "metadata": {},
   "source": [
    "<img src=\"img/tp5-1-8.png\">"
   ]
  },
  {
   "cell_type": "markdown",
   "metadata": {},
   "source": [
    "$$ V_{ab} = E_{ab} = E_{an} e^{j0^\\circ} - E_{bn} e^{j240^\\circ} $$"
   ]
  },
  {
   "cell_type": "code",
   "execution_count": 15,
   "metadata": {},
   "outputs": [],
   "source": [
    "import math, cmath"
   ]
  },
  {
   "cell_type": "code",
   "execution_count": null,
   "metadata": {},
   "outputs": [],
   "source": [
    "# Datos\n",
    "Ean = cmath.rect(1 , 0)\n",
    "Ebn = cmath.rect(1 , math.radians(240) )\n",
    "Ecn = cmath.rect(1 , math.radians(120) )"
   ]
  },
  {
   "cell_type": "code",
   "execution_count": 21,
   "metadata": {},
   "outputs": [],
   "source": [
    "Vab = Ean - Ebn"
   ]
  },
  {
   "cell_type": "code",
   "execution_count": 20,
   "metadata": {
    "jupyter": {
     "source_hidden": true
    }
   },
   "outputs": [
    {
     "name": "stdout",
     "output_type": "stream",
     "text": [
      "|Vab| = 1.732*E V\n",
      "theta = 30.00°\n"
     ]
    }
   ],
   "source": [
    "print('|Vab| = %.3f*E [V]'%abs(Vab))\n",
    "print('theta = %.2f°'%math.degrees( cmath.phase(Vab) ) )"
   ]
  },
  {
   "cell_type": "markdown",
   "metadata": {},
   "source": [
    "<div class=\"alert-danger\">Entonces:\n",
    "$$ V_{ab} = E_{ab} = \\sqrt{3} E e^{j30^\\circ} $$\n",
    "    </div>"
   ]
  },
  {
   "cell_type": "markdown",
   "metadata": {},
   "source": [
    "<img src=\"img/tp5-1-8.png\">"
   ]
  },
  {
   "cell_type": "markdown",
   "metadata": {},
   "source": [
    "$$ V_{bc} = E_{bc} = E_{bn} e^{j240^\\circ} - E_{cn} e^{j120^\\circ} $$"
   ]
  },
  {
   "cell_type": "code",
   "execution_count": 22,
   "metadata": {},
   "outputs": [],
   "source": [
    "Vbc = Ebn - Ecn "
   ]
  },
  {
   "cell_type": "code",
   "execution_count": 23,
   "metadata": {
    "jupyter": {
     "source_hidden": true
    }
   },
   "outputs": [
    {
     "name": "stdout",
     "output_type": "stream",
     "text": [
      "|Vbc| = 1.732*E V\n",
      "theta = -90.00°\n"
     ]
    }
   ],
   "source": [
    "print('|Vbc| = %.3f*E V'%abs(Vbc))\n",
    "print('theta = %.2f°'%math.degrees( cmath.phase(Vbc) ) )"
   ]
  },
  {
   "cell_type": "markdown",
   "metadata": {},
   "source": [
    "<div class=\"alert-danger\">Entonces:\n",
    "$$ V_{bc} = E_{bc} = \\sqrt{3} E e^{-j90^\\circ} $$\n",
    "</div>"
   ]
  },
  {
   "cell_type": "markdown",
   "metadata": {},
   "source": [
    "<img src=\"img/tp5-1-8.png\">"
   ]
  },
  {
   "cell_type": "markdown",
   "metadata": {},
   "source": [
    "$$ V_{ca} = E_{ca} = E_{an} e^{j0^\\circ} - E_{cn} e^{j120^\\circ} $$"
   ]
  },
  {
   "cell_type": "code",
   "execution_count": 24,
   "metadata": {},
   "outputs": [],
   "source": [
    "Vca = Ecn - Ean"
   ]
  },
  {
   "cell_type": "code",
   "execution_count": 25,
   "metadata": {
    "jupyter": {
     "source_hidden": true
    }
   },
   "outputs": [
    {
     "name": "stdout",
     "output_type": "stream",
     "text": [
      "|Vca| = 1.732*E V\n",
      "theta = 150.00°\n"
     ]
    }
   ],
   "source": [
    "print('|Vca| = %.3f*E V'%abs(Vca))\n",
    "print('theta = %.2f°'%math.degrees( cmath.phase(Vca) ) )"
   ]
  },
  {
   "cell_type": "markdown",
   "metadata": {},
   "source": [
    "<div class=\"alert-danger\">Entonces:\n",
    "$$ V_{ca} = E_{ca} = \\sqrt{3} E e^{j150^\\circ} $$\n",
    "    </div>"
   ]
  },
  {
   "cell_type": "markdown",
   "metadata": {},
   "source": [
    "------------\n",
    "__1.3__ Representar en un mismo esquema fasorial los sistemas de tensiones de fase y compuesta."
   ]
  },
  {
   "cell_type": "markdown",
   "metadata": {},
   "source": [
    "<img src=\"img/tp5-1-8.png\">"
   ]
  },
  {
   "cell_type": "markdown",
   "metadata": {},
   "source": [
    "__Tensiones de Fase__\n",
    "\n",
    "$\\begin{array}{lcl}\n",
    "\\color{red}{\\vec{E}_{an}} = |E_{an}| e^{j0^\\circ} &=& E e^{j0^\\circ} \\\\\n",
    "\\color{red}{\\vec{E}_{bn}} = |E_{bn}| e^{j240^\\circ} &=& E e^{j240^\\circ} \\\\\n",
    "\\color{red}{\\vec{E}_{cn}} = |E_{cn}| e^{j120^\\circ} &=& E e^{j120^\\circ}\n",
    "\\end{array}\n",
    "$"
   ]
  },
  {
   "cell_type": "markdown",
   "metadata": {},
   "source": [
    "Resultan 6 tensiones:\n",
    "\n",
    "3 tensiones denominadas __\"tensiones simples o tensiones de fase\"__\n",
    "* $\\color{red}{\\vec{E}_{an}}$\n",
    "* $\\color{red}{\\vec{E}_{bn}}$\n",
    "* $\\color{red}{\\vec{E}_{cn}}$"
   ]
  },
  {
   "cell_type": "markdown",
   "metadata": {},
   "source": [
    "3 tensiones denominadas \"tensiones compuestas o tensiones de línea\"\n",
    "* $\\color{blue}{\\vec{E}_{ab}} = \\vec{E}_{an} - \\vec{E}_{bn} $\n",
    "* $\\color{blue}{\\vec{E}_{bc}} = \\vec{E}_{bn} - \\vec{E}_{cn} $\n",
    "* $\\color{blue}{\\vec{E}_{ca}} = \\vec{E}_{cn} - \\vec{E}_{an} $"
   ]
  },
  {
   "cell_type": "markdown",
   "metadata": {},
   "source": [
    "Tensiones compuestas\n",
    "\n",
    "* $\\color{blue}{\\vec{E}_{ab}} = \\vec{E}_{an} - \\vec{E}_{bn} = \\sqrt{3} E e^{j30^\\circ} $\n",
    "* $\\color{blue}{\\vec{E}_{bc}} = \\vec{E}_{bn} - \\vec{E}_{cn} = \\sqrt{3} E e^{j270^\\circ} $\n",
    "* $\\color{blue}{\\vec{E}_{ca}} = \\vec{E}_{cn} - \\vec{E}_{an} = \\sqrt{3} E e^{j150^\\circ} $"
   ]
  },
  {
   "cell_type": "markdown",
   "metadata": {},
   "source": [
    "## Problema N°2\n",
    "Un sistema trifásico de secuencia CBA (Secuencia Inversa o Indirecta), $3 \\times 380 \\, \\mathrm{V}$ (tensión eficaz compuesta o de línea), de 4 conductores (tetrafilar), alimenta una carga trifásica equilibrada conectada en estrella.\n",
    "\n",
    "El valor de cada impedancia es de 20 Ohm con ángulo de desfasaje de 30° capacitivo.\n",
    "\n",
    "2.1 Calcular las corrientes $I_r$, $I_s$, $I_t$, $I_\\mathrm{neutro}$, representar diagrama fasorial de tensiones y corrientes.\n",
    "\n",
    "2.2 Determinar la potencia por fase y trifásica."
   ]
  },
  {
   "cell_type": "markdown",
   "metadata": {},
   "source": [
    "### Solución\n",
    "El siguiente gráfico es una representación fasorial de las tensiones de fase del generador trifásico o fuente de energía, según lo solicitado en el enunciado del problema."
   ]
  },
  {
   "cell_type": "markdown",
   "metadata": {},
   "source": [
    "__Tensiones de fase    \n",
    "Generación trifásica__\n",
    "\n",
    "<img src=\"img/tp5-1-7.png\">"
   ]
  },
  {
   "cell_type": "markdown",
   "metadata": {},
   "source": [
    "## Conexión estrella-estrella balanceada"
   ]
  },
  {
   "cell_type": "markdown",
   "metadata": {},
   "source": [
    "<div class=\"alert-info\">\n",
    "Un sistema Y-Y balanceado es un sistema trifásico con fuente balanceada conectada en Y y carga balanceada conectada en Y.\n",
    "    </div>"
   ]
  },
  {
   "cell_type": "markdown",
   "metadata": {},
   "source": [
    "<img src=\"img/tp5-2-1.png\">"
   ]
  },
  {
   "cell_type": "markdown",
   "metadata": {},
   "source": [
    "Las tensiones de generación las denominaremos con la letrea E, $E_{an}$, $E_{bn}$, $E_{cn}$."
   ]
  },
  {
   "cell_type": "markdown",
   "metadata": {},
   "source": [
    "Las <mark>caídas de tensión en las impedancias de carga las denominamos con la letra U</mark>, $U_{ao}$, $U_{bo}$, $U_{co}$"
   ]
  },
  {
   "cell_type": "markdown",
   "metadata": {},
   "source": [
    "Las <mark>corrientes por los conductores</mark> que conectan el generador con la carga $I_r$, $I_s$, $I_t$ o $I_a$, $I_b$, $I_c$."
   ]
  },
  {
   "cell_type": "markdown",
   "metadata": {},
   "source": [
    "Las <mark>corrientes que circulan por la carga</mark> $I_a$, $I_b$, $I_c$."
   ]
  },
  {
   "cell_type": "markdown",
   "metadata": {},
   "source": [
    "La corriente que circula por el cuarto conductor, que une el centro de estrella del generador (n) y el neutro de la carga (o), se denomina corriente de Neutro, $I_\\mathrm{neutro}$."
   ]
  },
  {
   "cell_type": "markdown",
   "metadata": {},
   "source": [
    "__Cálculos:__\n",
    "\n",
    "Las tensiones de generación son Datos del problema $3 \\times 380 \\, \\mathrm{V}$.\n",
    "Esto significa, que entre bornes de salida el generador ab, bc, ca tenemos un valor de 380 V. Siendo esa una tensión de línea o compuesta."
   ]
  },
  {
   "cell_type": "markdown",
   "metadata": {},
   "source": [
    "Para sistemas perfectos, la relación entre la tensión compuesta y la de fase es $\\sqrt{3} \\cong 1,73$, es decir, si <mark>la tensión de línea</mark> es:"
   ]
  },
  {
   "cell_type": "markdown",
   "metadata": {},
   "source": [
    "$$ E_\\mathrm{linea} = 380 \\, \\mathrm{V} \\quad (E_{ab} = E_{bc} = E_{ca} = 380 \\, \\mathrm{V}) $$"
   ]
  },
  {
   "cell_type": "markdown",
   "metadata": {},
   "source": [
    "<mark>La tensión de fase</mark> es:"
   ]
  },
  {
   "cell_type": "markdown",
   "metadata": {},
   "source": [
    "$$ E_\\mathrm{fase} = {E_\\mathrm{linea} \\over \\sqrt{3} } = 220 \\, \\mathrm{V} $$"
   ]
  },
  {
   "cell_type": "markdown",
   "metadata": {},
   "source": [
    "$$ E_{an} = E_{bn} = E_{cn} = 220 \\, \\mathrm{V} $$"
   ]
  },
  {
   "cell_type": "markdown",
   "metadata": {},
   "source": [
    "Las tensiones de generación son iguales a las caídas de tensión en las cargas cuando el sistema es generación en conexión estrella y cargas en conexión estrella."
   ]
  },
  {
   "cell_type": "markdown",
   "metadata": {},
   "source": [
    "$\\begin{array}{l}\n",
    "E_{an} = U_{ao} \\\\\n",
    "E_{bn} = U_{bo} \\\\\n",
    "E_{cn} = U_{co}\n",
    "\\end{array}$"
   ]
  },
  {
   "cell_type": "markdown",
   "metadata": {},
   "source": [
    "La carga trifásica es equilibrada, conectada en estrella, eso significa que el valor de cada impedancia es igual entre ellas y su valor de $20 \\, \\Omega$ con ángulo desfasaje de 30° capacitivo."
   ]
  },
  {
   "cell_type": "markdown",
   "metadata": {},
   "source": [
    "$$ Z_a = Z_b = Z_c = 20 e^{-j30^\\circ} \\, \\Omega $$"
   ]
  },
  {
   "cell_type": "markdown",
   "metadata": {},
   "source": [
    "Aplicamos la ley de Ohm para corriente alterna."
   ]
  },
  {
   "cell_type": "markdown",
   "metadata": {},
   "source": [
    "$$ I_r = I_a = \\frac{U_{ao}}{Z_a} = \\frac{220 e^{j0^\\circ} \\, \\mathrm{V}}{20 e^{-j30^\\circ} \\, \\Omega} = 11 e^{j30^\\circ} \\, \\mathrm{A} = (9,5 + j5,5) \\, \\mathrm{A} $$"
   ]
  },
  {
   "cell_type": "markdown",
   "metadata": {},
   "source": [
    "$$ I_s = I_b = \\frac{U_{bo}}{Z_b} = \\frac{220 e^{j120^\\circ} \\, \\mathrm{V}}{20 e^{-j30^\\circ} \\, \\Omega} = 11 e^{j150^\\circ} \\, \\mathrm{A} = (-9,5 + j5,5) \\, \\mathrm{A} $$"
   ]
  },
  {
   "cell_type": "markdown",
   "metadata": {},
   "source": [
    "$$ I_t = I_c = \\frac{U_{co}}{Z_c} = \\frac{220 e^{j240^\\circ} \\, \\mathrm{V}}{20 e^{-j30^\\circ} \\, \\Omega} = 11 e^{j270^\\circ} \\, \\mathrm{A} = - j11 \\, \\mathrm{A} $$"
   ]
  },
  {
   "cell_type": "markdown",
   "metadata": {},
   "source": [
    "Aplicando la ley de Kirchhoff en el centro de estrella de la carga, podemos calcular <mark>la corriente de neutro, es la que circula por el cuarto conductor.</mark>"
   ]
  },
  {
   "cell_type": "markdown",
   "metadata": {},
   "source": [
    "$$ I_\\mathrm{neutro} = \\sum_a^c I_i = (9,5+j5,5) + (-9,5+j5,5) + (-j11) = 0 \\, \\mathrm{A} $$"
   ]
  },
  {
   "cell_type": "markdown",
   "metadata": {},
   "source": [
    "__Diagrama Fasorial de tensiones y corrientes en la carga:__"
   ]
  },
  {
   "cell_type": "markdown",
   "metadata": {},
   "source": [
    "<img src=\"img/tp5-2-2.png\">"
   ]
  },
  {
   "cell_type": "markdown",
   "metadata": {},
   "source": [
    "__2.2__ Determinar la potencia por fase y trifásica"
   ]
  },
  {
   "cell_type": "markdown",
   "metadata": {},
   "source": [
    "En todo sistema tenemos que calcular:"
   ]
  },
  {
   "cell_type": "markdown",
   "metadata": {},
   "source": [
    "La __Potencia Activa (P)__ medida en Watts."
   ]
  },
  {
   "cell_type": "markdown",
   "metadata": {},
   "source": [
    "La __Potencia Reactiva (Q)__ medida en VAr."
   ]
  },
  {
   "cell_type": "markdown",
   "metadata": {},
   "source": [
    "La __Potencia Aparente (S)__ medida en VA."
   ]
  },
  {
   "cell_type": "markdown",
   "metadata": {},
   "source": [
    "Recordando el <mark>triángulo de potencias.</mark>"
   ]
  },
  {
   "cell_type": "markdown",
   "metadata": {},
   "source": [
    "<img src=\"img/tp5-2-3.png\">"
   ]
  },
  {
   "cell_type": "markdown",
   "metadata": {},
   "source": [
    "A cada una de las fases le corresponderá un valor de potencia monofásica:"
   ]
  },
  {
   "cell_type": "markdown",
   "metadata": {},
   "source": [
    "Potencia Activa P (Watt): $P_a, \\; P_b , \\; P_c$"
   ]
  },
  {
   "cell_type": "markdown",
   "metadata": {},
   "source": [
    "Potencia Reactiva Q (VAr): $Q_a , \\; Q_b , \\; Q_c$"
   ]
  },
  {
   "cell_type": "markdown",
   "metadata": {},
   "source": [
    "Potencia Aparente S (VA): $S_a, \\; S_b , \\; S_c$"
   ]
  },
  {
   "cell_type": "markdown",
   "metadata": {},
   "source": [
    "__La Potencia trifásica \"Activa, Reactiva y Aparente\"__ se calculará como la sumatoria de las potencias de cada una de las fases."
   ]
  },
  {
   "cell_type": "markdown",
   "metadata": {},
   "source": [
    "Para calcular la __potencia Activa trifásica__ y __Reactiva trifásica__ la __sumatoria__ se podrá realizar __algebráicamente__."
   ]
  },
  {
   "cell_type": "markdown",
   "metadata": {},
   "source": [
    "$$ P_\\mathrm{trifasica} = P_a + P_b + P_c $$"
   ]
  },
  {
   "cell_type": "markdown",
   "metadata": {},
   "source": [
    "$$ Q_\\mathrm{trifasica} = Q_a + Q_b + Q_c $$"
   ]
  },
  {
   "cell_type": "markdown",
   "metadata": {},
   "source": [
    "Para la potencia Aparente, lo conveniente, para no cometer errores, es usar para el cálculo, el teorema de Pitágoras aplicando el triángulo de potencias."
   ]
  },
  {
   "cell_type": "markdown",
   "metadata": {},
   "source": [
    "$$ S_\\mathrm{trifasica} = \\sqrt{ (P_\\mathrm{trifasica})^2 + (Q_\\mathrm{trifasica})^2 } $$"
   ]
  },
  {
   "cell_type": "markdown",
   "metadata": {},
   "source": [
    "Las impedancias o cargas de cada una de las fases son iguales entre sí."
   ]
  },
  {
   "cell_type": "markdown",
   "metadata": {},
   "source": [
    "$$ Z_a = Z_b = Z_c = 20e^{-j30^\\circ} \\, \\Omega $$"
   ]
  },
  {
   "cell_type": "markdown",
   "metadata": {},
   "source": [
    "__Cálculo de la Potencia Activa P monofásica.__"
   ]
  },
  {
   "cell_type": "markdown",
   "metadata": {},
   "source": [
    "$$ U_f = U_{ao} = U_{bo} = U_{co} \\quad \\mbox{(Tensión de cada fase)} $$"
   ]
  },
  {
   "cell_type": "markdown",
   "metadata": {},
   "source": [
    "$$ I_f = I_a = I_b = I_c \\quad \\mbox{(Corriente de cada fase)} $$"
   ]
  },
  {
   "cell_type": "markdown",
   "metadata": {},
   "source": [
    "$\\varphi_a =$ ángulo de la impedancia (a) o ángulo de carga (a) desfasaje entre la caída de tensión (Uao) y la corriente (Ia) que circula por la carga)"
   ]
  },
  {
   "cell_type": "markdown",
   "metadata": {},
   "source": [
    "$\\varphi_a = \\varphi_b = \\varphi_c = \\varphi$"
   ]
  },
  {
   "cell_type": "code",
   "execution_count": 1,
   "metadata": {},
   "outputs": [],
   "source": [
    "import math, cmath"
   ]
  },
  {
   "cell_type": "code",
   "execution_count": 2,
   "metadata": {},
   "outputs": [],
   "source": [
    "# Datos\n",
    "E_linea = 380 # V\n",
    "phi = math.radians(-30)\n",
    "E_fase = E_linea/math.sqrt(3)\n",
    "Ean = cmath.rect(E_fase, math.radians(0) )\n",
    "Ebn = cmath.rect(E_fase, math.radians(120))\n",
    "Ecn = cmath.rect(E_fase, math.radians(240))\n",
    "Uao = Ean\n",
    "Ubo = Ebn\n",
    "Uco = Ecn\n",
    "Za = cmath.rect(20 , phi)\n",
    "Zb = Za\n",
    "Zc = Za"
   ]
  },
  {
   "cell_type": "markdown",
   "metadata": {},
   "source": [
    "Ley de Ohm\n",
    "$$ I = \\frac{U}{Z} $$"
   ]
  },
  {
   "cell_type": "code",
   "execution_count": 3,
   "metadata": {},
   "outputs": [],
   "source": [
    "Ia = Uao/Za\n",
    "Ib = Ubo/Zb\n",
    "Ic = Uco/Zc"
   ]
  },
  {
   "cell_type": "code",
   "execution_count": 4,
   "metadata": {},
   "outputs": [
    {
     "name": "stdout",
     "output_type": "stream",
     "text": [
      "Ia = 9.50+5.48j A\n",
      "Ib = -9.50+5.48j A\n",
      "Ic = -0.00-10.97j A\n"
     ]
    }
   ],
   "source": [
    "print('Ia = {:.2f} A'.format(Ia))\n",
    "print('Ib = {:.2f} A'.format(Ib))\n",
    "print('Ic = {:.2f} A'.format(Ic))"
   ]
  },
  {
   "cell_type": "markdown",
   "metadata": {},
   "source": [
    "Sistema balanceado\n",
    "$$ \\sum_a^c I_i = 0 $$"
   ]
  },
  {
   "cell_type": "code",
   "execution_count": 5,
   "metadata": {},
   "outputs": [],
   "source": [
    "Sum_I = Ia + Ib + Ic"
   ]
  },
  {
   "cell_type": "code",
   "execution_count": 6,
   "metadata": {},
   "outputs": [
    {
     "name": "stdout",
     "output_type": "stream",
     "text": [
      "|Sum_I| = 0.00 A\n"
     ]
    }
   ],
   "source": [
    "print('|Sum_I| = %.2f A'%abs(Sum_I))"
   ]
  },
  {
   "cell_type": "markdown",
   "metadata": {},
   "source": [
    "Potencia aparente\n",
    "$$ \\vec{S} = \\vec{U} \\times (\\vec{I})^\\ast $$"
   ]
  },
  {
   "cell_type": "markdown",
   "metadata": {},
   "source": [
    "Potencia real\n",
    "$$ P = |\\vec{S}| \\cos \\varphi $$"
   ]
  },
  {
   "cell_type": "markdown",
   "metadata": {},
   "source": [
    "Potencia reactiva\n",
    "$$ Q = |\\vec{S}| \\sin \\varphi $$"
   ]
  },
  {
   "cell_type": "code",
   "execution_count": 7,
   "metadata": {},
   "outputs": [],
   "source": [
    "# Potencia aparente\n",
    "Sa = Uao*Ia.conjugate()\n",
    "Sb = Ubo*Ib.conjugate()\n",
    "Sc = Uco*Ic.conjugate()\n",
    "# Potencia real\n",
    "Pa = Sa.real\n",
    "Pb = Sb.real\n",
    "Pc = Sc.real\n",
    "# Potencia reactiva\n",
    "Qa = Sa.imag\n",
    "Qb = Sb.imag\n",
    "Qc = Sc.imag"
   ]
  },
  {
   "cell_type": "code",
   "execution_count": 23,
   "metadata": {
    "jupyter": {
     "source_hidden": true
    }
   },
   "outputs": [
    {
     "name": "stdout",
     "output_type": "stream",
     "text": [
      "Potencia aparente:\n",
      "|Sa| = 2406.67 VA\n",
      "|Sb| = 2406.67 VA\n",
      "|Sc| = 2406.67 VA\n"
     ]
    }
   ],
   "source": [
    "print('Potencia aparente:')\n",
    "print('|Sa| = %.2f VA'%abs(Sa))\n",
    "print('|Sb| = %.2f VA'%abs(Sb))\n",
    "print('|Sc| = %.2f VA'%abs(Sc))"
   ]
  },
  {
   "cell_type": "code",
   "execution_count": 21,
   "metadata": {
    "jupyter": {
     "source_hidden": true
    }
   },
   "outputs": [
    {
     "name": "stdout",
     "output_type": "stream",
     "text": [
      "Potencia real:\n",
      "Pa = 2084.23 W\n",
      "Pb = 2084.23 W\n",
      "Pc = 2084.23 W\n"
     ]
    }
   ],
   "source": [
    "print('Potencia real:')\n",
    "print('Pa = %.2f W'%Pa)\n",
    "print('Pb = %.2f W'%Pb)\n",
    "print('Pc = %.2f W'%Pc)"
   ]
  },
  {
   "cell_type": "code",
   "execution_count": 22,
   "metadata": {
    "jupyter": {
     "source_hidden": true
    }
   },
   "outputs": [
    {
     "name": "stdout",
     "output_type": "stream",
     "text": [
      "Potencia reactiva:\n",
      "Qa = -1203.33 VAr\n",
      "Qb = -1203.33 VAr\n",
      "Qc = -1203.33 VAr\n"
     ]
    }
   ],
   "source": [
    "print('Potencia reactiva:')\n",
    "print('Qa = %.2f VAr'%Qa)\n",
    "print('Qb = %.2f VAr'%Qb)\n",
    "print('Qc = %.2f VAr'%Qc)"
   ]
  },
  {
   "cell_type": "markdown",
   "metadata": {},
   "source": [
    "Potencia trifásica real\n",
    "$$ P_\\mathrm{trifasica} = P_a + P_b + P_c $$"
   ]
  },
  {
   "cell_type": "markdown",
   "metadata": {},
   "source": [
    "Potencia trifásica reactiva\n",
    "$$ Q_\\mathrm{trifasica} = Q_a + Q_b + Q_c $$"
   ]
  },
  {
   "cell_type": "markdown",
   "metadata": {},
   "source": [
    "Potencia trifásica aparente\n",
    "$$ S_\\mathrm{trifasica} = \\sqrt{(P_\\mathrm{trifasica})^2 + (Q_\\mathrm{trifasica})^2} $$"
   ]
  },
  {
   "cell_type": "code",
   "execution_count": 11,
   "metadata": {},
   "outputs": [],
   "source": [
    "P_trifasica = Pa + Pb + Pc\n",
    "Q_trifasica = Qa + Qb + Qc\n",
    "S_trifasica = math.sqrt(P_trifasica**2 + Q_trifasica**2)"
   ]
  },
  {
   "cell_type": "code",
   "execution_count": 12,
   "metadata": {},
   "outputs": [
    {
     "name": "stdout",
     "output_type": "stream",
     "text": [
      "P_trifasica = 6252.70 W\n",
      "Q_trifasica = -3610.00 W\n",
      "S_trifasica = 7220.00 W\n"
     ]
    }
   ],
   "source": [
    "print('P_trifasica = %.2f W'%P_trifasica)\n",
    "print('Q_trifasica = %.2f W'%Q_trifasica)\n",
    "print('S_trifasica = %.2f W'%S_trifasica)"
   ]
  },
  {
   "cell_type": "markdown",
   "metadata": {},
   "source": [
    "__Como comprobación, aplicamos la ecuación a la resolución del ejercicio__"
   ]
  },
  {
   "cell_type": "markdown",
   "metadata": {},
   "source": [
    "Potencia trifásica real\n",
    "$$ P_\\mathrm{trifasica} = \\sqrt{3} \\cdot 380 |I_\\mathrm{fase}| \\cos \\varphi $$"
   ]
  },
  {
   "cell_type": "markdown",
   "metadata": {},
   "source": [
    "Potencia trifásica reactiva\n",
    "$$ Q_\\mathrm{trifasica} = \\sqrt{3} \\cdot 380 |I_\\mathrm{fase}| \\sin \\varphi $$"
   ]
  },
  {
   "cell_type": "markdown",
   "metadata": {},
   "source": [
    "Potencia trifásica aparente\n",
    "$$ S_\\mathrm{trifasica} = \\sqrt{3} \\cdot 380 |I_\\mathrm{fase}| $$"
   ]
  },
  {
   "cell_type": "code",
   "execution_count": null,
   "metadata": {},
   "outputs": [],
   "source": [
    "P_trif = math.sqrt(3)*380*abs(Ia)*math.cos( phi )\n",
    "Q_trif = math.sqrt(3)*380*abs(Ia)*math.sin( phi )\n",
    "S_trif = math.sqrt(3)*380*abs(Ia)"
   ]
  },
  {
   "cell_type": "code",
   "execution_count": 19,
   "metadata": {},
   "outputs": [
    {
     "name": "stdout",
     "output_type": "stream",
     "text": [
      "P_trif = 6252.70 W\n",
      "Q_trif = -3610.00 VAr\n",
      "S_trif = 7220.00 VA\n"
     ]
    }
   ],
   "source": [
    "print('P_trif = %.2f W'%P_trif)\n",
    "print('Q_trif = %.2f VAr'%Q_trif)\n",
    "print('S_trif = %.2f VA'%S_trif)"
   ]
  },
  {
   "cell_type": "markdown",
   "metadata": {},
   "source": [
    "__Simulación en qucs__\n",
    "<img src=\"img/tp5-2-4.svg\" width=\"800\">"
   ]
  },
  {
   "cell_type": "code",
   "execution_count": 24,
   "metadata": {},
   "outputs": [],
   "source": [
    "%reset -s -f"
   ]
  },
  {
   "cell_type": "markdown",
   "metadata": {},
   "source": [
    "## Problema 3\n",
    "Un sistema trifásico de secuencia CBA $3 \\times 380 \\, \\mathrm{V}$ de 4 conductores, alimenta una carga trifásica conectada en estrella."
   ]
  },
  {
   "cell_type": "markdown",
   "metadata": {},
   "source": [
    "$Z_a = 6 \\; \\Omega$ con ángulo de desfasaje 0°"
   ]
  },
  {
   "cell_type": "markdown",
   "metadata": {},
   "source": [
    "$Z_b = 6 \\, \\Omega$ con ángulo de desfasaje 30° inductivo"
   ]
  },
  {
   "cell_type": "markdown",
   "metadata": {},
   "source": [
    "$Z_c = 5 \\, \\Omega$ con ángulo de desfasaje 45° inductivo"
   ]
  },
  {
   "cell_type": "markdown",
   "metadata": {},
   "source": [
    "__3.1__ Calcular las corrientes $I_r, \\, I_s, \\, I_t, \\, I_\\mathrm{neutro}$, representar el diagrama fasorial de tensiones y corrientes."
   ]
  },
  {
   "cell_type": "markdown",
   "metadata": {},
   "source": [
    "__3.2__ Determinar la potencia en cada fase y la potencia trifásica."
   ]
  },
  {
   "cell_type": "markdown",
   "metadata": {},
   "source": [
    "### Solución\n",
    "El siguiente gráfico es una representación fasorial de las tensiones de fase del generador trifásico o fuente de energía, según lo solicitado en el enunciado de problema."
   ]
  },
  {
   "cell_type": "markdown",
   "metadata": {},
   "source": [
    "__Tensiones de fase    \n",
    "Generación trifásica__\n",
    "\n",
    "<img src=\"img/tp5-1-7.png\">"
   ]
  },
  {
   "cell_type": "markdown",
   "metadata": {},
   "source": [
    "## Conexión estrella-estrella"
   ]
  },
  {
   "cell_type": "markdown",
   "metadata": {},
   "source": [
    "<img src=\"img/tp5-2-1.png\">"
   ]
  },
  {
   "cell_type": "markdown",
   "metadata": {},
   "source": [
    "Las tensiones de generación son datos del problema $3 \\times 380 \\, \\mathrm{V}$. Esto significa, que entre los bornes de salida el generador ab, bc, ca tenemos un valor de 380 V. Siendo esa una tensión de línea o compuesta."
   ]
  },
  {
   "cell_type": "code",
   "execution_count": 1,
   "metadata": {},
   "outputs": [],
   "source": [
    "import math, cmath"
   ]
  },
  {
   "cell_type": "code",
   "execution_count": 2,
   "metadata": {},
   "outputs": [],
   "source": [
    "# Tensión de línea\n",
    "E_lin = 380 # V\n",
    "# Tensión de fase\n",
    "E_fase = E_lin/math.sqrt(3)\n",
    "# Tensiones de generación\n",
    "Ean = cmath.rect(E_fase , math.radians(0) )\n",
    "Ebn = cmath.rect(E_fase , math.radians(120) )\n",
    "Ecn = cmath.rect(E_fase , math.radians(240) )\n",
    "# Caídas de tensión en las cargas\n",
    "Uao = Ean ; Ubo = Ebn ; Uco = Ecn"
   ]
  },
  {
   "cell_type": "markdown",
   "metadata": {},
   "source": [
    "<div class=\"alert-danger\">\n",
    "<strong>La carga trifásica NO es equilibrada</strong>, conectada en estrella, eso significa que las tres impedancias <strong>NO SON iguales</strong> entre sí.\n",
    "    </div>"
   ]
  },
  {
   "cell_type": "markdown",
   "metadata": {},
   "source": [
    "__3.1__ Calcular las corrientes $I_r, \\, I_s, \\, I_t, \\, I_\\mathrm{neutro}$, representar el diagrama fasorial de tensiones y corrientes."
   ]
  },
  {
   "cell_type": "code",
   "execution_count": 3,
   "metadata": {},
   "outputs": [],
   "source": [
    "# Datos\n",
    "Za = cmath.rect(6 , 0) # Ohm\n",
    "Zb = cmath.rect(6 , math.radians(30)) # Ohm\n",
    "Zc = cmath.rect(5 , math.radians(45)) # Ohm"
   ]
  },
  {
   "cell_type": "code",
   "execution_count": 4,
   "metadata": {},
   "outputs": [],
   "source": [
    "# Cálculo de la intensidad de corriente en fase a\n",
    "Ia = Uao/Za\n",
    "Ib = Ubo/Zb\n",
    "Ic = Uco/Zc\n",
    "Ir = Ia ; Is = Ib ; It = Ic"
   ]
  },
  {
   "cell_type": "code",
   "execution_count": 5,
   "metadata": {},
   "outputs": [
    {
     "name": "stdout",
     "output_type": "stream",
     "text": [
      "Corrientes de fase:\n",
      "Ia = Ir = (36.57+0.00j) A\n",
      "Ib = Is = (0.00+36.57j) A\n",
      "Ic = It = (-42.38-11.36j) A\n"
     ]
    }
   ],
   "source": [
    "print('Corrientes de fase:')\n",
    "print('Ia = Ir = ({:.2f}) A'.format(Ia))\n",
    "print('Ib = Is = ({:.2f}) A'.format(Ib))\n",
    "print('Ic = It = ({:.2f}) A'.format(Ic))"
   ]
  },
  {
   "cell_type": "code",
   "execution_count": 6,
   "metadata": {},
   "outputs": [],
   "source": [
    "# Cálculo de intensidad de corriente de NEUTRO (en el cuarto conductor)\n",
    "In = Ia + Ib + Ic"
   ]
  },
  {
   "cell_type": "code",
   "execution_count": 7,
   "metadata": {},
   "outputs": [
    {
     "name": "stdout",
     "output_type": "stream",
     "text": [
      "In = (-5.82+25.21j) A\n",
      "In = (25.87 < 103.00°) A\n"
     ]
    }
   ],
   "source": [
    "print('In = ({:.2f}) A'.format(In))\n",
    "print('In = (%.2f < %.2f°) A'%(abs(In) , math.degrees( cmath.phase(In) ) ))"
   ]
  },
  {
   "cell_type": "code",
   "execution_count": 8,
   "metadata": {},
   "outputs": [],
   "source": [
    "import matplotlib\n",
    "import matplotlib.pyplot as plt"
   ]
  },
  {
   "cell_type": "code",
   "execution_count": 20,
   "metadata": {},
   "outputs": [
    {
     "data": {
      "image/png": "[encoded data removed]",
      "text/plain": [
       "<Figure size 432x432 with 1 Axes>"
      ]
     },
     "metadata": {
      "needs_background": "light"
     },
     "output_type": "display_data"
    }
   ],
   "source": [
    "%matplotlib inline\n",
    "plt.figure(figsize=(6,6))\n",
    "\n",
    "plt.polar( cmath.phase(Ia) , abs(Ia), 'ko')\n",
    "plt.text( cmath.phase(Ia) , abs(Ia) + 5 , r'$I_a$', fontsize=18)\n",
    "plt.polar( cmath.phase(Ib) , abs(Ib), 'ko')\n",
    "plt.text( cmath.phase(Ib) , abs(Ib) + 5 , r'$I_b$', fontsize=18)\n",
    "plt.polar( cmath.phase(Ic) , abs(Ic) , 'ko')\n",
    "plt.text( cmath.phase(Ic) , abs(Ic) + 5 , r'$I_c$', fontsize=18)\n",
    "\n",
    "plt.polar([0, cmath.phase(Ia) ],[0, abs(Ia) ],linewidth=3)\n",
    "plt.polar([0, cmath.phase(Ib) ],[0, abs(Ib) ],linewidth=3)\n",
    "plt.polar([0, cmath.phase(Ic) ],[0, abs(Ic) ],linewidth=3)\n",
    "plt.title('Diagrama fasorial de corrientes en la carga')\n",
    "\n",
    "plt.show()"
   ]
  },
  {
   "cell_type": "markdown",
   "metadata": {},
   "source": [
    "3.2 Determinar la potencia en cada fase y la potencia trifásica."
   ]
  },
  {
   "cell_type": "code",
   "execution_count": 51,
   "metadata": {},
   "outputs": [],
   "source": [
    "Sa = Uao*Ia.conjugate()\n",
    "Sb = Ubo*Ib.conjugate()\n",
    "Sc = Uco*Ic.conjugate()\n",
    "Pa = Sa.real\n",
    "Pb = Sb.real\n",
    "Pc = Sc.real\n",
    "Qa = Sa.imag\n",
    "Qb = Sb.imag\n",
    "Qc = Sc.imag"
   ]
  },
  {
   "cell_type": "code",
   "execution_count": 55,
   "metadata": {},
   "outputs": [
    {
     "name": "stdout",
     "output_type": "stream",
     "text": [
      "Pa = 8022.2 W\n",
      "Pb = 6947.4 W\n",
      "Pc = 6807.1 W\n",
      "Qa = 0.0 VAr\n",
      "Qb = 4011.1 VAr\n",
      "Qc = 6807.1 VAr\n"
     ]
    }
   ],
   "source": [
    "print('Pa = %.1f W'%Pa)\n",
    "print('Pb = %.1f W'%Pb)\n",
    "print('Pc = %.1f W'%Pc)\n",
    "print('Qa = %.1f VAr'%Qa)\n",
    "print('Qb = %.1f VAr'%Qb)\n",
    "print('Qc = %.1f VAr'%Qc)"
   ]
  },
  {
   "cell_type": "code",
   "execution_count": 56,
   "metadata": {},
   "outputs": [],
   "source": [
    "# Cálculo de la potencia activa P trifásica\n",
    "P_trif = Pa + Pb + Pc\n",
    "# Cálculo de la potencia reactiva Q trifásica\n",
    "Q_trif = Qa + Qb + Qc"
   ]
  },
  {
   "cell_type": "code",
   "execution_count": 57,
   "metadata": {},
   "outputs": [
    {
     "name": "stdout",
     "output_type": "stream",
     "text": [
      "P_trif = 21776.75 W\n",
      "Q_trif = 10818.19 VAr\n"
     ]
    }
   ],
   "source": [
    "print('P_trif = %.2f W'%P_trif)\n",
    "print('Q_trif = %.2f VAr'%Q_trif)"
   ]
  },
  {
   "cell_type": "markdown",
   "metadata": {},
   "source": [
    "$$ |S_\\mathrm{trifasica}| = |S_a + S_b + S_c| $$"
   ]
  },
  {
   "cell_type": "markdown",
   "metadata": {},
   "source": [
    "$$ |S_\\mathrm{trifasica}| = \\sqrt{ (P_\\mathrm{trifasica})^2 + (Q_\\mathrm{trifasica})^2 } $$"
   ]
  },
  {
   "cell_type": "code",
   "execution_count": 65,
   "metadata": {},
   "outputs": [],
   "source": [
    "# Cálculo de la potencia aparente S trifásica\n",
    "S_trif = Sa + Sb + Sc"
   ]
  },
  {
   "cell_type": "code",
   "execution_count": 66,
   "metadata": {},
   "outputs": [
    {
     "name": "stdout",
     "output_type": "stream",
     "text": [
      "S_trif = (24315.84 < 26.42°) VA\n"
     ]
    }
   ],
   "source": [
    "print('S_trif = (%.2f < %.2f°) VA'%(abs(S_trif) , math.degrees( cmath.phase(S_trif) ) ))"
   ]
  },
  {
   "cell_type": "markdown",
   "metadata": {},
   "source": [
    "-----------\n",
    "<a href=\"https://colab.research.google.com/github/daniel-lorenzo/Electrotecnia/blob/master/Ejercitacion/TP4entrega.ipynb\"><img align=\"left\" src=\"https://colab.research.google.com/assets/colab-badge.svg\" alt=\"Open in Colab\" title=\"Open and Execute in Google Colaboratory\"></a>"
   ]
  },
  {
   "cell_type": "code",
   "execution_count": null,
   "metadata": {},
   "outputs": [],
   "source": []
  }
 ],
 "metadata": {
  "kernelspec": {
   "display_name": "Python 3",
   "language": "python",
   "name": "python3"
  },
  "language_info": {
   "codemirror_mode": {
    "name": "ipython",
    "version": 3
   },
   "file_extension": ".py",
   "mimetype": "text/x-python",
   "name": "python",
   "nbconvert_exporter": "python",
   "pygments_lexer": "ipython3",
   "version": "3.7.6"
  }
 },
 "nbformat": 4,
 "nbformat_minor": 4
}
