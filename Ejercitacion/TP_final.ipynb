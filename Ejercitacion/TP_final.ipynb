{
 "cells": [
  {
   "cell_type": "markdown",
   "metadata": {},
   "source": [
    "# Trabajo práctico final\n",
    "__U.N.L.Z. - Facultad de Ingeniería__       \n",
    "__Electrotecnia - 1er semestre 2020__      \n",
    "__Alumno:__ Daniel Antonio Lorenzo       "
   ]
  },
  {
   "cell_type": "markdown",
   "metadata": {},
   "source": [
    "<a href=\"https://colab.research.google.com/github/daniel-lorenzo/Electrotecnia/blob/master/Ejercitacion/TP_final.ipynb\"><img align=\"left\" src=\"https://colab.research.google.com/assets/colab-badge.svg\" alt=\"Open in Colab\" title=\"Open and Execute in Google Colaboratory\"></a>"
   ]
  },
  {
   "cell_type": "markdown",
   "metadata": {},
   "source": [
    "Se pretende alimentar una maquinaria a instalar, ubicada a unos 330 metros del centro de distribución de la planta, donde se halla instalado un transformador monofásico de $10 \\, \\mathrm{kVA}$, $13,2/0,4 \\, \\mathrm{kV}$."
   ]
  },
  {
   "cell_type": "markdown",
   "metadata": {},
   "source": [
    "<img src=\"img/tp_final.svg\" width=\"750\">"
   ]
  },
  {
   "cell_type": "markdown",
   "metadata": {},
   "source": [
    "De la hoja de datos del transformador se conoce que: $R_{eqBT} = 0,144 \\, \\Omega$; $X_{eqBT} = 0,207 \\, \\Omega$; $P_{cc} = 90 \\, \\mathrm{W}$; $P_0 = 50 \\, \\mathrm{W}$."
   ]
  },
  {
   "cell_type": "markdown",
   "metadata": {},
   "source": [
    "El cable de alimentación presenta una impedancia que provoca un 7,4% de caída de tensión, para 1000 metros, se encuentra instalado sin intenciones de invertir en otro."
   ]
  },
  {
   "cell_type": "markdown",
   "metadata": {},
   "source": [
    "La maquinaria, a instalar, en su hoja de datos indica: Tensión Nominal 400 +/- 3%, Frecuencia = 50 Hz, $\\cos \\varphi = 0,3$, corriente = 25 A"
   ]
  },
  {
   "cell_type": "markdown",
   "metadata": {},
   "source": [
    "Consultado al instalador, señala que: de respetar el lugar de instalación de la máquina, el cable aportará una caída de tensión no aconsejable para el buen funcionamiento (léase garantía), y que, además, de no modificar el lugar, acercando la maquinaria al transformador (lo que implicaría modificación o re implantación de otras maquinarias), sería conveniente instalar una compensación que garantice la tensión de funcionamiento."
   ]
  },
  {
   "cell_type": "markdown",
   "metadata": {},
   "source": [
    "Nuestro trabajo consistirá en verificar las indicaciones del instalador, analizar cada una de las afirmaciones, y recomendar la solución que consideramos más adecuada, al contexto."
   ]
  },
  {
   "cell_type": "markdown",
   "metadata": {},
   "source": [
    "<strong><u>Nota:</u></strong> *consideramos que las caídas de tensión se suman, a saber: $\\Delta u$ del transformador se sumará al $\\Delta u$ del cable. Ejemplo: si en bornes del transformador tenemos un 3% de caída de tensión (213,4 V) para un coseno de 0,5 y corriente de 10 A, en la carga tendremos un 9,7% (198,66 V).*"
   ]
  },
  {
   "cell_type": "markdown",
   "metadata": {},
   "source": [
    "## Solución"
   ]
  },
  {
   "cell_type": "code",
   "execution_count": null,
   "metadata": {},
   "outputs": [],
   "source": []
  }
 ],
 "metadata": {
  "kernelspec": {
   "display_name": "Python 3",
   "language": "python",
   "name": "python3"
  },
  "language_info": {
   "codemirror_mode": {
    "name": "ipython",
    "version": 3
   },
   "file_extension": ".py",
   "mimetype": "text/x-python",
   "name": "python",
   "nbconvert_exporter": "python",
   "pygments_lexer": "ipython3",
   "version": "3.7.6"
  }
 },
 "nbformat": 4,
 "nbformat_minor": 4
}
