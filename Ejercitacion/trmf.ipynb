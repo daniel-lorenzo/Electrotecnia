{
 "cells": [
  {
   "cell_type": "markdown",
   "metadata": {},
   "source": [
    "# Transformador monofásico"
   ]
  },
  {
   "cell_type": "markdown",
   "metadata": {},
   "source": [
    "## Ejemplo\n",
    "A un a transformador monofásico de $S_N = 333 \\, \\mathrm{kVA}$; $U_N : 6000/133 \\, \\mathrm{V}$, en 50 Hz, se lo somete a $1300 \\, \\mathrm{W}$. Por su parte en el ensayo de corto circuito se obtuvieron $I_{cc} = 55,5 \\, \\mathrm{A}$; $U_{cc} = 193,5 \\, \\mathrm{V}$, y consumió $2500 \\, \\mathrm{W}$. Calcular los parámetros equivalentes tanto al aldo de alta como los de baja tensión. Dibujar circuito equivalente."
   ]
  },
  {
   "cell_type": "markdown",
   "metadata": {},
   "source": [
    "### Solución"
   ]
  },
  {
   "cell_type": "markdown",
   "metadata": {},
   "source": [
    "$$\\begin{array}{|l|l|l|}\n",
    "\\hline\n",
    "\\mbox{Datos:} & \\mbox{Ensayo de vacío:} & \\mbox{Ensayo de corto circuito:} \\\\\n",
    "\\hline\n",
    "S_N = 333 \\, \\mathrm{kV} & V_0 = 133 \\, \\mathrm{V} & V_{cc} = 193,5 \\, \\mathrm{V} \\\\\n",
    "U_{N1} = 6000 \\, \\mathrm{V} & I_0 = 110 \\, \\mathrm{A} & I_{cc} = 55,5 \\, \\mathrm{A} \\\\\n",
    "U_{N2} = 133 \\, \\mathrm{V} & P_0 = 1300 \\, \\mathrm{W} & P_{cc} = 2500 \\, \\mathrm{W} \\\\\n",
    "\\hline\n",
    "\\end{array}$$"
   ]
  },
  {
   "cell_type": "markdown",
   "metadata": {},
   "source": [
    "### Cálculo de parámetros"
   ]
  },
  {
   "cell_type": "code",
   "execution_count": 1,
   "metadata": {},
   "outputs": [],
   "source": [
    "##########\n",
    "# Datos:\n",
    "##########\n",
    "SN = 333e3 # V\n",
    "UN1 = 6000 # V\n",
    "UN2 =  133 # V\n",
    "# Ensayo de vacío\n",
    "Vo =  133 # V\n",
    "Io =  110 # A\n",
    "Po = 1300 # W\n",
    "# Ensayo de cortocircuito\n",
    "Vcc = 193.5 # V\n",
    "Icc =  55.5 # A\n",
    "Pcc =  2500 # W"
   ]
  },
  {
   "cell_type": "code",
   "execution_count": 2,
   "metadata": {},
   "outputs": [],
   "source": [
    "import numpy as np"
   ]
  },
  {
   "cell_type": "code",
   "execution_count": 3,
   "metadata": {},
   "outputs": [],
   "source": [
    "I1N = SN/UN1   # Corriente nominal primaria\n",
    "I2N = SN/UN2   # Corriente nominal secundaria\n",
    "a = UN1/UN2    # Relación de transformación"
   ]
  },
  {
   "cell_type": "code",
   "execution_count": 4,
   "metadata": {},
   "outputs": [],
   "source": [
    "###########################\n",
    "# Ensayo de cortocircuito\n",
    "###########################\n",
    "Zeq1 = Vcc/Icc\n",
    "# Cálculo de phi_cc\n",
    "phi_cc = np.arccos(Pcc/(Icc*Vcc))\n",
    "\n",
    "# Parámetros longitudinales\n",
    "# Primario                        # Secundario\n",
    "Req1 = Zeq1*np.cos(phi_cc)   ;   Req2 = Req1/a**2\n",
    "Xeq1 = Zeq1*np.sin(phi_cc)   ;   Xeq2 = Xeq1/a**2"
   ]
  },
  {
   "cell_type": "code",
   "execution_count": 5,
   "metadata": {
    "jupyter": {
     "source_hidden": true
    }
   },
   "outputs": [
    {
     "name": "stdout",
     "output_type": "stream",
     "text": [
      "I1N = 55.5 A\n",
      "I2N = 2503.8 A\n",
      "a = 45.11\n",
      "Zeq1 = 3.486 Ohm\n",
      "phi_cc = 76.54°\n",
      "------------------------------\n",
      "Req1 = 0.812 Ohm    |    Req2 = 0.399 mOhm\n",
      "Xeq1 = 3.391 Ohm    |    Xeq2 = 1.666 mOhm\n"
     ]
    }
   ],
   "source": [
    "print('I1N = %.1f A'%I1N)\n",
    "print('I2N = %.1f A'%I2N)\n",
    "print('a = %.2f'%a)\n",
    "print('Zeq1 = %.3f Ohm'%Zeq1)\n",
    "print('phi_cc = %.2f°'%np.rad2deg(phi_cc))\n",
    "print('------------------------------')\n",
    "print('Req1 = %.3f Ohm    |    Req2 = %.3f mOhm'%(Req1,Req2*1000))\n",
    "print('Xeq1 = %.3f Ohm    |    Xeq2 = %.3f mOhm'%(Xeq1,Xeq2*1000))"
   ]
  },
  {
   "cell_type": "code",
   "execution_count": 6,
   "metadata": {},
   "outputs": [],
   "source": [
    "###################\n",
    "# Ensayo de vacío\n",
    "###################\n",
    "phi_o = np.arccos(Po/(Io*Vo))\n",
    "Ip = Io*np.cos(phi_o)\n",
    "Im = Io*np.sin(phi_o)\n",
    "\n",
    "# Secundario (BT)     # Primario (AT)\n",
    "Rp2 = Vo/Ip     ;     Rp1 = Rp2*a**2\n",
    "Xm2 = Vo/Im     ;     Xm1 = Xm2*a**2"
   ]
  },
  {
   "cell_type": "code",
   "execution_count": 7,
   "metadata": {
    "jupyter": {
     "source_hidden": true
    }
   },
   "outputs": [
    {
     "name": "stdout",
     "output_type": "stream",
     "text": [
      "phi_o = 84.90°\n",
      "Ip = 9.77 A\n",
      "Im = 109.56 A\n",
      "------------------------\n",
      "Rp2 = 13.61 Ohm    |    Rp1 = 27692.31 Ohm\n",
      "Xm2 = 1.21 Ohm     |    Xm1 = 2470.47 Ohm\n"
     ]
    }
   ],
   "source": [
    "print('phi_o = %.2f°'%np.rad2deg(phi_o))\n",
    "print('Ip = %.2f A'%Ip)\n",
    "print('Im = %.2f A'%Im)\n",
    "print('------------------------')\n",
    "print('Rp2 = %.2f Ohm    |    Rp1 = %.2f Ohm'%(Rp2,Rp1))\n",
    "print('Xm2 = %.2f Ohm     |    Xm1 = %.2f Ohm'%(Xm2,Xm1))"
   ]
  },
  {
   "cell_type": "code",
   "execution_count": 8,
   "metadata": {},
   "outputs": [],
   "source": [
    "##########################\n",
    "# Cálculos de regulación\n",
    "##########################\n",
    "fp = 0.7     ;  phi_2 = np.arccos(fp)\n",
    "I2 = fp*I2N  ;  V20 = Vo\n",
    "# Tensión de salida o aplicada a la carga:\n",
    "V2_ind = V20 - I2*(Req2*np.cos(phi_2) + Xeq2*np.sin(phi_2))\n",
    "V2_cap = V20 - I2*(Req2*np.cos(phi_2) - Xeq2*np.sin(phi_2))\n",
    "# Regulación\n",
    "reg_ind = (V20 - V2_ind)/V20*100\n",
    "reg_cap = (V20 - V2_cap)/V20*100"
   ]
  },
  {
   "cell_type": "code",
   "execution_count": 9,
   "metadata": {
    "jupyter": {
     "source_hidden": true
    }
   },
   "outputs": [
    {
     "name": "stdout",
     "output_type": "stream",
     "text": [
      "I2 = 1752.63 A\n",
      "phi_2 = 45.57°\n",
      "----------------------------\n",
      "V2_ind = 130.43 V\n",
      "reg_ind = 1.94 %\n",
      "----------------------------\n",
      "V2_cap = 134.60 V\n",
      "reg_cap = -1.20 %\n"
     ]
    }
   ],
   "source": [
    "print('I2 = %.2f A'%I2)\n",
    "print('phi_2 = %.2f°'%np.rad2deg(phi_2))\n",
    "print('----------------------------')\n",
    "print('V2_ind = %.2f V'%V2_ind)\n",
    "print('reg_ind = %.2f %%'%reg_ind)\n",
    "print('----------------------------')\n",
    "print('V2_cap = %.2f V'%V2_cap)\n",
    "print('reg_cap = %.2f %%'%reg_cap)"
   ]
  },
  {
   "cell_type": "code",
   "execution_count": 10,
   "metadata": {},
   "outputs": [],
   "source": [
    "###########################\n",
    "# Cálculos de rendimiento\n",
    "###########################\n",
    "fp = 0.8     ;  phi_2 = np.arccos(fp)\n",
    "I2 = I2N  ;  V20 = Vo\n",
    "Pcu = I2**2*Req2\n",
    "# Rendimiento para el caso inductivo:\n",
    "V2_ind = V20 - I2*(Req2*np.cos(phi_2) + Xeq2*np.sin(phi_2))\n",
    "n_ind = (V2_ind*I2*np.cos(phi_2))/(V2_ind*I2*np.cos(phi_2) + Pcu + Po) * 100\n",
    "# Rendimiento para el caso capacitivo:\n",
    "V2_cap = V20 - I2*(Req2*np.cos(phi_2) - Xeq2*np.sin(phi_2))\n",
    "n_cap = (V2_cap*I2*np.cos(phi_2))/(V2_cap*I2*np.cos(phi_2) + Pcu + Po) *100\n",
    "# Rendimiento máximo\n",
    "I2_max = np.sqrt(Po/Req2)\n",
    "Pcu_max = I2_max**2*Req2\n",
    "V2_max = V20 - I2_max*(Req2*1 + 0)\n",
    "n_max = (V2_max*I2_max*1)/(V2_max*I2_max*1 + Pcu_max + Po) * 100"
   ]
  },
  {
   "cell_type": "code",
   "execution_count": 11,
   "metadata": {
    "jupyter": {
     "source_hidden": true
    }
   },
   "outputs": [
    {
     "name": "stdout",
     "output_type": "stream",
     "text": [
      "phi_2 = 36.87°\n",
      "--------------------\n",
      "Caso inductivo:\n",
      "I2 = 2503.76 A\n",
      "V2_ind = 129.70 V\n",
      "Pcu = 2500.0 W\n",
      "n_ind = 98.56 %\n",
      "--------------------\n",
      "Caos capacitivo:\n",
      "I2 = 2503.76 A\n",
      "V2_cap = 134.70 V\n",
      "Pcu = 2500.0 W\n",
      "n_cap = 98.61 %\n",
      "--------------------\n",
      "Máximo:\n",
      "I2_max = 1805.49 A\n",
      "V2_max = 132.28 A\n",
      "Pcu_max = 1300.0 W\n",
      "n_max = 98.92 %\n"
     ]
    }
   ],
   "source": [
    "print('phi_2 = %.2f°'%np.rad2deg(phi_2))\n",
    "print('--------------------')\n",
    "print('Caso inductivo:')\n",
    "print('I2 = %.2f A'%I2)\n",
    "print('V2_ind = %.2f V'%V2_ind)\n",
    "print('Pcu = %.1f W'%Pcu)\n",
    "print('n_ind = %.2f %%'%n_ind)\n",
    "print('--------------------')\n",
    "print('Caos capacitivo:')\n",
    "print('I2 = %.2f A'%I2)\n",
    "print('V2_cap = %.2f V'%V2_cap)\n",
    "print('Pcu = %.1f W'%Pcu)\n",
    "print('n_cap = %.2f %%'%n_cap)\n",
    "print('--------------------')\n",
    "print('Máximo:')\n",
    "print('I2_max = %.2f A'%I2_max)\n",
    "print('V2_max = %.2f A'%V2_max)\n",
    "print('Pcu_max = %.1f W'%Pcu_max)\n",
    "print('n_max = %.2f %%'%n_max)"
   ]
  },
  {
   "cell_type": "code",
   "execution_count": 12,
   "metadata": {},
   "outputs": [],
   "source": [
    "%reset -s -f"
   ]
  }
 ],
 "metadata": {
  "kernelspec": {
   "display_name": "Python 3",
   "language": "python",
   "name": "python3"
  },
  "language_info": {
   "codemirror_mode": {
    "name": "ipython",
    "version": 3
   },
   "file_extension": ".py",
   "mimetype": "text/x-python",
   "name": "python",
   "nbconvert_exporter": "python",
   "pygments_lexer": "ipython3",
   "version": "3.7.6"
  }
 },
 "nbformat": 4,
 "nbformat_minor": 4
}
