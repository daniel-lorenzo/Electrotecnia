{
 "cells": [
  {
   "cell_type": "markdown",
   "id": "ecb63156-9ad3-4115-b75e-147bd2b38258",
   "metadata": {},
   "source": [
    "# TP N°5 - Circuitos trifásicos - ejercicios complementarios\n",
    "__U.N.L.Z. - Facultad de Ingeniería__       \n",
    "__Electrotecnia__      \n",
    "__Alumno:__ Daniel Antonio Lorenzo       "
   ]
  },
  {
   "cell_type": "markdown",
   "id": "c69cd6ae-f926-4ff8-8317-4034c2f00086",
   "metadata": {},
   "source": [
    "## Ejercicio A\n",
    "Se tiene una carga trifásica equilibrada $Z = 15+15 \\, \\Omega$, conectada en triángulo a una red de tensiones equilibradas y simétricas de $3 \\times 380 \\, \\mathrm{V}$.\n",
    "1. Cual es el valor de la corriente de fase y cuál es la de línea.\n",
    "2. Cuál es el valor de la tensión de fase y cuál es la de línea.\n",
    "3. Representar el diagrama fasorial de tensiones y corrientes.\n",
    "4. Calcular las potencias trifásicas."
   ]
  },
  {
   "cell_type": "markdown",
   "id": "8b11a27f-5515-42a5-8bae-a6f2c408e4fd",
   "metadata": {},
   "source": [
    "<img src=\"img/tp5ej4.png\">\n",
    "\n",
    "> Las impedancias de carga son iguales entre sí, (cargatrifásica equilibrada y simétrica perfecta)."
   ]
  },
  {
   "cell_type": "markdown",
   "id": "8d64468d-74f2-46ff-9e07-e79b34f5ca68",
   "metadata": {},
   "source": [
    "### Solución"
   ]
  },
  {
   "cell_type": "markdown",
   "id": "6e017851-415e-4bbc-b91b-ddf68b21341c",
   "metadata": {},
   "source": [
    "Tensiones de fase:\n",
    "\n",
    "$\\begin{array}{l}\n",
    "\\displaystyle E_{an} = \\frac{380}{\\sqrt{3}} \\angle 0^\\circ \\, \\mathrm{V} \\\\\n",
    "\\displaystyle E_{bn} = \\frac{380}{\\sqrt{3}} \\angle -120^\\circ \\, \\mathrm{V} \\\\\n",
    "\\displaystyle E_{cn} = \\frac{380}{\\sqrt{3}} \\angle 120^\\circ \\, \\mathrm{V} \\\\\n",
    "\\end{array}$"
   ]
  },
  {
   "cell_type": "markdown",
   "id": "f4c4b5a9-6528-4ac4-8aa1-c6ce4b586f2a",
   "metadata": {},
   "source": [
    "Tensiones de línea\n",
    "\n",
    "$\\begin{array}{l}\n",
    "E_{ab} = E_{an} - E_{bn} \\\\\n",
    "E_{bc} = E_{bn} - E_{cn} \\\\\n",
    "E_{ca} = E_{cn} - E_{an}\n",
    "\\end{array}$"
   ]
  },
  {
   "cell_type": "markdown",
   "id": "2b456da9-cc53-4bc6-93c6-57a62de72863",
   "metadata": {},
   "source": [
    "Caídas de tensión compuesta en las impedancias de carga\n",
    "\n",
    "$\\begin{array}{l}\n",
    "U_{ab} = E_{ab} \\\\\n",
    "U_{bc} = E_{bc} \\\\\n",
    "U_{ca} = E_{ca}\n",
    "\\end{array}$"
   ]
  },
  {
   "cell_type": "markdown",
   "id": "082f0f1d-6fd8-4268-b3e3-54926a5f3ea5",
   "metadata": {},
   "source": [
    "Impedancias de carga\n",
    "\n",
    "$\\begin{array}{l}\n",
    "Z_{ab} = 15+j15 \\, \\Omega \\\\\n",
    "Z_{bc} = Z_{ab} \\\\\n",
    "Z_{ca} = Z_{bc}\n",
    "\\end{array}$"
   ]
  },
  {
   "cell_type": "markdown",
   "id": "555a50c3-0b47-4d3d-9880-272a8a55bc6d",
   "metadata": {},
   "source": [
    "Cálculo de corriente de línea o compuesta\n",
    "\n",
    "$$ I_{ab} = \\frac{U_{ab}}{Z_{ab}} = 17,91 \\angle -15^\\circ \\, \\mathrm{A} $$"
   ]
  },
  {
   "cell_type": "markdown",
   "id": "24d666d9-5cd5-4c69-867d-19dc9ec880ba",
   "metadata": {},
   "source": [
    "$$ I_{bc} = \\frac{U_{bc}}{Z_{bc}} = 17,91 \\angle -135^\\circ \\, \\mathrm{A} $$"
   ]
  },
  {
   "cell_type": "markdown",
   "id": "cabe080a-0ca3-41a6-962b-d6785d53ac5d",
   "metadata": {},
   "source": [
    "$$ I_{ca} = \\frac{U_{ca}}{Z_{ca}} = 17,91 \\angle 105^\\circ \\, \\mathrm{A} $$"
   ]
  },
  {
   "cell_type": "markdown",
   "id": "ee5b3ee3-dc78-4dec-9697-58d6238041a7",
   "metadata": {},
   "source": [
    "Cálculo de corrientes de fase\n",
    "\n",
    "$\\begin{array}{l}\n",
    "I_r = I_{ab} - I_{ca} = 31,03 \\angle -45^\\circ \\, \\mathrm{A} \\\\\n",
    "I_s = I_{bc} - I_{ab} = 31,03 \\angle -165^\\circ \\, \\mathrm{A} \\\\\n",
    "I_t = I_{ca} - I_{bc} = 31,03 \\angle 75^\\circ \\, \\mathrm{A}\n",
    "\\end{array}$"
   ]
  },
  {
   "cell_type": "markdown",
   "id": "44ff9f51-b27d-46e4-b09c-99720d3a4863",
   "metadata": {},
   "source": [
    "$$I_a = I_r \\quad \\wedge \\quad I_b = I_s \\quad \\wedge \\quad I_c = I_t$$"
   ]
  },
  {
   "cell_type": "markdown",
   "id": "0eb4c699-8373-414b-b4b9-8cb2c9ae4389",
   "metadata": {},
   "source": [
    "Cálculo de potencias aparentes\n",
    "\n",
    "$\\begin{array}{l}\n",
    "S_{ab} = U_{ab} \\times I_{ab}^\\ast = 4813,33+j4813,33 \\, \\mathrm{VA} = (6807 \\angle 45^\\circ) \\, \\mathrm{VA} \\\\\n",
    "S_{bc} = U_{bc} \\times I_{bc}^\\ast = 4813,33+j4813,33 \\, \\mathrm{VA} = (6807 \\angle 45^\\circ) \\, \\mathrm{VA} \\\\\n",
    "S_{ca} = U_{ca} \\times I_{ca}^\\ast = 4813,33+j4813,33 \\, \\mathrm{VA} = (6807 \\angle 45^\\circ) \\, \\mathrm{VA}\n",
    "\\end{array}$"
   ]
  },
  {
   "cell_type": "markdown",
   "id": "32ea352b-9b25-43ff-9606-0743793cb0d8",
   "metadata": {},
   "source": [
    "Potencia activa:\n",
    "\n",
    "$\\begin{array}{l}\n",
    "P_a = |S_a| \\cos \\varphi = 4813,33 \\, \\mathrm{W} \\\\\n",
    "P_b = |S_b| \\cos \\varphi = 4813,33 \\, \\mathrm{W} \\\\\n",
    "P_c = |S_c| \\cos \\varphi = 4813,33 \\, \\mathrm{W}\n",
    "\\end{array}$"
   ]
  },
  {
   "cell_type": "markdown",
   "id": "6e81e244-2413-463b-a0e9-15a249adc1cc",
   "metadata": {},
   "source": [
    "Potencia reactiva:\n",
    "\n",
    "$\\begin{array}{l}\n",
    "Q_a = |S_a| \\sin \\varphi = 4813,33 \\, \\mathrm{VAr} \\\\\n",
    "Q_b = |S_b| \\sin \\varphi = 4813,33 \\, \\mathrm{VAr} \\\\\n",
    "Q_c = |S_c| \\sin \\varphi = 4813,33 \\, \\mathrm{VAr}\n",
    "\\end{array}$"
   ]
  },
  {
   "cell_type": "markdown",
   "id": "dd065ad2-578f-4d02-b1a7-feabf797fa37",
   "metadata": {},
   "source": [
    "Potencia trifásica aparente:\n",
    "\n",
    "$$ S_\\mathrm{trif} = S_a + S_b + S_c $$\n",
    "$$ S_\\mathrm{trif} = 14440 + j14440 \\, \\mathrm{VA} $$\n",
    "$$ S_\\mathrm{trif} = 20421 \\angle 45^\\circ \\, \\mathrm{VA} $$"
   ]
  },
  {
   "cell_type": "markdown",
   "id": "0bd1fdbb-3768-4fb8-a057-0b5e0288f8e3",
   "metadata": {},
   "source": [
    "\n",
    "Potencia trifásica activa:\n",
    "\n",
    "$$ P_\\mathrm{trif} = |S_\\mathrm{trif}| \\cos \\varphi_t = \\mathrm{real}(S_\\mathrm{trif}) $$\n",
    "$$ P_\\mathrm{trif} = 14440 \\, \\mathrm{W} $$"
   ]
  },
  {
   "cell_type": "markdown",
   "id": "c71db755-e165-4174-8efe-baee87669c68",
   "metadata": {},
   "source": [
    "Potencia trifásica reactiva:\n",
    "\n",
    "$$ Q_\\mathrm{trif} = |S_\\mathrm{trif}| \\sin  \\varphi_t = \\mathrm{imag}(S_\\mathrm{trif}) $$\n",
    "$$ Q_\\mathrm{trif} = 14440 \\, \\mathrm{VAr} $$"
   ]
  },
  {
   "cell_type": "markdown",
   "id": "1296afbb-4a29-4d55-a6e9-b86b49cbdbf6",
   "metadata": {},
   "source": [
    "<mark><strong>Resolución en Python 3</strong></mark>"
   ]
  },
  {
   "cell_type": "code",
   "execution_count": 1,
   "id": "0e9064b3-b0bd-4622-be32-b4c8ad670c75",
   "metadata": {},
   "outputs": [],
   "source": [
    "import numpy as np\n",
    "import cmath"
   ]
  },
  {
   "cell_type": "code",
   "execution_count": 2,
   "id": "31c74911-12a9-49c9-8e68-5978e42b05e0",
   "metadata": {},
   "outputs": [],
   "source": [
    "# Datos:\n",
    "# Tensiones de fase\n",
    "Ean = cmath.rect(380/np.sqrt(3) , np.deg2rad(0))\n",
    "Ebn = cmath.rect(380/np.sqrt(3) , np.deg2rad(-120))\n",
    "Ecn = cmath.rect(380/np.sqrt(3) , np.deg2rad(120))\n",
    "# Tensiones de línea\n",
    "Eab = Ean - Ebn\n",
    "Ebc = Ebn - Ecn\n",
    "Eca = Ecn - Ean\n",
    "# Caídas de tensión compuesta en las impedancias de cargas\n",
    "Uab = Eab\n",
    "Ubc = Ebc\n",
    "Uca = Eca\n",
    "# Impedancias de carga\n",
    "Zab = 15+15j # Ohm\n",
    "Zbc = Zab\n",
    "Zca = Zbc"
   ]
  },
  {
   "cell_type": "code",
   "execution_count": 3,
   "id": "07bccc73-8340-407c-a597-488aff5b1d9d",
   "metadata": {},
   "outputs": [],
   "source": [
    "# Cálculo de corriente de línea o compuesta\n",
    "Iab = Uab/Zab\n",
    "Ibc = Ubc/Zbc\n",
    "Ica = Uca/Zca\n",
    "# Cálculo de corrientes de fase\n",
    "Ir = Iab - Ica\n",
    "Is = Ibc - Iab\n",
    "It = Ica - Ibc\n",
    "Ia = Ir ; Ib = Is ; Ic = It\n",
    "# Cálculo de potencia aparente\n",
    "Sab = Uab*Iab.conjugate()\n",
    "Sbc = Ubc*Ibc.conjugate()\n",
    "Sca = Uca*Ica.conjugate()\n",
    "# Potencia activa\n",
    "Pab = Sab.real\n",
    "Pbc = Sbc.real\n",
    "Pca = Sca.real\n",
    "# Potencia reactiva\n",
    "Qab = Sab.imag\n",
    "Qbc = Sab.imag\n",
    "Qca = Sca.imag\n",
    "# Potencia trifásica aparente\n",
    "Strif = Sab + Sbc + Sca\n",
    "# Potencia trifásica activa\n",
    "Ptrif = Strif.real\n",
    "# Potencia trifásica reactiva\n",
    "Qtrif = Strif.imag"
   ]
  },
  {
   "cell_type": "code",
   "execution_count": 4,
   "id": "7605a8da-1e3a-458e-a368-db918550ae6e",
   "metadata": {
    "jupyter": {
     "source_hidden": true
    },
    "tags": []
   },
   "outputs": [
    {
     "name": "stdout",
     "output_type": "stream",
     "text": [
      "Resultados:\n",
      "\n",
      "1) ítem:\n",
      "Corrientes de línea o compuestas:\n",
      "Iab = (17.91 ∠ -15°) A\n",
      "Ibc = (17.91 ∠ -135°) A\n",
      "Ica = (17.91 ∠ 105°) A\n",
      "Corrientes de fase:\n",
      "Ir = Ia = (31.03 ∠ -45°) A\n",
      "Is = Ib = (31.03 ∠ -165°) A\n",
      "It = Ic = (31.03 ∠ 75°) A\n",
      "\n",
      "2) ítem:\n",
      "Tensiones de fase:\n",
      "Ean = Ua = (219.39 ∠ 0°) V\n",
      "Ebn = Ub = (219.39 ∠ -120°) V\n",
      "Ecn = Uc = (219.39 ∠ 120°) V\n",
      "Tensiones de línea o compuestas:\n",
      "Eab = Uab = (380.00 ∠ 30°) V\n",
      "Ebc = Ubc = (380.00 ∠ -90°) V\n",
      "Eca = Uca = (380.00 ∠ 150°) V\n",
      "\n",
      "Potencia aparente:\n",
      "|Sab| = 6807.1 VA\n",
      "|Sbc| = 6807.1 VA\n",
      "|Sca| = 6807.1 VA\n",
      "Sab = 4813.33+4813.33j VA = (6807.08 ∠ 45°) VA\n",
      "Sbc = 4813.33+4813.33j VA = (6807.08 ∠ 45°) VA\n",
      "Sca = 4813.33+4813.33j VA = (6807.08 ∠ 45°) VA\n",
      "Potencia activa:\n",
      "Pab = 4813.33 W\n",
      "Pbc = 4813.33 W\n",
      "Pca = 4813.33 W\n",
      "Potencia reactiva:\n",
      "Qab = 4813.33 VAr\n",
      "Qbc = 4813.33 VAr\n",
      "Qca = 4813.33 VAr\n",
      "\n",
      "4) ítem:\n",
      "Potencia trifásica aparente:\n",
      "|Strif| = 20421.24 VA\n",
      "Strif = 14440.00+14440.00j VA = (20421.24 ∠ 45°) VA\n",
      "Potencia trifásica activa:\n",
      "Ptrif = 14440 W\n",
      "Potencia trifásica reactiva:\n",
      "Qtrif = 14440 VAr\n"
     ]
    }
   ],
   "source": [
    "## Imprime resultados\n",
    "print('Resultados:')\n",
    "print()\n",
    "print('1) ítem:')\n",
    "print('Corrientes de línea o compuestas:')\n",
    "print('Iab = (%.2f ∠ %.0f°) A'%(abs(Iab) , np.rad2deg( cmath.phase(Iab) ) ))\n",
    "print('Ibc = (%.2f ∠ %.0f°) A'%(abs(Ibc) , np.rad2deg( cmath.phase(Ibc) ) ))\n",
    "print('Ica = (%.2f ∠ %.0f°) A'%(abs(Ica) , np.rad2deg( cmath.phase(Ica) ) ))\n",
    "print('Corrientes de fase:')\n",
    "print('Ir = Ia = (%.2f ∠ %.0f°) A'%(abs(Ir) , np.rad2deg( cmath.phase(Ir) ) ))\n",
    "print('Is = Ib = (%.2f ∠ %.0f°) A'%(abs(Is) , np.rad2deg( cmath.phase(Is) ) ))\n",
    "print('It = Ic = (%.2f ∠ %.0f°) A'%(abs(It) , np.rad2deg( cmath.phase(It) ) ))\n",
    "print()\n",
    "print('2) ítem:')\n",
    "print('Tensiones de fase:')\n",
    "print('Ean = Ua = (%.2f ∠ %.0f°) V'%(abs(Ean) , np.rad2deg( cmath.phase(Ean) ) ))\n",
    "print('Ebn = Ub = (%.2f ∠ %.0f°) V'%(abs(Ebn) , np.rad2deg( cmath.phase(Ebn) ) ))\n",
    "print('Ecn = Uc = (%.2f ∠ %.0f°) V'%(abs(Ecn) , np.rad2deg( cmath.phase(Ecn) ) ))\n",
    "print('Tensiones de línea o compuestas:')\n",
    "print('Eab = Uab = (%.2f ∠ %.0f°) V'%(abs(Eab) , np.rad2deg( cmath.phase(Eab) ) ))\n",
    "print('Ebc = Ubc = (%.2f ∠ %.0f°) V'%(abs(Ebc) , np.rad2deg( cmath.phase(Ebc) ) ))\n",
    "print('Eca = Uca = (%.2f ∠ %.0f°) V'%(abs(Eca) , np.rad2deg( cmath.phase(Eca) ) ))\n",
    "print()\n",
    "print('Potencia aparente:')\n",
    "print('|Sab| = %.1f VA'%abs(Sab))\n",
    "print('|Sbc| = %.1f VA'%abs(Sbc))\n",
    "print('|Sca| = %.1f VA'%abs(Sca))\n",
    "print('Sab = {:.2f} VA = (%.2f ∠ %.0f°) VA'.format(Sab)%(abs(Sab), np.rad2deg( cmath.phase(Sab) ) ))\n",
    "print('Sbc = {:.2f} VA = (%.2f ∠ %.0f°) VA'.format(Sbc)%(abs(Sbc), np.rad2deg( cmath.phase(Sbc) ) ))\n",
    "print('Sca = {:.2f} VA = (%.2f ∠ %.0f°) VA'.format(Sca)%(abs(Sca), np.rad2deg( cmath.phase(Sca) ) ))\n",
    "print('Potencia activa:')\n",
    "print('Pab = %.2f W'%Pab)\n",
    "print('Pbc = %.2f W'%Pbc)\n",
    "print('Pca = %.2f W'%Pca)\n",
    "print('Potencia reactiva:')\n",
    "print('Qab = %.2f VAr'%Qab)\n",
    "print('Qbc = %.2f VAr'%Qbc)\n",
    "print('Qca = %.2f VAr'%Qca)\n",
    "print()\n",
    "print('4) ítem:')\n",
    "print('Potencia trifásica aparente:')\n",
    "print('|Strif| = %.2f VA'%abs(Strif))\n",
    "print('Strif = {:.2f} VA = (%.2f ∠ %.0f°) VA'.format(Strif)%(abs(Strif) , np.rad2deg( cmath.phase(Sab) ) ))\n",
    "print('Potencia trifásica activa:')\n",
    "print('Ptrif = %.0f W'%Ptrif)\n",
    "print('Potencia trifásica reactiva:')\n",
    "print('Qtrif = %.0f VAr'%Qtrif)"
   ]
  },
  {
   "cell_type": "markdown",
   "id": "513cb68b-aaa6-40a3-8350-0fa809f547d5",
   "metadata": {},
   "source": [
    "__3) ítem:__"
   ]
  },
  {
   "cell_type": "markdown",
   "id": "9565baee-f04c-4915-9343-cc2be7218293",
   "metadata": {},
   "source": [
    "### Graficando con matplotlib"
   ]
  },
  {
   "cell_type": "code",
   "execution_count": 5,
   "id": "0ba032f5-c5c2-4823-aa37-b60e226884b6",
   "metadata": {},
   "outputs": [],
   "source": [
    "import matplotlib\n",
    "import matplotlib.pyplot as plt"
   ]
  },
  {
   "cell_type": "code",
   "execution_count": 6,
   "id": "db72baae-6e16-4e1d-915a-01343f35dcf7",
   "metadata": {
    "jupyter": {
     "source_hidden": true
    },
    "tags": []
   },
   "outputs": [
    {
     "data": {
      "image/png": "[encoded data removed]",
      "text/plain": [
       "<Figure size 504x504 with 1 Axes>"
      ]
     },
     "metadata": {
      "needs_background": "light"
     },
     "output_type": "display_data"
    },
    {
     "name": "stdout",
     "output_type": "stream",
     "text": [
      "Ia  = (31.03 < -45.00°) A\n",
      "Ib  = (31.03 < -165.00°) A\n",
      "Ic  = (31.03 < 75.00°) A\n",
      "Iab = (17.91 < -15.00°) A\n",
      "Ibc = (17.91 < -135.00°) A\n",
      "Ica = (17.91 < 105.00°) A\n",
      "Uab = (380.00 < 30.00°) V\n",
      "Ubc = (380.00 < -90.00°) V\n",
      "Uca = (380.00 < 150.00°) V\n"
     ]
    }
   ],
   "source": [
    "%matplotlib inline\n",
    "plt.figure(figsize=(7,7))\n",
    "ax = plt.gca()\n",
    "ax.quiver(0,0,Uab.real,Uab.imag,width=0.003,angles='xy',scale_units='xy',scale=1,color='blue')\n",
    "ax.quiver(0,0,Ubc.real,Ubc.imag,width=0.003,angles='xy',scale_units='xy',scale=1,color='blue')\n",
    "ax.quiver(0,0,Uca.real,Uca.imag,width=0.003,angles='xy',scale_units='xy',scale=1,color='blue')\n",
    "ax.quiver(0,0,Ean.real,Ean.imag,width=0.003,angles='xy',scale_units='xy',scale=1,color='green')\n",
    "ax.quiver(0,0,Ebn.real,Ebn.imag,width=0.003,angles='xy',scale_units='xy',scale=1,color='green')\n",
    "ax.quiver(0,0,Ecn.real,Ecn.imag,width=0.003,angles='xy',scale_units='xy',scale=1,color='green')\n",
    "ax.quiver(0,0,Ia.real,Ia.imag,angles='xy',scale_units='xy',scale=1,color='red')\n",
    "ax.quiver(0,0,Ib.real,Ib.imag,angles='xy',scale_units='xy',scale=1,color='red')\n",
    "ax.quiver(0,0,Ic.real,Ic.imag,angles='xy',scale_units='xy',scale=1,color='red')\n",
    "ax.quiver(0,0,Iab.real,Iab.imag,angles='xy',scale_units='xy',scale=1,color='yellow')\n",
    "ax.quiver(0,0,Ibc.real,Ibc.imag,angles='xy',scale_units='xy',scale=1,color='yellow')\n",
    "ax.quiver(0,0,Ica.real,Ica.imag,angles='xy',scale_units='xy',scale=1,color='yellow')\n",
    "plt.text(Ia.real, Ia.imag, r'$I_a$', fontsize=14, color='red')\n",
    "plt.text(Ib.real -5 , Ib.imag , r'$I_b$', fontsize=14, color='red')\n",
    "plt.text(Ic.real, Ic.imag, r'$I_c$', fontsize=14, color='red')\n",
    "plt.text(Iab.real, Iab.imag, r'$I_{ab}$', fontsize=18, fontweight='bold')\n",
    "plt.text(Ibc.real -5 , Ibc.imag, r'$I_{bc}$', fontsize=18, fontweight='bold')\n",
    "plt.text(Ica.real , Ica.imag, r'$I_{ca}$', fontsize=18, fontweight='bold')\n",
    "#plt.axhline(y=0, xmin=0.5, xmax=1, linestyle=\"--\")\n",
    "ax.set_aspect('equal')\n",
    "plt.title('Diagrama fasorial de corrientes en la carga', fontsize=16)\n",
    "plt.xlabel('Re (Eje real)',  fontsize=16)\n",
    "plt.ylabel('Im (Eje imaginario)',  fontsize=16)\n",
    "plt.grid(linestyle=\":\")\n",
    "ax.set_axisbelow(True)\n",
    "ax.set_xlim([-50,50])\n",
    "ax.set_ylim([-50,50])\n",
    "#plt.draw()\n",
    "plt.show()\n",
    "print('Ia  = (%.2f < %.2f°) A'%(abs(Ir), np.rad2deg( cmath.phase(Ir) ) ))\n",
    "print('Ib  = (%.2f < %.2f°) A'%(abs(Is), np.rad2deg( cmath.phase(Is) ) ))\n",
    "print('Ic  = (%.2f < %.2f°) A'%(abs(It), np.rad2deg( cmath.phase(It) ) ))\n",
    "print('Iab = (%.2f < %.2f°) A'%(abs(Iab), np.rad2deg( cmath.phase(Iab) ) ))\n",
    "print('Ibc = (%.2f < %.2f°) A'%(abs(Ibc), np.rad2deg( cmath.phase(Ibc) ) ))\n",
    "print('Ica = (%.2f < %.2f°) A'%(abs(Ica), np.rad2deg( cmath.phase(Ica) ) ))\n",
    "print('Uab = (%.2f < %.2f°) V'%(abs(Uab), np.rad2deg( cmath.phase(Uab) ) ))\n",
    "print('Ubc = (%.2f < %.2f°) V'%(abs(Ubc), np.rad2deg( cmath.phase(Ubc) ) ))\n",
    "print('Uca = (%.2f < %.2f°) V'%(abs(Uca), np.rad2deg( cmath.phase(Uca) ) ))"
   ]
  },
  {
   "cell_type": "code",
   "execution_count": 7,
   "id": "bfffeb93-27d5-4b0a-912f-ef4eceb10fb4",
   "metadata": {},
   "outputs": [],
   "source": [
    "%reset -s -f"
   ]
  }
 ],
 "metadata": {
  "kernelspec": {
   "display_name": "Python 3 (ipykernel)",
   "language": "python",
   "name": "python3"
  },
  "language_info": {
   "codemirror_mode": {
    "name": "ipython",
    "version": 3
   },
   "file_extension": ".py",
   "mimetype": "text/x-python",
   "name": "python",
   "nbconvert_exporter": "python",
   "pygments_lexer": "ipython3",
   "version": "3.9.12"
  }
 },
 "nbformat": 4,
 "nbformat_minor": 5
}
