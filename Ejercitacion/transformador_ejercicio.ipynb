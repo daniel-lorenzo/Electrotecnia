{
 "cells": [
  {
   "cell_type": "markdown",
   "metadata": {},
   "source": [
    "## Modelo de ejercicio de transformador monofásico de segundo parcial\n",
    "Se realizaron los ensayos de vacío y de cortocircuito sobre un transformador monofásico de 15kVA; 1000/500V, obteniéndose los siguientes resultados:"
   ]
  },
  {
   "cell_type": "markdown",
   "metadata": {},
   "source": [
    "Ensayo de vacío:\n",
    "* $P_0 = 135 \\, \\mathrm{W}$\n",
    "* $I_0 = 0,48 \\, \\mathrm{A}$\n",
    "* $V_0 = 500 \\, \\mathrm{V}$"
   ]
  },
  {
   "cell_type": "markdown",
   "metadata": {},
   "source": [
    "Ensayo de corto circuito:\n",
    "* $P_{CC} = 150 \\, \\mathrm{W}$ \n",
    "* $I_{CC} = 15 \\, \\mathrm{A}$ \n",
    "* $V_{CC} = 45 \\, \\mathrm{V}$"
   ]
  },
  {
   "cell_type": "markdown",
   "metadata": {},
   "source": [
    "1. Obtener los parámetros del circuito equivalente referido al lado de baja tensión modelo del transformador monofásico real.\n",
    "2. Calcular el rendimiento de este transformador, para una carga conectada en el lado de baja tensión, considerando:\n",
    "* La carga demanda un 80% de la corriente nominal\n",
    "* La carga tiene un $\\cos \\varphi = 0,8$ inductivo\n",
    "3. Calcular el rendimiento máximo de este transformador, para una carga conectada en el lado de baja tensión, considerando:\n",
    "* La carga tiene un $\\cos \\varphi = 0,9$ inductivo"
   ]
  },
  {
   "cell_type": "markdown",
   "metadata": {},
   "source": [
    "## Solución"
   ]
  },
  {
   "cell_type": "markdown",
   "metadata": {},
   "source": [
    "<img src=\"img/transf_ejmp.png\">\n",
    "\n",
    "> El objetivo es: hallar el valor de la magnitud de esos parámetros referidos al lado de baja tensión."
   ]
  },
  {
   "cell_type": "markdown",
   "metadata": {},
   "source": [
    "Resolución:\n",
    "* Analizar el ensayo de vacío para obtener el valor de la magnitud de los parámetros $X_{m2}$ y $R_{p2}$\n",
    "* Analizar el ensayo de corto circuito para obtener el valor de la magnitud de los parámetros $X_{eq2}$ y $R_{eq2}$"
   ]
  },
  {
   "cell_type": "code",
   "execution_count": 7,
   "metadata": {},
   "outputs": [],
   "source": [
    "import numpy as np\n",
    "import cmath"
   ]
  },
  {
   "cell_type": "code",
   "execution_count": 8,
   "metadata": {},
   "outputs": [],
   "source": [
    "# Datos:\n",
    "Po = 135  # W\n",
    "Io = 0.48 # A\n",
    "Vo = 500  # V\n",
    "SN = 15e3 # VA\n",
    "V1N = 1000 # V\n",
    "V2N = 500 # V\n",
    "fp = 0.8"
   ]
  },
  {
   "cell_type": "markdown",
   "metadata": {},
   "source": [
    "Cálculo de $\\varphi_0$\n",
    "$$ Po = I_0 V_0 \\cos \\varphi_0 $$"
   ]
  },
  {
   "cell_type": "markdown",
   "metadata": {},
   "source": [
    "Despejo $\\varphi_0$\n",
    "$$ \\varphi_0 = \\cos^{-1} \\frac{P_0}{I_0 V_0} $$"
   ]
  },
  {
   "cell_type": "code",
   "execution_count": 9,
   "metadata": {},
   "outputs": [],
   "source": [
    "# Cálculo de phi0\n",
    "phi0 = np.arccos(Po/(Io*Vo))\n",
    "# Cálculo de Io\n",
    "Io = cmath.rect(Io , phi0)"
   ]
  },
  {
   "cell_type": "code",
   "execution_count": 10,
   "metadata": {},
   "outputs": [],
   "source": [
    "# Cálculo de Ip\n",
    "Ip = Io.real\n",
    "# Cálculo de Im\n",
    "Im = Io.imag\n",
    "# Cálculo de Rp2\n",
    "Rp2 = V2N/Ip\n",
    "# Cálculo de Xm2\n",
    "Xm2 = V2N/Im"
   ]
  },
  {
   "cell_type": "code",
   "execution_count": 11,
   "metadata": {},
   "outputs": [],
   "source": [
    "# Datos:\n",
    "Pcc = 150 # W\n",
    "Icc = 15  # A\n",
    "Vcc = 45  # V"
   ]
  },
  {
   "cell_type": "markdown",
   "metadata": {},
   "source": [
    "1. Identifico el lado en que se realizó el ensayo:"
   ]
  },
  {
   "cell_type": "code",
   "execution_count": 13,
   "metadata": {},
   "outputs": [],
   "source": [
    "# Cálculo de I1N\n",
    "I1N = SN/V1N\n",
    "# Cálculo de I2N\n",
    "I2N = SN/V2N\n",
    "# Cálculo de la relación de transformación\n",
    "a = V1N/V2N\n",
    "# Cálculo de Zeq2\n",
    "Zeq2 = (Vcc/I1N)/a**2\n",
    "# Cálculo de phicc\n",
    "phicc = np.arccos(Pcc/(Vcc*Icc))\n",
    "# Cálculo de Req2\n",
    "Req2 = Zeq2 * np.cos(phicc)\n",
    "# Cálculo de Xeq2\n",
    "Xeq2 = Zeq2 * np.sin(phicc)\n",
    "Zeq2 = complex(Req2,Xeq2)\n",
    "# Cálculo de I2\n",
    "I2 = fp*I2N\n",
    "# Cálculo de Pcu\n",
    "Pcu = I2**2 * Req2\n",
    "# Cálculo de phi\n",
    "phi = np.arccos(fp)\n",
    "# Cálculo de V2\n",
    "V2 = V2N - I2*(Req2*fp + Xeq2*np.sin(phi))\n",
    "# Cálculo de rendimiento\n",
    "n = (V2*I2*fp)/(V2*I2*fp+Po+Pcu)"
   ]
  },
  {
   "cell_type": "code",
   "execution_count": 15,
   "metadata": {},
   "outputs": [
    {
     "name": "stdout",
     "output_type": "stream",
     "text": [
      "n = 0.976\n"
     ]
    }
   ],
   "source": [
    "print('n = %.3f'%n)"
   ]
  },
  {
   "cell_type": "code",
   "execution_count": null,
   "metadata": {},
   "outputs": [],
   "source": []
  }
 ],
 "metadata": {
  "kernelspec": {
   "display_name": "Python 3",
   "language": "python",
   "name": "python3"
  },
  "language_info": {
   "codemirror_mode": {
    "name": "ipython",
    "version": 3
   },
   "file_extension": ".py",
   "mimetype": "text/x-python",
   "name": "python",
   "nbconvert_exporter": "python",
   "pygments_lexer": "ipython3",
   "version": "3.7.6"
  }
 },
 "nbformat": 4,
 "nbformat_minor": 4
}
