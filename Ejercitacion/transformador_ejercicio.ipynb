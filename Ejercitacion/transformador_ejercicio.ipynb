{
 "cells": [
  {
   "cell_type": "markdown",
   "metadata": {},
   "source": [
    "## Modelo de ejercicio de transformador monofásico de segundo parcial\n",
    "Se realizaron los ensayos de vacío y de cortocircuito sobre un transformador monofásico de 15kVA; 1000/500V, obteniéndose los siguientes resultados:"
   ]
  },
  {
   "cell_type": "markdown",
   "metadata": {},
   "source": [
    "Ensayo de vacío:\n",
    "* $P_0 = 135 \\, \\mathrm{W}$\n",
    "* $I_0 = 0,48 \\, \\mathrm{A}$\n",
    "* $V_0 = 500 \\, \\mathrm{V}$"
   ]
  },
  {
   "cell_type": "markdown",
   "metadata": {},
   "source": [
    "Ensayo de corto circuito:\n",
    "* $P_{CC} = 150 \\, \\mathrm{W}$ \n",
    "* $I_{CC} = 15 \\, \\mathrm{A}$ \n",
    "* $V_{CC} = 45 \\, \\mathrm{V}$"
   ]
  },
  {
   "cell_type": "markdown",
   "metadata": {},
   "source": [
    "1. Obtener los parámetros del circuito equivalente referido al lado de baja tensión modelo del transformador monofásico real.\n",
    "2. Calcular el rendimiento de este transformador, para una carga conectada en el lado de baja tensión, considerando:\n",
    "* La carga demanda un 80% de la corriente nominal\n",
    "* La carga tiene un $\\cos \\varphi = 0,8$ inductivo\n",
    "3. Calcular el rendimiento máximo de este transformador, para una carga conectada en el lado de baja tensión, considerando:\n",
    "* La carga tiene un $\\cos \\varphi = 0,9$ inductivo"
   ]
  },
  {
   "cell_type": "markdown",
   "metadata": {},
   "source": [
    "## Solución"
   ]
  },
  {
   "cell_type": "code",
   "execution_count": 2,
   "metadata": {},
   "outputs": [],
   "source": [
    "import numpy as np\n",
    "import cmath"
   ]
  },
  {
   "cell_type": "code",
   "execution_count": 6,
   "metadata": {},
   "outputs": [],
   "source": [
    "# Datos:\n",
    "Po = 135  # W\n",
    "Io_mod = 0.48 # A\n",
    "Vo = 500  # V\n",
    "SN = 15e3 # VA\n",
    "V1N = 1000 # V\n",
    "V2N = 500 # V"
   ]
  },
  {
   "cell_type": "markdown",
   "metadata": {},
   "source": [
    "Cálculo de $\\varphi_0$\n",
    "$$ Po = I_0 V_0 \\cos \\varphi_0 $$"
   ]
  },
  {
   "cell_type": "markdown",
   "metadata": {},
   "source": [
    "Despejo $\\varphi_0$\n",
    "$$ \\varphi_0 = \\cos^{-1} \\frac{P_0}{I_0 V_0} $$"
   ]
  },
  {
   "cell_type": "code",
   "execution_count": 7,
   "metadata": {},
   "outputs": [],
   "source": [
    "phi0 = np.arccos(Po/(Io_mod*Vo))\n",
    "Io = cmath.rect(Io_mod , phi0)"
   ]
  },
  {
   "cell_type": "code",
   "execution_count": 8,
   "metadata": {},
   "outputs": [
    {
     "data": {
      "text/plain": [
       "(0.27+0.39686269665968854j)"
      ]
     },
     "execution_count": 8,
     "metadata": {},
     "output_type": "execute_result"
    }
   ],
   "source": [
    "Ip = Io.real\n",
    "Im = Io.imag\n",
    "Rp2 = V2N/Ip\n",
    "Xm2 = V2N/Im\n",
    "Zeq2 = complex(Rp2,Xm2)"
   ]
  },
  {
   "cell_type": "code",
   "execution_count": 9,
   "metadata": {},
   "outputs": [],
   "source": [
    "# Datos:\n",
    "Pcc = 150 # W\n",
    "Icc = 15 # A\n",
    "Vcc = 45 # V"
   ]
  },
  {
   "cell_type": "markdown",
   "metadata": {},
   "source": [
    "1. Identifico el lado en que se realizó el ensayo:"
   ]
  },
  {
   "cell_type": "code",
   "execution_count": null,
   "metadata": {},
   "outputs": [],
   "source": []
  }
 ],
 "metadata": {
  "kernelspec": {
   "display_name": "Python 3",
   "language": "python",
   "name": "python3"
  },
  "language_info": {
   "codemirror_mode": {
    "name": "ipython",
    "version": 3
   },
   "file_extension": ".py",
   "mimetype": "text/x-python",
   "name": "python",
   "nbconvert_exporter": "python",
   "pygments_lexer": "ipython3",
   "version": "3.7.6"
  }
 },
 "nbformat": 4,
 "nbformat_minor": 4
}
