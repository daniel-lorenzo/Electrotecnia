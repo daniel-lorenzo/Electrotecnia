{
 "cells": [
  {
   "cell_type": "markdown",
   "id": "ca2875f1-9b5a-4d87-90b4-22b4ae905380",
   "metadata": {},
   "source": [
    "# TP N°2 - Conplejos - Impedancia Compleja\n",
    "## Ejercicios de CA - Dominio de la frecuencia\n",
    "__UNLZ - Facultad de Ingeniería__       \n",
    "__Electrotecnia__      \n",
    "__Alumno:__ Daniel Antonio Lorenzo"
   ]
  },
  {
   "cell_type": "markdown",
   "id": "721faa50-8cae-4e5e-bfe5-f63e9f558347",
   "metadata": {
    "tags": []
   },
   "source": [
    "## Problema 7\n",
    "Un circuito de 2 ramas en paralelo con $R = 10 \\, \\Omega$ y una $C = 100 \\, \\mu \\mathrm{F}$, está alimentado por una $v(t) = 150 \\cos (5000 t - \\pi/6)$.\n",
    "1. Calcular las corrientes de las ramas y la de entrada.\n",
    "2. Representar el diagrama fasorial de tensión y corrientes."
   ]
  },
  {
   "cell_type": "markdown",
   "id": "cfdb136c-6a64-4b00-ae0d-b9622236f8e5",
   "metadata": {},
   "source": [
    "<img src=\"img/tp2e7.png\" alt=\"tp2e7.png\">"
   ]
  },
  {
   "cell_type": "markdown",
   "id": "9a37f3ad-1c84-4b29-957c-2a89137c53b8",
   "metadata": {},
   "source": [
    "### Solución\n",
    "Para hacer el análisis en el dominio de la frecuencia, primero se debe transformar el circuito en el dominio temporal."
   ]
  },
  {
   "cell_type": "markdown",
   "id": "666987f0-53bd-4514-9199-71e09351daaa",
   "metadata": {},
   "source": [
    "Tensión rms\n",
    "$$ v_\\mathrm{rms} = \\mathrm{ \\frac{150}{\\sqrt{2}} \\, V \\angle -30^\\circ = 106,07 \\, V \\angle -30^\\circ } $$"
   ]
  },
  {
   "cell_type": "markdown",
   "id": "4153e71a-907c-4a51-82f8-63685842baec",
   "metadata": {},
   "source": [
    "Impedancia del capacitor\n",
    "$$ Z_C = \\frac{1}{j \\omega C} = \\frac{1}{j (5000) (100 \\times 10^{-6})} = 2 \\, \\Omega \\angle -90^\\circ  $$"
   ]
  },
  {
   "cell_type": "markdown",
   "id": "bdf47213-3104-41d7-8fb1-4b35f5b5603a",
   "metadata": {},
   "source": [
    "Impedancia total:\n",
    "$$ Z_T = \\frac{Z_R \\cdot Z_C}{Z_R + Z_C} = 1,96 \\, \\Omega \\angle -78,69^\\circ $$"
   ]
  },
  {
   "cell_type": "markdown",
   "id": "d403479f-cbe0-4c85-a8aa-5cc33dd04632",
   "metadata": {},
   "source": [
    "Corrientes:\n",
    "$$ i_1 = \\frac{v_\\mathrm{rms}}{Z_T} = 54,08 \\, \\mathrm{A} \\angle 48,69^\\circ $$"
   ]
  },
  {
   "cell_type": "markdown",
   "id": "c798f388-3d1c-4c7a-a4a4-68ee1114026e",
   "metadata": {},
   "source": [
    "$$ i_2 = \\frac{v_\\mathrm{rms}}{Z_C} = 53,04 \\, \\mathrm{A} \\angle 60^\\circ $$"
   ]
  },
  {
   "cell_type": "markdown",
   "id": "68d2ed3e-2ca4-4a32-8f95-eafc5ac069de",
   "metadata": {},
   "source": [
    "$$ i_3 = \\frac{v_\\mathrm{rms}}{Z_R} = 10,61 \\, \\mathrm{A} \\angle -30^\\circ $$"
   ]
  },
  {
   "cell_type": "markdown",
   "id": "2be39863-ceee-475a-a0a4-2e737b723a45",
   "metadata": {},
   "source": [
    "Diagrama fasorial\n",
    "<img src=\"img/tp2e7-2.png\" alt=\"tp2e7-2.png\">"
   ]
  },
  {
   "cell_type": "markdown",
   "id": "1dcd8fed-1e4d-4d11-a00b-8dcd3eb678ed",
   "metadata": {},
   "source": [
    "### Usando python (opcional)"
   ]
  },
  {
   "cell_type": "code",
   "execution_count": 45,
   "id": "a7efbe3f-95f6-4904-aa20-abf79c2d1714",
   "metadata": {},
   "outputs": [],
   "source": [
    "import math, cmath"
   ]
  },
  {
   "cell_type": "code",
   "execution_count": 46,
   "id": "caf89d43-c873-4b53-bfd8-7a69c1eb5510",
   "metadata": {},
   "outputs": [],
   "source": [
    "v_rms = cmath.rect( 150/math.sqrt(2), -math.pi/6 ) # V\n",
    "w = 5000\n",
    "C = 100e-6 # F\n",
    "Z_C = complex(0,-1/(w*C) )\n",
    "Z_R =10 # Ohm\n",
    "\n",
    "Z_T = (Z_R*Z_C)/(Z_R + Z_C)\n",
    "\n",
    "i1 = v_rms/Z_T\n",
    "i2 = v_rms/Z_C\n",
    "i3 = v_rms/Z_R\n",
    "\n",
    "v_R = i3*Z_R\n",
    "v_C = i2*Z_C"
   ]
  },
  {
   "cell_type": "code",
   "execution_count": 47,
   "id": "9423e1a6-9bb9-4906-8c0e-6c9e4a51d9a5",
   "metadata": {},
   "outputs": [],
   "source": [
    "i1pol = cmath.polar(i1)\n",
    "i2pol = cmath.polar(i2)\n",
    "i3pol = cmath.polar(i3)\n",
    "v_Rpol = cmath.polar(v_R)\n",
    "v_Cpol = cmath.polar(v_C)"
   ]
  },
  {
   "cell_type": "code",
   "execution_count": 48,
   "id": "86d2dfd1-50ad-4221-8ef9-60cc89ff3769",
   "metadata": {},
   "outputs": [
    {
     "name": "stdout",
     "output_type": "stream",
     "text": [
      "Corrientes:\n",
      "i1 = (54.08 < 48.69°) A\n",
      "i2 = (53.03 < 60.00°) A\n",
      "i3 = (10.61 < -30.00°) A\n",
      "Tensiones:\n",
      "v_R = (106.07 < -30.00°) V\n",
      "v_C = (106.07 < -30.00°) V\n"
     ]
    }
   ],
   "source": [
    "print('Corrientes:')\n",
    "print('i1 = (%.2f < %.2f°) A'%(i1pol[0],i1pol[1]*180/math.pi))\n",
    "print('i2 = (%.2f < %.2f°) A'%(i2pol[0],i2pol[1]*180/math.pi))\n",
    "print('i3 = (%.2f < %.2f°) A'%(i3pol[0],i3pol[1]*180/math.pi))\n",
    "print('Tensiones:')\n",
    "print('v_R = (%.2f < %.2f°) V'%(v_Rpol[0],v_Rpol[1]*180/math.pi))\n",
    "print('v_C = (%.2f < %.2f°) V'%(v_Cpol[0],v_Cpol[1]*180/math.pi))"
   ]
  },
  {
   "cell_type": "code",
   "execution_count": 49,
   "id": "dc196dd4-ed32-4be6-a6c1-ccd53ae75e9c",
   "metadata": {},
   "outputs": [],
   "source": [
    "%reset -s -f"
   ]
  }
 ],
 "metadata": {
  "kernelspec": {
   "display_name": "Python 3 (ipykernel)",
   "language": "python",
   "name": "python3"
  },
  "language_info": {
   "codemirror_mode": {
    "name": "ipython",
    "version": 3
   },
   "file_extension": ".py",
   "mimetype": "text/x-python",
   "name": "python",
   "nbconvert_exporter": "python",
   "pygments_lexer": "ipython3",
   "version": "3.9.12"
  }
 },
 "nbformat": 4,
 "nbformat_minor": 5
}
