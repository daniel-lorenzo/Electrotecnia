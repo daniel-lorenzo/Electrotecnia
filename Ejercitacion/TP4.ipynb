{
 "cells": [
  {
   "cell_type": "markdown",
   "metadata": {},
   "source": [
    "# Ejercicios de clase - Potencia\n",
    "__UNLZ - Facultad de Ingeniería__       \n",
    "__Electrotecnia__      \n",
    "__Alumno:__ Daniel Antonio Lorenzo"
   ]
  },
  {
   "cell_type": "markdown",
   "metadata": {},
   "source": [
    "<a href=\"https://colab.research.google.com/github/daniel-lorenzo/Electrotecnia/blob/master/Ejercitacion/TP4.ipynb\"><img align=\"left\" src=\"https://colab.research.google.com/assets/colab-badge.svg\" alt=\"Open in Colab\" title=\"Open and Execute in Google Colaboratory\"></a>"
   ]
  },
  {
   "cell_type": "markdown",
   "metadata": {},
   "source": [
    "## Problema N°1\n",
    "Trazar el triángulo de potencias de un circuito cuya tensión es $v(t) = 150 \\sin (\\omega t + 10^\\circ) \\, \\mathrm{V}$ y cuya corriente es $i(t) = 5 \\sin (\\omega t - 50^\\circ) \\, \\mathrm{A}$"
   ]
  },
  {
   "cell_type": "markdown",
   "metadata": {},
   "source": [
    "### Solución\n",
    "__Datos:__$\\left\\{\n",
    "\\begin{array}{l}\n",
    "v(t) = 150 \\sin (\\omega t + 10^\\circ) \\, \\mathrm{V} \\\\\n",
    "i(t) = 5 \\sin (\\omega t - 50^\\circ) \\, \\mathrm{A}\n",
    "\\end{array}\n",
    "\\right.$"
   ]
  },
  {
   "cell_type": "markdown",
   "metadata": {},
   "source": [
    "__Dominio de la frecuencia__"
   ]
  },
  {
   "cell_type": "markdown",
   "metadata": {},
   "source": [
    "$$ V = \\frac{150}{\\sqrt{2}} e^{j10} \\, \\mathrm{V} \\qquad \\wedge \\qquad I = \\frac{5}{\\sqrt{2}} e^{-j50} \\, \\mathrm{A} $$"
   ]
  },
  {
   "cell_type": "markdown",
   "metadata": {},
   "source": [
    "__Cálculo de $Z$__"
   ]
  },
  {
   "cell_type": "markdown",
   "metadata": {},
   "source": [
    "$$ Z = \\frac{V}{I} = 30e^{j60} \\, \\Omega \\quad \\rightarrow \\quad Z = (15 + j25,98) \\, \\Omega $$"
   ]
  },
  {
   "cell_type": "markdown",
   "metadata": {},
   "source": [
    "__Siendo:__"
   ]
  },
  {
   "cell_type": "markdown",
   "metadata": {},
   "source": [
    "$\\left\\{\n",
    "\\begin{array}{l}\n",
    "V = \\frac{150}{\\sqrt{2}} e^{j10^\\circ} \\, \\mathrm{V} \\\\\n",
    "I = \\frac{5}{\\sqrt{2}} e^{-j50^\\circ} \\, \\mathrm{A} \\\\\n",
    "\\varphi = 60^\\circ\n",
    "\\end{array}\n",
    "\\right.$"
   ]
  },
  {
   "cell_type": "markdown",
   "metadata": {},
   "source": [
    "__Cálculo *(P, S, Q)*__"
   ]
  },
  {
   "cell_type": "markdown",
   "metadata": {},
   "source": [
    "$\\begin{array}{l}\n",
    "P = |V|  |I| \\cdot \\cos ( \\varphi ) = 187,5 \\, \\mathrm{W} \\\\\n",
    "Q = |V|  |I| \\cdot \\sin ( \\varphi) = 324,76 \\, \\mathrm{VAr} \\\\\n",
    "S = |V|  |I| = 375 \\, \\mathrm{VA}\\\\\n",
    "\\end{array}$"
   ]
  },
  {
   "cell_type": "code",
   "execution_count": 1,
   "metadata": {},
   "outputs": [],
   "source": [
    "import cmath, math"
   ]
  },
  {
   "cell_type": "code",
   "execution_count": 2,
   "metadata": {},
   "outputs": [],
   "source": [
    "# Datos:\n",
    "v = cmath.rect(150, math.radians(10) )\n",
    "i = cmath.rect(5 , math.radians(-50) )\n",
    "i_rms = i/math.sqrt(2)\n",
    "v_rms = v/math.sqrt(2)\n",
    "phi = math.radians(60)"
   ]
  },
  {
   "cell_type": "code",
   "execution_count": 3,
   "metadata": {},
   "outputs": [],
   "source": [
    "# Cálculo de Z\n",
    "Z = v_rms/i_rms\n",
    "# Cálculo de P, Q, S\n",
    "P = abs(v_rms)*abs(i_rms)*math.cos(phi)\n",
    "Q = abs(v_rms)*abs(i_rms)*math.sin(phi)\n",
    "S = abs(v_rms)*abs(i_rms)"
   ]
  },
  {
   "cell_type": "code",
   "execution_count": 4,
   "metadata": {},
   "outputs": [
    {
     "name": "stdout",
     "output_type": "stream",
     "text": [
      "Resultados:\n",
      "Z = 15.00+25.98j Ohm\n",
      "P = 187.50 W\n",
      "Q = 324.76 VAr\n",
      "S = 375.00 VA\n"
     ]
    }
   ],
   "source": [
    "print('Resultados:')\n",
    "print('Z = {:.2f} Ohm'.format(Z))\n",
    "print('P = %.2f W'%P)\n",
    "print('Q = %.2f VAr'%Q)\n",
    "print('S = %.2f VA'%S)"
   ]
  },
  {
   "cell_type": "code",
   "execution_count": 5,
   "metadata": {},
   "outputs": [],
   "source": [
    "import numpy as np\n",
    "import matplotlib.pyplot as plt"
   ]
  },
  {
   "cell_type": "markdown",
   "metadata": {},
   "source": [
    "### Graficando el triángulo de potencias"
   ]
  },
  {
   "cell_type": "code",
   "execution_count": 7,
   "metadata": {},
   "outputs": [
    {
     "data": {
      "image/png": "[encoded data removed]",
      "text/plain": [
       "<Figure size 504x504 with 1 Axes>"
      ]
     },
     "metadata": {
      "needs_background": "light"
     },
     "output_type": "display_data"
    }
   ],
   "source": [
    "%matplotlib inline\n",
    "plt.figure(figsize=(7,7))\n",
    "ax = plt.gca()\n",
    "ax.quiver(0,0,P,Q,angles='xy',scale_units='xy',scale=1,color='red')\n",
    "ax.quiver(0,0,P,0,angles='xy',scale_units='xy',scale=1,color='blue')\n",
    "ax.quiver(P,0,0,Q,angles='xy',scale_units='xy',scale=1,color='green')   \n",
    "plt.text(P - 30, Q - 10 , r'$\\vec S$', fontsize=18, color='red', fontweight='bold')\n",
    "plt.text(P - 25,  10, r'$\\vec P$', fontsize=18, color='blue', fontweight='bold')\n",
    "plt.text(P + 5, Q - 10, r'$\\vec Q$', fontsize=18, color='green', fontweight='bold')\n",
    "plt.text(50, 30, r'$\\varphi$', fontsize=18, fontweight='bold')\n",
    "ax.set_xlim([0,400])\n",
    "ax.set_ylim([-50,350])\n",
    "ax.set_aspect('equal')\n",
    "plt.title('Triángulo de potencias', fontsize=18)\n",
    "plt.xlabel('Re (Eje real)',  fontsize=16)\n",
    "plt.ylabel('Im (Eje imaginario)',  fontsize=16)\n",
    "plt.grid(linestyle=':')\n",
    "ax.set_axisbelow(True)\n",
    "plt.draw()\n",
    "plt.show()"
   ]
  },
  {
   "cell_type": "code",
   "execution_count": 8,
   "metadata": {},
   "outputs": [],
   "source": [
    "%reset -s -f"
   ]
  },
  {
   "cell_type": "markdown",
   "metadata": {},
   "source": [
    "## Problema N°2\n",
    "La potencia consumida por un circuito serie de dos elementos vale 940 W, siendo el factor de potencia 0,707 en adelanto.\n",
    "\n",
    "Hallar los componentes del circuito, sabiendo que la tensión aplicada es $v(t) = 99 \\sin (6000 t + 30^\\circ) \\, \\mathrm{V}$"
   ]
  },
  {
   "cell_type": "markdown",
   "metadata": {},
   "source": [
    "### Solución\n",
    "__Datos:__\n",
    "$\\left\\{\n",
    "\\begin{array}{l}\n",
    "P = 940 \\, \\mathrm{W} \\\\\n",
    "v(t) = 99 \\sin (6000t + 30^\\circ) \\\\\n",
    "\\cos ( \\varphi ) = 0,707 \\quad \\rightarrow \\quad \\varphi = \\arccos (0,707) = 45^\\circ\n",
    "\\end{array}\n",
    "\\right.$"
   ]
  },
  {
   "cell_type": "markdown",
   "metadata": {},
   "source": [
    "__Dominio de la frecuencia:__\n",
    "$$ V_\\mathrm{rms} = \\frac{99}{\\sqrt{2}} e^{j30^\\circ} \\, \\mathrm{V} $$"
   ]
  },
  {
   "cell_type": "markdown",
   "metadata": {},
   "source": [
    "__Cálculo de I__\n",
    "$$ P = V_\\mathrm{rms} I_\\mathrm{rms} \\cos (\\varphi) $$"
   ]
  },
  {
   "cell_type": "markdown",
   "metadata": {},
   "source": [
    "$$ I_\\mathrm{rms} = \\frac{P}{V_\\mathrm{rms} \\cos( \\varphi ) } $$"
   ]
  },
  {
   "cell_type": "code",
   "execution_count": 9,
   "metadata": {},
   "outputs": [],
   "source": [
    "import cmath, math"
   ]
  },
  {
   "cell_type": "code",
   "execution_count": 10,
   "metadata": {},
   "outputs": [],
   "source": [
    "# Datos:\n",
    "P = 940 # W\n",
    "phi = math.radians(45)\n",
    "theta_v = math.radians(30)\n",
    "theta_i = phi + theta_v\n",
    "v = cmath.rect(99 , theta_v )\n",
    "V_rms = v/math.sqrt(2)"
   ]
  },
  {
   "cell_type": "code",
   "execution_count": 11,
   "metadata": {},
   "outputs": [],
   "source": [
    "I_rms = cmath.rect( P/(abs(V_rms) * math.cos(phi)) , theta_i )"
   ]
  },
  {
   "cell_type": "code",
   "execution_count": 12,
   "metadata": {},
   "outputs": [
    {
     "name": "stdout",
     "output_type": "stream",
     "text": [
      "I_rms = (18.99 < 75.00°) A\n"
     ]
    }
   ],
   "source": [
    "print('I_rms = (%.2f < %.2f°) A'%( abs(I_rms) , math.degrees( cmath.phase(I_rms) )  ) )"
   ]
  },
  {
   "cell_type": "markdown",
   "metadata": {},
   "source": [
    "__Cálculo $Z$__\n",
    "$$ Z = \\frac{V_\\mathrm{rms}}{I_\\mathrm{rms}} $$"
   ]
  },
  {
   "cell_type": "code",
   "execution_count": 13,
   "metadata": {},
   "outputs": [],
   "source": [
    "Z = V_rms/I_rms"
   ]
  },
  {
   "cell_type": "code",
   "execution_count": 14,
   "metadata": {},
   "outputs": [
    {
     "name": "stdout",
     "output_type": "stream",
     "text": [
      "Z = (3.69 < -45.00°) Ohm\n",
      "Z = 2.61-2.61j Ohm\n"
     ]
    }
   ],
   "source": [
    "print('Z = (%.2f < %.2f°) Ohm'%(abs(Z) , math.degrees( cmath.phase(Z) ) ))\n",
    "print('Z = {:.2f} Ohm'.format(Z))"
   ]
  },
  {
   "cell_type": "code",
   "execution_count": 15,
   "metadata": {},
   "outputs": [],
   "source": [
    "# Cálculo de P, Q, S\n",
    "P = abs(V_rms)*abs(I_rms)*math.cos(phi)\n",
    "Q = abs(V_rms)*abs(I_rms)*math.sin(phi)\n",
    "S = abs(V_rms)*abs(I_rms)"
   ]
  },
  {
   "cell_type": "code",
   "execution_count": 16,
   "metadata": {},
   "outputs": [
    {
     "name": "stdout",
     "output_type": "stream",
     "text": [
      "Resultados:\n",
      "Z = 2.61-2.61j Ohm\n",
      "P = 940.00 W\n",
      "Q = 940.00 VAr\n",
      "S = 1329.36 VA\n"
     ]
    }
   ],
   "source": [
    "print('Resultados:')\n",
    "print('Z = {:.2f} Ohm'.format(Z))\n",
    "print('P = %.2f W'%P)\n",
    "print('Q = %.2f VAr'%Q)\n",
    "print('S = %.2f VA'%S)"
   ]
  },
  {
   "cell_type": "code",
   "execution_count": 17,
   "metadata": {},
   "outputs": [],
   "source": [
    "import numpy as np\n",
    "import matplotlib.pyplot as plt"
   ]
  },
  {
   "cell_type": "code",
   "execution_count": 18,
   "metadata": {},
   "outputs": [
    {
     "data": {
      "image/png": "[encoded data removed]",
      "text/plain": [
       "<Figure size 504x504 with 1 Axes>"
      ]
     },
     "metadata": {
      "needs_background": "light"
     },
     "output_type": "display_data"
    }
   ],
   "source": [
    "%matplotlib inline\n",
    "plt.figure(figsize=(7,7))\n",
    "ax = plt.gca()\n",
    "ax.quiver(0,0,P,Q,angles='xy',scale_units='xy',scale=1,color='red')\n",
    "ax.quiver(0,0,P,0,angles='xy',scale_units='xy',scale=1,color='blue')\n",
    "ax.quiver(P,0,0,Q,angles='xy',scale_units='xy',scale=1,color='green') \n",
    "plt.text(P - 75, Q - 10 , r'$\\vec S$', fontsize=18, color='red', fontweight='bold')\n",
    "plt.text(P - 75,  10, r'$\\vec P$', fontsize=18, color='blue', fontweight='bold')\n",
    "plt.text(P + 2, Q - 10, r'$\\vec Q$', fontsize=18, color='green', fontweight='bold')\n",
    "plt.text(100, 40, r'$\\varphi$', fontsize=18, fontweight='bold')\n",
    "ax.set_xlim([0,1200])\n",
    "ax.set_ylim([-50,1200])\n",
    "ax.set_aspect('equal')\n",
    "plt.title('Triángulo de potencias', fontsize=18)\n",
    "plt.xlabel('Re (Eje real)',  fontsize=16)\n",
    "plt.ylabel('Im (Eje imaginario)',  fontsize=16)\n",
    "plt.grid(linestyle=\":\")\n",
    "ax.set_axisbelow(True)\n",
    "plt.draw()\n",
    "plt.show()"
   ]
  },
  {
   "cell_type": "code",
   "execution_count": 19,
   "metadata": {},
   "outputs": [],
   "source": [
    "%reset -s -f"
   ]
  },
  {
   "cell_type": "markdown",
   "metadata": {},
   "source": [
    "## Problema N°3\n",
    "Determinar el triángulo de potencias total del circuito paralelo de la figura, sabiendo que la potencia disipada en la resistencia de $2 \\, \\Omega$ es $20 \\, \\mathrm{W}$."
   ]
  },
  {
   "cell_type": "markdown",
   "metadata": {},
   "source": [
    "<img src=\"img/tp4e3-1.png\" alt=\"tp4e3-1.png\">"
   ]
  },
  {
   "cell_type": "markdown",
   "metadata": {},
   "source": [
    "### Solución\n",
    "__Cálculo $I_1$__\n",
    "$$ P_1 = I_1^2 R_1 \\qquad \\rightarrow \\qquad I_1 = \\sqrt{ \\frac{P_1}{R_1} } $$"
   ]
  },
  {
   "cell_type": "code",
   "execution_count": 20,
   "metadata": {},
   "outputs": [],
   "source": [
    "import cmath, math"
   ]
  },
  {
   "cell_type": "code",
   "execution_count": 21,
   "metadata": {},
   "outputs": [],
   "source": [
    "# Datos:\n",
    "P1 = 20 # W\n",
    "R1 = 2 # Ohm\n",
    "Z1 = 2 - 5j # Ohm\n",
    "Z2 = 1 + 1j # Ohm"
   ]
  },
  {
   "cell_type": "code",
   "execution_count": 22,
   "metadata": {},
   "outputs": [],
   "source": [
    "I1 = cmath.rect( math.sqrt( P1/R1 ) , - cmath.phase(Z1) )\n",
    "U = I1 * Z1\n",
    "I2 = U/Z2\n",
    "It = I1 + I2\n",
    "# Cálculo de St, Pt, Qt\n",
    "St = abs(U)*abs(It)\n",
    "Pt = abs(U)*abs(It)*math.cos( cmath.phase(It) )\n",
    "Qt = abs(U)*abs(It)*math.sin( cmath.phase(It) ) "
   ]
  },
  {
   "cell_type": "code",
   "execution_count": 23,
   "metadata": {},
   "outputs": [
    {
     "name": "stdout",
     "output_type": "stream",
     "text": [
      "Resultados:\n",
      "------------------------------\n",
      "U = (17.03 < -0.00°) V\n",
      "------------------------------\n",
      "I1 = (3.16 < 68.20°) A\n",
      "I2 = (12.04 < -45.00°) A\n",
      "It = (11.18 < -29.93°) A\n",
      "------------------------------\n",
      "I1 = 1.17+2.94j A\n",
      "I2 = 8.51-8.51j A\n",
      "It = 9.69-5.58j A\n",
      "------------------------------\n",
      "St = 190.39 VA\n",
      "Pt = 165.00 W\n",
      "Qt = -95.00 VAr\n"
     ]
    }
   ],
   "source": [
    "print('Resultados:')\n",
    "print('------------------------------')\n",
    "print('U = (%.2f < %.2f°) V'%(abs(U) , math.degrees( cmath.phase(U) ) ) )\n",
    "print('------------------------------')\n",
    "print('I1 = (%.2f < %.2f°) A'%(abs(I1) , math.degrees( cmath.phase(I1) ) ) )\n",
    "print('I2 = (%.2f < %.2f°) A'%(abs(I2) , math.degrees( cmath.phase(I2) ) ) )\n",
    "print('It = (%.2f < %.2f°) A'%(abs(It) , math.degrees( cmath.phase(It) ) ) )\n",
    "print('------------------------------')\n",
    "print('I1 = {:.2f} A'.format(I1))\n",
    "print('I2 = {:.2f} A'.format(I2))\n",
    "print('It = {:.2f} A'.format(It))\n",
    "print('------------------------------')\n",
    "print('St = %.2f VA'%St)\n",
    "print('Pt = %.2f W'%Pt)\n",
    "print('Qt = %.2f VAr'%Qt)"
   ]
  },
  {
   "cell_type": "code",
   "execution_count": 24,
   "metadata": {},
   "outputs": [],
   "source": [
    "import numpy as np\n",
    "import matplotlib.pyplot as plt"
   ]
  },
  {
   "cell_type": "code",
   "execution_count": 25,
   "metadata": {},
   "outputs": [
    {
     "data": {
      "image/png": "[encoded data removed]",
      "text/plain": [
       "<Figure size 504x504 with 1 Axes>"
      ]
     },
     "metadata": {
      "needs_background": "light"
     },
     "output_type": "display_data"
    }
   ],
   "source": [
    "%matplotlib inline\n",
    "plt.figure(figsize=(7,7))\n",
    "ax = plt.gca()\n",
    "ax.quiver(0,0,Pt,Qt,angles='xy',scale_units='xy',scale=1,color='red')\n",
    "ax.quiver(0,0,Pt,0,angles='xy',scale_units='xy',scale=1,color='blue')\n",
    "ax.quiver(Pt,0,0,Qt,angles='xy',scale_units='xy',scale=1,color='green')   \n",
    "plt.text(Pt - 25, Qt - 10 , r'$\\vec S_t$', fontsize=18, color='red', fontweight='bold')\n",
    "plt.text(Pt - 20,  10, r'$\\vec P_t$', fontsize=18, color='blue', fontweight='bold')\n",
    "plt.text(Pt + 2, Qt - 10, r'$\\vec Q_t$', fontsize=18, color='green', fontweight='bold')\n",
    "plt.text(50, -15, r'$\\varphi$', fontsize=18, fontweight='bold')\n",
    "ax.set_xlim([0,200])\n",
    "ax.set_ylim([-150,50])\n",
    "ax.set_aspect('equal')\n",
    "plt.title('Triángulo de potencias', fontsize=18)\n",
    "plt.xlabel('Re (Eje real)',  fontsize=16)\n",
    "plt.ylabel('Im (Eje imaginario)',  fontsize=16)\n",
    "plt.grid(linestyle=\":\")\n",
    "ax.set_axisbelow(True)\n",
    "plt.draw()\n",
    "plt.show()"
   ]
  },
  {
   "cell_type": "code",
   "execution_count": 26,
   "metadata": {},
   "outputs": [],
   "source": [
    "%reset -s -f"
   ]
  },
  {
   "cell_type": "markdown",
   "metadata": {},
   "source": [
    "## Problema N°4\n",
    "Si se conoce que, para una tensión alterna de U=380 V, la potencia activa total es P=400 W y que la potencia inductiva total es Q=870 VAr.\n",
    "1. Hallar el valor de la potencia reactiva de capacitores necesarios a conectar en paralelo, para lograr un factor de potencia, visto de la fuente, sea igual a 0,86 inductivo.\n",
    "2. Representar los triángulos de potencia, antes y después de la compensación.\n",
    "3. Determinar el valor de la capacitancia a incorporar, si la frecuencia de red es 50 Hz."
   ]
  },
  {
   "cell_type": "markdown",
   "metadata": {},
   "source": [
    "### Solución\n",
    "__Datos:__\n",
    "$\\left\\{\n",
    "\\begin{array}{l}\n",
    "U = 380 \\, \\mathrm{V} \\\\\n",
    "P = 400 \\, \\mathrm{W} \\\\\n",
    "Q = 870 \\, \\mathrm{VAr}\n",
    "\\end{array}\n",
    "\\right.$"
   ]
  },
  {
   "cell_type": "markdown",
   "metadata": {},
   "source": [
    "1) ítem"
   ]
  },
  {
   "cell_type": "markdown",
   "metadata": {},
   "source": [
    "__Cálculo de $\\varphi_1$__\n",
    "$$ \\tan \\varphi_1 = \\frac{Q_1}{P} \\qquad \\rightarrow \\qquad \\varphi_1 =  \\arctan \\mathrm{ \\frac{870 \\, VAr}{400 \\, W} = 65,31^\\circ } $$"
   ]
  },
  {
   "cell_type": "markdown",
   "metadata": {},
   "source": [
    "__Cálculo $I_1$__\n",
    "$$ P_1 = U I_1 \\cos( \\varphi_1 ) $$"
   ]
  },
  {
   "cell_type": "markdown",
   "metadata": {},
   "source": [
    "$$ I_1 = \\frac{P_1}{U \\cos( \\varphi_1 )} = 2,52 \\, \\mathrm{A} $$"
   ]
  },
  {
   "cell_type": "markdown",
   "metadata": {},
   "source": [
    "__Cálculo de $I_2$__\n",
    "$$ P_1 = P_2 \\quad \\rightarrow \\quad U I_1 \\cos (\\varphi_1) = U I_2 \\cos( \\varphi_2 ) $$"
   ]
  },
  {
   "cell_type": "markdown",
   "metadata": {},
   "source": [
    "$$ I_2 = I_1 {\\cos \\varphi_1 \\over \\cos \\varphi_2  } = I_1 { \\cos \\varphi_1  \\over 0,86 } = 1,22 \\, \\mathrm{A} $$"
   ]
  },
  {
   "cell_type": "markdown",
   "metadata": {},
   "source": [
    "__Cálculo de $\\varphi_2$__\n",
    "$$ \\varphi_2 = \\arccos 0,86 = 30,68^\\circ $$"
   ]
  },
  {
   "cell_type": "markdown",
   "metadata": {},
   "source": [
    "__Cálculo de $Q_2$__\n",
    "$$ Q_2 = U I_2 \\sin \\varphi_2 = 237,35 \\, \\mathrm{VAr} $$"
   ]
  },
  {
   "cell_type": "markdown",
   "metadata": {},
   "source": [
    "__Cálculo de $Q_C$__\n",
    "$$ Q_C = Q_1 - Q_2 = 632,65 \\, \\mathrm{VAr} $$"
   ]
  },
  {
   "cell_type": "markdown",
   "metadata": {},
   "source": [
    "2) ítem"
   ]
  },
  {
   "cell_type": "markdown",
   "metadata": {},
   "source": [
    "__Cálculo de $S_1$__"
   ]
  },
  {
   "cell_type": "markdown",
   "metadata": {},
   "source": [
    "$$ S_1 = \\sqrt{P_1^2 + Q_1^2} = 957,55 \\, \\mathrm{VA} $$"
   ]
  },
  {
   "cell_type": "markdown",
   "metadata": {},
   "source": [
    "__Cálculo de $S_2$__\n",
    "\n",
    "$P_1 = P_2$\n",
    "$$ S_2 = \\sqrt{P^2_2 + Q^2_2} = 465,12 \\, \\mathrm{VA}$$"
   ]
  },
  {
   "cell_type": "markdown",
   "metadata": {},
   "source": [
    "3) ítem"
   ]
  },
  {
   "cell_type": "markdown",
   "metadata": {},
   "source": [
    "__Cálculo de $Q_C$__\n",
    "$$ Q_C = \\frac{U^2}{X_C} = \\frac{U^2}{ 1 \\over \\omega C } $$"
   ]
  },
  {
   "cell_type": "markdown",
   "metadata": {},
   "source": [
    "Entonces\n",
    "$$ C = \\frac{Q_C}{2 \\pi f U^2} = 13,9 \\, \\mu \\mathrm{F} $$"
   ]
  },
  {
   "cell_type": "code",
   "execution_count": 27,
   "metadata": {},
   "outputs": [],
   "source": [
    "# Datos:\n",
    "U = 380 # V\n",
    "P1 = 400 # W\n",
    "Q1 = 870 # VAr\n",
    "fp = 0.86 # factor de potencia\n",
    "f = 50 # Hz"
   ]
  },
  {
   "cell_type": "code",
   "execution_count": 28,
   "metadata": {},
   "outputs": [],
   "source": [
    "import math, cmath"
   ]
  },
  {
   "cell_type": "code",
   "execution_count": 30,
   "metadata": {},
   "outputs": [],
   "source": [
    "## ítem 1\n",
    "# Cálculo de phi\n",
    "phi1 = math.atan(Q1/P1)\n",
    "# Cálculo de I1\n",
    "I1 = P1/(U*math.cos( phi1 ) )\n",
    "# Cálculo de I2\n",
    "I2 = I1 * math.cos(phi1)/fp\n",
    "# Cálculo de phi2\n",
    "phi2 = math.acos(fp)\n",
    "# Cálculo de Q2\n",
    "Q2 = U*I2*math.sin(phi2)\n",
    "# Cálculo de Qc\n",
    "Qc = Q1 - Q2"
   ]
  },
  {
   "cell_type": "code",
   "execution_count": 31,
   "metadata": {},
   "outputs": [],
   "source": [
    "## ítem 2\n",
    "# Cálculo de S1\n",
    "S1 = math.sqrt(P1**2 + Q1**2)\n",
    "# Cálculo de S2\n",
    "P2 = P1\n",
    "S2 = math.sqrt(P2**2 + Q2**2)"
   ]
  },
  {
   "cell_type": "code",
   "execution_count": 32,
   "metadata": {},
   "outputs": [],
   "source": [
    "## ítem 3\n",
    "C = Qc/(2*math.pi*f*U**2)"
   ]
  },
  {
   "cell_type": "code",
   "execution_count": 33,
   "metadata": {},
   "outputs": [
    {
     "name": "stdout",
     "output_type": "stream",
     "text": [
      "Resultados:\n",
      "I1 = 2.52 A\n",
      "I2 = 1.22 A\n",
      "ítem 1\n",
      "Qc = 632.65 VAr\n",
      "ítem 2\n",
      "S1 = 957.55 VA\n",
      "S2 = 465.12 VA\n",
      "ítem 3\n",
      "C = 13.95 uF\n"
     ]
    }
   ],
   "source": [
    "print('Resultados:')\n",
    "print('I1 = %.2f A'%I1)\n",
    "print('I2 = %.2f A'%I2)\n",
    "\n",
    "print('ítem 1')\n",
    "print('Qc = %.2f VAr'%Qc)\n",
    "print('ítem 2')\n",
    "print('S1 = %.2f VA'%S1)\n",
    "print('S2 = %.2f VA'%S2)\n",
    "print('ítem 3')\n",
    "print('C = %.2f uF'%(C*1e6) )"
   ]
  },
  {
   "cell_type": "code",
   "execution_count": 34,
   "metadata": {},
   "outputs": [],
   "source": [
    "import numpy as np\n",
    "import matplotlib.pyplot as plt"
   ]
  },
  {
   "cell_type": "code",
   "execution_count": 36,
   "metadata": {},
   "outputs": [
    {
     "data": {
      "image/png": "[encoded data removed]",
      "text/plain": [
       "<Figure size 504x504 with 1 Axes>"
      ]
     },
     "metadata": {
      "needs_background": "light"
     },
     "output_type": "display_data"
    }
   ],
   "source": [
    "%matplotlib inline\n",
    "plt.figure(figsize=(7,7))\n",
    "ax = plt.gca()\n",
    "ax.quiver(0,0,P1,Q1,angles='xy',scale_units='xy',scale=1,color='red')\n",
    "ax.quiver(0,0,P2,Q2,angles='xy',scale_units='xy',scale=1,color='orange')\n",
    "ax.quiver(0,0,P1,0,angles='xy',scale_units='xy',scale=1,color='blue')\n",
    "ax.quiver(P1,0,0,Q1,angles='xy',scale_units='xy',scale=1,color='green')\n",
    "ax.quiver(P2 + 10,0,0,Q2,angles='xy',scale_units='xy',scale=1,color='orange')  \n",
    "plt.text(P1 - 100, Q1 - 10 , r'$\\vec S_1$', fontsize=18, color='red', fontweight='bold')\n",
    "plt.text(P2 - 130, Q2 - 10 , r'$\\vec S_2$', fontsize=18, color='orange', fontweight='bold')\n",
    "plt.text(P1 - 100,  30, r'$\\vec P_1$', fontsize=18, color='blue', fontweight='bold')\n",
    "plt.text(P1 + 10, Q1 - 10, r'$\\vec Q_1$', fontsize=18, color='green', fontweight='bold')\n",
    "plt.text(P2 + 10, Q2 - 10, r'$\\vec Q_2$', fontsize=18, color='orange', fontweight='bold')\n",
    "ax.set_xlim([0,1000])\n",
    "ax.set_ylim([-50,1000])\n",
    "ax.set_aspect('equal')\n",
    "plt.title('Triángulo de potencias', fontsize=18)\n",
    "plt.xlabel('Re (Eje real)',  fontsize=16)\n",
    "plt.ylabel('Im (Eje imaginario)',  fontsize=16)\n",
    "plt.grid(linestyle=\":\")\n",
    "ax.set_axisbelow(True)\n",
    "plt.draw()\n",
    "plt.show()"
   ]
  },
  {
   "cell_type": "code",
   "execution_count": null,
   "metadata": {},
   "outputs": [],
   "source": [
    "%reset -s -f"
   ]
  },
  {
   "cell_type": "markdown",
   "metadata": {},
   "source": [
    "----------------------"
   ]
  },
  {
   "cell_type": "markdown",
   "metadata": {},
   "source": [
    "<a href=\"https://colab.research.google.com/github/daniel-lorenzo/Electrotecnia/blob/master/Ejercitacion/TP4.ipynb\"><img align=\"left\" src=\"https://colab.research.google.com/assets/colab-badge.svg\" alt=\"Open in Colab\" title=\"Open and Execute in Google Colaboratory\"></a>"
   ]
  }
 ],
 "metadata": {
  "kernelspec": {
   "display_name": "Python 3",
   "language": "python",
   "name": "python3"
  },
  "language_info": {
   "codemirror_mode": {
    "name": "ipython",
    "version": 3
   },
   "file_extension": ".py",
   "mimetype": "text/x-python",
   "name": "python",
   "nbconvert_exporter": "python",
   "pygments_lexer": "ipython3",
   "version": "3.7.6"
  }
 },
 "nbformat": 4,
 "nbformat_minor": 4
}
