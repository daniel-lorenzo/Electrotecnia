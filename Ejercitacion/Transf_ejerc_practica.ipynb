{
 "cells": [
  {
   "cell_type": "markdown",
   "metadata": {},
   "source": [
    "# Transformadores\n",
    "## Ejercicios para practicar\n",
    "__U.N.L.Z. - Facultad de Ingeniería__       \n",
    "__Electrotecnia__      \n",
    "__Alumno:__ Daniel Antonio Lorenzo       "
   ]
  },
  {
   "cell_type": "markdown",
   "metadata": {},
   "source": [
    "<a href=\"https://colab.research.google.com/github/daniel-lorenzo/Electrotecnia/blob/master/Ejercitacion/Transf_ejerc_practica.ipynb\"><img align=\"left\" src=\"https://colab.research.google.com/assets/colab-badge.svg\" alt=\"Open in Colab\" title=\"Open and Execute in Google Colaboratory\"></a>"
   ]
  },
  {
   "cell_type": "markdown",
   "metadata": {},
   "source": [
    "## Problema N°1\n",
    "Un transformador monofásico de 380/110V cuya $S_N = 5 \\, \\mathrm{kVA}$. Ensayado con el devanado de baja tensión (o secundario) en cortocircuito; se debe aplicar 33V al lado primario para que circule corriente nominal, siendo la potencia consumida por la máquina $P_{CC} = 100,2 \\, \\mathrm{W}$."
   ]
  },
  {
   "cell_type": "markdown",
   "metadata": {},
   "source": [
    "1. Cuál será la regulación, cuando la carga aplicada tiene un factor de potencia del 0,8 en atraso, y consume la corriente nominal.\n",
    "2. Y el rendimiento, cuando la carga aplicada tiene un factor de potencia del 0,5 en atraso, entregando su corriente nominal, y las pérdidas en el núcleo son de 80W."
   ]
  },
  {
   "cell_type": "markdown",
   "metadata": {},
   "source": [
    "### Solución"
   ]
  },
  {
   "cell_type": "markdown",
   "metadata": {},
   "source": [
    "__ítem a)__"
   ]
  },
  {
   "cell_type": "markdown",
   "metadata": {},
   "source": [
    "__Datos:__\n",
    "$\\left\\{\n",
    "\\begin{array}{l}\n",
    "S_N = 5000 \\, \\mathrm{VA} \\\\\n",
    "U_{1N} = 380 \\, \\mathrm{V} \\\\\n",
    "U_{2N} = 110 \\, \\mathrm{V} \\\\\n",
    "U_{CC} = 33 \\, \\mathrm{V} \\\\\n",
    "P_{CC} = 100,2 \\, \\mathrm{W} \\\\\n",
    "\\mathrm{fp} = 0,8\n",
    "\\end{array}\n",
    "\\right.$"
   ]
  },
  {
   "cell_type": "markdown",
   "metadata": {},
   "source": [
    "<img src=\"img/trmf_p1-01.png\">"
   ]
  },
  {
   "cell_type": "markdown",
   "metadata": {},
   "source": [
    "__Cálculo de corriente nominal 1__\n",
    "$$ I_{1N} = \\frac{S_N}{U_{1N}} = 13,16 \\, \\mathrm{A} $$"
   ]
  },
  {
   "cell_type": "markdown",
   "metadata": {},
   "source": [
    "__Cálculo de corriente nominal 2__\n",
    "$$ I_{2N} = \\frac{S_N}{U_{2N}} = 45.45 \\, \\mathrm{A} $$"
   ]
  },
  {
   "cell_type": "markdown",
   "metadata": {},
   "source": [
    "__Cálculo de $\\varphi_e$__\n",
    "$$ P_{CC} = U_{CC} I_{1N} \\cos \\varphi_e $$"
   ]
  },
  {
   "cell_type": "markdown",
   "metadata": {},
   "source": [
    "$$ \\varphi_e = \\frac{P_{CC}}{U_{CC} I_{1N}} = 78,7^\\circ $$"
   ]
  },
  {
   "cell_type": "markdown",
   "metadata": {},
   "source": [
    "__Cálculo de $\\varphi_2$__\n",
    "$$ \\cos \\varphi_2 = \\mathrm{fp} = 0,8 $$"
   ]
  },
  {
   "cell_type": "markdown",
   "metadata": {},
   "source": [
    "$$ \\varphi_2 = \\arccos 0,8 = 36,87^\\circ $$"
   ]
  },
  {
   "cell_type": "markdown",
   "metadata": {},
   "source": [
    "<img src=\"img/trmf_p1-02.png\">"
   ]
  },
  {
   "cell_type": "markdown",
   "metadata": {},
   "source": [
    "__Fasorial:__\n",
    "\n",
    "<img src=\"img/fasorial_p1.png\">"
   ]
  },
  {
   "cell_type": "markdown",
   "metadata": {},
   "source": [
    "Del diagrama fasorial se deduce:\n",
    "$$ U_1^2 = [U'_2 + U'_e \\cos (\\varphi_{e} - \\varphi_2)]^2 + [U'_e \\sin (\\varphi_e - \\varphi_2)]^2 $$"
   ]
  },
  {
   "cell_type": "markdown",
   "metadata": {},
   "source": [
    "Cálculo auxiliar\n",
    "\n",
    "$\\left\\{\n",
    "\\begin{array}{l}\n",
    "U'_e \\cos (\\varphi_e - \\varphi_2) = 33 \\cos (78,7 - 36,9) = 24,7 \\, \\mathrm{V} \\\\\n",
    "U'_e \\sin (\\varphi_e - \\varphi_2) = 33 \\sin (78,7 - 36,9) = 21,9 \\, \\mathrm{V} \n",
    "\\end{array}\n",
    "\\right.$"
   ]
  },
  {
   "cell_type": "markdown",
   "metadata": {},
   "source": [
    "Entonces\n",
    "\n",
    "$$ 380^2 = (U'_2 + 24,7)^2 + (21,9)^2 $$"
   ]
  },
  {
   "cell_type": "markdown",
   "metadata": {},
   "source": [
    "$$ (U'_2)^2 + 49,4 U'_2 - 143310 = 0 $$"
   ]
  },
  {
   "cell_type": "markdown",
   "metadata": {},
   "source": [
    "$$ U'_2 = 354,7 \\, \\mathrm{V} $$"
   ]
  },
  {
   "cell_type": "markdown",
   "metadata": {},
   "source": [
    "__El porcentaje de regulación resulta:__"
   ]
  },
  {
   "cell_type": "markdown",
   "metadata": {},
   "source": [
    "$$ \\varepsilon \\% = \\frac{U_1 - U'_2}{U_1} \\times 100 $$"
   ]
  },
  {
   "cell_type": "markdown",
   "metadata": {},
   "source": [
    "$$ \\varepsilon \\% = \\frac{380 - 354,7}{380} \\times 100 = 6,7\\% $$"
   ]
  },
  {
   "cell_type": "markdown",
   "metadata": {},
   "source": [
    "__ítem b)__"
   ]
  },
  {
   "cell_type": "markdown",
   "metadata": {},
   "source": [
    "__Datos:__\n",
    "$\\left\\{\n",
    "\\begin{array}{l}\n",
    "\\mathrm{fp}_b = 0,5 \\\\\n",
    "P_0 = 80 \\, \\mathrm{W}\n",
    "\\end{array}\n",
    "\\right.$"
   ]
  },
  {
   "cell_type": "markdown",
   "metadata": {},
   "source": [
    "$$I_2 = I'_2 \\cdot a = 45,45 \\, \\mathrm{V}$$ "
   ]
  },
  {
   "cell_type": "markdown",
   "metadata": {},
   "source": [
    "$$ U_2 = \\frac{U'_2}{a} = 102,65 \\, \\mathrm{V} $$"
   ]
  },
  {
   "cell_type": "markdown",
   "metadata": {},
   "source": [
    "$$ \\varphi_b = \\arccos (\\mathrm{fp}_b) = 60^\\circ$$"
   ]
  },
  {
   "cell_type": "markdown",
   "metadata": {},
   "source": [
    "$$ \\eta = \\frac{U_2 I_2 \\cos \\varphi_b}{U_2 I_2 \\cos \\varphi_b + P_{cc} + P_0} \\times 100 = 92,8 \\% $$"
   ]
  },
  {
   "cell_type": "markdown",
   "metadata": {},
   "source": [
    "<mark><strong>(Resolución en python3)</strong></mark>"
   ]
  },
  {
   "cell_type": "code",
   "execution_count": 1,
   "metadata": {},
   "outputs": [],
   "source": [
    "import numpy as np"
   ]
  },
  {
   "cell_type": "code",
   "execution_count": 2,
   "metadata": {},
   "outputs": [],
   "source": [
    "# Datos:\n",
    "SN  =  5e3  # VA \n",
    "U1N = 380   # V\n",
    "U2N = 110   # V\n",
    "Ucc =  33   # V\n",
    "Pcc = 100.2 # W\n",
    "fp  = 0.8"
   ]
  },
  {
   "cell_type": "code",
   "execution_count": 3,
   "metadata": {},
   "outputs": [],
   "source": [
    "# Corriente nominal primaria\n",
    "I1N = SN/U1N\n",
    "# Corriente nominal secundaria\n",
    "I2N = SN/U2N\n",
    "# (relación de transformación)\n",
    "a = U1N/U2N"
   ]
  },
  {
   "cell_type": "code",
   "execution_count": 4,
   "metadata": {},
   "outputs": [],
   "source": [
    "phi_cc = np.arccos( Pcc/(Ucc*I1N) )\n",
    "phi_2 = np.arccos(fp)"
   ]
  },
  {
   "cell_type": "code",
   "execution_count": 5,
   "metadata": {},
   "outputs": [
    {
     "name": "stdout",
     "output_type": "stream",
     "text": [
      "phi_cc = 76.66°\n",
      "phi_2 = 36.87°\n"
     ]
    }
   ],
   "source": [
    "print('phi_cc = %.2f°'%np.rad2deg(phi_cc))\n",
    "print('phi_2 = %.2f°'%np.rad2deg(phi_2))"
   ]
  },
  {
   "cell_type": "code",
   "execution_count": 6,
   "metadata": {},
   "outputs": [],
   "source": [
    "import sympy as sp"
   ]
  },
  {
   "cell_type": "code",
   "execution_count": 7,
   "metadata": {},
   "outputs": [],
   "source": [
    "U2eq = sp.symbols('U2')\n",
    "Eq = sp.Eq(U1N**2 , (U2eq + Ucc*sp.cos(phi_cc - phi_2))**2 + (Ucc*sp.sin(phi_cc - phi_2)**2) )"
   ]
  },
  {
   "cell_type": "code",
   "execution_count": 8,
   "metadata": {},
   "outputs": [],
   "source": [
    "Sol = sp.solve(Eq,U2eq)"
   ]
  },
  {
   "cell_type": "code",
   "execution_count": 9,
   "metadata": {},
   "outputs": [],
   "source": [
    "U2eq = Sol[1]"
   ]
  },
  {
   "cell_type": "code",
   "execution_count": 10,
   "metadata": {},
   "outputs": [
    {
     "name": "stdout",
     "output_type": "stream",
     "text": [
      "U2eq = 354.62 V\n"
     ]
    }
   ],
   "source": [
    "print('U2eq = %.2f V'%U2eq)"
   ]
  },
  {
   "cell_type": "code",
   "execution_count": 11,
   "metadata": {},
   "outputs": [],
   "source": [
    "reg = (U1N - U2eq)/U1N * 100"
   ]
  },
  {
   "cell_type": "code",
   "execution_count": 12,
   "metadata": {},
   "outputs": [
    {
     "name": "stdout",
     "output_type": "stream",
     "text": [
      "reg = 6.68 %\n"
     ]
    }
   ],
   "source": [
    "print('reg = %.2f %%'%reg)"
   ]
  },
  {
   "cell_type": "code",
   "execution_count": 13,
   "metadata": {},
   "outputs": [],
   "source": [
    "##########\n",
    "# Item b\n",
    "##########\n",
    "I2eq = I1N\n",
    "I2 = I2eq*a\n",
    "U2 = U2eq/a\n",
    "fp_b = 0.5\n",
    "phi_b = np.arccos(fp_b)\n",
    "Po = 80 # W\n",
    "\n",
    "n = (U2*I2*np.cos(phi_b))/(U2*I2*np.cos(phi_b) + Po + Pcc) * 100"
   ]
  },
  {
   "cell_type": "code",
   "execution_count": 14,
   "metadata": {},
   "outputs": [
    {
     "name": "stdout",
     "output_type": "stream",
     "text": [
      "-------------------\n",
      "Rendimiento:\n",
      "n = 92.8 %\n",
      "-------------------\n"
     ]
    }
   ],
   "source": [
    "print('-------------------')\n",
    "print('Rendimiento:')\n",
    "print('n = %.1f %%'%n)\n",
    "print('-------------------')"
   ]
  },
  {
   "cell_type": "code",
   "execution_count": 15,
   "metadata": {},
   "outputs": [],
   "source": [
    "%reset -s -f"
   ]
  },
  {
   "cell_type": "markdown",
   "metadata": {},
   "source": [
    "## Problema N°2\n",
    "Se desea conocer el valor más alto del rendimiento que puede alcanzar un transformador monofásico, con los siguientes valores nominales: $S_N = 14 \\, \\mathrm{kVA}$, $800/400 \\, \\mathrm{V}$, y conociendo que: $U_{CC} = 3 \\, \\%$, $P_{fe} = 95 \\, \\mathrm{W}$ y $P_{CC} = 180 \\, \\mathrm{W}$."
   ]
  },
  {
   "cell_type": "markdown",
   "metadata": {},
   "source": [
    "### Solución"
   ]
  },
  {
   "cell_type": "markdown",
   "metadata": {},
   "source": [
    "__Datos:__\n",
    "$\\left\\{\n",
    "\\begin{array}{l}\n",
    "S_N = 14 \\, \\mathrm{kVA} \\\\\n",
    "U_{N1} = 800 \\, \\mathrm{V} \\\\\n",
    "U_{N2} = 400 \\, \\mathrm{V} \\\\\n",
    "U_{cc} = 3 \\% \\\\\n",
    "P_{fe} = 95 \\, \\mathrm{W} \\\\\n",
    "P_{cc} = 180 \\, \\mathrm{W}\n",
    "\\end{array}\n",
    "\\right.$"
   ]
  },
  {
   "cell_type": "markdown",
   "metadata": {},
   "source": [
    "__Relación de transformación__\n",
    "$$ a = \\frac{U_{N1}}{U_{N2}} = 2 $$"
   ]
  },
  {
   "cell_type": "markdown",
   "metadata": {},
   "source": [
    "__Corriente nominal primaria__\n",
    "$$ I_{N1} = \\frac{S_N}{U_{N1}} = 17,5 \\, A $$"
   ]
  },
  {
   "cell_type": "markdown",
   "metadata": {},
   "source": [
    "__Corriente nominal secundaria__\n",
    "$$  I_{N2} = \\frac{S_N}{U_{N2}} = 35 \\, A $$"
   ]
  },
  {
   "cell_type": "markdown",
   "metadata": {},
   "source": [
    "__Vacío:__"
   ]
  },
  {
   "cell_type": "markdown",
   "metadata": {},
   "source": [
    "En el ensayo de vacío __se aplica la tensión nominal en el lado de baja tensión__ del transformador mientras que __el lado de alta tensión queda en circuito abierto.__"
   ]
  },
  {
   "cell_type": "markdown",
   "metadata": {},
   "source": [
    "$$U_0 = U_{N2} = 400 \\, \\mathrm{V}$$"
   ]
  },
  {
   "cell_type": "markdown",
   "metadata": {},
   "source": [
    "$P_0 = P_{fe}$\n",
    "$$ I_0 = \\frac{P_0}{U_0} = 0,2375 \\, A $$"
   ]
  },
  {
   "cell_type": "markdown",
   "metadata": {},
   "source": [
    "$$ P_0 = I_0 U_0 \\cos \\varphi_0 $$"
   ]
  },
  {
   "cell_type": "markdown",
   "metadata": {},
   "source": [
    "Entonces\n",
    "$$ \\varphi_0 = \\arccos \\left( \\frac{P_0}{I_0 U_0} \\right) $$"
   ]
  },
  {
   "cell_type": "markdown",
   "metadata": {},
   "source": [
    "__Cortocircuito:__"
   ]
  },
  {
   "cell_type": "markdown",
   "metadata": {},
   "source": [
    "$$ I_{cc} = I_{N2} $$"
   ]
  },
  {
   "cell_type": "markdown",
   "metadata": {},
   "source": [
    "$$ Z_{eq1} = \\frac{U_{cc}}{I_{cc}} $$"
   ]
  },
  {
   "cell_type": "markdown",
   "metadata": {},
   "source": [
    "$$ \\varphi_{cc} = \\arccos \\left( \\frac{P_{cc}}{I_{cc} U_{cc}} \\right) = 64,62^\\circ $$"
   ]
  },
  {
   "cell_type": "markdown",
   "metadata": {},
   "source": [
    "$$ R_{eq1} = Z_{eq1} \\cos \\varphi_{cc} \\quad \\Rightarrow \\quad R_{eq2} = \\frac{R_{eq1}}{a^2} $$"
   ]
  },
  {
   "cell_type": "markdown",
   "metadata": {},
   "source": [
    "$$ X_{eq1} = Z_{eq1} \\sin \\varphi_{cc} \\quad \\Rightarrow \\quad X_{eq2} = \\frac{X_{eq1}}{a^2} $$"
   ]
  },
  {
   "cell_type": "markdown",
   "metadata": {},
   "source": [
    "__Rendimiento máximo:__"
   ]
  },
  {
   "cell_type": "markdown",
   "metadata": {},
   "source": [
    "$$ P_0 = I_2^2 R_{eq2} \\quad \\Rightarrow \\quad I_\\mathrm{2 \\eta max} = \\sqrt{\\frac{P_0}{R_{eq2}}} $$"
   ]
  },
  {
   "cell_type": "markdown",
   "metadata": {},
   "source": [
    "$U_{20} = U_0$"
   ]
  },
  {
   "cell_type": "markdown",
   "metadata": {},
   "source": [
    "$$ U_\\mathrm{2 \\eta max} = U_{20} - I_\\mathrm{2 \\eta max} (R_{eq2} \\cdot 1 + 0) $$"
   ]
  },
  {
   "cell_type": "markdown",
   "metadata": {},
   "source": [
    "$$ \\eta_\\mathrm{max} = \\frac{U_\\mathrm{2 \\eta max} I_\\mathrm{2 \\eta max} \\cdot 1}{U_\\mathrm{2 \\eta max} I_\\mathrm{2 \\eta max} \\cdot 1 + P_{cu} + P_0} \\times 100 = 98,7 \\% $$"
   ]
  },
  {
   "cell_type": "markdown",
   "metadata": {},
   "source": [
    "<mark><strong>(Resolución en python3)</strong></mark>"
   ]
  },
  {
   "cell_type": "code",
   "execution_count": 16,
   "metadata": {},
   "outputs": [],
   "source": [
    "import numpy as np"
   ]
  },
  {
   "cell_type": "code",
   "execution_count": 17,
   "metadata": {},
   "outputs": [],
   "source": [
    "# Datos:\n",
    "SN  = 14000     # VA\n",
    "UN1 =   800     # V\n",
    "UN2 =   400     # V\n",
    "Po  =    95     # W\n",
    "Pcc =   180     # W\n",
    "Ucc = 3/100*UN1"
   ]
  },
  {
   "cell_type": "code",
   "execution_count": 18,
   "metadata": {},
   "outputs": [],
   "source": [
    "a = UN1/UN2  #     (relación de transformación)\n",
    "IN1 = SN/UN1 # A   (corriente nominal primaria)\n",
    "IN2 = SN/UN2 # A   (corriente nominal secundaria)"
   ]
  },
  {
   "cell_type": "code",
   "execution_count": 19,
   "metadata": {},
   "outputs": [],
   "source": [
    "# Vacío\n",
    "Uo = UN2\n",
    "Io = Po/Uo\n",
    "\n",
    "phi_o = np.arccos(Po/(Io*Uo))\n",
    "\n",
    "Ip = Io*np.cos(phi_o)\n",
    "Im = Io*np.sin(phi_o)\n",
    "\n",
    "# Corto circuito\n",
    "Icc = IN2\n",
    "phi_cc = np.arccos(Pcc/(Icc*Ucc))\n",
    "\n",
    "Zeq1 = Ucc/Icc\n",
    "Req1 = Zeq1*np.cos(phi_cc)\n",
    "Xeq1 = Zeq1*np.sin(phi_cc)\n",
    "Req2 = Req1/a**2\n",
    "Xeq2 = Xeq1/a**2\n",
    "\n",
    "# Rendimiento\n",
    "U20 = Uo\n",
    "I2max = np.sqrt(Po/Req2)\n",
    "U2max = U20 - I2max*(Req2*1 + 0)\n",
    "\n",
    "n = (U2max*I2max*1)/(U2max*I2max + Pcc + Po) * 100"
   ]
  },
  {
   "cell_type": "code",
   "execution_count": 20,
   "metadata": {},
   "outputs": [
    {
     "name": "stdout",
     "output_type": "stream",
     "text": [
      "-------------------\n",
      "Rendimiento máximo:\n",
      "n = 98.7 %\n",
      "-------------------\n"
     ]
    }
   ],
   "source": [
    "print('-------------------')\n",
    "print('Rendimiento máximo:')\n",
    "print('n = %.1f %%'%n)\n",
    "print('-------------------')"
   ]
  },
  {
   "cell_type": "markdown",
   "metadata": {},
   "source": [
    "--------------------\n",
    "<a href=\"https://colab.research.google.com/github/daniel-lorenzo/Electrotecnia/blob/master/Ejercitacion/Transf_ejerc_practica.ipynb\"><img align=\"left\" src=\"https://colab.research.google.com/assets/colab-badge.svg\" alt=\"Open in Colab\" title=\"Open and Execute in Google Colaboratory\"></a>"
   ]
  }
 ],
 "metadata": {
  "kernelspec": {
   "display_name": "Python 3",
   "language": "python",
   "name": "python3"
  },
  "language_info": {
   "codemirror_mode": {
    "name": "ipython",
    "version": 3
   },
   "file_extension": ".py",
   "mimetype": "text/x-python",
   "name": "python",
   "nbconvert_exporter": "python",
   "pygments_lexer": "ipython3",
   "version": "3.7.6"
  }
 },
 "nbformat": 4,
 "nbformat_minor": 4
}
