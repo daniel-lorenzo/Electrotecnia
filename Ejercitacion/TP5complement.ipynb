{
 "cells": [
  {
   "cell_type": "markdown",
   "metadata": {},
   "source": [
    "# TP N°5 - Circuitos trifásicos - ejercicios complementarios\n",
    "__U.N.L.Z. - Facultad de Ingeniería__       \n",
    "__Electrotecnia__      \n",
    "__Alumno:__ Daniel Antonio Lorenzo       "
   ]
  },
  {
   "cell_type": "markdown",
   "metadata": {},
   "source": [
    "<a href=\"https://colab.research.google.com/github/daniel-lorenzo/Electrotecnia/blob/master/Ejercitacion/TP4complement.ipynb\"><img align=\"left\" src=\"https://colab.research.google.com/assets/colab-badge.svg\" alt=\"Open in Colab\" title=\"Open and Execute in Google Colaboratory\"></a>"
   ]
  },
  {
   "cell_type": "markdown",
   "metadata": {},
   "source": [
    "## Ejercicio A\n",
    "Se tiene una carga trifásica equilibrada $Z = 15+15 \\, \\Omega$, conectada en triángulo a una red de tensiones equilibradas y simétricas de $3 \\times 380 \\, \\mathrm{V}$.\n",
    "1. Cual es el valor de la corriente de fase y cuál es la de línea.\n",
    "2. Cuál es el valor de la tensión de fase y cuál es la de línea.\n",
    "3. Representar el diagrama fasorial de tensiones y corrientes.\n",
    "4. Calcular las potencias trifásicas."
   ]
  },
  {
   "cell_type": "markdown",
   "metadata": {},
   "source": [
    "<img src=\"img/tp5ej4.png\">\n",
    "\n",
    "> Las impedancias de carga son iguales entre sí, (cargatrifásica equilibrada y simétrica perfecta)."
   ]
  },
  {
   "cell_type": "markdown",
   "metadata": {},
   "source": [
    "### Solución"
   ]
  },
  {
   "cell_type": "markdown",
   "metadata": {},
   "source": [
    "Tensiones de fase:\n",
    "\n",
    "$\\begin{array}{l}\n",
    "\\displaystyle E_{an} = \\frac{380}{\\sqrt{3}} \\angle 0^\\circ \\, \\mathrm{V} \\\\\n",
    "\\displaystyle E_{bn} = \\frac{380}{\\sqrt{3}} \\angle -120^\\circ \\, \\mathrm{V} \\\\\n",
    "\\displaystyle E_{cn} = \\frac{380}{\\sqrt{3}} \\angle 120^\\circ \\, \\mathrm{V} \\\\\n",
    "\\end{array}$"
   ]
  },
  {
   "cell_type": "markdown",
   "metadata": {},
   "source": [
    "Tensiones de línea\n",
    "\n",
    "$\\begin{array}{l}\n",
    "E_{ab} = E_{an} - E_{bn} \\\\\n",
    "E_{bc} = E_{bn} - E_{cn} \\\\\n",
    "E_{ca} = E_{cn} - E_{an}\n",
    "\\end{array}$"
   ]
  },
  {
   "cell_type": "markdown",
   "metadata": {},
   "source": [
    "Caídas de tensión compuesta en las impedancias de carga\n",
    "\n",
    "$\\begin{array}{l}\n",
    "U_{ab} = E_{ab} \\\\\n",
    "U_{bc} = E_{bc} \\\\\n",
    "U_{ca} = E_{ca}\n",
    "\\end{array}$"
   ]
  },
  {
   "cell_type": "markdown",
   "metadata": {},
   "source": [
    "Impedancias de carga\n",
    "\n",
    "$\\begin{array}{l}\n",
    "Z_{ab} = 15+j15 \\, \\Omega \\\\\n",
    "Z_{bc} = Z_{ab} \\\\\n",
    "Z_{ca} = Z_{bc}\n",
    "\\end{array}$"
   ]
  },
  {
   "cell_type": "markdown",
   "metadata": {},
   "source": [
    "Cálculo de corriente de línea o compuesta\n",
    "\n",
    "$$ I_{ab} = \\frac{U_{ab}}{Z_{ab}} = 17,91 \\angle -15^\\circ \\, \\mathrm{A} $$"
   ]
  },
  {
   "cell_type": "markdown",
   "metadata": {},
   "source": [
    "$$ I_{bc} = \\frac{U_{bc}}{Z_{bc}} = 17,91 \\angle -135^\\circ \\, \\mathrm{A} $$"
   ]
  },
  {
   "cell_type": "markdown",
   "metadata": {},
   "source": [
    "$$ I_{ca} = \\frac{U_{ca}}{Z_{ca}} = 17,91 \\angle 105^\\circ \\, \\mathrm{A} $$"
   ]
  },
  {
   "cell_type": "markdown",
   "metadata": {},
   "source": [
    "Cálculo de corrientes de fase\n",
    "\n",
    "$\\begin{array}{l}\n",
    "I_r = I_{ab} - I_{ca} = 31,03 \\angle -45^\\circ \\, \\mathrm{A} \\\\\n",
    "I_s = I_{bc} - I_{ab} = 31,03 \\angle -165^\\circ \\, \\mathrm{A} \\\\\n",
    "I_t = I_{ca} - I_{bc} = 31,03 \\angle 75^\\circ \\, \\mathrm{A}\n",
    "\\end{array}$"
   ]
  },
  {
   "cell_type": "markdown",
   "metadata": {},
   "source": [
    "$$I_a = I_r \\quad \\wedge \\quad I_b = I_s \\quad \\wedge \\quad I_c = I_t$$"
   ]
  },
  {
   "cell_type": "markdown",
   "metadata": {},
   "source": [
    "Cálculo de potencias aparentes\n",
    "\n",
    "$\\begin{array}{l}\n",
    "S_{ab} = U_{ab} \\times I_{ab}^\\ast = 4813,33+j4813,33 \\, \\mathrm{VA} = (6807 \\angle 45^\\circ) \\, \\mathrm{VA} \\\\\n",
    "S_{bc} = U_{bc} \\times I_{bc}^\\ast = 4813,33+j4813,33 \\, \\mathrm{VA} = (6807 \\angle 45^\\circ) \\, \\mathrm{VA} \\\\\n",
    "S_{ca} = U_{ca} \\times I_{ca}^\\ast = 4813,33+j4813,33 \\, \\mathrm{VA} = (6807 \\angle 45^\\circ) \\, \\mathrm{VA}\n",
    "\\end{array}$"
   ]
  },
  {
   "cell_type": "markdown",
   "metadata": {},
   "source": [
    "Potencia activa:\n",
    "\n",
    "$\\begin{array}{l}\n",
    "P_a = |S_a| \\cos \\varphi_a = 4813,33 \\, \\mathrm{W} \\\\\n",
    "P_b = |S_b| \\cos \\varphi_b = 4813,33 \\, \\mathrm{W} \\\\\n",
    "P_c = |S_c| \\cos \\varphi_c = 4813,33 \\, \\mathrm{W}\n",
    "\\end{array}$"
   ]
  },
  {
   "cell_type": "markdown",
   "metadata": {},
   "source": [
    "Potencia reactiva:\n",
    "\n",
    "$\\begin{array}{l}\n",
    "Q_a = |S_a| \\sin \\varphi_a = 4813,33 \\, \\mathrm{VAr} \\\\\n",
    "Q_b = |S_b| \\sin \\varphi_b = 4813,33 \\, \\mathrm{VAr} \\\\\n",
    "Q_c = |S_c| \\sin \\varphi_c = 4813,33 \\, \\mathrm{VAr}\n",
    "\\end{array}$"
   ]
  },
  {
   "cell_type": "markdown",
   "metadata": {},
   "source": [
    "Potencia trifásica aparente:\n",
    "\n",
    "$$ S_\\mathrm{trif} = S_a + S_b + S_c $$\n",
    "$$ S_\\mathrm{trif} = 14440 + j14440 \\, \\mathrm{VA} $$\n",
    "$$ S_\\mathrm{trif} = 20421 \\angle 45^\\circ \\, \\mathrm{VA} $$"
   ]
  },
  {
   "cell_type": "markdown",
   "metadata": {},
   "source": [
    "\n",
    "Potencia trifásica activa:\n",
    "\n",
    "$$ P_\\mathrm{trif} = |S_\\mathrm{trif}| \\cos \\varphi_t = \\mathrm{real}(S_\\mathrm{trif}) $$\n",
    "$$ P_\\mathrm{trif} = 14440 \\, \\mathrm{W} $$"
   ]
  },
  {
   "cell_type": "markdown",
   "metadata": {},
   "source": [
    "Potencia trifásica reactiva:\n",
    "\n",
    "$$ Q_\\mathrm{trif} = |S_\\mathrm{trif}| \\sin  \\varphi_t = \\mathrm{imag}(S_\\mathrm{trif}) $$\n",
    "$$ Q_\\mathrm{trif} = 14440 \\, \\mathrm{VAr} $$"
   ]
  },
  {
   "cell_type": "markdown",
   "metadata": {},
   "source": [
    "<mark><strong>Resolución en Python 3</strong></mark>"
   ]
  },
  {
   "cell_type": "code",
   "execution_count": 11,
   "metadata": {},
   "outputs": [],
   "source": [
    "import numpy as np\n",
    "import cmath"
   ]
  },
  {
   "cell_type": "code",
   "execution_count": 12,
   "metadata": {},
   "outputs": [],
   "source": [
    "# Datos:\n",
    "# Tensiones de fase\n",
    "Ean = cmath.rect(380/np.sqrt(3) , np.deg2rad(0))\n",
    "Ebn = cmath.rect(380/np.sqrt(3) , np.deg2rad(-120))\n",
    "Ecn = cmath.rect(380/np.sqrt(3) , np.deg2rad(120))\n",
    "# Tensiones de línea\n",
    "Eab = Ean - Ebn\n",
    "Ebc = Ebn - Ecn\n",
    "Eca = Ecn - Ean\n",
    "# Caídas de tensión compuesta en las impedancias de cargas\n",
    "Uab = Eab\n",
    "Ubc = Ebc\n",
    "Uca = Eca\n",
    "# Impedancias de carga\n",
    "Zab = 15+15j # Ohm\n",
    "Zbc = Zab\n",
    "Zca = Zbc"
   ]
  },
  {
   "cell_type": "code",
   "execution_count": 13,
   "metadata": {},
   "outputs": [],
   "source": [
    "# Cálculo de corriente de línea o compuesta\n",
    "Iab = Uab/Zab\n",
    "Ibc = Ubc/Zbc\n",
    "Ica = Uca/Zca\n",
    "# Cálculo de corrientes de fase\n",
    "Ir = Iab - Ica\n",
    "Is = Ibc - Iab\n",
    "It = Ica - Ibc\n",
    "Ia = Ir ; Ib = Is ; Ic = It\n",
    "# Cálculo de potencia aparente\n",
    "Sab = Uab*Iab.conjugate()\n",
    "Sbc = Ubc*Ibc.conjugate()\n",
    "Sca = Uca*Ica.conjugate()\n",
    "# Potencia activa\n",
    "Pab = Sab.real\n",
    "Pbc = Sbc.real\n",
    "Pca = Sca.real\n",
    "# Potencia reactiva\n",
    "Qab = Sab.imag\n",
    "Qbc = Sab.imag\n",
    "Qca = Sca.imag\n",
    "# Potencia trifásica aparente\n",
    "Strif = Sab + Sbc + Sca\n",
    "# Potencia trifásica activa\n",
    "Ptrif = Strif.real\n",
    "# Potencia trifásica reactiva\n",
    "Qtrif = Strif.imag"
   ]
  },
  {
   "cell_type": "code",
   "execution_count": 14,
   "metadata": {},
   "outputs": [
    {
     "name": "stdout",
     "output_type": "stream",
     "text": [
      "Resultados:\n",
      "\n",
      "1) ítem:\n",
      "Corrientes de línea o compuestas:\n",
      "Iab = (17.91 ∠ -15°) A\n",
      "Ibc = (17.91 ∠ -135°) A\n",
      "Ica = (17.91 ∠ 105°) A\n",
      "Corrientes de fase:\n",
      "Ir = Ia = (31.03 ∠ -45°) A\n",
      "Is = Ib = (31.03 ∠ -165°) A\n",
      "It = Ic = (31.03 ∠ 75°) A\n",
      "\n",
      "2) ítem:\n",
      "Tensiones de fase:\n",
      "Ean = Ua = (219.39 ∠ 0°) V\n",
      "Ebn = Ub = (219.39 ∠ -120°) V\n",
      "Ecn = Uc = (219.39 ∠ 120°) V\n",
      "Tensiones de línea o compuestas:\n",
      "Eab = Uab = (380.00 ∠ 30°) V\n",
      "Ebc = Ubc = (380.00 ∠ -90°) V\n",
      "Eca = Uca = (380.00 ∠ 150°) V\n",
      "\n",
      "Potencia aparente:\n",
      "|Sab| = 6807.1 VA\n",
      "|Sbc| = 6807.1 VA\n",
      "|Sca| = 6807.1 VA\n",
      "Sab = 4813.33+4813.33j VA = (6807.08 ∠ 45°) VA\n",
      "Sbc = 4813.33+4813.33j VA = (6807.08 ∠ 45°) VA\n",
      "Sca = 4813.33+4813.33j VA = (6807.08 ∠ 45°) VA\n",
      "Potencia activa:\n",
      "Pab = 4813.33 W\n",
      "Pbc = 4813.33 W\n",
      "Pca = 4813.33 W\n",
      "Potencia reactiva:\n",
      "Qab = 4813.33 VAr\n",
      "Qbc = 4813.33 VAr\n",
      "Qca = 4813.33 VAr\n",
      "\n",
      "4) ítem:\n",
      "Potencia trifásica aparente:\n",
      "|Strif| = 20421.24 VA\n",
      "Strif = 14440.00+14440.00j VA = (20421.24 ∠ 45°) VA\n",
      "Potencia trifásica activa:\n",
      "Ptrif = 14440 W\n",
      "Potencia trifásica reactiva:\n",
      "Qtrif = 14440 VAr\n"
     ]
    }
   ],
   "source": [
    "## Imprime resultados\n",
    "print('Resultados:')\n",
    "print()\n",
    "print('1) ítem:')\n",
    "print('Corrientes de línea o compuestas:')\n",
    "print('Iab = (%.2f ∠ %.0f°) A'%(abs(Iab) , np.rad2deg( cmath.phase(Iab) ) ))\n",
    "print('Ibc = (%.2f ∠ %.0f°) A'%(abs(Ibc) , np.rad2deg( cmath.phase(Ibc) ) ))\n",
    "print('Ica = (%.2f ∠ %.0f°) A'%(abs(Ica) , np.rad2deg( cmath.phase(Ica) ) ))\n",
    "print('Corrientes de fase:')\n",
    "print('Ir = Ia = (%.2f ∠ %.0f°) A'%(abs(Ir) , np.rad2deg( cmath.phase(Ir) ) ))\n",
    "print('Is = Ib = (%.2f ∠ %.0f°) A'%(abs(Is) , np.rad2deg( cmath.phase(Is) ) ))\n",
    "print('It = Ic = (%.2f ∠ %.0f°) A'%(abs(It) , np.rad2deg( cmath.phase(It) ) ))\n",
    "print()\n",
    "print('2) ítem:')\n",
    "print('Tensiones de fase:')\n",
    "print('Ean = Ua = (%.2f ∠ %.0f°) V'%(abs(Ean) , np.rad2deg( cmath.phase(Ean) ) ))\n",
    "print('Ebn = Ub = (%.2f ∠ %.0f°) V'%(abs(Ebn) , np.rad2deg( cmath.phase(Ebn) ) ))\n",
    "print('Ecn = Uc = (%.2f ∠ %.0f°) V'%(abs(Ecn) , np.rad2deg( cmath.phase(Ecn) ) ))\n",
    "print('Tensiones de línea o compuestas:')\n",
    "print('Eab = Uab = (%.2f ∠ %.0f°) V'%(abs(Eab) , np.rad2deg( cmath.phase(Eab) ) ))\n",
    "print('Ebc = Ubc = (%.2f ∠ %.0f°) V'%(abs(Ebc) , np.rad2deg( cmath.phase(Ebc) ) ))\n",
    "print('Eca = Uca = (%.2f ∠ %.0f°) V'%(abs(Eca) , np.rad2deg( cmath.phase(Eca) ) ))\n",
    "print()\n",
    "print('Potencia aparente:')\n",
    "print('|Sab| = %.1f VA'%abs(Sab))\n",
    "print('|Sbc| = %.1f VA'%abs(Sbc))\n",
    "print('|Sca| = %.1f VA'%abs(Sca))\n",
    "print('Sab = {:.2f} VA = (%.2f ∠ %.0f°) VA'.format(Sab)%(abs(Sab), np.rad2deg( cmath.phase(Sab) ) ))\n",
    "print('Sbc = {:.2f} VA = (%.2f ∠ %.0f°) VA'.format(Sbc)%(abs(Sbc), np.rad2deg( cmath.phase(Sbc) ) ))\n",
    "print('Sca = {:.2f} VA = (%.2f ∠ %.0f°) VA'.format(Sca)%(abs(Sca), np.rad2deg( cmath.phase(Sca) ) ))\n",
    "print('Potencia activa:')\n",
    "print('Pab = %.2f W'%Pab)\n",
    "print('Pbc = %.2f W'%Pbc)\n",
    "print('Pca = %.2f W'%Pca)\n",
    "print('Potencia reactiva:')\n",
    "print('Qab = %.2f VAr'%Qab)\n",
    "print('Qbc = %.2f VAr'%Qbc)\n",
    "print('Qca = %.2f VAr'%Qca)\n",
    "print()\n",
    "print('4) ítem:')\n",
    "print('Potencia trifásica aparente:')\n",
    "print('|Strif| = %.2f VA'%abs(Strif))\n",
    "print('Strif = {:.2f} VA = (%.2f ∠ %.0f°) VA'.format(Strif)%(abs(Strif) , np.rad2deg( cmath.phase(Sab) ) ))\n",
    "print('Potencia trifásica activa:')\n",
    "print('Ptrif = %.0f W'%Ptrif)\n",
    "print('Potencia trifásica reactiva:')\n",
    "print('Qtrif = %.0f VAr'%Qtrif)"
   ]
  },
  {
   "cell_type": "markdown",
   "metadata": {},
   "source": [
    "__3) ítem:__"
   ]
  },
  {
   "cell_type": "markdown",
   "metadata": {},
   "source": [
    "### Graficando con matplotlib"
   ]
  },
  {
   "cell_type": "code",
   "execution_count": 7,
   "metadata": {},
   "outputs": [],
   "source": [
    "import matplotlib\n",
    "import matplotlib.pyplot as plt"
   ]
  },
  {
   "cell_type": "code",
   "execution_count": 8,
   "metadata": {},
   "outputs": [
    {
     "data": {
      "image/png": "[encoded data removed]",
      "text/plain": [
       "<Figure size 504x504 with 1 Axes>"
      ]
     },
     "metadata": {
      "needs_background": "light"
     },
     "output_type": "display_data"
    },
    {
     "name": "stdout",
     "output_type": "stream",
     "text": [
      "Ia  = (31.03 < -45.00°) A\n",
      "Ib  = (31.03 < -165.00°) A\n",
      "Ic  = (31.03 < 75.00°) A\n",
      "Iab = (17.91 < -15.00°) A\n",
      "Ibc = (17.91 < -135.00°) A\n",
      "Ica = (17.91 < 105.00°) A\n",
      "Uab = (380.00 < 30.00°) V\n",
      "Ubc = (380.00 < -90.00°) V\n",
      "Uca = (380.00 < 150.00°) V\n"
     ]
    }
   ],
   "source": [
    "%matplotlib inline\n",
    "plt.figure(figsize=(7,7))\n",
    "ax = plt.gca()\n",
    "ax.quiver(0,0,Uab.real,Uab.imag,width=0.003,angles='xy',scale_units='xy',scale=1,color='blue')\n",
    "ax.quiver(0,0,Ubc.real,Ubc.imag,width=0.003,angles='xy',scale_units='xy',scale=1,color='blue')\n",
    "ax.quiver(0,0,Uca.real,Uca.imag,width=0.003,angles='xy',scale_units='xy',scale=1,color='blue')\n",
    "ax.quiver(0,0,Ean.real,Ean.imag,width=0.003,angles='xy',scale_units='xy',scale=1,color='green')\n",
    "ax.quiver(0,0,Ebn.real,Ebn.imag,width=0.003,angles='xy',scale_units='xy',scale=1,color='green')\n",
    "ax.quiver(0,0,Ecn.real,Ecn.imag,width=0.003,angles='xy',scale_units='xy',scale=1,color='green')\n",
    "ax.quiver(0,0,Ia.real,Ia.imag,angles='xy',scale_units='xy',scale=1,color='red')\n",
    "ax.quiver(0,0,Ib.real,Ib.imag,angles='xy',scale_units='xy',scale=1,color='red')\n",
    "ax.quiver(0,0,Ic.real,Ic.imag,angles='xy',scale_units='xy',scale=1,color='red')\n",
    "ax.quiver(0,0,Iab.real,Iab.imag,angles='xy',scale_units='xy',scale=1,color='yellow')\n",
    "ax.quiver(0,0,Ibc.real,Ibc.imag,angles='xy',scale_units='xy',scale=1,color='yellow')\n",
    "ax.quiver(0,0,Ica.real,Ica.imag,angles='xy',scale_units='xy',scale=1,color='yellow')\n",
    "plt.text(Ia.real, Ia.imag, r'$I_a$', fontsize=14, color='red')\n",
    "plt.text(Ib.real -5 , Ib.imag , r'$I_b$', fontsize=14, color='red')\n",
    "plt.text(Ic.real, Ic.imag, r'$I_c$', fontsize=14, color='red')\n",
    "plt.text(Iab.real, Iab.imag, r'$I_{ab}$', fontsize=18, fontweight='bold')\n",
    "plt.text(Ibc.real -5 , Ibc.imag, r'$I_{bc}$', fontsize=18, fontweight='bold')\n",
    "plt.text(Ica.real , Ica.imag, r'$I_{ca}$', fontsize=18, fontweight='bold')\n",
    "#plt.axhline(y=0, xmin=0.5, xmax=1, linestyle=\"--\")\n",
    "ax.set_aspect('equal')\n",
    "plt.title('Diagrama fasorial de corrientes en la carga', fontsize=16)\n",
    "plt.xlabel('Re (Eje real)',  fontsize=16)\n",
    "plt.ylabel('Im (Eje imaginario)',  fontsize=16)\n",
    "plt.grid(linestyle=\":\")\n",
    "ax.set_axisbelow(True)\n",
    "ax.set_xlim([-50,50])\n",
    "ax.set_ylim([-50,50])\n",
    "#plt.draw()\n",
    "plt.show()\n",
    "print('Ia  = (%.2f < %.2f°) A'%(abs(Ir), np.rad2deg( cmath.phase(Ir) ) ))\n",
    "print('Ib  = (%.2f < %.2f°) A'%(abs(Is), np.rad2deg( cmath.phase(Is) ) ))\n",
    "print('Ic  = (%.2f < %.2f°) A'%(abs(It), np.rad2deg( cmath.phase(It) ) ))\n",
    "print('Iab = (%.2f < %.2f°) A'%(abs(Iab), np.rad2deg( cmath.phase(Iab) ) ))\n",
    "print('Ibc = (%.2f < %.2f°) A'%(abs(Ibc), np.rad2deg( cmath.phase(Ibc) ) ))\n",
    "print('Ica = (%.2f < %.2f°) A'%(abs(Ica), np.rad2deg( cmath.phase(Ica) ) ))\n",
    "print('Uab = (%.2f < %.2f°) V'%(abs(Uab), np.rad2deg( cmath.phase(Uab) ) ))\n",
    "print('Ubc = (%.2f < %.2f°) V'%(abs(Ubc), np.rad2deg( cmath.phase(Ubc) ) ))\n",
    "print('Uca = (%.2f < %.2f°) V'%(abs(Uca), np.rad2deg( cmath.phase(Uca) ) ))"
   ]
  },
  {
   "cell_type": "code",
   "execution_count": 15,
   "metadata": {},
   "outputs": [],
   "source": [
    "%reset -s -f"
   ]
  },
  {
   "cell_type": "markdown",
   "metadata": {},
   "source": [
    "### Simulación en qucs\n",
    "<img src=\"img/tp4comp.svg\">"
   ]
  },
  {
   "cell_type": "markdown",
   "metadata": {},
   "source": [
    "__Resultados:__\n",
    "\n",
    "<img src=\"img/tp4comp2.svg\">"
   ]
  },
  {
   "cell_type": "markdown",
   "metadata": {},
   "source": [
    "__Archivos de qucs:__       \n",
    "<a href=\"qucs/tp4ejcompA.sch\">tp4ejcompA.sch</a>       \n",
    "<a href=\"qucs/tp4ejcompA.dpl\">tp4ejcompA.dpl</a>    \n",
    "<a href=\"qucs/tp4ejcompA.dat\">tp4ejcompA.dat</a>    \n",
    "Se abre el archivo .sch con Qucs y se simula."
   ]
  },
  {
   "cell_type": "markdown",
   "metadata": {},
   "source": [
    "## Ejercicio B\n",
    "Dada la carga de la figura calcular:\n",
    "1. La tensión $U_{pat} = V_{on}$, sobre la resistencia de puesta a tierra $(R_{pat})$.\n",
    "2. La potencia trifásica"
   ]
  },
  {
   "cell_type": "markdown",
   "metadata": {},
   "source": [
    "<img src=\"img/tp4cej-b-1.png\">\n",
    "\n",
    "$\\begin{array}{l}\n",
    "Z_a = Z_b = 20 + j0 \\, \\Omega \\\\\n",
    "Z_c = 10 + j0 \\, \\Omega\n",
    "\\end{array}$\n",
    "\n",
    "$R_{pat} =$ Resistencia de puesta a tierra $= 5 \\, \\Omega$"
   ]
  },
  {
   "cell_type": "markdown",
   "metadata": {},
   "source": [
    "__Secuencia a-b-c__\n",
    "\n",
    "<img src=\"img/tp4cej-b-2.png\">"
   ]
  },
  {
   "cell_type": "markdown",
   "metadata": {},
   "source": [
    "### Solución"
   ]
  },
  {
   "cell_type": "markdown",
   "metadata": {},
   "source": [
    "Tensiones de generación:\n",
    "\n",
    "$\\begin{array}{l}\n",
    "E_{an} = 400/\\sqrt{3} \\angle 0^\\circ \\, \\mathrm{V} \\\\\n",
    "E_{bn} = 400/\\sqrt{3} \\angle -120^\\circ \\, \\mathrm{V} \\\\\n",
    "E_{cn} = 400/\\sqrt{3} \\angle 120^\\circ \\, \\mathrm{V}\n",
    "\\end{array}$"
   ]
  },
  {
   "cell_type": "markdown",
   "metadata": {},
   "source": [
    "Impedancias de carga:\n",
    "\n",
    "$\\begin{array}{l}\n",
    "Z_a = 20 \\, \\Omega \\\\\n",
    "Z_b = Z_a \\\\\n",
    "Z_c = 10 \\, \\Omega \\\\\n",
    "Z_n = 5 \\, \\Omega\n",
    "\\end{array}$"
   ]
  },
  {
   "cell_type": "markdown",
   "metadata": {},
   "source": [
    "Cálculo de admitancias:\n",
    "\n",
    "$$ Y_a = \\frac{1}{Z_a} \\quad ; \\quad Y_b = \\frac{1}{Z_b} \\quad ; \\quad Y_c = \\frac{1}{Z_c} \\quad ; \\quad Y_n = \\frac{1}{Z_n} $$\n",
    "\n",
    "$$ Y_a = \\frac{1}{20 \\, \\Omega} \\quad ; \\quad Y_b = \\frac{1}{20 \\, \\Omega} \\quad ; \\quad Y_c = \\frac{1}{10 \\, \\Omega} \\quad ; \\quad Y_n = \\frac{1}{5 \\, \\Omega} $$"
   ]
  },
  {
   "cell_type": "markdown",
   "metadata": {},
   "source": [
    "Cálculo de tensión de neutro:\n",
    "\n",
    "$$ V_{on} = \\frac{E_{an} Y_a + E_{bn} Y_b + E_{cn} Y_c}{Y_a + Y_b + Y_c + Y_n} = 28,87 \\angle 120^\\circ \\, \\mathrm{V} $$"
   ]
  },
  {
   "cell_type": "markdown",
   "metadata": {},
   "source": [
    "Cálculo de tensiones de fase:\n",
    "\n",
    "$\\begin{array}{l}\n",
    "U_{ao} = E_{an} - V_{on} = 246,64 \\angle -5,82^\\circ \\, \\mathrm{V} \\\\\n",
    "U_{bo} = E_{bn} - V_{on} = 246,64 \\angle -114,18^\\circ \\, \\mathrm{V} \\\\\n",
    "U_{co} = E_{cn} - V_{on} = 246,64 \\angle 120^\\circ \\, \\mathrm{V}\n",
    "\\end{array}$"
   ]
  },
  {
   "cell_type": "markdown",
   "metadata": {},
   "source": [
    "Cálculo de corrientes de fase:\n",
    "\n",
    "$$ I_a = \\frac{U_{ao}}{Z_a} = 12,33 \\angle -5,82^\\circ \\, \\mathrm{A}  $$"
   ]
  },
  {
   "cell_type": "markdown",
   "metadata": {},
   "source": [
    "$$I_b = \\frac{U_{bo}}{Z_b} = 12,33 \\angle -114,18^\\circ \\, \\mathrm{A}$$"
   ]
  },
  {
   "cell_type": "markdown",
   "metadata": {},
   "source": [
    "$$ I_c = \\frac{U_{co}}{Z_c} = 20,21 \\angle 120^\\circ \\mathrm{A} $$"
   ]
  },
  {
   "cell_type": "markdown",
   "metadata": {},
   "source": [
    "Cálculo de corriente de neutro\n",
    "\n",
    "$$ I_\\mathrm{neutro} = I_a + I_b + I_c = 5,77 \\angle 120^\\circ \\, \\mathrm{A} $$"
   ]
  },
  {
   "cell_type": "markdown",
   "metadata": {},
   "source": [
    "Cálculo de potencia aparente:\n",
    "\n",
    "$\\begin{array}{l}\n",
    "S_a = U_{ao} \\times I_a^\\ast = 3041,67 + j0 \\, \\mathrm{VA} \\\\\n",
    "S_b = U_{bo} \\times I_b^\\ast = 3041,67 + j0 \\, \\mathrm{VA} \\\\\n",
    "S_c = U_{co} \\times I_c^\\ast = 4083,33 + j0 \\, \\mathrm{VA}\n",
    "\\end{array}$"
   ]
  },
  {
   "cell_type": "markdown",
   "metadata": {},
   "source": [
    "Potencia activa:\n",
    "\n",
    "$\\begin{array}{l}\n",
    "P_a = |S_a| \\cos \\varphi_a = 3041,67 \\, \\mathrm{W} \\\\\n",
    "P_b = |S_b| \\cos \\varphi_b = 3041,67 \\, \\mathrm{W} \\\\\n",
    "P_c = |S_c| \\cos \\varphi_c = 4083,33 \\, \\mathrm{W}\n",
    "\\end{array}$"
   ]
  },
  {
   "cell_type": "markdown",
   "metadata": {},
   "source": [
    "Potencia reactiva:\n",
    "\n",
    "$\\begin{array}{l}\n",
    "Q_a = |S_a| \\sin \\varphi_a = 0 \\, \\mathrm{VAr} \\\\\n",
    "Q_b = |S_b| \\sin \\varphi_b = 0 \\, \\mathrm{VAr} \\\\\n",
    "Q_c = |S_c| \\sin \\varphi_c = 0 \\, \\mathrm{VAr}\n",
    "\\end{array}$"
   ]
  },
  {
   "cell_type": "markdown",
   "metadata": {},
   "source": [
    "Potencia trifásica aparente:\n",
    "\n",
    "$$ S_\\mathrm{trif} = S_a + S_b + S_c $$\n",
    "$$ S_\\mathrm{trif} = 10166,7 + j0 \\, \\mathrm{VA} $$"
   ]
  },
  {
   "cell_type": "markdown",
   "metadata": {},
   "source": [
    "Potencia trifásica activa:\n",
    "\n",
    "$$ P_\\mathrm{trif} = |S_\\mathrm{trif}| \\cos \\varphi_t = \\mathrm{real}(S_\\mathrm{trif}) $$\n",
    "$$ P_\\mathrm{trif} = 10166,7 \\, \\mathrm{W} $$"
   ]
  },
  {
   "cell_type": "markdown",
   "metadata": {},
   "source": [
    "Potencia trifásica reactiva:\n",
    "\n",
    "$$ Q_\\mathrm{trif} = |S_\\mathrm{trif}| \\sin  \\varphi_t = \\mathrm{imag}(S_\\mathrm{trif}) $$\n",
    "$$ Q_\\mathrm{trif} = 0 \\, \\mathrm{VAr} $$"
   ]
  },
  {
   "cell_type": "markdown",
   "metadata": {},
   "source": [
    "<mark><strong>Resolución en Python 3</strong></mark>"
   ]
  },
  {
   "cell_type": "code",
   "execution_count": 16,
   "metadata": {},
   "outputs": [],
   "source": [
    "import numpy as np\n",
    "import cmath"
   ]
  },
  {
   "cell_type": "code",
   "execution_count": 17,
   "metadata": {},
   "outputs": [],
   "source": [
    "# Datos\n",
    "E_lin  = 400             # V     Tensión de línea\n",
    "E_fase = 400/np.sqrt(3)  # V     Tensión de fase\n",
    "# Tensiones de generación\n",
    "Ean = cmath.rect(E_fase, np.deg2rad(0) )\n",
    "Ebn = cmath.rect(E_fase, np.deg2rad(-120))\n",
    "Ecn = cmath.rect(E_fase, np.deg2rad(120))\n",
    "# Impedancias de carga\n",
    "Za = 20\n",
    "Zb = Za\n",
    "Zc = 10\n",
    "Zn = 5 # Ohm"
   ]
  },
  {
   "cell_type": "code",
   "execution_count": 23,
   "metadata": {},
   "outputs": [],
   "source": [
    "# Cálculo de admitancias\n",
    "Ya = 1/Za\n",
    "Yb = 1/Zb\n",
    "Yc = 1/Zc\n",
    "Yn = 1/Zn\n",
    "# Cálculo de tensión de neutro\n",
    "Von = (Ean*Ya + Ebn*Yb + Ecn*Yc)/(Ya + Yb + Yc + Yn)\n",
    "# Tensiones de fase\n",
    "Uao = Ean - Von\n",
    "Ubo = Ebn - Von\n",
    "Uco = Ecn - Von\n",
    "# Tensiones de línea\n",
    "Uab = Ebn - Ean\n",
    "Ubc = Ecn - Ebn\n",
    "Uca = Ean - Ecn\n",
    "# Cálculo de corrientes de fase\n",
    "Ia = Uao/Za\n",
    "Ib = Ubo/Zb\n",
    "Ic = Uco/Zc\n",
    "# Corriente de neutro\n",
    "I_neutro = Ia + Ib + Ic\n",
    "# Potencia aparente\n",
    "Sa = Uao*Ia.conjugate()\n",
    "Sb = Ubo*Ib.conjugate()\n",
    "Sc = Uco*Ic.conjugate()\n",
    "# Potencia real\n",
    "Pa = Sa.real\n",
    "Pb = Sb.real\n",
    "Pc = Sc.real\n",
    "# Potencia reactiva\n",
    "Qa = Sa.imag\n",
    "Qb = Sb.imag\n",
    "Qc = Sc.imag\n",
    "# Potencia trifásica aparente \n",
    "Strif = Sa + Sb + Sc\n",
    "# Potencia trifásica real\n",
    "Ptrif = Strif.real\n",
    "# Potencia trifásica reactiva\n",
    "Qtrif = Strif.imag"
   ]
  },
  {
   "cell_type": "code",
   "execution_count": 19,
   "metadata": {},
   "outputs": [
    {
     "name": "stdout",
     "output_type": "stream",
     "text": [
      "Resultados:\n",
      "\n",
      "* ítem 1)\n",
      "---------------------------------\n",
      "Tensión de neutro:\n",
      "Von = Upat = (28.87 ∠ 120.00°) V\n",
      "---------------------------------\n",
      "\n",
      "Tensiones de fase:\n",
      "Uao = (246.64 ∠ -5.82°) V\n",
      "Ubo = (246.64 ∠ -114.18°) V\n",
      "Uco = (246.64 ∠ 120.00°) V\n",
      "Corrientes de fase:\n",
      "Ia = (12.33 ∠ -5.82°) A\n",
      "Ib = (12.33 ∠ -114.18°) A\n",
      "Ic = (20.21 ∠ 120.00°) A\n",
      "Corriente de neutro:\n",
      "I_neutro = (5.77 ∠ 120.00°) A\n",
      "Potencia aparente:\n",
      "Sa = 3041.67+0.00j VA = (3041.67 ∠ 0.00°) VA\n",
      "Sb = 3041.67+0.00j VA = (3041.67 ∠ 0.00°) VA\n",
      "Sc = 4083.33-0.00j VA = (4083.33 ∠ -0.00°) VA\n",
      "Potencia activa:\n",
      "Pa = 3041.67 W\n",
      "Pb = 3041.67 W\n",
      "Pc = 4083.33 W\n",
      "Potencia reactiva:\n",
      "Qa = 0.00 VAr\n",
      "Qb = 0.00 VAr\n",
      "Qc = -0.00 VAr\n",
      "\n",
      "* ítem 2)\n",
      "---------------------------------------------------\n",
      "Potencia trifásica aparente:\n",
      "Strif = 10166.67-0.00j VA = (10166.67 ∠ -0.00°) VA\n",
      "Potencia trifásica activa:\n",
      "Ptrif = 10166.67 W\n",
      "Potencia trifásica reactiva:\n",
      "Qtrif = -0.00 VAr\n",
      "---------------------------------------------------\n"
     ]
    }
   ],
   "source": [
    "## Imprime resultados\n",
    "print('Resultados:')\n",
    "print()\n",
    "print('* ítem 1)')\n",
    "print('---------------------------------')\n",
    "print('Tensión de neutro:')\n",
    "print('Von = Upat = (%.2f ∠ %.2f°) V'%(abs(Von) , np.rad2deg(cmath.phase(Von)) ))\n",
    "print('---------------------------------')\n",
    "print()\n",
    "print('Tensiones de fase:')\n",
    "print('Uao = (%.2f ∠ %.2f°) V'%(abs(Uao) , np.rad2deg(cmath.phase(Uao)) ))\n",
    "print('Ubo = (%.2f ∠ %.2f°) V'%(abs(Uao) , np.rad2deg(cmath.phase(Ubo)) ))\n",
    "print('Uco = (%.2f ∠ %.2f°) V'%(abs(Uao) , np.rad2deg(cmath.phase(Uco)) ))\n",
    "print('Corrientes de fase:')\n",
    "print('Ia = (%.2f ∠ %.2f°) A'%(abs(Ia) , np.rad2deg( cmath.phase(Ia) ) ))\n",
    "print('Ib = (%.2f ∠ %.2f°) A'%(abs(Ib) , np.rad2deg( cmath.phase(Ib) ) ))\n",
    "print('Ic = (%.2f ∠ %.2f°) A'%(abs(Ic) , np.rad2deg( cmath.phase(Ic) ) ))\n",
    "print('Corriente de neutro:')\n",
    "print('I_neutro = (%.2f ∠ %.2f°) A'%(abs(I_neutro), np.rad2deg(cmath.phase(I_neutro)) ))\n",
    "print('Potencia aparente:')\n",
    "print('Sa = {:.2f} VA = (%.2f ∠ %.2f°) VA'.format(Sa)%(abs(Sa) , np.rad2deg( cmath.phase(Sa) ) ))\n",
    "print('Sb = {:.2f} VA = (%.2f ∠ %.2f°) VA'.format(Sb)%(abs(Sb) , np.rad2deg( cmath.phase(Sb) ) ))\n",
    "print('Sc = {:.2f} VA = (%.2f ∠ %.2f°) VA'.format(Sc)%(abs(Sc) , np.rad2deg( cmath.phase(Sc) ) ))\n",
    "print('Potencia activa:')\n",
    "print('Pa = %.2f W'%Pa)\n",
    "print('Pb = %.2f W'%Pb)\n",
    "print('Pc = %.2f W'%Pc)\n",
    "print('Potencia reactiva:')\n",
    "print('Qa = %.2f VAr'%Qa)\n",
    "print('Qb = %.2f VAr'%Qb)\n",
    "print('Qc = %.2f VAr'%Qc)\n",
    "print()\n",
    "print('* ítem 2)')\n",
    "print('---------------------------------------------------')\n",
    "print('Potencia trifásica aparente:')\n",
    "print('Strif = {:.2f} VA = (%.2f ∠ %.2f°) VA'.format(Strif)%(abs(Strif) , np.rad2deg( cmath.phase(Strif) ) ))\n",
    "print('Potencia trifásica activa:')\n",
    "print('Ptrif = %.2f W'%Ptrif)\n",
    "print('Potencia trifásica reactiva:')\n",
    "print('Qtrif = %.2f VAr'%Qtrif)\n",
    "print('---------------------------------------------------')"
   ]
  },
  {
   "cell_type": "markdown",
   "metadata": {},
   "source": [
    "### Graficando con matplotlib"
   ]
  },
  {
   "cell_type": "code",
   "execution_count": 20,
   "metadata": {},
   "outputs": [],
   "source": [
    "import matplotlib\n",
    "import matplotlib.pyplot as plt"
   ]
  },
  {
   "cell_type": "code",
   "execution_count": 31,
   "metadata": {},
   "outputs": [
    {
     "data": {
      "image/png": "[encoded data removed]",
      "text/plain": [
       "<Figure size 576x576 with 1 Axes>"
      ]
     },
     "metadata": {
      "needs_background": "light"
     },
     "output_type": "display_data"
    },
    {
     "name": "stdout",
     "output_type": "stream",
     "text": [
      "Tensiones de generación:\n",
      "Ean = 230.94+0.00j  V = (230.94 < 0.00°) V\n",
      "Ebn = -115.47-200.00j  V = (230.94 < -120.00°) V\n",
      "Ecn = -115.47+200.00j  V = (230.94 < 120.00°) V\n",
      "Tensiones compuestas:\n",
      "Uab = -346.41-200.00j  V = (400.00 < -150.00°) V\n",
      "Ubc = 0.00+400.00j  V = (400.00 < 90.00°) V\n",
      "Uca = 346.41-200.00j  V = (230.94 < -30.00°) V\n",
      "Tensión de desplazamiento de neutro:\n",
      "Von = -14.43+25.00j  V = (28.87 < 120.00°) V\n",
      "Tensiones de fase:\n",
      "Uao =  245.37-25.00j V = (246.64 < -5.82°) V\n",
      "Ubo = -101.04-225.00j V = (246.64 < -114.18°) V\n",
      "Uco = -101.04+175.00j V = (202.07 < 120.00°) V\n"
     ]
    }
   ],
   "source": [
    "%matplotlib inline\n",
    "plt.figure(figsize=(8,8))\n",
    "ax = plt.gca()\n",
    "ax.quiver(0,0,Ean.real,Ean.imag,angles='xy',scale_units='xy',scale=1)\n",
    "ax.quiver(0,0,Ebn.real,Ebn.imag,angles='xy',scale_units='xy',scale=1)\n",
    "ax.quiver(0,0,Ecn.real,Ecn.imag,angles='xy',scale_units='xy',scale=1)\n",
    "ax.quiver(Von.real,Von.imag,Uao.real,Uao.imag,width=0.005,angles='xy',scale_units='xy',scale=1,color='blue')\n",
    "ax.quiver(Von.real,Von.imag,Ubo.real,Ubo.imag,width=0.005,angles='xy',scale_units='xy',scale=1,color='blue')\n",
    "ax.quiver(Von.real,Von.imag,Uco.real,Uco.imag,width=0.005,angles='xy',scale_units='xy',scale=1,color='blue')\n",
    "ax.quiver(0,0,Von.real,Von.imag,angles='xy',scale_units='xy',scale=1,color='green')\n",
    "ax.quiver(Ean.real,Ean.imag,Uab.real,Uab.imag,angles='xy',scale_units='xy',scale=1,color='red')\n",
    "ax.quiver(Ecn.real,Ecn.imag,Uca.real,Uca.imag,angles='xy',scale_units='xy',scale=1,color='red')\n",
    "ax.quiver(Ebn.real,Ebn.imag,Ubc.real,Ubc.imag,angles='xy',scale_units='xy',scale=1,color='red')\n",
    "plt.text(Ean.real, Ean.imag, r'$E_{an} < %.1f°$'%(np.rad2deg(cmath.phase(Ean))), fontsize=14)\n",
    "plt.text(Ebn.real, Ebn.imag - 40, r'$E_{bn} < %.1f°$'%(np.rad2deg(cmath.phase(Ebn))), fontsize=14)\n",
    "plt.text(Ecn.real, Ecn.imag + 20, r'$E_{cn} < %.1f°$'%(np.rad2deg(cmath.phase(Ecn))), fontsize=14)\n",
    "plt.text(Ean.real/2, Ebn.imag/2, r'$U_{ab} < %.1f°$'%(np.rad2deg(cmath.phase(Uab))), fontsize=14,color='red')\n",
    "plt.text(Ean.real/2, Ecn.imag/2, r'$U_{ca} < %.1f°$'%(np.rad2deg(cmath.phase(Uca))), fontsize=14,color='red')\n",
    "plt.text(Ebn.real - 40, 0, r'$U_{bc} < %.1f°$'%(np.rad2deg(cmath.phase(Ubc))), fontsize=14,color='red')\n",
    "plt.text(Von.real + 20, Von.imag, r'$V_{on} < %.1f°$'%(np.rad2deg(cmath.phase(Von))), fontsize=14,color='green')\n",
    "plt.text(Uao.real + Von.real - 15, Uao.imag + Von.imag + 20, r'$U_{ao} < %.1f°$'%(np.rad2deg(cmath.phase(Uao))), fontsize=14,color='blue')\n",
    "plt.text(Ubo.real + Von.real, Ubo.imag + Von.imag - 20, r'$U_{bo} < %.1f°$'%(np.rad2deg(cmath.phase(Ubo))), fontsize=14,color='blue')\n",
    "plt.text(Uco.real + Von.real + 20, Uco.imag + Von.imag, r'$U_{co} < %.1f°$'%(np.rad2deg(cmath.phase(Uco))), fontsize=14,color='blue')\n",
    "plt.text(0, -20, r'$N$', fontsize=14,color='green')\n",
    "ax.set_aspect('equal')\n",
    "plt.title('Tensiones de fase y compuesta', fontsize=16)\n",
    "plt.xlabel('Re (Eje real)',  fontsize=16)\n",
    "plt.ylabel('Im (Eje imaginario)',  fontsize=16)\n",
    "plt.grid(linestyle=\":\")\n",
    "ax.set_axisbelow(True)\n",
    "ax.set_xlim([-200,300])\n",
    "ax.set_ylim([-250,250])\n",
    "#plt.draw()\n",
    "plt.show()\n",
    "print('Tensiones de generación:')\n",
    "print('Ean = {:.2f}  V = (%.2f < %.2f°) V'.format(Ean)%(abs(Ean), np.rad2deg(cmath.phase(Ean)) ))\n",
    "print('Ebn = {:.2f}  V = (%.2f < %.2f°) V'.format(Ebn)%(abs(Ebn), np.rad2deg(cmath.phase(Ebn)) ))\n",
    "print('Ecn = {:.2f}  V = (%.2f < %.2f°) V'.format(Ecn)%(abs(Ecn), np.rad2deg(cmath.phase(Ecn)) ))\n",
    "print('Tensiones compuestas:')\n",
    "print('Uab = {:.2f}  V = (%.2f < %.2f°) V'.format(Uab)%(abs(Uab), np.rad2deg(cmath.phase(Uab)) ))\n",
    "print('Ubc = {:.2f}  V = (%.2f < %.2f°) V'.format(Ubc)%(abs(Ubc), np.rad2deg(cmath.phase(Ubc)) ))\n",
    "print('Uca = {:.2f}  V = (%.2f < %.2f°) V'.format(Uca)%(abs(Ecn), np.rad2deg(cmath.phase(Uca)) ))\n",
    "print('Tensión de desplazamiento de neutro:')\n",
    "print('Von = {:.2f}  V = (%.2f < %.2f°) V'.format(Von)%(abs(Von), np.rad2deg(cmath.phase(Von)) ))\n",
    "print('Tensiones de fase:')\n",
    "print('Uao =  {:.2f} V = (%.2f < %.2f°) V'.format(Uao)%(abs(Uao), np.rad2deg(cmath.phase(Uao)) ))\n",
    "print('Ubo = {:.2f} V = (%.2f < %.2f°) V'.format(Ubo)%(abs(Ubo), np.rad2deg(cmath.phase(Ubo)) ))\n",
    "print('Uco = {:.2f} V = (%.2f < %.2f°) V'.format(Uco)%(abs(Uco), np.rad2deg(cmath.phase(Uco)) ))"
   ]
  },
  {
   "cell_type": "markdown",
   "metadata": {},
   "source": [
    "### Simulación en qucs\n",
    "<img src=\"img/tp4comp3.svg\">"
   ]
  },
  {
   "cell_type": "markdown",
   "metadata": {},
   "source": [
    "__Archivos de qucs:__       \n",
    "<a href=\"qucs/tp4ejcompB.sch\">tp4ejcompB.sch</a>       \n",
    "<a href=\"qucs/tp4ejcompB.dpl\">tp4ejcompB.dpl</a>     \n",
    "<a href=\"qucs/tp4ejcompB.dat\">tp4ejcompB.dat</a>      \n",
    "Se abre el archivo .sch con Qucs y se simula."
   ]
  },
  {
   "cell_type": "markdown",
   "metadata": {},
   "source": [
    "-----------------------\n",
    "<a href=\"https://colab.research.google.com/github/daniel-lorenzo/Electrotecnia/blob/master/Ejercitacion/TP4complement.ipynb\"><img align=\"left\" src=\"https://colab.research.google.com/assets/colab-badge.svg\" alt=\"Open in Colab\" title=\"Open and Execute in Google Colaboratory\"></a>"
   ]
  }
 ],
 "metadata": {
  "kernelspec": {
   "display_name": "Python 3",
   "language": "python",
   "name": "python3"
  },
  "language_info": {
   "codemirror_mode": {
    "name": "ipython",
    "version": 3
   },
   "file_extension": ".py",
   "mimetype": "text/x-python",
   "name": "python",
   "nbconvert_exporter": "python",
   "pygments_lexer": "ipython3",
   "version": "3.7.6"
  }
 },
 "nbformat": 4,
 "nbformat_minor": 4
}
