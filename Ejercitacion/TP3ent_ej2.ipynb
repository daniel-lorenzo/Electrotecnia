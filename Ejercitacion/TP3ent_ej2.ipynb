{
 "cells": [
  {
   "cell_type": "markdown",
   "id": "902d7cf7-d1d8-40ad-8ce1-b88e228b370f",
   "metadata": {
    "tags": []
   },
   "source": [
    "# TP N°2 - Teorema de Thevenin\n",
    "\n",
    "__UNLZ - Facultad de Ingeniería__       \n",
    "__Electrotecnia__      \n",
    "__Alumno:__ Daniel Antonio Lorenzo"
   ]
  },
  {
   "cell_type": "markdown",
   "id": "c96ad86a-24ca-4020-9b73-f3f0f2f7d438",
   "metadata": {
    "tags": []
   },
   "source": [
    "## Ejercicio N°2\n",
    "* Obtener el equivalente de Thevenin (entre los puntos A y B)\n",
    "* Calcular la corriente que circularía por $R_C$"
   ]
  },
  {
   "cell_type": "markdown",
   "id": "836d6db6-1f39-47d2-a0fa-1082f4d92edd",
   "metadata": {},
   "source": [
    "<img src=\"img/tp3ep2.png\" alt=\"tp3ep2.png\">"
   ]
  },
  {
   "cell_type": "markdown",
   "id": "9ff4c931-187e-4b1d-ac85-7cfadc461f98",
   "metadata": {},
   "source": [
    "### Solución\n",
    "Primero, pasivamos la fuente"
   ]
  },
  {
   "cell_type": "markdown",
   "id": "d2ba9da0-22dd-45eb-913f-0ea4055ed526",
   "metadata": {},
   "source": [
    "<img src=\"img/tp3ep2-1.png\" alt=\"tp3ep2-1.png\">"
   ]
  },
  {
   "cell_type": "markdown",
   "id": "8c0628e1-30ce-4aed-96b2-2cced3421ee6",
   "metadata": {},
   "source": [
    "* __Cálculo de $Z_{th}$__"
   ]
  },
  {
   "cell_type": "markdown",
   "id": "7a8f6891-cc62-4959-b035-50cc8658836e",
   "metadata": {},
   "source": [
    "Hacemos $Z_0 || Z_1$\n",
    "$$ Z_0 || Z_1 = \\frac{Z_0 \\cdot Z_1}{Z_0 + Z_1} = 0 \\, \\Omega $$"
   ]
  },
  {
   "cell_type": "markdown",
   "id": "85fe9c75-a2e7-4372-bf13-7e0efee38fe2",
   "metadata": {},
   "source": [
    "<img src=\"img/tp3ep2-2.png\" alt=\"tp3ep2-2.png\">"
   ]
  },
  {
   "cell_type": "markdown",
   "id": "93d69424-5f04-4685-a423-a08104e130f3",
   "metadata": {},
   "source": [
    "Hacemos $(Z_0 || Z_1) \\, || \\, Z_2$\n",
    "$$ Z_{th} = (Z_0 || Z_1) \\, || \\, Z_2 = \\frac{(Z_0 || Z_1) \\cdot Z_2}{Z_0 + Z_1 + Z_2} = 0 \\, \\Omega $$"
   ]
  },
  {
   "cell_type": "markdown",
   "id": "8fe9decc-f3f5-488c-bdd1-f726cc8f8c58",
   "metadata": {},
   "source": [
    "<img src=\"img/tp3ep2-3.png\" alt=\"tp3ep2-3.png\">"
   ]
  },
  {
   "cell_type": "markdown",
   "id": "38033436-af7e-4dd9-a8c3-cd406f8ea57d",
   "metadata": {},
   "source": [
    "<div class=\"alert-info\"><strong>Resulta:</strong>\n",
    "    $$ Z_{th} = 0 \\, \\Omega $$\n",
    "    </div>"
   ]
  },
  {
   "cell_type": "markdown",
   "id": "d70f949c-4fe0-4a3c-a7d3-0c6e8e321efa",
   "metadata": {},
   "source": [
    "Calculamos la resistencia equivalente $R_{eq}$"
   ]
  },
  {
   "cell_type": "markdown",
   "id": "15efb4ee-8118-4011-943d-67363ca1d61c",
   "metadata": {},
   "source": [
    "$$ R_{eq} = \\frac{Z_1 \\cdot Z_2}{Z_1 + Z_2} = 100,981e^{-j78,634^\\circ} \\, \\Omega \\quad \\rightarrow \\quad 19,901 - j99 \\, \\Omega $$"
   ]
  },
  {
   "cell_type": "markdown",
   "id": "5ef6105c-7407-4e9e-ba38-92d045ab7287",
   "metadata": {},
   "source": [
    "En un principio, la resistencia $R_C$ no está conectada, por lo tanto no fluye corriente por $R_{eq}$ y la caida de voltaje es cero. Entonces el voltaje de Thevenin es igual a la fuente del circuito original."
   ]
  },
  {
   "cell_type": "markdown",
   "id": "118018d3-0e16-4a05-a957-77502db8399e",
   "metadata": {},
   "source": [
    "__Todos los componentes están conectado en paralelo, por lo tanto todos tienen en mismo voltaje que es el de la fuente de alimentación.__"
   ]
  },
  {
   "cell_type": "markdown",
   "id": "3396cbd1-cd01-48ea-9357-c7ff3e815612",
   "metadata": {},
   "source": [
    "<div class=\"alert-info\"><strong>Resulta:</strong>\n",
    "$$ V_{th} = U = 50 \\, \\mathrm{V} $$\n",
    "    </div>"
   ]
  },
  {
   "cell_type": "markdown",
   "id": "549f1863-7230-4c04-8ce1-5dd8827ce5e3",
   "metadata": {},
   "source": [
    "Circuito equivalente de Thévenin:\n",
    "\n",
    "<img src=\"img/tp3ep2-4.png\" alt=\"tp3ep2-4.png\">"
   ]
  },
  {
   "cell_type": "markdown",
   "id": "4ab1bd9d-c8e0-4213-b924-f7121d56cabb",
   "metadata": {},
   "source": [
    "* __Cálculo de $I_{R_C}$__\n",
    "\n",
    "<img src=\"img/tp3ep2-5.png\" alt=\"tp3ep2-5.png\">"
   ]
  },
  {
   "cell_type": "markdown",
   "id": "b06fd402-f6b0-4e0e-8739-57d6022f3b04",
   "metadata": {},
   "source": [
    "$$ V = I R $$"
   ]
  },
  {
   "cell_type": "markdown",
   "id": "911b73c6-f54f-4abc-91b6-192a61c36a50",
   "metadata": {},
   "source": [
    "<div class=\"alert-info\"><strong>Entonces</strong>\n",
    "$$ I_{R_C} = \\frac{V}{R_C} = \\frac{50 \\, \\mathrm{V}}{70 \\, \\Omega} \\cong 0,714 \\angle 0^\\circ \\, \\mathrm{A} $$\n",
    "    </div>"
   ]
  },
  {
   "cell_type": "markdown",
   "id": "9cfa6fe2-e628-44f6-8250-f243b11052a6",
   "metadata": {},
   "source": [
    "### Usando python para calcular (opcional)"
   ]
  },
  {
   "cell_type": "code",
   "execution_count": 7,
   "id": "32b1139e-8625-4764-8f96-e5a45381fd00",
   "metadata": {},
   "outputs": [],
   "source": [
    "import math, cmath"
   ]
  },
  {
   "cell_type": "code",
   "execution_count": 8,
   "id": "7fe23386-51a1-4690-a171-9a795787dc8f",
   "metadata": {},
   "outputs": [],
   "source": [
    "# Datos:\n",
    "Z0 = 0 # Ohm\n",
    "Z1 = 1000 + 200j # Ohm\n",
    "Z2 = 10 - 100j # Ohm\n",
    "U = 50 # V\n",
    "Rc = 70 # Ohm"
   ]
  },
  {
   "cell_type": "code",
   "execution_count": 9,
   "id": "a792affe-e0f3-4105-b5db-5993550de6e4",
   "metadata": {},
   "outputs": [],
   "source": [
    "Zth = (( (Z0*Z1)/(Z0 + Z1) )*Z2)/(Z0 + Z1 + Z2)\n",
    "Vth = U\n",
    "Irc = Vth/Rc"
   ]
  },
  {
   "cell_type": "code",
   "execution_count": 10,
   "id": "3f84ae55-36d8-484e-af2d-8042ae0fc057",
   "metadata": {},
   "outputs": [],
   "source": [
    "Irc_pol = cmath.polar(Irc)"
   ]
  },
  {
   "cell_type": "code",
   "execution_count": 11,
   "id": "984db3b4-a586-4eca-8f28-3834491ffd2f",
   "metadata": {},
   "outputs": [
    {
     "name": "stdout",
     "output_type": "stream",
     "text": [
      "Zth = 0.00+0.00j Ohm\n",
      "Vth = 50.00 V\n",
      "Irc = (0.714 < 0.00°) A\n"
     ]
    }
   ],
   "source": [
    "print('Zth = {:.2f} Ohm'.format(Zth))\n",
    "print('Vth = %.2f V'%Vth)\n",
    "print('Irc = (%.3f < %.2f°) A'%(Irc_pol[0], Irc_pol[1] ))"
   ]
  },
  {
   "cell_type": "code",
   "execution_count": 12,
   "id": "d541e32e-6f03-42f6-97f4-70b505c54eee",
   "metadata": {},
   "outputs": [],
   "source": [
    "%reset -s -f"
   ]
  }
 ],
 "metadata": {
  "kernelspec": {
   "display_name": "Python 3 (ipykernel)",
   "language": "python",
   "name": "python3"
  },
  "language_info": {
   "codemirror_mode": {
    "name": "ipython",
    "version": 3
   },
   "file_extension": ".py",
   "mimetype": "text/x-python",
   "name": "python",
   "nbconvert_exporter": "python",
   "pygments_lexer": "ipython3",
   "version": "3.9.12"
  }
 },
 "nbformat": 4,
 "nbformat_minor": 5
}
