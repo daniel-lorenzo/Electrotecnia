{
 "cells": [
  {
   "cell_type": "markdown",
   "metadata": {},
   "source": [
    "## Problema 1\n",
    "Dados los siguientes números complejos:\n",
    "\n",
    "$\\begin{array}{l}\n",
    "Z_1 = 6 \\\\\n",
    "Z_2 = 2 - j3 \\\\\n",
    "Z_3 = j4 \\\\\n",
    "Z_4 = -3 + j2 \\\\\n",
    "Z_5 = -4 - j4 \\\\\n",
    "Z_6 = 3 + j3\n",
    "\\end{array}$ "
   ]
  },
  {
   "cell_type": "markdown",
   "metadata": {},
   "source": [
    "### 1.1 Representarlos en sistema de ejes coordenados"
   ]
  },
  {
   "cell_type": "code",
   "execution_count": 1,
   "metadata": {},
   "outputs": [],
   "source": [
    "%%python\n",
    "import matplotlib\n",
    "import matplotlib.pyplot as plt\n",
    "import numpy as np"
   ]
  },
  {
   "cell_type": "code",
   "execution_count": 2,
   "metadata": {},
   "outputs": [
    {
     "ename": "SyntaxError",
     "evalue": "('invalid syntax', ('python cell', 1, 1, '%matplotlib inline\\n'))",
     "output_type": "error",
     "traceback": [
      "SyntaxError: invalid syntax (python cell, line 1)"
     ]
    }
   ],
   "source": [
    "%%python\n",
    "%matplotlib inline"
   ]
  },
  {
   "cell_type": "code",
   "execution_count": 3,
   "metadata": {},
   "outputs": [],
   "source": [
    "%%python\n",
    "re =   [6, 2 , 0, -3,-4,3] \n",
    "im =  [0, -3, 4, 2 ,-4,3]\n",
    "plt.plot(re, im, 'ro')\n",
    "plt.axis([-5, 8, -5, 5])\n",
    "plt.title('Números complejos', fontsize=20)\n",
    "plt.xlabel('Re (Eje real)',  fontsize=14)\n",
    "plt.ylabel('Im (Eje imaginario)',  fontsize=14)\n",
    "plt.grid()\n",
    "plt.show()"
   ]
  },
  {
   "cell_type": "code",
   "execution_count": null,
   "metadata": {},
   "outputs": [],
   "source": []
  },
  {
   "cell_type": "markdown",
   "metadata": {},
   "source": [
    "### 1.2 Expresarlos en forma Polar y Exponencial"
   ]
  },
  {
   "cell_type": "markdown",
   "metadata": {},
   "source": [
    "$Z_1 = 6$"
   ]
  },
  {
   "cell_type": "markdown",
   "metadata": {},
   "source": [
    "$$ |r_1| = \\sqrt{(6)^2 + (0)^2} = 6 $$"
   ]
  },
  {
   "cell_type": "markdown",
   "metadata": {},
   "source": [
    "$$ \\phi_1 = \\arctan \\frac{Re}{Im} = \\arctan \\frac{0}{6} = 0 \\, \\mathrm{rad} $$"
   ]
  },
  {
   "cell_type": "markdown",
   "metadata": {},
   "source": [
    "__Forma polar:__\n",
    "$$ z_1 = (6 \\angle 0 \\, \\mathrm{rad}) $$"
   ]
  },
  {
   "cell_type": "markdown",
   "metadata": {},
   "source": [
    "__Forma exponencial:__\n",
    "$$ z_1 = 6e^{j0^\\circ} $$"
   ]
  },
  {
   "cell_type": "markdown",
   "metadata": {},
   "source": [
    "$ Z_2 = 2 - j3$"
   ]
  },
  {
   "cell_type": "markdown",
   "metadata": {},
   "source": [
    "$$ |r_2| = \\sqrt{2^2 + (-3)^2} = 3,6056 $$"
   ]
  },
  {
   "cell_type": "markdown",
   "metadata": {},
   "source": [
    "$$ \\phi_2 = \\arctan \\frac{-3}{2} + 2 \\pi = 5,3004 \\, \\mathrm{rad} $$"
   ]
  },
  {
   "cell_type": "markdown",
   "metadata": {},
   "source": [
    "$$ \\phi_2 = 5,3004 \\, \\mathrm{rad} \\cdot \\left( \\frac{180^\\circ}{ \\pi \\, \\mathrm{rad} }  \\right) = 303,69^\\circ $$"
   ]
  },
  {
   "cell_type": "markdown",
   "metadata": {},
   "source": [
    "__Forma polar:__\n",
    "$$ z_2 = ( 3,6056 \\angle 303,69^\\circ) $$"
   ]
  },
  {
   "cell_type": "markdown",
   "metadata": {},
   "source": [
    "__Forma exponencial:__\n",
    "$$ z_2 = 3,61 e^{j303,69^\\circ} $$"
   ]
  },
  {
   "cell_type": "markdown",
   "metadata": {},
   "source": [
    "$Z_3 = j4$"
   ]
  },
  {
   "cell_type": "markdown",
   "metadata": {},
   "source": [
    "$$ |r_3| = \\sqrt{(0)^2 + (4)^2} = 4 $$"
   ]
  },
  {
   "cell_type": "markdown",
   "metadata": {},
   "source": [
    "$$ \\phi_3 = \\arctan \\frac{0}{4} = 0 \\, \\mathrm{rad} $$"
   ]
  },
  {
   "cell_type": "markdown",
   "metadata": {},
   "source": [
    "__Forma polar:__\n",
    "$$ z_3 = (4 \\angle 0^\\circ) $$"
   ]
  },
  {
   "cell_type": "markdown",
   "metadata": {},
   "source": [
    "__Forma exponencial:__\n",
    "$$ z_3 = 4e^{j0^\\circ} $$"
   ]
  },
  {
   "cell_type": "markdown",
   "metadata": {},
   "source": [
    "$Z_4 = -3 + j2$"
   ]
  },
  {
   "cell_type": "markdown",
   "metadata": {},
   "source": [
    "$$ |r_4| = \\sqrt{(-3)^2 + 2^2} = 3,6056 $$"
   ]
  },
  {
   "cell_type": "markdown",
   "metadata": {},
   "source": [
    "$$ \\phi_4 = \\arctan \\frac{2}{-3} + \\pi = 2,5536 \\, \\mathrm{rad} $$"
   ]
  },
  {
   "cell_type": "markdown",
   "metadata": {},
   "source": [
    "$$ \\phi_4 = 2,5536 \\, \\mathrm{rad} \\cdot \\frac{180^\\circ}{\\pi \\, \\mathrm{rad}} = 146,31^\\circ $$"
   ]
  },
  {
   "cell_type": "markdown",
   "metadata": {},
   "source": [
    "__Forma polar:__\n",
    "$$ z_4 = (2,55 \\angle 146,31^\\circ) $$"
   ]
  },
  {
   "cell_type": "markdown",
   "metadata": {},
   "source": [
    "__Forma exponencial:__\n",
    "$$ z_4 = 2,55e^{j146,31^\\circ} $$"
   ]
  },
  {
   "cell_type": "markdown",
   "metadata": {},
   "source": [
    "$Z_5 = -4 - j4$"
   ]
  },
  {
   "cell_type": "markdown",
   "metadata": {},
   "source": [
    "$$ |r_5| = \\sqrt{(-4)^2 + (-4)^2} = 5,6569 $$"
   ]
  },
  {
   "cell_type": "markdown",
   "metadata": {},
   "source": [
    "$$ \\phi_5 = \\arctan \\frac{4}{4} + \\pi = \\frac{5 \\pi}{4} \\, \\mathrm{rad} \\cong 3,9270 \\, \\mathrm{rad} $$"
   ]
  },
  {
   "cell_type": "markdown",
   "metadata": {},
   "source": [
    "$$ \\phi_5 = \\frac{5 \\pi}{4} \\, \\mathrm{rad} \\cdot \\frac{180^\\circ}{\\pi \\, \\mathrm{rad}} = 225^\\circ $$"
   ]
  },
  {
   "cell_type": "markdown",
   "metadata": {},
   "source": [
    "__Forma polar:__\n",
    "$$ z_5 = (5,66 \\angle 225^\\circ) $$"
   ]
  },
  {
   "cell_type": "markdown",
   "metadata": {},
   "source": [
    "__Forma exponencial:__\n",
    "$$ z_5 = 5,66e^{j225^\\circ} $$"
   ]
  },
  {
   "cell_type": "markdown",
   "metadata": {},
   "source": [
    "$Z_6 = 3 + j3$"
   ]
  },
  {
   "cell_type": "markdown",
   "metadata": {},
   "source": [
    "$$ |r_6| = \\sqrt{(3)^2 + (3)^2} = 4,2426 $$"
   ]
  },
  {
   "cell_type": "markdown",
   "metadata": {},
   "source": [
    "$$ \\phi_6 = \\arctan \\frac{3}{3} = \\frac{\\pi}{4} \\, \\mathrm{rad} $$"
   ]
  },
  {
   "cell_type": "markdown",
   "metadata": {},
   "source": [
    "$$ \\phi_6 = \\frac{\\pi}{4} \\, \\mathrm{rad} \\cdot \\frac{180^\\circ}{\\pi \\, \\mathrm{rad}} = 45^\\circ $$"
   ]
  },
  {
   "cell_type": "markdown",
   "metadata": {},
   "source": [
    "__Forma polar:__\n",
    "$$ z_6 = (4,24 \\angle 45^\\circ) $$"
   ]
  },
  {
   "cell_type": "markdown",
   "metadata": {},
   "source": [
    "__Forma exponencial:__\n",
    "$$ z_6 = 4,24 e^{j45^\\circ} $$"
   ]
  },
  {
   "cell_type": "markdown",
   "metadata": {},
   "source": [
    "## Numeros complejos"
   ]
  },
  {
   "cell_type": "markdown",
   "metadata": {},
   "source": [
    "Un número complejo $z$ puede escribirse en forma rectangular como"
   ]
  },
  {
   "cell_type": "markdown",
   "metadata": {},
   "source": [
    "$$ z = x + jy $$"
   ]
  },
  {
   "cell_type": "markdown",
   "metadata": {},
   "source": [
    "donde $j = \\sqrt{-1}$; $x$ es la parte real de $z$ e $y$ es la parte imaginaria de $z$."
   ]
  },
  {
   "cell_type": "markdown",
   "metadata": {},
   "source": [
    "El número complejo $z$ también puede escribirse en forma polar o exponencial, como"
   ]
  },
  {
   "cell_type": "markdown",
   "metadata": {},
   "source": [
    "$$ z = r \\angle \\phi = re^{j \\phi} $$"
   ]
  },
  {
   "cell_type": "markdown",
   "metadata": {},
   "source": [
    "donde $r$ es la magnitud de $z$ y $\\phi$ la fase de $z$. Se advierte entonces que $z$ puede representarse de tres maneras:"
   ]
  },
  {
   "cell_type": "markdown",
   "metadata": {},
   "source": [
    "$$\\begin{array}{lcl} \n",
    "z = x + jy & & \\mbox{Forma rectangular} \\\\\n",
    "z = r \\angle \\phi & & \\mbox{Forma polar} \\\\\n",
    "z = re^{j \\phi} & & \\mbox{Forma exponencial}\n",
    "\\end{array}$$"
   ]
  },
  {
   "cell_type": "markdown",
   "metadata": {},
   "source": [
    "Dadas $x$ e $y$, se puede obtener $r$ y $\\phi$ como "
   ]
  },
  {
   "cell_type": "markdown",
   "metadata": {},
   "source": [
    "$$ x = r \\cos \\phi \\qquad \\qquad y = r \\sin \\phi $$"
   ]
  },
  {
   "cell_type": "markdown",
   "metadata": {},
   "source": [
    "Así, $z$ puede escribirse como"
   ]
  },
  {
   "cell_type": "markdown",
   "metadata": {},
   "source": [
    "$$ z = x + jy = r \\angle \\phi = r( \\cos \\phi + j \\sin \\phi ) $$"
   ]
  },
  {
   "cell_type": "markdown",
   "metadata": {},
   "source": [
    "* La suma y resta de números complejos es más sencilla en la forma rectangular.    \n",
    "* La multiplicación y la división lo son en forma polar."
   ]
  },
  {
   "cell_type": "markdown",
   "metadata": {},
   "source": [
    "Son importantes las siguientes operaciones."
   ]
  },
  {
   "cell_type": "markdown",
   "metadata": {},
   "source": [
    "__Suma:__\n",
    "$$ z_1 + z_2 = (x_1 + x_2) + j(y_1 + y_2) $$"
   ]
  },
  {
   "cell_type": "markdown",
   "metadata": {},
   "source": [
    "__Resta:__\n",
    "$$ z_1 - z_2 = (x_1 - x_2) + j(y_1 - y_2) $$"
   ]
  },
  {
   "cell_type": "markdown",
   "metadata": {},
   "source": [
    "__Multiplicación:__\n",
    "$$ z_1 z_2 = r_1 r_2 \\; \\angle (\\phi_1 + \\phi_2) $$"
   ]
  },
  {
   "cell_type": "markdown",
   "metadata": {},
   "source": [
    "__División:__\n",
    "$$ \\frac{z_1}{z_2} = \\frac{r_1}{r_2} \\; \\angle (\\phi_1 - \\phi_2) $$"
   ]
  },
  {
   "cell_type": "markdown",
   "metadata": {},
   "source": [
    "__Inverso:__\n",
    "$$ \\frac{1}{z} = \\frac{1}{r} \\; \\angle (- \\phi) $$"
   ]
  },
  {
   "cell_type": "markdown",
   "metadata": {},
   "source": [
    "__Raíz cuadrada:__\n",
    "$$ \\sqrt{z} = \\sqrt{r} \\; \\angle \\frac{\\phi}{2} $$"
   ]
  },
  {
   "cell_type": "markdown",
   "metadata": {},
   "source": [
    "__Conjugado complejo:__\n",
    "$$ z^* = x - jy = r \\angle (- \\phi) = r e^{-j \\phi} $$"
   ]
  },
  {
   "cell_type": "markdown",
   "metadata": {},
   "source": [
    "La idea de la representación fasorial se basa en la indentidad de Euler. En general:"
   ]
  },
  {
   "cell_type": "markdown",
   "metadata": {},
   "source": [
    "$$ e^{\\pm j \\phi} = \\cos \\phi \\pm j \\sin \\phi $$"
   ]
  },
  {
   "cell_type": "markdown",
   "metadata": {},
   "source": [
    "lo que indica que se puede considerar a $\\cos \\phi$ y $\\sin \\phi$ como las partes real e imagenaria de $e^{j \\phi}$; se puede escribir"
   ]
  },
  {
   "cell_type": "markdown",
   "metadata": {},
   "source": [
    "$$\\begin{array}{l}\n",
    "\\cos \\phi = \\mathrm{Re} (e^{j \\phi}) \\\\\n",
    "\\sin \\phi = \\mathrm{Im} (e^{j \\phi})\n",
    "\\end{array}$$"
   ]
  },
  {
   "cell_type": "markdown",
   "metadata": {},
   "source": [
    "### Utilizando Octave/MATLAB"
   ]
  },
  {
   "cell_type": "code",
   "execution_count": 13,
   "metadata": {},
   "outputs": [
    {
     "name": "stdout",
     "output_type": "stream",
     "text": [
      "  phi (rad)     r\n",
      "   0.00000   6.00000\n",
      "  -0.98279   3.60555\n",
      "   1.57080   4.00000\n",
      "   2.55359   3.60555\n",
      "  -2.35619   5.65685\n",
      "   0.78540   4.24264\n",
      "Representación polar:\n"
     ]
    },
    {
     "data": {
      "image/png": "[encoded data removed]",
      "text/plain": [
       "<IPython.core.display.Image object>"
      ]
     },
     "metadata": {},
     "output_type": "display_data"
    }
   ],
   "source": [
    "# Números complejos coordenadas rectangulares\n",
    "Z = [6  0 \n",
    "     2 -3\n",
    "     0  4\n",
    "    -3  2\n",
    "    -4 -4\n",
    "     3  3] ;\n",
    "# Conversión a polares\n",
    "disp('  phi (rad)     r')\n",
    "Z_pol = cart2pol(Z) ;\n",
    "disp(Z_pol)\n",
    "# Imprime gráfico\n",
    "disp('Representación polar:')\n",
    "h = polar(Z_pol(:,1),Z_pol(:,2),'*') ;\n",
    "set(h,'markersize',12)\n",
    "title (\"polar() plot\");"
   ]
  },
  {
   "cell_type": "markdown",
   "metadata": {},
   "source": [
    "### Utilizando Python"
   ]
  },
  {
   "cell_type": "code",
   "execution_count": 2,
   "metadata": {},
   "outputs": [],
   "source": [
    "%%python\n",
    "import  math, cmath"
   ]
  },
  {
   "cell_type": "code",
   "execution_count": 17,
   "metadata": {},
   "outputs": [],
   "source": [
    "%%python\n",
    "lista =[6 + 0j,2-3j,0+4j,-3+2j,-4-4j,3+3j]\n",
    "radio = []\n",
    "ang = []\n",
    "pol = []\n",
    "for i in lista:\n",
    "    ang.append( cmath.phase(i) )\n",
    "    radio.append( abs(i) )\n",
    "    pol.append(cmath.polar(i))"
   ]
  },
  {
   "cell_type": "code",
   "execution_count": 13,
   "metadata": {},
   "outputs": [
    {
     "name": "stdout",
     "output_type": "stream",
     "text": [
      "(6+0j) = (6.00 < 0.000 rad)\n",
      "(2-3j) = (3.61 < -0.983 rad)\n",
      "4j = (4.00 < 1.571 rad)\n",
      "(-3+2j) = (3.61 < 2.554 rad)\n",
      "(-4-4j) = (5.66 < -2.356 rad)\n",
      "(3+3j) = (4.24 < 0.785 rad)\n"
     ]
    }
   ],
   "source": [
    "%%python\n",
    "# printing the list using loop \n",
    "for x in range( len(radio) ): \n",
    "    print('%s = (%.2f < %.3f rad)'%(lista[x],radio[x],ang[x])) "
   ]
  },
  {
   "cell_type": "code",
   "execution_count": 23,
   "metadata": {},
   "outputs": [
    {
     "name": "stdout",
     "output_type": "stream",
     "text": [
      "(6.0, 0.0)\n",
      "(3.605551275463989, -0.982793723247329)\n",
      "(4.0, 1.5707963267948966)\n",
      "(3.605551275463989, 2.5535900500422257)\n",
      "(5.656854249492381, -2.356194490192345)\n",
      "(4.242640687119285, 0.7853981633974483)\n"
     ]
    }
   ],
   "source": [
    "%%python\n",
    "# printing the list using * and sep operator \n",
    "print(*pol, sep = \"\\n\")"
   ]
  },
  {
   "cell_type": "code",
   "execution_count": 5,
   "metadata": {},
   "outputs": [],
   "source": [
    "%%python\n",
    "for ang, radio in zip(ang, radio):\n",
    "    plt.polar(ang, radio, 'ro')\n",
    "\n",
    "plt.show()"
   ]
  },
  {
   "cell_type": "markdown",
   "metadata": {},
   "source": [
    "<img src=\"img/tp2e1.png\" alt=\"tp2e1.png\">"
   ]
  },
  {
   "cell_type": "code",
   "execution_count": 15,
   "metadata": {},
   "outputs": [
    {
     "name": "stdout",
     "output_type": "stream",
     "text": [
      "Z1_pol = (6.000 < 0.000 rad)\n",
      "Z2_pol = (3.606 < -0.983 rad)\n",
      "Z3_pol = (4.000 < 1.571 rad)\n",
      "Z4_pol = (3.606 < 2.554 rad)\n",
      "Z5_pol = (5.657 < -2.356 rad)\n",
      "Z6_pol = (4.243 < 0.785 rad)\n"
     ]
    }
   ],
   "source": [
    "%%python\n",
    "Z1 = 6           ; Z1_pol = cmath.polar(Z1)\n",
    "Z2 = 2 - 3j     ; Z2_pol = cmath.polar(Z2)\n",
    "Z3 = 4j          ; Z3_pol = cmath.polar(Z3)\n",
    "Z4 = -3 + 2j  ; Z4_pol = cmath.polar(Z4)\n",
    "Z5 = -4 - 4j   ; Z5_pol = cmath.polar(Z5)\n",
    "Z6 = 3 + 3j   ; Z6_pol = cmath.polar(Z6)\n",
    "\n",
    "print('Z1_pol = (%.3f < %.3f rad)'%(Z1_pol[0],Z1_pol[1]))\n",
    "print('Z2_pol = (%.3f < %.3f rad)'%(Z2_pol[0],Z2_pol[1]))\n",
    "print('Z3_pol = (%.3f < %.3f rad)'%(Z3_pol[0],Z3_pol[1]))\n",
    "print('Z4_pol = (%.3f < %.3f rad)'%(Z4_pol[0],Z4_pol[1]))\n",
    "print('Z5_pol = (%.3f < %.3f rad)'%(Z5_pol[0],Z5_pol[1]))\n",
    "print('Z6_pol = (%.3f < %.3f rad)'%(Z6_pol[0],Z6_pol[1]))"
   ]
  },
  {
   "cell_type": "markdown",
   "metadata": {},
   "source": [
    "### 1.3 Realizar las siguientes sumas y restas :\n",
    "$\\begin{array}{l}\n",
    "Z_1 + Z_2 \\\\\n",
    "Z_4 + Z_5 \\\\\n",
    "Z_3 - Z_2 \\\\\n",
    "Z_6 - Z_2\n",
    "\\end{array}$"
   ]
  },
  {
   "cell_type": "code",
   "execution_count": 25,
   "metadata": {},
   "outputs": [],
   "source": [
    "Z1 = 6 + 0i ;\n",
    "Z2 = 2 - 3i ;\n",
    "Z3 = 0 + 4i ;\n",
    "Z4 = -3 +2i ;\n",
    "Z5 = -4 - 4i ;\n",
    "Z6 = 3 + 3i ;"
   ]
  },
  {
   "cell_type": "code",
   "execution_count": 26,
   "metadata": {},
   "outputs": [
    {
     "name": "stdout",
     "output_type": "stream",
     "text": [
      "ans =  8 - 3i\r\n"
     ]
    }
   ],
   "source": [
    "Z1 + Z2"
   ]
  },
  {
   "cell_type": "code",
   "execution_count": 27,
   "metadata": {},
   "outputs": [
    {
     "name": "stdout",
     "output_type": "stream",
     "text": [
      "ans = -7 - 2i\r\n"
     ]
    }
   ],
   "source": [
    "Z4 + Z5"
   ]
  },
  {
   "cell_type": "code",
   "execution_count": 28,
   "metadata": {},
   "outputs": [
    {
     "name": "stdout",
     "output_type": "stream",
     "text": [
      "ans = -2 + 7i\r\n"
     ]
    }
   ],
   "source": [
    "Z3 - Z2"
   ]
  },
  {
   "cell_type": "code",
   "execution_count": 29,
   "metadata": {},
   "outputs": [
    {
     "name": "stdout",
     "output_type": "stream",
     "text": [
      "ans =  1 + 6i\r\n"
     ]
    }
   ],
   "source": [
    "Z6 - Z2"
   ]
  },
  {
   "cell_type": "code",
   "execution_count": null,
   "metadata": {},
   "outputs": [],
   "source": [
    "clear -a"
   ]
  },
  {
   "cell_type": "markdown",
   "metadata": {},
   "source": [
    "## Problema 2\n",
    "Realizar los siguientes productos y expresarlos en forma binómica"
   ]
  },
  {
   "cell_type": "markdown",
   "metadata": {},
   "source": [
    "$Z_1 \\cdot Z_2$ con $Z_1 = 5e^{j \\pi/3}$ y $Z_2 = 2e^{-j \\pi/6}$"
   ]
  },
  {
   "cell_type": "markdown",
   "metadata": {},
   "source": [
    "__Multiplicación:__\n",
    "$$ z_1 z_2 = r_1 r_2 \\; \\angle (\\phi_1 + \\phi_2) $$"
   ]
  },
  {
   "cell_type": "markdown",
   "metadata": {},
   "source": [
    "$$ z1 z2 = (5 \\cdot 2) \\angle (\\pi/3 + \\pi/6) \\, \\mathrm{rad} $$"
   ]
  },
  {
   "cell_type": "markdown",
   "metadata": {},
   "source": [
    "$$ z1 z2 = 10 \\angle \\frac{\\pi}{2} \\, \\mathrm{rad} $$"
   ]
  },
  {
   "cell_type": "markdown",
   "metadata": {},
   "source": [
    "$$ x = r \\cos \\phi \\qquad \\qquad y = r \\sin \\phi $$"
   ]
  },
  {
   "cell_type": "code",
   "execution_count": 42,
   "metadata": {},
   "outputs": [
    {
     "name": "stdout",
     "output_type": "stream",
     "text": [
      "x1 = 0.00 \n",
      "y1 = 10.00 \n"
     ]
    }
   ],
   "source": [
    "x1 = 10 * cos(pi/2) ;\n",
    "y1 = 10 * sin(pi/2) ;\n",
    "fprintf('x1 = %.2f \\n',x1)\n",
    "fprintf('y1 = %.2f \\n',y1)"
   ]
  },
  {
   "cell_type": "markdown",
   "metadata": {},
   "source": [
    "$$ z1 z2 = j10 $$"
   ]
  },
  {
   "cell_type": "markdown",
   "metadata": {},
   "source": [
    "$Z_1 Z_2$ con $Z_1 = 5e^{j 30^o}$ y $Z_2 = 2e^{-j 45^o}$"
   ]
  },
  {
   "cell_type": "markdown",
   "metadata": {},
   "source": [
    "$\\begin{array}{rcr}\n",
    "30^\\circ &=& \\pi/6 \\, \\mathrm{rad} \\\\\n",
    "-45^\\circ &=& - \\pi/4 \\, \\mathrm{rad}\n",
    "\\end{array}$"
   ]
  },
  {
   "cell_type": "markdown",
   "metadata": {},
   "source": [
    "$$ z1 z2 = (5 \\cdot 2) \\angle \\left( \\frac{\\pi}{6} + \\frac{-\\pi}{4}\\right) \\, \\mathrm{rad}  $$"
   ]
  },
  {
   "cell_type": "markdown",
   "metadata": {},
   "source": [
    "$$ z1 z2 = 10 \\angle - \\frac{\\pi}{12} \\, \\mathrm{rad}  $$"
   ]
  },
  {
   "cell_type": "markdown",
   "metadata": {},
   "source": [
    "$$ x = r \\cos \\phi \\qquad \\qquad y = r \\sin \\phi $$"
   ]
  },
  {
   "cell_type": "code",
   "execution_count": 48,
   "metadata": {},
   "outputs": [
    {
     "name": "stdout",
     "output_type": "stream",
     "text": [
      "x2 =  9.6593\n",
      "y2 = -2.5882\n"
     ]
    }
   ],
   "source": [
    "x2 = 10 * cos(-pi/12) \n",
    "y2 = 10 * sin(-pi/12) "
   ]
  },
  {
   "cell_type": "markdown",
   "metadata": {},
   "source": [
    "$$ z1z2 = 9,6593 - j2,5882 $$"
   ]
  },
  {
   "cell_type": "markdown",
   "metadata": {},
   "source": [
    "$Z_1 Z_2$ con $Z_1 = 3 + j3$ y $Z_2 = -3 + j2$"
   ]
  },
  {
   "cell_type": "markdown",
   "metadata": {},
   "source": [
    "<div class=\"alert alert-info\"><strong>Multiplicación</strong>:\n",
    "$$(a + bi) \\cdot (c + di) = (ac - bd) + (ad + bc) i$$\n",
    "</div>"
   ]
  },
  {
   "cell_type": "code",
   "execution_count": 50,
   "metadata": {},
   "outputs": [
    {
     "name": "stdout",
     "output_type": "stream",
     "text": [
      "ans = -15 -  3i\r\n"
     ]
    }
   ],
   "source": [
    "# Usando el algoritmo\n",
    "a = 3 ; b = 3 ; c = -3 ; d = 2 ;\n",
    "(a*c - b*d) + (a*d + b*c)*i"
   ]
  },
  {
   "cell_type": "code",
   "execution_count": 51,
   "metadata": {},
   "outputs": [
    {
     "name": "stdout",
     "output_type": "stream",
     "text": [
      "ans = -15 -  3i\r\n"
     ]
    }
   ],
   "source": [
    "# Verificamos usando octave\n",
    "z1 = 3 + 3i  ; z2 = -3 +2i ;\n",
    "z1*z2"
   ]
  },
  {
   "cell_type": "markdown",
   "metadata": {},
   "source": [
    "$$ z1 z2 = -15 - j3 $$"
   ]
  },
  {
   "cell_type": "markdown",
   "metadata": {},
   "source": [
    "### 2.2 Realizar las siguientes divisiones y expresarlas en forma binómica"
   ]
  },
  {
   "cell_type": "markdown",
   "metadata": {},
   "source": [
    "$\\displaystyle \\frac{Z_1}{Z_2}$ con $Z_1 = 4e^{j \\pi /3}$ y $Z_2 = 2e^{j \\pi/6} $"
   ]
  },
  {
   "cell_type": "markdown",
   "metadata": {},
   "source": [
    "__División:__\n",
    "$$ \\frac{z_1}{z_2} = \\frac{r_1}{r_2} \\; \\angle (\\phi_1 - \\phi_2) $$"
   ]
  },
  {
   "cell_type": "markdown",
   "metadata": {},
   "source": [
    "$$ \\frac{z_1}{z_2} = \\frac{4}{2} \\angle \\left( \\frac{\\pi}{3} - \\frac{\\pi}{6} \\right) \\, \\mathrm{rad} $$"
   ]
  },
  {
   "cell_type": "markdown",
   "metadata": {},
   "source": [
    "$$ \\frac{z_1}{z_2} = 2 \\angle  \\frac{\\pi}{6} \\, \\mathrm{rad}  $$"
   ]
  },
  {
   "cell_type": "markdown",
   "metadata": {},
   "source": [
    "$$ x = r \\cos \\phi \\qquad \\qquad y = r \\sin \\phi $$"
   ]
  },
  {
   "cell_type": "code",
   "execution_count": 1,
   "metadata": {},
   "outputs": [
    {
     "name": "stdout",
     "output_type": "stream",
     "text": [
      "x =  1.7321\n",
      "y =  1.00000\n"
     ]
    }
   ],
   "source": [
    "r = 2 ; phi = pi/6 ;\n",
    "\n",
    "x = r*cos(phi)\n",
    "y = r*sin(phi)"
   ]
  },
  {
   "cell_type": "markdown",
   "metadata": {},
   "source": [
    "$$ \\frac{z_1}{z_2} = 1,7321 + j1 $$"
   ]
  },
  {
   "cell_type": "markdown",
   "metadata": {},
   "source": [
    "$\\displaystyle \\frac{Z_1}{Z_2}$ con $Z_1 = 8^{-j30^o}$ y $Z_2 = 2e^{-j60^o}$"
   ]
  },
  {
   "cell_type": "markdown",
   "metadata": {},
   "source": [
    "$$ \\frac{z_1}{z_2} = \\frac{8}{2} \\angle (-30^\\circ - (-60^\\circ)) $$"
   ]
  },
  {
   "cell_type": "markdown",
   "metadata": {},
   "source": [
    "$$ \\frac{z_1}{z_2} = 4 \\angle 30^\\circ $$"
   ]
  },
  {
   "cell_type": "markdown",
   "metadata": {},
   "source": [
    "$30^\\circ = \\displaystyle \\frac{\\pi}{6} \\, \\mathrm{rad}$"
   ]
  },
  {
   "cell_type": "code",
   "execution_count": 2,
   "metadata": {},
   "outputs": [
    {
     "name": "stdout",
     "output_type": "stream",
     "text": [
      "x =  3.4641\n",
      "y =  2.0000\n"
     ]
    }
   ],
   "source": [
    "r = 4 ; phi = pi/6 ;\n",
    "\n",
    "x = r * cos(phi)\n",
    "y = r * sin(phi)"
   ]
  },
  {
   "cell_type": "markdown",
   "metadata": {},
   "source": [
    "$$ \\frac{z_1}{z_2} = 3,4641 + j2 $$"
   ]
  },
  {
   "cell_type": "markdown",
   "metadata": {},
   "source": [
    "$\\displaystyle \\frac{Z_1}{Z_2}$ con $Z_1 = 4 - j5$ y $Z_2 = 1 + j2$"
   ]
  },
  {
   "cell_type": "markdown",
   "metadata": {},
   "source": [
    "<div class=\"alert alert-info\"><strong>División de números complejos:</strong>\n",
    "    \n",
    "$$ \\frac{a + b i}{c + di} = \\left( \\frac{a + bi}{c + di} \\right) \\left( \\frac{c - di}{c - di} \\right) = \\frac{(ac + bd) + (bc - ad)i}{c^2 + d^2} $$\n",
    "    </div>"
   ]
  },
  {
   "cell_type": "code",
   "execution_count": 3,
   "metadata": {},
   "outputs": [
    {
     "name": "stdout",
     "output_type": "stream",
     "text": [
      "ans = -1.2000 - 2.6000i\r\n"
     ]
    }
   ],
   "source": [
    "a = 4 ; b = -5 ; c = 1 ; d = 2 ;\n",
    "\n",
    "( (a*c + b*d) + (b*c - a*d)*i ) / (c**2 + d**2)"
   ]
  },
  {
   "cell_type": "code",
   "execution_count": 4,
   "metadata": {},
   "outputs": [
    {
     "name": "stdout",
     "output_type": "stream",
     "text": [
      "ans = -1.2000 - 2.6000i\r\n"
     ]
    }
   ],
   "source": [
    "# Usando octave\n",
    "z1 = 4 - 5i ;\n",
    "z2 = 1 + 2i ;\n",
    "\n",
    "z1/z2"
   ]
  },
  {
   "cell_type": "code",
   "execution_count": 14,
   "metadata": {},
   "outputs": [
    {
     "name": "stdout",
     "output_type": "stream",
     "text": [
      "z1/z2 = -1.20-2.60j\n"
     ]
    }
   ],
   "source": [
    "%%python\n",
    "# Usando python\n",
    "z1 = 4 - 5j\n",
    "z2 = 1 + 2j\n",
    "\n",
    "print('z1/z2 = {:.2f}'.format(z1/z2))"
   ]
  },
  {
   "cell_type": "markdown",
   "metadata": {},
   "source": [
    "$$ \\frac{z_1}{z_2} = -1,2 - j2,6 $$"
   ]
  },
  {
   "cell_type": "code",
   "execution_count": 16,
   "metadata": {},
   "outputs": [],
   "source": [
    "clear -a"
   ]
  },
  {
   "cell_type": "code",
   "execution_count": null,
   "metadata": {},
   "outputs": [],
   "source": []
  }
 ],
 "metadata": {
  "kernelspec": {
   "display_name": "Octave",
   "language": "octave",
   "name": "octave"
  },
  "language_info": {
   "file_extension": ".m",
   "help_links": [
    {
     "text": "GNU Octave",
     "url": "https://www.gnu.org/software/octave/support.html"
    },
    {
     "text": "Octave Kernel",
     "url": "https://github.com/Calysto/octave_kernel"
    },
    {
     "text": "MetaKernel Magics",
     "url": "https://metakernel.readthedocs.io/en/latest/source/README.html"
    }
   ],
   "mimetype": "text/x-octave",
   "name": "octave",
   "version": "4.2.2"
  }
 },
 "nbformat": 4,
 "nbformat_minor": 4
}
