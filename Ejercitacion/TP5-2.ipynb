{
 "cells": [
  {
   "cell_type": "markdown",
   "metadata": {},
   "source": [
    "# TP N°5 - Circuitos trifásicos\n",
    "__U.N.L.Z. - Facultad de Ingeniería__       \n",
    "__Electrotecnia__      \n",
    "__Alumno:__ Daniel Antonio Lorenzo       \n",
    "<mark><strong>(Resolución en python3)</strong></mark>"
   ]
  },
  {
   "cell_type": "markdown",
   "metadata": {},
   "source": [
    "<a href=\"https://colab.research.google.com/github/daniel-lorenzo/Electrotecnia/blob/master/Ejercitacion/TP5-2.ipynb\"><img align=\"left\" src=\"https://colab.research.google.com/assets/colab-badge.svg\" alt=\"Open in Colab\" title=\"Open and Execute in Google Colaboratory\"></a>"
   ]
  },
  {
   "cell_type": "markdown",
   "metadata": {},
   "source": [
    "## Problema N°2\n",
    "Un sistema trifásico CBA (secuencia inversa o indirecta 3x380V (tensión eficaz compuesta o de línea), de 4 conductores (tetrafilar), alimenta una carga trifásica conectada en estrella."
   ]
  },
  {
   "cell_type": "markdown",
   "metadata": {},
   "source": [
    "El valor de cada impedancia es de 20 Ohm con ángulo de desfasaje de 30° capacitivo."
   ]
  },
  {
   "cell_type": "markdown",
   "metadata": {},
   "source": [
    "1. Calcular las corrientes $I_r, \\, I_s, \\, I_t, \\, I_\\mathrm{neutro}$, representar diagrama fasorial de tensiones y corrientes.\n",
    "2. Determinar la potencia por fase y trifásica."
   ]
  },
  {
   "cell_type": "markdown",
   "metadata": {},
   "source": [
    "<img src=\"img/tp5ej2.png\">"
   ]
  },
  {
   "cell_type": "markdown",
   "metadata": {},
   "source": [
    "### Solución"
   ]
  },
  {
   "cell_type": "markdown",
   "metadata": {},
   "source": [
    "* Las tensiones de generación las denominaremos con la letra E, $E_{an}, \\, E_{bn}, \\, E_{cn}$\n",
    "* Las caídas de tensión en las impedancias de carga las denominamos con la letra U, $U_{ao}, \\; U_{bo}, \\, U_{co}$\n",
    "* Las corrientes que circulan por la carga las denominamos con la letra I, $I_a, \\, I_b \\, I_c$"
   ]
  },
  {
   "cell_type": "markdown",
   "metadata": {},
   "source": [
    "La corriente que circula por el cuarto conductor, que une el centro de estrella del generador (n) y el neutro de la carga (o), se denomina corriente de neutro, $I_\\mathrm{neutro}$"
   ]
  },
  {
   "cell_type": "code",
   "execution_count": 35,
   "metadata": {},
   "outputs": [],
   "source": [
    "import numpy as np\n",
    "import cmath"
   ]
  },
  {
   "cell_type": "code",
   "execution_count": 36,
   "metadata": {},
   "outputs": [],
   "source": [
    "# Datos\n",
    "E_lin = 380 # V                  Tensión de línea\n",
    "E_fase = E_lin/np.sqrt(3)  #     Tensión de fase\n",
    "# Tensiones de generación\n",
    "Ean = cmath.rect(E_fase, np.deg2rad(0) )\n",
    "Ebn = cmath.rect(E_fase, np.deg2rad(120))\n",
    "Ecn = cmath.rect(E_fase, np.deg2rad(240))\n",
    "# Tensiones en las impedancias de carga\n",
    "Uao = Ean\n",
    "Ubo = Ebn\n",
    "Uco = Ecn\n",
    "# Impedancias de carga\n",
    "Za = cmath.rect(20, np.deg2rad(-30) )\n",
    "Zb = Za\n",
    "Zc = Za"
   ]
  },
  {
   "cell_type": "code",
   "execution_count": 37,
   "metadata": {},
   "outputs": [],
   "source": [
    "# Cálculo de corrientes de fase\n",
    "Ia = Uao/Za\n",
    "Ib = Ubo/Zb\n",
    "Ic = Uco/Zc\n",
    "# Corriente de neutro (sistema balanceado)\n",
    "I_neutro = Ia + Ib + Ic\n",
    "# Potencia aparente\n",
    "Sa = Uao*Ia.conjugate()\n",
    "Sb = Ubo*Ib.conjugate()\n",
    "Sc = Uco*Ic.conjugate()\n",
    "# Potencia real\n",
    "Pa = Sa.real\n",
    "Pb = Sb.real\n",
    "Pc = Sc.real\n",
    "# Potencia reactiva\n",
    "Qa = Sa.imag\n",
    "Qb = Sb.imag\n",
    "Qc = Sc.imag\n",
    "# Potencia trifásica aparente \n",
    "Strif = Sa + Sb + Sc\n",
    "# Potencia trifásica real\n",
    "Ptrif = Strif.real\n",
    "# Potencia trifásica reactiva\n",
    "Qtrif = Strif.imag"
   ]
  },
  {
   "cell_type": "code",
   "execution_count": 38,
   "metadata": {},
   "outputs": [
    {
     "name": "stdout",
     "output_type": "stream",
     "text": [
      "Corrientes de fase:\n",
      "Ia = (10.97 |__ 30.00°) A\n",
      "Ib = (10.97 |__ 150.00°) A\n",
      "Ic = (10.97 |__ -90.00°) A\n",
      "Corriente de neutro:\n",
      "I_neutro = 0.00 A\n",
      "Potencia aparente:\n",
      "Sa = 2084.23-1203.33j VA = (2406.67 |__ -30.00°) VA\n",
      "Sb = 2084.23-1203.33j VA = (2406.67 |__ -30.00°) VA\n",
      "Sc = 2084.23-1203.33j VA = (2406.67 |__ -30.00°) VA\n",
      "Potencia activa:\n",
      "Pa = 2084.23 W\n",
      "Pb = 2084.23 W\n",
      "Pc = 2084.23 W\n",
      "Potencia reactiva:\n",
      "Qa = -1203.33 VAr\n",
      "Qb = -1203.33 VAr\n",
      "Qc = -1203.33 VAr\n",
      "Potencia trifásica aparente:\n",
      "Strif = 6252.70-3610.00j VA = (7220.00 |__ -30.00°) VA\n",
      "Potencia trifásica activa:\n",
      "Ptrif = 6252.70 W\n",
      "Potencia trifásica reactiva:\n",
      "Qtrif = -3610.00 VAr\n"
     ]
    }
   ],
   "source": [
    "print('Corrientes de fase:')\n",
    "print('Ia = (%.2f |__ %.2f°) A'%(abs(Ia) , np.rad2deg( cmath.phase(Ia) ) ))\n",
    "print('Ib = (%.2f |__ %.2f°) A'%(abs(Ib) , np.rad2deg( cmath.phase(Ib) ) ))\n",
    "print('Ic = (%.2f |__ %.2f°) A'%(abs(Ic) , np.rad2deg( cmath.phase(Ic) ) ))\n",
    "print('Corriente de neutro:')\n",
    "print('I_neutro = %.2f A'%abs(I_neutro))\n",
    "print('Potencia aparente:')\n",
    "print('Sa = {:.2f} VA = (%.2f |__ %.2f°) VA'.format(Sa)%(abs(Sa) , np.rad2deg( cmath.phase(Sa) ) ))\n",
    "print('Sb = {:.2f} VA = (%.2f |__ %.2f°) VA'.format(Sb)%(abs(Sb) , np.rad2deg( cmath.phase(Sb) ) ))\n",
    "print('Sc = {:.2f} VA = (%.2f |__ %.2f°) VA'.format(Sc)%(abs(Sc) , np.rad2deg( cmath.phase(Sc) ) ))\n",
    "print('Potencia activa:')\n",
    "print('Pa = %.2f W'%Pa)\n",
    "print('Pb = %.2f W'%Pb)\n",
    "print('Pc = %.2f W'%Pc)\n",
    "print('Potencia reactiva:')\n",
    "print('Qa = %.2f VAr'%Qa)\n",
    "print('Qb = %.2f VAr'%Qb)\n",
    "print('Qc = %.2f VAr'%Qc)\n",
    "print('Potencia trifásica aparente:')\n",
    "print('Strif = {:.2f} VA = (%.2f |__ %.2f°) VA'.format(Strif)%(abs(Strif) , np.rad2deg( cmath.phase(Strif) ) ))\n",
    "print('Potencia trifásica activa:')\n",
    "print('Ptrif = %.2f W'%Ptrif)\n",
    "print('Potencia trifásica reactiva:')\n",
    "print('Qtrif = %.2f VAr'%Qtrif)"
   ]
  },
  {
   "cell_type": "code",
   "execution_count": 39,
   "metadata": {},
   "outputs": [],
   "source": [
    "import numpy as np\n",
    "import matplotlib.pyplot as plt"
   ]
  },
  {
   "cell_type": "code",
   "execution_count": 47,
   "metadata": {},
   "outputs": [
    {
     "data": {
      "image/png": "[encoded data removed]",
      "text/plain": [
       "<Figure size 504x504 with 1 Axes>"
      ]
     },
     "metadata": {
      "needs_background": "light"
     },
     "output_type": "display_data"
    }
   ],
   "source": [
    "%matplotlib inline\n",
    "plt.figure(figsize=(7,7))\n",
    "ax = plt.gca()\n",
    "ax.quiver(0,0,Pa,Qa,angles='xy',scale_units='xy',scale=1,color='red')\n",
    "ax.quiver(0,0,Pa,0,angles='xy',scale_units='xy',scale=1,color='blue')\n",
    "ax.quiver(Pa,0,0,Qa,angles='xy',scale_units='xy',scale=1,color='green')   \n",
    "plt.text(Pa - 300, Qa, r'$\\vec S$', fontsize=18, color='red', fontweight='bold')\n",
    "plt.text(Pa - 200,  100, r'$\\vec P$', fontsize=18, color='blue', fontweight='bold')\n",
    "plt.text(Pa + 100, Qa, r'$\\vec Q$', fontsize=18, color='green', fontweight='bold')\n",
    "plt.text(550,  -200, r'$\\varphi =$ %.2f°'%( np.rad2deg( cmath.phase(Sa) ) ), fontsize=14)\n",
    "theta = np.linspace(0, cmath.phase(Sa), 100) \n",
    "x1 = 500 * np.cos(theta)\n",
    "x2 = 500 * np.sin(theta)\n",
    "plt.plot(x1, x2, color='red')\n",
    "ax.set_xlim([0,2500])\n",
    "ax.set_ylim([-1500,500])\n",
    "ax.set_aspect('equal')\n",
    "plt.title('Triángulo de potencias por fase', fontsize=18)\n",
    "plt.xlabel('Re (Eje real)',  fontsize=16)\n",
    "plt.ylabel('Im (Eje imaginario)',  fontsize=16)\n",
    "plt.grid(linestyle=\":\")\n",
    "ax.set_axisbelow(True)\n",
    "plt.draw()\n",
    "plt.show()"
   ]
  },
  {
   "cell_type": "markdown",
   "metadata": {},
   "source": [
    "A cada una de las fases le corresponde un valor de potencia monofásica."
   ]
  },
  {
   "cell_type": "code",
   "execution_count": 50,
   "metadata": {},
   "outputs": [],
   "source": [
    "%reset -s -f"
   ]
  },
  {
   "cell_type": "markdown",
   "metadata": {},
   "source": [
    "## Problema N°3\n",
    "Un sistema trifásico de secuencia CBA 3x380V de 4 conductores, alimenta una carga trifásica en estrella."
   ]
  },
  {
   "cell_type": "markdown",
   "metadata": {},
   "source": [
    "$Z_a = 6 \\, \\Omega$ con ángulo de desfasaje 0°    \n",
    "$Z_b = 6 \\, \\Omega$ con ángulo de desfasaje 30° inductivo    \n",
    "$Z_c = 5 \\, \\Omega$ con ángulo de desfasaje 45° inductivo"
   ]
  },
  {
   "cell_type": "markdown",
   "metadata": {},
   "source": [
    "1. Calcular las corrientes $I_r, \\, I_s, \\ I_t, \\, I_\\mathrm{neutro}$, representar el diagrama de tensiones y corrientes.\n",
    "2. Determinar la potencia en cada fase y la potencia trifásica."
   ]
  },
  {
   "cell_type": "markdown",
   "metadata": {},
   "source": [
    "<img src=\"img/tp5ej2.png\">"
   ]
  },
  {
   "cell_type": "code",
   "execution_count": 51,
   "metadata": {},
   "outputs": [],
   "source": [
    "import numpy as np\n",
    "import cmath"
   ]
  },
  {
   "cell_type": "code",
   "execution_count": 52,
   "metadata": {},
   "outputs": [],
   "source": [
    "# Datos:\n",
    "E_lin = 380 # V                       (tensión de línea)\n",
    "E_fase = E_lin/np.sqrt(3) # V         (tensión de fase)\n",
    "# Tensiones de generación:\n",
    "Ean = cmath.rect(E_fase, np.deg2rad(0) )\n",
    "Ebn = cmath.rect(E_fase, np.deg2rad(120))\n",
    "Ecn = cmath.rect(E_fase, np.deg2rad(240))\n",
    "# Caídas de tensión en las cargas\n",
    "Uao = Ean\n",
    "Ubo = Ebn\n",
    "Uco = Ecn\n",
    "# Impedancias de carga\n",
    "Za = cmath.rect(6,0)\n",
    "Zb = cmath.rect(6, np.deg2rad(30) )\n",
    "Zc = cmath.rect(5, np.deg2rad(45) )"
   ]
  },
  {
   "cell_type": "markdown",
   "metadata": {},
   "source": [
    "<div class=\"alert-danger\">\n",
    "<strong>La carga trifásica NO es equilibrada</strong>, conectada en estrella, eso significa que las tres impedancias <strong>NO SON iguales</strong> entre sí.\n",
    "    </div>"
   ]
  },
  {
   "cell_type": "code",
   "execution_count": 53,
   "metadata": {},
   "outputs": [],
   "source": [
    "# Cálculo de las intensidades de corriente en fase\n",
    "Ia = Uao/Za\n",
    "Ib = Ubo/Zb\n",
    "Ic = Uco/Zc\n",
    "# Cálculo de intensidad de corriente de Neutro (4to. conductor)\n",
    "In = Ia + Ib +Ic\n",
    "# Cálculo de potencia aparente\n",
    "Sa = Uao*Ia.conjugate()\n",
    "Sb = Ubo*Ib.conjugate()\n",
    "Sc = Uco*Ic.conjugate()\n",
    "# Cálculo de potencia activa\n",
    "Pa = Sa.real\n",
    "Pb = Sb.real\n",
    "Pc = Sc.real\n",
    "# Cálculo de potencia reactiva\n",
    "Qa = Sa.imag\n",
    "Qb = Sb.imag\n",
    "Qc = Sc.imag\n",
    "# Cálculo de potencia trifásica aparente\n",
    "Strif = Sa + Sb + Sc\n",
    "# Potencia trifásica activa\n",
    "Ptrif = Strif.real\n",
    "# Potencia trifásica reactiva\n",
    "Qtrif = Strif.imag"
   ]
  },
  {
   "cell_type": "code",
   "execution_count": 56,
   "metadata": {
    "jupyter": {
     "source_hidden": true
    }
   },
   "outputs": [
    {
     "name": "stdout",
     "output_type": "stream",
     "text": [
      "Corrientes de fase:\n",
      "Ia = (36.57 |__ 0.00°) A\n",
      "Ib = (36.57 |__ 90.00°) A\n",
      "Ic = (43.88 |__ -165.00°) A\n",
      "Corriente de neutro:\n",
      "In = (25.87 |__ 103.00°) A\n",
      "Potencia aparente:\n",
      "Sa = 8022.22+0.00j VA = (8022.22 |__ 0.00°) VA\n",
      "Sb = 6947.45+4011.11j VA = (8022.22 |__ 30.00°) VA\n",
      "Sc = 6807.08+6807.08j VA = (9626.67 |__ 45.00°) VA\n",
      "Potencia activa:\n",
      "Pa = 8022.22 W\n",
      "Pb = 6947.45 W\n",
      "Pc = 6807.08 W\n",
      "Potencia reactiva:\n",
      "Qa = 0.00 VAr\n",
      "Qb = 4011.11 VAr\n",
      "Qc = 6807.08 VAr\n",
      "Potencia trifásica aparente:\n",
      "Strif = 21776.75+10818.19j VA = (24315.84 |__ 26.42°) VA\n",
      "Potencia trifásica activa:\n",
      "Ptrif = 21776.75 W\n",
      "Potencia trifásica reactiva:\n",
      "Qtrif = 10818.19 VAr\n"
     ]
    }
   ],
   "source": [
    "print('Corrientes de fase:')\n",
    "print('Ia = (%.2f |__ %.2f°) A'%(abs(Ia) , np.rad2deg( cmath.phase(Ia) ) ))\n",
    "print('Ib = (%.2f |__ %.2f°) A'%(abs(Ib) , np.rad2deg( cmath.phase(Ib) ) ))\n",
    "print('Ic = (%.2f |__ %.2f°) A'%(abs(Ic) , np.rad2deg( cmath.phase(Ic) ) ))\n",
    "print('Corriente de neutro:')\n",
    "print('In = (%.2f |__ %.2f°) A'%(abs(In) , np.rad2deg( cmath.phase(In) ) ))\n",
    "print('Potencia aparente:')\n",
    "print('Sa = {:.2f} VA = (%.2f |__ %.2f°) VA'.format(Sa)%(abs(Sa) , np.rad2deg( cmath.phase(Sa) ) ))\n",
    "print('Sb = {:.2f} VA = (%.2f |__ %.2f°) VA'.format(Sb)%(abs(Sb) , np.rad2deg( cmath.phase(Sb) ) ))\n",
    "print('Sc = {:.2f} VA = (%.2f |__ %.2f°) VA'.format(Sc)%(abs(Sc) , np.rad2deg( cmath.phase(Sc) ) ))\n",
    "print('Potencia activa:')\n",
    "print('Pa = %.2f W'%Pa)\n",
    "print('Pb = %.2f W'%Pb)\n",
    "print('Pc = %.2f W'%Pc)\n",
    "print('Potencia reactiva:')\n",
    "print('Qa = %.2f VAr'%Qa)\n",
    "print('Qb = %.2f VAr'%Qb)\n",
    "print('Qc = %.2f VAr'%Qc)\n",
    "print('Potencia trifásica aparente:')\n",
    "print('Strif = {:.2f} VA = (%.2f |__ %.2f°) VA'.format(Strif)%(abs(Strif) , np.rad2deg( cmath.phase(Strif) ) ))\n",
    "print('Potencia trifásica activa:')\n",
    "print('Ptrif = %.2f W'%Ptrif)\n",
    "print('Potencia trifásica reactiva:')\n",
    "print('Qtrif = %.2f VAr'%Qtrif)"
   ]
  },
  {
   "cell_type": "code",
   "execution_count": 57,
   "metadata": {},
   "outputs": [],
   "source": [
    "%reset -s -f"
   ]
  },
  {
   "cell_type": "markdown",
   "metadata": {},
   "source": [
    "## Problema N°4\n",
    "Un sistema trifásico de secuencia ABC (secuencia directa), 3x380V (tensiones de línea en valor eficaz), de 3 conductores (sistema trifilar), alimente una carga trifásica __equilibrada y simétrica (perfecta)__ conectada en triángulo."
   ]
  },
  {
   "cell_type": "markdown",
   "metadata": {},
   "source": [
    "El valor de cada impedancia es de 5 Ohm con ángulo de desfasaje de 45° inductivo.\n",
    "1. Calcular las corrientes $I_r, \\, I_s, \\, I_t$, representar el diagrama fasorial de tensiones y corrientes.\n",
    "2. Determinar las potencias por fase y trifásica (P,Q,S)"
   ]
  },
  {
   "cell_type": "markdown",
   "metadata": {},
   "source": [
    "<img src=\"img/tp5ej4.png\">\n",
    "\n",
    "> Las impedancias de carga son iguales entre sí, (cargatrifásica equilibrada y simétrica perfecta)."
   ]
  },
  {
   "cell_type": "markdown",
   "metadata": {},
   "source": [
    "### Solución"
   ]
  },
  {
   "cell_type": "code",
   "execution_count": 78,
   "metadata": {},
   "outputs": [],
   "source": [
    "import numpy as np\n",
    "import cmath"
   ]
  },
  {
   "cell_type": "code",
   "execution_count": 79,
   "metadata": {},
   "outputs": [],
   "source": [
    "# Datos:\n",
    "# Tensiones de línea\n",
    "Eab = cmath.rect(380, np.deg2rad(30) )\n",
    "Ebc = cmath.rect(380, np.deg2rad(30-120) )\n",
    "Eca = cmath.rect(380, np.deg2rad(30+120) )\n",
    "# Caídas de tensión compuesta en las impedancias de cargas\n",
    "Uab = Eab\n",
    "Ubc = Ebc\n",
    "Uca = Eca\n",
    "# Impedancias de carga\n",
    "Zab = cmath.rect(5, np.deg2rad(45) )\n",
    "Zbc = Zab\n",
    "Zca = Zbc"
   ]
  },
  {
   "cell_type": "code",
   "execution_count": 80,
   "metadata": {},
   "outputs": [],
   "source": [
    "# Cálculo de corriente de línea o compuesta\n",
    "Iab = Uab/Zab\n",
    "Ibc = Ubc/Zbc\n",
    "Ica = Uca/Zca\n",
    "# Cálculo de corrientes de fase\n",
    "Ir = Iab - Ica\n",
    "Is = Ibc - Iab\n",
    "It = Ica - Ibc\n",
    "Ia = Ir ; Ib = Is ; Ic = It\n",
    "# Cálculo de potencia aparente\n",
    "Sab = Uab*Iab.conjugate()\n",
    "Sbc = Ubc*Ibc.conjugate()\n",
    "Sca = Uca*Ica.conjugate()\n",
    "# Potencia activa\n",
    "Pab = Sab.real\n",
    "Pbc = Sbc.real\n",
    "Pca = Sca.real\n",
    "# Potencia reactiva\n",
    "Qab = Sab.imag\n",
    "Qbc = Sab.imag\n",
    "Qca = Sca.imag\n",
    "# Potencia trifásica aparente\n",
    "Strif = Sab + Sbc + Sca\n",
    "# Potencia trifásica activa\n",
    "Ptrif = Strif.real\n",
    "# Potencia trifásica reactiva\n",
    "Qtrif = Strif.imag"
   ]
  },
  {
   "cell_type": "code",
   "execution_count": 81,
   "metadata": {},
   "outputs": [
    {
     "name": "stdout",
     "output_type": "stream",
     "text": [
      "Corrientes de línea o compuesta:\n",
      "Iab = (76.00 |__ -15.00) A\n",
      "Ibc = (76.00 |__ -135.00) A\n",
      "Ica = (76.00 |__ 105.00) A\n",
      "Corrientes de fase:\n",
      "Ir = Ia = (131.64 |__ -45.00) A\n",
      "Is = Ib = (131.64 |__ -165.00) A\n",
      "It = Ic = (131.64 |__ 75.00) A\n",
      "Potencia aparente:\n",
      "|Sab| = 28880.0 VA\n",
      "|Sbc| = 28880.0 VA\n",
      "|Sca| = 28880.0 VA\n",
      "Sab = 20421.24+20421.24j VA = (28880.00 |__ 45.00°) VA\n",
      "Sbc = 20421.24+20421.24j VA = (28880.00 |__ 45.00°) VA\n",
      "Sca = 20421.24+20421.24j VA = (28880.00 |__ 45.00°) VA\n",
      "Potencia activa:\n",
      "Pab = 20421.24 W\n",
      "Pbc = 20421.24 W\n",
      "Pca = 20421.24 W\n",
      "Potencia reactiva:\n",
      "Qab = 20421.24 VAr\n",
      "Qbc = 20421.24 VAr\n",
      "Qca = 20421.24 VAr\n",
      "Potencia trifásica aparente:\n",
      "|Strif| = 86640.00 VA\n",
      "Strif = 61263.73+61263.73j VA = (86640.00 |__ 45.00°) VA\n",
      "Potencia trifásica activa:\n",
      "Ptrif = 61263.73 W\n",
      "Potencia trifásica reactiva:\n",
      "Qtrif = 61263.73 VAr\n"
     ]
    }
   ],
   "source": [
    "print('Corrientes de línea o compuesta:')\n",
    "print('Iab = (%.2f |__ %.2f) A'%(abs(Iab) , np.rad2deg( cmath.phase(Iab) ) ))\n",
    "print('Ibc = (%.2f |__ %.2f) A'%(abs(Ibc) , np.rad2deg( cmath.phase(Ibc) ) ))\n",
    "print('Ica = (%.2f |__ %.2f) A'%(abs(Ica) , np.rad2deg( cmath.phase(Ica) ) ))\n",
    "print('Corrientes de fase:')\n",
    "print('Ir = Ia = (%.2f |__ %.2f) A'%(abs(Ir) , np.rad2deg( cmath.phase(Ir) ) ))\n",
    "print('Is = Ib = (%.2f |__ %.2f) A'%(abs(Is) , np.rad2deg( cmath.phase(Is) ) ))\n",
    "print('It = Ic = (%.2f |__ %.2f) A'%(abs(It) , np.rad2deg( cmath.phase(It) ) ))\n",
    "print('Potencia aparente:')\n",
    "print('|Sab| = %.1f VA'%abs(Sab))\n",
    "print('|Sbc| = %.1f VA'%abs(Sbc))\n",
    "print('|Sca| = %.1f VA'%abs(Sca))\n",
    "print('Sab = {:.2f} VA = (%.2f |__ %.2f°) VA'.format(Sab)%(abs(Sab), np.rad2deg( cmath.phase(Sab) ) ))\n",
    "print('Sbc = {:.2f} VA = (%.2f |__ %.2f°) VA'.format(Sbc)%(abs(Sbc), np.rad2deg( cmath.phase(Sbc) ) ))\n",
    "print('Sca = {:.2f} VA = (%.2f |__ %.2f°) VA'.format(Sca)%(abs(Sca), np.rad2deg( cmath.phase(Sca) ) ))\n",
    "print('Potencia activa:')\n",
    "print('Pab = %.2f W'%Pab)\n",
    "print('Pbc = %.2f W'%Pbc)\n",
    "print('Pca = %.2f W'%Pca)\n",
    "print('Potencia reactiva:')\n",
    "print('Qab = %.2f VAr'%Qab)\n",
    "print('Qbc = %.2f VAr'%Qbc)\n",
    "print('Qca = %.2f VAr'%Qca)\n",
    "print('Potencia trifásica aparente:')\n",
    "print('|Strif| = %.2f VA'%abs(Strif))\n",
    "print('Strif = {:.2f} VA = (%.2f |__ %.2f°) VA'.format(Strif)%(abs(Strif) , np.rad2deg( cmath.phase(Sab) ) ))\n",
    "print('Potencia trifásica activa:')\n",
    "print('Ptrif = %.2f W'%Ptrif)\n",
    "print('Potencia trifásica reactiva:')\n",
    "print('Qtrif = %.2f VAr'%Qtrif)"
   ]
  },
  {
   "cell_type": "code",
   "execution_count": 82,
   "metadata": {},
   "outputs": [],
   "source": [
    "%reset -s -f"
   ]
  },
  {
   "cell_type": "markdown",
   "metadata": {},
   "source": [
    "## Problema 5\n",
    "Un sistema trifásico de secuencia ABC 3x380V, de 3 conductores, alimenta una carga trifásica conectada en triángulo."
   ]
  },
  {
   "cell_type": "markdown",
   "metadata": {},
   "source": [
    "* $Z_{ab} = 10 \\, \\Omega$ con ángulo de desfasaje 0°      \n",
    "* $Z_{bc} = 10 \\, \\Omega$ con ángulo de desfasaje 30° inductivo\n",
    "* $Z_{ca} = 15 \\, \\Omega$ con ángulo de desfasaje 30° capacitivo"
   ]
  },
  {
   "cell_type": "markdown",
   "metadata": {},
   "source": [
    "1. Calcular las corrientes $I_r, \\, I_s, \\, I_t$, representar diagrama fasorial de tensiones y corrientes.\n",
    "2. Determinar las potencias en cada fase y las potencias trifásicas (P,Q,S)"
   ]
  },
  {
   "cell_type": "markdown",
   "metadata": {},
   "source": [
    "<img src=\"img/tp5ej5.png\">"
   ]
  },
  {
   "cell_type": "markdown",
   "metadata": {},
   "source": [
    "### Solución"
   ]
  },
  {
   "cell_type": "code",
   "execution_count": 2,
   "metadata": {},
   "outputs": [],
   "source": [
    "import numpy as np\n",
    "import cmath"
   ]
  },
  {
   "cell_type": "code",
   "execution_count": 3,
   "metadata": {},
   "outputs": [],
   "source": [
    "# Datos:\n",
    "# Tensiones de línea\n",
    "Eab = cmath.rect(380 , np.deg2rad(30) )\n",
    "Ebc = cmath.rect(380 , np.deg2rad(30-120) )\n",
    "Eca = cmath.rect(380 , np.deg2rad(30+120) )\n",
    "# Caídas de tensión compuesta en las impedancias de cargas\n",
    "Uab = Eab\n",
    "Ubc = Ebc\n",
    "Uca = Eca\n",
    "# Impedancias de carga\n",
    "Zab = cmath.rect(10 , 0)\n",
    "Zbc = cmath.rect(10 , np.deg2rad(30) )\n",
    "Zca = cmath.rect(15 , np.deg2rad(-30) )"
   ]
  },
  {
   "cell_type": "code",
   "execution_count": 8,
   "metadata": {},
   "outputs": [],
   "source": [
    "# Cálculo de corrientes de línea o compuesta\n",
    "Iab = Uab/Zab\n",
    "Ibc = Ubc/Zbc\n",
    "Ica = Uca/Zca\n",
    "# Cálculo de corrientes de fase\n",
    "Ir = Iab - Ica\n",
    "Is = Ibc - Iab\n",
    "It = Ica - Ibc\n",
    "Ia = Ir ; Ib = Is ; Ic = It\n",
    "# Cálculo de potencia aparente\n",
    "Sab = Uab*Iab.conjugate()\n",
    "Sbc = Ubc*Ibc.conjugate()\n",
    "Sca = Uca*Ica.conjugate()\n",
    "# Potencia activa\n",
    "Pab = Sab.real\n",
    "Pbc = Sbc.real\n",
    "Pca = Sca.real\n",
    "# Potencia reactiva\n",
    "Qab = Sab.imag\n",
    "Qbc = Sbc.imag\n",
    "Qca = Sca.imag\n",
    "# Cálculo de potencia trifásica aparente\n",
    "Strif = Sab + Sbc + Sca\n",
    "Ptrif = Strif.real\n",
    "Qtrif = Strif.imag"
   ]
  },
  {
   "cell_type": "code",
   "execution_count": 5,
   "metadata": {
    "jupyter": {
     "source_hidden": true
    }
   },
   "outputs": [
    {
     "name": "stdout",
     "output_type": "stream",
     "text": [
      "Corrientes de línea o compuesta:\n",
      "Iab = (38.00 |__ 30.00) A\n",
      "Ibc = (38.00 |__ -120.00) A\n",
      "Ica = (25.33 |__ -180.00) A\n",
      "Corrientes de fase:\n",
      "Ir = Ia = (61.26 |__ 18.07) A\n",
      "Is = Ib = (73.41 |__ -135.00) A\n",
      "It = Ic = (33.51 |__ 100.89) A\n",
      "Potencia aparente:\n",
      "|Sab| = 14440.0 VA\n",
      "|Sbc| = 14440.0 VA\n",
      "|Sca| = 9626.7 VA\n",
      "Sab = 14440.00+0.00j VA = (14440.00 |__ 0.00°) VA\n",
      "Sbc = 12505.41+7220.00j VA = (14440.00 |__ 30.00°) VA\n",
      "Sca = 8336.94-4813.33j VA = (9626.67 |__ -30.00°) VA\n",
      "Potencia activa:\n",
      "Pab = 14440.00 W\n",
      "Pbc = 12505.41 W\n",
      "Pca = 8336.94 W\n",
      "Potencia reactiva:\n",
      "Qab = 0.00 VAr\n",
      "Qbc = 7220.00 VAr\n",
      "Qca = -4813.33 VAr\n",
      "Potencia trifásica aparente:\n",
      "|Strif| = 35364.33 VA\n",
      "Strif = 35282.34+2406.67j VA = (35364.33 |__ 0.00°) VA\n",
      "Potencia trifásica activa:\n",
      "Ptrif = 35282.34 W\n",
      "Potencia trifásica reactiva:\n",
      "Qtrif = 2406.67 VAr\n"
     ]
    }
   ],
   "source": [
    "print('Corrientes de línea o compuesta:')\n",
    "print('Iab = (%.2f |__ %.2f) A'%(abs(Iab) , np.rad2deg( cmath.phase(Iab) ) ))\n",
    "print('Ibc = (%.2f |__ %.2f) A'%(abs(Ibc) , np.rad2deg( cmath.phase(Ibc) ) ))\n",
    "print('Ica = (%.2f |__ %.2f) A'%(abs(Ica) , np.rad2deg( cmath.phase(Ica) ) ))\n",
    "print('Corrientes de fase:')\n",
    "print('Ir = Ia = (%.2f |__ %.2f) A'%(abs(Ir) , np.rad2deg( cmath.phase(Ir) ) ))\n",
    "print('Is = Ib = (%.2f |__ %.2f) A'%(abs(Is) , np.rad2deg( cmath.phase(Is) ) ))\n",
    "print('It = Ic = (%.2f |__ %.2f) A'%(abs(It) , np.rad2deg( cmath.phase(It) ) ))\n",
    "print('Potencia aparente:')\n",
    "print('|Sab| = %.1f VA'%abs(Sab))\n",
    "print('|Sbc| = %.1f VA'%abs(Sbc))\n",
    "print('|Sca| = %.1f VA'%abs(Sca))\n",
    "print('Sab = {:.2f} VA = (%.2f |__ %.2f°) VA'.format(Sab)%(abs(Sab), np.rad2deg( cmath.phase(Sab) ) ))\n",
    "print('Sbc = {:.2f} VA = (%.2f |__ %.2f°) VA'.format(Sbc)%(abs(Sbc), np.rad2deg( cmath.phase(Sbc) ) ))\n",
    "print('Sca = {:.2f} VA = (%.2f |__ %.2f°) VA'.format(Sca)%(abs(Sca), np.rad2deg( cmath.phase(Sca) ) ))\n",
    "print('Potencia activa:')\n",
    "print('Pab = %.2f W'%Pab)\n",
    "print('Pbc = %.2f W'%Pbc)\n",
    "print('Pca = %.2f W'%Pca)\n",
    "print('Potencia reactiva:')\n",
    "print('Qab = %.2f VAr'%Qab)\n",
    "print('Qbc = %.2f VAr'%Qbc)\n",
    "print('Qca = %.2f VAr'%Qca)\n",
    "print('Potencia trifásica aparente:')\n",
    "print('|Strif| = %.2f VA'%abs(Strif))\n",
    "print('Strif = {:.2f} VA = (%.2f |__ %.2f°) VA'.format(Strif)%(abs(Strif) , np.rad2deg( cmath.phase(Sab) ) ))\n",
    "print('Potencia trifásica activa:')\n",
    "print('Ptrif = %.2f W'%Ptrif)\n",
    "print('Potencia trifásica reactiva:')\n",
    "print('Qtrif = %.2f VAr'%Qtrif)"
   ]
  },
  {
   "cell_type": "code",
   "execution_count": 6,
   "metadata": {},
   "outputs": [],
   "source": [
    "import matplotlib\n",
    "import matplotlib.pyplot as plt"
   ]
  },
  {
   "cell_type": "code",
   "execution_count": 9,
   "metadata": {},
   "outputs": [
    {
     "data": {
      "image/png": "[encoded data removed]",
      "text/plain": [
       "<Figure size 504x504 with 1 Axes>"
      ]
     },
     "metadata": {
      "needs_background": "light"
     },
     "output_type": "display_data"
    },
    {
     "name": "stdout",
     "output_type": "stream",
     "text": [
      "Ia  = (61.26 < 18.07°) A\n",
      "Ib  = (73.41 < -135.00°) A\n",
      "Ic  = (33.51 < 100.89°) A\n",
      "Iab = (38.00 < 30.00°) A\n",
      "Ibc = (38.00 < -120.00°) A\n",
      "Ica = (25.33 < -180.00°) A\n",
      "Uab = (380.00 < 30.00°) V\n",
      "Ubc = (380.00 < -90.00°) V\n",
      "Uca = (380.00 < 150.00°) V\n"
     ]
    }
   ],
   "source": [
    "%matplotlib inline\n",
    "plt.figure(figsize=(7,7))\n",
    "ax = plt.gca()\n",
    "ax.quiver(0,0,Uab.real,Uab.imag,width=0.003,angles='xy',scale_units='xy',scale=1,color='blue')\n",
    "ax.quiver(0,0,Ubc.real,Ubc.imag,width=0.003,angles='xy',scale_units='xy',scale=1,color='blue')\n",
    "ax.quiver(0,0,Uca.real,Uca.imag,width=0.003,angles='xy',scale_units='xy',scale=1,color='blue')\n",
    "ax.quiver(0,0,Ia.real,Ia.imag,angles='xy',scale_units='xy',scale=1,color='red')\n",
    "ax.quiver(0,0,Ib.real,Ib.imag,angles='xy',scale_units='xy',scale=1,color='red')\n",
    "ax.quiver(0,0,Ic.real,Ic.imag,angles='xy',scale_units='xy',scale=1,color='red')\n",
    "ax.quiver(0,0,Iab.real,Iab.imag,angles='xy',scale_units='xy',scale=1,color='yellow')\n",
    "ax.quiver(0,0,Ibc.real,Ibc.imag,angles='xy',scale_units='xy',scale=1,color='yellow')\n",
    "ax.quiver(0,0,Ica.real,Ica.imag,angles='xy',scale_units='xy',scale=1,color='yellow')\n",
    "plt.text(Ia.real, Ia.imag, r'$I_a < %.2f°$'%(np.rad2deg(cmath.phase(Ia))), fontsize=14, color='red')\n",
    "plt.text(Ib.real - 5 , Ib.imag - 5, r'$I_b < %.2f$°'%(np.rad2deg(cmath.phase(Ib))), fontsize=14, color='red')\n",
    "plt.text(Ic.real, Ic.imag, r'$I_c < %.2f$°'%(np.rad2deg(cmath.phase(Ic))), fontsize=14, color='red')\n",
    "plt.text(Iab.real, Iab.imag, r'$I_{ab}$', fontsize=18, fontweight='bold')\n",
    "plt.text(Ibc.real - 5 , Ibc.imag - 5, r'$I_{bc}$', fontsize=18, fontweight='bold')\n",
    "plt.text(Ica.real - 12, Ica.imag, r'$I_{ca}$', fontsize=18, fontweight='bold')\n",
    "#plt.axhline(y=0, xmin=0.5, xmax=1, linestyle=\"--\")\n",
    "ax.set_aspect('equal')\n",
    "plt.title('Diagrama fasorial de corrientes en la carga', fontsize=16)\n",
    "plt.xlabel('Re (Eje real)',  fontsize=16)\n",
    "plt.ylabel('Im (Eje imaginario)',  fontsize=16)\n",
    "plt.grid(linestyle=\":\")\n",
    "ax.set_axisbelow(True)\n",
    "ax.set_xlim([-100,100])\n",
    "ax.set_ylim([-100,100])\n",
    "#plt.draw()\n",
    "plt.show()\n",
    "print('Ia  = (%.2f < %.2f°) A'%(abs(Ir), np.rad2deg( cmath.phase(Ir) ) ))\n",
    "print('Ib  = (%.2f < %.2f°) A'%(abs(Is), np.rad2deg( cmath.phase(Is) ) ))\n",
    "print('Ic  = (%.2f < %.2f°) A'%(abs(It), np.rad2deg( cmath.phase(It) ) ))\n",
    "print('Iab = (%.2f < %.2f°) A'%(abs(Iab), np.rad2deg( cmath.phase(Iab) ) ))\n",
    "print('Ibc = (%.2f < %.2f°) A'%(abs(Ibc), np.rad2deg( cmath.phase(Ibc) ) ))\n",
    "print('Ica = (%.2f < %.2f°) A'%(abs(Ica), np.rad2deg( cmath.phase(Ica) ) ))\n",
    "print('Uab = (%.2f < %.2f°) V'%(abs(Uab), np.rad2deg( cmath.phase(Uab) ) ))\n",
    "print('Ubc = (%.2f < %.2f°) V'%(abs(Ubc), np.rad2deg( cmath.phase(Ubc) ) ))\n",
    "print('Uca = (%.2f < %.2f°) V'%(abs(Uca), np.rad2deg( cmath.phase(Uca) ) ))"
   ]
  },
  {
   "cell_type": "code",
   "execution_count": 10,
   "metadata": {},
   "outputs": [],
   "source": [
    "%reset -s -f"
   ]
  },
  {
   "cell_type": "markdown",
   "metadata": {},
   "source": [
    "## Problema 6\n",
    "Un sistema trifásico de secuencia TSR (cba), 3x380V, de 3 conductores alimenta una carga trifásica conectada en estrella."
   ]
  },
  {
   "cell_type": "markdown",
   "metadata": {},
   "source": [
    "$Z_a =6 \\, \\Omega$ con ángulo de desfasaje 0°     \n",
    "$Z_b = 6 \\, \\Omega$ con ángulo de desfasaje 30° inductivo     \n",
    "$Z_c = 5 \\, \\Omega$ con ángulo de desfasaje 45° inductivo"
   ]
  },
  {
   "cell_type": "markdown",
   "metadata": {},
   "source": [
    "Construis el triángulo de tensiones y determinar la tensión de desplazamiento del neutro $V_{on}$"
   ]
  },
  {
   "cell_type": "markdown",
   "metadata": {},
   "source": [
    "<img src=\"img/tp5ej6.png\">"
   ]
  },
  {
   "cell_type": "code",
   "execution_count": 1,
   "metadata": {},
   "outputs": [],
   "source": [
    "import numpy as np\n",
    "import cmath"
   ]
  },
  {
   "cell_type": "code",
   "execution_count": null,
   "metadata": {},
   "outputs": [],
   "source": [
    "# Datos:\n",
    "Ean = cmath.rect(220 , 0)\n",
    "Ebn = cmath.rect(220 , np.deg2rad(120))\n",
    "Ecn = cmath.rect(220 , np.deg2rad(240))\n",
    "Za = cmath.rect(6 , 0)\n",
    "Zb = cmath.rect(6 , np.deg2rad(30))\n",
    "Zc = cmath.rect(5 , np.deg2rad(45))"
   ]
  },
  {
   "cell_type": "code",
   "execution_count": 2,
   "metadata": {},
   "outputs": [],
   "source": [
    "# Cálculo de admitancias\n",
    "Ya = 1/Za\n",
    "Yb = 1/Zb\n",
    "Yc = 1/Zc\n",
    "# Cálculo de tensión de neutro\n",
    "Von = (Ean*Ya + Ebn*Yb + Ecn*Yc)/(Ya + Yb + Yc)\n",
    "# Cálculo de tensiones de fase\n",
    "Uao = Ean - Von\n",
    "Ubo = Ebn - Von\n",
    "Uco = Ecn - Von\n",
    "# Cálculo de corrientes de fase\n",
    "Ia = Uao/Za\n",
    "Ib = Ubo/Zb\n",
    "Ic = Uco/Zc"
   ]
  },
  {
   "cell_type": "code",
   "execution_count": 40,
   "metadata": {
    "jupyter": {
     "source_hidden": true
    }
   },
   "outputs": [
    {
     "name": "stdout",
     "output_type": "stream",
     "text": [
      "Admitancias:\n",
      "Ya = 0.167+0.000j Ohm^-1 = (0.167 < 0.00°) Ohm^-1\n",
      "Yb = 0.144-0.083j Ohm^-1 = (0.167 < -30.00°) Ohm^-1\n",
      "Yc = 0.141-0.141j Ohm^-1 = (0.200 < -45.00°) Ohm^-1\n",
      "Tensión de desplazamiento de neutro:\n",
      "Von = -32.61+39.68j  V = (51.35 < 129.41°) V\n",
      "Tensiones de fase:\n",
      "Uao =  252.61-39.68j V = (255.70 < -8.93°) V\n",
      "Ubo = -77.39+150.85j V = (169.55 < 117.16°) V\n",
      "Uco = -77.39-230.20j V = (242.86 < -108.58°) V\n",
      "Corrientes de fase:\n",
      "Ia = 42.101-6.613j   A = (42.617 < -8.93) A\n",
      "Ib = 1.400+28.223j   A = (28.258 < 87.16) A\n",
      "Ic = -43.501-21.610j A = (48.573 < -153.58) A\n"
     ]
    }
   ],
   "source": [
    "print('Admitancias:')\n",
    "print('Ya = {:.3f} Ohm^-1 = (%.3f < %.2f°) Ohm^-1'.format(Ya)%(abs(Ya), np.rad2deg(cmath.phase(Ya)) ))\n",
    "print('Yb = {:.3f} Ohm^-1 = (%.3f < %.2f°) Ohm^-1'.format(Yb)%(abs(Yb), np.rad2deg(cmath.phase(Yb)) ))\n",
    "print('Yc = {:.3f} Ohm^-1 = (%.3f < %.2f°) Ohm^-1'.format(Yc)%(abs(Yc), np.rad2deg(cmath.phase(Yc)) ))\n",
    "print('Tensión de desplazamiento de neutro:')\n",
    "print('Von = {:.2f}  V = (%.2f < %.2f°) V'.format(Von)%(abs(Von), np.rad2deg(cmath.phase(Von)) ))\n",
    "print('Tensiones de fase:')\n",
    "print('Uao =  {:.2f} V = (%.2f < %.2f°) V'.format(Uao)%(abs(Uao), np.rad2deg(cmath.phase(Uao)) ))\n",
    "print('Ubo = {:.2f} V = (%.2f < %.2f°) V'.format(Ubo)%(abs(Ubo), np.rad2deg(cmath.phase(Ubo)) ))\n",
    "print('Uco = {:.2f} V = (%.2f < %.2f°) V'.format(Uco)%(abs(Uco), np.rad2deg(cmath.phase(Uco)) ))\n",
    "print('Corrientes de fase:')\n",
    "print('Ia = {:.3f}   A = (%.3f < %.2f) A'.format(Ia)%(abs(Ia), np.rad2deg(cmath.phase(Ia)) ))\n",
    "print('Ib = {:.3f}   A = (%.3f < %.2f) A'.format(Ib)%(abs(Ib), np.rad2deg(cmath.phase(Ib)) ))\n",
    "print('Ic = {:.3f} A = (%.3f < %.2f) A'.format(Ic)%(abs(Ic), np.rad2deg(cmath.phase(Ic)) ))"
   ]
  },
  {
   "cell_type": "code",
   "execution_count": 4,
   "metadata": {},
   "outputs": [],
   "source": [
    "Uab = Ebn - Ean\n",
    "Ubc = Ecn - Ebn\n",
    "Uca = Ean - Ecn"
   ]
  },
  {
   "cell_type": "code",
   "execution_count": 5,
   "metadata": {},
   "outputs": [],
   "source": [
    "import matplotlib\n",
    "import matplotlib.pyplot as plt"
   ]
  },
  {
   "cell_type": "code",
   "execution_count": 43,
   "metadata": {},
   "outputs": [
    {
     "data": {
      "image/png": "[encoded data removed]",
      "text/plain": [
       "<Figure size 576x576 with 1 Axes>"
      ]
     },
     "metadata": {
      "needs_background": "light"
     },
     "output_type": "display_data"
    },
    {
     "name": "stdout",
     "output_type": "stream",
     "text": [
      "Tensiones de generación:\n",
      "Ean = 220.00+0.00j  V = (220.00 < 0.00°) V\n",
      "Ebn = -110.00+190.53j  V = (220.00 < 120.00°) V\n",
      "Ecn = -110.00-190.53j  V = (220.00 < -120.00°) V\n",
      "Tensiones compuestas:\n",
      "Uab = -330.00+190.53j  V = (381.05 < 150.00°) V\n",
      "Ubc = -0.00-381.05j  V = (381.05 < -90.00°) V\n",
      "Uca = 330.00+190.53j  V = (220.00 < 30.00°) V\n",
      "Tensión de desplazamiento de neutro:\n",
      "Von = -32.61+39.68j  V = (51.35 < 129.41°) V\n",
      "Tensiones de fase:\n",
      "Uao =  252.61-39.68j V = (255.70 < -8.93°) V\n",
      "Ubo = -77.39+150.85j V = (169.55 < 117.16°) V\n",
      "Uco = -77.39-230.20j V = (242.86 < -108.58°) V\n"
     ]
    }
   ],
   "source": [
    "%matplotlib inline\n",
    "plt.figure(figsize=(8,8))\n",
    "ax = plt.gca()\n",
    "ax.quiver(0,0,Ean.real,Ean.imag,angles='xy',scale_units='xy',scale=1)\n",
    "ax.quiver(0,0,Ebn.real,Ebn.imag,angles='xy',scale_units='xy',scale=1)\n",
    "ax.quiver(0,0,Ecn.real,Ecn.imag,angles='xy',scale_units='xy',scale=1)\n",
    "ax.quiver(Von.real,Von.imag,Uao.real,Uao.imag,width=0.005,angles='xy',scale_units='xy',scale=1,color='blue')\n",
    "ax.quiver(Von.real,Von.imag,Ubo.real,Ubo.imag,width=0.005,angles='xy',scale_units='xy',scale=1,color='blue')\n",
    "ax.quiver(Von.real,Von.imag,Uco.real,Uco.imag,width=0.005,angles='xy',scale_units='xy',scale=1,color='blue')\n",
    "ax.quiver(0,0,Von.real,Von.imag,angles='xy',scale_units='xy',scale=1,color='green')\n",
    "ax.quiver(Ean.real,Ean.imag,Uab.real,Uab.imag,angles='xy',scale_units='xy',scale=1,color='red')\n",
    "ax.quiver(Ecn.real,Ecn.imag,Uca.real,Uca.imag,angles='xy',scale_units='xy',scale=1,color='red')\n",
    "ax.quiver(Ebn.real,Ebn.imag,Ubc.real,Ubc.imag,angles='xy',scale_units='xy',scale=1,color='red')\n",
    "plt.text(Ean.real, Ean.imag, r'$E_{an} < %.1f°$'%(np.rad2deg(cmath.phase(Ean))), fontsize=14)\n",
    "plt.text(Ebn.real, Ebn.imag + 10, r'$E_{bn} < %.1f°$'%(np.rad2deg(cmath.phase(Ebn))), fontsize=14)\n",
    "plt.text(Ecn.real, Ecn.imag - 20, r'$E_{cn} < %.1f°$'%(np.rad2deg(cmath.phase(Ecn))), fontsize=14)\n",
    "plt.text(Ean.real/2, Ebn.imag/2, r'$U_{ab} < %.1f°$'%(np.rad2deg(cmath.phase(Uab))), fontsize=14,color='red')\n",
    "plt.text(Ean.real/2, Ecn.imag/2, r'$U_{ca} < %.1f°$'%(np.rad2deg(cmath.phase(Uca))), fontsize=14,color='red')\n",
    "plt.text(Ebn.real - 50, 0, r'$U_{bc} < %.1f°$'%(np.rad2deg(cmath.phase(Ubc))), fontsize=14,color='red')\n",
    "plt.text(Von.real + 20, Von.imag, r'$V_{on} < %.1f°$'%(np.rad2deg(cmath.phase(Von))), fontsize=14,color='green')\n",
    "plt.text(Uao.real + Von.real - 15, Uao.imag + Von.imag + 20, r'$U_{ao} < %.1f°$'%(np.rad2deg(cmath.phase(Uao))), fontsize=14,color='blue')\n",
    "plt.text(Ubo.real + Von.real, Ubo.imag + Von.imag + 30, r'$U_{bo} < %.1f°$'%(np.rad2deg(cmath.phase(Ubo))), fontsize=14,color='blue')\n",
    "plt.text(Uco.real + Von.real + 20, Uco.imag + Von.imag, r'$U_{co} < %.1f°$'%(np.rad2deg(cmath.phase(Uco))), fontsize=14,color='blue')\n",
    "plt.text(0, -20, r'$N$', fontsize=14,color='green')\n",
    "ax.set_aspect('equal')\n",
    "plt.title('Tensiones de fase y compuesta', fontsize=16)\n",
    "plt.xlabel('Re (Eje real)',  fontsize=16)\n",
    "plt.ylabel('Im (Eje imaginario)',  fontsize=16)\n",
    "plt.grid(linestyle=\":\")\n",
    "ax.set_axisbelow(True)\n",
    "ax.set_xlim([-200,300])\n",
    "ax.set_ylim([-250,250])\n",
    "#plt.draw()\n",
    "plt.show()\n",
    "print('Tensiones de generación:')\n",
    "print('Ean = {:.2f}  V = (%.2f < %.2f°) V'.format(Ean)%(abs(Ean), np.rad2deg(cmath.phase(Ean)) ))\n",
    "print('Ebn = {:.2f}  V = (%.2f < %.2f°) V'.format(Ebn)%(abs(Ebn), np.rad2deg(cmath.phase(Ebn)) ))\n",
    "print('Ecn = {:.2f}  V = (%.2f < %.2f°) V'.format(Ecn)%(abs(Ecn), np.rad2deg(cmath.phase(Ecn)) ))\n",
    "print('Tensiones compuestas:')\n",
    "print('Uab = {:.2f}  V = (%.2f < %.2f°) V'.format(Uab)%(abs(Uab), np.rad2deg(cmath.phase(Uab)) ))\n",
    "print('Ubc = {:.2f}  V = (%.2f < %.2f°) V'.format(Ubc)%(abs(Ubc), np.rad2deg(cmath.phase(Ubc)) ))\n",
    "print('Uca = {:.2f}  V = (%.2f < %.2f°) V'.format(Uca)%(abs(Ecn), np.rad2deg(cmath.phase(Uca)) ))\n",
    "print('Tensión de desplazamiento de neutro:')\n",
    "print('Von = {:.2f}  V = (%.2f < %.2f°) V'.format(Von)%(abs(Von), np.rad2deg(cmath.phase(Von)) ))\n",
    "print('Tensiones de fase:')\n",
    "print('Uao =  {:.2f} V = (%.2f < %.2f°) V'.format(Uao)%(abs(Uao), np.rad2deg(cmath.phase(Uao)) ))\n",
    "print('Ubo = {:.2f} V = (%.2f < %.2f°) V'.format(Ubo)%(abs(Ubo), np.rad2deg(cmath.phase(Ubo)) ))\n",
    "print('Uco = {:.2f} V = (%.2f < %.2f°) V'.format(Uco)%(abs(Uco), np.rad2deg(cmath.phase(Uco)) ))"
   ]
  },
  {
   "cell_type": "markdown",
   "metadata": {},
   "source": [
    "-----------\n",
    "<a href=\"https://colab.research.google.com/github/daniel-lorenzo/Electrotecnia/blob/master/Ejercitacion/TP5-2.ipynb\"><img align=\"left\" src=\"https://colab.research.google.com/assets/colab-badge.svg\" alt=\"Open in Colab\" title=\"Open and Execute in Google Colaboratory\"></a>"
   ]
  }
 ],
 "metadata": {
  "kernelspec": {
   "display_name": "Python 3",
   "language": "python",
   "name": "python3"
  },
  "language_info": {
   "codemirror_mode": {
    "name": "ipython",
    "version": 3
   },
   "file_extension": ".py",
   "mimetype": "text/x-python",
   "name": "python",
   "nbconvert_exporter": "python",
   "pygments_lexer": "ipython3",
   "version": "3.7.6"
  }
 },
 "nbformat": 4,
 "nbformat_minor": 4
}
