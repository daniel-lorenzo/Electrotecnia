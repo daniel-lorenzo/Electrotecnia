{
 "cells": [
  {
   "cell_type": "markdown",
   "metadata": {},
   "source": [
    "# Electrotecnia - TP N°2 \n",
    "## Conplejos - Impedancia Compleja - Ejercicios de CA\n",
    "## Dominio de la frecuencia"
   ]
  },
  {
   "cell_type": "markdown",
   "metadata": {},
   "source": [
    "__Alumno:__ Daniel Antonio Lorenzo"
   ]
  },
  {
   "cell_type": "markdown",
   "metadata": {},
   "source": [
    "## Problema 1\n",
    "Dados los siguientes números complejos:\n",
    "\n",
    "$\\begin{array}{l}\n",
    "Z_1 = 6 \\\\\n",
    "Z_2 = 2 - j3 \\\\\n",
    "Z_3 = j4 \\\\\n",
    "Z_4 = -3 + j2 \\\\\n",
    "Z_5 = -4 - j4 \\\\\n",
    "Z_6 = 3 + j3\n",
    "\\end{array}$ "
   ]
  },
  {
   "cell_type": "markdown",
   "metadata": {},
   "source": [
    "### 1.1 Representarlos en sistema de ejes coordenadas"
   ]
  },
  {
   "cell_type": "markdown",
   "metadata": {},
   "source": [
    "### Utilizando Python para graficar"
   ]
  },
  {
   "cell_type": "code",
   "execution_count": 62,
   "metadata": {},
   "outputs": [],
   "source": [
    "import matplotlib\n",
    "import matplotlib.pyplot as plt\n",
    "import numpy as np"
   ]
  },
  {
   "cell_type": "code",
   "execution_count": 67,
   "metadata": {},
   "outputs": [
    {
     "data": {
      "application/javascript": [
       "/* Put everything inside the global mpl namespace */\n",
       "window.mpl = {};\n",
       "\n",
       "\n",
       "mpl.get_websocket_type = function() {\n",
       "    if (typeof(WebSocket) !== 'undefined') {\n",
       "        return WebSocket;\n",
       "    } else if (typeof(MozWebSocket) !== 'undefined') {\n",
       "        return MozWebSocket;\n",
       "    } else {\n",
       "        alert('Your browser does not have WebSocket support. ' +\n",
       "              'Please try Chrome, Safari or Firefox ≥ 6. ' +\n",
       "              'Firefox 4 and 5 are also supported but you ' +\n",
       "              'have to enable WebSockets in about:config.');\n",
       "    };\n",
       "}\n",
       "\n",
       "mpl.figure = function(figure_id, websocket, ondownload, parent_element) {\n",
       "    this.id = figure_id;\n",
       "\n",
       "    this.ws = websocket;\n",
       "\n",
       "    this.supports_binary = (this.ws.binaryType != undefined);\n",
       "\n",
       "    if (!this.supports_binary) {\n",
       "        var warnings = document.getElementById(\"mpl-warnings\");\n",
       "        if (warnings) {\n",
       "            warnings.style.display = 'block';\n",
       "            warnings.textContent = (\n",
       "                \"This browser does not support binary websocket messages. \" +\n",
       "                    \"Performance may be slow.\");\n",
       "        }\n",
       "    }\n",
       "\n",
       "    this.imageObj = new Image();\n",
       "\n",
       "    this.context = undefined;\n",
       "    this.message = undefined;\n",
       "    this.canvas = undefined;\n",
       "    this.rubberband_canvas = undefined;\n",
       "    this.rubberband_context = undefined;\n",
       "    this.format_dropdown = undefined;\n",
       "\n",
       "    this.image_mode = 'full';\n",
       "\n",
       "    this.root = $('<div/>');\n",
       "    this._root_extra_style(this.root)\n",
       "    this.root.attr('style', 'display: inline-block');\n",
       "\n",
       "    $(parent_element).append(this.root);\n",
       "\n",
       "    this._init_header(this);\n",
       "    this._init_canvas(this);\n",
       "    this._init_toolbar(this);\n",
       "\n",
       "    var fig = this;\n",
       "\n",
       "    this.waiting = false;\n",
       "\n",
       "    this.ws.onopen =  function () {\n",
       "            fig.send_message(\"supports_binary\", {value: fig.supports_binary});\n",
       "            fig.send_message(\"send_image_mode\", {});\n",
       "            if (mpl.ratio != 1) {\n",
       "                fig.send_message(\"set_dpi_ratio\", {'dpi_ratio': mpl.ratio});\n",
       "            }\n",
       "            fig.send_message(\"refresh\", {});\n",
       "        }\n",
       "\n",
       "    this.imageObj.onload = function() {\n",
       "            if (fig.image_mode == 'full') {\n",
       "                // Full images could contain transparency (where diff images\n",
       "                // almost always do), so we need to clear the canvas so that\n",
       "                // there is no ghosting.\n",
       "                fig.context.clearRect(0, 0, fig.canvas.width, fig.canvas.height);\n",
       "            }\n",
       "            fig.context.drawImage(fig.imageObj, 0, 0);\n",
       "        };\n",
       "\n",
       "    this.imageObj.onunload = function() {\n",
       "        fig.ws.close();\n",
       "    }\n",
       "\n",
       "    this.ws.onmessage = this._make_on_message_function(this);\n",
       "\n",
       "    this.ondownload = ondownload;\n",
       "}\n",
       "\n",
       "mpl.figure.prototype._init_header = function() {\n",
       "    var titlebar = $(\n",
       "        '<div class=\"ui-dialog-titlebar ui-widget-header ui-corner-all ' +\n",
       "        'ui-helper-clearfix\"/>');\n",
       "    var titletext = $(\n",
       "        '<div class=\"ui-dialog-title\" style=\"width: 100%; ' +\n",
       "        'text-align: center; padding: 3px;\"/>');\n",
       "    titlebar.append(titletext)\n",
       "    this.root.append(titlebar);\n",
       "    this.header = titletext[0];\n",
       "}\n",
       "\n",
       "\n",
       "\n",
       "mpl.figure.prototype._canvas_extra_style = function(canvas_div) {\n",
       "\n",
       "}\n",
       "\n",
       "\n",
       "mpl.figure.prototype._root_extra_style = function(canvas_div) {\n",
       "\n",
       "}\n",
       "\n",
       "mpl.figure.prototype._init_canvas = function() {\n",
       "    var fig = this;\n",
       "\n",
       "    var canvas_div = $('<div/>');\n",
       "\n",
       "    canvas_div.attr('style', 'position: relative; clear: both; outline: 0');\n",
       "\n",
       "    function canvas_keyboard_event(event) {\n",
       "        return fig.key_event(event, event['data']);\n",
       "    }\n",
       "\n",
       "    canvas_div.keydown('key_press', canvas_keyboard_event);\n",
       "    canvas_div.keyup('key_release', canvas_keyboard_event);\n",
       "    this.canvas_div = canvas_div\n",
       "    this._canvas_extra_style(canvas_div)\n",
       "    this.root.append(canvas_div);\n",
       "\n",
       "    var canvas = $('<canvas/>');\n",
       "    canvas.addClass('mpl-canvas');\n",
       "    canvas.attr('style', \"left: 0; top: 0; z-index: 0; outline: 0\")\n",
       "\n",
       "    this.canvas = canvas[0];\n",
       "    this.context = canvas[0].getContext(\"2d\");\n",
       "\n",
       "    var backingStore = this.context.backingStorePixelRatio ||\n",
       "\tthis.context.webkitBackingStorePixelRatio ||\n",
       "\tthis.context.mozBackingStorePixelRatio ||\n",
       "\tthis.context.msBackingStorePixelRatio ||\n",
       "\tthis.context.oBackingStorePixelRatio ||\n",
       "\tthis.context.backingStorePixelRatio || 1;\n",
       "\n",
       "    mpl.ratio = (window.devicePixelRatio || 1) / backingStore;\n",
       "\n",
       "    var rubberband = $('<canvas/>');\n",
       "    rubberband.attr('style', \"position: absolute; left: 0; top: 0; z-index: 1;\")\n",
       "\n",
       "    var pass_mouse_events = true;\n",
       "\n",
       "    canvas_div.resizable({\n",
       "        start: function(event, ui) {\n",
       "            pass_mouse_events = false;\n",
       "        },\n",
       "        resize: function(event, ui) {\n",
       "            fig.request_resize(ui.size.width, ui.size.height);\n",
       "        },\n",
       "        stop: function(event, ui) {\n",
       "            pass_mouse_events = true;\n",
       "            fig.request_resize(ui.size.width, ui.size.height);\n",
       "        },\n",
       "    });\n",
       "\n",
       "    function mouse_event_fn(event) {\n",
       "        if (pass_mouse_events)\n",
       "            return fig.mouse_event(event, event['data']);\n",
       "    }\n",
       "\n",
       "    rubberband.mousedown('button_press', mouse_event_fn);\n",
       "    rubberband.mouseup('button_release', mouse_event_fn);\n",
       "    // Throttle sequential mouse events to 1 every 20ms.\n",
       "    rubberband.mousemove('motion_notify', mouse_event_fn);\n",
       "\n",
       "    rubberband.mouseenter('figure_enter', mouse_event_fn);\n",
       "    rubberband.mouseleave('figure_leave', mouse_event_fn);\n",
       "\n",
       "    canvas_div.on(\"wheel\", function (event) {\n",
       "        event = event.originalEvent;\n",
       "        event['data'] = 'scroll'\n",
       "        if (event.deltaY < 0) {\n",
       "            event.step = 1;\n",
       "        } else {\n",
       "            event.step = -1;\n",
       "        }\n",
       "        mouse_event_fn(event);\n",
       "    });\n",
       "\n",
       "    canvas_div.append(canvas);\n",
       "    canvas_div.append(rubberband);\n",
       "\n",
       "    this.rubberband = rubberband;\n",
       "    this.rubberband_canvas = rubberband[0];\n",
       "    this.rubberband_context = rubberband[0].getContext(\"2d\");\n",
       "    this.rubberband_context.strokeStyle = \"#000000\";\n",
       "\n",
       "    this._resize_canvas = function(width, height) {\n",
       "        // Keep the size of the canvas, canvas container, and rubber band\n",
       "        // canvas in synch.\n",
       "        canvas_div.css('width', width)\n",
       "        canvas_div.css('height', height)\n",
       "\n",
       "        canvas.attr('width', width * mpl.ratio);\n",
       "        canvas.attr('height', height * mpl.ratio);\n",
       "        canvas.attr('style', 'width: ' + width + 'px; height: ' + height + 'px;');\n",
       "\n",
       "        rubberband.attr('width', width);\n",
       "        rubberband.attr('height', height);\n",
       "    }\n",
       "\n",
       "    // Set the figure to an initial 600x600px, this will subsequently be updated\n",
       "    // upon first draw.\n",
       "    this._resize_canvas(600, 600);\n",
       "\n",
       "    // Disable right mouse context menu.\n",
       "    $(this.rubberband_canvas).bind(\"contextmenu\",function(e){\n",
       "        return false;\n",
       "    });\n",
       "\n",
       "    function set_focus () {\n",
       "        canvas.focus();\n",
       "        canvas_div.focus();\n",
       "    }\n",
       "\n",
       "    window.setTimeout(set_focus, 100);\n",
       "}\n",
       "\n",
       "mpl.figure.prototype._init_toolbar = function() {\n",
       "    var fig = this;\n",
       "\n",
       "    var nav_element = $('<div/>');\n",
       "    nav_element.attr('style', 'width: 100%');\n",
       "    this.root.append(nav_element);\n",
       "\n",
       "    // Define a callback function for later on.\n",
       "    function toolbar_event(event) {\n",
       "        return fig.toolbar_button_onclick(event['data']);\n",
       "    }\n",
       "    function toolbar_mouse_event(event) {\n",
       "        return fig.toolbar_button_onmouseover(event['data']);\n",
       "    }\n",
       "\n",
       "    for(var toolbar_ind in mpl.toolbar_items) {\n",
       "        var name = mpl.toolbar_items[toolbar_ind][0];\n",
       "        var tooltip = mpl.toolbar_items[toolbar_ind][1];\n",
       "        var image = mpl.toolbar_items[toolbar_ind][2];\n",
       "        var method_name = mpl.toolbar_items[toolbar_ind][3];\n",
       "\n",
       "        if (!name) {\n",
       "            // put a spacer in here.\n",
       "            continue;\n",
       "        }\n",
       "        var button = $('<button/>');\n",
       "        button.addClass('ui-button ui-widget ui-state-default ui-corner-all ' +\n",
       "                        'ui-button-icon-only');\n",
       "        button.attr('role', 'button');\n",
       "        button.attr('aria-disabled', 'false');\n",
       "        button.click(method_name, toolbar_event);\n",
       "        button.mouseover(tooltip, toolbar_mouse_event);\n",
       "\n",
       "        var icon_img = $('<span/>');\n",
       "        icon_img.addClass('ui-button-icon-primary ui-icon');\n",
       "        icon_img.addClass(image);\n",
       "        icon_img.addClass('ui-corner-all');\n",
       "\n",
       "        var tooltip_span = $('<span/>');\n",
       "        tooltip_span.addClass('ui-button-text');\n",
       "        tooltip_span.html(tooltip);\n",
       "\n",
       "        button.append(icon_img);\n",
       "        button.append(tooltip_span);\n",
       "\n",
       "        nav_element.append(button);\n",
       "    }\n",
       "\n",
       "    var fmt_picker_span = $('<span/>');\n",
       "\n",
       "    var fmt_picker = $('<select/>');\n",
       "    fmt_picker.addClass('mpl-toolbar-option ui-widget ui-widget-content');\n",
       "    fmt_picker_span.append(fmt_picker);\n",
       "    nav_element.append(fmt_picker_span);\n",
       "    this.format_dropdown = fmt_picker[0];\n",
       "\n",
       "    for (var ind in mpl.extensions) {\n",
       "        var fmt = mpl.extensions[ind];\n",
       "        var option = $(\n",
       "            '<option/>', {selected: fmt === mpl.default_extension}).html(fmt);\n",
       "        fmt_picker.append(option);\n",
       "    }\n",
       "\n",
       "    // Add hover states to the ui-buttons\n",
       "    $( \".ui-button\" ).hover(\n",
       "        function() { $(this).addClass(\"ui-state-hover\");},\n",
       "        function() { $(this).removeClass(\"ui-state-hover\");}\n",
       "    );\n",
       "\n",
       "    var status_bar = $('<span class=\"mpl-message\"/>');\n",
       "    nav_element.append(status_bar);\n",
       "    this.message = status_bar[0];\n",
       "}\n",
       "\n",
       "mpl.figure.prototype.request_resize = function(x_pixels, y_pixels) {\n",
       "    // Request matplotlib to resize the figure. Matplotlib will then trigger a resize in the client,\n",
       "    // which will in turn request a refresh of the image.\n",
       "    this.send_message('resize', {'width': x_pixels, 'height': y_pixels});\n",
       "}\n",
       "\n",
       "mpl.figure.prototype.send_message = function(type, properties) {\n",
       "    properties['type'] = type;\n",
       "    properties['figure_id'] = this.id;\n",
       "    this.ws.send(JSON.stringify(properties));\n",
       "}\n",
       "\n",
       "mpl.figure.prototype.send_draw_message = function() {\n",
       "    if (!this.waiting) {\n",
       "        this.waiting = true;\n",
       "        this.ws.send(JSON.stringify({type: \"draw\", figure_id: this.id}));\n",
       "    }\n",
       "}\n",
       "\n",
       "\n",
       "mpl.figure.prototype.handle_save = function(fig, msg) {\n",
       "    var format_dropdown = fig.format_dropdown;\n",
       "    var format = format_dropdown.options[format_dropdown.selectedIndex].value;\n",
       "    fig.ondownload(fig, format);\n",
       "}\n",
       "\n",
       "\n",
       "mpl.figure.prototype.handle_resize = function(fig, msg) {\n",
       "    var size = msg['size'];\n",
       "    if (size[0] != fig.canvas.width || size[1] != fig.canvas.height) {\n",
       "        fig._resize_canvas(size[0], size[1]);\n",
       "        fig.send_message(\"refresh\", {});\n",
       "    };\n",
       "}\n",
       "\n",
       "mpl.figure.prototype.handle_rubberband = function(fig, msg) {\n",
       "    var x0 = msg['x0'] / mpl.ratio;\n",
       "    var y0 = (fig.canvas.height - msg['y0']) / mpl.ratio;\n",
       "    var x1 = msg['x1'] / mpl.ratio;\n",
       "    var y1 = (fig.canvas.height - msg['y1']) / mpl.ratio;\n",
       "    x0 = Math.floor(x0) + 0.5;\n",
       "    y0 = Math.floor(y0) + 0.5;\n",
       "    x1 = Math.floor(x1) + 0.5;\n",
       "    y1 = Math.floor(y1) + 0.5;\n",
       "    var min_x = Math.min(x0, x1);\n",
       "    var min_y = Math.min(y0, y1);\n",
       "    var width = Math.abs(x1 - x0);\n",
       "    var height = Math.abs(y1 - y0);\n",
       "\n",
       "    fig.rubberband_context.clearRect(\n",
       "        0, 0, fig.canvas.width / mpl.ratio, fig.canvas.height / mpl.ratio);\n",
       "\n",
       "    fig.rubberband_context.strokeRect(min_x, min_y, width, height);\n",
       "}\n",
       "\n",
       "mpl.figure.prototype.handle_figure_label = function(fig, msg) {\n",
       "    // Updates the figure title.\n",
       "    fig.header.textContent = msg['label'];\n",
       "}\n",
       "\n",
       "mpl.figure.prototype.handle_cursor = function(fig, msg) {\n",
       "    var cursor = msg['cursor'];\n",
       "    switch(cursor)\n",
       "    {\n",
       "    case 0:\n",
       "        cursor = 'pointer';\n",
       "        break;\n",
       "    case 1:\n",
       "        cursor = 'default';\n",
       "        break;\n",
       "    case 2:\n",
       "        cursor = 'crosshair';\n",
       "        break;\n",
       "    case 3:\n",
       "        cursor = 'move';\n",
       "        break;\n",
       "    }\n",
       "    fig.rubberband_canvas.style.cursor = cursor;\n",
       "}\n",
       "\n",
       "mpl.figure.prototype.handle_message = function(fig, msg) {\n",
       "    fig.message.textContent = msg['message'];\n",
       "}\n",
       "\n",
       "mpl.figure.prototype.handle_draw = function(fig, msg) {\n",
       "    // Request the server to send over a new figure.\n",
       "    fig.send_draw_message();\n",
       "}\n",
       "\n",
       "mpl.figure.prototype.handle_image_mode = function(fig, msg) {\n",
       "    fig.image_mode = msg['mode'];\n",
       "}\n",
       "\n",
       "mpl.figure.prototype.updated_canvas_event = function() {\n",
       "    // Called whenever the canvas gets updated.\n",
       "    this.send_message(\"ack\", {});\n",
       "}\n",
       "\n",
       "// A function to construct a web socket function for onmessage handling.\n",
       "// Called in the figure constructor.\n",
       "mpl.figure.prototype._make_on_message_function = function(fig) {\n",
       "    return function socket_on_message(evt) {\n",
       "        if (evt.data instanceof Blob) {\n",
       "            /* FIXME: We get \"Resource interpreted as Image but\n",
       "             * transferred with MIME type text/plain:\" errors on\n",
       "             * Chrome.  But how to set the MIME type?  It doesn't seem\n",
       "             * to be part of the websocket stream */\n",
       "            evt.data.type = \"image/png\";\n",
       "\n",
       "            /* Free the memory for the previous frames */\n",
       "            if (fig.imageObj.src) {\n",
       "                (window.URL || window.webkitURL).revokeObjectURL(\n",
       "                    fig.imageObj.src);\n",
       "            }\n",
       "\n",
       "            fig.imageObj.src = (window.URL || window.webkitURL).createObjectURL(\n",
       "                evt.data);\n",
       "            fig.updated_canvas_event();\n",
       "            fig.waiting = false;\n",
       "            return;\n",
       "        }\n",
       "        else if (typeof evt.data === 'string' && evt.data.slice(0, 21) == \"data:image/png;base64\") {\n",
       "            fig.imageObj.src = evt.data;\n",
       "            fig.updated_canvas_event();\n",
       "            fig.waiting = false;\n",
       "            return;\n",
       "        }\n",
       "\n",
       "        var msg = JSON.parse(evt.data);\n",
       "        var msg_type = msg['type'];\n",
       "\n",
       "        // Call the  \"handle_{type}\" callback, which takes\n",
       "        // the figure and JSON message as its only arguments.\n",
       "        try {\n",
       "            var callback = fig[\"handle_\" + msg_type];\n",
       "        } catch (e) {\n",
       "            console.log(\"No handler for the '\" + msg_type + \"' message type: \", msg);\n",
       "            return;\n",
       "        }\n",
       "\n",
       "        if (callback) {\n",
       "            try {\n",
       "                // console.log(\"Handling '\" + msg_type + \"' message: \", msg);\n",
       "                callback(fig, msg);\n",
       "            } catch (e) {\n",
       "                console.log(\"Exception inside the 'handler_\" + msg_type + \"' callback:\", e, e.stack, msg);\n",
       "            }\n",
       "        }\n",
       "    };\n",
       "}\n",
       "\n",
       "// from http://stackoverflow.com/questions/1114465/getting-mouse-location-in-canvas\n",
       "mpl.findpos = function(e) {\n",
       "    //this section is from http://www.quirksmode.org/js/events_properties.html\n",
       "    var targ;\n",
       "    if (!e)\n",
       "        e = window.event;\n",
       "    if (e.target)\n",
       "        targ = e.target;\n",
       "    else if (e.srcElement)\n",
       "        targ = e.srcElement;\n",
       "    if (targ.nodeType == 3) // defeat Safari bug\n",
       "        targ = targ.parentNode;\n",
       "\n",
       "    // jQuery normalizes the pageX and pageY\n",
       "    // pageX,Y are the mouse positions relative to the document\n",
       "    // offset() returns the position of the element relative to the document\n",
       "    var x = e.pageX - $(targ).offset().left;\n",
       "    var y = e.pageY - $(targ).offset().top;\n",
       "\n",
       "    return {\"x\": x, \"y\": y};\n",
       "};\n",
       "\n",
       "/*\n",
       " * return a copy of an object with only non-object keys\n",
       " * we need this to avoid circular references\n",
       " * http://stackoverflow.com/a/24161582/3208463\n",
       " */\n",
       "function simpleKeys (original) {\n",
       "  return Object.keys(original).reduce(function (obj, key) {\n",
       "    if (typeof original[key] !== 'object')\n",
       "        obj[key] = original[key]\n",
       "    return obj;\n",
       "  }, {});\n",
       "}\n",
       "\n",
       "mpl.figure.prototype.mouse_event = function(event, name) {\n",
       "    var canvas_pos = mpl.findpos(event)\n",
       "\n",
       "    if (name === 'button_press')\n",
       "    {\n",
       "        this.canvas.focus();\n",
       "        this.canvas_div.focus();\n",
       "    }\n",
       "\n",
       "    var x = canvas_pos.x * mpl.ratio;\n",
       "    var y = canvas_pos.y * mpl.ratio;\n",
       "\n",
       "    this.send_message(name, {x: x, y: y, button: event.button,\n",
       "                             step: event.step,\n",
       "                             guiEvent: simpleKeys(event)});\n",
       "\n",
       "    /* This prevents the web browser from automatically changing to\n",
       "     * the text insertion cursor when the button is pressed.  We want\n",
       "     * to control all of the cursor setting manually through the\n",
       "     * 'cursor' event from matplotlib */\n",
       "    event.preventDefault();\n",
       "    return false;\n",
       "}\n",
       "\n",
       "mpl.figure.prototype._key_event_extra = function(event, name) {\n",
       "    // Handle any extra behaviour associated with a key event\n",
       "}\n",
       "\n",
       "mpl.figure.prototype.key_event = function(event, name) {\n",
       "\n",
       "    // Prevent repeat events\n",
       "    if (name == 'key_press')\n",
       "    {\n",
       "        if (event.which === this._key)\n",
       "            return;\n",
       "        else\n",
       "            this._key = event.which;\n",
       "    }\n",
       "    if (name == 'key_release')\n",
       "        this._key = null;\n",
       "\n",
       "    var value = '';\n",
       "    if (event.ctrlKey && event.which != 17)\n",
       "        value += \"ctrl+\";\n",
       "    if (event.altKey && event.which != 18)\n",
       "        value += \"alt+\";\n",
       "    if (event.shiftKey && event.which != 16)\n",
       "        value += \"shift+\";\n",
       "\n",
       "    value += 'k';\n",
       "    value += event.which.toString();\n",
       "\n",
       "    this._key_event_extra(event, name);\n",
       "\n",
       "    this.send_message(name, {key: value,\n",
       "                             guiEvent: simpleKeys(event)});\n",
       "    return false;\n",
       "}\n",
       "\n",
       "mpl.figure.prototype.toolbar_button_onclick = function(name) {\n",
       "    if (name == 'download') {\n",
       "        this.handle_save(this, null);\n",
       "    } else {\n",
       "        this.send_message(\"toolbar_button\", {name: name});\n",
       "    }\n",
       "};\n",
       "\n",
       "mpl.figure.prototype.toolbar_button_onmouseover = function(tooltip) {\n",
       "    this.message.textContent = tooltip;\n",
       "};\n",
       "mpl.toolbar_items = [[\"Home\", \"Reset original view\", \"fa fa-home icon-home\", \"home\"], [\"Back\", \"Back to previous view\", \"fa fa-arrow-left icon-arrow-left\", \"back\"], [\"Forward\", \"Forward to next view\", \"fa fa-arrow-right icon-arrow-right\", \"forward\"], [\"\", \"\", \"\", \"\"], [\"Pan\", \"Pan axes with left mouse, zoom with right\", \"fa fa-arrows icon-move\", \"pan\"], [\"Zoom\", \"Zoom to rectangle\", \"fa fa-square-o icon-check-empty\", \"zoom\"], [\"\", \"\", \"\", \"\"], [\"Download\", \"Download plot\", \"fa fa-floppy-o icon-save\", \"download\"]];\n",
       "\n",
       "mpl.extensions = [\"eps\", \"jpeg\", \"pdf\", \"png\", \"ps\", \"raw\", \"svg\", \"tif\"];\n",
       "\n",
       "mpl.default_extension = \"png\";var comm_websocket_adapter = function(comm) {\n",
       "    // Create a \"websocket\"-like object which calls the given IPython comm\n",
       "    // object with the appropriate methods. Currently this is a non binary\n",
       "    // socket, so there is still some room for performance tuning.\n",
       "    var ws = {};\n",
       "\n",
       "    ws.close = function() {\n",
       "        comm.close()\n",
       "    };\n",
       "    ws.send = function(m) {\n",
       "        //console.log('sending', m);\n",
       "        comm.send(m);\n",
       "    };\n",
       "    // Register the callback with on_msg.\n",
       "    comm.on_msg(function(msg) {\n",
       "        //console.log('receiving', msg['content']['data'], msg);\n",
       "        // Pass the mpl event to the overridden (by mpl) onmessage function.\n",
       "        ws.onmessage(msg['content']['data'])\n",
       "    });\n",
       "    return ws;\n",
       "}\n",
       "\n",
       "mpl.mpl_figure_comm = function(comm, msg) {\n",
       "    // This is the function which gets called when the mpl process\n",
       "    // starts-up an IPython Comm through the \"matplotlib\" channel.\n",
       "\n",
       "    var id = msg.content.data.id;\n",
       "    // Get hold of the div created by the display call when the Comm\n",
       "    // socket was opened in Python.\n",
       "    var element = $(\"#\" + id);\n",
       "    var ws_proxy = comm_websocket_adapter(comm)\n",
       "\n",
       "    function ondownload(figure, format) {\n",
       "        window.open(figure.imageObj.src);\n",
       "    }\n",
       "\n",
       "    var fig = new mpl.figure(id, ws_proxy,\n",
       "                           ondownload,\n",
       "                           element.get(0));\n",
       "\n",
       "    // Call onopen now - mpl needs it, as it is assuming we've passed it a real\n",
       "    // web socket which is closed, not our websocket->open comm proxy.\n",
       "    ws_proxy.onopen();\n",
       "\n",
       "    fig.parent_element = element.get(0);\n",
       "    fig.cell_info = mpl.find_output_cell(\"<div id='\" + id + \"'></div>\");\n",
       "    if (!fig.cell_info) {\n",
       "        console.error(\"Failed to find cell for figure\", id, fig);\n",
       "        return;\n",
       "    }\n",
       "\n",
       "    var output_index = fig.cell_info[2]\n",
       "    var cell = fig.cell_info[0];\n",
       "\n",
       "};\n",
       "\n",
       "mpl.figure.prototype.handle_close = function(fig, msg) {\n",
       "    var width = fig.canvas.width/mpl.ratio\n",
       "    fig.root.unbind('remove')\n",
       "\n",
       "    // Update the output cell to use the data from the current canvas.\n",
       "    fig.push_to_output();\n",
       "    var dataURL = fig.canvas.toDataURL();\n",
       "    // Re-enable the keyboard manager in IPython - without this line, in FF,\n",
       "    // the notebook keyboard shortcuts fail.\n",
       "    IPython.keyboard_manager.enable()\n",
       "    $(fig.parent_element).html('<img src=\"' + dataURL + '\" width=\"' + width + '\">');\n",
       "    fig.close_ws(fig, msg);\n",
       "}\n",
       "\n",
       "mpl.figure.prototype.close_ws = function(fig, msg){\n",
       "    fig.send_message('closing', msg);\n",
       "    // fig.ws.close()\n",
       "}\n",
       "\n",
       "mpl.figure.prototype.push_to_output = function(remove_interactive) {\n",
       "    // Turn the data on the canvas into data in the output cell.\n",
       "    var width = this.canvas.width/mpl.ratio\n",
       "    var dataURL = this.canvas.toDataURL();\n",
       "    this.cell_info[1]['text/html'] = '<img src=\"' + dataURL + '\" width=\"' + width + '\">';\n",
       "}\n",
       "\n",
       "mpl.figure.prototype.updated_canvas_event = function() {\n",
       "    // Tell IPython that the notebook contents must change.\n",
       "    IPython.notebook.set_dirty(true);\n",
       "    this.send_message(\"ack\", {});\n",
       "    var fig = this;\n",
       "    // Wait a second, then push the new image to the DOM so\n",
       "    // that it is saved nicely (might be nice to debounce this).\n",
       "    setTimeout(function () { fig.push_to_output() }, 1000);\n",
       "}\n",
       "\n",
       "mpl.figure.prototype._init_toolbar = function() {\n",
       "    var fig = this;\n",
       "\n",
       "    var nav_element = $('<div/>');\n",
       "    nav_element.attr('style', 'width: 100%');\n",
       "    this.root.append(nav_element);\n",
       "\n",
       "    // Define a callback function for later on.\n",
       "    function toolbar_event(event) {\n",
       "        return fig.toolbar_button_onclick(event['data']);\n",
       "    }\n",
       "    function toolbar_mouse_event(event) {\n",
       "        return fig.toolbar_button_onmouseover(event['data']);\n",
       "    }\n",
       "\n",
       "    for(var toolbar_ind in mpl.toolbar_items){\n",
       "        var name = mpl.toolbar_items[toolbar_ind][0];\n",
       "        var tooltip = mpl.toolbar_items[toolbar_ind][1];\n",
       "        var image = mpl.toolbar_items[toolbar_ind][2];\n",
       "        var method_name = mpl.toolbar_items[toolbar_ind][3];\n",
       "\n",
       "        if (!name) { continue; };\n",
       "\n",
       "        var button = $('<button class=\"btn btn-default\" href=\"#\" title=\"' + name + '\"><i class=\"fa ' + image + ' fa-lg\"></i></button>');\n",
       "        button.click(method_name, toolbar_event);\n",
       "        button.mouseover(tooltip, toolbar_mouse_event);\n",
       "        nav_element.append(button);\n",
       "    }\n",
       "\n",
       "    // Add the status bar.\n",
       "    var status_bar = $('<span class=\"mpl-message\" style=\"text-align:right; float: right;\"/>');\n",
       "    nav_element.append(status_bar);\n",
       "    this.message = status_bar[0];\n",
       "\n",
       "    // Add the close button to the window.\n",
       "    var buttongrp = $('<div class=\"btn-group inline pull-right\"></div>');\n",
       "    var button = $('<button class=\"btn btn-mini btn-primary\" href=\"#\" title=\"Stop Interaction\"><i class=\"fa fa-power-off icon-remove icon-large\"></i></button>');\n",
       "    button.click(function (evt) { fig.handle_close(fig, {}); } );\n",
       "    button.mouseover('Stop Interaction', toolbar_mouse_event);\n",
       "    buttongrp.append(button);\n",
       "    var titlebar = this.root.find($('.ui-dialog-titlebar'));\n",
       "    titlebar.prepend(buttongrp);\n",
       "}\n",
       "\n",
       "mpl.figure.prototype._root_extra_style = function(el){\n",
       "    var fig = this\n",
       "    el.on(\"remove\", function(){\n",
       "\tfig.close_ws(fig, {});\n",
       "    });\n",
       "}\n",
       "\n",
       "mpl.figure.prototype._canvas_extra_style = function(el){\n",
       "    // this is important to make the div 'focusable\n",
       "    el.attr('tabindex', 0)\n",
       "    // reach out to IPython and tell the keyboard manager to turn it's self\n",
       "    // off when our div gets focus\n",
       "\n",
       "    // location in version 3\n",
       "    if (IPython.notebook.keyboard_manager) {\n",
       "        IPython.notebook.keyboard_manager.register_events(el);\n",
       "    }\n",
       "    else {\n",
       "        // location in version 2\n",
       "        IPython.keyboard_manager.register_events(el);\n",
       "    }\n",
       "\n",
       "}\n",
       "\n",
       "mpl.figure.prototype._key_event_extra = function(event, name) {\n",
       "    var manager = IPython.notebook.keyboard_manager;\n",
       "    if (!manager)\n",
       "        manager = IPython.keyboard_manager;\n",
       "\n",
       "    // Check for shift+enter\n",
       "    if (event.shiftKey && event.which == 13) {\n",
       "        this.canvas_div.blur();\n",
       "        // select the cell after this one\n",
       "        var index = IPython.notebook.find_cell_index(this.cell_info[0]);\n",
       "        IPython.notebook.select(index + 1);\n",
       "    }\n",
       "}\n",
       "\n",
       "mpl.figure.prototype.handle_save = function(fig, msg) {\n",
       "    fig.ondownload(fig, null);\n",
       "}\n",
       "\n",
       "\n",
       "mpl.find_output_cell = function(html_output) {\n",
       "    // Return the cell and output element which can be found *uniquely* in the notebook.\n",
       "    // Note - this is a bit hacky, but it is done because the \"notebook_saving.Notebook\"\n",
       "    // IPython event is triggered only after the cells have been serialised, which for\n",
       "    // our purposes (turning an active figure into a static one), is too late.\n",
       "    var cells = IPython.notebook.get_cells();\n",
       "    var ncells = cells.length;\n",
       "    for (var i=0; i<ncells; i++) {\n",
       "        var cell = cells[i];\n",
       "        if (cell.cell_type === 'code'){\n",
       "            for (var j=0; j<cell.output_area.outputs.length; j++) {\n",
       "                var data = cell.output_area.outputs[j];\n",
       "                if (data.data) {\n",
       "                    // IPython >= 3 moved mimebundle to data attribute of output\n",
       "                    data = data.data;\n",
       "                }\n",
       "                if (data['text/html'] == html_output) {\n",
       "                    return [cell, data, j];\n",
       "                }\n",
       "            }\n",
       "        }\n",
       "    }\n",
       "}\n",
       "\n",
       "// Register the function which deals with the matplotlib target/channel.\n",
       "// The kernel may be null if the page has been refreshed.\n",
       "if (IPython.notebook.kernel != null) {\n",
       "    IPython.notebook.kernel.comm_manager.register_target('matplotlib', mpl.mpl_figure_comm);\n",
       "}\n"
      ],
      "text/plain": [
       "<IPython.core.display.Javascript object>"
      ]
     },
     "metadata": {},
     "output_type": "display_data"
    },
    {
     "data": {
      "text/html": [
       "<img src=\"data:image/png;base64,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\" width=\"640\">"
      ],
      "text/plain": [
       "<IPython.core.display.HTML object>"
      ]
     },
     "metadata": {},
     "output_type": "display_data"
    }
   ],
   "source": [
    "%matplotlib notebook\n",
    "re =   [6, 2 , 0, -3,-4,3] \n",
    "im =  [0, -3, 4, 2 ,-4,3]\n",
    "plt.plot(re, im, 'ro')\n",
    "plt.axis([-5, 8, -5, 5])\n",
    "plt.title('Números complejos', fontsize=20)\n",
    "plt.xlabel('Re (Eje real)',  fontsize=14)\n",
    "plt.ylabel('Im (Eje imaginario)',  fontsize=14)\n",
    "plt.grid()\n",
    "plt.show()"
   ]
  },
  {
   "cell_type": "code",
   "execution_count": 70,
   "metadata": {},
   "outputs": [],
   "source": [
    "import  math, cmath"
   ]
  },
  {
   "cell_type": "code",
   "execution_count": 71,
   "metadata": {},
   "outputs": [],
   "source": [
    "lista =[6 + 0j,2-3j,0+4j,-3+2j,-4-4j,3+3j]\n",
    "radio = []\n",
    "ang = []\n",
    "pol = []\n",
    "for i in lista:\n",
    "    ang.append( cmath.phase(i) )\n",
    "    radio.append( abs(i) )\n",
    "    pol.append(cmath.polar(i))"
   ]
  },
  {
   "cell_type": "code",
   "execution_count": 72,
   "metadata": {},
   "outputs": [
    {
     "name": "stdout",
     "output_type": "stream",
     "text": [
      "(6+0j) = (6.00 < 0.00°)\n",
      "(2-3j) = (3.61 < -56.31°)\n",
      "4j = (4.00 < 90.00°)\n",
      "(-3+2j) = (3.61 < 146.31°)\n",
      "(-4-4j) = (5.66 < -135.00°)\n",
      "(3+3j) = (4.24 < 45.00°)\n"
     ]
    }
   ],
   "source": [
    "# printing the list using loop \n",
    "for x in range( len(radio) ): \n",
    "    print('%s = (%.2f < %.2f°)'%(lista[x],radio[x], math.degrees(ang[x]) )) "
   ]
  },
  {
   "cell_type": "code",
   "execution_count": 73,
   "metadata": {},
   "outputs": [
    {
     "data": {
      "application/javascript": [
       "IPython.OutputArea.prototype._should_scroll = function(lines) {\n",
       "     return false;\n",
       "}\n"
      ],
      "text/plain": [
       "<IPython.core.display.Javascript object>"
      ]
     },
     "metadata": {},
     "output_type": "display_data"
    }
   ],
   "source": [
    "%%javascript\n",
    "IPython.OutputArea.prototype._should_scroll = function(lines) {\n",
    "     return false;\n",
    "}"
   ]
  },
  {
   "cell_type": "code",
   "execution_count": 74,
   "metadata": {
    "scrolled": true
   },
   "outputs": [
    {
     "data": {
      "application/javascript": [
       "/* Put everything inside the global mpl namespace */\n",
       "window.mpl = {};\n",
       "\n",
       "\n",
       "mpl.get_websocket_type = function() {\n",
       "    if (typeof(WebSocket) !== 'undefined') {\n",
       "        return WebSocket;\n",
       "    } else if (typeof(MozWebSocket) !== 'undefined') {\n",
       "        return MozWebSocket;\n",
       "    } else {\n",
       "        alert('Your browser does not have WebSocket support. ' +\n",
       "              'Please try Chrome, Safari or Firefox ≥ 6. ' +\n",
       "              'Firefox 4 and 5 are also supported but you ' +\n",
       "              'have to enable WebSockets in about:config.');\n",
       "    };\n",
       "}\n",
       "\n",
       "mpl.figure = function(figure_id, websocket, ondownload, parent_element) {\n",
       "    this.id = figure_id;\n",
       "\n",
       "    this.ws = websocket;\n",
       "\n",
       "    this.supports_binary = (this.ws.binaryType != undefined);\n",
       "\n",
       "    if (!this.supports_binary) {\n",
       "        var warnings = document.getElementById(\"mpl-warnings\");\n",
       "        if (warnings) {\n",
       "            warnings.style.display = 'block';\n",
       "            warnings.textContent = (\n",
       "                \"This browser does not support binary websocket messages. \" +\n",
       "                    \"Performance may be slow.\");\n",
       "        }\n",
       "    }\n",
       "\n",
       "    this.imageObj = new Image();\n",
       "\n",
       "    this.context = undefined;\n",
       "    this.message = undefined;\n",
       "    this.canvas = undefined;\n",
       "    this.rubberband_canvas = undefined;\n",
       "    this.rubberband_context = undefined;\n",
       "    this.format_dropdown = undefined;\n",
       "\n",
       "    this.image_mode = 'full';\n",
       "\n",
       "    this.root = $('<div/>');\n",
       "    this._root_extra_style(this.root)\n",
       "    this.root.attr('style', 'display: inline-block');\n",
       "\n",
       "    $(parent_element).append(this.root);\n",
       "\n",
       "    this._init_header(this);\n",
       "    this._init_canvas(this);\n",
       "    this._init_toolbar(this);\n",
       "\n",
       "    var fig = this;\n",
       "\n",
       "    this.waiting = false;\n",
       "\n",
       "    this.ws.onopen =  function () {\n",
       "            fig.send_message(\"supports_binary\", {value: fig.supports_binary});\n",
       "            fig.send_message(\"send_image_mode\", {});\n",
       "            if (mpl.ratio != 1) {\n",
       "                fig.send_message(\"set_dpi_ratio\", {'dpi_ratio': mpl.ratio});\n",
       "            }\n",
       "            fig.send_message(\"refresh\", {});\n",
       "        }\n",
       "\n",
       "    this.imageObj.onload = function() {\n",
       "            if (fig.image_mode == 'full') {\n",
       "                // Full images could contain transparency (where diff images\n",
       "                // almost always do), so we need to clear the canvas so that\n",
       "                // there is no ghosting.\n",
       "                fig.context.clearRect(0, 0, fig.canvas.width, fig.canvas.height);\n",
       "            }\n",
       "            fig.context.drawImage(fig.imageObj, 0, 0);\n",
       "        };\n",
       "\n",
       "    this.imageObj.onunload = function() {\n",
       "        fig.ws.close();\n",
       "    }\n",
       "\n",
       "    this.ws.onmessage = this._make_on_message_function(this);\n",
       "\n",
       "    this.ondownload = ondownload;\n",
       "}\n",
       "\n",
       "mpl.figure.prototype._init_header = function() {\n",
       "    var titlebar = $(\n",
       "        '<div class=\"ui-dialog-titlebar ui-widget-header ui-corner-all ' +\n",
       "        'ui-helper-clearfix\"/>');\n",
       "    var titletext = $(\n",
       "        '<div class=\"ui-dialog-title\" style=\"width: 100%; ' +\n",
       "        'text-align: center; padding: 3px;\"/>');\n",
       "    titlebar.append(titletext)\n",
       "    this.root.append(titlebar);\n",
       "    this.header = titletext[0];\n",
       "}\n",
       "\n",
       "\n",
       "\n",
       "mpl.figure.prototype._canvas_extra_style = function(canvas_div) {\n",
       "\n",
       "}\n",
       "\n",
       "\n",
       "mpl.figure.prototype._root_extra_style = function(canvas_div) {\n",
       "\n",
       "}\n",
       "\n",
       "mpl.figure.prototype._init_canvas = function() {\n",
       "    var fig = this;\n",
       "\n",
       "    var canvas_div = $('<div/>');\n",
       "\n",
       "    canvas_div.attr('style', 'position: relative; clear: both; outline: 0');\n",
       "\n",
       "    function canvas_keyboard_event(event) {\n",
       "        return fig.key_event(event, event['data']);\n",
       "    }\n",
       "\n",
       "    canvas_div.keydown('key_press', canvas_keyboard_event);\n",
       "    canvas_div.keyup('key_release', canvas_keyboard_event);\n",
       "    this.canvas_div = canvas_div\n",
       "    this._canvas_extra_style(canvas_div)\n",
       "    this.root.append(canvas_div);\n",
       "\n",
       "    var canvas = $('<canvas/>');\n",
       "    canvas.addClass('mpl-canvas');\n",
       "    canvas.attr('style', \"left: 0; top: 0; z-index: 0; outline: 0\")\n",
       "\n",
       "    this.canvas = canvas[0];\n",
       "    this.context = canvas[0].getContext(\"2d\");\n",
       "\n",
       "    var backingStore = this.context.backingStorePixelRatio ||\n",
       "\tthis.context.webkitBackingStorePixelRatio ||\n",
       "\tthis.context.mozBackingStorePixelRatio ||\n",
       "\tthis.context.msBackingStorePixelRatio ||\n",
       "\tthis.context.oBackingStorePixelRatio ||\n",
       "\tthis.context.backingStorePixelRatio || 1;\n",
       "\n",
       "    mpl.ratio = (window.devicePixelRatio || 1) / backingStore;\n",
       "\n",
       "    var rubberband = $('<canvas/>');\n",
       "    rubberband.attr('style', \"position: absolute; left: 0; top: 0; z-index: 1;\")\n",
       "\n",
       "    var pass_mouse_events = true;\n",
       "\n",
       "    canvas_div.resizable({\n",
       "        start: function(event, ui) {\n",
       "            pass_mouse_events = false;\n",
       "        },\n",
       "        resize: function(event, ui) {\n",
       "            fig.request_resize(ui.size.width, ui.size.height);\n",
       "        },\n",
       "        stop: function(event, ui) {\n",
       "            pass_mouse_events = true;\n",
       "            fig.request_resize(ui.size.width, ui.size.height);\n",
       "        },\n",
       "    });\n",
       "\n",
       "    function mouse_event_fn(event) {\n",
       "        if (pass_mouse_events)\n",
       "            return fig.mouse_event(event, event['data']);\n",
       "    }\n",
       "\n",
       "    rubberband.mousedown('button_press', mouse_event_fn);\n",
       "    rubberband.mouseup('button_release', mouse_event_fn);\n",
       "    // Throttle sequential mouse events to 1 every 20ms.\n",
       "    rubberband.mousemove('motion_notify', mouse_event_fn);\n",
       "\n",
       "    rubberband.mouseenter('figure_enter', mouse_event_fn);\n",
       "    rubberband.mouseleave('figure_leave', mouse_event_fn);\n",
       "\n",
       "    canvas_div.on(\"wheel\", function (event) {\n",
       "        event = event.originalEvent;\n",
       "        event['data'] = 'scroll'\n",
       "        if (event.deltaY < 0) {\n",
       "            event.step = 1;\n",
       "        } else {\n",
       "            event.step = -1;\n",
       "        }\n",
       "        mouse_event_fn(event);\n",
       "    });\n",
       "\n",
       "    canvas_div.append(canvas);\n",
       "    canvas_div.append(rubberband);\n",
       "\n",
       "    this.rubberband = rubberband;\n",
       "    this.rubberband_canvas = rubberband[0];\n",
       "    this.rubberband_context = rubberband[0].getContext(\"2d\");\n",
       "    this.rubberband_context.strokeStyle = \"#000000\";\n",
       "\n",
       "    this._resize_canvas = function(width, height) {\n",
       "        // Keep the size of the canvas, canvas container, and rubber band\n",
       "        // canvas in synch.\n",
       "        canvas_div.css('width', width)\n",
       "        canvas_div.css('height', height)\n",
       "\n",
       "        canvas.attr('width', width * mpl.ratio);\n",
       "        canvas.attr('height', height * mpl.ratio);\n",
       "        canvas.attr('style', 'width: ' + width + 'px; height: ' + height + 'px;');\n",
       "\n",
       "        rubberband.attr('width', width);\n",
       "        rubberband.attr('height', height);\n",
       "    }\n",
       "\n",
       "    // Set the figure to an initial 600x600px, this will subsequently be updated\n",
       "    // upon first draw.\n",
       "    this._resize_canvas(600, 600);\n",
       "\n",
       "    // Disable right mouse context menu.\n",
       "    $(this.rubberband_canvas).bind(\"contextmenu\",function(e){\n",
       "        return false;\n",
       "    });\n",
       "\n",
       "    function set_focus () {\n",
       "        canvas.focus();\n",
       "        canvas_div.focus();\n",
       "    }\n",
       "\n",
       "    window.setTimeout(set_focus, 100);\n",
       "}\n",
       "\n",
       "mpl.figure.prototype._init_toolbar = function() {\n",
       "    var fig = this;\n",
       "\n",
       "    var nav_element = $('<div/>');\n",
       "    nav_element.attr('style', 'width: 100%');\n",
       "    this.root.append(nav_element);\n",
       "\n",
       "    // Define a callback function for later on.\n",
       "    function toolbar_event(event) {\n",
       "        return fig.toolbar_button_onclick(event['data']);\n",
       "    }\n",
       "    function toolbar_mouse_event(event) {\n",
       "        return fig.toolbar_button_onmouseover(event['data']);\n",
       "    }\n",
       "\n",
       "    for(var toolbar_ind in mpl.toolbar_items) {\n",
       "        var name = mpl.toolbar_items[toolbar_ind][0];\n",
       "        var tooltip = mpl.toolbar_items[toolbar_ind][1];\n",
       "        var image = mpl.toolbar_items[toolbar_ind][2];\n",
       "        var method_name = mpl.toolbar_items[toolbar_ind][3];\n",
       "\n",
       "        if (!name) {\n",
       "            // put a spacer in here.\n",
       "            continue;\n",
       "        }\n",
       "        var button = $('<button/>');\n",
       "        button.addClass('ui-button ui-widget ui-state-default ui-corner-all ' +\n",
       "                        'ui-button-icon-only');\n",
       "        button.attr('role', 'button');\n",
       "        button.attr('aria-disabled', 'false');\n",
       "        button.click(method_name, toolbar_event);\n",
       "        button.mouseover(tooltip, toolbar_mouse_event);\n",
       "\n",
       "        var icon_img = $('<span/>');\n",
       "        icon_img.addClass('ui-button-icon-primary ui-icon');\n",
       "        icon_img.addClass(image);\n",
       "        icon_img.addClass('ui-corner-all');\n",
       "\n",
       "        var tooltip_span = $('<span/>');\n",
       "        tooltip_span.addClass('ui-button-text');\n",
       "        tooltip_span.html(tooltip);\n",
       "\n",
       "        button.append(icon_img);\n",
       "        button.append(tooltip_span);\n",
       "\n",
       "        nav_element.append(button);\n",
       "    }\n",
       "\n",
       "    var fmt_picker_span = $('<span/>');\n",
       "\n",
       "    var fmt_picker = $('<select/>');\n",
       "    fmt_picker.addClass('mpl-toolbar-option ui-widget ui-widget-content');\n",
       "    fmt_picker_span.append(fmt_picker);\n",
       "    nav_element.append(fmt_picker_span);\n",
       "    this.format_dropdown = fmt_picker[0];\n",
       "\n",
       "    for (var ind in mpl.extensions) {\n",
       "        var fmt = mpl.extensions[ind];\n",
       "        var option = $(\n",
       "            '<option/>', {selected: fmt === mpl.default_extension}).html(fmt);\n",
       "        fmt_picker.append(option);\n",
       "    }\n",
       "\n",
       "    // Add hover states to the ui-buttons\n",
       "    $( \".ui-button\" ).hover(\n",
       "        function() { $(this).addClass(\"ui-state-hover\");},\n",
       "        function() { $(this).removeClass(\"ui-state-hover\");}\n",
       "    );\n",
       "\n",
       "    var status_bar = $('<span class=\"mpl-message\"/>');\n",
       "    nav_element.append(status_bar);\n",
       "    this.message = status_bar[0];\n",
       "}\n",
       "\n",
       "mpl.figure.prototype.request_resize = function(x_pixels, y_pixels) {\n",
       "    // Request matplotlib to resize the figure. Matplotlib will then trigger a resize in the client,\n",
       "    // which will in turn request a refresh of the image.\n",
       "    this.send_message('resize', {'width': x_pixels, 'height': y_pixels});\n",
       "}\n",
       "\n",
       "mpl.figure.prototype.send_message = function(type, properties) {\n",
       "    properties['type'] = type;\n",
       "    properties['figure_id'] = this.id;\n",
       "    this.ws.send(JSON.stringify(properties));\n",
       "}\n",
       "\n",
       "mpl.figure.prototype.send_draw_message = function() {\n",
       "    if (!this.waiting) {\n",
       "        this.waiting = true;\n",
       "        this.ws.send(JSON.stringify({type: \"draw\", figure_id: this.id}));\n",
       "    }\n",
       "}\n",
       "\n",
       "\n",
       "mpl.figure.prototype.handle_save = function(fig, msg) {\n",
       "    var format_dropdown = fig.format_dropdown;\n",
       "    var format = format_dropdown.options[format_dropdown.selectedIndex].value;\n",
       "    fig.ondownload(fig, format);\n",
       "}\n",
       "\n",
       "\n",
       "mpl.figure.prototype.handle_resize = function(fig, msg) {\n",
       "    var size = msg['size'];\n",
       "    if (size[0] != fig.canvas.width || size[1] != fig.canvas.height) {\n",
       "        fig._resize_canvas(size[0], size[1]);\n",
       "        fig.send_message(\"refresh\", {});\n",
       "    };\n",
       "}\n",
       "\n",
       "mpl.figure.prototype.handle_rubberband = function(fig, msg) {\n",
       "    var x0 = msg['x0'] / mpl.ratio;\n",
       "    var y0 = (fig.canvas.height - msg['y0']) / mpl.ratio;\n",
       "    var x1 = msg['x1'] / mpl.ratio;\n",
       "    var y1 = (fig.canvas.height - msg['y1']) / mpl.ratio;\n",
       "    x0 = Math.floor(x0) + 0.5;\n",
       "    y0 = Math.floor(y0) + 0.5;\n",
       "    x1 = Math.floor(x1) + 0.5;\n",
       "    y1 = Math.floor(y1) + 0.5;\n",
       "    var min_x = Math.min(x0, x1);\n",
       "    var min_y = Math.min(y0, y1);\n",
       "    var width = Math.abs(x1 - x0);\n",
       "    var height = Math.abs(y1 - y0);\n",
       "\n",
       "    fig.rubberband_context.clearRect(\n",
       "        0, 0, fig.canvas.width / mpl.ratio, fig.canvas.height / mpl.ratio);\n",
       "\n",
       "    fig.rubberband_context.strokeRect(min_x, min_y, width, height);\n",
       "}\n",
       "\n",
       "mpl.figure.prototype.handle_figure_label = function(fig, msg) {\n",
       "    // Updates the figure title.\n",
       "    fig.header.textContent = msg['label'];\n",
       "}\n",
       "\n",
       "mpl.figure.prototype.handle_cursor = function(fig, msg) {\n",
       "    var cursor = msg['cursor'];\n",
       "    switch(cursor)\n",
       "    {\n",
       "    case 0:\n",
       "        cursor = 'pointer';\n",
       "        break;\n",
       "    case 1:\n",
       "        cursor = 'default';\n",
       "        break;\n",
       "    case 2:\n",
       "        cursor = 'crosshair';\n",
       "        break;\n",
       "    case 3:\n",
       "        cursor = 'move';\n",
       "        break;\n",
       "    }\n",
       "    fig.rubberband_canvas.style.cursor = cursor;\n",
       "}\n",
       "\n",
       "mpl.figure.prototype.handle_message = function(fig, msg) {\n",
       "    fig.message.textContent = msg['message'];\n",
       "}\n",
       "\n",
       "mpl.figure.prototype.handle_draw = function(fig, msg) {\n",
       "    // Request the server to send over a new figure.\n",
       "    fig.send_draw_message();\n",
       "}\n",
       "\n",
       "mpl.figure.prototype.handle_image_mode = function(fig, msg) {\n",
       "    fig.image_mode = msg['mode'];\n",
       "}\n",
       "\n",
       "mpl.figure.prototype.updated_canvas_event = function() {\n",
       "    // Called whenever the canvas gets updated.\n",
       "    this.send_message(\"ack\", {});\n",
       "}\n",
       "\n",
       "// A function to construct a web socket function for onmessage handling.\n",
       "// Called in the figure constructor.\n",
       "mpl.figure.prototype._make_on_message_function = function(fig) {\n",
       "    return function socket_on_message(evt) {\n",
       "        if (evt.data instanceof Blob) {\n",
       "            /* FIXME: We get \"Resource interpreted as Image but\n",
       "             * transferred with MIME type text/plain:\" errors on\n",
       "             * Chrome.  But how to set the MIME type?  It doesn't seem\n",
       "             * to be part of the websocket stream */\n",
       "            evt.data.type = \"image/png\";\n",
       "\n",
       "            /* Free the memory for the previous frames */\n",
       "            if (fig.imageObj.src) {\n",
       "                (window.URL || window.webkitURL).revokeObjectURL(\n",
       "                    fig.imageObj.src);\n",
       "            }\n",
       "\n",
       "            fig.imageObj.src = (window.URL || window.webkitURL).createObjectURL(\n",
       "                evt.data);\n",
       "            fig.updated_canvas_event();\n",
       "            fig.waiting = false;\n",
       "            return;\n",
       "        }\n",
       "        else if (typeof evt.data === 'string' && evt.data.slice(0, 21) == \"data:image/png;base64\") {\n",
       "            fig.imageObj.src = evt.data;\n",
       "            fig.updated_canvas_event();\n",
       "            fig.waiting = false;\n",
       "            return;\n",
       "        }\n",
       "\n",
       "        var msg = JSON.parse(evt.data);\n",
       "        var msg_type = msg['type'];\n",
       "\n",
       "        // Call the  \"handle_{type}\" callback, which takes\n",
       "        // the figure and JSON message as its only arguments.\n",
       "        try {\n",
       "            var callback = fig[\"handle_\" + msg_type];\n",
       "        } catch (e) {\n",
       "            console.log(\"No handler for the '\" + msg_type + \"' message type: \", msg);\n",
       "            return;\n",
       "        }\n",
       "\n",
       "        if (callback) {\n",
       "            try {\n",
       "                // console.log(\"Handling '\" + msg_type + \"' message: \", msg);\n",
       "                callback(fig, msg);\n",
       "            } catch (e) {\n",
       "                console.log(\"Exception inside the 'handler_\" + msg_type + \"' callback:\", e, e.stack, msg);\n",
       "            }\n",
       "        }\n",
       "    };\n",
       "}\n",
       "\n",
       "// from http://stackoverflow.com/questions/1114465/getting-mouse-location-in-canvas\n",
       "mpl.findpos = function(e) {\n",
       "    //this section is from http://www.quirksmode.org/js/events_properties.html\n",
       "    var targ;\n",
       "    if (!e)\n",
       "        e = window.event;\n",
       "    if (e.target)\n",
       "        targ = e.target;\n",
       "    else if (e.srcElement)\n",
       "        targ = e.srcElement;\n",
       "    if (targ.nodeType == 3) // defeat Safari bug\n",
       "        targ = targ.parentNode;\n",
       "\n",
       "    // jQuery normalizes the pageX and pageY\n",
       "    // pageX,Y are the mouse positions relative to the document\n",
       "    // offset() returns the position of the element relative to the document\n",
       "    var x = e.pageX - $(targ).offset().left;\n",
       "    var y = e.pageY - $(targ).offset().top;\n",
       "\n",
       "    return {\"x\": x, \"y\": y};\n",
       "};\n",
       "\n",
       "/*\n",
       " * return a copy of an object with only non-object keys\n",
       " * we need this to avoid circular references\n",
       " * http://stackoverflow.com/a/24161582/3208463\n",
       " */\n",
       "function simpleKeys (original) {\n",
       "  return Object.keys(original).reduce(function (obj, key) {\n",
       "    if (typeof original[key] !== 'object')\n",
       "        obj[key] = original[key]\n",
       "    return obj;\n",
       "  }, {});\n",
       "}\n",
       "\n",
       "mpl.figure.prototype.mouse_event = function(event, name) {\n",
       "    var canvas_pos = mpl.findpos(event)\n",
       "\n",
       "    if (name === 'button_press')\n",
       "    {\n",
       "        this.canvas.focus();\n",
       "        this.canvas_div.focus();\n",
       "    }\n",
       "\n",
       "    var x = canvas_pos.x * mpl.ratio;\n",
       "    var y = canvas_pos.y * mpl.ratio;\n",
       "\n",
       "    this.send_message(name, {x: x, y: y, button: event.button,\n",
       "                             step: event.step,\n",
       "                             guiEvent: simpleKeys(event)});\n",
       "\n",
       "    /* This prevents the web browser from automatically changing to\n",
       "     * the text insertion cursor when the button is pressed.  We want\n",
       "     * to control all of the cursor setting manually through the\n",
       "     * 'cursor' event from matplotlib */\n",
       "    event.preventDefault();\n",
       "    return false;\n",
       "}\n",
       "\n",
       "mpl.figure.prototype._key_event_extra = function(event, name) {\n",
       "    // Handle any extra behaviour associated with a key event\n",
       "}\n",
       "\n",
       "mpl.figure.prototype.key_event = function(event, name) {\n",
       "\n",
       "    // Prevent repeat events\n",
       "    if (name == 'key_press')\n",
       "    {\n",
       "        if (event.which === this._key)\n",
       "            return;\n",
       "        else\n",
       "            this._key = event.which;\n",
       "    }\n",
       "    if (name == 'key_release')\n",
       "        this._key = null;\n",
       "\n",
       "    var value = '';\n",
       "    if (event.ctrlKey && event.which != 17)\n",
       "        value += \"ctrl+\";\n",
       "    if (event.altKey && event.which != 18)\n",
       "        value += \"alt+\";\n",
       "    if (event.shiftKey && event.which != 16)\n",
       "        value += \"shift+\";\n",
       "\n",
       "    value += 'k';\n",
       "    value += event.which.toString();\n",
       "\n",
       "    this._key_event_extra(event, name);\n",
       "\n",
       "    this.send_message(name, {key: value,\n",
       "                             guiEvent: simpleKeys(event)});\n",
       "    return false;\n",
       "}\n",
       "\n",
       "mpl.figure.prototype.toolbar_button_onclick = function(name) {\n",
       "    if (name == 'download') {\n",
       "        this.handle_save(this, null);\n",
       "    } else {\n",
       "        this.send_message(\"toolbar_button\", {name: name});\n",
       "    }\n",
       "};\n",
       "\n",
       "mpl.figure.prototype.toolbar_button_onmouseover = function(tooltip) {\n",
       "    this.message.textContent = tooltip;\n",
       "};\n",
       "mpl.toolbar_items = [[\"Home\", \"Reset original view\", \"fa fa-home icon-home\", \"home\"], [\"Back\", \"Back to previous view\", \"fa fa-arrow-left icon-arrow-left\", \"back\"], [\"Forward\", \"Forward to next view\", \"fa fa-arrow-right icon-arrow-right\", \"forward\"], [\"\", \"\", \"\", \"\"], [\"Pan\", \"Pan axes with left mouse, zoom with right\", \"fa fa-arrows icon-move\", \"pan\"], [\"Zoom\", \"Zoom to rectangle\", \"fa fa-square-o icon-check-empty\", \"zoom\"], [\"\", \"\", \"\", \"\"], [\"Download\", \"Download plot\", \"fa fa-floppy-o icon-save\", \"download\"]];\n",
       "\n",
       "mpl.extensions = [\"eps\", \"jpeg\", \"pdf\", \"png\", \"ps\", \"raw\", \"svg\", \"tif\"];\n",
       "\n",
       "mpl.default_extension = \"png\";var comm_websocket_adapter = function(comm) {\n",
       "    // Create a \"websocket\"-like object which calls the given IPython comm\n",
       "    // object with the appropriate methods. Currently this is a non binary\n",
       "    // socket, so there is still some room for performance tuning.\n",
       "    var ws = {};\n",
       "\n",
       "    ws.close = function() {\n",
       "        comm.close()\n",
       "    };\n",
       "    ws.send = function(m) {\n",
       "        //console.log('sending', m);\n",
       "        comm.send(m);\n",
       "    };\n",
       "    // Register the callback with on_msg.\n",
       "    comm.on_msg(function(msg) {\n",
       "        //console.log('receiving', msg['content']['data'], msg);\n",
       "        // Pass the mpl event to the overridden (by mpl) onmessage function.\n",
       "        ws.onmessage(msg['content']['data'])\n",
       "    });\n",
       "    return ws;\n",
       "}\n",
       "\n",
       "mpl.mpl_figure_comm = function(comm, msg) {\n",
       "    // This is the function which gets called when the mpl process\n",
       "    // starts-up an IPython Comm through the \"matplotlib\" channel.\n",
       "\n",
       "    var id = msg.content.data.id;\n",
       "    // Get hold of the div created by the display call when the Comm\n",
       "    // socket was opened in Python.\n",
       "    var element = $(\"#\" + id);\n",
       "    var ws_proxy = comm_websocket_adapter(comm)\n",
       "\n",
       "    function ondownload(figure, format) {\n",
       "        window.open(figure.imageObj.src);\n",
       "    }\n",
       "\n",
       "    var fig = new mpl.figure(id, ws_proxy,\n",
       "                           ondownload,\n",
       "                           element.get(0));\n",
       "\n",
       "    // Call onopen now - mpl needs it, as it is assuming we've passed it a real\n",
       "    // web socket which is closed, not our websocket->open comm proxy.\n",
       "    ws_proxy.onopen();\n",
       "\n",
       "    fig.parent_element = element.get(0);\n",
       "    fig.cell_info = mpl.find_output_cell(\"<div id='\" + id + \"'></div>\");\n",
       "    if (!fig.cell_info) {\n",
       "        console.error(\"Failed to find cell for figure\", id, fig);\n",
       "        return;\n",
       "    }\n",
       "\n",
       "    var output_index = fig.cell_info[2]\n",
       "    var cell = fig.cell_info[0];\n",
       "\n",
       "};\n",
       "\n",
       "mpl.figure.prototype.handle_close = function(fig, msg) {\n",
       "    var width = fig.canvas.width/mpl.ratio\n",
       "    fig.root.unbind('remove')\n",
       "\n",
       "    // Update the output cell to use the data from the current canvas.\n",
       "    fig.push_to_output();\n",
       "    var dataURL = fig.canvas.toDataURL();\n",
       "    // Re-enable the keyboard manager in IPython - without this line, in FF,\n",
       "    // the notebook keyboard shortcuts fail.\n",
       "    IPython.keyboard_manager.enable()\n",
       "    $(fig.parent_element).html('<img src=\"' + dataURL + '\" width=\"' + width + '\">');\n",
       "    fig.close_ws(fig, msg);\n",
       "}\n",
       "\n",
       "mpl.figure.prototype.close_ws = function(fig, msg){\n",
       "    fig.send_message('closing', msg);\n",
       "    // fig.ws.close()\n",
       "}\n",
       "\n",
       "mpl.figure.prototype.push_to_output = function(remove_interactive) {\n",
       "    // Turn the data on the canvas into data in the output cell.\n",
       "    var width = this.canvas.width/mpl.ratio\n",
       "    var dataURL = this.canvas.toDataURL();\n",
       "    this.cell_info[1]['text/html'] = '<img src=\"' + dataURL + '\" width=\"' + width + '\">';\n",
       "}\n",
       "\n",
       "mpl.figure.prototype.updated_canvas_event = function() {\n",
       "    // Tell IPython that the notebook contents must change.\n",
       "    IPython.notebook.set_dirty(true);\n",
       "    this.send_message(\"ack\", {});\n",
       "    var fig = this;\n",
       "    // Wait a second, then push the new image to the DOM so\n",
       "    // that it is saved nicely (might be nice to debounce this).\n",
       "    setTimeout(function () { fig.push_to_output() }, 1000);\n",
       "}\n",
       "\n",
       "mpl.figure.prototype._init_toolbar = function() {\n",
       "    var fig = this;\n",
       "\n",
       "    var nav_element = $('<div/>');\n",
       "    nav_element.attr('style', 'width: 100%');\n",
       "    this.root.append(nav_element);\n",
       "\n",
       "    // Define a callback function for later on.\n",
       "    function toolbar_event(event) {\n",
       "        return fig.toolbar_button_onclick(event['data']);\n",
       "    }\n",
       "    function toolbar_mouse_event(event) {\n",
       "        return fig.toolbar_button_onmouseover(event['data']);\n",
       "    }\n",
       "\n",
       "    for(var toolbar_ind in mpl.toolbar_items){\n",
       "        var name = mpl.toolbar_items[toolbar_ind][0];\n",
       "        var tooltip = mpl.toolbar_items[toolbar_ind][1];\n",
       "        var image = mpl.toolbar_items[toolbar_ind][2];\n",
       "        var method_name = mpl.toolbar_items[toolbar_ind][3];\n",
       "\n",
       "        if (!name) { continue; };\n",
       "\n",
       "        var button = $('<button class=\"btn btn-default\" href=\"#\" title=\"' + name + '\"><i class=\"fa ' + image + ' fa-lg\"></i></button>');\n",
       "        button.click(method_name, toolbar_event);\n",
       "        button.mouseover(tooltip, toolbar_mouse_event);\n",
       "        nav_element.append(button);\n",
       "    }\n",
       "\n",
       "    // Add the status bar.\n",
       "    var status_bar = $('<span class=\"mpl-message\" style=\"text-align:right; float: right;\"/>');\n",
       "    nav_element.append(status_bar);\n",
       "    this.message = status_bar[0];\n",
       "\n",
       "    // Add the close button to the window.\n",
       "    var buttongrp = $('<div class=\"btn-group inline pull-right\"></div>');\n",
       "    var button = $('<button class=\"btn btn-mini btn-primary\" href=\"#\" title=\"Stop Interaction\"><i class=\"fa fa-power-off icon-remove icon-large\"></i></button>');\n",
       "    button.click(function (evt) { fig.handle_close(fig, {}); } );\n",
       "    button.mouseover('Stop Interaction', toolbar_mouse_event);\n",
       "    buttongrp.append(button);\n",
       "    var titlebar = this.root.find($('.ui-dialog-titlebar'));\n",
       "    titlebar.prepend(buttongrp);\n",
       "}\n",
       "\n",
       "mpl.figure.prototype._root_extra_style = function(el){\n",
       "    var fig = this\n",
       "    el.on(\"remove\", function(){\n",
       "\tfig.close_ws(fig, {});\n",
       "    });\n",
       "}\n",
       "\n",
       "mpl.figure.prototype._canvas_extra_style = function(el){\n",
       "    // this is important to make the div 'focusable\n",
       "    el.attr('tabindex', 0)\n",
       "    // reach out to IPython and tell the keyboard manager to turn it's self\n",
       "    // off when our div gets focus\n",
       "\n",
       "    // location in version 3\n",
       "    if (IPython.notebook.keyboard_manager) {\n",
       "        IPython.notebook.keyboard_manager.register_events(el);\n",
       "    }\n",
       "    else {\n",
       "        // location in version 2\n",
       "        IPython.keyboard_manager.register_events(el);\n",
       "    }\n",
       "\n",
       "}\n",
       "\n",
       "mpl.figure.prototype._key_event_extra = function(event, name) {\n",
       "    var manager = IPython.notebook.keyboard_manager;\n",
       "    if (!manager)\n",
       "        manager = IPython.keyboard_manager;\n",
       "\n",
       "    // Check for shift+enter\n",
       "    if (event.shiftKey && event.which == 13) {\n",
       "        this.canvas_div.blur();\n",
       "        // select the cell after this one\n",
       "        var index = IPython.notebook.find_cell_index(this.cell_info[0]);\n",
       "        IPython.notebook.select(index + 1);\n",
       "    }\n",
       "}\n",
       "\n",
       "mpl.figure.prototype.handle_save = function(fig, msg) {\n",
       "    fig.ondownload(fig, null);\n",
       "}\n",
       "\n",
       "\n",
       "mpl.find_output_cell = function(html_output) {\n",
       "    // Return the cell and output element which can be found *uniquely* in the notebook.\n",
       "    // Note - this is a bit hacky, but it is done because the \"notebook_saving.Notebook\"\n",
       "    // IPython event is triggered only after the cells have been serialised, which for\n",
       "    // our purposes (turning an active figure into a static one), is too late.\n",
       "    var cells = IPython.notebook.get_cells();\n",
       "    var ncells = cells.length;\n",
       "    for (var i=0; i<ncells; i++) {\n",
       "        var cell = cells[i];\n",
       "        if (cell.cell_type === 'code'){\n",
       "            for (var j=0; j<cell.output_area.outputs.length; j++) {\n",
       "                var data = cell.output_area.outputs[j];\n",
       "                if (data.data) {\n",
       "                    // IPython >= 3 moved mimebundle to data attribute of output\n",
       "                    data = data.data;\n",
       "                }\n",
       "                if (data['text/html'] == html_output) {\n",
       "                    return [cell, data, j];\n",
       "                }\n",
       "            }\n",
       "        }\n",
       "    }\n",
       "}\n",
       "\n",
       "// Register the function which deals with the matplotlib target/channel.\n",
       "// The kernel may be null if the page has been refreshed.\n",
       "if (IPython.notebook.kernel != null) {\n",
       "    IPython.notebook.kernel.comm_manager.register_target('matplotlib', mpl.mpl_figure_comm);\n",
       "}\n"
      ],
      "text/plain": [
       "<IPython.core.display.Javascript object>"
      ]
     },
     "metadata": {},
     "output_type": "display_data"
    },
    {
     "data": {
      "text/html": [
       "<img src=\"data:image/png;base64,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\" width=\"640\">"
      ],
      "text/plain": [
       "<IPython.core.display.HTML object>"
      ]
     },
     "metadata": {},
     "output_type": "display_data"
    }
   ],
   "source": [
    "%matplotlib notebook\n",
    "for ang, radio in zip(ang, radio):\n",
    "    plt.polar(ang, radio, 'ro')\n",
    "\n",
    "plt.show()"
   ]
  },
  {
   "cell_type": "code",
   "execution_count": 7,
   "metadata": {},
   "outputs": [],
   "source": [
    "%reset -s -f"
   ]
  },
  {
   "cell_type": "markdown",
   "metadata": {},
   "source": [
    "### 1.2 Expresarlos en forma Polar y Exponencial"
   ]
  },
  {
   "cell_type": "markdown",
   "metadata": {},
   "source": [
    "$Z_1 = 6$"
   ]
  },
  {
   "cell_type": "markdown",
   "metadata": {},
   "source": [
    "$\\left.\n",
    "\\begin{array}{l}\n",
    " |r_1| = \\sqrt{(6)^2 + (0)^2} = 6 \\\\\n",
    "  \\phi_1 = \\arctan \\frac{Im}{Re} = \\arctan \\frac{0}{6} = 0^\\circ\n",
    "\\end{array}\n",
    "\\right\\} \\rightarrow  \n",
    "\\begin{array}{|ll|}\n",
    "\\hline\n",
    "z_1 = (6 \\angle 0^\\circ ) & \\mbox{(Polar)} \\\\\n",
    "z_1 = 6e^{j0^\\circ} & \\mbox{(Exponencial)} \\\\\n",
    "\\hline\n",
    "\\end{array}$"
   ]
  },
  {
   "cell_type": "code",
   "execution_count": 8,
   "metadata": {},
   "outputs": [],
   "source": [
    "import  math, cmath"
   ]
  },
  {
   "cell_type": "code",
   "execution_count": 9,
   "metadata": {},
   "outputs": [
    {
     "name": "stdout",
     "output_type": "stream",
     "text": [
      "z1 = (6.00 < 0.00°)\n"
     ]
    }
   ],
   "source": [
    "z1 = cmath.polar(6)\n",
    "\n",
    "print('z1 = (%.2f < %.2f°)'%(z1[0], math.degrees(z1[1]) ) )"
   ]
  },
  {
   "cell_type": "markdown",
   "metadata": {},
   "source": [
    "$ Z_2 = 2 - j3$"
   ]
  },
  {
   "cell_type": "markdown",
   "metadata": {},
   "source": [
    "$\\left.\n",
    "\\begin{array}{l}\n",
    "  |r_2| = \\sqrt{2^2 + (-3)^2} \\cong 3,61 \\\\\n",
    "  \\phi_2 = \\arctan \\frac{-3}{2} \\cong -56,31^\\circ\n",
    "\\end{array}\n",
    "\\right\\} \\rightarrow  \n",
    "\\begin{array}{|ll|}\n",
    "\\hline\n",
    " z_2 = ( 3,61 \\angle -56,31^\\circ)  & \\mbox{(Polar)} \\\\\n",
    " z_2 = 3,61 e^{-j56,31^\\circ} & \\mbox{(Exponencial)} \\\\\n",
    "\\hline\n",
    "\\end{array}$"
   ]
  },
  {
   "cell_type": "code",
   "execution_count": 10,
   "metadata": {},
   "outputs": [
    {
     "name": "stdout",
     "output_type": "stream",
     "text": [
      "z2 = (3.61 < -56.31°)\n"
     ]
    }
   ],
   "source": [
    "z2 = cmath.polar(2 - 3j)\n",
    "\n",
    "print('z2 = (%.2f < %.2f°)'%(z2[0] , math.degrees(z2[1]) ) )"
   ]
  },
  {
   "cell_type": "markdown",
   "metadata": {},
   "source": [
    "$Z_3 = j4$"
   ]
  },
  {
   "cell_type": "markdown",
   "metadata": {},
   "source": [
    "$\\left.\n",
    "\\begin{array}{l}\n",
    "|r_3| = \\sqrt{(0)^2 + (4)^2} = 4 \\\\\n",
    " \\phi_3 = 90^\\circ\n",
    "\\end{array}\n",
    "\\right\\} \\rightarrow  \n",
    "\\begin{array}{|ll|}\n",
    "\\hline\n",
    "z_3 = (4 \\angle 90^\\circ) & \\mbox{(Polar)} \\\\\n",
    "z_3 = 4e^{j90^\\circ} & \\mbox{(Exponencial)} \\\\\n",
    "\\hline\n",
    "\\end{array}$"
   ]
  },
  {
   "cell_type": "code",
   "execution_count": 11,
   "metadata": {},
   "outputs": [
    {
     "name": "stdout",
     "output_type": "stream",
     "text": [
      "z3 = (4.00 < 90.00°)\n"
     ]
    }
   ],
   "source": [
    "z3 = cmath.polar(4j)\n",
    "\n",
    "print('z3 = (%.2f < %.2f°)'%(z3[0], math.degrees(z3[1]) ) )"
   ]
  },
  {
   "cell_type": "markdown",
   "metadata": {},
   "source": [
    "$Z_4 = -3 + j2$"
   ]
  },
  {
   "cell_type": "markdown",
   "metadata": {},
   "source": [
    "$\\left.\n",
    "\\begin{array}{l}\n",
    "|r_4| = \\sqrt{(-3)^2 + 2^2} = 3,61 \\\\\n",
    "\\phi_4 = 180 - \\arctan \\frac{2}{3} = 146,31^\\circ \n",
    "\\end{array}\n",
    "\\right\\} \\rightarrow  \n",
    "\\begin{array}{|ll|}\n",
    "\\hline\n",
    "z_4 = (3,61 \\angle 146,31^\\circ) & \\mbox{(Polar)} \\\\\n",
    "z_4 = 3,61e^{j146,31^\\circ} & \\mbox{(Exponencial)} \\\\\n",
    "\\hline\n",
    "\\end{array}$"
   ]
  },
  {
   "cell_type": "code",
   "execution_count": 12,
   "metadata": {},
   "outputs": [
    {
     "name": "stdout",
     "output_type": "stream",
     "text": [
      "z4 = (3.61 < 146.31°)\n"
     ]
    }
   ],
   "source": [
    "z4 = cmath.polar(-3 + 2j)\n",
    "\n",
    "print('z4 = (%.2f < %.2f°)'%(z4[0], math.degrees(z4[1]) ) )"
   ]
  },
  {
   "cell_type": "markdown",
   "metadata": {},
   "source": [
    "$Z_5 = -4 - j4$"
   ]
  },
  {
   "cell_type": "markdown",
   "metadata": {},
   "source": [
    "$\\left.\n",
    "\\begin{array}{l}\n",
    "|r_5| = \\sqrt{(-4)^2 + (-4)^2} = 5,66 \\\\\n",
    " \\phi_5 = \\arctan \\frac{4}{4} - 180^\\circ = -135^\\circ\n",
    "\\end{array}\n",
    "\\right\\} \\rightarrow  \n",
    "\\begin{array}{|ll|}\n",
    "\\hline\n",
    "z_5 = (5,66 \\angle -135^\\circ) & \\mbox{(Polar)} \\\\\n",
    "z_5 = 5,66e^{-j135^\\circ} & \\mbox{(Exponencial)} \\\\\n",
    "\\hline\n",
    "\\end{array}$"
   ]
  },
  {
   "cell_type": "code",
   "execution_count": 13,
   "metadata": {},
   "outputs": [
    {
     "name": "stdout",
     "output_type": "stream",
     "text": [
      "z5 = (5.66 < -135.00°)\n"
     ]
    }
   ],
   "source": [
    "z5 = cmath.polar(-4 -4j)\n",
    "\n",
    "print('z5 = (%.2f < %.2f°)'%(z5[0], math.degrees(z5[1]) ) )"
   ]
  },
  {
   "cell_type": "markdown",
   "metadata": {},
   "source": [
    "$Z_6 = 3 + j3$"
   ]
  },
  {
   "cell_type": "markdown",
   "metadata": {},
   "source": [
    "$\\left.\n",
    "\\begin{array}{l}\n",
    " |r_6| = \\sqrt{(3)^2 + (3)^2} = 4,24 \\\\\n",
    " \\phi_6 = \\arctan \\frac{3}{3} = 45^\\circ\n",
    "\\end{array}\n",
    "\\right\\} \\rightarrow  \n",
    "\\begin{array}{|ll|}\n",
    "\\hline\n",
    "z_6 = (4,24 \\angle 45^\\circ) & \\mbox{(Polar)} \\\\\n",
    "z_6 = 4,24 e^{j45^\\circ} & \\mbox{(Exponencial)} \\\\\n",
    "\\hline\n",
    "\\end{array}$"
   ]
  },
  {
   "cell_type": "code",
   "execution_count": 14,
   "metadata": {},
   "outputs": [
    {
     "name": "stdout",
     "output_type": "stream",
     "text": [
      "z6 = (4.24 < 45.00°)\n"
     ]
    }
   ],
   "source": [
    "z6 = cmath.polar(3 + 3j)\n",
    "\n",
    "print('z6 = (%.2f < %.2f°)'%(z6[0], math.degrees(z6[1]) ) )"
   ]
  },
  {
   "cell_type": "markdown",
   "metadata": {},
   "source": [
    "### 1.3 Realizar las siguientes sumas y restas :\n",
    "$\\begin{array}{l}\n",
    "Z_1 + Z_2 \\\\\n",
    "Z_4 + Z_5 \\\\\n",
    "Z_3 - Z_2 \\\\\n",
    "Z_6 - Z_2\n",
    "\\end{array}$"
   ]
  },
  {
   "cell_type": "markdown",
   "metadata": {},
   "source": [
    "#### Solución"
   ]
  },
  {
   "cell_type": "markdown",
   "metadata": {},
   "source": [
    "$Z_1 + Z_2 = (6 + j0) + (2 - j3) = 8 - j3$"
   ]
  },
  {
   "cell_type": "markdown",
   "metadata": {},
   "source": [
    "$Z_4 + Z_5 = (-3 + j2) + (-4 -j4) = -7 - j2$"
   ]
  },
  {
   "cell_type": "markdown",
   "metadata": {},
   "source": [
    "$Z_3 - Z_2 = (0 + j4) - (2 - j3) = 2 + j7$"
   ]
  },
  {
   "cell_type": "markdown",
   "metadata": {},
   "source": [
    "$Z_6 - Z_2 = (3 + j3) - (2 - j3) = 1 + j6$"
   ]
  },
  {
   "cell_type": "code",
   "execution_count": 15,
   "metadata": {},
   "outputs": [],
   "source": [
    "Z1 = 6 + 0j \n",
    "Z2 = 2 - 3j \n",
    "Z3 = 0 + 4j\n",
    "Z4 = -3 +2j\n",
    "Z5 = -4 - 4j\n",
    "Z6 = 3 + 3j"
   ]
  },
  {
   "cell_type": "code",
   "execution_count": 16,
   "metadata": {},
   "outputs": [
    {
     "name": "stdout",
     "output_type": "stream",
     "text": [
      "Z1 + Z2 = 8.0-3.0j\n",
      "Z4 + Z5 = -7.0-2.0j\n",
      "Z3 + Z2 = -2.0+7.0j\n",
      "Z6 + Z2 = 1.0+6.0j\n"
     ]
    }
   ],
   "source": [
    "print('Z1 + Z2 = {:.1f}'.format(Z1 + Z2) )\n",
    "print('Z4 + Z5 = {:.1f}'.format(Z4 + Z5) )\n",
    "print('Z3 + Z2 = {:.1f}'.format(Z3 - Z2) )\n",
    "print('Z6 + Z2 = {:.1f}'.format(Z6 - Z2) )"
   ]
  },
  {
   "cell_type": "code",
   "execution_count": 17,
   "metadata": {},
   "outputs": [],
   "source": [
    "%reset -s -f"
   ]
  },
  {
   "cell_type": "markdown",
   "metadata": {},
   "source": [
    "## Problema 2\n",
    "Realizar los siguientes productos y expresarlos en forma binómica"
   ]
  },
  {
   "cell_type": "markdown",
   "metadata": {},
   "source": [
    "$Z_1 \\cdot Z_2$ con $Z_1 = 5e^{j \\pi/3}$ y $Z_2 = 2e^{-j \\pi/6}$"
   ]
  },
  {
   "cell_type": "markdown",
   "metadata": {},
   "source": [
    "__Solución:__\n",
    "$$ z_1 z_2 = r_1 r_2 \\; \\angle (\\phi_1 + \\phi_2) $$"
   ]
  },
  {
   "cell_type": "markdown",
   "metadata": {},
   "source": [
    "$$ z1 z2 = (5 \\cdot 2) \\angle (\\pi/3 + \\pi/6) \\, \\mathrm{rad} $$"
   ]
  },
  {
   "cell_type": "markdown",
   "metadata": {},
   "source": [
    "$$ z1 z2 = 10 \\angle \\frac{\\pi}{6} \\, \\mathrm{rad} $$"
   ]
  },
  {
   "cell_type": "markdown",
   "metadata": {},
   "source": [
    "$\\left.\n",
    "\\begin{array}{l}\n",
    "Re = r \\cos \\phi = 10 \\cos \\left( \\frac{\\pi}{6} \\, \\mathrm{rad} \\right) \\cong 8,66 \\\\\n",
    "Im = r \\sin \\phi = 10 \\sin  \\left( \\frac{\\pi}{6} \\, \\mathrm{rad} \\right) \\cong 5,00\n",
    "\\end{array}\n",
    "\\right\\} \\Rightarrow \\quad\n",
    "z1 z2 = 8,66 + j5$"
   ]
  },
  {
   "cell_type": "code",
   "execution_count": 18,
   "metadata": {},
   "outputs": [],
   "source": [
    "import cmath, math"
   ]
  },
  {
   "cell_type": "code",
   "execution_count": 19,
   "metadata": {},
   "outputs": [
    {
     "name": "stdout",
     "output_type": "stream",
     "text": [
      "z1*z2 = 8.66+5.00j\n"
     ]
    }
   ],
   "source": [
    "z1 = cmath.rect(5 , math.pi/3)\n",
    "z2 = cmath.rect(2 , -math.pi/6)\n",
    "\n",
    "print('z1*z2 = {:.2f}'.format(z1*z2))"
   ]
  },
  {
   "cell_type": "markdown",
   "metadata": {},
   "source": [
    "$Z_1 Z_2$ con $Z_1 = 5e^{j 30^o}$ y $Z_2 = 2e^{-j 45^o}$"
   ]
  },
  {
   "cell_type": "markdown",
   "metadata": {},
   "source": [
    "__Solución:__\n",
    "$$ z_1 z_2 = r_1 r_2 \\; \\angle (\\phi_1 + \\phi_2) $$"
   ]
  },
  {
   "cell_type": "markdown",
   "metadata": {},
   "source": [
    "$$ z1 z2 = (5 \\cdot 2) \\angle \\left( 30^\\circ - 45^\\circ \\right) $$"
   ]
  },
  {
   "cell_type": "markdown",
   "metadata": {},
   "source": [
    "$$ z1 z2 = 10 \\angle - 15^\\circ  $$"
   ]
  },
  {
   "cell_type": "markdown",
   "metadata": {},
   "source": [
    "$\\left.\n",
    "\\begin{array}{l}\n",
    "Re = r \\cos \\phi = 10 \\cos \\left(-15^\\circ \\right) \\cong 9,66 \\\\\n",
    "Im = r \\sin \\phi = 10 \\sin  \\left(-15^\\circ  \\right) \\cong -2,59\n",
    "\\end{array}\n",
    "\\right\\} \\Rightarrow \\quad\n",
    "z1 z2 = 9,66 + j2,59$"
   ]
  },
  {
   "cell_type": "code",
   "execution_count": 20,
   "metadata": {},
   "outputs": [
    {
     "name": "stdout",
     "output_type": "stream",
     "text": [
      "z1*z1 = 9.66-2.59j\n"
     ]
    }
   ],
   "source": [
    "z1 = cmath.rect(5 , math.radians(30) )\n",
    "z2 = cmath.rect(2 , math.radians(-45) )\n",
    "\n",
    "print('z1*z1 = {:.2f}'.format(z1*z2))"
   ]
  },
  {
   "cell_type": "markdown",
   "metadata": {},
   "source": [
    "$Z_1 Z_2$ con $Z_1 = 3 + j3$ y $Z_2 = -3 + j2$"
   ]
  },
  {
   "cell_type": "markdown",
   "metadata": {},
   "source": [
    "__Solución:__      \n",
    "Usando la fórmula:"
   ]
  },
  {
   "cell_type": "markdown",
   "metadata": {},
   "source": [
    "<div class=\"alert alert-info\"><strong>Multiplicación</strong>:\n",
    "$$(a + bi) \\cdot (c + di) = (ac - bd) + (ad + bc) i$$\n",
    "    </div>"
   ]
  },
  {
   "cell_type": "markdown",
   "metadata": {},
   "source": [
    "$$ z1 z2 = -15 - j3 $$"
   ]
  },
  {
   "cell_type": "markdown",
   "metadata": {},
   "source": [
    "Método 2:\n",
    "\n",
    "Convertimos a polar"
   ]
  },
  {
   "cell_type": "markdown",
   "metadata": {},
   "source": [
    "$\\left.\n",
    "\\begin{array}{l}\n",
    "r_1 = \\sqrt{3^2 + 3^2} \\cong 4,24 \\\\\n",
    "\\phi_1 = \\arctan 1 = 45^\\circ\n",
    "\\end{array}\n",
    "\\right\\} \\rightarrow \\quad\n",
    "z_1 = 4,24 \\angle 45^\\circ$"
   ]
  },
  {
   "cell_type": "markdown",
   "metadata": {},
   "source": [
    "$\\left.\n",
    "\\begin{array}{l}\n",
    "r_2 = \\sqrt{(-3)^2 + 2^2} 3,61 \\\\\n",
    "\\phi_2 = 180^\\circ - \\arctan \\frac{2}{3} \\cong 146,31\n",
    "\\end{array}\n",
    "\\right\\} \\rightarrow \\quad \n",
    "z_2 = 3,61 \\angle 146,31^\\circ$"
   ]
  },
  {
   "cell_type": "markdown",
   "metadata": {},
   "source": [
    "$z_1 z_2 = (4,24 \\angle 45^\\circ) (3,61 \\angle 146,31^\\circ) = 15,31 \\angle 191,31^\\circ$"
   ]
  },
  {
   "cell_type": "markdown",
   "metadata": {},
   "source": [
    "Convertimos a forma binomica"
   ]
  },
  {
   "cell_type": "markdown",
   "metadata": {},
   "source": [
    "$\\left.\n",
    "\\begin{array}{l}\n",
    "Re = 15,31 \\cos (191,31^\\circ) \\cong -15,00 \\\\\n",
    "Im = 15,31 \\sin (191,31^\\circ) \\cong -3,00\n",
    "\\end{array}\n",
    "\\right\\} \\rightarrow \\quad\n",
    "z_1 z_2 = -15 - j3$"
   ]
  },
  {
   "cell_type": "code",
   "execution_count": 21,
   "metadata": {},
   "outputs": [
    {
     "name": "stdout",
     "output_type": "stream",
     "text": [
      "z1*z2 = -15.00-3.00j\n"
     ]
    }
   ],
   "source": [
    "z1 = 3 + 3j\n",
    "z2 = -3 + 2j\n",
    "\n",
    "print('z1*z2 = {:.2f}'.format(z1*z2))"
   ]
  },
  {
   "cell_type": "code",
   "execution_count": 22,
   "metadata": {},
   "outputs": [],
   "source": [
    "%reset -s -f"
   ]
  },
  {
   "cell_type": "markdown",
   "metadata": {},
   "source": [
    "### 2.2 Realizar las siguientes divisiones y expresarlas en forma binómica"
   ]
  },
  {
   "cell_type": "markdown",
   "metadata": {},
   "source": [
    "$\\displaystyle \\frac{Z_1}{Z_2}$ con $Z_1 = 4e^{j \\pi /3}$ y $Z_2 = 2e^{j \\pi/6} $"
   ]
  },
  {
   "cell_type": "markdown",
   "metadata": {},
   "source": [
    "__Solución:__\n",
    "$$ \\frac{z_1}{z_2} = \\frac{r_1}{r_2} \\; \\angle (\\phi_1 - \\phi_2) $$"
   ]
  },
  {
   "cell_type": "markdown",
   "metadata": {},
   "source": [
    "$$ \\frac{z_1}{z_2} = \\frac{4}{2} \\angle \\left( \\frac{\\pi}{3} - \\frac{\\pi}{6} \\right) \\, \\mathrm{rad} $$"
   ]
  },
  {
   "cell_type": "markdown",
   "metadata": {},
   "source": [
    "$$ \\frac{z_1}{z_2} = 2 \\angle  \\frac{\\pi}{6} \\, \\mathrm{rad}  $$"
   ]
  },
  {
   "cell_type": "markdown",
   "metadata": {},
   "source": [
    "$\\left\\{\n",
    "\\begin{array}{l}\n",
    "Re = 2 \\cos ( \\frac{\\pi}{6} \\, \\mathrm{rad} ) \\cong 1,73 \\\\\n",
    "Im = 2 \\sin ( \\frac{\\pi}{6} \\, \\mathrm{rad} ) \\cong 1\n",
    "\\end{array}\n",
    "\\right.$"
   ]
  },
  {
   "cell_type": "markdown",
   "metadata": {},
   "source": [
    "Entonces:\n",
    "$$ \\frac{z_1}{z_2} = 1,73 + j1 $$"
   ]
  },
  {
   "cell_type": "code",
   "execution_count": 23,
   "metadata": {},
   "outputs": [],
   "source": [
    "import cmath, math"
   ]
  },
  {
   "cell_type": "code",
   "execution_count": 24,
   "metadata": {},
   "outputs": [
    {
     "name": "stdout",
     "output_type": "stream",
     "text": [
      "z1/z2 = 1.73+1.00j\n"
     ]
    }
   ],
   "source": [
    "z1 = cmath.rect(4 , math.pi/3)\n",
    "z2 = cmath.rect(2 , math.pi/6)\n",
    "\n",
    "print('z1/z2 = {:.2f}'.format(z1/z2))"
   ]
  },
  {
   "cell_type": "markdown",
   "metadata": {},
   "source": [
    "$\\displaystyle \\frac{Z_1}{Z_2}$ con $Z_1 = 8^{-j30^o}$ y $Z_2 = 2e^{-j60^o}$"
   ]
  },
  {
   "cell_type": "markdown",
   "metadata": {},
   "source": [
    "__Solución:__\n",
    "$$ \\frac{z_1}{z_2} = \\frac{r_1}{r_2} \\; \\angle (\\phi_1 - \\phi_2) $$"
   ]
  },
  {
   "cell_type": "markdown",
   "metadata": {},
   "source": [
    "$$ \\frac{z_1}{z_2} = \\frac{8}{2} \\angle (-30^\\circ - (-60^\\circ)) $$"
   ]
  },
  {
   "cell_type": "markdown",
   "metadata": {},
   "source": [
    "$$ \\frac{z_1}{z_2} = 4 \\angle 30^\\circ $$"
   ]
  },
  {
   "cell_type": "markdown",
   "metadata": {},
   "source": [
    "$\\left\\{\n",
    "\\begin{array}{l}\n",
    "Re = 4 \\cos ( 30^\\circ ) \\cong 3,46 \\\\\n",
    "Im = 4 \\sin ( 30^\\circ ) \\cong 2\n",
    "\\end{array}\n",
    "\\right.$"
   ]
  },
  {
   "cell_type": "markdown",
   "metadata": {},
   "source": [
    "$$ \\frac{z_1}{z_2} = 3,46 + j2 $$"
   ]
  },
  {
   "cell_type": "code",
   "execution_count": 25,
   "metadata": {},
   "outputs": [
    {
     "name": "stdout",
     "output_type": "stream",
     "text": [
      "z1/z2 = 3.46+2.00j\n"
     ]
    }
   ],
   "source": [
    "z1 = cmath.rect(8 , math.radians(-30) )\n",
    "z2 = cmath.rect(2 , math.radians(-60) )\n",
    "\n",
    "print('z1/z2 = {:.2f}'.format(z1/z2) )"
   ]
  },
  {
   "cell_type": "markdown",
   "metadata": {},
   "source": [
    "$\\displaystyle \\frac{Z_1}{Z_2}$ con $Z_1 = 4 - j5$ y $Z_2 = 1 + j2$"
   ]
  },
  {
   "cell_type": "markdown",
   "metadata": {},
   "source": [
    "__Solución:__       \n",
    "Usando la fórmula"
   ]
  },
  {
   "cell_type": "markdown",
   "metadata": {},
   "source": [
    "<div class=\"alert alert-info\"><strong>División de números complejos:</strong>\n",
    "    \n",
    "$$ \\frac{a + b i}{c + di} = \\left( \\frac{a + bi}{c + di} \\right) \\left( \\frac{c - di}{c - di} \\right) = \\frac{(ac + bd) + (bc - ad)i}{c^2 + d^2} $$\n",
    "    </div>"
   ]
  },
  {
   "cell_type": "markdown",
   "metadata": {},
   "source": [
    "$$ \\frac{z_1}{z_2} = -1,2 - j2,6 $$"
   ]
  },
  {
   "cell_type": "markdown",
   "metadata": {},
   "source": [
    "Método 2"
   ]
  },
  {
   "cell_type": "markdown",
   "metadata": {},
   "source": [
    "Conversión a polares\n",
    "\n",
    "$\\left.\n",
    "\\begin{array}{l}\n",
    "r_1 = \\sqrt{4^2 + (-5)^2} \\cong 6,40 \\\\\n",
    "\\phi_1 = 180^\\circ - \\arctan \\left(\\frac{5}{4}\\right) \\cong 128,66^\\circ\n",
    "\\end{array}\n",
    "\\right\\} \\rightarrow \\quad\n",
    "z_1 = 6,40 \\angle 128,66^\\circ$"
   ]
  },
  {
   "cell_type": "markdown",
   "metadata": {},
   "source": [
    "$\\left.\n",
    "\\begin{array}{l}\n",
    "r_2 = \\sqrt{1^2 + 2^2} \\cong 2,24 \\\\\n",
    "\\phi_2 = \\arctan (2) \\cong 63,43^\\circ\n",
    "\\end{array}\n",
    "\\right\\} \\rightarrow \\quad\n",
    "z_2 = 2,24 \\angle 63,43^\\circ$"
   ]
  },
  {
   "cell_type": "markdown",
   "metadata": {},
   "source": [
    "$$ \\frac{z_1}{z_2} = 2,86 \\angle 65,22^\\circ $$"
   ]
  },
  {
   "cell_type": "markdown",
   "metadata": {},
   "source": [
    "Conversión a rectangulares\n",
    "\n",
    "$\\left\\{\n",
    "\\begin{array}{l}\n",
    "Re = 2,86 \\cos 65,22^\\circ \\cong 1,20 \\\\\n",
    "Im = 2,86 \\sin 65,22^\\circ\\cong 2,60\n",
    "\\end{array}\n",
    "\\right.$"
   ]
  },
  {
   "cell_type": "markdown",
   "metadata": {},
   "source": [
    "En forma bibnomica\n",
    "$$ \\frac{z_1}{z_2} = 1,20 + j 2,60 $$"
   ]
  },
  {
   "cell_type": "code",
   "execution_count": 26,
   "metadata": {},
   "outputs": [
    {
     "name": "stdout",
     "output_type": "stream",
     "text": [
      "z1/z2 = -1.20-2.60j\n"
     ]
    }
   ],
   "source": [
    "z1 = 4 - 5j\n",
    "z2 = 1 + 2j\n",
    "\n",
    "print('z1/z2 = {:.2f}'.format(z1/z2))"
   ]
  },
  {
   "cell_type": "code",
   "execution_count": 27,
   "metadata": {},
   "outputs": [],
   "source": [
    "%reset -s -f"
   ]
  },
  {
   "cell_type": "markdown",
   "metadata": {},
   "source": [
    "## Problema 3\n",
    "Un circuito serie con $R = 25 \\, \\Omega$ y $L = 0,01 \\, \\mathrm{Hy}$ se utiliza con frecuencias 50, 100, 500 y 1000 Hz. Calcular las impedancias para cada caso y representar."
   ]
  },
  {
   "cell_type": "markdown",
   "metadata": {},
   "source": [
    "### Solución\n",
    "<div class=\"alert alert-info\">La <strong>impedancia Z</strong> \n",
    " de un circuito es la razón entre la tensión fasorial V y la corriente fasorial I, medida en ohms $(\\Omega)$.\n",
    "    </div>"
   ]
  },
  {
   "cell_type": "markdown",
   "metadata": {},
   "source": [
    "$$ Z = R + j \\omega L $$"
   ]
  },
  {
   "cell_type": "markdown",
   "metadata": {},
   "source": [
    "$$ Z = R + j 2 \\pi f L  $$"
   ]
  },
  {
   "cell_type": "markdown",
   "metadata": {},
   "source": [
    "$$\\begin{array}{lcrcr|lcr}\n",
    "Z_1 &=& 25 + j 2 \\pi (50) \\, (0,01)  \\, \\Omega &=& 25 + j3,14 \\ ,\\Omega & f_1 &=& 50 \\,  \\mathrm{Hz} \\\\\n",
    "Z_2 &=& 25 + j 2 \\pi (100) \\, (0,01)  \\, \\Omega &=& 25 + j6,28 \\, \\Omega & f_2 &=& 100 \\, \\mathrm{Hz} \\\\\n",
    "Z_3 &=& 25 + j 2 \\pi (500) \\, (0,01)  \\, \\Omega &=& 25 + j31,42 \\, \\Omega & f_3 &=& 500  \\, \\mathrm{Hz} \\\\\n",
    "Z_4 &=& 25 + j 2 \\pi (1000) \\, (0,01)  \\, \\Omega &=& 25 + j62,83 \\, \\Omega & f_4 &=& 1000  \\, \\mathrm{Hz} \\\\\n",
    "\\end{array}$$"
   ]
  },
  {
   "cell_type": "code",
   "execution_count": 6,
   "metadata": {},
   "outputs": [],
   "source": [
    "import math, cmath"
   ]
  },
  {
   "cell_type": "code",
   "execution_count": 33,
   "metadata": {},
   "outputs": [],
   "source": [
    "L = 0.01 # H\n",
    "R = 25 # Ohm\n",
    "f1 = 50 # Hz\n",
    "f2 = 100 # Hz\n",
    "f3 = 500 # Hz\n",
    "f4 = 1000 # Hz\n",
    "\n",
    "Z1 = complex(R , 2*math.pi*f1*L )\n",
    "Z2 = complex(R , 2*math.pi*f2*L )\n",
    "Z3 = complex(R , 2*math.pi*f3*L )\n",
    "Z4 = complex(R , 2*math.pi*f4*L )"
   ]
  },
  {
   "cell_type": "code",
   "execution_count": 34,
   "metadata": {},
   "outputs": [
    {
     "name": "stdout",
     "output_type": "stream",
     "text": [
      "Z1 = 25.00+3.14j Ohm\n",
      "Z2 = 25.00+6.28j Ohm\n",
      "Z3 = 25.00+31.42j Ohm\n",
      "Z4 = 25.00+62.83j Ohm\n"
     ]
    }
   ],
   "source": [
    "print('Z1 = {:.2f} Ohm'.format(Z1))\n",
    "print('Z2 = {:.2f} Ohm'.format(Z2))\n",
    "print('Z3 = {:.2f} Ohm'.format(Z3))\n",
    "print('Z4 = {:.2f} Ohm'.format(Z4))"
   ]
  },
  {
   "cell_type": "code",
   "execution_count": 13,
   "metadata": {},
   "outputs": [],
   "source": [
    "import matplotlib.pyplot as plt"
   ]
  },
  {
   "cell_type": "code",
   "execution_count": 61,
   "metadata": {},
   "outputs": [
    {
     "data": {
      "application/javascript": [
       "/* Put everything inside the global mpl namespace */\n",
       "window.mpl = {};\n",
       "\n",
       "\n",
       "mpl.get_websocket_type = function() {\n",
       "    if (typeof(WebSocket) !== 'undefined') {\n",
       "        return WebSocket;\n",
       "    } else if (typeof(MozWebSocket) !== 'undefined') {\n",
       "        return MozWebSocket;\n",
       "    } else {\n",
       "        alert('Your browser does not have WebSocket support. ' +\n",
       "              'Please try Chrome, Safari or Firefox ≥ 6. ' +\n",
       "              'Firefox 4 and 5 are also supported but you ' +\n",
       "              'have to enable WebSockets in about:config.');\n",
       "    };\n",
       "}\n",
       "\n",
       "mpl.figure = function(figure_id, websocket, ondownload, parent_element) {\n",
       "    this.id = figure_id;\n",
       "\n",
       "    this.ws = websocket;\n",
       "\n",
       "    this.supports_binary = (this.ws.binaryType != undefined);\n",
       "\n",
       "    if (!this.supports_binary) {\n",
       "        var warnings = document.getElementById(\"mpl-warnings\");\n",
       "        if (warnings) {\n",
       "            warnings.style.display = 'block';\n",
       "            warnings.textContent = (\n",
       "                \"This browser does not support binary websocket messages. \" +\n",
       "                    \"Performance may be slow.\");\n",
       "        }\n",
       "    }\n",
       "\n",
       "    this.imageObj = new Image();\n",
       "\n",
       "    this.context = undefined;\n",
       "    this.message = undefined;\n",
       "    this.canvas = undefined;\n",
       "    this.rubberband_canvas = undefined;\n",
       "    this.rubberband_context = undefined;\n",
       "    this.format_dropdown = undefined;\n",
       "\n",
       "    this.image_mode = 'full';\n",
       "\n",
       "    this.root = $('<div/>');\n",
       "    this._root_extra_style(this.root)\n",
       "    this.root.attr('style', 'display: inline-block');\n",
       "\n",
       "    $(parent_element).append(this.root);\n",
       "\n",
       "    this._init_header(this);\n",
       "    this._init_canvas(this);\n",
       "    this._init_toolbar(this);\n",
       "\n",
       "    var fig = this;\n",
       "\n",
       "    this.waiting = false;\n",
       "\n",
       "    this.ws.onopen =  function () {\n",
       "            fig.send_message(\"supports_binary\", {value: fig.supports_binary});\n",
       "            fig.send_message(\"send_image_mode\", {});\n",
       "            if (mpl.ratio != 1) {\n",
       "                fig.send_message(\"set_dpi_ratio\", {'dpi_ratio': mpl.ratio});\n",
       "            }\n",
       "            fig.send_message(\"refresh\", {});\n",
       "        }\n",
       "\n",
       "    this.imageObj.onload = function() {\n",
       "            if (fig.image_mode == 'full') {\n",
       "                // Full images could contain transparency (where diff images\n",
       "                // almost always do), so we need to clear the canvas so that\n",
       "                // there is no ghosting.\n",
       "                fig.context.clearRect(0, 0, fig.canvas.width, fig.canvas.height);\n",
       "            }\n",
       "            fig.context.drawImage(fig.imageObj, 0, 0);\n",
       "        };\n",
       "\n",
       "    this.imageObj.onunload = function() {\n",
       "        fig.ws.close();\n",
       "    }\n",
       "\n",
       "    this.ws.onmessage = this._make_on_message_function(this);\n",
       "\n",
       "    this.ondownload = ondownload;\n",
       "}\n",
       "\n",
       "mpl.figure.prototype._init_header = function() {\n",
       "    var titlebar = $(\n",
       "        '<div class=\"ui-dialog-titlebar ui-widget-header ui-corner-all ' +\n",
       "        'ui-helper-clearfix\"/>');\n",
       "    var titletext = $(\n",
       "        '<div class=\"ui-dialog-title\" style=\"width: 100%; ' +\n",
       "        'text-align: center; padding: 3px;\"/>');\n",
       "    titlebar.append(titletext)\n",
       "    this.root.append(titlebar);\n",
       "    this.header = titletext[0];\n",
       "}\n",
       "\n",
       "\n",
       "\n",
       "mpl.figure.prototype._canvas_extra_style = function(canvas_div) {\n",
       "\n",
       "}\n",
       "\n",
       "\n",
       "mpl.figure.prototype._root_extra_style = function(canvas_div) {\n",
       "\n",
       "}\n",
       "\n",
       "mpl.figure.prototype._init_canvas = function() {\n",
       "    var fig = this;\n",
       "\n",
       "    var canvas_div = $('<div/>');\n",
       "\n",
       "    canvas_div.attr('style', 'position: relative; clear: both; outline: 0');\n",
       "\n",
       "    function canvas_keyboard_event(event) {\n",
       "        return fig.key_event(event, event['data']);\n",
       "    }\n",
       "\n",
       "    canvas_div.keydown('key_press', canvas_keyboard_event);\n",
       "    canvas_div.keyup('key_release', canvas_keyboard_event);\n",
       "    this.canvas_div = canvas_div\n",
       "    this._canvas_extra_style(canvas_div)\n",
       "    this.root.append(canvas_div);\n",
       "\n",
       "    var canvas = $('<canvas/>');\n",
       "    canvas.addClass('mpl-canvas');\n",
       "    canvas.attr('style', \"left: 0; top: 0; z-index: 0; outline: 0\")\n",
       "\n",
       "    this.canvas = canvas[0];\n",
       "    this.context = canvas[0].getContext(\"2d\");\n",
       "\n",
       "    var backingStore = this.context.backingStorePixelRatio ||\n",
       "\tthis.context.webkitBackingStorePixelRatio ||\n",
       "\tthis.context.mozBackingStorePixelRatio ||\n",
       "\tthis.context.msBackingStorePixelRatio ||\n",
       "\tthis.context.oBackingStorePixelRatio ||\n",
       "\tthis.context.backingStorePixelRatio || 1;\n",
       "\n",
       "    mpl.ratio = (window.devicePixelRatio || 1) / backingStore;\n",
       "\n",
       "    var rubberband = $('<canvas/>');\n",
       "    rubberband.attr('style', \"position: absolute; left: 0; top: 0; z-index: 1;\")\n",
       "\n",
       "    var pass_mouse_events = true;\n",
       "\n",
       "    canvas_div.resizable({\n",
       "        start: function(event, ui) {\n",
       "            pass_mouse_events = false;\n",
       "        },\n",
       "        resize: function(event, ui) {\n",
       "            fig.request_resize(ui.size.width, ui.size.height);\n",
       "        },\n",
       "        stop: function(event, ui) {\n",
       "            pass_mouse_events = true;\n",
       "            fig.request_resize(ui.size.width, ui.size.height);\n",
       "        },\n",
       "    });\n",
       "\n",
       "    function mouse_event_fn(event) {\n",
       "        if (pass_mouse_events)\n",
       "            return fig.mouse_event(event, event['data']);\n",
       "    }\n",
       "\n",
       "    rubberband.mousedown('button_press', mouse_event_fn);\n",
       "    rubberband.mouseup('button_release', mouse_event_fn);\n",
       "    // Throttle sequential mouse events to 1 every 20ms.\n",
       "    rubberband.mousemove('motion_notify', mouse_event_fn);\n",
       "\n",
       "    rubberband.mouseenter('figure_enter', mouse_event_fn);\n",
       "    rubberband.mouseleave('figure_leave', mouse_event_fn);\n",
       "\n",
       "    canvas_div.on(\"wheel\", function (event) {\n",
       "        event = event.originalEvent;\n",
       "        event['data'] = 'scroll'\n",
       "        if (event.deltaY < 0) {\n",
       "            event.step = 1;\n",
       "        } else {\n",
       "            event.step = -1;\n",
       "        }\n",
       "        mouse_event_fn(event);\n",
       "    });\n",
       "\n",
       "    canvas_div.append(canvas);\n",
       "    canvas_div.append(rubberband);\n",
       "\n",
       "    this.rubberband = rubberband;\n",
       "    this.rubberband_canvas = rubberband[0];\n",
       "    this.rubberband_context = rubberband[0].getContext(\"2d\");\n",
       "    this.rubberband_context.strokeStyle = \"#000000\";\n",
       "\n",
       "    this._resize_canvas = function(width, height) {\n",
       "        // Keep the size of the canvas, canvas container, and rubber band\n",
       "        // canvas in synch.\n",
       "        canvas_div.css('width', width)\n",
       "        canvas_div.css('height', height)\n",
       "\n",
       "        canvas.attr('width', width * mpl.ratio);\n",
       "        canvas.attr('height', height * mpl.ratio);\n",
       "        canvas.attr('style', 'width: ' + width + 'px; height: ' + height + 'px;');\n",
       "\n",
       "        rubberband.attr('width', width);\n",
       "        rubberband.attr('height', height);\n",
       "    }\n",
       "\n",
       "    // Set the figure to an initial 600x600px, this will subsequently be updated\n",
       "    // upon first draw.\n",
       "    this._resize_canvas(600, 600);\n",
       "\n",
       "    // Disable right mouse context menu.\n",
       "    $(this.rubberband_canvas).bind(\"contextmenu\",function(e){\n",
       "        return false;\n",
       "    });\n",
       "\n",
       "    function set_focus () {\n",
       "        canvas.focus();\n",
       "        canvas_div.focus();\n",
       "    }\n",
       "\n",
       "    window.setTimeout(set_focus, 100);\n",
       "}\n",
       "\n",
       "mpl.figure.prototype._init_toolbar = function() {\n",
       "    var fig = this;\n",
       "\n",
       "    var nav_element = $('<div/>');\n",
       "    nav_element.attr('style', 'width: 100%');\n",
       "    this.root.append(nav_element);\n",
       "\n",
       "    // Define a callback function for later on.\n",
       "    function toolbar_event(event) {\n",
       "        return fig.toolbar_button_onclick(event['data']);\n",
       "    }\n",
       "    function toolbar_mouse_event(event) {\n",
       "        return fig.toolbar_button_onmouseover(event['data']);\n",
       "    }\n",
       "\n",
       "    for(var toolbar_ind in mpl.toolbar_items) {\n",
       "        var name = mpl.toolbar_items[toolbar_ind][0];\n",
       "        var tooltip = mpl.toolbar_items[toolbar_ind][1];\n",
       "        var image = mpl.toolbar_items[toolbar_ind][2];\n",
       "        var method_name = mpl.toolbar_items[toolbar_ind][3];\n",
       "\n",
       "        if (!name) {\n",
       "            // put a spacer in here.\n",
       "            continue;\n",
       "        }\n",
       "        var button = $('<button/>');\n",
       "        button.addClass('ui-button ui-widget ui-state-default ui-corner-all ' +\n",
       "                        'ui-button-icon-only');\n",
       "        button.attr('role', 'button');\n",
       "        button.attr('aria-disabled', 'false');\n",
       "        button.click(method_name, toolbar_event);\n",
       "        button.mouseover(tooltip, toolbar_mouse_event);\n",
       "\n",
       "        var icon_img = $('<span/>');\n",
       "        icon_img.addClass('ui-button-icon-primary ui-icon');\n",
       "        icon_img.addClass(image);\n",
       "        icon_img.addClass('ui-corner-all');\n",
       "\n",
       "        var tooltip_span = $('<span/>');\n",
       "        tooltip_span.addClass('ui-button-text');\n",
       "        tooltip_span.html(tooltip);\n",
       "\n",
       "        button.append(icon_img);\n",
       "        button.append(tooltip_span);\n",
       "\n",
       "        nav_element.append(button);\n",
       "    }\n",
       "\n",
       "    var fmt_picker_span = $('<span/>');\n",
       "\n",
       "    var fmt_picker = $('<select/>');\n",
       "    fmt_picker.addClass('mpl-toolbar-option ui-widget ui-widget-content');\n",
       "    fmt_picker_span.append(fmt_picker);\n",
       "    nav_element.append(fmt_picker_span);\n",
       "    this.format_dropdown = fmt_picker[0];\n",
       "\n",
       "    for (var ind in mpl.extensions) {\n",
       "        var fmt = mpl.extensions[ind];\n",
       "        var option = $(\n",
       "            '<option/>', {selected: fmt === mpl.default_extension}).html(fmt);\n",
       "        fmt_picker.append(option);\n",
       "    }\n",
       "\n",
       "    // Add hover states to the ui-buttons\n",
       "    $( \".ui-button\" ).hover(\n",
       "        function() { $(this).addClass(\"ui-state-hover\");},\n",
       "        function() { $(this).removeClass(\"ui-state-hover\");}\n",
       "    );\n",
       "\n",
       "    var status_bar = $('<span class=\"mpl-message\"/>');\n",
       "    nav_element.append(status_bar);\n",
       "    this.message = status_bar[0];\n",
       "}\n",
       "\n",
       "mpl.figure.prototype.request_resize = function(x_pixels, y_pixels) {\n",
       "    // Request matplotlib to resize the figure. Matplotlib will then trigger a resize in the client,\n",
       "    // which will in turn request a refresh of the image.\n",
       "    this.send_message('resize', {'width': x_pixels, 'height': y_pixels});\n",
       "}\n",
       "\n",
       "mpl.figure.prototype.send_message = function(type, properties) {\n",
       "    properties['type'] = type;\n",
       "    properties['figure_id'] = this.id;\n",
       "    this.ws.send(JSON.stringify(properties));\n",
       "}\n",
       "\n",
       "mpl.figure.prototype.send_draw_message = function() {\n",
       "    if (!this.waiting) {\n",
       "        this.waiting = true;\n",
       "        this.ws.send(JSON.stringify({type: \"draw\", figure_id: this.id}));\n",
       "    }\n",
       "}\n",
       "\n",
       "\n",
       "mpl.figure.prototype.handle_save = function(fig, msg) {\n",
       "    var format_dropdown = fig.format_dropdown;\n",
       "    var format = format_dropdown.options[format_dropdown.selectedIndex].value;\n",
       "    fig.ondownload(fig, format);\n",
       "}\n",
       "\n",
       "\n",
       "mpl.figure.prototype.handle_resize = function(fig, msg) {\n",
       "    var size = msg['size'];\n",
       "    if (size[0] != fig.canvas.width || size[1] != fig.canvas.height) {\n",
       "        fig._resize_canvas(size[0], size[1]);\n",
       "        fig.send_message(\"refresh\", {});\n",
       "    };\n",
       "}\n",
       "\n",
       "mpl.figure.prototype.handle_rubberband = function(fig, msg) {\n",
       "    var x0 = msg['x0'] / mpl.ratio;\n",
       "    var y0 = (fig.canvas.height - msg['y0']) / mpl.ratio;\n",
       "    var x1 = msg['x1'] / mpl.ratio;\n",
       "    var y1 = (fig.canvas.height - msg['y1']) / mpl.ratio;\n",
       "    x0 = Math.floor(x0) + 0.5;\n",
       "    y0 = Math.floor(y0) + 0.5;\n",
       "    x1 = Math.floor(x1) + 0.5;\n",
       "    y1 = Math.floor(y1) + 0.5;\n",
       "    var min_x = Math.min(x0, x1);\n",
       "    var min_y = Math.min(y0, y1);\n",
       "    var width = Math.abs(x1 - x0);\n",
       "    var height = Math.abs(y1 - y0);\n",
       "\n",
       "    fig.rubberband_context.clearRect(\n",
       "        0, 0, fig.canvas.width / mpl.ratio, fig.canvas.height / mpl.ratio);\n",
       "\n",
       "    fig.rubberband_context.strokeRect(min_x, min_y, width, height);\n",
       "}\n",
       "\n",
       "mpl.figure.prototype.handle_figure_label = function(fig, msg) {\n",
       "    // Updates the figure title.\n",
       "    fig.header.textContent = msg['label'];\n",
       "}\n",
       "\n",
       "mpl.figure.prototype.handle_cursor = function(fig, msg) {\n",
       "    var cursor = msg['cursor'];\n",
       "    switch(cursor)\n",
       "    {\n",
       "    case 0:\n",
       "        cursor = 'pointer';\n",
       "        break;\n",
       "    case 1:\n",
       "        cursor = 'default';\n",
       "        break;\n",
       "    case 2:\n",
       "        cursor = 'crosshair';\n",
       "        break;\n",
       "    case 3:\n",
       "        cursor = 'move';\n",
       "        break;\n",
       "    }\n",
       "    fig.rubberband_canvas.style.cursor = cursor;\n",
       "}\n",
       "\n",
       "mpl.figure.prototype.handle_message = function(fig, msg) {\n",
       "    fig.message.textContent = msg['message'];\n",
       "}\n",
       "\n",
       "mpl.figure.prototype.handle_draw = function(fig, msg) {\n",
       "    // Request the server to send over a new figure.\n",
       "    fig.send_draw_message();\n",
       "}\n",
       "\n",
       "mpl.figure.prototype.handle_image_mode = function(fig, msg) {\n",
       "    fig.image_mode = msg['mode'];\n",
       "}\n",
       "\n",
       "mpl.figure.prototype.updated_canvas_event = function() {\n",
       "    // Called whenever the canvas gets updated.\n",
       "    this.send_message(\"ack\", {});\n",
       "}\n",
       "\n",
       "// A function to construct a web socket function for onmessage handling.\n",
       "// Called in the figure constructor.\n",
       "mpl.figure.prototype._make_on_message_function = function(fig) {\n",
       "    return function socket_on_message(evt) {\n",
       "        if (evt.data instanceof Blob) {\n",
       "            /* FIXME: We get \"Resource interpreted as Image but\n",
       "             * transferred with MIME type text/plain:\" errors on\n",
       "             * Chrome.  But how to set the MIME type?  It doesn't seem\n",
       "             * to be part of the websocket stream */\n",
       "            evt.data.type = \"image/png\";\n",
       "\n",
       "            /* Free the memory for the previous frames */\n",
       "            if (fig.imageObj.src) {\n",
       "                (window.URL || window.webkitURL).revokeObjectURL(\n",
       "                    fig.imageObj.src);\n",
       "            }\n",
       "\n",
       "            fig.imageObj.src = (window.URL || window.webkitURL).createObjectURL(\n",
       "                evt.data);\n",
       "            fig.updated_canvas_event();\n",
       "            fig.waiting = false;\n",
       "            return;\n",
       "        }\n",
       "        else if (typeof evt.data === 'string' && evt.data.slice(0, 21) == \"data:image/png;base64\") {\n",
       "            fig.imageObj.src = evt.data;\n",
       "            fig.updated_canvas_event();\n",
       "            fig.waiting = false;\n",
       "            return;\n",
       "        }\n",
       "\n",
       "        var msg = JSON.parse(evt.data);\n",
       "        var msg_type = msg['type'];\n",
       "\n",
       "        // Call the  \"handle_{type}\" callback, which takes\n",
       "        // the figure and JSON message as its only arguments.\n",
       "        try {\n",
       "            var callback = fig[\"handle_\" + msg_type];\n",
       "        } catch (e) {\n",
       "            console.log(\"No handler for the '\" + msg_type + \"' message type: \", msg);\n",
       "            return;\n",
       "        }\n",
       "\n",
       "        if (callback) {\n",
       "            try {\n",
       "                // console.log(\"Handling '\" + msg_type + \"' message: \", msg);\n",
       "                callback(fig, msg);\n",
       "            } catch (e) {\n",
       "                console.log(\"Exception inside the 'handler_\" + msg_type + \"' callback:\", e, e.stack, msg);\n",
       "            }\n",
       "        }\n",
       "    };\n",
       "}\n",
       "\n",
       "// from http://stackoverflow.com/questions/1114465/getting-mouse-location-in-canvas\n",
       "mpl.findpos = function(e) {\n",
       "    //this section is from http://www.quirksmode.org/js/events_properties.html\n",
       "    var targ;\n",
       "    if (!e)\n",
       "        e = window.event;\n",
       "    if (e.target)\n",
       "        targ = e.target;\n",
       "    else if (e.srcElement)\n",
       "        targ = e.srcElement;\n",
       "    if (targ.nodeType == 3) // defeat Safari bug\n",
       "        targ = targ.parentNode;\n",
       "\n",
       "    // jQuery normalizes the pageX and pageY\n",
       "    // pageX,Y are the mouse positions relative to the document\n",
       "    // offset() returns the position of the element relative to the document\n",
       "    var x = e.pageX - $(targ).offset().left;\n",
       "    var y = e.pageY - $(targ).offset().top;\n",
       "\n",
       "    return {\"x\": x, \"y\": y};\n",
       "};\n",
       "\n",
       "/*\n",
       " * return a copy of an object with only non-object keys\n",
       " * we need this to avoid circular references\n",
       " * http://stackoverflow.com/a/24161582/3208463\n",
       " */\n",
       "function simpleKeys (original) {\n",
       "  return Object.keys(original).reduce(function (obj, key) {\n",
       "    if (typeof original[key] !== 'object')\n",
       "        obj[key] = original[key]\n",
       "    return obj;\n",
       "  }, {});\n",
       "}\n",
       "\n",
       "mpl.figure.prototype.mouse_event = function(event, name) {\n",
       "    var canvas_pos = mpl.findpos(event)\n",
       "\n",
       "    if (name === 'button_press')\n",
       "    {\n",
       "        this.canvas.focus();\n",
       "        this.canvas_div.focus();\n",
       "    }\n",
       "\n",
       "    var x = canvas_pos.x * mpl.ratio;\n",
       "    var y = canvas_pos.y * mpl.ratio;\n",
       "\n",
       "    this.send_message(name, {x: x, y: y, button: event.button,\n",
       "                             step: event.step,\n",
       "                             guiEvent: simpleKeys(event)});\n",
       "\n",
       "    /* This prevents the web browser from automatically changing to\n",
       "     * the text insertion cursor when the button is pressed.  We want\n",
       "     * to control all of the cursor setting manually through the\n",
       "     * 'cursor' event from matplotlib */\n",
       "    event.preventDefault();\n",
       "    return false;\n",
       "}\n",
       "\n",
       "mpl.figure.prototype._key_event_extra = function(event, name) {\n",
       "    // Handle any extra behaviour associated with a key event\n",
       "}\n",
       "\n",
       "mpl.figure.prototype.key_event = function(event, name) {\n",
       "\n",
       "    // Prevent repeat events\n",
       "    if (name == 'key_press')\n",
       "    {\n",
       "        if (event.which === this._key)\n",
       "            return;\n",
       "        else\n",
       "            this._key = event.which;\n",
       "    }\n",
       "    if (name == 'key_release')\n",
       "        this._key = null;\n",
       "\n",
       "    var value = '';\n",
       "    if (event.ctrlKey && event.which != 17)\n",
       "        value += \"ctrl+\";\n",
       "    if (event.altKey && event.which != 18)\n",
       "        value += \"alt+\";\n",
       "    if (event.shiftKey && event.which != 16)\n",
       "        value += \"shift+\";\n",
       "\n",
       "    value += 'k';\n",
       "    value += event.which.toString();\n",
       "\n",
       "    this._key_event_extra(event, name);\n",
       "\n",
       "    this.send_message(name, {key: value,\n",
       "                             guiEvent: simpleKeys(event)});\n",
       "    return false;\n",
       "}\n",
       "\n",
       "mpl.figure.prototype.toolbar_button_onclick = function(name) {\n",
       "    if (name == 'download') {\n",
       "        this.handle_save(this, null);\n",
       "    } else {\n",
       "        this.send_message(\"toolbar_button\", {name: name});\n",
       "    }\n",
       "};\n",
       "\n",
       "mpl.figure.prototype.toolbar_button_onmouseover = function(tooltip) {\n",
       "    this.message.textContent = tooltip;\n",
       "};\n",
       "mpl.toolbar_items = [[\"Home\", \"Reset original view\", \"fa fa-home icon-home\", \"home\"], [\"Back\", \"Back to previous view\", \"fa fa-arrow-left icon-arrow-left\", \"back\"], [\"Forward\", \"Forward to next view\", \"fa fa-arrow-right icon-arrow-right\", \"forward\"], [\"\", \"\", \"\", \"\"], [\"Pan\", \"Pan axes with left mouse, zoom with right\", \"fa fa-arrows icon-move\", \"pan\"], [\"Zoom\", \"Zoom to rectangle\", \"fa fa-square-o icon-check-empty\", \"zoom\"], [\"\", \"\", \"\", \"\"], [\"Download\", \"Download plot\", \"fa fa-floppy-o icon-save\", \"download\"]];\n",
       "\n",
       "mpl.extensions = [\"eps\", \"jpeg\", \"pdf\", \"png\", \"ps\", \"raw\", \"svg\", \"tif\"];\n",
       "\n",
       "mpl.default_extension = \"png\";var comm_websocket_adapter = function(comm) {\n",
       "    // Create a \"websocket\"-like object which calls the given IPython comm\n",
       "    // object with the appropriate methods. Currently this is a non binary\n",
       "    // socket, so there is still some room for performance tuning.\n",
       "    var ws = {};\n",
       "\n",
       "    ws.close = function() {\n",
       "        comm.close()\n",
       "    };\n",
       "    ws.send = function(m) {\n",
       "        //console.log('sending', m);\n",
       "        comm.send(m);\n",
       "    };\n",
       "    // Register the callback with on_msg.\n",
       "    comm.on_msg(function(msg) {\n",
       "        //console.log('receiving', msg['content']['data'], msg);\n",
       "        // Pass the mpl event to the overridden (by mpl) onmessage function.\n",
       "        ws.onmessage(msg['content']['data'])\n",
       "    });\n",
       "    return ws;\n",
       "}\n",
       "\n",
       "mpl.mpl_figure_comm = function(comm, msg) {\n",
       "    // This is the function which gets called when the mpl process\n",
       "    // starts-up an IPython Comm through the \"matplotlib\" channel.\n",
       "\n",
       "    var id = msg.content.data.id;\n",
       "    // Get hold of the div created by the display call when the Comm\n",
       "    // socket was opened in Python.\n",
       "    var element = $(\"#\" + id);\n",
       "    var ws_proxy = comm_websocket_adapter(comm)\n",
       "\n",
       "    function ondownload(figure, format) {\n",
       "        window.open(figure.imageObj.src);\n",
       "    }\n",
       "\n",
       "    var fig = new mpl.figure(id, ws_proxy,\n",
       "                           ondownload,\n",
       "                           element.get(0));\n",
       "\n",
       "    // Call onopen now - mpl needs it, as it is assuming we've passed it a real\n",
       "    // web socket which is closed, not our websocket->open comm proxy.\n",
       "    ws_proxy.onopen();\n",
       "\n",
       "    fig.parent_element = element.get(0);\n",
       "    fig.cell_info = mpl.find_output_cell(\"<div id='\" + id + \"'></div>\");\n",
       "    if (!fig.cell_info) {\n",
       "        console.error(\"Failed to find cell for figure\", id, fig);\n",
       "        return;\n",
       "    }\n",
       "\n",
       "    var output_index = fig.cell_info[2]\n",
       "    var cell = fig.cell_info[0];\n",
       "\n",
       "};\n",
       "\n",
       "mpl.figure.prototype.handle_close = function(fig, msg) {\n",
       "    var width = fig.canvas.width/mpl.ratio\n",
       "    fig.root.unbind('remove')\n",
       "\n",
       "    // Update the output cell to use the data from the current canvas.\n",
       "    fig.push_to_output();\n",
       "    var dataURL = fig.canvas.toDataURL();\n",
       "    // Re-enable the keyboard manager in IPython - without this line, in FF,\n",
       "    // the notebook keyboard shortcuts fail.\n",
       "    IPython.keyboard_manager.enable()\n",
       "    $(fig.parent_element).html('<img src=\"' + dataURL + '\" width=\"' + width + '\">');\n",
       "    fig.close_ws(fig, msg);\n",
       "}\n",
       "\n",
       "mpl.figure.prototype.close_ws = function(fig, msg){\n",
       "    fig.send_message('closing', msg);\n",
       "    // fig.ws.close()\n",
       "}\n",
       "\n",
       "mpl.figure.prototype.push_to_output = function(remove_interactive) {\n",
       "    // Turn the data on the canvas into data in the output cell.\n",
       "    var width = this.canvas.width/mpl.ratio\n",
       "    var dataURL = this.canvas.toDataURL();\n",
       "    this.cell_info[1]['text/html'] = '<img src=\"' + dataURL + '\" width=\"' + width + '\">';\n",
       "}\n",
       "\n",
       "mpl.figure.prototype.updated_canvas_event = function() {\n",
       "    // Tell IPython that the notebook contents must change.\n",
       "    IPython.notebook.set_dirty(true);\n",
       "    this.send_message(\"ack\", {});\n",
       "    var fig = this;\n",
       "    // Wait a second, then push the new image to the DOM so\n",
       "    // that it is saved nicely (might be nice to debounce this).\n",
       "    setTimeout(function () { fig.push_to_output() }, 1000);\n",
       "}\n",
       "\n",
       "mpl.figure.prototype._init_toolbar = function() {\n",
       "    var fig = this;\n",
       "\n",
       "    var nav_element = $('<div/>');\n",
       "    nav_element.attr('style', 'width: 100%');\n",
       "    this.root.append(nav_element);\n",
       "\n",
       "    // Define a callback function for later on.\n",
       "    function toolbar_event(event) {\n",
       "        return fig.toolbar_button_onclick(event['data']);\n",
       "    }\n",
       "    function toolbar_mouse_event(event) {\n",
       "        return fig.toolbar_button_onmouseover(event['data']);\n",
       "    }\n",
       "\n",
       "    for(var toolbar_ind in mpl.toolbar_items){\n",
       "        var name = mpl.toolbar_items[toolbar_ind][0];\n",
       "        var tooltip = mpl.toolbar_items[toolbar_ind][1];\n",
       "        var image = mpl.toolbar_items[toolbar_ind][2];\n",
       "        var method_name = mpl.toolbar_items[toolbar_ind][3];\n",
       "\n",
       "        if (!name) { continue; };\n",
       "\n",
       "        var button = $('<button class=\"btn btn-default\" href=\"#\" title=\"' + name + '\"><i class=\"fa ' + image + ' fa-lg\"></i></button>');\n",
       "        button.click(method_name, toolbar_event);\n",
       "        button.mouseover(tooltip, toolbar_mouse_event);\n",
       "        nav_element.append(button);\n",
       "    }\n",
       "\n",
       "    // Add the status bar.\n",
       "    var status_bar = $('<span class=\"mpl-message\" style=\"text-align:right; float: right;\"/>');\n",
       "    nav_element.append(status_bar);\n",
       "    this.message = status_bar[0];\n",
       "\n",
       "    // Add the close button to the window.\n",
       "    var buttongrp = $('<div class=\"btn-group inline pull-right\"></div>');\n",
       "    var button = $('<button class=\"btn btn-mini btn-primary\" href=\"#\" title=\"Stop Interaction\"><i class=\"fa fa-power-off icon-remove icon-large\"></i></button>');\n",
       "    button.click(function (evt) { fig.handle_close(fig, {}); } );\n",
       "    button.mouseover('Stop Interaction', toolbar_mouse_event);\n",
       "    buttongrp.append(button);\n",
       "    var titlebar = this.root.find($('.ui-dialog-titlebar'));\n",
       "    titlebar.prepend(buttongrp);\n",
       "}\n",
       "\n",
       "mpl.figure.prototype._root_extra_style = function(el){\n",
       "    var fig = this\n",
       "    el.on(\"remove\", function(){\n",
       "\tfig.close_ws(fig, {});\n",
       "    });\n",
       "}\n",
       "\n",
       "mpl.figure.prototype._canvas_extra_style = function(el){\n",
       "    // this is important to make the div 'focusable\n",
       "    el.attr('tabindex', 0)\n",
       "    // reach out to IPython and tell the keyboard manager to turn it's self\n",
       "    // off when our div gets focus\n",
       "\n",
       "    // location in version 3\n",
       "    if (IPython.notebook.keyboard_manager) {\n",
       "        IPython.notebook.keyboard_manager.register_events(el);\n",
       "    }\n",
       "    else {\n",
       "        // location in version 2\n",
       "        IPython.keyboard_manager.register_events(el);\n",
       "    }\n",
       "\n",
       "}\n",
       "\n",
       "mpl.figure.prototype._key_event_extra = function(event, name) {\n",
       "    var manager = IPython.notebook.keyboard_manager;\n",
       "    if (!manager)\n",
       "        manager = IPython.keyboard_manager;\n",
       "\n",
       "    // Check for shift+enter\n",
       "    if (event.shiftKey && event.which == 13) {\n",
       "        this.canvas_div.blur();\n",
       "        // select the cell after this one\n",
       "        var index = IPython.notebook.find_cell_index(this.cell_info[0]);\n",
       "        IPython.notebook.select(index + 1);\n",
       "    }\n",
       "}\n",
       "\n",
       "mpl.figure.prototype.handle_save = function(fig, msg) {\n",
       "    fig.ondownload(fig, null);\n",
       "}\n",
       "\n",
       "\n",
       "mpl.find_output_cell = function(html_output) {\n",
       "    // Return the cell and output element which can be found *uniquely* in the notebook.\n",
       "    // Note - this is a bit hacky, but it is done because the \"notebook_saving.Notebook\"\n",
       "    // IPython event is triggered only after the cells have been serialised, which for\n",
       "    // our purposes (turning an active figure into a static one), is too late.\n",
       "    var cells = IPython.notebook.get_cells();\n",
       "    var ncells = cells.length;\n",
       "    for (var i=0; i<ncells; i++) {\n",
       "        var cell = cells[i];\n",
       "        if (cell.cell_type === 'code'){\n",
       "            for (var j=0; j<cell.output_area.outputs.length; j++) {\n",
       "                var data = cell.output_area.outputs[j];\n",
       "                if (data.data) {\n",
       "                    // IPython >= 3 moved mimebundle to data attribute of output\n",
       "                    data = data.data;\n",
       "                }\n",
       "                if (data['text/html'] == html_output) {\n",
       "                    return [cell, data, j];\n",
       "                }\n",
       "            }\n",
       "        }\n",
       "    }\n",
       "}\n",
       "\n",
       "// Register the function which deals with the matplotlib target/channel.\n",
       "// The kernel may be null if the page has been refreshed.\n",
       "if (IPython.notebook.kernel != null) {\n",
       "    IPython.notebook.kernel.comm_manager.register_target('matplotlib', mpl.mpl_figure_comm);\n",
       "}\n"
      ],
      "text/plain": [
       "<IPython.core.display.Javascript object>"
      ]
     },
     "metadata": {},
     "output_type": "display_data"
    },
    {
     "data": {
      "text/html": [
       "<img src=\"data:image/png;base64,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\" width=\"640\">"
      ],
      "text/plain": [
       "<IPython.core.display.HTML object>"
      ]
     },
     "metadata": {},
     "output_type": "display_data"
    }
   ],
   "source": [
    "%matplotlib notebook\n",
    "ax = plt.axes()\n",
    "ax.arrow(0, 0, Z1.real, Z1.imag, fc='r', ec='r')\n",
    "ax.arrow(0, 0, Z2.real, Z2.imag, fc='b', ec='b')\n",
    "ax.arrow(0, 0, Z3.real, Z3.imag, fc='g', ec='g')\n",
    "ax.arrow(0, 0, Z4.real, Z4.imag, fc='k', ec='k')\n",
    "ax.axis([0, 30, 0, 70])\n",
    "plt.text(Z1.real , Z1.imag, r'$Z_1$')\n",
    "plt.text(Z2.real , Z2.imag, r'$Z_2$')\n",
    "plt.text(Z3.real , Z3.imag, r'$Z_3$')\n",
    "plt.text(Z4.real , Z4.imag, r'$Z_4$')\n",
    "plt.xlabel('Re (Eje real)',  fontsize=14)\n",
    "plt.ylabel('Im (Eje imaginario)',  fontsize=14)\n",
    "plt.grid()\n",
    "plt.show()"
   ]
  },
  {
   "cell_type": "markdown",
   "metadata": {},
   "source": [
    "## Problema 4\n",
    "A un circuito serie con $R = 10 \\, \\Omega$ y $C = 50 \\, \\mu \\mathrm{F}$ se le aplica una tensión cuya frecuencia es tal que la corriente adelanta $30^\\circ$ respecto de la tensión.          \n",
    "¿A qué frecuencia la corriente estaría adelanta $70^\\circ$?"
   ]
  },
  {
   "cell_type": "markdown",
   "metadata": {},
   "source": [
    "### Solución"
   ]
  },
  {
   "cell_type": "markdown",
   "metadata": {},
   "source": [
    "En nuetro caso solo contamos con un capacitor y una resistencia, entonces"
   ]
  },
  {
   "cell_type": "markdown",
   "metadata": {},
   "source": [
    "$$ \\tan \\phi = \\frac{-Z_C}{R}  $$"
   ]
  },
  {
   "cell_type": "markdown",
   "metadata": {},
   "source": [
    "$$ R \\tan \\phi = \\frac{-1}{\\omega C}  $$"
   ]
  },
  {
   "cell_type": "markdown",
   "metadata": {},
   "source": [
    "$$ \\omega = \\frac{-1}{RC \\tan \\phi} $$"
   ]
  },
  {
   "cell_type": "markdown",
   "metadata": {},
   "source": [
    "Frecuencias:\n",
    "$$ f = \\frac{-1}{2 \\pi R C \\tan \\phi} $$"
   ]
  },
  {
   "cell_type": "markdown",
   "metadata": {},
   "source": [
    "$$ f(-30^\\circ) = \\mathrm{ \\frac{-1}{2 \\pi (10 \\, \\Omega)(50 \\times 10^{-6} \\, F) \\tan (-30^\\circ)} = 551,33 \\, Hz }$$"
   ]
  },
  {
   "cell_type": "markdown",
   "metadata": {},
   "source": [
    "$$ f(-70^\\circ) = \\mathrm{ \\frac{-1}{2 \\pi (10 \\, \\Omega)(50 \\times 10^{-6} \\, F) \\tan (-70^\\circ)} = 115,86 \\, Hz }$$"
   ]
  },
  {
   "cell_type": "markdown",
   "metadata": {},
   "source": [
    "Para 30° de adelanto de la corriente con respecto a la tensión:          \n",
    "Se necesita una frecuencia de 551,33 Hz "
   ]
  },
  {
   "cell_type": "markdown",
   "metadata": {},
   "source": [
    "Para 70° de adelanto de la corriente con respecto a la tensión:            \n",
    "Se necesita una frecuencia de 115,86 Hz"
   ]
  },
  {
   "cell_type": "markdown",
   "metadata": {},
   "source": [
    "### Usando python (opcional)"
   ]
  },
  {
   "cell_type": "code",
   "execution_count": 28,
   "metadata": {},
   "outputs": [],
   "source": [
    "import math"
   ]
  },
  {
   "cell_type": "code",
   "execution_count": 29,
   "metadata": {},
   "outputs": [],
   "source": [
    "R = 10 # Ohm\n",
    "C = 50e-6 # F\n",
    "phi1 = 30*math.pi/180\n",
    "phi2 = 70*math.pi/180"
   ]
  },
  {
   "cell_type": "code",
   "execution_count": 30,
   "metadata": {},
   "outputs": [],
   "source": [
    "def frec(phi):\n",
    "   return -1/(2*math.pi*R*C*math.tan(-phi))"
   ]
  },
  {
   "cell_type": "code",
   "execution_count": 31,
   "metadata": {},
   "outputs": [
    {
     "name": "stdout",
     "output_type": "stream",
     "text": [
      "Freciencias:\n",
      "f(30°) = 551.33 Hz\n",
      "f(70°) = 115.86 Hz\n"
     ]
    }
   ],
   "source": [
    "print('Freciencias:')\n",
    "print('f(30°) = %.2f Hz'%frec(phi1))\n",
    "print('f(70°) = %.2f Hz'%frec(phi2))"
   ]
  },
  {
   "cell_type": "code",
   "execution_count": 32,
   "metadata": {},
   "outputs": [],
   "source": [
    "%reset -s -f"
   ]
  },
  {
   "cell_type": "markdown",
   "metadata": {},
   "source": [
    "## Problema 5\n",
    "Un elemento de circuito tiene una $i(t) = 2,5 \\cos (314 t - \\pi/6)$ y una $v(t) = 5 \\sin (314 t - \\pi/6)$.            \n",
    "Determinar la característica del elemento."
   ]
  },
  {
   "cell_type": "markdown",
   "metadata": {},
   "source": [
    "<img src=\"img/tp2e5.png\" alt=\"tp2e5.png\">"
   ]
  },
  {
   "cell_type": "markdown",
   "metadata": {},
   "source": [
    "### Solución"
   ]
  },
  {
   "cell_type": "markdown",
   "metadata": {},
   "source": [
    "$$ Z = \\frac{v}{i} = \\mathrm{ \\frac{5 \\, V \\angle -30^\\circ}{2,5 \\, A \\angle -30^\\circ} = 2 \\, \\Omega \\angle 0^\\circ } $$"
   ]
  },
  {
   "cell_type": "markdown",
   "metadata": {},
   "source": [
    "La corriente y el voltaje están en fase. El elemento es __resistivo__."
   ]
  },
  {
   "cell_type": "markdown",
   "metadata": {},
   "source": [
    "## Problema 6\n",
    "Un elemento de circuito tiene $i(t) = 13,45 \\sin (500 t - 53,4^\\circ)$ y $v(t) = 150 \\sin (500 t + 10^\\circ)$.          \n",
    "Determinar la característica del elemento."
   ]
  },
  {
   "cell_type": "markdown",
   "metadata": {},
   "source": [
    "<img src=\"img/tp2e5.png\" alt=\"tp2e5.png\">"
   ]
  },
  {
   "cell_type": "markdown",
   "metadata": {},
   "source": [
    "### Solución"
   ]
  },
  {
   "cell_type": "markdown",
   "metadata": {},
   "source": [
    "$$ Z = \\frac{v}{i} = \\mathrm{ \\frac{150 \\, V \\angle 10^\\circ}{13,45 \\, A \\angle -53,4^\\circ} = 11,15 \\, \\Omega \\angle 63,40^\\circ } $$"
   ]
  },
  {
   "cell_type": "markdown",
   "metadata": {},
   "source": [
    "El elemento es __resistivo-inductivo__."
   ]
  },
  {
   "cell_type": "markdown",
   "metadata": {},
   "source": [
    "## Problema 7\n",
    "Un circuito de 2 ramas en paralelo con $R = 10 \\, \\Omega$ y una $C = 100 \\, \\mu \\mathrm{F}$, está alimentado por una $v(t) = 150 \\cos (5000 t - \\pi/6)$.\n",
    "1. Calcular las corrientes de las ramas y la de entrada.\n",
    "2. Representar el diagrama fasorial de tensión y corrientes."
   ]
  },
  {
   "cell_type": "markdown",
   "metadata": {},
   "source": [
    "<img src=\"img/tp2e7.png\" alt=\"tp2e7.png\">"
   ]
  },
  {
   "cell_type": "markdown",
   "metadata": {},
   "source": [
    "### Solución\n",
    "Para hacer el análisis en el dominio de la frecuencia, primero se debe transformar el circuito en el dominio temporal."
   ]
  },
  {
   "cell_type": "markdown",
   "metadata": {},
   "source": [
    "Tensión rms\n",
    "$$ v_\\mathrm{rms} = \\mathrm{ \\frac{150}{\\sqrt{2}} \\, V \\angle -30^\\circ = 106,07 \\, V \\angle -30^\\circ } $$"
   ]
  },
  {
   "cell_type": "markdown",
   "metadata": {},
   "source": [
    "Impedancia del capacitor\n",
    "$$ Z_C = \\frac{1}{j \\omega C} = \\frac{1}{j (5000) (100 \\times 10^{-6})} = 2 \\, \\Omega \\angle -90^\\circ  $$"
   ]
  },
  {
   "cell_type": "markdown",
   "metadata": {},
   "source": [
    "Impedancia total:\n",
    "$$ Z_T = \\frac{Z_R \\cdot Z_C}{Z_R + Z_C} = 1,96 \\, \\Omega \\angle -78,69^\\circ $$"
   ]
  },
  {
   "cell_type": "markdown",
   "metadata": {},
   "source": [
    "Corrientes:\n",
    "$$ i_1 = \\frac{v_\\mathrm{rms}}{Z_T} = 54,08 \\, \\mathrm{A} \\angle 48,69^\\circ $$"
   ]
  },
  {
   "cell_type": "markdown",
   "metadata": {},
   "source": [
    "$$ i_2 = \\frac{v_\\mathrm{rms}}{Z_C} = 53,04 \\, \\mathrm{A} \\angle 60^\\circ $$"
   ]
  },
  {
   "cell_type": "markdown",
   "metadata": {},
   "source": [
    "$$ i_3 = \\frac{v_\\mathrm{rms}}{Z_R} = 10,61 \\, \\mathrm{A} \\angle -30^\\circ $$"
   ]
  },
  {
   "cell_type": "markdown",
   "metadata": {},
   "source": [
    "Diagrama fasorial\n",
    "<img src=\"img/tp2e7-2.png\" alt=\"tp2e7-2.png\">"
   ]
  },
  {
   "cell_type": "markdown",
   "metadata": {},
   "source": [
    "### Usando python (opcional)"
   ]
  },
  {
   "cell_type": "code",
   "execution_count": 33,
   "metadata": {},
   "outputs": [],
   "source": [
    "import math, cmath"
   ]
  },
  {
   "cell_type": "code",
   "execution_count": 34,
   "metadata": {},
   "outputs": [],
   "source": [
    "v_rms = cmath.rect( 150/math.sqrt(2), -math.pi/6 ) # V\n",
    "w = 5000\n",
    "C = 100e-6 # F\n",
    "Z_C = complex(0,-1/(w*C) )\n",
    "Z_R =10 # Ohm\n",
    "\n",
    "Z_T = (Z_R*Z_C)/(Z_R + Z_C)\n",
    "\n",
    "i1 = v_rms/Z_T\n",
    "i2 = v_rms/Z_C\n",
    "i3 = v_rms/Z_R\n",
    "\n",
    "v_R = i3*Z_R\n",
    "v_C = i2*Z_C"
   ]
  },
  {
   "cell_type": "code",
   "execution_count": 35,
   "metadata": {},
   "outputs": [],
   "source": [
    "i1pol = cmath.polar(i1)\n",
    "i2pol = cmath.polar(i2)\n",
    "i3pol = cmath.polar(i3)\n",
    "v_Rpol = cmath.polar(v_R)\n",
    "v_Cpol = cmath.polar(v_C)"
   ]
  },
  {
   "cell_type": "code",
   "execution_count": 36,
   "metadata": {},
   "outputs": [
    {
     "name": "stdout",
     "output_type": "stream",
     "text": [
      "Corrientes:\n",
      "i1 = (54.08 < 48.69°) A\n",
      "i2 = (53.03 < 60.00°) A\n",
      "i3 = (10.61 < -30.00°) A\n",
      "Tensiones:\n",
      "v_R = (106.07 < -30.00°) V\n",
      "v_C = (106.07 < -30.00°) V\n"
     ]
    }
   ],
   "source": [
    "print('Corrientes:')\n",
    "print('i1 = (%.2f < %.2f°) A'%(i1pol[0],i1pol[1]*180/math.pi))\n",
    "print('i2 = (%.2f < %.2f°) A'%(i2pol[0],i2pol[1]*180/math.pi))\n",
    "print('i3 = (%.2f < %.2f°) A'%(i3pol[0],i3pol[1]*180/math.pi))\n",
    "print('Tensiones:')\n",
    "print('v_R = (%.2f < %.2f°) V'%(v_Rpol[0],v_Rpol[1]*180/math.pi))\n",
    "print('v_C = (%.2f < %.2f°) V'%(v_Cpol[0],v_Cpol[1]*180/math.pi))"
   ]
  },
  {
   "cell_type": "code",
   "execution_count": 37,
   "metadata": {},
   "outputs": [],
   "source": [
    "%reset -s -f"
   ]
  },
  {
   "cell_type": "markdown",
   "metadata": {},
   "source": [
    "## Problema 8\n",
    "Dado el siguiente circuito:\n",
    "1. Hallar las intensidades de corriente que circulan por cada elemento.\n",
    "2. Realizar el diagrama fasorial de tensiones y corrientes."
   ]
  },
  {
   "cell_type": "markdown",
   "metadata": {},
   "source": [
    "<img src=\"img/tp2e8.png\" alt=\"tp2e8.png\">"
   ]
  },
  {
   "cell_type": "markdown",
   "metadata": {},
   "source": [
    "### Solución"
   ]
  },
  {
   "cell_type": "markdown",
   "metadata": {},
   "source": [
    "Calculamos la impedancia total\n",
    "$$ Z_T = Z_1 + Z_2 || Z_3 $$"
   ]
  },
  {
   "cell_type": "markdown",
   "metadata": {},
   "source": [
    "$$ Z_T = Z_1 + \\frac{Z_2 \\cdot Z_3}{Z_2 + Z_3} = 14,14 \\, \\Omega \\angle 8,13^\\circ $$"
   ]
  },
  {
   "cell_type": "markdown",
   "metadata": {},
   "source": [
    "Por ley de Ohm\n",
    "$$ i_1 = \\frac{U}{Z_T} = 7,07 \\, \\mathrm{A} \\angle -8,13^\\circ $$"
   ]
  },
  {
   "cell_type": "markdown",
   "metadata": {},
   "source": [
    "Caida de tensión en 1\n",
    "$$ U_1 = I_1 Z_1 = (70,71 \\, \\mathrm{V} \\angle -8,13^\\circ) $$"
   ]
  },
  {
   "cell_type": "markdown",
   "metadata": {},
   "source": [
    "Caida de tensión en AB\n",
    "$$ V_{AB} = U - U_1 = 31,62 \\, \\mathrm{V} \\angle 18,43^\\circ $$"
   ]
  },
  {
   "cell_type": "markdown",
   "metadata": {},
   "source": [
    "Corriente 2\n",
    "$$ i_2 = \\frac{V_{AB}}{Z_2} = 3,16 \\, \\mathrm{A} \\angle -71,57^\\circ $$"
   ]
  },
  {
   "cell_type": "markdown",
   "metadata": {},
   "source": [
    "Corriente 3\n",
    "$$ i_3 = \\frac{V_{AB}}{Z_3} = 6,32 \\, \\mathrm{A} \\angle 18,43^\\circ $$"
   ]
  },
  {
   "cell_type": "markdown",
   "metadata": {},
   "source": [
    "Voltajes:\n",
    "$$ v_1 = i_1 Z_1 = 70,71 \\, \\mathrm{V} \\angle -8,13^\\circ $$"
   ]
  },
  {
   "cell_type": "markdown",
   "metadata": {},
   "source": [
    "$$ v_2 = i_2 Z_2 = 31,62 \\, \\mathrm{V} \\angle 18,43^\\circ $$"
   ]
  },
  {
   "cell_type": "markdown",
   "metadata": {},
   "source": [
    "$$ v_3 = i_3 Z_3 = 31,62 \\, \\mathrm{V} \\angle 18,43^\\circ $$"
   ]
  },
  {
   "cell_type": "markdown",
   "metadata": {},
   "source": [
    "### Método 2"
   ]
  },
  {
   "cell_type": "markdown",
   "metadata": {},
   "source": [
    "Aplicamos LKV\n",
    "$$\\begin{array}{c}\n",
    "(Z_1 + Z_3) i_1 - (Z_3) i_2 = U \\\\\n",
    "-(Z_3) i_1 + (Z_2 + Z_3) i_2 = 0\n",
    "\\end{array}$$"
   ]
  },
  {
   "cell_type": "markdown",
   "metadata": {},
   "source": [
    "Reemplazando"
   ]
  },
  {
   "cell_type": "markdown",
   "metadata": {},
   "source": [
    "$$\\begin{array}{c}\n",
    "15 i_1 - 5 i_2 = 100 \\\\\n",
    "-5 i_1 + (5 + j10) i_2 = 0\n",
    "\\end{array}$$"
   ]
  },
  {
   "cell_type": "markdown",
   "metadata": {},
   "source": [
    "En forma matricial\n",
    "\n",
    "$$\\left[\n",
    "\\begin{array}{cc}\n",
    "15 & -5 \\\\\n",
    "-5 & 5 + 10j \\\\\n",
    "\\end{array}\n",
    "\\right]\n",
    "\\left[\n",
    "\\begin{array}{c}\n",
    "i_1 \\\\\n",
    "i_2 \\\\\n",
    "\\end{array}\n",
    "\\right]\n",
    "=\n",
    "\\left[\n",
    "\\begin{array}{c}\n",
    "100 \\\\\n",
    "0 \\\\\n",
    "\\end{array}\n",
    "\\right]\n",
    "$$"
   ]
  },
  {
   "cell_type": "markdown",
   "metadata": {},
   "source": [
    "Usando regla de Cramer"
   ]
  },
  {
   "cell_type": "markdown",
   "metadata": {},
   "source": [
    "$ \\Delta =\n",
    "\\begin{array}{|cc|}\n",
    "15 & -5 \\\\\n",
    "-5 & 5 + 10j\n",
    "\\end{array} = 50 + 150j = 158,11 \\angle 71,57^\\circ$"
   ]
  },
  {
   "cell_type": "markdown",
   "metadata": {},
   "source": [
    "$ \\Delta_1 = \n",
    "\\begin{array}{|cc|}\n",
    "100 & -5 \\\\\n",
    "0 & 5 + 10j\n",
    "\\end{array} = 500 + 1000j = 1118,03 \\angle 63,43^\\circ$"
   ]
  },
  {
   "cell_type": "markdown",
   "metadata": {},
   "source": [
    "$ \\Delta_2 =\n",
    "\\begin{array}{|cc|}\n",
    "15 & 100 \\\\\n",
    "-5 & 0\n",
    "\\end{array} = 500 = 500 \\angle 0^\\circ$"
   ]
  },
  {
   "cell_type": "markdown",
   "metadata": {},
   "source": [
    "Corrientes:\n",
    "$$ i_1 = \\frac{\\Delta_1}{\\Delta} = 7,07 \\, \\mathrm{ A} \\angle - 8,13^\\circ $$"
   ]
  },
  {
   "cell_type": "markdown",
   "metadata": {},
   "source": [
    "$$  i_2 = \\frac{\\Delta_2}{\\Delta} = 3,16 \\, \\mathrm{A} \\angle -71,57^\\circ $$"
   ]
  },
  {
   "cell_type": "markdown",
   "metadata": {},
   "source": [
    "$$ i_3 = I_1 - I_2 = 6 + 2j \\, \\mathrm{A = 6,32 \\, A} \\angle 18,43^\\circ $$"
   ]
  },
  {
   "cell_type": "markdown",
   "metadata": {},
   "source": [
    "Voltajes:\n",
    "$$ v_1 = i_1 Z_1 = 70,71 \\, \\mathrm{V} \\angle -8,13^\\circ $$"
   ]
  },
  {
   "cell_type": "markdown",
   "metadata": {},
   "source": [
    "$$ v_2 = i_2 Z_2 = 31,62 \\, \\mathrm{V} \\angle 18,43^\\circ $$"
   ]
  },
  {
   "cell_type": "markdown",
   "metadata": {},
   "source": [
    "$$ v_3 = i_3 Z_3 = 31,62 \\, \\mathrm{V} \\angle 18,43^\\circ $$"
   ]
  },
  {
   "cell_type": "markdown",
   "metadata": {},
   "source": [
    "Diagrama fasorial:\n",
    "<img src=\"img/tp2e8-2.png\" alt=\"tp2e8-2.png\">"
   ]
  },
  {
   "cell_type": "markdown",
   "metadata": {},
   "source": [
    "### Usando python (opcional)"
   ]
  },
  {
   "cell_type": "code",
   "execution_count": 38,
   "metadata": {},
   "outputs": [],
   "source": [
    "import numpy as np\n",
    "import math, cmath"
   ]
  },
  {
   "cell_type": "code",
   "execution_count": 39,
   "metadata": {},
   "outputs": [
    {
     "name": "stdout",
     "output_type": "stream",
     "text": [
      "Corrientes (coordenadas rectangulares):\n",
      "I1 = 7.00-1.00j A\n",
      "I2 = 1.00-3.00j A\n",
      "I3 = 6.00+2.00j A\n"
     ]
    }
   ],
   "source": [
    "M = np.array([ [15 , -5],[-5 , 5+10j] ])\n",
    "M1 = np.array([ [100 , -5],[0 , 5+10j] ])\n",
    "M2 = np.array([ [15 , 100],[-5 ,0 ] ])\n",
    "Delta = np.linalg.det(M)\n",
    "Delta1 = np.linalg.det(M1)\n",
    "Delta2 = np.linalg.det(M2)\n",
    "I1 = Delta1/Delta\n",
    "I2 = Delta2/Delta\n",
    "I3 = I1 - I2\n",
    "\n",
    "print('Corrientes (coordenadas rectangulares):')\n",
    "print('I1 = {:.2f} A'.format(I1))\n",
    "print('I2 = {:.2f} A'.format(I2))\n",
    "print('I3 = {:.2f} A'.format(I3))"
   ]
  },
  {
   "cell_type": "code",
   "execution_count": 40,
   "metadata": {},
   "outputs": [
    {
     "name": "stdout",
     "output_type": "stream",
     "text": [
      "Corrientes (coordenadas polares):\n",
      "I1 = (7.07 < -8.13°) A\n",
      "I2 = (3.16 < -71.57°) A\n",
      "I3 = (6.32 < 18.43°) A\n"
     ]
    }
   ],
   "source": [
    "# Conversión a coordenadas polares (radianes)\n",
    "I1_pol = cmath.polar(I1)\n",
    "I2_pol = cmath.polar(I2)\n",
    "I3_pol = cmath.polar(I3)\n",
    "\n",
    "print('Corrientes (coordenadas polares):')\n",
    "print('I1 = (%.2f < %.2f°) A'%(I1_pol[0] , np.rad2deg(I1_pol[1]) )  )\n",
    "print('I2 = (%.2f < %.2f°) A'%(I2_pol[0] , np.rad2deg(I2_pol[1]) )  )\n",
    "print('I3 = (%.2f < %.2f°) A'%(I3_pol[0] , np.rad2deg(I3_pol[1]) )  )"
   ]
  },
  {
   "cell_type": "code",
   "execution_count": 41,
   "metadata": {},
   "outputs": [],
   "source": [
    "%reset -s -f"
   ]
  },
  {
   "cell_type": "markdown",
   "metadata": {},
   "source": [
    "## Problema 9\n",
    "El valor eficaz de la corriente del circuito de la figura es de 5 A.\n",
    "* Cuál sera el valor leído en el voltímetro se se conecta:        \n",
    " a. en la entrada del circuito (puntos A y B)        \n",
    " b. en la resistencia       \n",
    " c. en la reactancia inductiva     \n",
    " d. en la reactancia capacitiva     \n",
    " \n",
    "* Representar el diagrama fasorial con todas las tensiones presentes en este circuito."
   ]
  },
  {
   "cell_type": "markdown",
   "metadata": {},
   "source": [
    "<img src=\"img/tp2e9.png\" alt=\"tp2e9.png\">"
   ]
  },
  {
   "cell_type": "markdown",
   "metadata": {},
   "source": [
    "### Solución"
   ]
  },
  {
   "cell_type": "markdown",
   "metadata": {},
   "source": [
    "a)\n",
    "$$ Z_T = R + X_L + X_C $$"
   ]
  },
  {
   "cell_type": "markdown",
   "metadata": {},
   "source": [
    "$$ Z_T = 2 \\, \\Omega + j4 \\, \\Omega - j6 \\, \\Omega $$"
   ]
  },
  {
   "cell_type": "markdown",
   "metadata": {},
   "source": [
    "$$ Z_T = 2 - j2 \\, \\Omega $$"
   ]
  },
  {
   "cell_type": "markdown",
   "metadata": {},
   "source": [
    "$$ V_{AB}= I Z_T  = 10 - j10 \\, \\mathrm{V} = 14,14 \\angle -45^\\circ \\, \\mathrm{V}$$"
   ]
  },
  {
   "cell_type": "markdown",
   "metadata": {},
   "source": [
    "b)\n",
    "$$ V_R = I R = 10 \\angle 0^\\circ \\, \\mathrm{V} $$"
   ]
  },
  {
   "cell_type": "markdown",
   "metadata": {},
   "source": [
    "c)\n",
    "$$ V_L = I X_L = 20 \\angle 90^\\circ \\, \\mathrm{V} $$"
   ]
  },
  {
   "cell_type": "markdown",
   "metadata": {},
   "source": [
    "d)\n",
    "$$ V_C = I X_C = 30 \\angle -90^\\circ \\, \\mathrm{V} $$"
   ]
  },
  {
   "cell_type": "markdown",
   "metadata": {},
   "source": [
    "Diagrama fasorial:\n",
    "<img src=\"img/tp2e9-2.png\" alt=\"tp2e9-2.png\">"
   ]
  },
  {
   "cell_type": "code",
   "execution_count": 42,
   "metadata": {},
   "outputs": [],
   "source": [
    "import cmath, math"
   ]
  },
  {
   "cell_type": "code",
   "execution_count": 43,
   "metadata": {},
   "outputs": [],
   "source": [
    "# Datos:\n",
    "i = 5 # A\n",
    "R = 2 # Ohm\n",
    "X_L = 4j # Ohm\n",
    "X_C = -6j # Ohm\n",
    "\n",
    "Z_T = R + X_L + X_C\n",
    "\n",
    "# ítem a)\n",
    "v_AB = i*Z_T\n",
    "# ítem b)\n",
    "v_R = i*R\n",
    "# ítem c)\n",
    "v_L = i*X_L\n",
    "# ítem d)\n",
    "v_C = i*X_C"
   ]
  },
  {
   "cell_type": "code",
   "execution_count": 44,
   "metadata": {},
   "outputs": [],
   "source": [
    "v_ABpol = cmath.polar(v_AB)\n",
    "v_Rpol = cmath.polar(v_R)\n",
    "v_Lpol = cmath.polar(v_L)\n",
    "v_Cpol = cmath.polar(v_C)"
   ]
  },
  {
   "cell_type": "code",
   "execution_count": 45,
   "metadata": {},
   "outputs": [
    {
     "name": "stdout",
     "output_type": "stream",
     "text": [
      "Tensiones:\n",
      "v_AB = (14.14 < -45.00°) V\n",
      "v_R = (10.00 < 0.00°) V\n",
      "v_L = (20.00 < 90.00°) V\n",
      "v_C = (30.00 < -90.00°) V\n"
     ]
    }
   ],
   "source": [
    "print('Tensiones:')\n",
    "print('v_AB = (%.2f < %.2f°) V'%(v_ABpol[0], math.degrees( v_ABpol[1] ) ))\n",
    "print('v_R = (%.2f < %.2f°) V'%(v_Rpol[0], math.degrees( v_Rpol[1] ) ))\n",
    "print('v_L = (%.2f < %.2f°) V'%(v_Lpol[0], math.degrees( v_Lpol[1] ) ))\n",
    "print('v_C = (%.2f < %.2f°) V'%(v_Cpol[0], math.degrees( v_Cpol[1] ) ))"
   ]
  },
  {
   "cell_type": "code",
   "execution_count": 46,
   "metadata": {},
   "outputs": [],
   "source": [
    "%reset -s -f"
   ]
  },
  {
   "cell_type": "code",
   "execution_count": 47,
   "metadata": {},
   "outputs": [
    {
     "data": {
      "text/html": [
       "/* This template is inspired in the one used by Aeropython */\n",
       "\n",
       "/* <link href='http://fonts.googleapis.com/css?family=Source+Sans+Pro|Josefin+Sans:400,700,400italic|Ubuntu+Condensed' rel='stylesheet' type='text/css'>\n",
       "\n",
       "El estilo se ha aplicado =)\n",
       "\n",
       "<style>\n",
       "\n",
       "\n",
       "\n",
       "#notebook_panel { /* main background */\n",
       "    background: #f7f7f7;\n",
       "}\n",
       "\n",
       "div.cell { /* set cell width */\n",
       "    width: 900px;\n",
       "}\n",
       "\n",
       "div #notebook { /* centre the content */\n",
       "    background: #fff; /* white background for content */\n",
       "    width: 1200px;\n",
       "    margin: auto;\n",
       "    padding-left: 0em;\n",
       "}\n",
       "\n",
       "#notebook li { /* More space between bullet points */\n",
       "    margin-top:0.7em;\n",
       "}\n",
       "\n",
       "/* draw border around running cells */\n",
       "div.cell.border-box-sizing.code_cell.running { \n",
       "    border: 1px solid #111;\n",
       "}\n",
       "\n",
       "/* Put a solid color box around each cell and its output, visually linking them*/\n",
       "div.cell.code_cell {\n",
       "    font-family: 'Source Sans Pro', sans-serif;\n",
       "    background-color: rgb(256,256,256);\n",
       "    font-size: 110%;\n",
       "    border-radius: 0px; \n",
       "    padding: 0.5em;\n",
       "    margin-left:1em;\n",
       "    margin-top: 1em;\n",
       "}\n",
       "\n",
       "div.text_cell_render{\n",
       "    font-family: 'DejaVu Serif', serif;\n",
       "    line-height: 145%;\n",
       "    font-size: 125%;\n",
       "    font-weight: 500;\n",
       "    width:900px;\n",
       "    margin-left:auto;\n",
       "    margin-right:auto;\n",
       "}\n",
       "\n",
       "\n",
       "/* Formatting for header cells */\n",
       ".text_cell_render h1, .text_cell_render h2, .text_cell_render h3,\n",
       ".text_cell_render h4, .text_cell_render h5 {\n",
       "    font-family: 'Ubuntu Condensed', sans-serif;\n",
       "}\n",
       "/*\n",
       ".text_cell_render h1 {\n",
       "    font-family: Flux, 'Ubuntu Condensed', serif;\n",
       "    font-style:regular;\n",
       "    font-weight: 400;    \n",
       "    font-size: 30pt;\n",
       "    text-align: center;\n",
       "    line-height: 100%;\n",
       "    color: #335082;\n",
       "    margin-bottom: 0.5em;\n",
       "    margin-top: 0.5em;\n",
       "    display: block;\n",
       "}\n",
       "*/\n",
       ".text_cell_render h1 {\n",
       "    font-weight: 600;\n",
       "    font-size: 35pt;\n",
       "    line-height: 100%;\n",
       "    color: #000000;\n",
       "    margin-bottom: 0.1em;\n",
       "    margin-top: 0.3em;\n",
       "    display: block;\n",
       "}\n",
       "\n",
       ".text_cell_render h2 {\n",
       "    margin-top:16px;\n",
       "    font-size: 27pt;\n",
       "    font-weight: 550;\n",
       "    margin-bottom: 0.1em;\n",
       "    margin-top: 0.3em;\n",
       "    font-style: regular;\n",
       "    color: #2c6391;\n",
       "}\t\n",
       "\n",
       ".text_cell_render h3 {\n",
       "    font-size: 20pt;\n",
       "    font-weight: 550\n",
       "    text-align: left;\n",
       "    margin-bottom: 0.1em;\n",
       "    margin-top: 0.3em;\n",
       "    font-style: regular;\n",
       "    color:  #387eb8;\n",
       "}\n",
       "\n",
       ".text_cell_render h4 {    /*Use this for captions*/\n",
       "    font-size: 18pt;\n",
       "    font-weight: 450\n",
       "    text-align: left;\n",
       "    margin-bottom: 0.1em;\n",
       "    margin-top: 0.3em;\n",
       "    font-style: regular;\n",
       "    color:  #5797cc;\n",
       "}\n",
       "\n",
       ".text_cell_render h5 {  /*Use this for small titles*/\n",
       "    font-size: 18pt;\n",
       "    font-weight: 550;\n",
       "    color: rgb(163,0,0);\n",
       "    font-style: italic;\n",
       "    margin-bottom: .1em;\n",
       "    margin-top: 0.8em;\n",
       "    display: block;\n",
       "    color:  #b21c0d;\n",
       "}\n",
       "\n",
       ".text_cell_render h6 { /*use this for copyright note*/\n",
       "    font-family: 'Ubuntu Condensed', sans-serif;\n",
       "    font-weight: 300;\n",
       "    font-size: 14pt;\n",
       "    line-height: 100%;\n",
       "    color: #252525;\n",
       "    text-align: right;\n",
       "    margin-bottom: 1px;\n",
       "    margin-top: 1px;\n",
       "}\n",
       "\n",
       ".CodeMirror{\n",
       "        font-family: 'Duru Sans', sans-serif;\n",
       "        font-size: 100%;\n",
       "}\n",
       "\n",
       "</style>\n",
       "<script>\n",
       "    MathJax.Hub.Config({\n",
       "                        TeX: {\n",
       "                           extensions: [\"AMSmath.js\"],\n",
       "                           equationNumbers: { autoNumber: \"AMS\", useLabelIds: true}\n",
       "                           },\n",
       "                tex2jax: {\n",
       "                    inlineMath: [ ['$','$'], [\"\\\\(\",\"\\\\)\"] ],\n",
       "                    displayMath: [ ['$$','$$'], [\"\\\\[\",\"\\\\]\"] ]\n",
       "                },\n",
       "                displayAlign: 'center', // Change this to 'center' to center equations.\n",
       "                \"HTML-CSS\": {\n",
       "                    styles: {'.MathJax_Display': {\"margin\": 4}}\n",
       "                }\n",
       "        });\n",
       "</script>\n"
      ],
      "text/plain": [
       "<IPython.core.display.HTML object>"
      ]
     },
     "execution_count": 47,
     "metadata": {},
     "output_type": "execute_result"
    }
   ],
   "source": [
    "# Esta celda da el estilo al notebook\n",
    "from IPython.core.display import HTML\n",
    "css_file = 'styles/aeropython.css'\n",
    "HTML(open(css_file, \"r\").read())"
   ]
  }
 ],
 "metadata": {
  "kernelspec": {
   "display_name": "Python 3",
   "language": "python",
   "name": "python3"
  },
  "language_info": {
   "codemirror_mode": {
    "name": "ipython",
    "version": 3
   },
   "file_extension": ".py",
   "mimetype": "text/x-python",
   "name": "python",
   "nbconvert_exporter": "python",
   "pygments_lexer": "ipython3",
   "version": "3.7.6"
  }
 },
 "nbformat": 4,
 "nbformat_minor": 4
}
