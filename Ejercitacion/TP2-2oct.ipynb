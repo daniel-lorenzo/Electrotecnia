{
 "cells": [
  {
   "cell_type": "markdown",
   "metadata": {},
   "source": [
    "## Problema 3\n",
    "Un circuito serie con $R = 25 \\, \\Omega$ y $L = 0,01 \\, \\mathrm{Hy}$ se utiliza con frecuencias 50, 100, 500 y 1000 Hz. Calcular las impedancias para cada caso y representar."
   ]
  },
  {
   "cell_type": "markdown",
   "metadata": {},
   "source": [
    "### Solución\n",
    "<div class=\"alert alert-info\">La <strong>impedancia Z</strong> \n",
    " de un circuito es la razón entre la tensión fasorial V y la corriente fasorial I, medida en ohms $(\\Omega)$.\n",
    "    </div>"
   ]
  },
  {
   "cell_type": "markdown",
   "metadata": {},
   "source": [
    "Con $\\omega = 50$\n",
    "$$ Z = R + j \\omega L $$"
   ]
  },
  {
   "cell_type": "markdown",
   "metadata": {},
   "source": [
    "$$ Z = 25 + j 50 \\, (0,01)  \\, \\Omega $$"
   ]
  },
  {
   "cell_type": "markdown",
   "metadata": {},
   "source": [
    "$$ Z = 25 + j0,5 \\, \\Omega = 25,00 \\, \\Omega \\angle 1,15^\\circ$$"
   ]
  },
  {
   "cell_type": "markdown",
   "metadata": {},
   "source": [
    "<img src=\"img/tp2e3-1.png\" alt=\"tp2e3-1.png\">"
   ]
  },
  {
   "cell_type": "markdown",
   "metadata": {},
   "source": [
    "Con $\\omega = 100$"
   ]
  },
  {
   "cell_type": "markdown",
   "metadata": {},
   "source": [
    "$$ Z = R + j \\omega L $$"
   ]
  },
  {
   "cell_type": "markdown",
   "metadata": {},
   "source": [
    "$$ Z = 25 + j100 \\, (0,01) \\, \\Omega $$"
   ]
  },
  {
   "cell_type": "markdown",
   "metadata": {},
   "source": [
    "$$ Z = 25 + j1 \\, \\Omega = 25,02 \\, \\Omega \\angle 2,29^\\circ $$"
   ]
  },
  {
   "cell_type": "markdown",
   "metadata": {},
   "source": [
    "<img src=\"img/tp2e3-2.png\" alt=\"tp2e3-2.png\">"
   ]
  },
  {
   "cell_type": "markdown",
   "metadata": {},
   "source": [
    "Con $\\omega = 500$"
   ]
  },
  {
   "cell_type": "markdown",
   "metadata": {},
   "source": [
    "$$ Z = R + j \\omega L $$"
   ]
  },
  {
   "cell_type": "markdown",
   "metadata": {},
   "source": [
    "$$ Z = 25 + j 500 \\, (0,01) \\, \\Omega $$"
   ]
  },
  {
   "cell_type": "markdown",
   "metadata": {},
   "source": [
    "$$ Z = 25 + j5 \\, \\Omega = 25,5 \\, \\Omega \\angle 11,31^\\circ $$"
   ]
  },
  {
   "cell_type": "markdown",
   "metadata": {},
   "source": [
    "<img src=\"img/tp2e3-3.png\" alt=\"tp2e3-3.png\">"
   ]
  },
  {
   "cell_type": "markdown",
   "metadata": {},
   "source": [
    "Con $\\omega = 1000$"
   ]
  },
  {
   "cell_type": "markdown",
   "metadata": {},
   "source": [
    "$$ Z = R + j \\omega L $$"
   ]
  },
  {
   "cell_type": "markdown",
   "metadata": {},
   "source": [
    "$$ Z = 25 + j1000 \\, (0,01) \\, \\Omega $$"
   ]
  },
  {
   "cell_type": "markdown",
   "metadata": {},
   "source": [
    "$$ Z = 25 + j10 \\, \\Omega = 26,93 \\, \\Omega \\angle 21,80^\\circ $$"
   ]
  },
  {
   "cell_type": "markdown",
   "metadata": {},
   "source": [
    "<img src=\"img/tp2e3-4.png\" alt=\"tp2e3-4.png\">"
   ]
  },
  {
   "cell_type": "markdown",
   "metadata": {},
   "source": [
    "## Problema 4\n",
    "A un circuito serie con $R = 10 \\, \\Omega$ y $C = 50 \\, \\mu \\mathrm{F}$ se le aplica una tensión cuya frecuencia es tal que la corriente adelanta $30^\\circ$ respecto de la tensión.          \n",
    "¿A qué frecuencia la corriente estaría adelanta $70^\\circ$?"
   ]
  },
  {
   "cell_type": "markdown",
   "metadata": {},
   "source": [
    "### Solución"
   ]
  },
  {
   "cell_type": "markdown",
   "metadata": {},
   "source": [
    "En nuetro caso solo contamos con un capacitor y una resistencia, entonces"
   ]
  },
  {
   "cell_type": "markdown",
   "metadata": {},
   "source": [
    "$$ \\tan \\phi = \\frac{-Z_C}{R}  $$"
   ]
  },
  {
   "cell_type": "markdown",
   "metadata": {},
   "source": [
    "$$ R \\tan \\phi = \\frac{-1}{\\omega C}  $$"
   ]
  },
  {
   "cell_type": "markdown",
   "metadata": {},
   "source": [
    "$$ \\omega = \\frac{-1}{RC \\tan \\phi} $$"
   ]
  },
  {
   "cell_type": "markdown",
   "metadata": {},
   "source": [
    "$$ f = \\frac{-1}{2 \\pi R C \\tan \\phi} $$"
   ]
  },
  {
   "cell_type": "markdown",
   "metadata": {},
   "source": [
    "$$ f(-30^\\circ) = \\mathrm{ \\frac{-1}{2 \\pi (10 \\, \\Omega)(50 \\times 10^{-6} \\, F) \\tan (-30^\\circ)} = 551,33 \\, Hz }$$"
   ]
  },
  {
   "cell_type": "markdown",
   "metadata": {},
   "source": [
    "$$ f(-70^\\circ) = \\mathrm{ \\frac{-1}{2 \\pi (10 \\, \\Omega)(50 \\times 10^{-6} \\, F) \\tan (-70^\\circ)} = 115,86 \\, Hz }$$"
   ]
  },
  {
   "cell_type": "code",
   "execution_count": 31,
   "metadata": {},
   "outputs": [],
   "source": [
    "# Definimos la función\n",
    "function out = f(ang)\n",
    "R = 10 ; # Ohm\n",
    "C = 50e-6 ; # F\n",
    "out = -1/(2*pi*R*C*tan(-ang)) ;\n",
    "endfunction"
   ]
  },
  {
   "cell_type": "code",
   "execution_count": 32,
   "metadata": {},
   "outputs": [
    {
     "name": "stdout",
     "output_type": "stream",
     "text": [
      "ans =  551.33\n",
      "ans =  115.86\n"
     ]
    }
   ],
   "source": [
    "# Calculamos\n",
    "phi1 = 30*pi/180 ;\n",
    "phi2 = 70*pi/180 ;\n",
    "\n",
    "f(phi1)\n",
    "f(phi2)"
   ]
  },
  {
   "cell_type": "code",
   "execution_count": 24,
   "metadata": {},
   "outputs": [],
   "source": [
    "%%python\n",
    "import math"
   ]
  },
  {
   "cell_type": "code",
   "execution_count": 41,
   "metadata": {},
   "outputs": [],
   "source": [
    "%%python\n",
    "R = 10 # Ohm\n",
    "C = 50e-6 # F\n",
    "phi1 = 30*math.pi/180\n",
    "phi2 = 70*math.pi/180"
   ]
  },
  {
   "cell_type": "code",
   "execution_count": 42,
   "metadata": {},
   "outputs": [],
   "source": [
    "%%python\n",
    "def frec(phi):\n",
    "   return -1/(2*math.pi*R*C*math.tan(-phi))"
   ]
  },
  {
   "cell_type": "code",
   "execution_count": 43,
   "metadata": {},
   "outputs": [
    {
     "name": "stdout",
     "output_type": "stream",
     "text": [
      "f(30°) = 551.33 Hz\n",
      "f(70°) = 115.86 Hz\n"
     ]
    }
   ],
   "source": [
    "%%python\n",
    "print('f(30°) = %.2f Hz'%frec(phi1))\n",
    "print('f(70°) = %.2f Hz'%frec(phi2))"
   ]
  },
  {
   "cell_type": "markdown",
   "metadata": {},
   "source": [
    "Para 30° de adelanto de la corriente con respecto a la tensión:          \n",
    "Se necesita una frecuencia de 551,33 Hz "
   ]
  },
  {
   "cell_type": "markdown",
   "metadata": {},
   "source": [
    "Para 70° de adelanto de la corriente con respecto a la tensión:            \n",
    "Se necesita una frecuencia de 115,86 Hz"
   ]
  },
  {
   "cell_type": "markdown",
   "metadata": {},
   "source": [
    "## Problema 5\n",
    "Un elemento de circuito tiene una $i(t) = 2,5 \\cos (314 t - \\pi/6)$ y una $v(t) = 5 \\sin (314 t - \\pi/6)$.            \n",
    "Determinar la característica del elemento."
   ]
  },
  {
   "cell_type": "markdown",
   "metadata": {},
   "source": [
    "<img src=\"img/tp2e5.png\" alt=\"tp2e5.png\">"
   ]
  },
  {
   "cell_type": "markdown",
   "metadata": {},
   "source": [
    "### Solución"
   ]
  },
  {
   "cell_type": "markdown",
   "metadata": {},
   "source": [
    "$$ Z = \\frac{v}{i} = \\mathrm{ \\frac{5 \\, V \\angle -30^\\circ}{2,5 \\, A \\angle -30^\\circ} = 2 \\, \\Omega \\angle 0^\\circ } $$"
   ]
  },
  {
   "cell_type": "markdown",
   "metadata": {},
   "source": [
    "La corriente y el voltaje están en fase. El elemento es __resistivo__."
   ]
  },
  {
   "cell_type": "markdown",
   "metadata": {},
   "source": [
    "## Problema 6\n",
    "Un elemento de circuito tiene $i(t) = 13,45 \\sin (500 t - 53,4^\\circ)$ y $v(t) = 150 \\sin (500 t + 10^\\circ)$.          \n",
    "Determinar la característica del elemento."
   ]
  },
  {
   "cell_type": "markdown",
   "metadata": {},
   "source": [
    "<img src=\"img/tp2e5.png\" alt=\"tp2e5.png\">"
   ]
  },
  {
   "cell_type": "markdown",
   "metadata": {},
   "source": [
    "### Solución"
   ]
  },
  {
   "cell_type": "markdown",
   "metadata": {},
   "source": [
    "$$ Z = \\frac{v}{i} = \\mathrm{ \\frac{150 \\, V \\angle 10^\\circ}{13,45 \\, A \\angle -53,4^\\circ} = 11,15 \\, \\Omega \\angle 63,40^\\circ } $$"
   ]
  },
  {
   "cell_type": "markdown",
   "metadata": {},
   "source": [
    "El elemento es __resistivo-inductivo__."
   ]
  },
  {
   "cell_type": "markdown",
   "metadata": {},
   "source": [
    "## Problema 7\n",
    "Un circuito de 2 ramas en paralelo con $R = 10 \\, \\Omega$ y una $C = 100 \\, \\mu \\mathrm{F}$, está alimentado por una $v(t) = 150 \\cos (5000 t - \\pi/6)$.\n",
    "1. Calcular las corrientes de las ramas y la de entrada.\n",
    "2. Representar el diagrama fasorial de tensión y corrientes."
   ]
  },
  {
   "cell_type": "markdown",
   "metadata": {},
   "source": [
    "<img src=\"img/tp2e7.png\" alt=\"tp2e7.png\">"
   ]
  },
  {
   "cell_type": "markdown",
   "metadata": {},
   "source": [
    "### Solución\n",
    "Para hacer el análisis en el dominio de la frecuencia, primero se debe transformar el circuito en el dominio temporal."
   ]
  },
  {
   "cell_type": "markdown",
   "metadata": {},
   "source": [
    "$$ v_\\mathrm{rms} = \\mathrm{ \\frac{150}{\\sqrt{2}} \\, V \\angle -30^\\circ = 106,07 \\, V \\angle -30^\\circ } $$"
   ]
  },
  {
   "cell_type": "markdown",
   "metadata": {},
   "source": [
    "$$ Z_C = \\frac{1}{j \\omega C} = \\frac{1}{j (5000) (100 \\times 10^{-6})} = 2 \\, \\Omega \\angle -90^\\circ  $$"
   ]
  },
  {
   "cell_type": "markdown",
   "metadata": {},
   "source": [
    "$$ Z_T = \\frac{Z_R \\cdot Z_C}{Z_R + Z_C} = 1,96 \\, \\Omega \\angle -78,69^\\circ $$"
   ]
  },
  {
   "cell_type": "markdown",
   "metadata": {},
   "source": [
    "$$ i_1 = \\frac{v_\\mathrm{rms}}{Z_T} = 54,08 \\, \\mathrm{A} \\angle 48,69^\\circ $$"
   ]
  },
  {
   "cell_type": "markdown",
   "metadata": {},
   "source": [
    "$$ i_2 = \\frac{v_\\mathrm{rms}}{Z_C} = 53,04 \\, \\mathrm{A} \\angle 60^\\circ $$"
   ]
  },
  {
   "cell_type": "markdown",
   "metadata": {},
   "source": [
    "$$ i_3 = \\frac{v_\\mathrm{rms}}{Z_R} = 10,61 \\, \\mathrm{A} \\angle -30^\\circ $$"
   ]
  },
  {
   "cell_type": "markdown",
   "metadata": {},
   "source": [
    "Diagrama fasorial\n",
    "<img src=\"img/tp2e7-2.png\" alt=\"tp2e7-2.png\">"
   ]
  },
  {
   "cell_type": "code",
   "execution_count": 1,
   "metadata": {},
   "outputs": [],
   "source": [
    "%%python\n",
    "import math, cmath"
   ]
  },
  {
   "cell_type": "code",
   "execution_count": 15,
   "metadata": {},
   "outputs": [],
   "source": [
    "%%python\n",
    "v_rms = cmath.rect( 150/math.sqrt(2), -math.pi/6 ) # V\n",
    "w = 5000\n",
    "C = 100e-6 # F\n",
    "Z_C = complex(0,-1/(w*C) )\n",
    "Z_R =10 # Ohm\n",
    "\n",
    "Z_T = (Z_R*Z_C)/(Z_R + Z_C)\n",
    "\n",
    "i1 = v_rms/Z_T\n",
    "i2 = v_rms/Z_C\n",
    "i3 = v_rms/Z_R\n",
    "\n",
    "v_R = i3*Z_R\n",
    "v_C = i2*Z_C"
   ]
  },
  {
   "cell_type": "code",
   "execution_count": 17,
   "metadata": {},
   "outputs": [],
   "source": [
    "%%python\n",
    "i1pol = cmath.polar(i1)\n",
    "i2pol = cmath.polar(i2)\n",
    "i3pol = cmath.polar(i3)\n",
    "v_Rpol = cmath.polar(v_R)\n",
    "v_Cpol = cmath.polar(v_C)"
   ]
  },
  {
   "cell_type": "code",
   "execution_count": 18,
   "metadata": {},
   "outputs": [
    {
     "name": "stdout",
     "output_type": "stream",
     "text": [
      "Corrientes:\n",
      "i1 = (54.08 < 48.69°) A\n",
      "i2 = (53.03 < 60.00°) A\n",
      "i3 = (10.61 < -30.00°) A\n",
      "Tensiones:\n",
      "v_R = (106.07 < -30.00°) V\n",
      "v_C = (106.07 < -30.00°) V\n"
     ]
    }
   ],
   "source": [
    "%%python\n",
    "print('Corrientes:')\n",
    "print('i1 = (%.2f < %.2f°) A'%(i1pol[0],i1pol[1]*180/math.pi))\n",
    "print('i2 = (%.2f < %.2f°) A'%(i2pol[0],i2pol[1]*180/math.pi))\n",
    "print('i3 = (%.2f < %.2f°) A'%(i3pol[0],i3pol[1]*180/math.pi))\n",
    "print('Tensiones:')\n",
    "print('v_R = (%.2f < %.2f°) V'%(v_Rpol[0],v_Rpol[1]*180/math.pi))\n",
    "print('v_C = (%.2f < %.2f°) V'%(v_Cpol[0],v_Cpol[1]*180/math.pi))"
   ]
  },
  {
   "cell_type": "markdown",
   "metadata": {},
   "source": [
    "## Problema 8\n",
    "Dado el siguiente circuito:\n",
    "1. Hallar las intensidades de corriente que circulan por cada elemento.\n",
    "2. Realizar el diagrama fasorial de tensiones y corrientes."
   ]
  },
  {
   "cell_type": "markdown",
   "metadata": {},
   "source": [
    "<img src=\"img/tp2e8.png\" alt=\"tp2e8.png\">"
   ]
  },
  {
   "cell_type": "markdown",
   "metadata": {},
   "source": [
    "### Solución\n",
    "Aplicamos LKV"
   ]
  },
  {
   "cell_type": "markdown",
   "metadata": {},
   "source": [
    "$$\\begin{array}{c}\n",
    "(Z_1 + Z_3) i_1 - (Z_3) i_2 = U \\\\\n",
    "-(Z_3) i_1 + (Z_2 + Z_3) i_2 = 0\n",
    "\\end{array}$$"
   ]
  },
  {
   "cell_type": "markdown",
   "metadata": {},
   "source": [
    "Reemplazando"
   ]
  },
  {
   "cell_type": "markdown",
   "metadata": {},
   "source": [
    "$$\\begin{array}{c}\n",
    "15 i_1 - 5 i_2 = 100 \\\\\n",
    "-5 i_1 + (5 + j10) i_2 = 0\n",
    "\\end{array}$$"
   ]
  },
  {
   "cell_type": "markdown",
   "metadata": {},
   "source": [
    "En forma matricial\n",
    "$$\\left[\n",
    "\\begin{array}{cc}\n",
    "15 & -5 \\\\\n",
    "-5 & 5 + 10j\n",
    "\\end{array}\n",
    "\\right]\n",
    "\\left[\n",
    "\\begin{array}{c}\n",
    "i_1 \\\\\n",
    "i_2\n",
    "\\end{array}\n",
    "\\right]\n",
    "=\n",
    "\\left[\n",
    "\\begin{array}{c}\n",
    "100 \\\\\n",
    "0\n",
    "\\end{array}\n",
    "\\right]\n",
    "$$"
   ]
  },
  {
   "cell_type": "markdown",
   "metadata": {},
   "source": [
    "Usando regla de Cramer"
   ]
  },
  {
   "cell_type": "markdown",
   "metadata": {},
   "source": [
    "$ \\Delta =\n",
    "\\begin{array}{|cc|}\n",
    "15 & -5 \\\\\n",
    "-5 & 5 + 10j\n",
    "\\end{array} = 50 + 150j = 158,11 \\angle 71,57^\\circ$"
   ]
  },
  {
   "cell_type": "markdown",
   "metadata": {},
   "source": [
    "$ \\Delta_1 = \n",
    "\\begin{array}{|cc|}\n",
    "100 & -5 \\\\\n",
    "0 & 5 + 10j\n",
    "\\end{array} = 500 + 1000j = 1118,03 \\angle 63,43^\\circ$"
   ]
  },
  {
   "cell_type": "markdown",
   "metadata": {},
   "source": [
    "$ \\Delta_2 =\n",
    "\\begin{array}{|cc|}\n",
    "15 & 100 \\\\\n",
    "-5 & 0\n",
    "\\end{array} = 500 = 500 \\angle 0^\\circ$"
   ]
  },
  {
   "cell_type": "markdown",
   "metadata": {},
   "source": [
    "Corrientes:\n",
    "$$ i_1 = \\frac{\\Delta_1}{\\Delta} = 7,07 \\, \\mathrm{ A} \\angle - 8,13^\\circ $$"
   ]
  },
  {
   "cell_type": "markdown",
   "metadata": {},
   "source": [
    "$$  i_2 = \\frac{\\Delta_2}{\\Delta} = 3,16 \\, \\mathrm{A} \\angle -71,57^\\circ $$"
   ]
  },
  {
   "cell_type": "markdown",
   "metadata": {},
   "source": [
    "$$ i_3 = I_1 - I_2 = 6 + 2j \\, \\mathrm{A = 6,32 \\, A} \\angle 18,43^\\circ $$"
   ]
  },
  {
   "cell_type": "markdown",
   "metadata": {},
   "source": [
    "Voltaje:\n",
    "$$ v_1 = i_1 Z_1 = 70,71 \\, \\mathrm{V} \\angle -8,13^\\circ $$"
   ]
  },
  {
   "cell_type": "markdown",
   "metadata": {},
   "source": [
    "$$ v_2 = i_2 Z_2 = 31,62 \\, \\mathrm{V} \\angle 18,43^\\circ $$"
   ]
  },
  {
   "cell_type": "markdown",
   "metadata": {},
   "source": [
    "$$ v_3 = i_3 Z_3 = 31,62 \\, \\mathrm{V} \\angle 18,43^\\circ $$"
   ]
  },
  {
   "cell_type": "markdown",
   "metadata": {},
   "source": [
    "Diagrama fasorial:\n",
    "<img src=\"img/tp2e8-2.png\" alt=\"tp2e8-2.png\">"
   ]
  },
  {
   "cell_type": "markdown",
   "metadata": {},
   "source": [
    "### Usando octave"
   ]
  },
  {
   "cell_type": "code",
   "execution_count": 10,
   "metadata": {},
   "outputs": [
    {
     "name": "stdout",
     "output_type": "stream",
     "text": [
      "Delta =   50 + 150i\n",
      "Delta1 =   500 + 1000i\n",
      "Delta2 =  500.00\n"
     ]
    }
   ],
   "source": [
    "# Usando octave:\n",
    "M = [15  -5\n",
    "          -5   5+10i];\n",
    "M1 = [100  -5\n",
    "            0     5+10i];\n",
    "M2 = [15   100\n",
    "           -5      0];\n",
    "           \n",
    "Delta = det(M)            \n",
    "Delta1 = det(M1)           \n",
    "Delta2 = det(M2)"
   ]
  },
  {
   "cell_type": "code",
   "execution_count": 11,
   "metadata": {},
   "outputs": [
    {
     "name": "stdout",
     "output_type": "stream",
     "text": [
      "I1 =  7.0000 - 1.0000i\n",
      "I2 =  1.00000 - 3.00000i\n",
      "I3 =  6.0000 + 2.0000i\n"
     ]
    }
   ],
   "source": [
    "I1 = Delta1/Delta\n",
    "I2 = Delta2/Delta\n",
    "I3 = I1 - I2"
   ]
  },
  {
   "cell_type": "code",
   "execution_count": 39,
   "metadata": {},
   "outputs": [
    {
     "name": "stdout",
     "output_type": "stream",
     "text": [
      "           phi           r \n",
      "I1_pol = < -0.142 rad , 7.071 \n",
      "I2_pol = < -1.249 rad , 3.162 \n",
      "I3_pol = < 0.322 rad , 6.325 \n"
     ]
    }
   ],
   "source": [
    "# conversión a coordenadas polares\n",
    "I1_pol = cart2pol( real(I1) , imag(I1) ) ;\n",
    "I2_pol = cart2pol( real(I2) , imag(I2) ) ; \n",
    "I3_pol = cart2pol( real(I3) , imag(I3) ) ;\n",
    "fprintf('           phi           r \\n')\n",
    "fprintf('I1_pol = < %.3f rad , %.3f \\n',I1_pol)\n",
    "fprintf('I2_pol = < %.3f rad , %.3f \\n',I2_pol)\n",
    "fprintf('I3_pol = < %.3f rad , %.3f \\n',I3_pol)"
   ]
  },
  {
   "cell_type": "markdown",
   "metadata": {},
   "source": [
    "### Usando python"
   ]
  },
  {
   "cell_type": "code",
   "execution_count": 12,
   "metadata": {},
   "outputs": [],
   "source": [
    "%%python\n",
    "import numpy as np\n",
    "import math, cmath"
   ]
  },
  {
   "cell_type": "code",
   "execution_count": 13,
   "metadata": {},
   "outputs": [
    {
     "name": "stdout",
     "output_type": "stream",
     "text": [
      "I1 = 7.00-1.00j A\n",
      "I2 = 1.00-3.00j A\n",
      "I3 = 6.00+2.00j A\n"
     ]
    }
   ],
   "source": [
    "%%python\n",
    "M = np.array([ [15 , -5],[-5 , 5+10j] ])\n",
    "M1 = np.array([ [100 , -5],[0 , 5+10j] ])\n",
    "M2 = np.array([ [15 , 100],[-5 ,0 ] ])\n",
    "Delta = np.linalg.det(M)\n",
    "Delta1 = np.linalg.det(M1)\n",
    "Delta2 = np.linalg.det(M2)\n",
    "I1 = Delta1/Delta\n",
    "I2 = Delta2/Delta\n",
    "I3 = I1 - I2\n",
    "\n",
    "print('I1 = {:.2f} A'.format(I1))\n",
    "print('I2 = {:.2f} A'.format(I2))\n",
    "print('I3 = {:.2f} A'.format(I3))"
   ]
  },
  {
   "cell_type": "code",
   "execution_count": 15,
   "metadata": {},
   "outputs": [
    {
     "name": "stdout",
     "output_type": "stream",
     "text": [
      "I1_pol = (7.07 < -0.142 rad)\n",
      "I2_pol = (3.16 < -1.249 rad)\n",
      "I3_pol = (6.32 < 0.322 rad)\n"
     ]
    }
   ],
   "source": [
    "%%python\n",
    "# Conversión a coordenadas polares (radianes)\n",
    "I1_pol = cmath.polar(I1)\n",
    "I2_pol = cmath.polar(I2)\n",
    "I3_pol = cmath.polar(I3)\n",
    "\n",
    "print('I1_pol = (%.2f < %.3f rad)'%I1_pol)\n",
    "print('I2_pol = (%.2f < %.3f rad)'%I2_pol)\n",
    "print('I3_pol = (%.2f < %.3f rad)'%I3_pol)"
   ]
  },
  {
   "cell_type": "markdown",
   "metadata": {},
   "source": [
    "## Problema 9\n",
    "El valor eficaz de la corriente del circuito de la figura es de 5 A.\n",
    "* Cuál sera el valor leído en el voltímetro se se conecta:        \n",
    " a. en la entrada del circuito (puntos A y B)        \n",
    " b. en la resistencia       \n",
    " c. en la reactancia inductiva     \n",
    " d. en la reactancia capacitiva     \n",
    " \n",
    "* Representar el diagrama fasorial con todas las tensiones presentes en este circuito."
   ]
  },
  {
   "cell_type": "markdown",
   "metadata": {},
   "source": [
    "<img src=\"img/tp2e9.png\" alt=\"tp2e9.png\">"
   ]
  },
  {
   "cell_type": "markdown",
   "metadata": {},
   "source": [
    "### Solución"
   ]
  },
  {
   "cell_type": "markdown",
   "metadata": {},
   "source": [
    "a)\n",
    "$$ Z_T = R + X_L + X_C $$"
   ]
  },
  {
   "cell_type": "markdown",
   "metadata": {},
   "source": [
    "$$ Z_T = 2 \\, \\Omega + j4 \\, \\Omega - j6 \\, \\Omega $$"
   ]
  },
  {
   "cell_type": "markdown",
   "metadata": {},
   "source": [
    "$$ Z_T = 2 - j2 \\, \\Omega $$"
   ]
  },
  {
   "cell_type": "markdown",
   "metadata": {},
   "source": [
    "$$ V_{AB}= I Z_T  = 10 - j10 \\, \\mathrm{V} = 14,14 \\angle -45^\\circ \\, \\mathrm{V}$$"
   ]
  },
  {
   "cell_type": "markdown",
   "metadata": {},
   "source": [
    "b)\n",
    "$$ V_R = I R = 10 \\angle 0^\\circ \\, \\mathrm{V} $$"
   ]
  },
  {
   "cell_type": "markdown",
   "metadata": {},
   "source": [
    "c)\n",
    "$$ V_L = I X_L = 20 \\angle 90^\\circ \\, \\mathrm{V} $$"
   ]
  },
  {
   "cell_type": "markdown",
   "metadata": {},
   "source": [
    "d)\n",
    "$$ V_C = I X_C = 30 \\angle -90^\\circ \\, \\mathrm{V} $$"
   ]
  },
  {
   "cell_type": "markdown",
   "metadata": {},
   "source": [
    "Diagrama fasorial:\n",
    "<img src=\"img/tp2e9-2.png\" alt=\"tp2e9-2.png\">"
   ]
  },
  {
   "cell_type": "code",
   "execution_count": 1,
   "metadata": {},
   "outputs": [],
   "source": [
    "%%python\n",
    "import cmath, math"
   ]
  },
  {
   "cell_type": "code",
   "execution_count": 4,
   "metadata": {},
   "outputs": [],
   "source": [
    "%%python\n",
    "# Datos:\n",
    "i = 5 # A\n",
    "R = 2 # Ohm\n",
    "X_L = 4j # Ohm\n",
    "X_C = -6j # Ohm\n",
    "\n",
    "Z_T = R + X_L + X_C\n",
    "\n",
    "# ítem a)\n",
    "v_AB = i*Z_T\n",
    "# ítem b)\n",
    "v_R = i*R\n",
    "# ítem c)\n",
    "v_L = i*X_L\n",
    "# ítem d)\n",
    "v_C = i*X_C"
   ]
  },
  {
   "cell_type": "code",
   "execution_count": 6,
   "metadata": {},
   "outputs": [],
   "source": [
    "%%python\n",
    "v_ABpol = cmath.polar(v_AB)\n",
    "v_Rpol = cmath.polar(v_R)\n",
    "v_Lpol = cmath.polar(v_L)\n",
    "v_Cpol = cmath.polar(v_C)"
   ]
  },
  {
   "cell_type": "code",
   "execution_count": 16,
   "metadata": {},
   "outputs": [
    {
     "name": "stdout",
     "output_type": "stream",
     "text": [
      "Resultados:\n",
      "v_AB = (14.14 < -45.00°) V\n",
      "v_R = (10.00 < 0.00°) V\n",
      "v_L = (20.00 < 90.00°) V\n",
      "v_C = (30.00 < -90.00°) V\n"
     ]
    }
   ],
   "source": [
    "%%python\n",
    "print('Resultados:')\n",
    "print('v_AB = (%.2f < %.2f°) V'%(v_ABpol[0], math.degrees( v_ABpol[1] ) ))\n",
    "print('v_R = (%.2f < %.2f°) V'%(v_Rpol[0], math.degrees( v_Rpol[1] ) ))\n",
    "print('v_L = (%.2f < %.2f°) V'%(v_Lpol[0], math.degrees( v_Lpol[1] ) ))\n",
    "print('v_C = (%.2f < %.2f°) V'%(v_Cpol[0], math.degrees( v_Cpol[1] ) ))"
   ]
  },
  {
   "cell_type": "code",
   "execution_count": null,
   "metadata": {},
   "outputs": [],
   "source": []
  }
 ],
 "metadata": {
  "kernelspec": {
   "display_name": "Octave",
   "language": "octave",
   "name": "octave"
  },
  "language_info": {
   "file_extension": ".m",
   "help_links": [
    {
     "text": "GNU Octave",
     "url": "https://www.gnu.org/software/octave/support.html"
    },
    {
     "text": "Octave Kernel",
     "url": "https://github.com/Calysto/octave_kernel"
    },
    {
     "text": "MetaKernel Magics",
     "url": "https://metakernel.readthedocs.io/en/latest/source/README.html"
    }
   ],
   "mimetype": "text/x-octave",
   "name": "octave",
   "version": "4.2.2"
  }
 },
 "nbformat": 4,
 "nbformat_minor": 2
}
