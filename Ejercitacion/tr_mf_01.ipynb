{
 "cells": [
  {
   "cell_type": "markdown",
   "metadata": {},
   "source": [
    "## Ejercicio 1 transformador monofásico\n",
    "Los ensayos de un transformador monofásico de 10kVA, 230/2300V han dado los siguentes resultados:"
   ]
  },
  {
   "cell_type": "markdown",
   "metadata": {},
   "source": [
    "<table style=\"width: 80%;\"><tbody><tr><td style=\"width: 40.0000%;\"><strong>Vac&iacute;o (medidas en el lado de BT)</strong><br></td><td style=\"width: 20%; text-align: center;\">230 V<br></td><td style=\"width: 25%; text-align: center;\">0,45 A<br></td><td style=\"width: 20%; text-align: center;\">70 W<br></td></tr><tr><td style=\"width: 20.0000%;\"><strong>Cortocircuito (medidas en el lado de AT)</strong><br></td><td style=\"width: 40%; text-align: center;\">120 V<br></td><td style=\"width: 20%; text-align: center;\">4,5 A<br></td><td style=\"width: 20%; text-align: center;\">240 W<br></td></tr></tbody></table>"
   ]
  },
  {
   "cell_type": "markdown",
   "metadata": {},
   "source": [
    "__a)__ Calcular los parámetros del circuito equivalente.       \n",
    "__b)__ Calcular las tensiones relativas $\\varepsilon_{Rcc}$ y $\\varepsilon_{cc}$."
   ]
  },
  {
   "cell_type": "markdown",
   "metadata": {},
   "source": [
    "### Solución\n",
    "__Datos:__\n",
    "$\\left\\{\n",
    "\\begin{align}\n",
    "S_N &= 10 \\, \\mathrm{kVA} \\\\\n",
    "m &= 230/2300 \\, \\mathrm{V}\n",
    "\\end{align}\n",
    "\\right.$"
   ]
  },
  {
   "cell_type": "markdown",
   "metadata": {},
   "source": [
    "Antes de empezar a resolver el problema lo primero que hay que hacer es obtener las tensiones e intensidades asignadas del primario y del secundario:"
   ]
  },
  {
   "cell_type": "code",
   "execution_count": 4,
   "metadata": {},
   "outputs": [],
   "source": [
    "import numpy as np"
   ]
  },
  {
   "cell_type": "code",
   "execution_count": 1,
   "metadata": {},
   "outputs": [],
   "source": [
    "# Datos:\n",
    "SN  = 10e3   # VA\n",
    "V1N = 230   # V\n",
    "V2N = 2300  # V\n",
    "m   = V1N/V2N"
   ]
  },
  {
   "cell_type": "code",
   "execution_count": 2,
   "metadata": {},
   "outputs": [],
   "source": [
    "# Cálculo de corriente nominal\n",
    "I1N = SN/V1N\n",
    "I2N = SN/V2N"
   ]
  },
  {
   "cell_type": "code",
   "execution_count": 17,
   "metadata": {},
   "outputs": [
    {
     "name": "stdout",
     "output_type": "stream",
     "text": [
      "I1N = 43.48 A\n",
      "I2N = 4.35 A\n"
     ]
    }
   ],
   "source": [
    "print('I1N = %.2f A'%I1N)\n",
    "print('I2N = %.2f A'%I2N)"
   ]
  },
  {
   "cell_type": "markdown",
   "metadata": {},
   "source": [
    "<img src=\"img/trmf_e01-1.png\">\n",
    "<center>Fig.1: circuito equivalente aproximado de un transformador</center>"
   ]
  },
  {
   "cell_type": "markdown",
   "metadata": {},
   "source": [
    "Por lo tanto, los parámetros que se necesitan calcular para definir este circuito equivalente son $R_{Fe}, X_{\\mu}, R_{cc}$ y $X_{cc}$. Los dos primeros se obtienen del ensayo del vacío y los dos últimos del ensayo de cortociruito."
   ]
  },
  {
   "cell_type": "markdown",
   "metadata": {},
   "source": [
    "__Ensayo de vacío:__\n",
    "\n",
    "El enunciado indica que el ensayo de vacío se ha realizado en el lado de baja tensión (B.T.) que en este caso es el primario (porque en este transformador el primario tiene una tensión asignada o nominal inferior a la del secundario). Por lo tanto, durante este ensayo el transformador se ha alimantado por el primario (donde se han realizado las medidas) y se ha dejado el secundario en circuito abierto. En estas circunsatancias, el circuito equivalente de la Fig.1 se reduce al indicado en la Fig.2a y el diagrama vectorial del transformador es el señalado en la Fig.2b."
   ]
  },
  {
   "cell_type": "markdown",
   "metadata": {},
   "source": [
    "<img src=\"img/trmf_e01-2.png\">\n",
    "<center>Fig.2: Circuito equivalente (a) y diagrama vectorial (b) en el ensayo de vacío de un transformador</center>"
   ]
  },
  {
   "cell_type": "markdown",
   "metadata": {},
   "source": [
    "Si el ensayo se ha realizado por el primario los datos que suministra el enunciado son:"
   ]
  },
  {
   "cell_type": "code",
   "execution_count": 3,
   "metadata": {},
   "outputs": [],
   "source": [
    "Io = 0.45 # A\n",
    "Po = 70   # W"
   ]
  },
  {
   "cell_type": "markdown",
   "metadata": {},
   "source": [
    "Hay dos formas de calcular los parámetros $R_{Fe}$ y $X_\\mu$ a partir del ensayo de vacío. En la primera se empieza por calcular el ángulo de desfase $\\varphi_0$ a partir de la potencia activa:"
   ]
  },
  {
   "cell_type": "markdown",
   "metadata": {},
   "source": [
    "$$ P_0 = V_{1N} \\cdot I_0 \\cos \\varphi_0 $$"
   ]
  },
  {
   "cell_type": "markdown",
   "metadata": {},
   "source": [
    "Entonces\n",
    "$$ \\varphi_0 = \\arccos \\left( \\frac{P_0}{V_{1N} I_0} \\right) $$"
   ]
  },
  {
   "cell_type": "code",
   "execution_count": 7,
   "metadata": {},
   "outputs": [],
   "source": [
    "phi_o = np.arccos( Po/(V1N*Io) )\n",
    "Ife = Io*np.cos(phi_o)\n",
    "Iu  = Io*np.sin(phi_o)"
   ]
  },
  {
   "cell_type": "code",
   "execution_count": 8,
   "metadata": {},
   "outputs": [
    {
     "name": "stdout",
     "output_type": "stream",
     "text": [
      "phi_0 = 47.44°\n",
      "Ife = 0.304 A\n",
      "Iu  = 0.331 A\n"
     ]
    }
   ],
   "source": [
    "print('phi_0 = %.2f°'%np.rad2deg(phi_o))\n",
    "print('Ife = %.3f A'%Ife)\n",
    "print('Iu  = %.3f A'%Iu)"
   ]
  },
  {
   "cell_type": "code",
   "execution_count": 9,
   "metadata": {},
   "outputs": [],
   "source": [
    "Rfe = V1N/Ife\n",
    "Xu  = V1N/Iu"
   ]
  },
  {
   "cell_type": "code",
   "execution_count": 10,
   "metadata": {},
   "outputs": [
    {
     "name": "stdout",
     "output_type": "stream",
     "text": [
      "Rfe = 755.7 Ω\n",
      "Xu  = 693.9 Ω\n"
     ]
    }
   ],
   "source": [
    "print('Rfe = %.1f Ω'%Rfe)\n",
    "print('Xu  = %.1f Ω'%Xu)"
   ]
  },
  {
   "cell_type": "markdown",
   "metadata": {},
   "source": [
    "En la otra forma de obtener los parámetros se empieza por calcular la corriente $I_{Fe}$"
   ]
  },
  {
   "cell_type": "markdown",
   "metadata": {},
   "source": [
    "$$ P_0 = V_{1N} I_0 \\cos \\varphi_0 = V_{1N} I_{Fe} $$"
   ]
  },
  {
   "cell_type": "markdown",
   "metadata": {},
   "source": [
    "Entonces\n",
    "$$ I_{Fe} = \\frac{P_0}{V_{1N}} $$"
   ]
  },
  {
   "cell_type": "code",
   "execution_count": 16,
   "metadata": {},
   "outputs": [
    {
     "data": {
      "text/plain": [
       "0.30434782608695654"
      ]
     },
     "execution_count": 16,
     "metadata": {},
     "output_type": "execute_result"
    }
   ],
   "source": [
    "Po/V1N"
   ]
  },
  {
   "cell_type": "markdown",
   "metadata": {},
   "source": [
    "De la Fig.2b se deduce que la corriente $I_\\mu$ se puede calcular aplicando el Teorema de Pitágoras:"
   ]
  },
  {
   "cell_type": "markdown",
   "metadata": {},
   "source": [
    "$$ I_\\mu = \\sqrt{I_0^2 - I_{Fe}^2} $$"
   ]
  },
  {
   "cell_type": "code",
   "execution_count": 14,
   "metadata": {},
   "outputs": [
    {
     "data": {
      "text/plain": [
       "0.33147006012028246"
      ]
     },
     "execution_count": 14,
     "metadata": {},
     "output_type": "execute_result"
    }
   ],
   "source": [
    "np.sqrt(Io**2 - Ife**2)"
   ]
  },
  {
   "cell_type": "markdown",
   "metadata": {},
   "source": [
    "__Ensayo de cortocircuito:__\n",
    "\n",
    "El enunciado indica que el ensayo de cortocircuito se ha realizado en el lado de alta tensión (A.T.) que en este caso es el secundario (porque en este transformador el secundario tiene una tensión asignada superior a la del primario). Por otra parte, se comprueba que en este ensayo la corriente que circula por el secundario (4,5 A) es diferente de la asignada (4,35 A)."
   ]
  },
  {
   "cell_type": "code",
   "execution_count": 32,
   "metadata": {},
   "outputs": [],
   "source": [
    "V2corto = 120 # V\n",
    "I2corto = 4.5 # A\n",
    "Pcorto  = 240 # W"
   ]
  },
  {
   "cell_type": "markdown",
   "metadata": {},
   "source": [
    "Como todas las expresiones explicadas en la teoría se ha deducido suponiendo que el ensayo se realiza alimentado por el primario, lo primero que se va a hacer es calcular las medidas que se hubieran obtenido si el ensayo se hubiera realizado por el primario:"
   ]
  },
  {
   "cell_type": "markdown",
   "metadata": {},
   "source": [
    "$$ m = \\frac{V_{1corto}}{V_{2corto}} = \\frac{I_{2corto}}{I_{1corto}} \\quad \\rightarrow \\quad \\left\\{\n",
    "\\begin{array}{l}\n",
    "V_{1corto} = m \\cdot V_{2corto} \\\\\n",
    "\\displaystyle I_{1corto} = \\frac{I_{2corto}}{m}\n",
    "\\end{array}\n",
    "\\right. $$"
   ]
  },
  {
   "cell_type": "code",
   "execution_count": 33,
   "metadata": {},
   "outputs": [],
   "source": [
    "V1corto = m*V2corto\n",
    "I1corto = I2corto/m"
   ]
  },
  {
   "cell_type": "code",
   "execution_count": 34,
   "metadata": {},
   "outputs": [
    {
     "name": "stdout",
     "output_type": "stream",
     "text": [
      "V1corto = 12.0 V\n",
      "I1corto = 45.0 A\n"
     ]
    }
   ],
   "source": [
    "print('V1corto = %.1f V'%V1corto)\n",
    "print('I1corto = %.1f A'%I1corto)"
   ]
  },
  {
   "cell_type": "markdown",
   "metadata": {},
   "source": [
    "A continuación, se van a calcular las medidas que se hubieran obtenido si el ensayo de cortocircuito se hubiera efectuado con la corriente asignada:"
   ]
  },
  {
   "cell_type": "code",
   "execution_count": 35,
   "metadata": {},
   "outputs": [],
   "source": [
    "V1cc = V1corto*(I1N/I1corto)\n",
    "Pcc = Pcorto*(I1N/I1corto)**2"
   ]
  },
  {
   "cell_type": "markdown",
   "metadata": {},
   "source": [
    "Luego, a partir de ahora se trabajará como se el ensayo de cortocircuito se hubiera realizado midiendo por el primario haciendo funcionar el transformador con la intensidad asignada y las medidas obtenidas fueran:"
   ]
  },
  {
   "cell_type": "code",
   "execution_count": 49,
   "metadata": {},
   "outputs": [],
   "source": [
    "I1N = I2N"
   ]
  },
  {
   "cell_type": "code",
   "execution_count": 50,
   "metadata": {},
   "outputs": [
    {
     "name": "stdout",
     "output_type": "stream",
     "text": [
      "I1N = 4.35 A\n",
      "V1cc = 11.6 V\n",
      "Pcc = 224.0 W\n"
     ]
    }
   ],
   "source": [
    "print('I1N = %.2f A'%I1N)\n",
    "print('V1cc = %.1f V'%V1cc)\n",
    "print('Pcc = %.1f W'%Pcc)"
   ]
  },
  {
   "cell_type": "markdown",
   "metadata": {},
   "source": [
    "Cuando el tranformador se alimenta a la tensión asignada"
   ]
  },
  {
   "cell_type": "code",
   "execution_count": 47,
   "metadata": {},
   "outputs": [
    {
     "data": {
      "text/plain": [
       "4.3478260869565215"
      ]
     },
     "execution_count": 47,
     "metadata": {},
     "output_type": "execute_result"
    }
   ],
   "source": [
    "I2N"
   ]
  },
  {
   "cell_type": "code",
   "execution_count": null,
   "metadata": {},
   "outputs": [],
   "source": []
  }
 ],
 "metadata": {
  "kernelspec": {
   "display_name": "Python 3",
   "language": "python",
   "name": "python3"
  },
  "language_info": {
   "codemirror_mode": {
    "name": "ipython",
    "version": 3
   },
   "file_extension": ".py",
   "mimetype": "text/x-python",
   "name": "python",
   "nbconvert_exporter": "python",
   "pygments_lexer": "ipython3",
   "version": "3.7.6"
  }
 },
 "nbformat": 4,
 "nbformat_minor": 4
}
