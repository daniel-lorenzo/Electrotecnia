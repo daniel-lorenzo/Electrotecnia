{
 "cells": [
  {
   "cell_type": "markdown",
   "metadata": {},
   "source": [
    "# TP N°1\n",
    "__U.N.L.Z. - Facultad de Ingeniería__       \n",
    "__Electrotecnia__      \n",
    "__Alumno:__ Daniel Antonio Lorenzo       \n",
    "<mark><strong>(Resolución en python3)</strong></mark>"
   ]
  },
  {
   "cell_type": "markdown",
   "metadata": {},
   "source": [
    "<a href=\"https://colab.research.google.com/github/daniel-lorenzo/Electrotecnia/blob/master/Ejercitacion/TP1.ipynb\"><img align=\"left\" src=\"https://colab.research.google.com/assets/colab-badge.svg\" alt=\"Open in Colab\" title=\"Open and Execute in Google Colaboratory\"></a>"
   ]
  },
  {
   "cell_type": "markdown",
   "metadata": {},
   "source": [
    "## Ejercicio de repaso, conceptos básicos\n",
    "Utilizando el método de mallas hallar las corrientes $I_1$, $I_2$ e $I_3$"
   ]
  },
  {
   "cell_type": "markdown",
   "metadata": {},
   "source": [
    "<img src=\"img/ejerc_repaso.svg\" alt=\"ejerc_repaso.svg\" width=\"500\" height=auto>"
   ]
  },
  {
   "cell_type": "markdown",
   "metadata": {},
   "source": [
    "### Solución\n",
    "__Malla 1__"
   ]
  },
  {
   "cell_type": "markdown",
   "metadata": {},
   "source": [
    "$$ -V_1 + R_1 I_1 + R_2 (I_1 - I_3) = 0 $$"
   ]
  },
  {
   "cell_type": "markdown",
   "metadata": {},
   "source": [
    "$$ - 10 + 20 I_1 + 100 (I_1 - I_3) = 0  $$"
   ]
  },
  {
   "cell_type": "markdown",
   "metadata": {},
   "source": [
    "$$ 120 I_1 - 100 I_3 = 10 \\tag{1} $$"
   ]
  },
  {
   "cell_type": "markdown",
   "metadata": {},
   "source": [
    "__Malla 2__"
   ]
  },
  {
   "cell_type": "markdown",
   "metadata": {},
   "source": [
    "$$ V_2 + R_2 (I_3 - I_1) + R_3 I_3 = 0 $$"
   ]
  },
  {
   "cell_type": "markdown",
   "metadata": {},
   "source": [
    "$$ 5 + 100 (I_3 - I_1) + 10 I_3 = 0 $$"
   ]
  },
  {
   "cell_type": "markdown",
   "metadata": {},
   "source": [
    "$$ 100 I_1 - 110 I_3 = 5 \\tag{2} $$"
   ]
  },
  {
   "cell_type": "markdown",
   "metadata": {},
   "source": [
    "__En forma matricial__\n",
    "\n",
    "$$\\left[\n",
    "\\begin{array}{cc}\n",
    "120 & -100 \\\\\n",
    "100 & -110\n",
    "\\end{array}\n",
    "\\right]\n",
    "\\left[\n",
    "\\begin{array}{c}\n",
    "I_1 \\\\\n",
    "I_3\n",
    "\\end{array}\n",
    "\\right]\n",
    "=\n",
    "\\left[\n",
    "\\begin{array}{c}\n",
    "10 \\\\\n",
    "5\n",
    "\\end{array}\n",
    "\\right]$$"
   ]
  },
  {
   "cell_type": "markdown",
   "metadata": {},
   "source": [
    "### Método 1 - Aplicando regla de Cramer"
   ]
  },
  {
   "cell_type": "markdown",
   "metadata": {},
   "source": [
    "Calculamos los determinantes"
   ]
  },
  {
   "cell_type": "markdown",
   "metadata": {},
   "source": [
    "$$\\Delta =\n",
    "\\left|\n",
    "\\begin{array}{cc}\n",
    "120 & -100 \\\\\n",
    "100 & -110\n",
    "\\end{array}\n",
    "\\right|$$"
   ]
  },
  {
   "cell_type": "code",
   "execution_count": 1,
   "metadata": {},
   "outputs": [],
   "source": [
    "import numpy as np"
   ]
  },
  {
   "cell_type": "code",
   "execution_count": 2,
   "metadata": {},
   "outputs": [
    {
     "name": "stdout",
     "output_type": "stream",
     "text": [
      "Delta = -3200.0\n"
     ]
    }
   ],
   "source": [
    "M = np.array( [ [120 , -100] , [100 , -110] ] )\n",
    "Delta = np.linalg.det(M)\n",
    "print('Delta = %.1f'%Delta)"
   ]
  },
  {
   "cell_type": "markdown",
   "metadata": {},
   "source": [
    "$$\\Delta_1 =\n",
    "\\left|\n",
    "\\begin{array}{cc}\n",
    "10 & -100 \\\\\n",
    "5 & -110\n",
    "\\end{array}\n",
    "\\right|$$"
   ]
  },
  {
   "cell_type": "code",
   "execution_count": 3,
   "metadata": {},
   "outputs": [
    {
     "name": "stdout",
     "output_type": "stream",
     "text": [
      "Delta1 = -600.0\n"
     ]
    }
   ],
   "source": [
    "M1 = np.array( [ [10 , -100] , [5 , -110] ] )\n",
    "Delta1 = np.linalg.det(M1)\n",
    "print('Delta1 = %.1f'%Delta1)"
   ]
  },
  {
   "cell_type": "markdown",
   "metadata": {},
   "source": [
    "$$\\Delta_3 =\n",
    "\\left|\n",
    "\\begin{array}{cc}\n",
    "120 & 10 \\\\\n",
    "100 & 5\n",
    "\\end{array}\n",
    "\\right|$$"
   ]
  },
  {
   "cell_type": "code",
   "execution_count": 4,
   "metadata": {},
   "outputs": [
    {
     "name": "stdout",
     "output_type": "stream",
     "text": [
      "Delta3 = -400.0\n"
     ]
    }
   ],
   "source": [
    "M3 = np.array( [ [120 , 10] ,  [100 , 5] ] )\n",
    "Delta3 = np.linalg.det(M3)\n",
    "print('Delta3 = %.1f'%Delta3)"
   ]
  },
  {
   "cell_type": "markdown",
   "metadata": {},
   "source": [
    "$$ I_1 = \\frac{\\Delta_1}{\\Delta} \\quad ; \\quad I_3 = \\frac{\\Delta_3}{\\Delta} $$"
   ]
  },
  {
   "cell_type": "code",
   "execution_count": 5,
   "metadata": {},
   "outputs": [
    {
     "name": "stdout",
     "output_type": "stream",
     "text": [
      "I1 = 0.1875 A = 187.5 mA\n",
      "I3 = 0.1250 A = 125.0 mA\n"
     ]
    }
   ],
   "source": [
    "I1 = Delta1/Delta\n",
    "I3 = Delta3/Delta\n",
    "print('I1 = %.4f A = %.1f mA'%(I1 , I1*1000) )\n",
    "print('I3 = %.4f A = %.1f mA'%(I3 , I3*1000) )"
   ]
  },
  {
   "cell_type": "markdown",
   "metadata": {},
   "source": [
    "$$ I_2 = I_1 - I_3 \\tag{3} $$"
   ]
  },
  {
   "cell_type": "code",
   "execution_count": 6,
   "metadata": {},
   "outputs": [
    {
     "name": "stdout",
     "output_type": "stream",
     "text": [
      "I2 = 0.0625 A = 62.5 mA\n"
     ]
    }
   ],
   "source": [
    "I2 = I1 - I3 ;\n",
    "print('I2 = %.4f A = %.1f mA'%(I2 , I2*1000) )"
   ]
  },
  {
   "cell_type": "markdown",
   "metadata": {},
   "source": [
    "Entonces:"
   ]
  },
  {
   "cell_type": "code",
   "execution_count": 7,
   "metadata": {},
   "outputs": [
    {
     "name": "stdout",
     "output_type": "stream",
     "text": [
      "Resumen:\n",
      "I1 = 0.1875 A = 187.5 mA\n",
      "I2 = 0.0625 A = 62.5 mA\n",
      "I3 = 0.1250 A = 125.0 mA\n"
     ]
    }
   ],
   "source": [
    "print('Resumen:')\n",
    "print('I1 = %.4f A = %.1f mA'%(I1 , I1*1000) )\n",
    "print('I2 = %.4f A = %.1f mA'%(I2 , I2*1000) )\n",
    "print('I3 = %.4f A = %.1f mA'%(I3 , I3*1000) )"
   ]
  },
  {
   "cell_type": "markdown",
   "metadata": {},
   "source": [
    "### Simulación del circuito con qucs\n",
    "<img src=\"img/ejerc_repaso_sim.png\" alt=\"ejerc_repaso_sim.png\">"
   ]
  },
  {
   "cell_type": "markdown",
   "metadata": {},
   "source": [
    "### Método 2\n",
    "$I_1$ e $I_3$ pueden calcularse también haciendo:"
   ]
  },
  {
   "cell_type": "markdown",
   "metadata": {},
   "source": [
    "$$ A = \n",
    "\\left[\n",
    "\\begin{array}{cc}\n",
    "120 & -100 \\\\\n",
    "100 & -110\n",
    "\\end{array}\n",
    "\\right] \\qquad ; \\qquad\n",
    "B =\n",
    "\\left[\n",
    "\\begin{array}{c}\n",
    "10 \\\\\n",
    "5\n",
    "\\end{array}\n",
    "\\right]$$"
   ]
  },
  {
   "cell_type": "markdown",
   "metadata": {},
   "source": [
    "$$ A I = B $$"
   ]
  },
  {
   "cell_type": "markdown",
   "metadata": {},
   "source": [
    "Entonces:\n",
    "$$ I = A^{-1} B $$"
   ]
  },
  {
   "cell_type": "code",
   "execution_count": 8,
   "metadata": {},
   "outputs": [],
   "source": [
    "A = np.array([ [120 , -100] , [100 , -110] ])\n",
    "B = np.array([ [10] , [5] ])\n",
    "\n",
    "I = np.dot( np.linalg.inv(A) , B)"
   ]
  },
  {
   "cell_type": "code",
   "execution_count": 9,
   "metadata": {},
   "outputs": [
    {
     "name": "stdout",
     "output_type": "stream",
     "text": [
      "I1 = 0.1875 A\n",
      "I3 = 0.1250 A\n",
      "I2 = 0.0625 A\n"
     ]
    }
   ],
   "source": [
    "print('I1 = %.4f A'%I[0,0] )\n",
    "print('I3 = %.4f A'%I[1,0])\n",
    "print('I2 = %.4f A'%(I[0,0] - I[1,0]) )"
   ]
  },
  {
   "cell_type": "markdown",
   "metadata": {},
   "source": [
    "Mismo valores obtenidos anteriormente para $I_1$ e $I_3$."
   ]
  },
  {
   "cell_type": "markdown",
   "metadata": {},
   "source": [
    "--------------\n",
    "<a href=\"https://colab.research.google.com/github/daniel-lorenzo/Electrotecnia/blob/master/Ejercitacion/TP1.ipynb\"><img align=\"left\" src=\"https://colab.research.google.com/assets/colab-badge.svg\" alt=\"Open in Colab\" title=\"Open and Execute in Google Colaboratory\"></a>"
   ]
  }
 ],
 "metadata": {
  "kernelspec": {
   "display_name": "Python 3",
   "language": "python",
   "name": "python3"
  },
  "language_info": {
   "codemirror_mode": {
    "name": "ipython",
    "version": 3
   },
   "file_extension": ".py",
   "mimetype": "text/x-python",
   "name": "python",
   "nbconvert_exporter": "python",
   "pygments_lexer": "ipython3",
   "version": "3.7.6"
  }
 },
 "nbformat": 4,
 "nbformat_minor": 4
}
