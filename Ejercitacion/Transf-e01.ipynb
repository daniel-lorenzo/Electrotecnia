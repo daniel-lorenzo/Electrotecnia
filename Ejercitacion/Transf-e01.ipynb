{
 "cells": [
  {
   "cell_type": "markdown",
   "metadata": {},
   "source": [
    "## Ejemplo 2-2\n",
    "Se requiere determinar las impedancias del circuito equivalente de un transformador de 20 kVA, 8000/240V, 60Hz. La prueba de circuito abierto se realizó en la prueba de circuito secundario del transformador (para reducir el voltaje máximo que se desea medir), y la prueba de cortocircuito se realizó en el lado primario (para reducir la máxima corriente que se tenía que medir). Se tomaron los siguientes datos: "
   ]
  },
  {
   "cell_type": "markdown",
   "metadata": {},
   "source": [
    "| Prueba de circuito abierto  | Prueba de cortocircuito  |\n",
    "|------|------|\n",
    "| (en el secundario)          | (en el secundario)       |\n",
    "| $V_{Cab} = 240 \\,\\mathrm{V}$ | $V_{CC} = 489 \\, \\mathrm{V}$ |\n",
    "| $I_{Cab} = 7,133 \\, \\mathrm{A}$ | $I_{CC} = 2,5 \\, \\mathrm{A}$ |\n",
    "| $P_{CAb} = 400 \\, \\mathrm{W}$ | $P_{CC} = 240 \\, \\mathrm{W}$ |"
   ]
  },
  {
   "cell_type": "markdown",
   "metadata": {},
   "source": [
    "Encuentre las impedancias del circuito equivalente referido al lado primario y dibuje el circuito."
   ]
  },
  {
   "cell_type": "markdown",
   "metadata": {},
   "source": [
    "### Solución\n",
    "La razón de vueltas de este transformador es $a = 8000/240$. El factor de potencia durante la prueba de ciruito abierto es:"
   ]
  },
  {
   "cell_type": "markdown",
   "metadata": {},
   "source": [
    "$$ \\mathrm{fp} = \\cos \\theta = \\frac{P_{Cab}}{V_{Cab} I_{Cab}} $$"
   ]
  },
  {
   "cell_type": "code",
   "execution_count": 6,
   "metadata": {},
   "outputs": [],
   "source": [
    "import numpy as np\n",
    "import cmath"
   ]
  },
  {
   "cell_type": "code",
   "execution_count": 32,
   "metadata": {},
   "outputs": [],
   "source": [
    "# Datos:\n",
    "Vcab = 240   ; Vcc = 489 # V\n",
    "Icab = 7.133 ; Icc = 2.5 # A\n",
    "Pcab = 400   ; Pcc = 240 # W\n",
    "a = 8000/240"
   ]
  },
  {
   "cell_type": "code",
   "execution_count": 20,
   "metadata": {},
   "outputs": [],
   "source": [
    "fp_ca = Pcab/(Vcab*Icab)"
   ]
  },
  {
   "cell_type": "code",
   "execution_count": 21,
   "metadata": {},
   "outputs": [],
   "source": [
    "# La admitancia de exitación está dada por\n",
    "Ye = cmath.rect( Icab/Vcab , -np.arccos(fp_ca) )"
   ]
  },
  {
   "cell_type": "code",
   "execution_count": 22,
   "metadata": {},
   "outputs": [
    {
     "name": "stdout",
     "output_type": "stream",
     "text": [
      "Ye = (0.0297 ∠ -76.49° S)\n",
      "Ye = 0.00694-0.02890j S\n"
     ]
    }
   ],
   "source": [
    "print('Ye = (%.4f ∠ %.2f° S)'%(abs(Ye), np.rad2deg(np.angle(Ye)) ))\n",
    "print('Ye = {:.5f} S'.format(Ye))"
   ]
  },
  {
   "cell_type": "markdown",
   "metadata": {},
   "source": [
    "$$ Y_e = \\frac{1}{R_{N}} - j \\frac{1}{X_M} $$"
   ]
  },
  {
   "cell_type": "code",
   "execution_count": 33,
   "metadata": {},
   "outputs": [],
   "source": [
    "RNS = abs(1/Ye.real)\n",
    "XMS = abs(1/Ye.imag)"
   ]
  },
  {
   "cell_type": "code",
   "execution_count": 34,
   "metadata": {},
   "outputs": [
    {
     "name": "stdout",
     "output_type": "stream",
     "text": [
      "RNS = 144.0 Ohm\n",
      "XMS = 34.60 Ohm\n"
     ]
    }
   ],
   "source": [
    "print('RNS = %.1f Ohm'%RN)\n",
    "print('XMS = %.2f Ohm'%XM)"
   ]
  },
  {
   "cell_type": "code",
   "execution_count": 25,
   "metadata": {},
   "outputs": [],
   "source": [
    "# El factor de potencia durante la prueba de cortocircuito es\n",
    "fp_cc = Pcc/(Vcc*Icc)"
   ]
  },
  {
   "cell_type": "code",
   "execution_count": 26,
   "metadata": {},
   "outputs": [
    {
     "name": "stdout",
     "output_type": "stream",
     "text": [
      "fp_cc = 0.196\n"
     ]
    }
   ],
   "source": [
    "print('fp_cc = %.3f'%fp_cc)"
   ]
  },
  {
   "cell_type": "code",
   "execution_count": 27,
   "metadata": {},
   "outputs": [],
   "source": [
    "# La impedancia en serie está dada por\n",
    "Zse = cmath.rect(Vcc/Icc,np.arccos(fp_cc))"
   ]
  },
  {
   "cell_type": "code",
   "execution_count": 29,
   "metadata": {},
   "outputs": [
    {
     "name": "stdout",
     "output_type": "stream",
     "text": [
      "Zse = (195.6 ∠ 78.68°) Ohm\n",
      "Zse = 38.40+191.79j Ohm\n"
     ]
    }
   ],
   "source": [
    "print('Zse = (%.1f ∠ %.2f°) Ohm'%(abs(Zse), np.rad2deg( np.angle(Zse) ) ))\n",
    "print('Zse = {:.2f} Ohm'.format(Zse))"
   ]
  },
  {
   "cell_type": "code",
   "execution_count": 30,
   "metadata": {},
   "outputs": [],
   "source": [
    "Req = Zse.real\n",
    "Xeq = Zse.imag"
   ]
  },
  {
   "cell_type": "code",
   "execution_count": 31,
   "metadata": {},
   "outputs": [
    {
     "name": "stdout",
     "output_type": "stream",
     "text": [
      "Req = 38.40 Ohm\n",
      "Xeq = 191.79 Ohm\n"
     ]
    }
   ],
   "source": [
    "print('Req = %.2f Ohm'%Req)\n",
    "print('Xeq = %.2f Ohm'%Xeq)"
   ]
  },
  {
   "cell_type": "markdown",
   "metadata": {},
   "source": [
    "El circuito equivalente simplificado resultante que se refiere al lado de alto voltaje (primario) se puede determinar convirtiendo los valores de la rama de excitación al lado de alto voltaje."
   ]
  },
  {
   "cell_type": "code",
   "execution_count": 35,
   "metadata": {},
   "outputs": [],
   "source": [
    "RNP = a**2 * RNS\n",
    "XMP = a**2 * XMS"
   ]
  },
  {
   "cell_type": "code",
   "execution_count": 37,
   "metadata": {},
   "outputs": [
    {
     "name": "stdout",
     "output_type": "stream",
     "text": [
      "RNP = 160.0 kOhm\n",
      "XMP = 38.4 kOhm\n"
     ]
    }
   ],
   "source": [
    "print('RNP = %.1f kOhm'%(RNP/1e3))\n",
    "print('XMP = %.1f kOhm'%(XMP/1e3))"
   ]
  },
  {
   "cell_type": "markdown",
   "metadata": {},
   "source": [
    "<img src=\"img/transf-ej2-2.png\">"
   ]
  },
  {
   "cell_type": "markdown",
   "metadata": {},
   "source": [
    "## Ejemplo 2-5\n",
    "Se va a probar un transformador de 15kVA y 2300/230V para determinar los componentes de la rama de excitación, sus impedancias en serie y su regulación de voltaje. Se obtuvieron los siguientes datos de las pruebas realizadas al transformador:"
   ]
  },
  {
   "cell_type": "markdown",
   "metadata": {},
   "source": [
    "$$\\begin{array}{c|c}\n",
    "\\hline\n",
    "\\mbox{Prueba de circuito abierto} & \\mbox{Prueba de cortocircuito} \\\\\n",
    "\\mbox{(lado de bajo voltaje)} & \\mbox{(lado de alto voltaje)} \\\\\n",
    "\\hline\n",
    "V_{CAb} = 230 \\, V & V_{CC} = 47 \\, V \\\\\n",
    "I_{CAb} = 2,1 \\, A & I_{CC} = 6,0 \\, A \\\\\n",
    "P_{CAb} = 50 \\, W & P_{CC} = 160 \\, W \\\\\n",
    "\\hline\n",
    "\\end{array}$$"
   ]
  },
  {
   "cell_type": "markdown",
   "metadata": {},
   "source": [
    "1. Encuentre el circuito equivalente de este transformador referido al lado de alto voltaje.\n",
    "2. Encuentre el circuito equivalente de este transformador referido al lado de bajo voltaje.\n",
    "3. Calcule la regulación de voltaje a plena carga con un factor de potencia de 0,8 en retraso, un factor de potencia de 1,0 y un factor de potencia de 0,8 en adelanto usando la ecuación la ecuación exacta para $V_p$.\n",
    "4. Haga una gráfica de la regualción de voltaje conforme se incrementa la carga desde vacío hasta plena carga con factores de potencia de 0,8 en retraso y 1,0 y 0,8 en adelanto.\n",
    "5. ¿Cuál es la eficiencia del transformador en plena carga con un factor de potencia de 0,8 en retraso?"
   ]
  },
  {
   "cell_type": "markdown",
   "metadata": {},
   "source": [
    "### Solución\n",
    "1. La relación de espiras de este transformador es a=2300/230=10. Los valores de la rama de excitación equivalente del transformador con referencia al lado secundario (de bajo voltaje) se pueden calcular a partir de los datos de la prueba de cortocircuito. A partir de los datos de la prueba de circuito abierto, el ángulo de impedancia de circuito abierto es"
   ]
  },
  {
   "cell_type": "markdown",
   "metadata": {},
   "source": [
    "$$ \\theta_{CAb} = \\arccos \\frac{P_{CAb}}{V_{CAb} I_{CAb}} $$"
   ]
  },
  {
   "cell_type": "code",
   "execution_count": 1,
   "metadata": {},
   "outputs": [],
   "source": [
    "import numpy as np\n",
    "import cmath"
   ]
  },
  {
   "cell_type": "code",
   "execution_count": 16,
   "metadata": {},
   "outputs": [],
   "source": [
    "# Datos:\n",
    "Vcab = 230 ; Vcc =  47  # V\n",
    "Icab = 2.1 ; Icc =   6  # A\n",
    "Pcab = 50  ; Pcc = 160  # W\n",
    "a = 2300/230"
   ]
  },
  {
   "cell_type": "code",
   "execution_count": 18,
   "metadata": {},
   "outputs": [],
   "source": [
    "theta_cab = np.arccos( Pcab/(Vcab*Icab) )\n",
    "# La admitancia de excitación es\n",
    "YE = cmath.rect( Icab/Vcab , theta_cab )\n",
    "# Los elementos de la rama de exitación\n",
    "# referida al secundario son\n",
    "RNS = 1/YE.real\n",
    "XMS = 1/YE.imag\n",
    "# Con los datos de la prueba de cortocircuito,\n",
    "# el ángulo de impedancia de cortocirciuto es\n",
    "theta_cc = np.arccos( Pcc/(Vcc*Icc) )\n",
    "# La impedancia en serie equivalente\n",
    "ZES = cmath.rect(Vcc/Icc , theta_cc)\n",
    "ReqP = ZES.real\n",
    "XeqP = ZES.imag\n",
    "RNP = a**2 * RNS\n",
    "XMP = a**2 * XMS"
   ]
  },
  {
   "cell_type": "code",
   "execution_count": 79,
   "metadata": {},
   "outputs": [
    {
     "name": "stdout",
     "output_type": "stream",
     "text": [
      "theta_cab = 84.06°\n",
      "YE = (0.00913 ∠ 84.06°) S\n",
      "YE = 0.000945+0.009081j S\n",
      "RNS = 1058.0 Ohm\n",
      "XMS = 110.1 Ohm\n",
      "theta_cc = 55.43°\n",
      "ZES = (7.833 ∠ 55.43°) Ohm\n",
      "ZES = 4.44+6.45j Ohm\n",
      "ReqP = 4.44 Ohm\n",
      "XeqP = 6.45 Ohm\n",
      "RNP = 105.80 kOhm\n",
      "XMP = 11.01 kOhm\n"
     ]
    }
   ],
   "source": [
    "print('theta_cab = %.2f°'%np.rad2deg(theta_cab))\n",
    "print('YE = (%.5f ∠ %.2f°) S'%(abs(YE),np.rad2deg(theta_cab)))\n",
    "print('YE = {:.6f} S'.format(YE))\n",
    "print('RNS = %.1f Ohm'%RNS)\n",
    "print('XMS = %.1f Ohm'%XMS)\n",
    "print('theta_cc = %.2f°'%np.rad2deg(theta_cc))\n",
    "print('ZES = (%.3f ∠ %.2f°) Ohm'%(abs(ZES),np.rad2deg(theta_cc)))\n",
    "print('ZES = {:.2f} Ohm'.format(ZES))\n",
    "print('ReqP = %.2f Ohm'%ReqP)\n",
    "print('XeqP = %.2f Ohm'%XeqP)\n",
    "print('RNP = %.2f kOhm'%(RNP/1e3) )\n",
    "print('XMP = %.2f kOhm'%(XMP/1e3) )"
   ]
  },
  {
   "cell_type": "markdown",
   "metadata": {},
   "source": [
    "<img src=\"img/transf-ej-2-5.png\">"
   ]
  },
  {
   "cell_type": "markdown",
   "metadata": {},
   "source": [
    "---------\n",
    "2) Para encontrar el circuito equivalente referido al lado de bajo voltaje, simplemente se requiere dividir la impedancia entre $a^2$. Como $a = N_p/N_S=10$, los valores resultantes son"
   ]
  },
  {
   "cell_type": "code",
   "execution_count": 42,
   "metadata": {},
   "outputs": [],
   "source": [
    "RNS = RNP/a**2\n",
    "XMS = XMP/a**2\n",
    "ReqS = ReqP/a**2\n",
    "XeqS = XeqP/a**2\n",
    "ZeqS = complex(ReqS,XeqS)"
   ]
  },
  {
   "cell_type": "code",
   "execution_count": 33,
   "metadata": {},
   "outputs": [
    {
     "name": "stdout",
     "output_type": "stream",
     "text": [
      "RNS = 1058.0 Ohm\n",
      "XMS = 110.1 Ohm\n",
      "ReqS = 0.0444 Ohm\n",
      "XeqS = 0.0645 Ohm\n"
     ]
    }
   ],
   "source": [
    "print('RNS = %.1f Ohm'%RNS)\n",
    "print('XMS = %.1f Ohm'%XMS)\n",
    "print('ReqS = %.4f Ohm'%ReqS)\n",
    "print('XeqS = %.4f Ohm'%XeqS)"
   ]
  },
  {
   "cell_type": "markdown",
   "metadata": {},
   "source": [
    "---------\n",
    "3) La corriente a plena carga en el lado secundario del transformador es"
   ]
  },
  {
   "cell_type": "code",
   "execution_count": 34,
   "metadata": {},
   "outputs": [],
   "source": [
    "SN = 15e3 # VA\n",
    "VSN = 230 # V"
   ]
  },
  {
   "cell_type": "code",
   "execution_count": 69,
   "metadata": {},
   "outputs": [],
   "source": [
    "ISN = SN/VSN\n",
    "phi = np.arccos(0.8)\n",
    "IS = cmath.rect(ISN , phi)"
   ]
  },
  {
   "cell_type": "code",
   "execution_count": 70,
   "metadata": {},
   "outputs": [
    {
     "name": "stdout",
     "output_type": "stream",
     "text": [
      "IS = (65.22 ∠ 36.87°) A\n"
     ]
    }
   ],
   "source": [
    "print('IS = (%.2f ∠ %.2f°) A'%(abs(IS), np.rad2deg(phi))) "
   ]
  },
  {
   "cell_type": "code",
   "execution_count": 71,
   "metadata": {},
   "outputs": [],
   "source": [
    "Vs = 230 # V\n",
    "Vpa = Vs + ReqS * IS + XeqS * IS"
   ]
  },
  {
   "cell_type": "code",
   "execution_count": 72,
   "metadata": {},
   "outputs": [
    {
     "name": "stdout",
     "output_type": "stream",
     "text": [
      "Vpa = (235.72 ∠ 1.04°) V\n",
      "Vpa = 235.68+4.26j V\n"
     ]
    }
   ],
   "source": [
    "print('Vpa = (%.2f ∠ %.2f°) V'%(abs(Vpa), np.rad2deg(np.angle(Vpa))))\n",
    "print('Vpa = {:.2f} V'.format(Vpa))"
   ]
  },
  {
   "cell_type": "code",
   "execution_count": 80,
   "metadata": {},
   "outputs": [],
   "source": [
    "RV = (abs(Vpa) - Vs)/Vs * 100"
   ]
  },
  {
   "cell_type": "code",
   "execution_count": 81,
   "metadata": {},
   "outputs": [
    {
     "data": {
      "text/plain": [
       "2.488189620533749"
      ]
     },
     "execution_count": 81,
     "metadata": {},
     "output_type": "execute_result"
    }
   ],
   "source": [
    "RV"
   ]
  },
  {
   "cell_type": "markdown",
   "metadata": {},
   "source": [
    "## Problema N°1\n",
    "Un transformador monofásico de 380/110V cuya $S_N = 5 \\, \\mathrm{kVA}$. Ensayado con el devanado de baja tensión (o secundario) en cortocircuito; se debe aplicar 33V al lado primario para que circule corriente nominal, siendo la potencia consumida por la máquina $P_{CC} = 100,2 \\, \\mathrm{W}$."
   ]
  },
  {
   "cell_type": "markdown",
   "metadata": {},
   "source": [
    "1. Cuál será la regulación, cuando la carga aplicada tiene un factor de potencia del 0,8 en atraso, y consume la corriente nominal.\n",
    "2. Y el rendimiento, cuando la carga aplicada tiene un factor de potencia del 0,5 en atraso, entregando su corriente nominal, y las pérdidas en el núcleo son de 80W."
   ]
  },
  {
   "cell_type": "markdown",
   "metadata": {},
   "source": [
    "### Solución"
   ]
  },
  {
   "cell_type": "markdown",
   "metadata": {},
   "source": [
    "__ítem a)__"
   ]
  },
  {
   "cell_type": "markdown",
   "metadata": {},
   "source": [
    "__Datos:__\n",
    "$\\left\\{\n",
    "\\begin{array}{l}\n",
    "S_N = 5000 \\, \\mathrm{VA} \\\\\n",
    "U_{1N} = 380 \\, \\mathrm{V} \\\\\n",
    "U_{2N} = 110 \\, \\mathrm{V} \\\\\n",
    "U_{CC} = 33 \\, \\mathrm{V} \\\\\n",
    "P_{CC} = 100,2 \\, \\mathrm{W} \\\\\n",
    "\\mathrm{fp} = 0,8\n",
    "\\end{array}\n",
    "\\right.$"
   ]
  },
  {
   "cell_type": "markdown",
   "metadata": {},
   "source": [
    "<img src=\"img/trmf_p1-01.png\">"
   ]
  },
  {
   "cell_type": "markdown",
   "metadata": {},
   "source": [
    "__Cálculo de corriente nominal 1__\n",
    "$$ I_{1N} = \\frac{S_N}{U_{1N}} = 13,16 \\, \\mathrm{A} $$"
   ]
  },
  {
   "cell_type": "markdown",
   "metadata": {},
   "source": [
    "__Cálculo de corriente nominal 2__\n",
    "$$ I_{2N} = \\frac{S_N}{U_{2N}} = 45.45 \\, \\mathrm{A} $$"
   ]
  },
  {
   "cell_type": "markdown",
   "metadata": {},
   "source": [
    "__Cálculo de $\\varphi_e$__\n",
    "$$ P_{CC} = U_{CC} I_{1N} \\cos \\varphi_e $$"
   ]
  },
  {
   "cell_type": "markdown",
   "metadata": {},
   "source": [
    "$$ \\varphi_e = \\frac{P_{CC}}{U_{CC} I_{1N}} = 78,7^\\circ $$"
   ]
  },
  {
   "cell_type": "markdown",
   "metadata": {},
   "source": [
    "__Cálculo de $\\varphi_2$__\n",
    "$$ \\cos \\varphi_2 = \\mathrm{fp} = 0,8 $$"
   ]
  },
  {
   "cell_type": "markdown",
   "metadata": {},
   "source": [
    "$$ \\varphi_2 = \\arccos 0,8 = 36,87^\\circ $$"
   ]
  },
  {
   "cell_type": "markdown",
   "metadata": {},
   "source": [
    "<img src=\"img/trmf_p1-02.png\">"
   ]
  },
  {
   "cell_type": "markdown",
   "metadata": {},
   "source": [
    "__Fasorial:__\n",
    "\n",
    "<img src=\"img/fasorial_p1.png\">"
   ]
  },
  {
   "cell_type": "markdown",
   "metadata": {},
   "source": [
    "Del diagrama fasorial se deduce:\n",
    "$$ U_1^2 = [U'_2 + U'_e \\cos (\\varphi_{e} - \\varphi_2)]^2 + [U'_e \\sin (\\varphi_e - \\varphi_2)]^2 $$"
   ]
  },
  {
   "cell_type": "markdown",
   "metadata": {},
   "source": [
    "Cálculo auxiliar\n",
    "\n",
    "$\\left\\{\n",
    "\\begin{array}{l}\n",
    "U'_e \\cos (\\varphi_e - \\varphi_2) = 33 \\cos (78,7 - 36,9) = 24,7 \\, \\mathrm{V} \\\\\n",
    "U'_e \\sin (\\varphi_e - \\varphi_2) = 33 \\sin (78,7 - 36,9) = 21,9 \\, \\mathrm{V} \n",
    "\\end{array}\n",
    "\\right.$"
   ]
  },
  {
   "cell_type": "markdown",
   "metadata": {},
   "source": [
    "Entonces\n",
    "\n",
    "$$ 380^2 = (U'_2 + 24,7)^2 + (21,9)^2 $$"
   ]
  },
  {
   "cell_type": "markdown",
   "metadata": {},
   "source": [
    "$$ (U'_2)^2 + 49,4 U'_2 - 143310 = 0 $$"
   ]
  },
  {
   "cell_type": "markdown",
   "metadata": {},
   "source": [
    "$$ U'_2 = 354,7 \\, \\mathrm{V} $$"
   ]
  },
  {
   "cell_type": "markdown",
   "metadata": {},
   "source": [
    "__El porcentaje de regulación resulta:__"
   ]
  },
  {
   "cell_type": "markdown",
   "metadata": {},
   "source": [
    "$$ \\varepsilon \\% = \\frac{U_1 - U'_2}{U_1} \\times 100 $$"
   ]
  },
  {
   "cell_type": "markdown",
   "metadata": {},
   "source": [
    "$$ \\varepsilon \\% = \\frac{380 - 354,7}{380} \\times 100 = 6,7\\% $$"
   ]
  },
  {
   "cell_type": "markdown",
   "metadata": {},
   "source": [
    "__ítem b)__"
   ]
  },
  {
   "cell_type": "markdown",
   "metadata": {},
   "source": [
    "__Datos:__\n",
    "$\\left\\{\n",
    "\\begin{array}{l}\n",
    "\\mathrm{fp}_b = 0,5 \\\\\n",
    "P_0 = 80 \\, \\mathrm{W}\n",
    "\\end{array}\n",
    "\\right.$"
   ]
  },
  {
   "cell_type": "markdown",
   "metadata": {},
   "source": [
    "$$I_2 = I'_2 \\cdot a = 45,45 \\, \\mathrm{V}$$ "
   ]
  },
  {
   "cell_type": "markdown",
   "metadata": {},
   "source": [
    "$$ U_2 = \\frac{U'_2}{a} = 102,65 \\, \\mathrm{V} $$"
   ]
  },
  {
   "cell_type": "markdown",
   "metadata": {},
   "source": [
    "$$ \\varphi_b = \\arccos (\\mathrm{fp}_b) = 60^\\circ$$"
   ]
  },
  {
   "cell_type": "markdown",
   "metadata": {},
   "source": [
    "$$ \\eta = \\frac{U_2 I_2 \\cos \\varphi_b}{U_2 I_2 \\cos \\varphi_b + P_{cc} + P_0} \\times 100 = 92,8 \\% $$"
   ]
  },
  {
   "cell_type": "markdown",
   "metadata": {},
   "source": [
    "### Resolución en python:"
   ]
  },
  {
   "cell_type": "code",
   "execution_count": 1,
   "metadata": {},
   "outputs": [],
   "source": [
    "import numpy as np"
   ]
  },
  {
   "cell_type": "code",
   "execution_count": 2,
   "metadata": {},
   "outputs": [],
   "source": [
    "# Datos:\n",
    "SN  =  5e3  # VA \n",
    "U1N = 380   # V\n",
    "U2N = 110   # V\n",
    "Ucc =  33   # V\n",
    "Pcc = 100.2 # W\n",
    "fp  = 0.8"
   ]
  },
  {
   "cell_type": "code",
   "execution_count": 3,
   "metadata": {},
   "outputs": [],
   "source": [
    "# Corriente nominal primaria\n",
    "I1N = SN/U1N\n",
    "# Corriente nominal secundaria\n",
    "I2N = SN/U2N\n",
    "# (relación de transformación)\n",
    "a = U1N/U2N"
   ]
  },
  {
   "cell_type": "code",
   "execution_count": 4,
   "metadata": {},
   "outputs": [],
   "source": [
    "phi_cc = np.arccos( Pcc/(Ucc*I1N) )\n",
    "phi_2 = np.arccos(fp)"
   ]
  },
  {
   "cell_type": "code",
   "execution_count": 5,
   "metadata": {},
   "outputs": [
    {
     "name": "stdout",
     "output_type": "stream",
     "text": [
      "phi_cc = 76.66°\n",
      "phi_2 = 36.87°\n"
     ]
    }
   ],
   "source": [
    "print('phi_cc = %.2f°'%np.rad2deg(phi_cc))\n",
    "print('phi_2 = %.2f°'%np.rad2deg(phi_2))"
   ]
  },
  {
   "cell_type": "code",
   "execution_count": 6,
   "metadata": {},
   "outputs": [],
   "source": [
    "import sympy as sp"
   ]
  },
  {
   "cell_type": "code",
   "execution_count": 14,
   "metadata": {},
   "outputs": [],
   "source": [
    "U2eq = sp.symbols('U2')\n",
    "Eq = sp.Eq(U1N**2 , (U2eq + Ucc*sp.cos(phi_cc - phi_2))**2 + (Ucc*sp.sin(phi_cc - phi_2)**2) )"
   ]
  },
  {
   "cell_type": "code",
   "execution_count": 15,
   "metadata": {},
   "outputs": [],
   "source": [
    "Sol = sp.solve(Eq,U2eq)"
   ]
  },
  {
   "cell_type": "code",
   "execution_count": 16,
   "metadata": {},
   "outputs": [],
   "source": [
    "U2eq = Sol[1]"
   ]
  },
  {
   "cell_type": "code",
   "execution_count": 18,
   "metadata": {},
   "outputs": [
    {
     "name": "stdout",
     "output_type": "stream",
     "text": [
      "U2eq = 354.62 V\n"
     ]
    }
   ],
   "source": [
    "print('U2eq = %.2f V'%U2eq)"
   ]
  },
  {
   "cell_type": "code",
   "execution_count": 11,
   "metadata": {},
   "outputs": [],
   "source": [
    "reg = (U1N - U2)/U1N * 100"
   ]
  },
  {
   "cell_type": "code",
   "execution_count": 12,
   "metadata": {},
   "outputs": [
    {
     "name": "stdout",
     "output_type": "stream",
     "text": [
      "reg = 6.68 %\n"
     ]
    }
   ],
   "source": [
    "print('reg = %.2f %%'%reg)"
   ]
  },
  {
   "cell_type": "code",
   "execution_count": 42,
   "metadata": {},
   "outputs": [],
   "source": [
    "##########\n",
    "# Item b\n",
    "##########\n",
    "I2eq = I1N\n",
    "I2 = I2eq*a\n",
    "U2 = U2eq/a\n",
    "fp_b = 0.5\n",
    "phi_b = np.arccos(fp_b)\n",
    "Po = 80 # W\n",
    "\n",
    "n = (U2*I2*np.cos(phi_b))/(U2*I2*np.cos(phi_b) + Po + Pcc) * 100"
   ]
  },
  {
   "cell_type": "code",
   "execution_count": 43,
   "metadata": {},
   "outputs": [
    {
     "name": "stdout",
     "output_type": "stream",
     "text": [
      "n = 92.8 %\n"
     ]
    }
   ],
   "source": [
    "print('n = %.1f %%'%n)"
   ]
  },
  {
   "cell_type": "code",
   "execution_count": 30,
   "metadata": {},
   "outputs": [],
   "source": [
    "%reset -s -f"
   ]
  },
  {
   "cell_type": "markdown",
   "metadata": {},
   "source": [
    "## Problema N°2\n",
    "Se desea conocer el valor más alto del rendimiento que puede alcanzar un transformador monofásico, con los siguientes valores nominales: $S_N = 14 \\, \\mathrm{kVA}$, $800/400 \\, \\mathrm{V}$, y conociendo que: $U_{CC} = 3 \\, \\%$, $P_{fe} = 95 \\, \\mathrm{W}$ y $P_{CC} = 180 \\, \\mathrm{W}$."
   ]
  },
  {
   "cell_type": "markdown",
   "metadata": {},
   "source": [
    "### Solución"
   ]
  },
  {
   "cell_type": "markdown",
   "metadata": {},
   "source": [
    "__Datos:__\n",
    "$\\left\\{\n",
    "\\begin{array}{l}\n",
    "S_N = 14 \\, \\mathrm{kVA} \\\\\n",
    "U_{N1} = 800 \\, \\mathrm{V} \\\\\n",
    "U_{N2} = 400 \\, \\mathrm{V} \\\\\n",
    "U_{cc} = 3 \\% \\\\\n",
    "P_{fe} = 95 \\, \\mathrm{W} \\\\\n",
    "P_{cc} = 180 \\, \\mathrm{W}\n",
    "\\end{array}\n",
    "\\right.$"
   ]
  },
  {
   "cell_type": "markdown",
   "metadata": {},
   "source": [
    "__Relación de transformación__\n",
    "$$ a = \\frac{U_{N1}}{U_{N2}} = 2 $$"
   ]
  },
  {
   "cell_type": "markdown",
   "metadata": {},
   "source": [
    "__Corriente nominal primaria__\n",
    "$$ I_{N1} = \\frac{S_N}{U_{N1}} = 17,5 \\, A $$"
   ]
  },
  {
   "cell_type": "markdown",
   "metadata": {},
   "source": [
    "__Corriente nominal secundaria__\n",
    "$$  I_{N2} = \\frac{S_N}{U_{N2}} = 35 \\, A $$"
   ]
  },
  {
   "cell_type": "markdown",
   "metadata": {},
   "source": [
    "__Vacío:__"
   ]
  },
  {
   "cell_type": "markdown",
   "metadata": {},
   "source": [
    "En el ensayo de vacío __se aplica la tensión nominal en el lado de baja tensión__ del transformador mientras que __el lado de alta tensión queda en circuito abierto.__"
   ]
  },
  {
   "cell_type": "markdown",
   "metadata": {},
   "source": [
    "$$U_0 = U_{N2} = 400 \\, \\mathrm{V}$$"
   ]
  },
  {
   "cell_type": "markdown",
   "metadata": {},
   "source": [
    "$P_0 = P_{fe}$\n",
    "$$ I_0 = \\frac{P_0}{U_0} = 0,2375 \\, A $$"
   ]
  },
  {
   "cell_type": "markdown",
   "metadata": {},
   "source": [
    "$$ P_0 = I_0 U_0 \\cos \\varphi_0 $$"
   ]
  },
  {
   "cell_type": "markdown",
   "metadata": {},
   "source": [
    "Entonces\n",
    "$$ \\varphi_0 = \\arccos \\left( \\frac{P_0}{I_0 U_0} \\right) $$"
   ]
  },
  {
   "cell_type": "markdown",
   "metadata": {},
   "source": [
    "__Cortocircuito:__"
   ]
  },
  {
   "cell_type": "markdown",
   "metadata": {},
   "source": [
    "$$ I_{cc} = I_{N2} $$"
   ]
  },
  {
   "cell_type": "markdown",
   "metadata": {},
   "source": [
    "$$ Z_{eq1} = \\frac{U_{cc}}{I_{cc}} $$"
   ]
  },
  {
   "cell_type": "markdown",
   "metadata": {},
   "source": [
    "$$ \\varphi_{cc} = \\arccos \\left( \\frac{P_{cc}}{I_{cc} U_{cc}} \\right) = 64,62^\\circ $$"
   ]
  },
  {
   "cell_type": "markdown",
   "metadata": {},
   "source": [
    "$$ R_{eq1} = Z_{eq1} \\cos \\varphi_{cc} \\quad \\Rightarrow \\quad R_{eq2} = \\frac{R_{eq1}}{a^2} $$"
   ]
  },
  {
   "cell_type": "markdown",
   "metadata": {},
   "source": [
    "$$ X_{eq1} = Z_{eq1} \\sin \\varphi_{cc} \\quad \\Rightarrow \\quad X_{eq2} = \\frac{X_{eq1}}{a^2} $$"
   ]
  },
  {
   "cell_type": "markdown",
   "metadata": {},
   "source": [
    "__Rendimiento máximo:__"
   ]
  },
  {
   "cell_type": "markdown",
   "metadata": {},
   "source": [
    "$$ P_0 = I_2^2 R_{eq2} \\quad \\Rightarrow \\quad I_\\mathrm{2 \\eta max} = \\sqrt{\\frac{P_0}{R_{eq2}}} $$"
   ]
  },
  {
   "cell_type": "markdown",
   "metadata": {},
   "source": [
    "$U_{20} = U_0$"
   ]
  },
  {
   "cell_type": "markdown",
   "metadata": {},
   "source": [
    "$$ U_\\mathrm{2 \\eta max} = U_{20} - I_\\mathrm{2 \\eta max} (R_{eq2} \\cdot 1 + 0) $$"
   ]
  },
  {
   "cell_type": "markdown",
   "metadata": {},
   "source": [
    "$$ \\eta_\\mathrm{max} = \\frac{U_\\mathrm{2 \\eta max} I_\\mathrm{2 \\eta max} \\cdot 1}{U_\\mathrm{2 \\eta max} I_\\mathrm{2 \\eta max} \\cdot 1 + P_{cu} + P_0} \\times 100 = 98,7 \\% $$"
   ]
  },
  {
   "cell_type": "markdown",
   "metadata": {},
   "source": [
    "### Resolución en python:"
   ]
  },
  {
   "cell_type": "code",
   "execution_count": 60,
   "metadata": {},
   "outputs": [],
   "source": [
    "import numpy as np"
   ]
  },
  {
   "cell_type": "code",
   "execution_count": 61,
   "metadata": {},
   "outputs": [],
   "source": [
    "# Datos:\n",
    "SN  = 14000     # VA\n",
    "UN1 =   800     # V\n",
    "UN2 =   400     # V\n",
    "Po  =    95     # W\n",
    "Pcc =   180     # W\n",
    "Ucc = 3/100*UN1"
   ]
  },
  {
   "cell_type": "code",
   "execution_count": 62,
   "metadata": {},
   "outputs": [],
   "source": [
    "a = UN1/UN2  #     (relación de transformación)\n",
    "IN1 = SN/UN1 # A   (corriente nominal primaria)\n",
    "IN2 = SN/UN2 # A   (corriente nominal secundaria)"
   ]
  },
  {
   "cell_type": "code",
   "execution_count": 63,
   "metadata": {},
   "outputs": [],
   "source": [
    "# Vacío\n",
    "Uo = UN2\n",
    "Io = Po/Uo\n",
    "\n",
    "phi_o = np.arccos(Po/(Io*Uo))\n",
    "\n",
    "Ip = Io*np.cos(phi_o)\n",
    "Im = Io*np.sin(phi_o)\n",
    "\n",
    "# Corto circuito\n",
    "Icc = IN2\n",
    "phi_cc = np.arccos(Pcc/(Icc*Ucc))\n",
    "\n",
    "Zeq1 = Ucc/Icc\n",
    "Req1 = Zeq1*np.cos(phi_cc)\n",
    "Xeq1 = Zeq1*np.sin(phi_cc)\n",
    "Req2 = Req1/a**2\n",
    "Xeq2 = Xeq1/a**2\n",
    "\n",
    "# Rendimiento\n",
    "U20 = Uo\n",
    "I2max = np.sqrt(Po/Req2)\n",
    "U2max = U20 - I2max*(Req2*1 + 0)\n",
    "\n",
    "n = (U2max*I2max*1)/(U2max*I2max + Pcc + Po) * 100"
   ]
  },
  {
   "cell_type": "code",
   "execution_count": 67,
   "metadata": {},
   "outputs": [
    {
     "name": "stdout",
     "output_type": "stream",
     "text": [
      "-------------------\n",
      "Rendimiento máximo:\n",
      "n = 98.7 %\n",
      "-------------------\n"
     ]
    }
   ],
   "source": [
    "print('-------------------')\n",
    "print('Rendimiento máximo:')\n",
    "print('n = %.1f %%'%n)\n",
    "print('-------------------')"
   ]
  },
  {
   "cell_type": "code",
   "execution_count": 59,
   "metadata": {},
   "outputs": [],
   "source": [
    "%reset -s -f"
   ]
  }
 ],
 "metadata": {
  "kernelspec": {
   "display_name": "Python 3",
   "language": "python",
   "name": "python3"
  },
  "language_info": {
   "codemirror_mode": {
    "name": "ipython",
    "version": 3
   },
   "file_extension": ".py",
   "mimetype": "text/x-python",
   "name": "python",
   "nbconvert_exporter": "python",
   "pygments_lexer": "ipython3",
   "version": "3.7.6"
  }
 },
 "nbformat": 4,
 "nbformat_minor": 4
}
