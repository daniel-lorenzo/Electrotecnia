{
 "cells": [
  {
   "cell_type": "markdown",
   "metadata": {},
   "source": [
    "# Transformador monofásico\n",
    "__U.N.L.Z. - Facultad de Ingeniería__       \n",
    "__Electrotecnia__      \n",
    "__Alumno:__ Daniel Antonio Lorenzo  "
   ]
  },
  {
   "cell_type": "markdown",
   "metadata": {},
   "source": [
    "<a href=\"https://colab.research.google.com/github/daniel-lorenzo/Electrotecnia/blob/master/Ejercitacion/Transformador_mp.ipynb\"><img align=\"left\" src=\"https://colab.research.google.com/assets/colab-badge.svg\" alt=\"Open in Colab\" title=\"Open and Execute in Google Colaboratory\"></a>"
   ]
  },
  {
   "cell_type": "markdown",
   "metadata": {},
   "source": [
    "## Modelo de ejercicio segundo parcial\n",
    "Se realizaron los ensayos de vacío y de cortocircuito sobre un transformador monofásico de 15kVA; 1000/500V, obteniéndose los siguientes resultados:"
   ]
  },
  {
   "cell_type": "markdown",
   "metadata": {},
   "source": [
    "Ensayo de vacío:\n",
    "* $P_0 = 135 \\, \\mathrm{W}$\n",
    "* $I_0 = 0,48 \\, \\mathrm{A}$\n",
    "* $V_0 = 500 \\, \\mathrm{V}$"
   ]
  },
  {
   "cell_type": "markdown",
   "metadata": {},
   "source": [
    "Ensayo de corto circuito:\n",
    "* $P_{CC} = 150 \\, \\mathrm{W}$ \n",
    "* $I_{CC} = 15 \\, \\mathrm{A}$ \n",
    "* $V_{CC} = 45 \\, \\mathrm{V}$"
   ]
  },
  {
   "cell_type": "markdown",
   "metadata": {},
   "source": [
    "1. Obtener los parámetros del circuito equivalente referido al lado de baja tensión modelo del transformador monofásico real.\n",
    "2. Calcular el rendimiento de este transformador, para una carga conectada en el lado de baja tensión, considerando:\n",
    "* La carga demanda un 80% de la corriente nominal\n",
    "* La carga tiene un $\\cos \\varphi = 0,8$ inductivo\n",
    "3. Calcular el rendimiento máximo de este transformador, para una carga conectada en el lado de baja tensión, considerando:\n",
    "* La carga tiene un $\\cos \\varphi = 0,9$ inductivo"
   ]
  },
  {
   "cell_type": "markdown",
   "metadata": {},
   "source": [
    "## Solución"
   ]
  },
  {
   "cell_type": "markdown",
   "metadata": {},
   "source": [
    "a) Interpretación y planteo del problema\n",
    "* Condición del problema: analizar el circuito del transformador monofásico real con parámetros referidos al lado de baja tensión, es decir:"
   ]
  },
  {
   "cell_type": "markdown",
   "metadata": {},
   "source": [
    "<img src=\"img/transf_ejmp.png\">\n",
    "\n",
    "* El objetivo es: hallar el valor de la magnitud de esos parámetros referidos al lado de baja tensión."
   ]
  },
  {
   "cell_type": "markdown",
   "metadata": {},
   "source": [
    "__Resolución:__\n",
    "* Analizar el ensayo de vacío para obtener el valor de la magnitud de los parámetros $X_{m2}$ y $R_{p2}$\n",
    "* Analizar el ensayo de corto circuito para obtener el valor de la magnitud de los parámetros $X_{eq2}$ y $R_{eq2}$"
   ]
  },
  {
   "cell_type": "markdown",
   "metadata": {},
   "source": [
    "__Obtención de parámetros $X_{m2}$ y $R_{p2}$__"
   ]
  },
  {
   "cell_type": "markdown",
   "metadata": {},
   "source": [
    "Análisis del ensayo de vacío:\n",
    "\n",
    "$$ \\color{red}{X_{m2}} = \\frac{\\color{green}{V_{2N}}}{I_m} $$"
   ]
  },
  {
   "cell_type": "markdown",
   "metadata": {},
   "source": [
    "$$ \\color{red}{R_{p2}} = \\frac{\\color{green}{V_{2N}}}{I_p} $$"
   ]
  },
  {
   "cell_type": "markdown",
   "metadata": {},
   "source": [
    "__Siendo:__\n",
    "\n",
    "$\\begin{array}{l}\n",
    "I_p = \\color{green}{I_0} \\cos \\varphi_0 \\\\\n",
    "I_m = \\color{green}{I_0} \\sin \\varphi_0\n",
    "\\end{array}$"
   ]
  },
  {
   "cell_type": "markdown",
   "metadata": {},
   "source": [
    "__Datos:__\n",
    "\n",
    "$\\begin{array}{l}\n",
    "P_0 = 135 \\, \\mathrm{W} \\\\\n",
    "I_0 = 0,48 \\, \\mathrm{A} \\\\\n",
    "V_0 = 500 \\, \\mathrm{V} \\\\\n",
    "S_N = 15 \\, \\mathrm{kVA} \\\\\n",
    "V_{1N} = 1000 \\, \\mathrm{V} \\\\\n",
    "V_{2N} = 500 \\, \\mathrm{V}\n",
    "\\end{array}$"
   ]
  },
  {
   "cell_type": "markdown",
   "metadata": {},
   "source": [
    "__Procedimiento:__\n",
    "\n",
    "Para calcular $\\color{red}{X_{m2}}$ y $\\color{red}{R_{p2}}$ primero debo hallar las magnitudes de $I_p$ e $I_m$, pero para obtener lograr esto previamente necesito conocer el calor del ángulo $\\varphi_0$, entonces:"
   ]
  },
  {
   "cell_type": "markdown",
   "metadata": {},
   "source": [
    "1. __Identifico el lado en que se realizó el ensayo:__\n",
    "  * El ensayo de vacío se realiza a tensión nominal, de los datos obtengo que $\\color{green}{V_{2N} = 500 \\, \\mathrm{V}}$ por lo tanto el ensayo se ha realizado en el lado de baja tensión."
   ]
  },
  {
   "cell_type": "markdown",
   "metadata": {},
   "source": [
    "2. __Cálculo de $\\varphi_0$__\n",
    "$$ \\color{green}{Po = I_0 V_0} \\cos \\varphi_0 $$"
   ]
  },
  {
   "cell_type": "markdown",
   "metadata": {},
   "source": [
    "  Despejo $\\varphi_0$\n",
    "$$ \\varphi_0 = \\cos^{-1} \\color{green}{\\frac{P_0}{I_0 V_0}} $$"
   ]
  },
  {
   "cell_type": "markdown",
   "metadata": {},
   "source": [
    "3. __Cálculo de $I_p$ e $I_m$__"
   ]
  },
  {
   "cell_type": "markdown",
   "metadata": {},
   "source": [
    "$$\\begin{array}{l}\n",
    "I_p = \\color{green}{I_0} \\cos \\varphi_0 \\\\\n",
    "I_m = \\color{green}{I_0} \\sin \\varphi_0\n",
    "\\end{array}$$"
   ]
  },
  {
   "cell_type": "markdown",
   "metadata": {},
   "source": [
    "4. __Cálculo del objetivo $\\color{red}{X_{m2}}$ y $\\color{red}{R_{p2}}$__"
   ]
  },
  {
   "cell_type": "markdown",
   "metadata": {},
   "source": [
    "$$ \\color{red}{R_{p2}} = \\frac{\\color{green}{V_{2N}}}{I_p} $$"
   ]
  },
  {
   "cell_type": "markdown",
   "metadata": {},
   "source": [
    "$$ \\color{red}{X_{m2}} = \\frac{\\color{green}{V_{2N}}}{I_m} $$"
   ]
  },
  {
   "cell_type": "markdown",
   "metadata": {},
   "source": [
    "__Obtención de parámetros $R_{eq2}$ y $X_{eq2}$__\n",
    "\n",
    "Para poder calcular $R_{eq2}$ y $X_{eq2}$ primero debo hallar la magnitud de $Z_{eq2}$, entonces"
   ]
  },
  {
   "cell_type": "markdown",
   "metadata": {},
   "source": [
    "1. Identifico el lado en que se realizó el ensayo\n",
    "  * El ensayo de cortocircuito se realiza a corriente nominal, desde los datos obtengo $\\color{green}{S_N, \\, V_{1N}}$ y $\\color{green}{V_{2N}}$."
   ]
  },
  {
   "cell_type": "markdown",
   "metadata": {},
   "source": [
    "Entonces, sabiendo que:\n",
    "\n",
    "$\\begin{array}{l}\n",
    "\\color{green}{S_N = V_{1N}} I_{1N} \\\\\n",
    "\\color{green}{S_N = V_{2N}} I_{2N}\n",
    "\\end{array}$"
   ]
  },
  {
   "cell_type": "markdown",
   "metadata": {},
   "source": [
    "Despejo $I_{1N}$ e $I_{2N}$"
   ]
  },
  {
   "cell_type": "markdown",
   "metadata": {},
   "source": [
    "$$ I_{1N} = \\color{green}{\\frac{S_N}{V_{1N}}} = 15 \\, \\mathrm{A} $$"
   ]
  },
  {
   "cell_type": "markdown",
   "metadata": {},
   "source": [
    "$$ I_{2N} = \\color{green}{\\frac{S_N}{V_{2N}}} = 30 \\, \\mathrm{A} $$"
   ]
  },
  {
   "cell_type": "markdown",
   "metadata": {},
   "source": [
    "2. __Cálculo de la relación de transformación__"
   ]
  },
  {
   "cell_type": "markdown",
   "metadata": {},
   "source": [
    "$$ a = \\color{green}{\\frac{V_{1N}}{V_{2N}}} = 2 $$"
   ]
  },
  {
   "cell_type": "markdown",
   "metadata": {},
   "source": [
    "3. __Cálculo de $Z_{eq2}$__"
   ]
  },
  {
   "cell_type": "markdown",
   "metadata": {},
   "source": [
    "$$ |Z_{eq2}| = \\color{green}{\\frac{V_{CC}/I_{1N}}{a^2}} = 0,75 \\, \\Omega $$"
   ]
  },
  {
   "cell_type": "markdown",
   "metadata": {},
   "source": [
    "4. __Cálculo de $\\varphi_{CC}$__\n",
    "$$ \\color{green}{P_{CC} = V_{CC} I_{CC}} \\cos \\varphi_{CC} $$"
   ]
  },
  {
   "cell_type": "markdown",
   "metadata": {},
   "source": [
    "Despejo $\\varphi_{CC}$\n",
    "$$ \\varphi_{CC} = \\cos^{-1} \\color{green}{\\frac{P_{CC}}{V_{CC} I_{CC}}} = 77,16^\\circ $$"
   ]
  },
  {
   "cell_type": "markdown",
   "metadata": {},
   "source": [
    "5. __Cálculo del objetivo $\\color{red}{R_{eq2}}$ y $\\color{red}{X_{eq2}}$__"
   ]
  },
  {
   "cell_type": "markdown",
   "metadata": {},
   "source": [
    "$$ \\color{red}{R_{eq2}} = Z_{eq2} \\cos \\varphi_{CC} = 0,167 \\, \\Omega $$"
   ]
  },
  {
   "cell_type": "markdown",
   "metadata": {},
   "source": [
    "$$ \\color{red}{X_{eq2}} = Z_{eq2} \\sin \\varphi_{CC} = 0,731 \\, \\Omega $$"
   ]
  },
  {
   "cell_type": "markdown",
   "metadata": {},
   "source": [
    "b) __El objetivo es calcular:__"
   ]
  },
  {
   "cell_type": "markdown",
   "metadata": {},
   "source": [
    "$$ \\color{red}{\\eta} = \\frac{V_2 I_2 \\color{green}{\\cos \\varphi}}{V_2 I_2 \\color{green}{\\cos \\varphi + P_0} + P_{cu}} $$"
   ]
  },
  {
   "cell_type": "markdown",
   "metadata": {},
   "source": [
    "Sabiendo que:\n",
    "* $\\color{green}{\\cos \\varphi = 0,8} \\; \\rightarrow$ *condición del problema*\n",
    "* $V_2 = \\color{green}{V_{2N}} - I_2 (\\color{green}{R_{eq2} \\cos \\varphi + X_{eq2}} \\sin \\varphi) \\; \\rightarrow$ *para cargas inductivas*\n",
    "* $I_2 = 0,8 \\color{green}{I_{2N}} \\; \\rightarrow$ *condición del problema*\n",
    "* $\\color{green}{P_0 = 135 \\, \\mathrm{W}}$\n",
    "* $P_{cu} = I_2^2 \\color{green}{R_{eq2}}$"
   ]
  },
  {
   "cell_type": "markdown",
   "metadata": {},
   "source": [
    "Observo que para poder hallar $V_2$ y $P_{cu}$ necesito el valor de $I_2$, entonces:"
   ]
  },
  {
   "cell_type": "markdown",
   "metadata": {},
   "source": [
    "1. __Cálculo de $I_2$__\n",
    "$$I_2 = 0,8 I_{2N}$$"
   ]
  },
  {
   "cell_type": "markdown",
   "metadata": {},
   "source": [
    "2. __Cálculo de $V_2$__"
   ]
  },
  {
   "cell_type": "markdown",
   "metadata": {},
   "source": [
    "$$ V_2 = \\color{green}{V_{2N}} - I_2 (\\color{green}{R_{eq2} \\cos \\varphi + X_{eq2}} \\sin \\varphi) $$"
   ]
  },
  {
   "cell_type": "markdown",
   "metadata": {},
   "source": [
    "Reemplazo los valores obtenidos desde los datos y el valor de la corriente $I_2$ calculada"
   ]
  },
  {
   "cell_type": "markdown",
   "metadata": {},
   "source": [
    "$$ \\varphi = \\cos^{-1} 0,8 $$"
   ]
  },
  {
   "cell_type": "markdown",
   "metadata": {},
   "source": [
    "3. __Cálculo del objetivo $\\eta$__"
   ]
  },
  {
   "cell_type": "markdown",
   "metadata": {},
   "source": [
    "$$ \\eta = \\frac{V_2 I_2 \\color{green}{\\cos \\varphi}}{V_2 I_2 \\color{green}{\\cos \\varphi + P_0} P_{cu}} = 0,976 $$"
   ]
  },
  {
   "cell_type": "markdown",
   "metadata": {},
   "source": [
    "__c) El objetivo es calcular:__"
   ]
  },
  {
   "cell_type": "markdown",
   "metadata": {},
   "source": [
    "$$ \\color{red}{\\eta_\\mathrm{max}} = \\frac{V_\\mathrm{\\eta2max} I_\\mathrm{\\eta2max} \\color{green}{\\cos \\varphi}}{V_\\mathrm{2\\eta max} I_\\mathrm{\\eta 2 max} \\color{green}{\\cos \\varphi} + 2 \\color{green}{P_0}} $$"
   ]
  },
  {
   "cell_type": "markdown",
   "metadata": {},
   "source": [
    "Sabiendo que:\n",
    "* $\\color{green}{\\cos \\varphi = 0,9} \\; \\rightarrow$ *condición del problema*\n",
    "* $V_\\mathrm{2 \\eta max} = \\color{green}{V_{2N}} - I_\\mathrm{\\eta 2 max} (\\color{green}{R_{eq2} \\cos \\varphi + X_{eq2}} \\sin \\varphi) \\; \\rightarrow$ *para cargas inductivas*\n",
    "* $\\displaystyle I_\\mathrm{\\eta 2 max} = \\sqrt{\\color{green}{\\frac{P_0}{R_{eq2}}} }$\n",
    "* $\\color{green}{P_0} = P_{cu}$"
   ]
  },
  {
   "cell_type": "markdown",
   "metadata": {},
   "source": [
    "Observo que para poder hallar $V_\\mathrm{2 \\eta max}$ necesito el valor de $I_\\mathrm{\\eta 2 max}$, entonces:"
   ]
  },
  {
   "cell_type": "markdown",
   "metadata": {},
   "source": [
    "1. __Cálculo de $I_\\mathrm{\\eta 2 max}$__"
   ]
  },
  {
   "cell_type": "markdown",
   "metadata": {},
   "source": [
    "$$ I_\\mathrm{\\eta 2 max} = \\sqrt{ \\color{green}{\\frac{P_0}{R_{eq2}}} } = 28,46 \\, \\mathrm{A} $$"
   ]
  },
  {
   "cell_type": "markdown",
   "metadata": {},
   "source": [
    "2. __Cálculo de $V_\\mathrm{2 \\eta max}$__"
   ]
  },
  {
   "cell_type": "markdown",
   "metadata": {},
   "source": [
    "$$ V_\\mathrm{2 \\eta max} = \\color{green}{V_{2N}} - I_\\mathrm{\\eta 2 max} (\\color{green}{R_{eq2} \\cos \\varphi + X_{eq2}} \\sin \\varphi) = 486,66 \\, \\mathrm{V}$$"
   ]
  },
  {
   "cell_type": "markdown",
   "metadata": {},
   "source": [
    "Reemplazando los valores obtenidos desde los datos y el valor de la corriente $I_\\mathrm{\\eta 2 max}$ calculada"
   ]
  },
  {
   "cell_type": "markdown",
   "metadata": {},
   "source": [
    "Siendo:\n",
    "$$ \\varphi = \\cos^{-1} 0,9 = 25,84^\\circ $$"
   ]
  },
  {
   "cell_type": "markdown",
   "metadata": {},
   "source": [
    "3. __Cálculo del objetivo $\\eta_\\mathrm{max}$__"
   ]
  },
  {
   "cell_type": "markdown",
   "metadata": {},
   "source": [
    "$$ \\color{red}{\\eta_\\mathrm{max}} = \\frac{V_\\mathrm{\\eta 2 max} I_\\mathrm{\\eta 2 max} \\color{green}{\\cos \\varphi}}{V_\\mathrm{2 \\eta max} I_\\mathrm{\\eta 2 max} \\color{green}{\\cos \\varphi} + 2 \\color{green}{P_0}} = 0.985 $$"
   ]
  },
  {
   "cell_type": "code",
   "execution_count": 1,
   "metadata": {},
   "outputs": [],
   "source": [
    "import numpy as np\n",
    "import cmath"
   ]
  },
  {
   "cell_type": "code",
   "execution_count": 2,
   "metadata": {},
   "outputs": [],
   "source": [
    "# Datos:\n",
    "Po = 135  # W\n",
    "Io = 0.48 # A\n",
    "Vo = 500  # V\n",
    "SN = 15e3 # VA\n",
    "V1N = 1000 # V\n",
    "V2N = 500 # V\n",
    "fp = 0.8"
   ]
  },
  {
   "cell_type": "code",
   "execution_count": 3,
   "metadata": {},
   "outputs": [],
   "source": [
    "# Cálculo de phi0\n",
    "phi0 = np.arccos(Po/(Io*Vo))\n",
    "# Cálculo de Io\n",
    "Io = cmath.rect(Io , phi0)"
   ]
  },
  {
   "cell_type": "code",
   "execution_count": 4,
   "metadata": {},
   "outputs": [
    {
     "name": "stdout",
     "output_type": "stream",
     "text": [
      "phi0 = 55.77°\n"
     ]
    }
   ],
   "source": [
    "print('phi0 = %.2f°'%np.rad2deg(phi0))"
   ]
  },
  {
   "cell_type": "code",
   "execution_count": 5,
   "metadata": {},
   "outputs": [],
   "source": [
    "# Cálculo de Ip\n",
    "Ip = Io.real\n",
    "# Cálculo de Im\n",
    "Im = Io.imag\n",
    "# Cálculo de Rp2\n",
    "Rp2 = V2N/Ip\n",
    "# Cálculo de Xm2\n",
    "Xm2 = V2N/Im"
   ]
  },
  {
   "cell_type": "code",
   "execution_count": 6,
   "metadata": {},
   "outputs": [
    {
     "name": "stdout",
     "output_type": "stream",
     "text": [
      "Ip = 0.270 A\n",
      "Im = 0.397 A\n",
      "Rp2 = 1851.85 Ohm\n",
      "Xm2 = 1259.88 Ohm\n"
     ]
    }
   ],
   "source": [
    "print('Ip = %.3f A'%Ip)\n",
    "print('Im = %.3f A'%Im)\n",
    "print('Rp2 = %.2f Ohm'%Rp2)\n",
    "print('Xm2 = %.2f Ohm'%Xm2)"
   ]
  },
  {
   "cell_type": "code",
   "execution_count": 7,
   "metadata": {},
   "outputs": [],
   "source": [
    "# Datos:\n",
    "Pcc = 150 # W\n",
    "Icc = 15  # A\n",
    "Vcc = 45  # V"
   ]
  },
  {
   "cell_type": "markdown",
   "metadata": {},
   "source": [
    "1. Identifico el lado en que se realizó el ensayo:"
   ]
  },
  {
   "cell_type": "code",
   "execution_count": 8,
   "metadata": {},
   "outputs": [],
   "source": [
    "# Cálculo de I1N\n",
    "I1N = SN/V1N\n",
    "# Cálculo de I2N\n",
    "I2N = SN/V2N\n",
    "# Cálculo de la relación de transformación\n",
    "a = V1N/V2N\n",
    "# Cálculo de Zeq2\n",
    "Zeq2 = (Vcc/I1N)/a**2\n",
    "# Cálculo de phicc\n",
    "phicc = np.arccos(Pcc/(Vcc*Icc))\n",
    "# Cálculo de Req2\n",
    "Req2 = Zeq2 * np.cos(phicc)\n",
    "# Cálculo de Xeq2\n",
    "Xeq2 = Zeq2 * np.sin(phicc)\n",
    "Zeq2 = complex(Req2,Xeq2)\n",
    "# Cálculo de I2\n",
    "I2 = fp*I2N\n",
    "# Cálculo de Pcu\n",
    "Pcu = I2**2 * Req2\n",
    "# Cálculo de phi\n",
    "phi = np.arccos(fp)\n",
    "# Cálculo de V2\n",
    "V2 = V2N - I2*(Req2*fp + Xeq2*np.sin(phi))\n",
    "# Cálculo de rendimiento\n",
    "n = (V2*I2*fp)/(V2*I2*fp+Po+Pcu)"
   ]
  },
  {
   "cell_type": "code",
   "execution_count": 9,
   "metadata": {},
   "outputs": [
    {
     "name": "stdout",
     "output_type": "stream",
     "text": [
      "I1N = 15.00 A\n",
      "I2N = 30.00 A\n",
      "a = 2.00\n",
      "Zeq2 = 0.167+0.731j Ohm\n",
      "|Zeq2| = 0.75 Ohm\n",
      "phicc = 77.16°\n",
      "Req2 = 0.167 Ohm\n",
      "Xeq2 = 0.731 Ohm\n",
      "\n",
      "n = 0.976\n"
     ]
    }
   ],
   "source": [
    "print('I1N = %.2f A'%I1N)\n",
    "print('I2N = %.2f A'%I2N)\n",
    "print('a = %.2f'%a)\n",
    "print('Zeq2 = {:.3f} Ohm'.format(Zeq2))\n",
    "print('|Zeq2| = %.2f Ohm'%abs(Zeq2))\n",
    "print('phicc = %.2f°'%np.rad2deg(phicc))\n",
    "print('Req2 = %.3f Ohm'%Req2)\n",
    "print('Xeq2 = %.3f Ohm'%Xeq2)\n",
    "print()\n",
    "print('n = %.3f'%n)"
   ]
  },
  {
   "cell_type": "code",
   "execution_count": 11,
   "metadata": {},
   "outputs": [],
   "source": [
    "P0 = Pcu\n",
    "fp2 = 0.9\n",
    "# Cálculo de phi2\n",
    "phi2 = np.arccos(fp2)\n",
    "# Cálculo de I_n2max\n",
    "I_n2max = np.sqrt(Po/Req2)\n",
    "# Cálculo de V_n2max\n",
    "V_n2max = V2N - I_n2max*(Req2*fp2 + Xeq2*np.sin(phi2))\n",
    "# Cálculo de n_max\n",
    "n_max = (V_n2max*I_n2max*fp2)/(V_n2max*I_n2max*fp2 + 2*P0)"
   ]
  },
  {
   "cell_type": "code",
   "execution_count": 12,
   "metadata": {},
   "outputs": [
    {
     "name": "stdout",
     "output_type": "stream",
     "text": [
      "phi2 = 25.84°\n",
      "I_n2max = 28.46 A\n",
      "V_n2max = 486.66 V\n",
      "\n",
      "n_max = 0.985\n"
     ]
    }
   ],
   "source": [
    "print('phi2 = %.2f°'%(np.rad2deg(phi2)))\n",
    "print('I_n2max = %.2f A'%I_n2max)\n",
    "print('V_n2max = %.2f V'%V_n2max)\n",
    "print()\n",
    "print('n_max = %.3f'%n_max)"
   ]
  },
  {
   "cell_type": "markdown",
   "metadata": {},
   "source": [
    "---------------\n",
    "<a href=\"https://colab.research.google.com/github/daniel-lorenzo/Electrotecnia/blob/master/Ejercitacion/Transformador_mp.ipynb\"><img align=\"left\" src=\"https://colab.research.google.com/assets/colab-badge.svg\" alt=\"Open in Colab\" title=\"Open and Execute in Google Colaboratory\"></a>"
   ]
  },
  {
   "cell_type": "code",
   "execution_count": null,
   "metadata": {},
   "outputs": [],
   "source": []
  }
 ],
 "metadata": {
  "kernelspec": {
   "display_name": "Python 3",
   "language": "python",
   "name": "python3"
  },
  "language_info": {
   "codemirror_mode": {
    "name": "ipython",
    "version": 3
   },
   "file_extension": ".py",
   "mimetype": "text/x-python",
   "name": "python",
   "nbconvert_exporter": "python",
   "pygments_lexer": "ipython3",
   "version": "3.7.6"
  }
 },
 "nbformat": 4,
 "nbformat_minor": 4
}
