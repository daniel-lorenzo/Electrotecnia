{
 "cells": [
  {
   "cell_type": "markdown",
   "id": "8981fb3f-a94a-423e-9635-acad536e8321",
   "metadata": {},
   "source": [
    "# TP N°3 - Potencia\n",
    "__UNLZ - Facultad de Ingeniería__       \n",
    "__Electrotecnia__      \n",
    "__Alumno:__ Daniel Antonio Lorenzo"
   ]
  },
  {
   "cell_type": "markdown",
   "id": "eddf0983-8798-4c00-9528-fcca5628ec25",
   "metadata": {},
   "source": [
    "## Ejercicio N°2\n",
    "Calcular el valor de la capacidad para que $\\cos \\varphi = 0,9$"
   ]
  },
  {
   "cell_type": "markdown",
   "id": "c444c6ed-7af7-4e89-a225-b98bc5e30d5f",
   "metadata": {},
   "source": [
    "<img src=\"img/tp4ep2.png\">"
   ]
  },
  {
   "cell_type": "markdown",
   "id": "d9679df0-74b0-4fa2-9390-ada0163db847",
   "metadata": {},
   "source": [
    "### Solución"
   ]
  },
  {
   "cell_type": "markdown",
   "id": "afcc48a3-2c2d-44ce-9552-a751159d9020",
   "metadata": {},
   "source": [
    "__Datos:__\n",
    "$\\left\\{\n",
    "\\begin{array}{l}\n",
    "Z_1 = 10 + j5 \\, \\Omega \\\\\n",
    "Z_2 = 10 + j100 \\, \\Omega \\\\\n",
    "U = 100 \\, \\mathrm{V \\; (rms)} \\\\\n",
    "\\mathrm{fp} = 0,9 \\\\\n",
    "f = 50 \\, \\mathrm{Hz}\n",
    "\\end{array}\n",
    "\\right.\n",
    "$"
   ]
  },
  {
   "cell_type": "markdown",
   "id": "f559244c-6faa-4baf-ade1-438c17155d60",
   "metadata": {},
   "source": [
    "Cálculo de $Z_{eq1} = Z_1 || Z_2$\n",
    "$$ Z_{eq1} = { Z_1 \\times Z_2 \\over Z_1 + Z_2 } = 10,51 < 31.64^\\circ \\, \\Omega = 8,95 + j5,51 \\, \\Omega $$"
   ]
  },
  {
   "cell_type": "markdown",
   "id": "29a46286-38ee-4cfb-94d1-42babaad646d",
   "metadata": {},
   "source": [
    "Cálculo de $I_1$\n",
    "$$ I_1 = {U \\over Z_{eq1}} = 9,51 \\angle -31,54^\\circ \\, \\mathrm{A} $$"
   ]
  },
  {
   "cell_type": "markdown",
   "id": "90b065b3-b544-41fb-9f9b-fa9b4a04235e",
   "metadata": {},
   "source": [
    "Cálculo de $S_1$\n",
    "$$ S_1 = U \\times I_1^* = 951,29 \\angle 31,64^\\circ \\, \\mathrm{VA}$$"
   ]
  },
  {
   "cell_type": "markdown",
   "id": "798ea563-6dbd-455f-aee2-4ff558aaaf06",
   "metadata": {},
   "source": [
    "$$ S_1 = 809,90 + j499,01 \\, \\mathrm{VA} $$"
   ]
  },
  {
   "cell_type": "markdown",
   "id": "097444fc-5785-45cf-9dcc-0b5daac286a6",
   "metadata": {},
   "source": [
    "Entonces:\n",
    "$$ P_1 = 809,90 \\, \\mathrm{W} $$"
   ]
  },
  {
   "cell_type": "markdown",
   "id": "e8abfc07-f3ea-4505-8b49-83eb5dea532c",
   "metadata": {},
   "source": [
    "$$ Q_1 = 499,01 \\, \\mathrm{VAr} $$"
   ]
  },
  {
   "cell_type": "markdown",
   "id": "df721d1f-a3bd-49f2-8810-dee7065f2f56",
   "metadata": {},
   "source": [
    "$$\\begin{array}{c}\n",
    "P_1 = P_2 \\\\\n",
    "|U| |I_1| \\cos \\varphi_1 = |U| |I_2| \\cos \\varphi_2 \\\\\n",
    "|I_1| \\cos \\varphi_1 = |I_2| \\cos \\varphi_2\n",
    "\\end{array}$$"
   ]
  },
  {
   "cell_type": "markdown",
   "id": "553ee14e-cc62-4073-aa5c-3fd862282d21",
   "metadata": {},
   "source": [
    "Entonces\n",
    "$$\\begin{array}{l}\n",
    " | I_2 | &= \\displaystyle | I_1 | {\\cos \\varphi_1 \\over \\cos \\varphi_2} \\\\\n",
    " | I_2 | &= \\displaystyle | I_1 | {\\cos \\varphi_1 \\over \\mathrm{fp} } \\\\\n",
    " |I_2| &= 9,00 \\, \\mathrm{A}\n",
    "\\end{array}$$"
   ]
  },
  {
   "cell_type": "markdown",
   "id": "ff4effe5-693e-45a1-bb5e-2ed2541fc012",
   "metadata": {},
   "source": [
    "Cálculo de $\\varphi_2$\n",
    "$$ \\mathrm{fp} = \\cos \\varphi_2 = 0,9 $$"
   ]
  },
  {
   "cell_type": "markdown",
   "id": "1737dff3-942c-4fc3-a527-6968c124978a",
   "metadata": {},
   "source": [
    "$$ \\varphi_2 =  \\arccos 0,9 = 25,84^\\circ $$"
   ]
  },
  {
   "cell_type": "markdown",
   "id": "c1600f73-4041-4a72-a4fc-135fc3e725f1",
   "metadata": {},
   "source": [
    "Cálculo de $S_2$\n",
    "$$ S_2 = U  I_2 \\cos (\\varphi_2) = 899,89 \\angle 25,84^\\circ \\, \\mathrm{VA} $$"
   ]
  },
  {
   "cell_type": "markdown",
   "id": "9447ef1d-fa2f-447c-ac6f-8a67c851edae",
   "metadata": {},
   "source": [
    "$$ S_2 = 809,90 + j392,25 \\, \\mathrm{VA} $$"
   ]
  },
  {
   "cell_type": "markdown",
   "id": "6b8c6ebb-7459-470d-83f7-2b38c498eea9",
   "metadata": {},
   "source": [
    "Luego\n",
    "$$ Q_2 = 392,25 \\, \\mathrm{VAr} $$"
   ]
  },
  {
   "cell_type": "markdown",
   "id": "ad421856-d623-4067-831b-2bd32e52f9f2",
   "metadata": {},
   "source": [
    "__Cálculo de $Q_C$__\n",
    "$$ Q_C = Q_1 - Q_2 = 106,76 \\, \\mathrm{VAr} $$"
   ]
  },
  {
   "cell_type": "markdown",
   "id": "b593c051-48bb-407d-92a3-395f1378bfec",
   "metadata": {},
   "source": [
    "$$ Q_C = \\frac{U^2}{X_C} = \\frac{U^2}{ 1 \\over \\omega C } $$"
   ]
  },
  {
   "cell_type": "markdown",
   "id": "bfc2f22a-5766-433a-98f1-1532b3952e27",
   "metadata": {},
   "source": [
    "__Entonces__\n",
    "$$ C = \\frac{Q_C}{2 \\pi f U^2} = 33,98 \\, \\mu \\mathrm{F} $$"
   ]
  },
  {
   "cell_type": "code",
   "execution_count": 10,
   "id": "f8a0e7e4-99de-4d52-8873-1f2157191f15",
   "metadata": {},
   "outputs": [],
   "source": [
    "import math, cmath"
   ]
  },
  {
   "cell_type": "code",
   "execution_count": 11,
   "id": "70d0bc23-7489-421c-a06d-41c52137dac3",
   "metadata": {},
   "outputs": [],
   "source": [
    "# Datos:\n",
    "Z1 = 10 + 5j # Ohm\n",
    "Z2 = 10 + 100j # Ohm\n",
    "U = 100 # V\n",
    "fp = 0.9\n",
    "f = 50 # Hz"
   ]
  },
  {
   "cell_type": "code",
   "execution_count": 12,
   "id": "751a8fbd-1499-4632-96ce-01659ecc1c4f",
   "metadata": {},
   "outputs": [],
   "source": [
    "def prl(x,y):\n",
    "    return (x*y)/(x + y)"
   ]
  },
  {
   "cell_type": "code",
   "execution_count": 13,
   "id": "b41bf1de-d47b-4b2a-aead-e3ca19a32a01",
   "metadata": {},
   "outputs": [],
   "source": [
    "#Cálculo de Zeq\n",
    "Zeq1 = prl(Z1,Z2)\n",
    "# Cálculo de I1\n",
    "I1 = U/Zeq1\n",
    "S1 = U*I1.conjugate()\n",
    "P1 = S1.real\n",
    "Q1 = S1.imag\n",
    "P2 = P1\n",
    "phi1 = cmath.phase(S1)\n",
    "# P1 = P2  --> U*I1*cos(phi1) = U*I2*cos(phi2)\n",
    "# y tenemos que fp = cos(phi2)\n",
    "# Cálculo de phi2\n",
    "phi2 = math.acos(fp)\n",
    "I2 = cmath.rect( abs(I1)*math.cos(phi1)/fp , -phi2)\n",
    "S2 = U*I2.conjugate()\n",
    "Q2 = S2.imag\n",
    "# Cálculo de Qc\n",
    "Qc = Q1 - Q2\n",
    "# Cálculo de C\n",
    "C = Qc/(2*math.pi*f*U**2)"
   ]
  },
  {
   "cell_type": "code",
   "execution_count": 14,
   "id": "7ccd3351-2767-4d7a-81cb-f7d12674a334",
   "metadata": {
    "jupyter": {
     "source_hidden": true
    }
   },
   "outputs": [
    {
     "name": "stdout",
     "output_type": "stream",
     "text": [
      "Resultados:\n",
      "---------------------------------------\n",
      "Zeq1 = (10.51 < 31.64°) Ohm\n",
      "Zeq1 = 8.95+5.51j Ohm\n",
      "I1 = (9.51 < -31.64°) A\n",
      "I2 = (9.00 < -25.84) A\n",
      "---------------------------------------\n",
      "S1 = (951.29 < 31.64°) VA\n",
      "S1 = 809.90+499.01j VA\n",
      "P1 = 809.90 W\n",
      "Q1 = 499.01 VAr\n",
      "---------------------------------------\n",
      "S2 = (899.89 < 25.84°) VA\n",
      "S2 = 809.90+392.25j VA\n",
      "P2 = 809.90 W\n",
      "Q2 = 392.25 VAr\n",
      "---------------------------------------\n",
      "Qc = 106.76 VAr\n",
      "C = 33.98 uF\n",
      "---------------------------------------\n"
     ]
    }
   ],
   "source": [
    "print('Resultados:')\n",
    "print('---------------------------------------')\n",
    "print('Zeq1 = (%.2f < %.2f°) Ohm'%(abs(Zeq1) , math.degrees( cmath.phase(Zeq1) ) ))\n",
    "print('Zeq1 = {:.2f} Ohm'.format(Zeq1))\n",
    "print('I1 = (%.2f < %.2f°) A'%(abs(I1), math.degrees( cmath.phase(I1) )))\n",
    "print('I2 = (%.2f < %.2f) A'%(abs(I2) , math.degrees( cmath.phase(I2) ) ))\n",
    "print('---------------------------------------')\n",
    "print('S1 = (%.2f < %.2f°) VA'%(abs(S1) , math.degrees( cmath.phase(S1) ) ))\n",
    "print('S1 = {:.2f} VA'.format(S1))\n",
    "print('P1 = %.2f W'%P1)\n",
    "print('Q1 = %.2f VAr'%Q1)\n",
    "print('---------------------------------------')\n",
    "print('S2 = (%.2f < %.2f°) VA'%(abs(S2), math.degrees( cmath.phase(S2) ) ))\n",
    "print('S2 = {:.2f} VA'.format(S2) )\n",
    "print('P2 = %.2f W'%P2)\n",
    "print('Q2 = %.2f VAr'%(abs(Q2)))\n",
    "print('---------------------------------------')\n",
    "print('Qc = %.2f VAr'%Qc)\n",
    "print('C = %.2f uF'%(C*1e6) )\n",
    "print('---------------------------------------')"
   ]
  },
  {
   "cell_type": "code",
   "execution_count": 15,
   "id": "5fce4a63-2632-49fe-8100-ea3079d8888b",
   "metadata": {},
   "outputs": [],
   "source": [
    "import numpy as np\n",
    "import matplotlib.pyplot as plt"
   ]
  },
  {
   "cell_type": "code",
   "execution_count": 16,
   "id": "3c9c3883-008b-44da-b5b2-e621a745491a",
   "metadata": {},
   "outputs": [
    {
     "data": {
      "image/png": "[encoded data removed]",
      "text/plain": [
       "<Figure size 504x504 with 1 Axes>"
      ]
     },
     "metadata": {
      "needs_background": "light"
     },
     "output_type": "display_data"
    }
   ],
   "source": [
    "%matplotlib inline\n",
    "plt.figure(figsize=(7,7))\n",
    "ax = plt.gca()\n",
    "ax.quiver(0,0,P1,Q1,angles='xy',scale_units='xy',scale=1,color='red')\n",
    "ax.quiver(0,0,P1,0,angles='xy',scale_units='xy',scale=1,color='blue')\n",
    "ax.quiver(P1,0,0,Q1,angles='xy',scale_units='xy',scale=1,color='green')   \n",
    "ax.quiver(P2 + 10,0,0,Q2,angles='xy',scale_units='xy',scale=1,color='orange')   \n",
    "ax.quiver(0,0,P2,Q2,angles='xy',scale_units='xy',scale=1,color='orange')\n",
    "plt.text(P1 - 100, Q1, r'$\\vec S_1$', fontsize=18, color='red', fontweight='bold')\n",
    "plt.text(P1 - 90,  30, r'$\\vec P_1$', fontsize=18, color='blue', fontweight='bold')\n",
    "plt.text(P1 + 20, Q1, r'$\\vec Q_1$', fontsize=18, color='green', fontweight='bold')\n",
    "plt.text(P2 - 80, Q2, r'$\\vec S_2$', fontsize=18, color='orange', fontweight='bold')\n",
    "plt.text(P2 + 20, Q2, r'$\\vec Q_2$', fontsize=18, color='orange', fontweight='bold')\n",
    "plt.text(200, 50, r'$\\varphi_1 =$ %.2f°'%( math.degrees(phi1) ), fontsize=14)\n",
    "plt.text(500, 120, r'$\\varphi_2 =$ %.2f°'%( math.degrees(phi2) ), fontsize=14)\n",
    "theta1 = np.linspace(0, phi1, 100) \n",
    "x1 = 200 * np.cos(theta1)\n",
    "x2 = 200 * np.sin(theta1)\n",
    "plt.plot(x1, x2, color='red', linestyle=\"--\")\n",
    "theta2 = np.linspace(0, phi2, 100) \n",
    "x3 = 500 * np.cos(theta2)\n",
    "x4 = 500 * np.sin(theta2)\n",
    "plt.plot(x3, x4, color='orange', linestyle=\"--\")\n",
    "ax.set_xlim([0,1000])\n",
    "ax.set_ylim([-100,800])\n",
    "ax.set_aspect('equal')\n",
    "plt.title('Triángulo de potencias', fontsize=18)\n",
    "plt.xlabel('Re (Eje real)',  fontsize=14)\n",
    "plt.ylabel('Im (Eje imaginario)',  fontsize=14)\n",
    "plt.grid(linestyle=\":\")\n",
    "ax.set_axisbelow(True)\n",
    "plt.draw()\n",
    "plt.show()"
   ]
  }
 ],
 "metadata": {
  "kernelspec": {
   "display_name": "Python 3 (ipykernel)",
   "language": "python",
   "name": "python3"
  },
  "language_info": {
   "codemirror_mode": {
    "name": "ipython",
    "version": 3
   },
   "file_extension": ".py",
   "mimetype": "text/x-python",
   "name": "python",
   "nbconvert_exporter": "python",
   "pygments_lexer": "ipython3",
   "version": "3.9.12"
  }
 },
 "nbformat": 4,
 "nbformat_minor": 5
}
