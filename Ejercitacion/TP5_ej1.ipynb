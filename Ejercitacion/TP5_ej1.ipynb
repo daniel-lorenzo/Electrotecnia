{
 "cells": [
  {
   "cell_type": "markdown",
   "id": "37d8bae5-462a-49e3-b441-eb443d964bf6",
   "metadata": {},
   "source": [
    "# TP N°5 - Circuitos trifásicos\n",
    "__UNLZ - Facultad de Ingeniería__       \n",
    "__Electrotecnia__      \n",
    "__Alumno:__ Daniel Antonio Lorenzo"
   ]
  },
  {
   "cell_type": "markdown",
   "id": "aaf2cb21-1436-4226-8996-11a16c3f7c3e",
   "metadata": {},
   "source": [
    "## Problema N°1\n",
    "En una fuente trifásica de sistema de tensiones perfecta de secuencia directa ABC, conectada en estrella.\n",
    "1. Expresar las tensiones de fase en forma fasorial y representar el esquema fasorial de tensiones de fase.\n",
    "2. Obtener las tensiones compuestas o de línea y expresarlas en función del módulo de la tensión de fase.\n",
    "3. Representar en un mismo esquema fasorial los sistemas de tensiones de fase y compuesta."
   ]
  },
  {
   "cell_type": "markdown",
   "id": "0ae663e7-06af-4528-b958-a8fba6168abf",
   "metadata": {},
   "source": [
    "### Resolución:\n",
    "__Punto 1:__ El ejercicio nos indica que la fuente de generación trifásica produce en bornes de sus 3 devanados un sistema de generación de tensiones o voltajes de <mark>tensiones prefecta </mark>. Esta será la condición de generación que utilizaremos en el desarrollo de todos nuestros problemas."
   ]
  },
  {
   "cell_type": "markdown",
   "id": "96c9d77a-85a4-4b45-8ac8-d75ff91795e9",
   "metadata": {},
   "source": [
    "También nos indica, que la <mark>secuencia</mark> de generación es directa __ABC__ y que tendremos una carga conectada en estrella."
   ]
  },
  {
   "cell_type": "markdown",
   "id": "f9981f79-f773-4ab5-8109-a5eb2a397dbf",
   "metadata": {},
   "source": [
    "Siempre, dispondremos de una fuente generadora y de un receptor o carga."
   ]
  },
  {
   "cell_type": "markdown",
   "id": "551082f9-987c-418c-8b18-55615d69ae3f",
   "metadata": {},
   "source": [
    "<img src=\"img/tp5-1-1.png\">"
   ]
  },
  {
   "cell_type": "markdown",
   "id": "9edf2199-eea3-4b85-9727-9605c2f2fb4e",
   "metadata": {},
   "source": [
    "<img src=\"img/tp5-1-4.png\">"
   ]
  },
  {
   "cell_type": "markdown",
   "id": "3084f2fc-1c62-4674-a345-52edd813f437",
   "metadata": {},
   "source": [
    "<img src=\"img/tp5-1-5.png\">"
   ]
  },
  {
   "cell_type": "markdown",
   "id": "60bfb113-4581-47ec-abb7-edd5bbbdaba6",
   "metadata": {},
   "source": [
    "Se pretende transportar energía eléctrica trifásica, desde el generador hacia la carga, lo realizaremos a través de una línea de transporte."
   ]
  },
  {
   "cell_type": "markdown",
   "id": "c68b0b33-cd47-4803-8085-0b1a56cc39f0",
   "metadata": {},
   "source": [
    "El esquema que graficamos a continuación se denomina sistema __Trifilar__ por disponer de __3 conductores__."
   ]
  },
  {
   "cell_type": "markdown",
   "id": "d286b66d-3bb5-4224-9436-0510bca5c412",
   "metadata": {},
   "source": [
    "<img src=\"img/tp5-1-2.png\">"
   ]
  },
  {
   "cell_type": "markdown",
   "id": "728c447e-9f65-42ec-b656-3b8e438e724e",
   "metadata": {},
   "source": [
    "En caso de disponer de __4 conductores__ (incluye al conductor Neutro) lo denominaremos __Tetrafilar__."
   ]
  },
  {
   "cell_type": "markdown",
   "id": "f9b2395e-94e6-4912-a40e-829affd470fa",
   "metadata": {},
   "source": [
    "__<mark>El sistema de tensiones perfecta</mark>__ es un sistema de tensiones que cumple con la condición de simetría: tensiones desfasadas entre si un mismo ángulo de 120° eléctricos y de módulos iguales entre sí, y cumple con la condición de equilibrio: la sumatoria de los fasores de tensión es igual a cero."
   ]
  },
  {
   "cell_type": "markdown",
   "id": "97b68ebb-d96d-4c79-8370-6db46f9c65ee",
   "metadata": {},
   "source": [
    "Los voltajes inducidos en las bobinas del generador son senoidales."
   ]
  },
  {
   "cell_type": "markdown",
   "id": "2874261c-4a7f-498c-aba2-a7d6575c332e",
   "metadata": {},
   "source": [
    "La representación gráfica del sistema trifásico perfecto, formado por tres tensiones senoidales del mismo valor eficaz, la misma frecuencia y desfasadas entre sí 120° eléctricos será:"
   ]
  },
  {
   "cell_type": "markdown",
   "id": "2f1f135b-062c-474b-9016-88b18923d0e9",
   "metadata": {},
   "source": [
    "<img src=\"img/tp5-1-3.png\">"
   ]
  },
  {
   "cell_type": "markdown",
   "id": "d2116ba2-357b-4759-8b0c-8f643e6d1ccb",
   "metadata": {},
   "source": [
    "Se puede observar que en cualquier instante de tiempo:"
   ]
  },
  {
   "cell_type": "markdown",
   "id": "48fafe0f-7e8f-4c21-8f63-d78a2c90b612",
   "metadata": {},
   "source": [
    "$$ eA + eB + eC = 0 $$"
   ]
  },
  {
   "cell_type": "markdown",
   "id": "e6fc6799-39a5-4496-b80b-b4e98348e5e5",
   "metadata": {},
   "source": [
    "El voltaje B está atrasado 120° eléctricos respecto de A y C pasa 240° después. Esto se llama secuencia ABC."
   ]
  },
  {
   "cell_type": "markdown",
   "id": "bb00e8a7-1cbc-46e8-ab7f-3755d3113fdf",
   "metadata": {},
   "source": [
    "El cambio en la dirección rotacional $\\curvearrowright^ \\omega$ producirá A-C-B-A-C-B... Lo cual se llama secuencia indirecta o inversa o secuencia CBA."
   ]
  },
  {
   "cell_type": "markdown",
   "id": "93c2c6cf-d96b-40a0-87f6-7c99e7be433d",
   "metadata": {},
   "source": [
    "A continuación, se indica la convención y las gráficas que adoptaremos para resolver los problemas. Los fasores están girando en el sentido de $\\omega$ indicado en la figura."
   ]
  },
  {
   "cell_type": "markdown",
   "id": "3d963c01-99d0-4c2a-b8b7-d6e6cfb04a04",
   "metadata": {},
   "source": [
    "La secuencia __ABC__ se representa de esta forma:"
   ]
  },
  {
   "cell_type": "markdown",
   "id": "e78e4608-180c-4caa-be83-2fbe47180b09",
   "metadata": {},
   "source": [
    "<img src=\"img/tp5-1-6.png\">"
   ]
  },
  {
   "cell_type": "markdown",
   "id": "c7ae697a-dfdf-4a2e-97ad-dff09b9363b0",
   "metadata": {},
   "source": [
    "La secuencia inversa o indirecta __CBA__ se representa de esta forma:"
   ]
  },
  {
   "cell_type": "markdown",
   "id": "c63798ff-07eb-4b99-b92c-e1cec8fbc5cf",
   "metadata": {},
   "source": [
    "<img src=\"img/tp5-1-7.png\">"
   ]
  },
  {
   "cell_type": "markdown",
   "id": "37a1498f-f0dd-4885-8423-8dea5be6493b",
   "metadata": {},
   "source": [
    "La representación y las ecuaciones fasoriales."
   ]
  },
  {
   "cell_type": "markdown",
   "id": "41c42317-2bd0-462b-b8b6-905275e816cf",
   "metadata": {},
   "source": [
    "<img src=\"img/tp5-1-8.png\">"
   ]
  },
  {
   "cell_type": "markdown",
   "id": "a264f20a-afb5-4540-907d-2674c7c55180",
   "metadata": {},
   "source": [
    "__Tensiones de fase__\n",
    "\n",
    "$\\begin{array}{lcl}\n",
    "\\color{red}{\\vec{E}_{an}} = |E_{an}| e^{j0^\\circ} &=& E e^{j0^\\circ} \\\\\n",
    "\\color{red}{\\vec{E}_{bn}} = |E_{bn}| e^{j240^\\circ} &=& E e^{j240^\\circ} \\\\\n",
    "\\color{red}{\\vec{E}_{cn}} = |E_{cn}| e^{j120^\\circ} &=& E e^{j120^\\circ}\n",
    "\\end{array}$"
   ]
  },
  {
   "cell_type": "markdown",
   "id": "544d6bc7-5a46-4a66-9261-b805fb73a24e",
   "metadata": {},
   "source": [
    "Resultan 6 tensiones:\n",
    "\n",
    "3 tensiones denominadas __\"tensiones simples o de fase\"__"
   ]
  },
  {
   "cell_type": "markdown",
   "id": "2941e676-d9b4-400d-af2f-b707a1ad683b",
   "metadata": {},
   "source": [
    "$\\color{red}{\n",
    "\\begin{array}{l}\n",
    "\\vec{E}_{an} \\\\\n",
    "\\vec{E}_{bn} \\\\\n",
    "\\vec{E}_{cn}\n",
    "\\end{array}}$"
   ]
  },
  {
   "cell_type": "markdown",
   "id": "0270c42c-6a19-4a70-8ac7-3797367cc2f1",
   "metadata": {},
   "source": [
    "3 tensiones denominadas __\"tensiones compuestas o tensiones de línea\"__"
   ]
  },
  {
   "cell_type": "markdown",
   "id": "72de2190-4428-4c2e-82c6-23b0b7d9c04a",
   "metadata": {},
   "source": [
    "$\\begin{array}{l}\n",
    "\\color{blue}{\\vec{E}_{ab}} = \\vec{E}_{an} - \\vec{E}_{bn} \\\\\n",
    "\\color{blue}{\\vec{E}_{bc}} = \\vec{E}_{bn} - \\vec{E}_{cn} \\\\\n",
    "\\color{blue}{\\vec{E}_{ca}} = \\vec{E}_{cn} - \\vec{E}_{an}\n",
    "\\end{array}$"
   ]
  },
  {
   "cell_type": "markdown",
   "id": "852e1619-cab7-4e27-a317-978550bd56e4",
   "metadata": {},
   "source": [
    "El eje del fasor $\\vec{E}_{an}$ se toma como referencia, los ángulos y módulos asociados a las tensiones compuestas son:"
   ]
  },
  {
   "cell_type": "markdown",
   "id": "3aad280d-ef4c-4c55-a8a6-0ea870d86137",
   "metadata": {},
   "source": [
    "__Tensiones compuestas o de línea:__\n",
    "\n",
    "$\\begin{array}{l}\n",
    "\\color{blue}{\\vec{E}_{ab}} = \\vec{E}_{an} - \\vec{E}_{bn} = \\sqrt{3} E e^{j30^\\circ} \\\\\n",
    "\\color{blue}{\\vec{E}_{bc}} = \\vec{E}_{bn} - \\vec{E}_{cn} = \\sqrt{3} E e^{j270^\\circ} \\\\\n",
    "\\color{blue}{\\vec{E}_{ca}} = \\vec{E}_{cn} - \\vec{E}_{an} = \\sqrt{3} E e^{j150^\\circ}\n",
    "\\end{array}$"
   ]
  },
  {
   "cell_type": "markdown",
   "id": "df1bfe73-5379-46da-97a3-80f01b784e4e",
   "metadata": {},
   "source": [
    "__1.1__ Expresar las tensiones de fase en forma fasorial y representar el esquema fasorial de tensiones de fase."
   ]
  },
  {
   "cell_type": "markdown",
   "id": "6b9b34e2-128d-4879-910b-4d0c4eaa10d0",
   "metadata": {},
   "source": [
    "Por las condiciones de perfección del sistema."
   ]
  },
  {
   "cell_type": "markdown",
   "id": "8981e39a-e5ae-4db7-83de-7196cfaa855c",
   "metadata": {},
   "source": [
    "<mark style=\"background-color:powderblue\">Condición de Simetría</mark>"
   ]
  },
  {
   "cell_type": "markdown",
   "id": "8d99dda8-5101-43be-9151-7807ef8291cd",
   "metadata": {},
   "source": [
    "$$ |\\vec{E}_{an}| = |\\vec{E}_{bn}| = |\\vec{E}_{cn}| = E $$"
   ]
  },
  {
   "cell_type": "markdown",
   "id": "ff813118-be36-481d-8d90-b8d36fba02a1",
   "metadata": {},
   "source": [
    "<mark style=\"background-color:powderblue\">Igualdad de ángulos entre tensiones de bobinas"
   ]
  },
  {
   "cell_type": "markdown",
   "id": "8b61fe75-a41d-42aa-a09b-97a43e10d2a8",
   "metadata": {},
   "source": [
    "$$ \\alpha = \\beta = \\gamma = 120^\\circ $$"
   ]
  },
  {
   "cell_type": "markdown",
   "id": "b463f997-acbf-4853-8622-935bc8abd18d",
   "metadata": {},
   "source": [
    "<mark style=\"background-color:powderblue\">Condición de Equilibrio</mark>"
   ]
  },
  {
   "cell_type": "markdown",
   "id": "39c65bf3-6e8c-483d-bc61-0899e01830bc",
   "metadata": {},
   "source": [
    "$$ \\vec{E}_{an} + \\vec{E}_{bn} + \\vec{E}_{cn} = 0 $$"
   ]
  },
  {
   "cell_type": "markdown",
   "id": "44aece85-ff24-4b71-88a3-c3cdf4e7f864",
   "metadata": {},
   "source": [
    "<mark>Esquema fasorial de las tensiones de fase y su secuencia directa ABC</mark>"
   ]
  },
  {
   "cell_type": "markdown",
   "id": "e9752c6f-6696-4390-a9b2-abe91b196e61",
   "metadata": {},
   "source": [
    "<img src=\"img/tp5-1-6.png\">"
   ]
  },
  {
   "cell_type": "markdown",
   "id": "35636e0c-d510-498c-b057-a2e1ebd6a821",
   "metadata": {},
   "source": [
    "__1.2__ Obtener las tensiones compuestas o de línea y expresarlas en función del módulo de la tensión de fase"
   ]
  },
  {
   "cell_type": "markdown",
   "id": "1b3b7f32-ea25-4a60-b1f2-95d871d26989",
   "metadata": {},
   "source": [
    "<img src=\"img/tp5-1-8.png\">"
   ]
  },
  {
   "cell_type": "markdown",
   "id": "187138bb-a339-4f65-9bc1-8d1260ddd224",
   "metadata": {},
   "source": [
    "$$ V_{ab} = E_{ab} = E_{an} e^{j0^\\circ} - E_{bn} e^{j240^\\circ} $$"
   ]
  },
  {
   "cell_type": "code",
   "execution_count": 1,
   "id": "007c61ee-5192-4aed-af36-cb7959530b3c",
   "metadata": {},
   "outputs": [],
   "source": [
    "import math, cmath"
   ]
  },
  {
   "cell_type": "code",
   "execution_count": 2,
   "id": "86f922a9-6cf8-49f7-a2d4-4705aed65ab9",
   "metadata": {},
   "outputs": [],
   "source": [
    "# Datos\n",
    "Ean = cmath.rect(1 , 0)\n",
    "Ebn = cmath.rect(1 , math.radians(240) )\n",
    "Ecn = cmath.rect(1 , math.radians(120) )"
   ]
  },
  {
   "cell_type": "code",
   "execution_count": 3,
   "id": "5f4114e8-3ca4-41f2-b97f-ff50b1469649",
   "metadata": {},
   "outputs": [],
   "source": [
    "Vab = Ean - Ebn"
   ]
  },
  {
   "cell_type": "code",
   "execution_count": 4,
   "id": "d6177200-df20-4dda-bfb8-514525a8733b",
   "metadata": {
    "jupyter": {
     "source_hidden": true
    }
   },
   "outputs": [
    {
     "name": "stdout",
     "output_type": "stream",
     "text": [
      "|Vab| = 1.732*E [V]\n",
      "theta = 30.00°\n"
     ]
    }
   ],
   "source": [
    "print('|Vab| = %.3f*E [V]'%abs(Vab))\n",
    "print('theta = %.2f°'%math.degrees( cmath.phase(Vab) ) )"
   ]
  },
  {
   "cell_type": "markdown",
   "id": "ccce6d2b-3937-47b7-a9c4-1c46a00ac442",
   "metadata": {},
   "source": [
    "<div class=\"alert-danger\">Entonces:\n",
    "$$ V_{ab} = E_{ab} = \\sqrt{3} E e^{j30^\\circ} $$\n",
    "    </div>"
   ]
  },
  {
   "cell_type": "markdown",
   "id": "9136b1db-7675-400b-aa99-00562c2ba596",
   "metadata": {},
   "source": [
    "<img src=\"img/tp5-1-8.png\">"
   ]
  },
  {
   "cell_type": "markdown",
   "id": "95f53155-003a-4bb0-921f-b0c976029387",
   "metadata": {},
   "source": [
    "$$ V_{bc} = E_{bc} = E_{bn} e^{j240^\\circ} - E_{cn} e^{j120^\\circ} $$"
   ]
  },
  {
   "cell_type": "code",
   "execution_count": 5,
   "id": "01a366ee-c783-49df-b4e4-125ada01aeee",
   "metadata": {},
   "outputs": [],
   "source": [
    "Vbc = Ebn - Ecn "
   ]
  },
  {
   "cell_type": "code",
   "execution_count": 6,
   "id": "1a221c2f-6075-4a1d-be3d-15880eb8e7f4",
   "metadata": {
    "jupyter": {
     "source_hidden": true
    },
    "tags": []
   },
   "outputs": [
    {
     "name": "stdout",
     "output_type": "stream",
     "text": [
      "|Vbc| = 1.732*E V\n",
      "theta = -90.00°\n"
     ]
    }
   ],
   "source": [
    "print('|Vbc| = %.3f*E V'%abs(Vbc))\n",
    "print('theta = %.2f°'%math.degrees( cmath.phase(Vbc) ) )"
   ]
  },
  {
   "cell_type": "markdown",
   "id": "1d3bd992-c472-4c79-b447-b09c407fe150",
   "metadata": {},
   "source": [
    "<div class=\"alert-danger\">Entonces:\n",
    "$$ V_{bc} = E_{bc} = \\sqrt{3} E e^{-j90^\\circ} $$\n",
    "</div>"
   ]
  },
  {
   "cell_type": "markdown",
   "id": "1878724c-8174-4ca5-b0ab-4bd3703161a1",
   "metadata": {},
   "source": [
    "<img src=\"img/tp5-1-8.png\">"
   ]
  },
  {
   "cell_type": "markdown",
   "id": "cbb4a63f-3750-4940-8cbb-af625be5b595",
   "metadata": {},
   "source": [
    "$$ V_{ca} = E_{ca} = E_{cn} e^{j120^\\circ} - E_{an} e^{j0^\\circ} $$"
   ]
  },
  {
   "cell_type": "code",
   "execution_count": 7,
   "id": "ff7c4659-d30f-4347-8134-9989bc28d837",
   "metadata": {},
   "outputs": [],
   "source": [
    "Vca = Ecn - Ean"
   ]
  },
  {
   "cell_type": "code",
   "execution_count": 8,
   "id": "ba0d61ca-6e02-4a7b-95d3-15db13914d04",
   "metadata": {
    "jupyter": {
     "source_hidden": true
    },
    "tags": []
   },
   "outputs": [
    {
     "name": "stdout",
     "output_type": "stream",
     "text": [
      "|Vca| = 1.732*E V\n",
      "theta = 150.00°\n"
     ]
    }
   ],
   "source": [
    "print('|Vca| = %.3f*E V'%abs(Vca))\n",
    "print('theta = %.2f°'%math.degrees( cmath.phase(Vca) ) )"
   ]
  },
  {
   "cell_type": "markdown",
   "id": "8bbc94a4-8841-473e-b596-3ae9c2bba72a",
   "metadata": {},
   "source": [
    "<div class=\"alert-danger\">Entonces:\n",
    "$$ V_{ca} = E_{ca} = \\sqrt{3} E e^{j150^\\circ} $$\n",
    "    </div>"
   ]
  },
  {
   "cell_type": "markdown",
   "id": "3a68dc74-7f4f-47a6-98ed-9d695ffdb9b6",
   "metadata": {},
   "source": [
    "------------\n",
    "__1.3__ Representar en un mismo esquema fasorial los sistemas de tensiones de fase y compuesta."
   ]
  },
  {
   "cell_type": "markdown",
   "id": "8b815327-d5b6-4dde-81fc-a5af2159ead9",
   "metadata": {},
   "source": [
    "<img src=\"img/tp5-1-8.png\">"
   ]
  },
  {
   "cell_type": "markdown",
   "id": "df3eafb5-cae0-408c-b62f-0f289b6aff5f",
   "metadata": {},
   "source": [
    "__Tensiones de Fase__\n",
    "\n",
    "$\\begin{array}{lcl}\n",
    "\\color{red}{\\vec{E}_{an}} = |E_{an}| e^{j0^\\circ} &=& E e^{j0^\\circ} \\\\\n",
    "\\color{red}{\\vec{E}_{bn}} = |E_{bn}| e^{j240^\\circ} &=& E e^{j240^\\circ} \\\\\n",
    "\\color{red}{\\vec{E}_{cn}} = |E_{cn}| e^{j120^\\circ} &=& E e^{j120^\\circ}\n",
    "\\end{array}\n",
    "$"
   ]
  },
  {
   "cell_type": "markdown",
   "id": "673105fb-3748-4bd8-bcd3-f6bd30799a03",
   "metadata": {},
   "source": [
    "Resultan 6 tensiones:\n",
    "\n",
    "3 tensiones denominadas __\"tensiones simples o tensiones de fase\"__\n",
    "* $\\color{red}{\\vec{E}_{an}}$\n",
    "* $\\color{red}{\\vec{E}_{bn}}$\n",
    "* $\\color{red}{\\vec{E}_{cn}}$"
   ]
  },
  {
   "cell_type": "markdown",
   "id": "ac8cd9f6-67ae-4b98-87a1-290741e8baa9",
   "metadata": {},
   "source": [
    "3 tensiones denominadas \"tensiones compuestas o tensiones de línea\"\n",
    "* $\\color{blue}{\\vec{E}_{ab}} = \\vec{E}_{an} - \\vec{E}_{bn} $\n",
    "* $\\color{blue}{\\vec{E}_{bc}} = \\vec{E}_{bn} - \\vec{E}_{cn} $\n",
    "* $\\color{blue}{\\vec{E}_{ca}} = \\vec{E}_{cn} - \\vec{E}_{an} $"
   ]
  },
  {
   "cell_type": "markdown",
   "id": "27a9291d-cd9b-4c58-a633-7b1c52fa731d",
   "metadata": {},
   "source": [
    "Tensiones compuestas\n",
    "\n",
    "* $\\color{blue}{\\vec{E}_{ab}} = \\vec{E}_{an} - \\vec{E}_{bn} = \\sqrt{3} E e^{j30^\\circ} $\n",
    "* $\\color{blue}{\\vec{E}_{bc}} = \\vec{E}_{bn} - \\vec{E}_{cn} = \\sqrt{3} E e^{j270^\\circ} $\n",
    "* $\\color{blue}{\\vec{E}_{ca}} = \\vec{E}_{cn} - \\vec{E}_{an} = \\sqrt{3} E e^{j150^\\circ} $"
   ]
  }
 ],
 "metadata": {
  "kernelspec": {
   "display_name": "Python 3 (ipykernel)",
   "language": "python",
   "name": "python3"
  },
  "language_info": {
   "codemirror_mode": {
    "name": "ipython",
    "version": 3
   },
   "file_extension": ".py",
   "mimetype": "text/x-python",
   "name": "python",
   "nbconvert_exporter": "python",
   "pygments_lexer": "ipython3",
   "version": "3.9.12"
  }
 },
 "nbformat": 4,
 "nbformat_minor": 5
}
