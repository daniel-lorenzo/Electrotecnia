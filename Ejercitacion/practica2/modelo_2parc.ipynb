{
 "cells": [
  {
   "cell_type": "markdown",
   "metadata": {},
   "source": [
    "## Modelo de ejercicio segundo parcial\n",
    "Se realizaron los ensayos de vacío y de cortocircuito sobre un transformador monofásico de 15kVA; 1000/500V, obteniéndose los siguientes resultados:"
   ]
  },
  {
   "cell_type": "code",
   "execution_count": 1,
   "metadata": {},
   "outputs": [],
   "source": [
    "import numpy as np"
   ]
  },
  {
   "cell_type": "code",
   "execution_count": 2,
   "metadata": {},
   "outputs": [],
   "source": [
    "# Datos:\n",
    "SN = 15000 # VA\n",
    "VN1 = 1000 # V\n",
    "VN2 =  500 # V\n",
    "# Ensayo de vacío:     Ensayo de cortocircuito:\n",
    "Po = 135           ;   Pcc = 150 # W\n",
    "Io = 0.48          ;   Icc = 15  # A\n",
    "Vo = 500           ;   Vcc = 45  # V"
   ]
  },
  {
   "cell_type": "markdown",
   "metadata": {},
   "source": [
    "1. Obtener los parámetros del circuito equivalente referido al lado de baja tensión del transformador monofásico real.\n",
    "2. Calcular el rendimiento de este transformador, para una carga conectada en el lado de baja tensión, considerando:\n",
    "  * La carga demanda un 80% de la corriente nominal.\n",
    "  * La carga tiene un $\\cos \\varphi = 0,8$ inductivo.\n",
    "3. Calcular el rendimiento máximo de este transformador, para una carga conectada en el lado de baja tensión, considerando:\n",
    "  * La carga tiene un $\\cos \\varphi = 0,9$ inductivo."
   ]
  },
  {
   "cell_type": "markdown",
   "metadata": {},
   "source": [
    "### Solución"
   ]
  },
  {
   "cell_type": "code",
   "execution_count": 3,
   "metadata": {},
   "outputs": [],
   "source": [
    "#########################\n",
    "# Corrientes nominales:\n",
    "#########################\n",
    "IN1 = SN/VN1\n",
    "IN2 = SN/VN2\n",
    "a = VN1/VN2"
   ]
  },
  {
   "cell_type": "code",
   "execution_count": 4,
   "metadata": {},
   "outputs": [
    {
     "name": "stdout",
     "output_type": "stream",
     "text": [
      "IN1 = 15.00 A\n",
      "IN2 = 30.00 A\n",
      "a = 2.00\n"
     ]
    }
   ],
   "source": [
    "print('IN1 = %.2f A'%IN1)\n",
    "print('IN2 = %.2f A'%IN2)\n",
    "print('a = %.2f'%a)"
   ]
  },
  {
   "cell_type": "code",
   "execution_count": 5,
   "metadata": {},
   "outputs": [],
   "source": [
    "##########\n",
    "# Vacío:\n",
    "##########\n",
    "phi_o = np.arccos(Po/(Io*Vo))\n",
    "Ip = Io*np.cos(phi_o)\n",
    "Im = Io*np.sin(phi_o)\n",
    "# Secundario (BT):     # Primario (AT):\n",
    "Rp2 = Vo/Ip          ;   Rp1 = Rp2*a**2\n",
    "Xm2 = Vo/Im          ;   Xm1 = Xm2*a**2"
   ]
  },
  {
   "cell_type": "code",
   "execution_count": 6,
   "metadata": {
    "jupyter": {
     "source_hidden": true
    }
   },
   "outputs": [
    {
     "name": "stdout",
     "output_type": "stream",
     "text": [
      "------------------\n",
      "Vacío:\n",
      "------------------\n",
      "phi_o = 55.77°\n",
      "Ip = 0.27 A\n",
      "Im = 0.40 A\n",
      "Secundario (BT):        Primario (AT):\n",
      "Rp2 = 1851.85 Ohm   |   Rp1 = 7407.41 Ohm\n",
      "Xm2 = 1259.88 Ohm   |   Xm1 = 5039.53 Ohm\n"
     ]
    }
   ],
   "source": [
    "print('------------------')\n",
    "print('Vacío:')\n",
    "print('------------------')\n",
    "print('phi_o = %.2f°'%np.rad2deg(phi_o))\n",
    "print('Ip = %.2f A'%Ip)\n",
    "print('Im = %.2f A'%Im)\n",
    "print('Secundario (BT):        Primario (AT):')\n",
    "print('Rp2 = %.2f Ohm   |   Rp1 = %.2f Ohm'%(Rp2,Rp1))\n",
    "print('Xm2 = %.2f Ohm   |   Xm1 = %.2f Ohm'%(Xm2,Xm1))"
   ]
  },
  {
   "cell_type": "code",
   "execution_count": 7,
   "metadata": {},
   "outputs": [],
   "source": [
    "##################\n",
    "# Cortocircuito:\n",
    "##################\n",
    "phi_cc = np.arccos(Pcc/(Vcc*Icc))\n",
    "Zeq1 = Vcc/Icc       ;   Zeq2 = Zeq1/a**2\n",
    "# Parámetros longitudinales\n",
    "# Primario:                     # Secundario:\n",
    "Req1 = Zeq1*np.cos(phi_cc)   ;   Req2 = Zeq2*np.cos(phi_cc)\n",
    "Xeq1 = Zeq1*np.sin(phi_cc)   ;   Xeq2 = Zeq2*np.sin(phi_cc)"
   ]
  },
  {
   "cell_type": "code",
   "execution_count": 8,
   "metadata": {},
   "outputs": [
    {
     "name": "stdout",
     "output_type": "stream",
     "text": [
      "------------------\n",
      "Cortocircuito:\n",
      "------------------\n",
      "phi_cc = 77.16°\n",
      "|Zeq1| = 3.00 Ohm  |  |Zeq2| = 0.75 Ohm\n",
      "Primario (AT):     |  Secundario (BT):\n",
      "Req1 = 0.667 Ohm   |   Req2= 0.167 Ohm\n",
      "Xeq1 = 2.925 Ohm   |   Xeq2 = 0.731 Ohm\n"
     ]
    }
   ],
   "source": [
    "print('------------------')\n",
    "print('Cortocircuito:')\n",
    "print('------------------')\n",
    "print('phi_cc = %.2f°'%np.rad2deg(phi_cc))\n",
    "print('|Zeq1| = %.2f Ohm  |  |Zeq2| = %.2f Ohm'%(Zeq1,Zeq2))\n",
    "print('Primario (AT):     |  Secundario (BT):')\n",
    "print('Req1 = %.3f Ohm   |   Req2= %.3f Ohm'%(Req1,Req2))\n",
    "print('Xeq1 = %.3f Ohm   |   Xeq2 = %.3f Ohm'%(Xeq1,Xeq2))"
   ]
  },
  {
   "cell_type": "code",
   "execution_count": 9,
   "metadata": {},
   "outputs": [],
   "source": [
    "################\n",
    "# Rendimiento:\n",
    "################\n",
    "fp = 0.8            # factor de potencia ítem 2\n",
    "I2 = fp*IN2         # condición del problema\n",
    "phi_fp = np.arccos(fp)\n",
    "Pcu = I2**2 * Req2\n",
    "V2 = VN2 - I2*(Req2*np.cos(phi_fp) + Xeq2*np.sin(phi_fp))\n",
    "\n",
    "n = (V2*I2*np.cos(phi_fp))/(V2*I2*np.cos(phi_fp) + Po + Pcu)"
   ]
  },
  {
   "cell_type": "code",
   "execution_count": 10,
   "metadata": {},
   "outputs": [
    {
     "name": "stdout",
     "output_type": "stream",
     "text": [
      "------------\n",
      "Rendimiento:\n",
      "------------\n",
      "phi_fp = 36.87°\n",
      "Pcu = 96.00 Ohm\n",
      "V2 = 486.27 V\n",
      "n = 0.9759\n"
     ]
    }
   ],
   "source": [
    "print('------------')\n",
    "print('Rendimiento:')\n",
    "print('------------')\n",
    "print('phi_fp = %.2f°'%np.rad2deg(phi_fp))\n",
    "print('Pcu = %.2f Ohm'%Pcu)\n",
    "print('V2 = %.2f V'%V2)\n",
    "print('n = %.4f'%n)"
   ]
  },
  {
   "cell_type": "code",
   "execution_count": 11,
   "metadata": {},
   "outputs": [],
   "source": [
    "######################\n",
    "# Rendimiento máximo\n",
    "######################\n",
    "fp_max = 0.9      # factor de potencia ítem 3\n",
    "Pcu = Po\n",
    "phi_max = np.arccos(fp_max)\n",
    "I2_nmax = np.sqrt(Po/Req2)\n",
    "V2_nmax = VN2 - I2_nmax*(Req2*np.cos(phi_max) + Xeq2*np.sin(phi_max))\n",
    "\n",
    "n_max = (V2_nmax*I2_nmax*fp_max)/(V2_nmax*I2_nmax*fp_max + Pcu + Po)"
   ]
  },
  {
   "cell_type": "code",
   "execution_count": 12,
   "metadata": {},
   "outputs": [
    {
     "name": "stdout",
     "output_type": "stream",
     "text": [
      "-------------------\n",
      "Rendimiento máximo:\n",
      "-------------------\n",
      "phi_max = 25.84°\n",
      "I2_nmax = 28.46 A\n",
      "V2_nmax = 486.66 V\n",
      "n_max = 0.9788\n"
     ]
    }
   ],
   "source": [
    "print('-------------------')\n",
    "print('Rendimiento máximo:')\n",
    "print('-------------------')\n",
    "print('phi_max = %.2f°'%np.rad2deg(phi_max))\n",
    "print('I2_nmax = %.2f A'%I2_nmax)\n",
    "print('V2_nmax = %.2f V'%V2_nmax)\n",
    "print('n_max = %.4f'%n_max)"
   ]
  },
  {
   "cell_type": "code",
   "execution_count": 13,
   "metadata": {},
   "outputs": [],
   "source": [
    "%reset -s -f"
   ]
  },
  {
   "cell_type": "code",
   "execution_count": null,
   "metadata": {},
   "outputs": [],
   "source": []
  }
 ],
 "metadata": {
  "kernelspec": {
   "display_name": "Python 3",
   "language": "python",
   "name": "python3"
  },
  "language_info": {
   "codemirror_mode": {
    "name": "ipython",
    "version": 3
   },
   "file_extension": ".py",
   "mimetype": "text/x-python",
   "name": "python",
   "nbconvert_exporter": "python",
   "pygments_lexer": "ipython3",
   "version": "3.7.6"
  }
 },
 "nbformat": 4,
 "nbformat_minor": 4
}
