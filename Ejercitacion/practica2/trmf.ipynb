{
 "cells": [
  {
   "cell_type": "markdown",
   "metadata": {},
   "source": [
    "# Transformador monofásico"
   ]
  },
  {
   "cell_type": "markdown",
   "metadata": {},
   "source": [
    "## Ejemplo\n",
    "A un a transformador monofásico de $S_N = 333 \\, \\mathrm{kVA}$; $U_N : 6000/133 \\, \\mathrm{V}$, en 50 Hz, se lo somete a $1300 \\, \\mathrm{W}$. Por su parte en el ensayo de corto circuito se obtuvieron $I_{cc} = 55,5 \\, \\mathrm{A}$; $U_{cc} = 193,5 \\, \\mathrm{V}$, y consumió $2500 \\, \\mathrm{W}$. Calcular los parámetros equivalentes tanto al lado de alta como los de baja tensión. Dibujar circuito equivalente."
   ]
  },
  {
   "cell_type": "markdown",
   "metadata": {},
   "source": [
    "### Solución"
   ]
  },
  {
   "cell_type": "markdown",
   "metadata": {},
   "source": [
    "$$\\begin{array}{|l|l|l|}\n",
    "\\hline\n",
    "\\mbox{Datos:} & \\mbox{Ensayo de vacío:} & \\mbox{Ensayo de corto circuito:} \\\\\n",
    "\\hline\n",
    "S_N = 333 \\, \\mathrm{kV} & V_0 = 133 \\, \\mathrm{V} & V_{cc} = 193,5 \\, \\mathrm{V} \\\\\n",
    "U_{N1} = 6000 \\, \\mathrm{V} & I_0 = 110 \\, \\mathrm{A} & I_{cc} = 55,5 \\, \\mathrm{A} \\\\\n",
    "U_{N2} = 133 \\, \\mathrm{V} & P_0 = 1300 \\, \\mathrm{W} & P_{cc} = 2500 \\, \\mathrm{W} \\\\\n",
    "\\hline\n",
    "\\end{array}$$"
   ]
  },
  {
   "cell_type": "markdown",
   "metadata": {},
   "source": [
    "### Cálculo de parámetros"
   ]
  },
  {
   "cell_type": "code",
   "execution_count": 1,
   "metadata": {},
   "outputs": [],
   "source": [
    "import numpy as np"
   ]
  },
  {
   "cell_type": "code",
   "execution_count": 2,
   "metadata": {},
   "outputs": [],
   "source": [
    "from IPython.display import display, Markdown"
   ]
  },
  {
   "cell_type": "code",
   "execution_count": 7,
   "metadata": {},
   "outputs": [
    {
     "name": "stdout",
     "output_type": "stream",
     "text": [
      "Ingrese los siguientes valores:\n"
     ]
    },
    {
     "name": "stdin",
     "output_type": "stream",
     "text": [
      "SN [VA]:  11000\n",
      "UN1 [V]:  400\n",
      "UN2 [V]:  200\n"
     ]
    },
    {
     "name": "stdout",
     "output_type": "stream",
     "text": [
      "Ensayo de vacío:\n"
     ]
    },
    {
     "name": "stdin",
     "output_type": "stream",
     "text": [
      "Vo [V]:  200\n",
      "Io [A]:  2\n",
      "Po [W]:  110\n"
     ]
    },
    {
     "name": "stdout",
     "output_type": "stream",
     "text": [
      "Ensayo de cortocircuito:\n"
     ]
    },
    {
     "name": "stdin",
     "output_type": "stream",
     "text": [
      "Vcc [V]:  20\n",
      "Icc [A]:  27.5\n",
      "Pcc [W]:  300\n"
     ]
    },
    {
     "name": "stdout",
     "output_type": "stream",
     "text": [
      "Regulación:\n"
     ]
    },
    {
     "name": "stdin",
     "output_type": "stream",
     "text": [
      "fp_reg:  0.8\n"
     ]
    },
    {
     "name": "stdout",
     "output_type": "stream",
     "text": [
      "Rendimiento:\n"
     ]
    },
    {
     "name": "stdin",
     "output_type": "stream",
     "text": [
      "fp_rend:  0.7\n"
     ]
    },
    {
     "name": "stdout",
     "output_type": "stream",
     "text": [
      "Rendimiento máximo:\n"
     ]
    },
    {
     "name": "stdin",
     "output_type": "stream",
     "text": [
      "fp_max:  1\n"
     ]
    }
   ],
   "source": [
    "##########\n",
    "# Datos:\n",
    "##########\n",
    "print('Ingrese los siguientes valores:')\n",
    "SN = float(input('SN [VA]: '))\n",
    "UN1 = float(input('UN1 [V]: '))\n",
    "UN2 =  float(input('UN2 [V]: '))\n",
    "print('Ensayo de vacío:')\n",
    "Vo =  float(input('Vo [V]: '))\n",
    "Io =  float(input('Io [A]: '))\n",
    "Po =  float(input('Po [W]: '))\n",
    "print('Ensayo de cortocircuito:')\n",
    "Vcc = float(input('Vcc [V]: '))\n",
    "Icc = float(input('Icc [A]: '))\n",
    "Pcc = float(input('Pcc [W]: '))\n",
    "print('Regulación:')\n",
    "fp_reg = float(input('fp_reg: '))\n",
    "print('Rendimiento:')\n",
    "fp_rend = float(input('fp_rend: '))\n",
    "print('Rendimiento máximo:')\n",
    "fp_max = float(input('fp_max: '))"
   ]
  },
  {
   "cell_type": "code",
   "execution_count": 8,
   "metadata": {},
   "outputs": [],
   "source": [
    "# Corriente nominal primaria\n",
    "IN1 = SN/UN1   \n",
    "# Corriente nominal secundaria\n",
    "IN2 = SN/UN2   \n",
    "# Relación de transformación\n",
    "a = UN1/UN2    \n",
    "\n",
    "###########################\n",
    "# Ensayo de cortocircuito\n",
    "###########################\n",
    "Zeq1 = Vcc/Icc\n",
    "# Cálculo de phi_cc\n",
    "phi_cc = np.arccos(Pcc/(Icc*Vcc))\n",
    "\n",
    "# Parámetros longitudinales\n",
    "# Primario                        # Secundario\n",
    "Req1 = Zeq1*np.cos(phi_cc)   ;   Req2 = Req1/a**2\n",
    "Xeq1 = Zeq1*np.sin(phi_cc)   ;   Xeq2 = Xeq1/a**2\n",
    "\n",
    "###################\n",
    "# Ensayo de vacío\n",
    "###################\n",
    "phi_o = np.arccos(Po/(Io*Vo))\n",
    "Ip = Io*np.cos(phi_o)\n",
    "Im = Io*np.sin(phi_o)\n",
    "\n",
    "# Secundario (BT)     # Primario (AT)\n",
    "Rp2 = Vo/Ip     ;     Rp1 = Rp2*a**2\n",
    "Xm2 = Vo/Im     ;     Xm1 = Xm2*a**2\n",
    "\n",
    "##########################\n",
    "# Cálculos de regulación\n",
    "##########################\n",
    "phi_reg = np.arccos(fp_reg)\n",
    "I2_reg = fp_reg*IN2  ;  V20 = Vo\n",
    "# Tensión de salida o aplicada a la carga:\n",
    "V2reg_ind = V20 - I2_reg*(Req2*np.cos(phi_reg) + Xeq2*np.sin(phi_reg))\n",
    "V2reg_cap = V20 - I2_reg*(Req2*np.cos(phi_reg) - Xeq2*np.sin(phi_reg))\n",
    "# Regulación\n",
    "reg_ind = (V20 - V2reg_ind)/V20*100\n",
    "reg_cap = (V20 - V2reg_cap)/V20*100\n",
    "\n",
    "###########################\n",
    "# Cálculos de rendimiento\n",
    "###########################\n",
    "phi_rend = np.arccos(fp_rend)\n",
    "I2_rend = IN2  ;  V20 = Vo\n",
    "Pcu = I2_rend**2*Req2\n",
    "# Rendimiento para el caso inductivo:\n",
    "V2rend_ind = V20 - I2_rend*(Req2*np.cos(phi_rend) + Xeq2*np.sin(phi_rend))\n",
    "n_ind = (V2rend_ind*I2_rend*np.cos(phi_rend))/(V2rend_ind*I2_rend*np.cos(phi_rend) + Pcu + Po) * 100\n",
    "# Rendimiento para el caso capacitivo:\n",
    "V2rend_cap = V20 - I2_rend*(Req2*np.cos(phi_rend) - Xeq2*np.sin(phi_rend))\n",
    "n_cap = (V2rend_cap*I2_rend*np.cos(phi_rend))/(V2rend_cap*I2_rend*np.cos(phi_rend) + Pcu + Po) *100\n",
    "\n",
    "# Rendimiento máximo\n",
    "phi_max = np.arccos(fp_max)\n",
    "I2_max = np.sqrt(Po/Req2)\n",
    "Pcu_max = I2_max**2*Req2\n",
    "#V2_max = V20 - I2_max*(Req2*fp_max + 0)\n",
    "V2_max = UN2 - I2_max*(Req2*np.cos(phi_max) + Xeq2*np.sin(phi_max))\n",
    "n_max = (V2_max*I2_max*fp_max)/(V2_max*I2_max*fp_max + Pcu_max + Po) * 100"
   ]
  },
  {
   "cell_type": "code",
   "execution_count": 9,
   "metadata": {},
   "outputs": [
    {
     "name": "stdout",
     "output_type": "stream",
     "text": [
      "Resultados:\n",
      "\n",
      "#######################\n",
      "Corrientes nominales:\n",
      "#######################\n",
      "IN1 = 27.5 A\n",
      "IN2 = 55.0 A\n",
      "a = 2.00\n",
      "\n",
      "###########################\n",
      "# Ensayo de cortocircuito\n",
      "###########################\n",
      "Zeq1 = 0.727 Ohm\n",
      "phi_cc = 56.94°\n",
      "Parámetros longitudinales:\n",
      "Primario:                Secundario:\n",
      "Req1 = 0.397 Ohm    |    Req2 = 99.174 mOhm\n",
      "Xeq1 = 0.610 Ohm    |    Xeq2 = 152.389 mOhm\n",
      "###################\n",
      "# Ensayo de vacío\n",
      "###################\n",
      "phi_o = 74.04°\n",
      "Ip = 0.55 A\n",
      "Im = 1.92 A\n",
      "Secundario (BT)         Primario (AT)\n",
      "Rp2 = 363.64 Ohm    |    Rp1 = 1454.55 Ohm\n",
      "Xm2 = 104.01 Ohm     |    Xm1 = 416.04 Ohm\n",
      "##########################\n",
      "# Cálculos de regulación\n",
      "##########################\n",
      "I2 = 44.00 A\n",
      "phi_2 = 36.87°\n",
      "# Tensión de salida o aplicada a la carga:\n",
      "Caso inductivo:\n",
      "V2reg_ind = 192.49 V\n",
      "reg_ind = 3.76 %\n",
      "Caso capacitivo:\n",
      "V2reg_cap = 200.53 V\n",
      "reg_cap = -0.27 %\n",
      "###########################\n",
      "# Cálculos de rendimiento\n",
      "###########################\n",
      "phi_rend = 45.57°\n",
      "\n",
      "Caso inductivo:\n",
      "fp_rend = 0.70\n",
      "I2 = 55.00 A\n",
      "V2rend_ind = 190.20 V\n",
      "Pcu = 300.0 W\n",
      "n_ind = 94.70 %\n",
      "\n",
      "Caso capacitivo:\n",
      "fp_rend = 0.70\n",
      "I2 = 55.00 A\n",
      "V2rend_cap = 202.17 V\n",
      "Pcu = 300.0 W\n",
      "n_cap = 95.00 %\n",
      "\n",
      "Máximo:\n",
      "I2_max = 33.30 A\n",
      "V2_max = 196.70 A\n",
      "Pcu_max = 110.0 W\n",
      "n_max = 96.75 %\n"
     ]
    }
   ],
   "source": [
    "print('Resultados:')\n",
    "print()\n",
    "print('#######################')\n",
    "print('Corrientes nominales:')\n",
    "print('#######################')\n",
    "print('IN1 = %.1f A'%IN1)\n",
    "print('IN2 = %.1f A'%IN2)\n",
    "print('a = %.2f'%a)\n",
    "print()\n",
    "print('###########################')\n",
    "print('# Ensayo de cortocircuito')\n",
    "print('###########################')\n",
    "print('Zeq1 = %.3f Ohm'%Zeq1)\n",
    "print('phi_cc = %.2f°'%np.rad2deg(phi_cc))\n",
    "print('Parámetros longitudinales:')\n",
    "print('Primario:                Secundario:')\n",
    "print('Req1 = %.3f Ohm    |    Req2 = %.3f mOhm'%(Req1,Req2*1000))\n",
    "print('Xeq1 = %.3f Ohm    |    Xeq2 = %.3f mOhm'%(Xeq1,Xeq2*1000))\n",
    "print('###################')\n",
    "print('# Ensayo de vacío')\n",
    "print('###################')\n",
    "print('phi_o = %.2f°'%np.rad2deg(phi_o))\n",
    "print('Ip = %.2f A'%Ip)\n",
    "print('Im = %.2f A'%Im)\n",
    "print('Secundario (BT)         Primario (AT)')\n",
    "print('Rp2 = %.2f Ohm    |    Rp1 = %.2f Ohm'%(Rp2,Rp1))\n",
    "print('Xm2 = %.2f Ohm     |    Xm1 = %.2f Ohm'%(Xm2,Xm1))\n",
    "print('##########################')\n",
    "print('# Cálculos de regulación')\n",
    "print('##########################')\n",
    "print('I2 = %.2f A'%I2_reg)\n",
    "print('phi_2 = %.2f°'%np.rad2deg(phi_reg))\n",
    "print('# Tensión de salida o aplicada a la carga:')\n",
    "print('Caso inductivo:')\n",
    "print('V2reg_ind = %.2f V'%V2reg_ind)\n",
    "print('reg_ind = %.2f %%'%reg_ind)\n",
    "print('Caso capacitivo:')\n",
    "print('V2reg_cap = %.2f V'%V2reg_cap)\n",
    "print('reg_cap = %.2f %%'%reg_cap)\n",
    "print('###########################')\n",
    "print('# Cálculos de rendimiento')\n",
    "print('###########################')\n",
    "print('phi_rend = %.2f°'%np.rad2deg(phi_rend))\n",
    "print()\n",
    "print('Caso inductivo:')\n",
    "print('fp_rend = %.2f'%fp_rend)\n",
    "print('I2 = %.2f A'%I2_rend)\n",
    "print('V2rend_ind = %.2f V'%V2rend_ind)\n",
    "print('Pcu = %.1f W'%Pcu)\n",
    "print('n_ind = %.2f %%'%n_ind)\n",
    "print()\n",
    "print('Caso capacitivo:')\n",
    "print('fp_rend = %.2f'%fp_rend)\n",
    "print('I2 = %.2f A'%I2_rend)\n",
    "print('V2rend_cap = %.2f V'%V2rend_cap)\n",
    "print('Pcu = %.1f W'%Pcu)\n",
    "print('n_cap = %.2f %%'%n_cap)\n",
    "print()\n",
    "print('Máximo:')\n",
    "print('I2_max = %.2f A'%I2_max)\n",
    "print('V2_max = %.2f A'%V2_max)\n",
    "print('Pcu_max = %.1f W'%Pcu_max)\n",
    "print('n_max = %.2f %%'%n_max)"
   ]
  },
  {
   "cell_type": "markdown",
   "metadata": {},
   "source": [
    "## Resolución"
   ]
  },
  {
   "cell_type": "code",
   "execution_count": 6,
   "metadata": {
    "jupyter": {
     "source_hidden": true
    }
   },
   "outputs": [
    {
     "data": {
      "text/markdown": [
       "\n",
       "__Corriente nominal 1:__ $$I_{N1} = {S_N \\over U_{N1} } = 55.5 \\, \\mathrm{A}  $$\n",
       "__Corriente nominal 2:__ $$I_{N2} = {S_N \\over U_{N2} } = 2503.76 \\, \\mathrm{A}  $$\n",
       "__Relación de transformación:__ $$ a = { U_{N1} \\over U_{N2} }  = 45.113 $$\n"
      ],
      "text/plain": [
       "<IPython.core.display.Markdown object>"
      ]
     },
     "metadata": {},
     "output_type": "display_data"
    }
   ],
   "source": [
    "display(Markdown(\n",
    "   rf\"\"\"\n",
    "__Corriente nominal 1:__ $$I_{{N1}} = {{S_N \\over U_{{N1}} }} = {IN1:.4} \\, \\mathrm{{A}}  $$\n",
    "__Corriente nominal 2:__ $$I_{{N2}} = {{S_N \\over U_{{N2}} }} = {IN2:.6} \\, \\mathrm{{A}}  $$\n",
    "__Relación de transformación:__ $$ a = {{ U_{{N1}} \\over U_{{N2}} }}  = {a:.5} $$\n",
    "\"\"\"))"
   ]
  },
  {
   "cell_type": "code",
   "execution_count": 7,
   "metadata": {
    "jupyter": {
     "source_hidden": true
    }
   },
   "outputs": [
    {
     "data": {
      "text/markdown": [
       "\n",
       "### Ensayo de cortocircuito:\n",
       "$$ Z_{eq1} = \\frac{ V_{cc} }{ I_{cc} } = 3.486 $$\n",
       "\n",
       "$$ \\varphi_{cc} = \\arccos \\left(  \\frac{ P_{cc} }{ I_{cc} V_{cc} }  \\right) = 76.54^\\circ $$\n",
       "\n",
       "$$ R_{eq1} = Z_{eq1} \\cos (\\varphi_{cc}) = 0.8116 \\, \\Omega $$\n",
       "$$ X_{eq1} = Z_{eq1} \\sin (\\varphi_{cc}) = 3.391 \\, \\Omega $$\n",
       "\n",
       "$$ R_{eq2} = Z_{eq2} \\cos (\\varphi_{cc}) = 0.0003988 \\, \\Omega $$\n",
       "$$ X_{eq2} = Z_{eq2} \\sin (\\varphi_{cc}) = 0.001666 \\, \\Omega $$\n",
       "\n"
      ],
      "text/plain": [
       "<IPython.core.display.Markdown object>"
      ]
     },
     "metadata": {},
     "output_type": "display_data"
    }
   ],
   "source": [
    "display(Markdown(\n",
    "   rf\"\"\"\n",
    "### Ensayo de cortocircuito:\n",
    "$$ Z_{{eq1}} = \\frac{{ V_{{cc}} }}{{ I_{{cc}} }} = {Zeq1:.4} $$\n",
    "\n",
    "$$ \\varphi_{{cc}} = \\arccos \\left(  \\frac{{ P_{{cc}} }}{{ I_{{cc}} V_{{cc}} }}  \\right) = {np.rad2deg(phi_cc):.4}^\\circ $$\n",
    "\n",
    "$$ R_{{eq1}} = Z_{{eq1}} \\cos (\\varphi_{{cc}}) = {Req1:.4} \\, \\Omega $$\n",
    "$$ X_{{eq1}} = Z_{{eq1}} \\sin (\\varphi_{{cc}}) = {Xeq1:.4} \\, \\Omega $$\n",
    "\n",
    "$$ R_{{eq2}} = Z_{{eq2}} \\cos (\\varphi_{{cc}}) = {Req2:.4} \\, \\Omega $$\n",
    "$$ X_{{eq2}} = Z_{{eq2}} \\sin (\\varphi_{{cc}}) = {Xeq2:.4} \\, \\Omega $$\n",
    "\n",
    "\"\"\"))   "
   ]
  },
  {
   "cell_type": "code",
   "execution_count": 8,
   "metadata": {
    "jupyter": {
     "source_hidden": true
    }
   },
   "outputs": [
    {
     "data": {
      "text/markdown": [
       "\n",
       "### Ensayo de vacío:\n",
       "\n",
       "$$ \\varphi_0 = \\arccos \\left(  \\frac{ P_0 }{ I_0 V_0 }  \\right) = 84.9^\\circ $$\n",
       "\n",
       "$$ R_{p2} = \\frac{V_0}{I_p} = 13.61 \\, \\Omega $$\n",
       "\n",
       "$$ X_{m2} = \\frac{V_0}{I_m} = 1.214 \\, \\Omega $$\n",
       "\n",
       "$ R_{p1} = R_{p2} \\cdot a^2 = 13.61 \\, \\Omega $\n",
       "\n",
       "$ X_{m1} = X_{m2} \\cdot a^2 = 2470.47 \\, \\Omega $\n",
       "\n"
      ],
      "text/plain": [
       "<IPython.core.display.Markdown object>"
      ]
     },
     "metadata": {},
     "output_type": "display_data"
    }
   ],
   "source": [
    "display(Markdown(\n",
    "   rf\"\"\"\n",
    "### Ensayo de vacío:\n",
    "\n",
    "$$ \\varphi_0 = \\arccos \\left(  \\frac{{ P_0 }}{{ I_0 V_0 }}  \\right) = {np.rad2deg(phi_o):.4}^\\circ $$\n",
    "\n",
    "$$ R_{{p2}} = \\frac{{V_0}}{{I_p}} = {Rp2:.4} \\, \\Omega $$\n",
    "\n",
    "$$ X_{{m2}} = \\frac{{V_0}}{{I_m}} = {Xm2:.4} \\, \\Omega $$\n",
    "\n",
    "$ R_{{p1}} = R_{{p2}} \\cdot a^2 = {Rp2:.4} \\, \\Omega $\n",
    "\n",
    "$ X_{{m1}} = X_{{m2}} \\cdot a^2 = {Xm1:.6} \\, \\Omega $\n",
    "\n",
    "\"\"\")) "
   ]
  },
  {
   "cell_type": "code",
   "execution_count": 9,
   "metadata": {
    "jupyter": {
     "source_hidden": true
    }
   },
   "outputs": [
    {
     "data": {
      "text/markdown": [
       "\n",
       "### Cálculos de regulación\n",
       "\n",
       "$\\varphi_{reg} = 45.57^\\circ$\n",
       "$$ I_2 = \\mathrm{fp_{reg} } I_{N2} = 1752.63 \\, \\mathrm{A} $$\n",
       "\n",
       "__Caso inductivo:__      \n",
       "Tensión de salida o aplicada a la carga:\n",
       "$$ V_{reg2ind} = V_{20} - I_{2reg} (R_{eq2} \\cos \\varphi_{reg} + X_{eq2} \\sin \\varphi_{reg}) = 130.43 \\, \\mathrm{V} $$\n",
       "\n",
       "__Caso capacitivo:__    \n",
       "Tensión de salida o aplicada a la carga:\n",
       "\n",
       "$$ V_{reg2cap} = V_{20} - I_{2reg} (R_{eq2} \\cos \\varphi_{reg} - X_{eq2} \\sin \\varphi_{reg}) = 134.6 \\, \\mathrm{V} $$\n",
       "\n"
      ],
      "text/plain": [
       "<IPython.core.display.Markdown object>"
      ]
     },
     "metadata": {},
     "output_type": "display_data"
    }
   ],
   "source": [
    "display(Markdown(\n",
    "   rf\"\"\"\n",
    "### Cálculos de regulación\n",
    "\n",
    "$\\varphi_{{reg}} = {np.rad2deg(phi_reg):.4}^\\circ$\n",
    "$$ I_2 = \\mathrm{{fp_{{reg}} }} I_{{N2}} = {I2_reg:.6} \\, \\mathrm{{A}} $$\n",
    "\n",
    "__Caso inductivo:__      \n",
    "Tensión de salida o aplicada a la carga:\n",
    "$$ V_{{reg2ind}} = V_{{20}} - I_{{2reg}} (R_{{eq2}} \\cos \\varphi_{{reg}} + X_{{eq2}} \\sin \\varphi_{{reg}}) = {V2reg_ind:.5} \\, \\mathrm{{V}} $$\n",
    "\n",
    "__Caso capacitivo:__    \n",
    "Tensión de salida o aplicada a la carga:\n",
    "\n",
    "$$ V_{{reg2cap}} = V_{{20}} - I_{{2reg}} (R_{{eq2}} \\cos \\varphi_{{reg}} - X_{{eq2}} \\sin \\varphi_{{reg}}) = {V2reg_cap:.5} \\, \\mathrm{{V}} $$\n",
    "\n",
    "\"\"\")) "
   ]
  },
  {
   "cell_type": "code",
   "execution_count": 10,
   "metadata": {
    "jupyter": {
     "source_hidden": true
    }
   },
   "outputs": [
    {
     "data": {
      "text/markdown": [
       "\n",
       "### Cálculos de rendimiento:\n",
       "$\\varphi_{rend} = \\arccos ( \\mathrm{fp}_{rend} ) = 36.87^\\circ $\n",
       "\n",
       "$I_{2rend} = I_{N2} = 2503.76 \\, \\mathrm{A} \\quad ; \\quad V_{20} = V_0 = 133.0 \\, \\mathrm{V}$\n",
       "\n",
       "$P_{cu} = I_{2rend}^2 R_{eq2} = 2500.0 \\, \\mathrm{W}$\n",
       "\n",
       "Rendimiento para el caso inductivo:\n",
       "\n",
       "$$ V_{rend2ind} = V_{20} - I_{2rend} (R_{eq2} \\cos \\varphi_{reg} + X_{eq2} \\sin \\varphi_{rend}) = 129.7 \\, \\mathrm{V} $$\n",
       "\n",
       "$$ \\eta_{ind} = \\frac{ V_{2ind} I_{2rend} \\cos \\varphi_{rend} }{ V_{2ind} I_{2rend} \\cos \\varphi_{rend} + P_{cu} + P_0 } \\times 100 = 98.56 \\, \\% $$\n",
       "\n",
       "Rendimiento para el caso capacitivo:\n",
       "\n",
       "$$ V_{rend2cap} = V_{20} - I_{2rend} (R_{eq2} \\cos \\varphi_{reg} - X_{eq2} \\sin \\varphi_{rend}) = 134.7 \\, \\mathrm{V} $$\n",
       "\n",
       "$$ \\eta_{cap} = \\frac{ V_{2cap} I_{2rend} \\cos \\varphi_{rend} }{ V_{2ind} I_{2rend} \\cos \\varphi_{rend} + P_{cu} + P_0 } \\times 100 = 98.61 \\, \\% $$\n",
       "\n"
      ],
      "text/plain": [
       "<IPython.core.display.Markdown object>"
      ]
     },
     "metadata": {},
     "output_type": "display_data"
    }
   ],
   "source": [
    "display(Markdown(\n",
    "   rf\"\"\"\n",
    "### Cálculos de rendimiento:\n",
    "$\\varphi_{{rend}} = \\arccos ( \\mathrm{{fp}}_{{rend}} ) = {np.rad2deg(phi_rend):.4}^\\circ $\n",
    "\n",
    "$I_{{2rend}} = I_{{N2}} = {IN2:.6} \\, \\mathrm{{A}} \\quad ; \\quad V_{{20}} = V_0 = {Vo} \\, \\mathrm{{V}}$\n",
    "\n",
    "$P_{{cu}} = I_{{2rend}}^2 R_{{eq2}} = {Pcu:.5} \\, \\mathrm{{W}}$\n",
    "\n",
    "Rendimiento para el caso inductivo:\n",
    "\n",
    "$$ V_{{rend2ind}} = V_{{20}} - I_{{2rend}} (R_{{eq2}} \\cos \\varphi_{{reg}} + X_{{eq2}} \\sin \\varphi_{{rend}}) = {V2rend_ind:.5} \\, \\mathrm{{V}} $$\n",
    "\n",
    "$$ \\eta_{{ind}} = \\frac{{ V_{{2ind}} I_{{2rend}} \\cos \\varphi_{{rend}} }}{{ V_{{2ind}} I_{{2rend}} \\cos \\varphi_{{rend}} + P_{{cu}} + P_0 }} \\times 100 = {n_ind:.4} \\, \\% $$\n",
    "\n",
    "Rendimiento para el caso capacitivo:\n",
    "\n",
    "$$ V_{{rend2cap}} = V_{{20}} - I_{{2rend}} (R_{{eq2}} \\cos \\varphi_{{reg}} - X_{{eq2}} \\sin \\varphi_{{rend}}) = {V2rend_cap:.5} \\, \\mathrm{{V}} $$\n",
    "\n",
    "$$ \\eta_{{cap}} = \\frac{{ V_{{2cap}} I_{{2rend}} \\cos \\varphi_{{rend}} }}{{ V_{{2ind}} I_{{2rend}} \\cos \\varphi_{{rend}} + P_{{cu}} + P_0 }} \\times 100 = {n_cap:.4} \\, \\% $$\n",
    "\n",
    "\"\"\"))    "
   ]
  },
  {
   "cell_type": "code",
   "execution_count": 11,
   "metadata": {
    "jupyter": {
     "source_hidden": true
    }
   },
   "outputs": [
    {
     "data": {
      "text/markdown": [
       "\n",
       "### Rendimiento máximo\n",
       "$\\varphi_{max} = \\arccos \\mathrm{(fp_{max})} = 0.0 $\n",
       "\n",
       "$$ I_{2 \\eta max} = \\sqrt{ \\frac{P_0}{R_{eq2}} } = 1805.49 \\, \\mathrm{A} $$\n",
       "\n",
       "$$P_{cumax} = I_{2max}^2 R_{eq2} = 1300.0 \\, \\mathrm{W} $$\n",
       "\n",
       "$$ V_{2max} = \\frac{V_{2max} - I_{2max} \\mathrm{ fp_{max} } }{ V_{2max} - I_{2max} \\mathrm{fp_{max} } + P_{cu} + P_0 } = 132.28 \\, \\mathrm{V} $$\n",
       "\n",
       "$$ \\eta_{max} = \\frac{ V_{2max} I_{2max} \\mathrm{fp_{max} } }{ V_{2max} I_{2max} \\mathrm{ fp_{max} } + P_{cumax} + P_0 } \\times 100 = 98.92 \\, \\% $$\n"
      ],
      "text/plain": [
       "<IPython.core.display.Markdown object>"
      ]
     },
     "metadata": {},
     "output_type": "display_data"
    }
   ],
   "source": [
    "display(Markdown(\n",
    "   rf\"\"\"\n",
    "### Rendimiento máximo\n",
    "$\\varphi_{{max}} = \\arccos \\mathrm{{(fp_{{max}})}} = {phi_max} $\n",
    "\n",
    "$$ I_{{2 \\eta max}} = \\sqrt{{ \\frac{{P_0}}{{R_{{eq2}}}} }} = {I2_max:.6} \\, \\mathrm{{A}} $$\n",
    "\n",
    "$$P_{{cumax}} = I_{{2max}}^2 R_{{eq2}} = {Pcu_max:.6} \\, \\mathrm{{W}} $$\n",
    "\n",
    "$$ V_{{2max}} = \\frac{{V_{{2max}} - I_{{2max}} \\mathrm{{ fp_{{max}} }} }}{{ V_{{2max}} - I_{{2max}} \\mathrm{{fp_{{max}} }} + P_{{cu}} + P_0 }} = {V2_max:.5} \\, \\mathrm{{V}} $$\n",
    "\n",
    "$$ \\eta_{{max}} = \\frac{{ V_{{2max}} I_{{2max}} \\mathrm{{fp_{{max}} }} }}{{ V_{{2max}} I_{{2max}} \\mathrm{{ fp_{{max}} }} + P_{{cumax}} + P_0 }} \\times 100 = {n_max:.4} \\, \\% $$\n",
    "\"\"\")) "
   ]
  },
  {
   "cell_type": "code",
   "execution_count": 1,
   "metadata": {},
   "outputs": [],
   "source": [
    "%reset -s -f"
   ]
  }
 ],
 "metadata": {
  "kernelspec": {
   "display_name": "Python 3",
   "language": "python",
   "name": "python3"
  },
  "language_info": {
   "codemirror_mode": {
    "name": "ipython",
    "version": 3
   },
   "file_extension": ".py",
   "mimetype": "text/x-python",
   "name": "python",
   "nbconvert_exporter": "python",
   "pygments_lexer": "ipython3",
   "version": "3.7.6"
  }
 },
 "nbformat": 4,
 "nbformat_minor": 4
}
