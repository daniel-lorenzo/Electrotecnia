{
 "cells": [
  {
   "cell_type": "markdown",
   "metadata": {},
   "source": [
    "# Primer parcial, tema A\n",
    "__UNLZ - Facultad de Ingeniería__       \n",
    "__Electrotecnia__      \n",
    "__Alumno:__ Daniel Antonio Lorenzo"
   ]
  },
  {
   "cell_type": "markdown",
   "metadata": {},
   "source": [
    "## Pregunta 1\n",
    "<img src=\"parc1tA/01.png\">"
   ]
  },
  {
   "cell_type": "markdown",
   "metadata": {},
   "source": [
    "### Desarrollo:\n",
    "Datos:\n",
    "$\\left\\{\n",
    "\\begin{array}{l}\n",
    "i(t) = 10 \\sqrt{2} \\sin(\\omega t + \\pi/6 \\, \\mathrm{rad}) \\, \\mathrm{A} \\\\\n",
    "v(t) = 311 \\sin(\\omega t) \\, \\mathrm{V}\n",
    "\\end{array}\n",
    "\\right.$"
   ]
  },
  {
   "cell_type": "markdown",
   "metadata": {},
   "source": [
    "Entonces:\n",
    "$$\\begin{array}{l}\n",
    "I_\\mathrm{rms} = 10 \\angle 30^\\circ \\, \\mathrm{A} \\\\\n",
    "\\displaystyle V_\\mathrm{rms} = { 311 \\over \\sqrt{2} } \\angle 0^\\circ \\, \\mathrm{V}\n",
    "\\end{array}$$"
   ]
  },
  {
   "cell_type": "markdown",
   "metadata": {},
   "source": [
    "Por ley de Ohm\n",
    "$$ V = I Z \\quad \\rightarrow \\quad Z = \\frac{V_\\mathrm{rms}}{I_\\mathrm{rms}} $$"
   ]
  },
  {
   "cell_type": "markdown",
   "metadata": {},
   "source": [
    "$$ Z = { \\left( 311 / \\sqrt{2} \\right)  \\angle 0^\\circ \\over 10 \\angle 30^\\circ } $$"
   ]
  },
  {
   "cell_type": "code",
   "execution_count": 1,
   "metadata": {},
   "outputs": [],
   "source": [
    "import math, cmath"
   ]
  },
  {
   "cell_type": "code",
   "execution_count": 2,
   "metadata": {},
   "outputs": [],
   "source": [
    "# Datos:\n",
    "Irms = cmath.rect(10, math.radians(30) )\n",
    "Vrms = cmath.rect(311/math.sqrt(2), 0 )"
   ]
  },
  {
   "cell_type": "code",
   "execution_count": 3,
   "metadata": {},
   "outputs": [],
   "source": [
    "Z = Vrms/Irms"
   ]
  },
  {
   "cell_type": "code",
   "execution_count": 9,
   "metadata": {},
   "outputs": [
    {
     "name": "stdout",
     "output_type": "stream",
     "text": [
      "Resultados:\n",
      "|Z| = 22.0 Ohm\n",
      "Fase = -30.00°\n",
      "Z = 19.04-11.00j Ohm\n"
     ]
    }
   ],
   "source": [
    "print('Resultados:')\n",
    "print('|Z| = %.1f Ohm'%(abs(Z) ) )\n",
    "print('Fase = %.2f°'%( math.degrees( cmath.phase(Z) ) ) )\n",
    "print('Z = {:.2f} Ohm'.format(Z) )"
   ]
  },
  {
   "cell_type": "code",
   "execution_count": 10,
   "metadata": {},
   "outputs": [],
   "source": [
    "%reset -s -f"
   ]
  },
  {
   "cell_type": "markdown",
   "metadata": {},
   "source": [
    "## Pregunta 2\n",
    "<img src=\"parc1tA/02.png\">"
   ]
  },
  {
   "cell_type": "markdown",
   "metadata": {},
   "source": [
    "### Desarrollo\n",
    "Por ley de Ohm\n",
    "$$ Z = \\frac{U}{I} $$"
   ]
  },
  {
   "cell_type": "markdown",
   "metadata": {},
   "source": [
    "Entonces\n",
    "$$ \\theta_Z =  \\theta_U - \\theta_I $$"
   ]
  },
  {
   "cell_type": "markdown",
   "metadata": {},
   "source": [
    "$$ \\theta_Z = (-90^\\circ) - (-50^\\circ) $$"
   ]
  },
  {
   "cell_type": "markdown",
   "metadata": {},
   "source": [
    "$$ \\theta_Z = -40^\\circ $$"
   ]
  },
  {
   "cell_type": "markdown",
   "metadata": {},
   "source": [
    "Un ángulo de $-40^\\circ$ nos indica que la impedancia tiene un componente resistivo igual a $|Z| \\cos (-40^\\circ)$ y un componente capacitivo igual a $|Z| \\sin (-40^\\circ)$. Por lo tanto no representa una impedancia pura."
   ]
  },
  {
   "cell_type": "markdown",
   "metadata": {},
   "source": [
    "## Pregunta 3\n",
    "<img src=\"parc1tA/03.png\">"
   ]
  },
  {
   "cell_type": "markdown",
   "metadata": {},
   "source": [
    "### Desarrollo\n",
    "Hacemos $Z_3$ en paralelo con $Z_4$\n",
    "$$ Z' = Z_3//Z_4 = \\frac{Z_3 \\cdot Z_4}{Z_3 + Z_4} $$"
   ]
  },
  {
   "cell_type": "markdown",
   "metadata": {},
   "source": [
    "Luego, el resultado obtenido en serie con $Z_2$\n",
    "$$ Z'' = Z' + Z_2 $$"
   ]
  },
  {
   "cell_type": "markdown",
   "metadata": {},
   "source": [
    "El resultado obtenido en paralelo con $Z_0$\n",
    "$$ Z''' = Z''//Z_0 = \\frac{Z'' \\cdot Z_0 }{Z'' + Z_0} $$"
   ]
  },
  {
   "cell_type": "markdown",
   "metadata": {},
   "source": [
    "El resultado obtenido en serie con $Z_1$\n",
    "$$ Z_{eq} = Z''' + Z_1 $$"
   ]
  },
  {
   "cell_type": "markdown",
   "metadata": {},
   "source": [
    "## Pregunta 4\n",
    "<img src=\"parc1tA/04.png\">"
   ]
  },
  {
   "cell_type": "code",
   "execution_count": 11,
   "metadata": {},
   "outputs": [],
   "source": [
    "# Defino función para calcular elementos en paralelo\n",
    "def prl(x,y):\n",
    "    return (x*y)/(x + y)"
   ]
  },
  {
   "cell_type": "code",
   "execution_count": 12,
   "metadata": {},
   "outputs": [],
   "source": [
    "# Datos:\n",
    "Z0 = 20 + 20j # Ohm\n",
    "Z1 = 0 + 70j # Ohm\n",
    "Z2 = 15 + 15j # Ohm\n",
    "Z3 = 10 + 10j # Ohm\n",
    "Z4 = Z3\n",
    "U = 200 # V\n",
    "f = 50 # Hz"
   ]
  },
  {
   "cell_type": "code",
   "execution_count": 13,
   "metadata": {},
   "outputs": [],
   "source": [
    "Zp1 = prl(Z3,Z4)\n",
    "Zp2 = Zp1 + Z2\n",
    "Zp3 = prl(Zp2,Z0)\n",
    "Zeq = Zp3 + Z1"
   ]
  },
  {
   "cell_type": "code",
   "execution_count": 15,
   "metadata": {},
   "outputs": [
    {
     "name": "stdout",
     "output_type": "stream",
     "text": [
      "Zeq = 10+80j Ohm\n"
     ]
    }
   ],
   "source": [
    "print('Zeq = {:.0f} Ohm'.format(Zeq))"
   ]
  },
  {
   "cell_type": "markdown",
   "metadata": {},
   "source": [
    "## Pregunta 5\n",
    "<img src=\"parc1tA/05.png\">"
   ]
  },
  {
   "cell_type": "code",
   "execution_count": 16,
   "metadata": {},
   "outputs": [],
   "source": [
    "# Cálculo de I\n",
    "I = U/Zeq\n",
    "# Cálculo de S\n",
    "S = U*I.conjugate()\n",
    "P = S.real\n",
    "Q = S.imag"
   ]
  },
  {
   "cell_type": "code",
   "execution_count": 18,
   "metadata": {},
   "outputs": [
    {
     "name": "stdout",
     "output_type": "stream",
     "text": [
      "Resultados:\n",
      "|S| = 496 VA\n",
      " P  = 62 W\n",
      " Q  = 492 VAr\n"
     ]
    }
   ],
   "source": [
    "print('Resultados:')\n",
    "print('|S| = %.0f VA'%(abs(S)) )\n",
    "print(' P  = %.0f W'%P)\n",
    "print(' Q  = %.0f VAr'%Q)"
   ]
  },
  {
   "cell_type": "markdown",
   "metadata": {},
   "source": [
    "## Pregunta 6\n",
    "<img src=\"parc1tA/06.png\">"
   ]
  },
  {
   "cell_type": "markdown",
   "metadata": {},
   "source": [
    "### Desarrollo\n",
    "$$ \\mathrm{fp} = \\cos \\varphi_2 = 0,9 $$"
   ]
  },
  {
   "cell_type": "markdown",
   "metadata": {},
   "source": [
    "$$ \\varphi_2 = \\arccos 0,9 = 25,84^\\circ $$"
   ]
  },
  {
   "cell_type": "markdown",
   "metadata": {},
   "source": [
    "$$ P_1 = P_2 $$"
   ]
  },
  {
   "cell_type": "markdown",
   "metadata": {},
   "source": [
    "$$ U |I_1| \\cos \\varphi_1 = U |I_2| \\cos \\varphi_2 $$"
   ]
  },
  {
   "cell_type": "markdown",
   "metadata": {},
   "source": [
    "$$ |I_2| = |I_1| \\frac{\\cos \\varphi_1}{\\cos \\varphi_2} $$"
   ]
  },
  {
   "cell_type": "markdown",
   "metadata": {},
   "source": [
    "$$ |I_2| = |I_1| \\frac{\\cos \\varphi_1}{\\mathrm{fp}} = 0,34 \\, \\mathrm{A} $$"
   ]
  },
  {
   "cell_type": "markdown",
   "metadata": {},
   "source": [
    "$$ |S_2| = U |I_2| = 68,38 \\, \\mathrm{VA} $$"
   ]
  },
  {
   "cell_type": "markdown",
   "metadata": {},
   "source": [
    "$$ Q_2 = |S_2| \\sin \\varphi_2 = 29,80 \\, \\mathrm{VAr} $$"
   ]
  },
  {
   "cell_type": "markdown",
   "metadata": {},
   "source": [
    "$$ Q_C = Q - Q_2 = 462,5 \\, \\mathrm{VAr} $$"
   ]
  },
  {
   "cell_type": "markdown",
   "metadata": {},
   "source": [
    "$$ Q_C = \\frac{U^2}{X_C} = \\frac{U^2}{1/(\\omega C)} = U^2 \\omega C $$"
   ]
  },
  {
   "cell_type": "markdown",
   "metadata": {},
   "source": [
    "Cálculo de $C$\n",
    "$$ C = \\frac{Q_C}{\\omega U^2} = \\frac{Q_C}{2 \\pi f U^2} = 36,80 \\, \\mu \\mathrm{F} $$"
   ]
  },
  {
   "cell_type": "markdown",
   "metadata": {},
   "source": [
    "$$ P_2 = |S_2| \\cos \\varphi_2 =  $$"
   ]
  },
  {
   "cell_type": "code",
   "execution_count": 20,
   "metadata": {},
   "outputs": [],
   "source": [
    "import math, cmath"
   ]
  },
  {
   "cell_type": "code",
   "execution_count": 47,
   "metadata": {},
   "outputs": [],
   "source": [
    "fp = 0.9\n",
    "phi1 = cmath.phase(I)\n",
    "phi2 = math.acos(fp)\n",
    "\n",
    "I2 = abs(I)*math.cos(phi1)/fp\n",
    "S2 = U*I2\n",
    "P2 = P\n",
    "Q2 = S2*math.sin(phi2)\n",
    "Qc = Q - Q2\n",
    "C = Qc/(2*math.pi*f*U**2)"
   ]
  },
  {
   "cell_type": "code",
   "execution_count": 49,
   "metadata": {},
   "outputs": [
    {
     "name": "stdout",
     "output_type": "stream",
     "text": [
      "Resultados:\n",
      "phi1 = -82.87°\n",
      "phi2 = 25.84°\n",
      "|I2| = 0.34 A\n",
      "|S2| = 68.38 VA\n",
      " P2  = 61.54 W\n",
      " Q2  = 29.80 VAr\n",
      " Qc  = 462.50 VAr\n",
      " C   = 36.80 uF\n"
     ]
    }
   ],
   "source": [
    "print('Resultados:')\n",
    "print('phi1 = %.2f°'%(math.degrees(phi1)) )\n",
    "print('phi2 = %.2f°'%(math.degrees(phi2)) )\n",
    "print('|I2| = %.2f A'%I2)\n",
    "print('|S2| = %.2f VA'%S2)\n",
    "print(' P2  = %.2f W'%P2)\n",
    "print(' Q2  = %.2f VAr'%Q2)\n",
    "print(' Qc  = %.2f VAr'%Qc)\n",
    "print(' C   = %.2f uF'%(C*1e6) )"
   ]
  },
  {
   "cell_type": "code",
   "execution_count": 51,
   "metadata": {},
   "outputs": [],
   "source": [
    "%reset -s -f"
   ]
  },
  {
   "cell_type": "markdown",
   "metadata": {},
   "source": [
    "## Pregunta 7\n",
    "<img src=\"parc1tA/07.png\">"
   ]
  },
  {
   "cell_type": "markdown",
   "metadata": {},
   "source": [
    "Pasivamos la fuente, y se crea un cortocircuito entre los terminales de $Z_0$"
   ]
  },
  {
   "cell_type": "markdown",
   "metadata": {},
   "source": [
    "Hacemos $Z_1$ en paralelo con $Z_2$\n",
    "$$ Z' =  Z_1 // Z_2 = \\frac{Z_1 \\cdot Z_2}{Z_1 + Z_2} $$"
   ]
  },
  {
   "cell_type": "markdown",
   "metadata": {},
   "source": [
    "El resultado obtenido en paralelo con $Z_3$\n",
    "$$ Z'' = Z' // Z_3 = \\frac{Z' \\cdot Z_3}{Z' + Z_3} $$"
   ]
  },
  {
   "cell_type": "markdown",
   "metadata": {},
   "source": [
    "Luego en serie con $Z_4$\n",
    "$$ Z_{th} = Z'' + Z_4 $$"
   ]
  },
  {
   "cell_type": "markdown",
   "metadata": {},
   "source": [
    "## Pregunta 8\n",
    "<img src=\"parc1tA/08.png\">"
   ]
  },
  {
   "cell_type": "code",
   "execution_count": 52,
   "metadata": {},
   "outputs": [],
   "source": [
    "# Datos:\n",
    "Z0 = 100 + 0j # Ohm\n",
    "Z1 = Z0\n",
    "Z2 = Z1\n",
    "Z3 = Z2\n",
    "Z4 = 0 + 40j # Ohm\n",
    "U = 220 #V"
   ]
  },
  {
   "cell_type": "code",
   "execution_count": 53,
   "metadata": {},
   "outputs": [],
   "source": [
    "def prl(x,y):\n",
    "    return (x*y)/(x + y)"
   ]
  },
  {
   "cell_type": "code",
   "execution_count": 54,
   "metadata": {},
   "outputs": [],
   "source": [
    "Zp1 = prl(Z1,Z2)\n",
    "Zp2 = prl(Zp1,Z3)\n",
    "Zth = Zp2 + Z4"
   ]
  },
  {
   "cell_type": "code",
   "execution_count": 56,
   "metadata": {},
   "outputs": [
    {
     "name": "stdout",
     "output_type": "stream",
     "text": [
      "Zth = 33+40j Ohm\n"
     ]
    }
   ],
   "source": [
    "print('Zth = {:.0f} Ohm'.format(Zth))"
   ]
  },
  {
   "cell_type": "markdown",
   "metadata": {},
   "source": [
    "## Pregunta 9\n",
    "<img src=\"parc1tA/09.png\">"
   ]
  },
  {
   "cell_type": "markdown",
   "metadata": {},
   "source": [
    "### Desarrollo\n",
    "$$ Z_{eq} = Z_1 // Z_2 + Z_3 $$"
   ]
  },
  {
   "cell_type": "markdown",
   "metadata": {},
   "source": [
    "$$ Z_{eq} = \\frac{Z_1 \\cdot Z_2}{Z_1 + Z_2} + Z_3 $$"
   ]
  },
  {
   "cell_type": "markdown",
   "metadata": {},
   "source": [
    "$$ I = \\frac{U}{Z_{eq}} $$"
   ]
  },
  {
   "cell_type": "markdown",
   "metadata": {},
   "source": [
    "$$ U_{th} = I \\cdot Z_3 $$"
   ]
  },
  {
   "cell_type": "markdown",
   "metadata": {},
   "source": [
    "## Pregunta 10\n",
    "<img src=\"parc1tA/10.png\">"
   ]
  },
  {
   "cell_type": "code",
   "execution_count": 57,
   "metadata": {},
   "outputs": [],
   "source": [
    "Zeq = prl(Z1,Z2) + Z3\n",
    "I = U/Zeq\n",
    "Uth = I*Z3"
   ]
  },
  {
   "cell_type": "code",
   "execution_count": 61,
   "metadata": {},
   "outputs": [
    {
     "name": "stdout",
     "output_type": "stream",
     "text": [
      "Uth = 147+0j V\n"
     ]
    }
   ],
   "source": [
    "print('Uth = {:.0f} V'.format(Uth) )"
   ]
  }
 ],
 "metadata": {
  "kernelspec": {
   "display_name": "Python 3",
   "language": "python",
   "name": "python3"
  },
  "language_info": {
   "codemirror_mode": {
    "name": "ipython",
    "version": 3
   },
   "file_extension": ".py",
   "mimetype": "text/x-python",
   "name": "python",
   "nbconvert_exporter": "python",
   "pygments_lexer": "ipython3",
   "version": "3.7.6"
  }
 },
 "nbformat": 4,
 "nbformat_minor": 4
}
