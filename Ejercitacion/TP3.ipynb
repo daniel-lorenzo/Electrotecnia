{
 "cells": [
  {
   "cell_type": "markdown",
   "metadata": {},
   "source": [
    "# Trabajo Práctico N°3\n",
    "__UNLZ - Facultad de Ingeniería__       \n",
    "__Electrotecnia__      \n",
    "__Alumno:__ Daniel Antonio Lorenzo"
   ]
  },
  {
   "cell_type": "markdown",
   "metadata": {},
   "source": [
    "## Problema N°1\n",
    "1.1 Hallar el circuito equivalente de Thevenin entre los puntos A y B.\n",
    "\n",
    "1.2 Hallar el circuito equivalente de Norton entre los puntos A y B."
   ]
  },
  {
   "cell_type": "markdown",
   "metadata": {},
   "source": [
    "<img src=\"img/tp3e1.png\" alt=\"tp3e1.png\">"
   ]
  },
  {
   "cell_type": "markdown",
   "metadata": {},
   "source": [
    "### Solución"
   ]
  },
  {
   "cell_type": "markdown",
   "metadata": {},
   "source": [
    "* __Cálculo de $Z_{th}$__      "
   ]
  },
  {
   "cell_type": "markdown",
   "metadata": {},
   "source": [
    "<img src=\"img/tp3e1-1.png\" alt=\"tp3e1-1.png\">"
   ]
  },
  {
   "cell_type": "markdown",
   "metadata": {},
   "source": [
    "1)  $Z_1 || Z_2$     \n",
    "2)  $(Z_1 || Z_2) + Z_3$      \n",
    "3) $[(Z_1 || Z_2) + Z_3] || Z_4$"
   ]
  },
  {
   "cell_type": "markdown",
   "metadata": {},
   "source": [
    "1) Hacemos $Z_1 || Z_2$"
   ]
  },
  {
   "cell_type": "markdown",
   "metadata": {},
   "source": [
    "<img src=\"img/tp3e1-2.png\" alt=\"tp3e1-2.png\">"
   ]
  },
  {
   "cell_type": "markdown",
   "metadata": {},
   "source": [
    "$$ \\frac{Z_1 \\cdot Z_2}{Z_1 + Z_2} = \\frac{5e^{j0^\\circ} \\cdot 5e^{j90^\\circ}}{(5 + j0) + (0 + j5)} = \\frac{25^{j90^\\circ}}{5 + j5} = \\frac{25e^{j90^\\circ}}{\\sqrt{50} e^{j45^\\circ}} = 3,54e^{j45^\\circ} \\, \\Omega \\quad \\rightarrow 2,5 + j2,5 \\, \\Omega $$"
   ]
  },
  {
   "cell_type": "markdown",
   "metadata": {},
   "source": [
    "2)  $(Z_1 || Z_2) + Z_3$"
   ]
  },
  {
   "cell_type": "markdown",
   "metadata": {},
   "source": [
    "<img src=\"img/tp3e1-3.png\" alt=\"tp3e1-3.png\">"
   ]
  },
  {
   "cell_type": "markdown",
   "metadata": {},
   "source": [
    "$$ (2,5 + j2,5) + (2 + j2) = 4,5 + j4,5 \\, \\Omega \\quad \\rightarrow  6,36e^{j45} \\, \\Omega $$"
   ]
  },
  {
   "cell_type": "markdown",
   "metadata": {},
   "source": [
    "3) $\\left[(Z_1 || Z_2) + Z_3 \\right]  \\, || \\, Z_4$"
   ]
  },
  {
   "cell_type": "markdown",
   "metadata": {},
   "source": [
    "<img src=\"img/tp3e1-4.png\" alt=\"tp3e1-4.png\">"
   ]
  },
  {
   "cell_type": "markdown",
   "metadata": {},
   "source": [
    "$$ = \\frac{6,36e^{j45^\\circ} \\cdot 6e^{j0^\\circ}}{(4,5 + j4,5) + (6 + j0)} = \\frac{38,18e^{j45^\\circ}}{10,45 + j4,5} = \\frac{38,18e^{j45^\\circ}}{11,42e^{j23,2^\\circ}} = 3,34e^{j21,8^\\circ} $$"
   ]
  },
  {
   "cell_type": "markdown",
   "metadata": {},
   "source": [
    "<div class=\"alert-info\"><strong>Por lo tanto</strong>\n",
    "$$ Z_{th} =3,34e^{j21,8} \\, \\Omega = (3,1 + j1,2) \\, \\Omega $$\n",
    "    </div>"
   ]
  },
  {
   "cell_type": "markdown",
   "metadata": {},
   "source": [
    "* __Cálculo de $V_{th}$__"
   ]
  },
  {
   "cell_type": "markdown",
   "metadata": {},
   "source": [
    "<img src=\"img/tp3e1-5.png\" alt=\"tp3e1-5.png\">"
   ]
  },
  {
   "cell_type": "markdown",
   "metadata": {},
   "source": [
    "$V_{th} = V_{AB} = V_{Z_4}$"
   ]
  },
  {
   "cell_type": "markdown",
   "metadata": {},
   "source": [
    "1) $Z_4 + Z_3$"
   ]
  },
  {
   "cell_type": "markdown",
   "metadata": {},
   "source": [
    "<img src=\"img/tp3e1-6.png\" alt=\"tp3e1-6.png\">"
   ]
  },
  {
   "cell_type": "markdown",
   "metadata": {},
   "source": [
    "$$ = (6 + j0) + (2 + j2) = 8 + j2 \\quad \\rightarrow \\sqrt{68} e^{j14^\\circ} $$"
   ]
  },
  {
   "cell_type": "markdown",
   "metadata": {},
   "source": [
    "2) $(Z_4 + Z_3) || Z_2$"
   ]
  },
  {
   "cell_type": "markdown",
   "metadata": {},
   "source": [
    "<img src=\"img/tp3e1-7.png\" alt=\"tp3e1-7.png\">"
   ]
  },
  {
   "cell_type": "markdown",
   "metadata": {},
   "source": [
    "$$ = \\frac{\\sqrt{68} e^{j14^\\circ} \\cdot 5e^{j90^\\circ}}{(8 + j2) + (0 + j5)} = \\frac{5 \\sqrt{68} e^{j104^\\circ} }{8 + j7} = \\frac{ 5 \\sqrt{68} e^{j104^\\circ} }{\\sqrt{113} e^{j41,18^\\circ} } = 3,88e^{j62,85^\\circ} $$"
   ]
  },
  {
   "cell_type": "markdown",
   "metadata": {},
   "source": [
    "$$ \\rightarrow 3,88e^{j62,85^\\circ} = (1,77 + j3,45) \\, \\Omega $$"
   ]
  },
  {
   "cell_type": "markdown",
   "metadata": {},
   "source": [
    "3) $[(Z_4 + Z_3) || Z_2] + Z_1 $"
   ]
  },
  {
   "cell_type": "markdown",
   "metadata": {},
   "source": [
    "<img src=\"img/tp3e1-8.png\" alt=\"tp3e1-8.png\">"
   ]
  },
  {
   "cell_type": "markdown",
   "metadata": {},
   "source": [
    "$$ Z_{eq} = (1,77 + j3,45) + (5 + j0) = (6,77 + j3,45) \\, \\Omega \\quad \\rightarrow 7,60e^{j27^\\circ} \\, \\Omega $$"
   ]
  },
  {
   "cell_type": "markdown",
   "metadata": {},
   "source": [
    "<img src=\"img/tp3e1-5.png\" alt=\"tp3e1-5.png\">"
   ]
  },
  {
   "cell_type": "markdown",
   "metadata": {},
   "source": [
    "__Cálculo  de $I_t$__\n",
    "$$ I_t = \\frac{U}{Z_{eq}} = \\frac{55,8e^{-j17,4^\\circ}}{7,60e^{j27}} = 7,34e^{-j44,4^\\circ} \\, \\mathrm{A} $$"
   ]
  },
  {
   "cell_type": "markdown",
   "metadata": {},
   "source": [
    "__Cálculo de $V_{Z1}$__"
   ]
  },
  {
   "cell_type": "markdown",
   "metadata": {},
   "source": [
    "$$ V_{Z_1} = I_t Z_1 = 7,34e^{-j44,4^\\circ} 5e^{j0^\\circ} = 36,7e^{-j44,4^\\circ} \\, \\mathrm{V} $$"
   ]
  },
  {
   "cell_type": "markdown",
   "metadata": {},
   "source": [
    "__Cálculo de $V_{Z_2}$__"
   ]
  },
  {
   "cell_type": "markdown",
   "metadata": {},
   "source": [
    "$$ V_{Z_2} = V - V_{Z_1} = (27,02 + j9,01) \\, \\mathrm{V} \\quad \\rightarrow 28,48e^{18,44^\\circ} \\, \\mathrm{V} $$"
   ]
  },
  {
   "cell_type": "markdown",
   "metadata": {},
   "source": [
    "__Cálculo de $I_3$__"
   ]
  },
  {
   "cell_type": "markdown",
   "metadata": {},
   "source": [
    "$$ I_3 = \\frac{V_{Z_2}}{Z_3 + Z_4} = \\frac{28,48e^{j18,44^\\circ}}{\\sqrt{68}e^{j14}} = 3,45e^{j4,40^\\circ} \\, \\mathrm{V} $$"
   ]
  },
  {
   "cell_type": "markdown",
   "metadata": {},
   "source": [
    "<div class=\"alert-info\"><strong>Cálculo de $V_{th}$</strong>\n",
    "$$ V_{th} = V_{AB} = V_{Z_4} = I_3 Z_4 = 20,72 e^{j4,40^\\circ} \\, \\mathrm{V}$$\n",
    "    </div>"
   ]
  },
  {
   "cell_type": "markdown",
   "metadata": {},
   "source": [
    "### Usando python para calcular (opcional)"
   ]
  },
  {
   "cell_type": "code",
   "execution_count": 1,
   "metadata": {},
   "outputs": [],
   "source": [
    "import math, cmath"
   ]
  },
  {
   "cell_type": "code",
   "execution_count": 2,
   "metadata": {},
   "outputs": [],
   "source": [
    "# Datos:\n",
    "U = cmath.rect(55.8, math.radians(-17.4) )\n",
    "Z1 = 5 + 0j\n",
    "Z2 = 0 + 5j\n",
    "Z3 = 2 + 2j\n",
    "Z4 = 6 + 0j"
   ]
  },
  {
   "cell_type": "code",
   "execution_count": 3,
   "metadata": {},
   "outputs": [],
   "source": [
    "# Cálculo de Z1 || Z2\n",
    "ans1 = (Z1*Z2)/(Z1+Z2)\n",
    "\n",
    "# Cálculo de (Z1 || Z2) || Z3\n",
    "ans2 = ans1 + Z3\n",
    "\n",
    "# Cálculo de Zth\n",
    "Zth = (ans2*Z4)/(ans2 + Z4)\n",
    "Zthpol = cmath.polar(Zth)\n",
    "\n",
    "# Cálculo de Z3 + Z4\n",
    "ans3 = Z4 + Z3\n",
    "\n",
    "# Cálculo (Z4 + Z3) || Z2 \n",
    "ans4 = (ans3*Z2)/(ans3 + Z2)\n",
    "\n",
    "# Cálculo de Zeq\n",
    "Zeq = ans4 + Z1\n",
    "\n",
    "# Cálculo de It\n",
    "It = U/Zeq\n",
    "\n",
    "# Cálculo de V_z1\n",
    "V_z1 = It * Z1\n",
    "\n",
    "# Cálculo de V_z2\n",
    "V_z2 = U - V_z1\n",
    "\n",
    "# Cálculo de I3\n",
    "I3 = V_z2/(Z3 + Z4)\n",
    "I3pol = cmath.polar(I3)\n",
    "\n",
    "# Cálculo de Vth\n",
    "Vth = I3*Z4\n",
    "Vth_pol = cmath.polar(Vth)"
   ]
  },
  {
   "cell_type": "code",
   "execution_count": 4,
   "metadata": {},
   "outputs": [
    {
     "name": "stdout",
     "output_type": "stream",
     "text": [
      "Resultados:\n",
      "-----------------------------------------\n",
      "Zth = (3.34 < 21.80°) Ohm\n",
      "Zth = 3.10+1.24j Ohm\n",
      "-----------------------------------------\n",
      "Vth = (20.72 < 4.40°) V\n",
      "Vth = 20.66+1.59j V\n",
      "-----------------------------------------\n"
     ]
    }
   ],
   "source": [
    "print('Resultados:')\n",
    "print('-----------------------------------------')\n",
    "print('Zth = (%.2f < %.2f°) Ohm'%(Zthpol[0], math.degrees(Zthpol[1]) ) )\n",
    "print('Zth = {:.2f} Ohm'.format(Zth))\n",
    "print('-----------------------------------------')\n",
    "print('Vth = (%.2f < %.2f°) V'%(Vth_pol[0], math.degrees(Vth_pol[1]) ))\n",
    "print('Vth = {:.2f} V'.format(Vth))\n",
    "print('-----------------------------------------')"
   ]
  },
  {
   "cell_type": "code",
   "execution_count": 5,
   "metadata": {},
   "outputs": [],
   "source": [
    "%reset -s -f"
   ]
  },
  {
   "cell_type": "markdown",
   "metadata": {},
   "source": [
    "## Problema N°2\n",
    "Obtener el equivalente de Thevenin (entre los puntos a y b) y calcular la corriente que circularía si, en estos terminales, se coloca una resistencia de $30 \\, \\Omega$ $(R_c)$."
   ]
  },
  {
   "cell_type": "markdown",
   "metadata": {},
   "source": [
    "<img src=\"img/tp3e2.png\" alt=\"tp3e2.png\">"
   ]
  },
  {
   "cell_type": "markdown",
   "metadata": {},
   "source": [
    "### Solución"
   ]
  },
  {
   "cell_type": "markdown",
   "metadata": {},
   "source": [
    "__Cálculo de $Z_{th}$__\n",
    "\n",
    "1) $Z_0 || Z_1$; siendo $Z_0 = 0 + j0 = 0e^{-j0^\\circ}$"
   ]
  },
  {
   "cell_type": "markdown",
   "metadata": {},
   "source": [
    "$$ \\frac{Z_0 Z_1}{Z_0 + Z_1} = \\frac{0e^{j0} \\cdot 111,8e^{j63,43^\\circ}}{(0 + j0) + (50 + j100)} = 0 $$"
   ]
  },
  {
   "cell_type": "markdown",
   "metadata": {},
   "source": [
    "<img src=\"img/tp3e2-1.png\" alt=\"tp3e2-1.png\">"
   ]
  },
  {
   "cell_type": "markdown",
   "metadata": {},
   "source": [
    "2) $Z_2 || Z_3$"
   ]
  },
  {
   "cell_type": "markdown",
   "metadata": {},
   "source": [
    "$$ \\frac{Z_2 Z_3}{Z_2 + Z_3} = \\frac{111,8e^{j63,43} \\cdot 50e^{-j90^\\circ}}{(50 + j100) + (0 - j50)} = 79,06e^{-j71,57^\\circ} \\, \\Omega \\quad \\rightarrow (25 - j75) \\, \\Omega$$"
   ]
  },
  {
   "cell_type": "markdown",
   "metadata": {},
   "source": [
    "<img src=\"img/tp3e2-2.png\" alt=\"tp3e2-2.png\">"
   ]
  },
  {
   "cell_type": "markdown",
   "metadata": {},
   "source": [
    "3) $(Z_2 || Z_3) + Z_4$"
   ]
  },
  {
   "cell_type": "markdown",
   "metadata": {},
   "source": [
    "<img src=\"img/tp3e2-3.png\" alt=\"tp3e2-3.png\">"
   ]
  },
  {
   "cell_type": "markdown",
   "metadata": {},
   "source": [
    "$$ (25 - j75) + (25 + j0) = (50 - j75) \\, \\Omega $$"
   ]
  },
  {
   "cell_type": "markdown",
   "metadata": {},
   "source": [
    "<div class=\"alert-info\"><strong>Por lo tanto</strong>\n",
    "$$ Z_{th} = (50 - j75) \\, \\Omega \\quad \\rightarrow \\quad 90,14e^{-j56,31^\\circ} \\, \\Omega $$\n",
    "    </div>"
   ]
  },
  {
   "cell_type": "markdown",
   "metadata": {},
   "source": [
    "__Cálculo de $V_{th}$__"
   ]
  },
  {
   "cell_type": "markdown",
   "metadata": {},
   "source": [
    "$$ V_{th} = V_{AB} = V_{Z_3} $$"
   ]
  },
  {
   "cell_type": "markdown",
   "metadata": {},
   "source": [
    "<img src=\"img/tp3e2-4.png\" alt=\"tp3e2-4.png\">"
   ]
  },
  {
   "cell_type": "markdown",
   "metadata": {},
   "source": [
    "1) $Z_3 + Z_2$\n",
    "$$ (0 - j50) + (50 + j100) = 50 + j50 \\, \\Omega \\quad \\rightarrow 70,71e^{j45^\\circ} \\, \\Omega $$"
   ]
  },
  {
   "cell_type": "markdown",
   "metadata": {},
   "source": [
    "<img src=\"img/tp3e2-5.png\" alt=\"tp3e2-5.png\">"
   ]
  },
  {
   "cell_type": "markdown",
   "metadata": {},
   "source": [
    "2) $(Z_4 + Z_3) \\, || Z_1$\n",
    "$$ \\frac{70,71e^{j45^\\circ} \\cdot 111,8e^{j63,43^\\circ}}{(50 + j50) + (50 + j100)} = 43,85e^{j52,13^\\circ} \\, \\Omega $$"
   ]
  },
  {
   "cell_type": "markdown",
   "metadata": {},
   "source": [
    "Por lo tanto\n",
    "$$ Z_{eq} = 43,85e^{j52,13^\\circ} \\, \\Omega $$"
   ]
  },
  {
   "cell_type": "markdown",
   "metadata": {},
   "source": [
    "Cálculo $I_t$"
   ]
  },
  {
   "cell_type": "markdown",
   "metadata": {},
   "source": [
    "<img src=\"img/tp3e2-6.png\" alt=\"tp3e2-6.png\">"
   ]
  },
  {
   "cell_type": "markdown",
   "metadata": {},
   "source": [
    "$$ I_t = \\frac{V}{Z_{eq}} = \\frac{220e^{j0^\\circ}}{43,85e^{51,13^\\circ}} = 5,02e^{-j52,13^\\circ} \\, \\mathrm{A} \\quad \\rightarrow (3,08 - j3,96) \\, \\mathrm{A}  $$"
   ]
  },
  {
   "cell_type": "markdown",
   "metadata": {},
   "source": [
    "Además\n",
    "$$ I_2 = I_t - I_1 $$"
   ]
  },
  {
   "cell_type": "markdown",
   "metadata": {},
   "source": [
    "Entonces\n",
    "$$ I_1 = \\frac{U}{Z_1} = \\frac{220e^{j0^\\circ}}{111,8e^{j63,43^\\circ}} = 1,97e^{-j63,43^\\circ} \\, \\mathrm{A} \\quad \\rightarrow (0,88 - j1,76) \\, \\mathrm{A} $$"
   ]
  },
  {
   "cell_type": "markdown",
   "metadata": {},
   "source": [
    "Cálculo de $I_2$\n",
    "$$ I_2 = I_t - I_2 = (2,20 - j2,20) \\, \\mathrm{A} \\quad \\rightarrow 3,11e^{-j45^\\circ} \\, \\mathrm{A}  $$"
   ]
  },
  {
   "cell_type": "markdown",
   "metadata": {},
   "source": [
    "<div class=\"alert-info\"><strong>Por lo tanto</strong>\n",
    "$$ V_{th} = V_{AB} = V_{Z_3} = I_2 Z_3 = 155,56e^{-j135^\\circ} \\, \\mathrm{V} $$\n",
    "    </div>"
   ]
  },
  {
   "cell_type": "markdown",
   "metadata": {},
   "source": [
    "<img src=\"img/tp3e2-7.png\" alt=\"tp3e2-7.png\">"
   ]
  },
  {
   "cell_type": "markdown",
   "metadata": {},
   "source": [
    "<div class=\"alert-info\"><strong>Cálculo de $I_{RC}$</strong>\n",
    "$$ I_{RC} = \\frac{V_{th}}{Z_{th} + R_c} = 1,42e^{-j91,85^\\circ} \\, \\mathrm{A} $$\n",
    "    </div>"
   ]
  },
  {
   "cell_type": "markdown",
   "metadata": {},
   "source": [
    "### Usando python para calcular (opcional)"
   ]
  },
  {
   "cell_type": "code",
   "execution_count": 6,
   "metadata": {},
   "outputs": [],
   "source": [
    "import math, cmath"
   ]
  },
  {
   "cell_type": "code",
   "execution_count": 7,
   "metadata": {},
   "outputs": [],
   "source": [
    "# Datos\n",
    "Z1 = 50+100j\n",
    "Z2 = Z1\n",
    "Z3 = 0-50j\n",
    "Z4 = 25+0j\n",
    "U = 220+0j\n",
    "Rc = 30"
   ]
  },
  {
   "cell_type": "code",
   "execution_count": 8,
   "metadata": {},
   "outputs": [],
   "source": [
    "# Cálculo de Zth\n",
    "#1)   Z0 || Z1 ; siendo Z0 = 0 + 0j\n",
    "Z0 = 0\n",
    "ans1 = (Z0*Z1)/(Z0 + Z3)\n",
    "\n",
    "#2)   Z2 || Z3\n",
    "ans2 = (Z2*Z3)/(Z2+Z3)\n",
    "\n",
    "#3)   (Z2 || Z3) + Z4\n",
    "Zth = ans2 + Z4\n",
    "Zthpol = cmath.polar(Zth)\n",
    "\n",
    "# Cálculo de Zeq = (Z2 + Z3) || Z1\n",
    "Zeq = ((Z2 + Z3)*Z1)/(Z1 + Z2 + Z3)\n",
    "\n",
    "# Cálculo de It\n",
    "It = U/Zeq\n",
    "I1 = U/Z1\n",
    "I2 = It - I1\n",
    "\n",
    "# Cálculo de Vth\n",
    "Vth = I2*Z3\n",
    "Vth_pol = cmath.polar(Vth)\n",
    "\n",
    "# Cálculo de I_rc\n",
    "I_rc = Vth/(Zth + Rc)\n",
    "I_rcpol = cmath.polar(I_rc)"
   ]
  },
  {
   "cell_type": "code",
   "execution_count": 9,
   "metadata": {},
   "outputs": [
    {
     "name": "stdout",
     "output_type": "stream",
     "text": [
      "Resultados:\n",
      "-----------------------------------------\n",
      "Zth = (90.14 < -56.31°) Ohm\n",
      "Zth = 50.00-75.00j Ohm\n",
      "-----------------------------------------\n",
      "Vth = (155.56 < -135.00°) V\n",
      "Vth = -110.00-110.00j V\n",
      "-----------------------------------------\n",
      "I_rc = (1.42 < -91.85°) A\n",
      "I_rc = -0.0457-1.4179j A\n",
      "-----------------------------------------\n"
     ]
    }
   ],
   "source": [
    "print('Resultados:')\n",
    "print('-----------------------------------------')\n",
    "print('Zth = (%.2f < %.2f°) Ohm'%(Zthpol[0], math.degrees(Zthpol[1]) ) )\n",
    "print('Zth = {:.2f} Ohm'.format(Zth))\n",
    "print('-----------------------------------------')\n",
    "print('Vth = (%.2f < %.2f°) V'%(Vth_pol[0], math.degrees(Vth_pol[1]) ))\n",
    "print('Vth = {:.2f} V'.format(Vth))\n",
    "print('-----------------------------------------')\n",
    "print('I_rc = (%.2f < %.2f°) A'%(I_rcpol[0], math.degrees(I_rcpol[1]) ))\n",
    "print('I_rc = {:.4f} A'.format(I_rc))\n",
    "print('-----------------------------------------')"
   ]
  },
  {
   "cell_type": "code",
   "execution_count": 10,
   "metadata": {},
   "outputs": [],
   "source": [
    "%reset -s -f"
   ]
  },
  {
   "cell_type": "code",
   "execution_count": 11,
   "metadata": {},
   "outputs": [
    {
     "data": {
      "text/html": [
       "/* This template is inspired in the one used by Aeropython */\n",
       "\n",
       "/* <link href='http://fonts.googleapis.com/css?family=Source+Sans+Pro|Josefin+Sans:400,700,400italic|Ubuntu+Condensed' rel='stylesheet' type='text/css'>\n",
       "\n",
       "El estilo se ha aplicado =)\n",
       "\n",
       "<style>\n",
       "\n",
       "\n",
       "\n",
       "#notebook_panel { /* main background */\n",
       "    background: #f7f7f7;\n",
       "}\n",
       "\n",
       "div.cell { /* set cell width */\n",
       "    width: 900px;\n",
       "}\n",
       "\n",
       "div #notebook { /* centre the content */\n",
       "    background: #fff; /* white background for content */\n",
       "    width: 1200px;\n",
       "    margin: auto;\n",
       "    padding-left: 0em;\n",
       "}\n",
       "\n",
       "#notebook li { /* More space between bullet points */\n",
       "    margin-top:0.7em;\n",
       "}\n",
       "\n",
       "/* draw border around running cells */\n",
       "div.cell.border-box-sizing.code_cell.running { \n",
       "    border: 1px solid #111;\n",
       "}\n",
       "\n",
       "/* Put a solid color box around each cell and its output, visually linking them*/\n",
       "div.cell.code_cell {\n",
       "    font-family: 'Source Sans Pro', sans-serif;\n",
       "    background-color: rgb(256,256,256);\n",
       "    font-size: 110%;\n",
       "    border-radius: 0px; \n",
       "    padding: 0.5em;\n",
       "    margin-left:1em;\n",
       "    margin-top: 1em;\n",
       "}\n",
       "\n",
       "div.text_cell_render{\n",
       "    font-family: 'DejaVu Serif', serif;\n",
       "    line-height: 145%;\n",
       "    font-size: 125%;\n",
       "    font-weight: 500;\n",
       "    width:900px;\n",
       "    margin-left:auto;\n",
       "    margin-right:auto;\n",
       "}\n",
       "\n",
       "\n",
       "/* Formatting for header cells */\n",
       ".text_cell_render h1, .text_cell_render h2, .text_cell_render h3,\n",
       ".text_cell_render h4, .text_cell_render h5 {\n",
       "    font-family: 'Ubuntu Condensed', sans-serif;\n",
       "}\n",
       "/*\n",
       ".text_cell_render h1 {\n",
       "    font-family: Flux, 'Ubuntu Condensed', serif;\n",
       "    font-style:regular;\n",
       "    font-weight: 400;    \n",
       "    font-size: 30pt;\n",
       "    text-align: center;\n",
       "    line-height: 100%;\n",
       "    color: #335082;\n",
       "    margin-bottom: 0.5em;\n",
       "    margin-top: 0.5em;\n",
       "    display: block;\n",
       "}\n",
       "*/\n",
       ".text_cell_render h1 {\n",
       "    font-weight: 600;\n",
       "    font-size: 35pt;\n",
       "    line-height: 100%;\n",
       "    color: #000000;\n",
       "    margin-bottom: 0.1em;\n",
       "    margin-top: 0.3em;\n",
       "    display: block;\n",
       "}\n",
       "\n",
       ".text_cell_render h2 {\n",
       "    margin-top:16px;\n",
       "    font-size: 27pt;\n",
       "    font-weight: 550;\n",
       "    margin-bottom: 0.1em;\n",
       "    margin-top: 0.3em;\n",
       "    font-style: regular;\n",
       "    color: #2c6391;\n",
       "}\t\n",
       "\n",
       ".text_cell_render h3 {\n",
       "    font-size: 20pt;\n",
       "    font-weight: 550\n",
       "    text-align: left;\n",
       "    margin-bottom: 0.1em;\n",
       "    margin-top: 0.3em;\n",
       "    font-style: regular;\n",
       "    color:  #387eb8;\n",
       "}\n",
       "\n",
       ".text_cell_render h4 {    /*Use this for captions*/\n",
       "    font-size: 18pt;\n",
       "    font-weight: 450\n",
       "    text-align: left;\n",
       "    margin-bottom: 0.1em;\n",
       "    margin-top: 0.3em;\n",
       "    font-style: regular;\n",
       "    color:  #5797cc;\n",
       "}\n",
       "\n",
       ".text_cell_render h5 {  /*Use this for small titles*/\n",
       "    font-size: 18pt;\n",
       "    font-weight: 550;\n",
       "    color: rgb(163,0,0);\n",
       "    font-style: italic;\n",
       "    margin-bottom: .1em;\n",
       "    margin-top: 0.8em;\n",
       "    display: block;\n",
       "    color:  #b21c0d;\n",
       "}\n",
       "\n",
       ".text_cell_render h6 { /*use this for copyright note*/\n",
       "    font-family: 'Ubuntu Condensed', sans-serif;\n",
       "    font-weight: 300;\n",
       "    font-size: 14pt;\n",
       "    line-height: 100%;\n",
       "    color: #252525;\n",
       "    text-align: right;\n",
       "    margin-bottom: 1px;\n",
       "    margin-top: 1px;\n",
       "}\n",
       "\n",
       ".CodeMirror{\n",
       "        font-family: 'Duru Sans', sans-serif;\n",
       "        font-size: 100%;\n",
       "}\n",
       "\n",
       "</style>\n",
       "<script>\n",
       "    MathJax.Hub.Config({\n",
       "                        TeX: {\n",
       "                           extensions: [\"AMSmath.js\"],\n",
       "                           equationNumbers: { autoNumber: \"AMS\", useLabelIds: true}\n",
       "                           },\n",
       "                tex2jax: {\n",
       "                    inlineMath: [ ['$','$'], [\"\\\\(\",\"\\\\)\"] ],\n",
       "                    displayMath: [ ['$$','$$'], [\"\\\\[\",\"\\\\]\"] ]\n",
       "                },\n",
       "                displayAlign: 'center', // Change this to 'center' to center equations.\n",
       "                \"HTML-CSS\": {\n",
       "                    styles: {'.MathJax_Display': {\"margin\": 4}}\n",
       "                }\n",
       "        });\n",
       "</script>\n"
      ],
      "text/plain": [
       "<IPython.core.display.HTML object>"
      ]
     },
     "execution_count": 11,
     "metadata": {},
     "output_type": "execute_result"
    }
   ],
   "source": [
    "# Esta celda da el estilo al notebook\n",
    "from IPython.core.display import HTML\n",
    "css_file = 'styles/aeropython.css'\n",
    "HTML(open(css_file, \"r\").read())"
   ]
  },
  {
   "cell_type": "code",
   "execution_count": null,
   "metadata": {},
   "outputs": [],
   "source": []
  }
 ],
 "metadata": {
  "kernelspec": {
   "display_name": "Python 3",
   "language": "python",
   "name": "python3"
  },
  "language_info": {
   "codemirror_mode": {
    "name": "ipython",
    "version": 3
   },
   "file_extension": ".py",
   "mimetype": "text/x-python",
   "name": "python",
   "nbconvert_exporter": "python",
   "pygments_lexer": "ipython3",
   "version": "3.7.6"
  }
 },
 "nbformat": 4,
 "nbformat_minor": 4
}
