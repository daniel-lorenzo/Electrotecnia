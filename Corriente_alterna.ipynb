{
 "cells": [
  {
   "cell_type": "markdown",
   "metadata": {},
   "source": [
    "# Ejercicios\n",
    "#### Sección 31.1 Fasores y corrientes alternas"
   ]
  },
  {
   "cell_type": "markdown",
   "metadata": {},
   "source": [
    "## Ejercicio 31.1\n",
    "La placa en la parte posterior de cierto escáner de computadora indica que la unidad consume una corriente de 0,34 A de una línea de 120 V a 60 Hz. Determine\n",
    "\n",
    "a) la corriente eficaz (rms)      \n",
    "b) la amplitud de corriente     \n",
    "c) la corriente media     \n",
    "d) el cuadrático medio de la corriente    "
   ]
  },
  {
   "cell_type": "markdown",
   "metadata": {},
   "source": [
    "### Solución\n",
    "a) El valor especificado es $I_\\mathrm{rms} = 0,34 \\, \\mathrm{A}$"
   ]
  },
  {
   "cell_type": "markdown",
   "metadata": {},
   "source": [
    "b) $I = \\sqrt{2} I_\\mathrm{rms} = \\sqrt{2} \\mathrm{ (0,34 \\, A) = 0,48 \\, A}$"
   ]
  },
  {
   "cell_type": "markdown",
   "metadata": {},
   "source": [
    "c) Como la corriente es positiva la mitad  del tiempo, y negativa la otra mitad del tiempo, su valor promedio es cero."
   ]
  },
  {
   "cell_type": "markdown",
   "metadata": {},
   "source": [
    "d) $I^2_\\mathrm{rms} = (0,34 \\, \\mathrm{A})^2 = 0,12 \\, \\mathrm{A}^2$"
   ]
  },
  {
   "cell_type": "code",
   "execution_count": 1,
   "metadata": {},
   "outputs": [],
   "source": [
    "import math"
   ]
  },
  {
   "cell_type": "code",
   "execution_count": 5,
   "metadata": {},
   "outputs": [
    {
     "name": "stdout",
     "output_type": "stream",
     "text": [
      "I = 0.48 A\n",
      "(I_rms)^2 = 0.12 A²\n"
     ]
    }
   ],
   "source": [
    "I_rms = 0.34 # A\n",
    "I = math.sqrt(2)*I_rms\n",
    "\n",
    "print('I = %.2f A'%I)\n",
    "\n",
    "print('(I_rms)^2 = %.2f A²'%(I_rms**2))"
   ]
  },
  {
   "cell_type": "code",
   "execution_count": 6,
   "metadata": {},
   "outputs": [],
   "source": [
    "%reset -s -f"
   ]
  },
  {
   "cell_type": "markdown",
   "metadata": {},
   "source": [
    "## Ejercicio 31.2\n",
    "Una corriente sinusoidal $i = I \\cos \\omega t$ tiene un valor rms $I_\\mathrm{rms} = 2,10 \\, \\mathrm{A}$\n",
    "1. ¿Cuál es la amplitud de corriente?\n",
    "2. La corriente se hace pasar a través de un circuito rectificador de onda completa. ¿Cuál es la corriente de valor medio rectificada)\n",
    "3. ¿Qué es mayor: $I_\\mathrm{rms}$ o $I_\\mathrm{vmr}$? Explique utilizando gráficas de $i^2$ y de la corriente rectificada."
   ]
  },
  {
   "cell_type": "markdown",
   "metadata": {},
   "source": [
    "#### Solución\n",
    "1. \n",
    "$$ I = \\sqrt{2} I_\\mathrm{rms} = \\sqrt{2} (2,10 \\, \\mathrm{A}) = 2,97 \\, \\mathrm{A} $$\n",
    "2. \n",
    "$$ I_\\mathrm{vmr} = \\frac{2}{\\pi} I = \\frac{2}{\\pi} (2,97 \\, \\mathrm{A}) = 1,89 \\, \\mathrm{A} $$\n",
    "3. El voltaje medio cuadrático de la raíz siempre es mayor que el promedio rectificado, porque cuadrar la corriente antes de promediar, y luego tomar la raíz cuadrada para obtener el valor cuadrático medio de la raíz siempre dará un valor mayor que simplemente promediar."
   ]
  },
  {
   "cell_type": "code",
   "execution_count": 2,
   "metadata": {},
   "outputs": [],
   "source": [
    "import math"
   ]
  },
  {
   "cell_type": "code",
   "execution_count": 3,
   "metadata": {},
   "outputs": [
    {
     "name": "stdout",
     "output_type": "stream",
     "text": [
      "I = 2.97 A\n",
      "I_rav = 1.89 A\n"
     ]
    }
   ],
   "source": [
    "# ítem 1\n",
    "I_rms = 2.10 # A\n",
    "\n",
    "I = math.sqrt(2)*I_rms\n",
    "\n",
    "# ítem 2\n",
    "I_rav = 2/math.pi * I\n",
    "\n",
    "# imprime resultados\n",
    "print('I = %.2f A'%I)\n",
    "print('I_rav = %.2f A'%I_rav)"
   ]
  },
  {
   "cell_type": "code",
   "execution_count": 7,
   "metadata": {},
   "outputs": [],
   "source": [
    "%reset -s -f"
   ]
  },
  {
   "cell_type": "markdown",
   "metadata": {},
   "source": [
    "## Ejercicio 31.3\n",
    "El voltaje entre las terminales de una fuente de energía de ca varía con el tiempo de acuerdo con la ecuación $v = V \\cos \\omega t$. La amplitud de voltaje es $V = 45,0 \\, \\mathrm{V}$. ¿Cuáles son *a)* la diferencia de potencial cuádrica media, $V_\\mathrm{rms}$? y *b)* ¿la diferencia de potencial media $V_\\mathrm{med}$ entre las dos terminales de la fuente de energía?"
   ]
  },
  {
   "cell_type": "markdown",
   "metadata": {},
   "source": [
    "#### Solución\n",
    "**(a)**\n",
    "$$ V_\\mathrm{rms} = \\frac{V}{\\sqrt{2}} = \\frac{45,0 \\, \\mathrm{V}}{\\sqrt{2}} = 31,8 \\, \\mathrm{V} $$"
   ]
  },
  {
   "cell_type": "markdown",
   "metadata": {},
   "source": [
    "**(b)** Como el voltaje es sinusoidal, el promedio es cero. La amplitud de voltaje es mayor que $V_\\mathrm{rms}$."
   ]
  },
  {
   "cell_type": "code",
   "execution_count": 8,
   "metadata": {},
   "outputs": [],
   "source": [
    "import math"
   ]
  },
  {
   "cell_type": "code",
   "execution_count": 9,
   "metadata": {},
   "outputs": [
    {
     "name": "stdout",
     "output_type": "stream",
     "text": [
      "V_rms = 31.82 V\n"
     ]
    }
   ],
   "source": [
    "# ítem a\n",
    "V = 45 # V\n",
    "V_rms = V/math.sqrt(2)\n",
    "\n",
    "# imprime resultado\n",
    "print('V_rms = %.2f V'%V_rms)"
   ]
  },
  {
   "cell_type": "code",
   "execution_count": 10,
   "metadata": {},
   "outputs": [],
   "source": [
    "%reset -s -f"
   ]
  },
  {
   "cell_type": "markdown",
   "metadata": {},
   "source": [
    "## Ejercicio 31.4\n",
    "Un capacitor de $2,20 \\, \\mu \\mathrm{F}$ está conectado a una fuente de ca cuya amplitud de voltaje se mantiene constante a 60,0 V, pero cuya frecuencia varía. Determinar la amplitud de corriente cuando la frecuencia angualr es de      \n",
    "*a)* 100 ras/s;      \n",
    "*b)* 1000 rad/s;     \n",
    "*c)* 10.000 rad/s;      "
   ]
  },
  {
   "cell_type": "markdown",
   "metadata": {},
   "source": [
    "#### Solución\n",
    "$$ V = I X_C \\qquad \\mbox{con} \\qquad X_C = \\frac{1}{\\omega C} $$"
   ]
  },
  {
   "cell_type": "markdown",
   "metadata": {},
   "source": [
    "$\\omega$ es la frecuencia angular, en rad/s"
   ]
  },
  {
   "cell_type": "markdown",
   "metadata": {},
   "source": [
    "**(a)** \n",
    "$$ I = V \\omega C = \\mathrm{ (60,0 \\, V) (100 \\, rad/s) (2,20 \\times 10^{-6} \\, F) = 0,0132 \\, A }$$"
   ]
  },
  {
   "cell_type": "markdown",
   "metadata": {},
   "source": [
    "**(b)**\n",
    "$$ I = V \\omega C = \\mathrm{ (60,0 \\, V) (1000 \\, rad/s) (2,20 \\times 10^{-6} \\, F) = 0,132 \\, A }$$"
   ]
  },
  {
   "cell_type": "markdown",
   "metadata": {},
   "source": [
    "**(c)**\n",
    "$$ I = V \\omega C = \\mathrm{ (60,0 \\, V) (10.000 \\, rad/s) (2,20 \\times 10^{-6} \\, F) = 1,32 \\, A }$$"
   ]
  },
  {
   "cell_type": "code",
   "execution_count": 13,
   "metadata": {},
   "outputs": [
    {
     "name": "stdout",
     "output_type": "stream",
     "text": [
      "I_a = 0.0132 A\n",
      "I_b = 0.132 A\n",
      "I_c = 1.32 A\n"
     ]
    }
   ],
   "source": [
    "# Datos\n",
    "V = 60 # V\n",
    "X_C = 2.2e-6 # F\n",
    "omega_a = 100 # rad/s\n",
    "omega_b = 1000 # rad/s\n",
    "omega_c = 10000 # rad/s\n",
    "\n",
    "# ítem a\n",
    "I_a = V * omega_a * X_C \n",
    "# ítem b\n",
    "I_b = V * omega_b * X_C\n",
    "# ítem c\n",
    "I_c = V * omega_c * X_C\n",
    "\n",
    "# imprime resultado\n",
    "print('I_a = %.4f A'%I_a)\n",
    "print('I_b = %.3f A'%I_b)\n",
    "print('I_c = %.2f A'%I_c)"
   ]
  },
  {
   "cell_type": "code",
   "execution_count": 14,
   "metadata": {},
   "outputs": [],
   "source": [
    "%reset -s -f"
   ]
  },
  {
   "cell_type": "markdown",
   "metadata": {},
   "source": [
    "## Ejercicio 31.5\n",
    "Un inductor de 5,00 H con resistencia insignificante está conectado a la fuente de ca del ejercicio 31.4. Determine la amplitud de corriente cuando la frecuencia angular es      \n",
    "*a)* 100 rad/s       \n",
    "*b)* 1000 rad/s      \n",
    "*c)* 10.000 rad/s     "
   ]
  },
  {
   "cell_type": "markdown",
   "metadata": {},
   "source": [
    "#### Solución\n",
    "$$ V = I X_L \\quad \\mbox{con} \\qquad X_L = \\omega L $$"
   ]
  },
  {
   "cell_type": "markdown",
   "metadata": {},
   "source": [
    "**(a)**\n",
    "$$ I = \\frac{V}{X_L} = \\frac{V}{\\omega L} = \\mathrm{ \\frac{60,0 \\, V}{(100 \\, rad/s)(5,00 \\, H)} = 0,120 \\, A } $$"
   ]
  },
  {
   "cell_type": "markdown",
   "metadata": {},
   "source": [
    "**(b)**\n",
    "$$ I = \\frac{V}{X_L} = \\frac{V}{\\omega L} = \\mathrm{ \\frac{60,0 \\, V}{(1000 \\, rad/s)(5,00 \\, H)} = 0,0120 \\, A } $$"
   ]
  },
  {
   "cell_type": "markdown",
   "metadata": {},
   "source": [
    "**(c)**\n",
    "$$ I = \\frac{V}{X_L} = \\frac{V}{\\omega L} = \\mathrm{ \\frac{60,0 \\, V}{(10.000 \\, rad/s)(5,00 \\, H)} = 0,00120 \\, A } $$"
   ]
  },
  {
   "cell_type": "code",
   "execution_count": 16,
   "metadata": {},
   "outputs": [
    {
     "name": "stdout",
     "output_type": "stream",
     "text": [
      "I_a = 0.12 A\n",
      "I_b = 0.012 A\n",
      "I_c = 0.0012 A\n"
     ]
    }
   ],
   "source": [
    "# Datos\n",
    "V = 60 # V\n",
    "L = 5 # H\n",
    "omega_a = 100 # rad/s\n",
    "omega_b = 1000 # rad/s\n",
    "omega_c = 10000 #  rad/s\n",
    "\n",
    "# ítem a\n",
    "I_a = V/(omega_a * L)\n",
    "# ítem b\n",
    "I_b = V/(omega_b * L)\n",
    "# ítem c\n",
    "I_c = V/(omega_c * L)\n",
    "\n",
    "# imprime resultado\n",
    "print('I_a = %.2f A'%I_a)\n",
    "print('I_b = %.3f A'%I_b)\n",
    "print('I_c = %.4f A'%I_c)"
   ]
  },
  {
   "cell_type": "code",
   "execution_count": 17,
   "metadata": {},
   "outputs": [],
   "source": [
    "%reset -s -f"
   ]
  },
  {
   "cell_type": "markdown",
   "metadata": {},
   "source": [
    "## Ejercicio 31.6\n",
    "Una capacitancia *C* y una inductancia *L* se operan a la misma frecuencia angular.        \n",
    "*a)* ¿A qué frecuencia angular tendrán la misma reactancia?         \n",
    "*b)* Si $L = 5,00 \\, \\mathrm{mH}$ y $C = 3,50 \\, \\mu \\mathrm{F}$, ¿cuál es el valor numérico de la frecuencia angular del inciso *a)*, y cuál es la reactancia de cada elemento?"
   ]
  },
  {
   "cell_type": "markdown",
   "metadata": {},
   "source": [
    "#### Solución\n",
    "La reactancia de los condensadores e inductores depende de la frecuencia angular a la que se operan, así como de su capacitancia o inductancia."
   ]
  },
  {
   "cell_type": "markdown",
   "metadata": {},
   "source": [
    "Las reactancias son $X_C = 1/ \\omega C$ y $X_L = \\omega L$."
   ]
  },
  {
   "cell_type": "markdown",
   "metadata": {},
   "source": [
    "Igualando las rectancias dadas\n",
    "$$ \\omega L  = \\frac{1}{\\omega C} $$"
   ]
  },
  {
   "cell_type": "markdown",
   "metadata": {},
   "source": [
    "$$ \\omega = \\frac{1}{\\sqrt{LC}} = \\mathrm{ \\frac{1}{\\sqrt{ (5,00 \\, mH)(3,50 \\, \\mu F) }} = 7560 \\, rad/s } $$"
   ]
  },
  {
   "cell_type": "markdown",
   "metadata": {},
   "source": [
    "$$ X_C = X_L = \\omega L = \\mathrm{ (7560 \\, rad/s)(5,00 \\, mH) = 37,8 \\, \\Omega } $$"
   ]
  },
  {
   "cell_type": "markdown",
   "metadata": {},
   "source": [
    "## Ejercicio 31.14\n",
    "Usted tiene un resistor de $200 \\, \\Omega$, un inductor de $0,400 \\, \\mathrm{H}$ y un capacitor de $6,00 \\, \\mathrm{\\mu F}$. Suponga que toma el resistor y el inductor y construye un circuito en serie con una fuente de voltaje que tiene una amplitud de $30,0 \\, \\mathrm{V}$ y una frecuencia angular de $250 \\, \\mathrm{rad/s}$."
   ]
  },
  {
   "cell_type": "markdown",
   "metadata": {},
   "source": [
    "1. ¿Cuál es la impedandia del circuito?         \n",
    "2. ¿Cuál es la amplitud de corriente?     \n",
    "3. ¿Cuáles son las amplitudes de voltaje en las terminales del resistor y en las terminales del inductor?     \n",
    "4. ¿Cuál es el ángulo de fase $\\phi$ del voltaje de fuente con respecto de la corriente? ¿La fuente de voltaje se adelanta o se atrasa en relación con la corriente?\n",
    "5. Construya un diagrama de fasores."
   ]
  },
  {
   "cell_type": "markdown",
   "metadata": {},
   "source": [
    "### Solución\n",
    "Calcule la reactancia del inductor y del condensador. Calcule la impedancia y use ese resulado para calcular la amplitud actual."
   ]
  },
  {
   "cell_type": "markdown",
   "metadata": {},
   "source": [
    "Sin capacitor\n",
    "$$ Z = \\sqrt{R^2 + X^2_L} \\qquad ; \\qquad \\tan \\phi = \\frac{X_L}{R} $$"
   ]
  },
  {
   "cell_type": "markdown",
   "metadata": {},
   "source": [
    "1. ítem\n",
    "\n",
    "$\\begin{array}{l}\n",
    "X_L = \\omega L = \\mathrm{ (250 \\, rad/s) (0,400 \\, H) = 100 \\, \\Omega }\\\\\n",
    "Z = \\mathrm{ \\sqrt{(200 \\, \\Omega)^2 + (100 \\, \\Omega)^2} = 224 \\, \\Omega}\n",
    "\\end{array}$"
   ]
  },
  {
   "cell_type": "markdown",
   "metadata": {},
   "source": [
    "2. ítem\n",
    "$$ I = \\frac{V}{Z} = \\mathrm{ \\frac{30 \\, V}{224 \\, \\Omega} = 0,134 \\, A } $$"
   ]
  },
  {
   "cell_type": "markdown",
   "metadata": {},
   "source": [
    "3. ítem\n",
    "\n",
    "$\\begin{array}{l}\n",
    "V_R = I R = \\mathrm{ (0,134 \\, A) (200 \\, \\Omega) = 26,8 \\, V }\\\\\n",
    "V_L = I X_L = \\mathrm{ (0,134 \\, A) (100 \\, \\Omega) = 13,4 \\, V}\n",
    "\\end{array}$"
   ]
  },
  {
   "cell_type": "markdown",
   "metadata": {},
   "source": [
    "4. ítem\n",
    "$$ \\tan \\phi = \\frac{X_L}{R} = \\frac{100 \\, \\Omega}{200 \\, \\Omega} $$"
   ]
  },
  {
   "cell_type": "markdown",
   "metadata": {},
   "source": [
    "$$ \\phi = 26,6^\\circ $$"
   ]
  },
  {
   "cell_type": "markdown",
   "metadata": {},
   "source": [
    "Ya que $\\phi$ es positivo, la fuente de voltaje adelanta a la corriente."
   ]
  },
  {
   "cell_type": "markdown",
   "metadata": {},
   "source": [
    "<img src=\"img/ejer31-4.png\" alt=\"ejerc31-4.png\">"
   ]
  },
  {
   "cell_type": "code",
   "execution_count": 11,
   "metadata": {},
   "outputs": [],
   "source": [
    "import math"
   ]
  },
  {
   "cell_type": "code",
   "execution_count": 17,
   "metadata": {},
   "outputs": [],
   "source": [
    "omega = 250 # rad/s\n",
    "L = 0.400 # H\n",
    "R = 200 # Ohm\n",
    "V = 30 # V\n",
    "# ítem 1\n",
    "X_L = omega*L\n",
    "Z = math.sqrt(R**2 + X_L**2)\n",
    "# ítem 2\n",
    "I = V/Z\n",
    "# ítem 3\n",
    "V_R = I*R\n",
    "V_L = I*X_L\n",
    "# ítem 4\n",
    "phi = math.atan(X_L/R)"
   ]
  },
  {
   "cell_type": "code",
   "execution_count": 19,
   "metadata": {},
   "outputs": [
    {
     "name": "stdout",
     "output_type": "stream",
     "text": [
      "* ítem 1\n",
      "X_L = 100.00 Ohm\n",
      "Z = 223.61 Ohm\n",
      "* ítem 2\n",
      "I = 0.134 A\n",
      "* ítem 3\n",
      "V_R = 26.83 V\n",
      "V_L = 13.42 V\n",
      "* ítem 4\n",
      "phi = 26.57°\n"
     ]
    }
   ],
   "source": [
    "print('* ítem 1')\n",
    "print('X_L = %.2f Ohm'%X_L)\n",
    "print('Z = %.2f Ohm'%Z)\n",
    "print('* ítem 2')\n",
    "print('I = %.3f A'%I)\n",
    "print('* ítem 3')\n",
    "print('V_R = %.2f V'%V_R)\n",
    "print('V_L = %.2f V'%V_L)\n",
    "print('* ítem 4')\n",
    "print('phi = %.2f°'%(phi * (180/math.pi)))"
   ]
  },
  {
   "cell_type": "markdown",
   "metadata": {},
   "source": [
    "## Ejercicio 31.15\n",
    "1. Para el circuito *R-L* del circuito del ejercicio 31.4, construya la gráfica de $v, \\, v_R$ y $v_L$ en función de *t*, que vaya de $t=0$ a $t = 50,0 \\, \\mathrm{ms}$. La corriente está dada por $i = I \\cos \\omega t$, por lo que $v = V \\cos (\\omega t + \\phi)$.\n",
    "2. ¿Cuáles son los valores de $v, \\, v_R$ y $v_L$ en $t = 20,0 \\, \\mathrm{ms}$. Compare $v_R + v_L$ con $v$ en este instante.\n",
    "3. Repita el inciso 2.  para $t = 40,0 \\, \\mathrm{ms}$."
   ]
  },
  {
   "cell_type": "markdown",
   "metadata": {},
   "source": [
    "### Solución"
   ]
  },
  {
   "cell_type": "code",
   "execution_count": 16,
   "metadata": {},
   "outputs": [],
   "source": [
    "import matplotlib\n",
    "import matplotlib.pyplot as plt\n",
    "import numpy as np"
   ]
  },
  {
   "cell_type": "code",
   "execution_count": 37,
   "metadata": {},
   "outputs": [
    {
     "data": {
      "image/png": "[encoded data removed]",
      "text/plain": [
       "<Figure size 432x288 with 1 Axes>"
      ]
     },
     "metadata": {
      "needs_background": "light"
     },
     "output_type": "display_data"
    }
   ],
   "source": [
    "t = np.arange(0.0, 0.05, 0.001)\n",
    "\n",
    "v = V*np.cos(omega*t + phi)\n",
    "v_R = V_R*np.cos(omega*t)\n",
    "v_L = V_L*np.cos(omega*t + math.pi/2)\n",
    "\n",
    "fig, ax = plt.subplots()\n",
    "ax.plot(t, v , label='v')\n",
    "ax.plot(t, v_R , label='v_R')\n",
    "ax.plot(t, v_L , label='v_L')\n",
    "\n",
    "ax.set(xlabel='time (s)', ylabel='voltage (V)',\n",
    "       title='Plot')\n",
    "ax.grid()\n",
    "\n",
    "plt.legend()\n",
    "plt.show()"
   ]
  },
  {
   "cell_type": "code",
   "execution_count": 35,
   "metadata": {},
   "outputs": [],
   "source": [
    "def Vol(t):\n",
    "   return V*np.cos(omega*t + phi)\n",
    "\n",
    "def Vol_R(t):\n",
    "   return V_R*np.cos(omega*t)\n",
    "\n",
    "def Vol_L(t):\n",
    "   return V_L*np.cos(omega*t + math.pi/2)"
   ]
  },
  {
   "cell_type": "code",
   "execution_count": 36,
   "metadata": {},
   "outputs": [
    {
     "name": "stdout",
     "output_type": "stream",
     "text": [
      "Vol = 20.48 V\n",
      "Vol_R = 7.61 V\n",
      "Vol_L = 12.87 V\n",
      "Vol_R + Vol_L = 20.48 V\n"
     ]
    }
   ],
   "source": [
    "t = 20e-3 # s\n",
    "\n",
    "print('Vol = %.2f V'%Vol(t) )\n",
    "print('Vol_R = %.2f V'%Vol_R(t) )\n",
    "print('Vol_L = %.2f V'%Vol_L(t) )\n",
    "print('Vol_R + Vol_L = %.2f V'%(Vol_R(t) + Vol_L(t) ) )"
   ]
  },
  {
   "cell_type": "markdown",
   "metadata": {},
   "source": [
    "Tenga en cuenta que $v_R + v_L = v$"
   ]
  },
  {
   "cell_type": "code",
   "execution_count": 38,
   "metadata": {},
   "outputs": [
    {
     "name": "stdout",
     "output_type": "stream",
     "text": [
      "Vol = -15.22 V\n",
      "Vol_R = -22.51 V\n",
      "Vol_L = 7.30 V\n",
      "Vol_R + Vol_L = -15.22 V\n"
     ]
    }
   ],
   "source": [
    "# ítem 3\n",
    "t = 40e-3 # s\n",
    "\n",
    "print('Vol = %.2f V'%Vol(t) )\n",
    "print('Vol_R = %.2f V'%Vol_R(t) )\n",
    "print('Vol_L = %.2f V'%Vol_L(t) )\n",
    "print('Vol_R + Vol_L = %.2f V'%(Vol_R(t) + Vol_L(t) ) )"
   ]
  },
  {
   "cell_type": "code",
   "execution_count": 39,
   "metadata": {},
   "outputs": [],
   "source": [
    "%reset -s -f"
   ]
  },
  {
   "cell_type": "markdown",
   "metadata": {},
   "source": [
    "## Circuitos *RLC*\n",
    "*Se recomienta el siguiente procedimiento para resolver problemas de circuitos RLC en serie:*\n",
    "1. Calcule las reactancias inductiva y capacitiva, $X_L$ y $X_C$.\n",
    "2. Use $X_L$ y $X_C$ junto con la resistencia *R* para calcular la impedancia *Z* del circuito.\n",
    "3. Encuentre la máxima corriente o máxima caída de voltaje con la ley de Ohm equivalente, $\\Delta V_\\mathrm{m \\acute ax} = I_\\mathrm{m \\acute ax} Z$\n",
    "4. Calcule las caídas de voltaje a través de los elementos individuales con las variaciones apropiadas de la ley de Ohm: \n",
    "$$\\begin{array}{l}\n",
    "\\Delta V_{R, \\mathrm{ m \\acute ax}} = I_\\mathrm{m \\acute ax} R \\\\ \n",
    "\\Delta V_{L,\\mathrm{m \\acute ax}} = I_\\mathrm{m \\acute ax} X_L \\\\\n",
    "\\Delta V_{C,\\mathrm{m \\acute ax}} = I_\\mathrm{m \\acute ax} X_C\n",
    "\\end{array}$$\n",
    "5. Obtenda el ángulo de fase con el uso de\n",
    "$$ \\tan \\phi = \\frac{X_L - X_C}{R} $$"
   ]
  },
  {
   "cell_type": "markdown",
   "metadata": {},
   "source": [
    "## Ejemplo 21.4\n",
    "__Objetivo:__ Analizar un circuito CA *RLC* en serie y encontrar el ángulo de fase.\n",
    "\n",
    "__PROBLEMA:__ Un circuito CA *RLC* en serie tiene resistencia $R = 2,50 \\times 10^2 \\Omega$, inductancia $L = 0,600 \\, \\mathrm{H}$, capacitancia $C = 3,50 \\mu \\mathrm{F}$, frecuencia $f = 60.0 \\,  \\mathrm{Hz}$ y voltaje máximo $DV_\\mathrm{m \\acute ax} = 1,50 \\times 10^2 \\,  \\mathrm{V}$. \n",
    "\n",
    "Encuentre: \n",
    "1. la impedancia del circuito. \n",
    "2. la corriente máxima en el circuito \n",
    "3. el ángulo de fase \n",
    "4. los voltajes máximos a través de los elementos.\n",
    "\n",
    "__Estrategia:__ Calcule las reactancias inductiva y capacitiva, que se pueden usar con la resistencia para calcular la impedancia y el ángulo de fase. La impedancia y la ley de Ohm producen la corriente máxima."
   ]
  },
  {
   "cell_type": "markdown",
   "metadata": {},
   "source": [
    "### Solución\n",
    "1. Encuentre la impedancia del circuito.       \n",
    "Primero, calcule las reactancias inductiva y capacitiva:"
   ]
  },
  {
   "cell_type": "markdown",
   "metadata": {},
   "source": [
    "$$ X_L = 2 \\pi f L = 226 \\, \\Omega \\qquad ; \\qquad X_C = \\frac{1}{2 \\pi f C} = 758 \\, \\Omega $$"
   ]
  },
  {
   "cell_type": "markdown",
   "metadata": {},
   "source": [
    "Sustituya estos valores y la resistencia *R* en la ecuación"
   ]
  },
  {
   "cell_type": "markdown",
   "metadata": {},
   "source": [
    "$$ Z = \\sqrt{R^2 + (X_L - X_C)^2} = 588 \\, \\Omega $$"
   ]
  },
  {
   "cell_type": "markdown",
   "metadata": {},
   "source": [
    "2. Encuentre la corriente máxima en el circuito."
   ]
  },
  {
   "cell_type": "markdown",
   "metadata": {},
   "source": [
    "$$ I_\\mathrm{m \\acute ax} = \\frac{\\Delta V_\\mathrm{m \\acute ax} }{Z} = 0,255 \\, \\mathrm{A} $$"
   ]
  },
  {
   "cell_type": "markdown",
   "metadata": {},
   "source": [
    "3. Encuentre el ángulo de fase. Calcule el ángulo de fase entre la corriente y el voltaje con la ecuación"
   ]
  },
  {
   "cell_type": "markdown",
   "metadata": {},
   "source": [
    "$$ \\phi = \\tan^{-1} \\frac{X_L - X_C}{R} = -64,8^\\circ $$"
   ]
  },
  {
   "cell_type": "markdown",
   "metadata": {},
   "source": [
    "4. Encuentre los voltajes máximos a través de los elementos."
   ]
  },
  {
   "cell_type": "markdown",
   "metadata": {},
   "source": [
    "$$\\begin{array}{l}\n",
    "\\Delta V_{R, \\mathrm{ m \\acute ax}} = I_\\mathrm{m \\acute ax} R = 63,8 \\, \\mathrm{V} \\\\\n",
    "\\Delta V_{L, \\mathrm{ m \\acute ax}} = I_\\mathrm{m \\acute ax} X_L = 57,7 \\, \\mathrm{V} \\\\\n",
    "\\Delta V_{C, \\mathrm{ m \\acute ax}} = I_\\mathrm{m \\acute ax} X_C = 193 \\, \\mathrm{V}\n",
    "\\end{array}$$"
   ]
  },
  {
   "cell_type": "code",
   "execution_count": 1,
   "metadata": {},
   "outputs": [],
   "source": [
    "import math"
   ]
  },
  {
   "cell_type": "code",
   "execution_count": 4,
   "metadata": {},
   "outputs": [],
   "source": [
    "# Datos:\n",
    "R = 2.50e2 # Ohm\n",
    "L = 0.600 # H\n",
    "C = 3.50e-6 # F\n",
    "f = 60.0 # Hz\n",
    "DV_max = 1.50e2 # V\n",
    "\n",
    "# ítem 1\n",
    "X_L = 2*math.pi*f*L\n",
    "X_C = 1/(2*math.pi*f*C)\n",
    "Z = math.sqrt(R**2 + (X_L - X_C)**2)\n",
    "# ítem 2\n",
    "I_max = DV_max/Z\n",
    "# ítem 3\n",
    "phi = math.atan( (X_L - X_C)/R )\n",
    "# ítem 4\n",
    "DV_Rmax = I_max*R\n",
    "DV_Lmax = I_max*X_L\n",
    "DV_Cmax = I_max*X_C"
   ]
  },
  {
   "cell_type": "code",
   "execution_count": 6,
   "metadata": {},
   "outputs": [
    {
     "name": "stdout",
     "output_type": "stream",
     "text": [
      "X_L = 226.2 Ohm\n",
      "X_C = 757.9 Ohm\n",
      "Z = 587.5 Ohm\n",
      "I_max = 0.255 A\n",
      "phi = -64.82°\n",
      "DV_Rmax = 63.83 V\n",
      "DV_Lmax = 57.75 V\n",
      "DV_Cmax = 193.49 V\n"
     ]
    }
   ],
   "source": [
    "# imprime resultados\n",
    "print('X_L = %.1f Ohm'%X_L)\n",
    "print('X_C = %.1f Ohm'%X_C)\n",
    "print('Z = %.1f Ohm'%Z)\n",
    "print('I_max = %.3f A'%I_max)\n",
    "print('phi = %.2f°'%(phi*180/math.pi))\n",
    "print('DV_Rmax = %.2f V'%DV_Rmax)\n",
    "print('DV_Lmax = %.2f V'%DV_Lmax)\n",
    "print('DV_Cmax = %.2f V'%DV_Cmax)"
   ]
  },
  {
   "cell_type": "markdown",
   "metadata": {},
   "source": [
    "Puesto que el circuito es más capacitivo que inductivo $(X_C > X_L), \\phi$ es negativo. Un ángulo de fase negativo significa que la corriente se adelante al voltaje aplicado."
   ]
  },
  {
   "cell_type": "code",
   "execution_count": null,
   "metadata": {},
   "outputs": [],
   "source": []
  }
 ],
 "metadata": {
  "kernelspec": {
   "display_name": "Python 3",
   "language": "python",
   "name": "python3"
  },
  "language_info": {
   "codemirror_mode": {
    "name": "ipython",
    "version": 3
   },
   "file_extension": ".py",
   "mimetype": "text/x-python",
   "name": "python",
   "nbconvert_exporter": "python",
   "pygments_lexer": "ipython3",
   "version": "3.7.6"
  }
 },
 "nbformat": 4,
 "nbformat_minor": 4
}
