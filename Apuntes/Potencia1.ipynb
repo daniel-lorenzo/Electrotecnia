{
 "cells": [
  {
   "cell_type": "markdown",
   "metadata": {},
   "source": [
    "## Potencia"
   ]
  },
  {
   "cell_type": "markdown",
   "metadata": {},
   "source": [
    "### Potencia en corriente continua:\n",
    "En corriente continua sabemos que, cuando en un hilo conductor circula una corriente y se establece un campo eléctrico, el trabajo realizado por este campo producirá un aumento de la energía cinética en los electrones que se encuentran en el interior del material, y que luego se transforma en energía térmica debido a las vibraciones y colisiones entre los electrones y los iones reticulares del material. A este fenómeno de aumento de temperatura del conductor, cuando circula corriente por él, se denomina efecto Joule."
   ]
  },
  {
   "cell_type": "markdown",
   "metadata": {},
   "source": [
    "Además, cuando una carga \"Q\" se desplaza en dirección del campo eléctrico, a través, de un hilo conductor, ese desplazamiento puede ser interpretado como que un diferencial de carga \"$dQ$\" se halla movido desde un punto \"a\" hacia un punto \"b\" en un intervalo de tiempo \"$dt$\"."
   ]
  },
  {
   "cell_type": "markdown",
   "metadata": {},
   "source": [
    "<img src=\"img/pot1_01.png\" alt=\"pot1_01.png\">"
   ]
  },
  {
   "cell_type": "markdown",
   "metadata": {},
   "source": [
    "Entonces que la expresión de la diferencia de potencial eléctrico será:"
   ]
  },
  {
   "cell_type": "markdown",
   "metadata": {},
   "source": [
    "$$ dU = dQ (V_b - V_a) $$"
   ]
  },
  {
   "cell_type": "markdown",
   "metadata": {},
   "source": [
    "Pero como el campo eléctrico siempre se dirige en dirección de mayor a menor región de potencial, es decir:"
   ]
  },
  {
   "cell_type": "markdown",
   "metadata": {},
   "source": [
    "$$ V_b < V_a \\quad \\rightarrow \\quad (V_b - V_a) < 1 \\; \\therefore \\; -V = (V_b - V_a) $$"
   ]
  },
  {
   "cell_type": "markdown",
   "metadata": {},
   "source": [
    "Entonces quiere decir que durante el movimiento de la carga \"$dQ$\" se ha producido una caída de potencial eléctrico (caída de tensión), entonces"
   ]
  },
  {
   "cell_type": "markdown",
   "metadata": {},
   "source": [
    "$$ -dU = dQ \\cdot V $$"
   ]
  },
  {
   "cell_type": "markdown",
   "metadata": {},
   "source": [
    "pero como este movimiento se realiza en un intervalo de tiempo \"$dT$\", la expresión anterior por unidad de tiempo queda:"
   ]
  },
  {
   "cell_type": "markdown",
   "metadata": {},
   "source": [
    "$$ - \\frac{dU}{dt} = \\frac{dQ}{dt} \\cdot V $$"
   ]
  },
  {
   "cell_type": "markdown",
   "metadata": {},
   "source": [
    "Además, como la energía (o trabajo realizado) por unidad de tiempo es potencia por definición física, en este caso ese signo negativo se interpreta como una energía perdida traducida como potencia disipada:"
   ]
  },
  {
   "cell_type": "markdown",
   "metadata": {},
   "source": [
    "$$ \\frac{- dU}{dt} = P $$"
   ]
  },
  {
   "cell_type": "markdown",
   "metadata": {},
   "source": [
    "Entonces:\n",
    "$$ P = I \\cdot V $$"
   ]
  },
  {
   "cell_type": "markdown",
   "metadata": {},
   "source": [
    "__Conclusión:__     \n",
    "La potencia consumida por un elemento pasivo en un circuito eléctrico, está determinada por el producto entre la caída de potencial eléctrico (caída de tensión) y la corriente que circula a través de él."
   ]
  },
  {
   "cell_type": "markdown",
   "metadata": {},
   "source": [
    "__Potencia en una resistencia alimentada por una fuente de corriente continua__"
   ]
  },
  {
   "cell_type": "markdown",
   "metadata": {},
   "source": [
    "<img src=\"img/pot1_02.png\" alt=\"pot1_02.png\">"
   ]
  },
  {
   "cell_type": "markdown",
   "metadata": {},
   "source": [
    "Del análisis anterior se concluyó que la potencia consumida será:"
   ]
  },
  {
   "cell_type": "markdown",
   "metadata": {},
   "source": [
    "$$ P = I \\cdot V $$"
   ]
  },
  {
   "cell_type": "markdown",
   "metadata": {},
   "source": [
    "Por lay de ohm"
   ]
  },
  {
   "cell_type": "markdown",
   "metadata": {},
   "source": [
    "$$ V = I \\cdot R \\quad \\rightarrow \\quad I = \\frac{V}{R} $$"
   ]
  },
  {
   "cell_type": "markdown",
   "metadata": {},
   "source": [
    "Por lo tanto:"
   ]
  },
  {
   "cell_type": "markdown",
   "metadata": {},
   "source": [
    "$$ P = I \\cdot I \\cdot R = I^2 \\cdot R $$"
   ]
  },
  {
   "cell_type": "markdown",
   "metadata": {},
   "source": [
    "$$ P = \\frac{V}{R} \\cdot V = \\frac{V^2}{R} $$"
   ]
  },
  {
   "cell_type": "markdown",
   "metadata": {},
   "source": [
    "__Conlusión:__       \n",
    "Los conductores eléctricos realizados con materiales reales presentarán una resistencia, cuya expresión matemática es:"
   ]
  },
  {
   "cell_type": "markdown",
   "metadata": {},
   "source": [
    "$$ I = \\rho \\cdot \\frac{L}{A} $$"
   ]
  },
  {
   "cell_type": "markdown",
   "metadata": {},
   "source": [
    "Siendo:    \n",
    "$\\rho =$ resistividad      \n",
    "$L =$ longitud del conductor     \n",
    "$A =$ área transversal del conductor"
   ]
  },
  {
   "cell_type": "markdown",
   "metadata": {},
   "source": [
    "Entonces en un hilo conductor de un circuito cerrado, es decir, que fluye una corriente eléctrica \"I\" a través de él, se debe considerar que bajo estas condiciones, se disipará una potencia producida por la resistencia \"R\" que aparece por la resistividad del material y su factor geométrico, la corriente que circula y la diferencia de potencial eléctrico o caída de tensión."
   ]
  },
  {
   "cell_type": "markdown",
   "metadata": {},
   "source": [
    "### Potencia eléctrica monofásica en corriente alterna\n",
    "Iniciamos el ánalisis suponiendo que tenemos un circuito eléctrico en donde la impedancia que ve la fuente es de características risistiva-inductiva"
   ]
  },
  {
   "cell_type": "markdown",
   "metadata": {},
   "source": [
    "<img src=\"img/pot1-02.png\" alt=\"pot1-02.png\">"
   ]
  },
  {
   "cell_type": "markdown",
   "metadata": {},
   "source": [
    "$\\begin{array}{l}\n",
    "Z = a + jb \\\\\n",
    "a = Z \\cos( \\varphi ) \\\\\n",
    "b = Z \\sin ( \\varphi ) \\\\\n",
    "Z = \\sqrt{a^2 + b^2} \\\\\n",
    "b = X_L = \\omega \\cdot L \\\\\n",
    "\\omega = 2 \\pi \\cdot f \\\\\n",
    "\\varphi = \\arctan \\left( \\frac{b}{a} \\right)\n",
    "\\end{array}$"
   ]
  },
  {
   "cell_type": "code",
   "execution_count": null,
   "metadata": {},
   "outputs": [],
   "source": []
  }
 ],
 "metadata": {
  "kernelspec": {
   "display_name": "Python 3",
   "language": "python",
   "name": "python3"
  },
  "language_info": {
   "codemirror_mode": {
    "name": "ipython",
    "version": 3
   },
   "file_extension": ".py",
   "mimetype": "text/x-python",
   "name": "python",
   "nbconvert_exporter": "python",
   "pygments_lexer": "ipython3",
   "version": "3.7.6"
  }
 },
 "nbformat": 4,
 "nbformat_minor": 4
}
