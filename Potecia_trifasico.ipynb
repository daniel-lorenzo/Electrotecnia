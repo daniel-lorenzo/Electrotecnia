{
 "cells": [
  {
   "cell_type": "markdown",
   "metadata": {},
   "source": [
    "# Potencia en un sistema trifásico balanceado\n",
    "\n",
    "__UNLZ - Facultad de Ingeniería__       \n",
    "__Electrotecnia__      \n",
    "__Alumno:__ Daniel Antonio Lorenzo"
   ]
  },
  {
   "cell_type": "markdown",
   "metadata": {},
   "source": [
    "<a href=\"https://colab.research.google.com/github/daniel-lorenzo/Electrotecnia/blob/master/Potencia_trifasico.ipynb\"><img align=\"left\" src=\"https://colab.research.google.com/assets/colab-badge.svg\" alt=\"Open in Colab\" title=\"Open and Execute in Google Colaboratory\"></a>"
   ]
  },
  {
   "cell_type": "markdown",
   "metadata": {},
   "source": [
    "## Ejemplo 12.6\n",
    "Determine los valores totales de la potencia promedio, potencia reactiva y potencia compleja en la fuente y en la carga."
   ]
  },
  {
   "cell_type": "markdown",
   "metadata": {},
   "source": [
    "<img src=\"img/ej12-2.png\">"
   ]
  },
  {
   "cell_type": "markdown",
   "metadata": {},
   "source": [
    "### Solución\n",
    "Es suficiente considerar una fase, ya que el sistema está balanceado. En relación con la fase $a$."
   ]
  },
  {
   "cell_type": "code",
   "execution_count": 1,
   "metadata": {},
   "outputs": [],
   "source": [
    "import math, cmath"
   ]
  },
  {
   "cell_type": "code",
   "execution_count": 2,
   "metadata": {},
   "outputs": [],
   "source": [
    "# Datos:\n",
    "Zy = 5-2j + 10+8j\n",
    "Vp = 110\n",
    "\n",
    "Ip = Vp/Zy"
   ]
  },
  {
   "cell_type": "code",
   "execution_count": 3,
   "metadata": {
    "jupyter": {
     "source_hidden": true
    }
   },
   "outputs": [
    {
     "name": "stdout",
     "output_type": "stream",
     "text": [
      "Zy = 15+6j Ohm\n",
      "Ip = (6.81 < -21.80°) A\n"
     ]
    }
   ],
   "source": [
    "print('Zy = {:.0f} Ohm'.format(Zy))\n",
    "print('Ip = (%.2f < %.2f°) A'%(abs(Ip) , math.degrees( cmath.phase(Ip) ) ))"
   ]
  },
  {
   "cell_type": "markdown",
   "metadata": {},
   "source": [
    "$$ V_p = 110 \\angle 0^\\circ \\, \\mathrm{V} \\quad \\mbox{y} \\quad I_p = 6,81 \\angle -21,8^\\circ $$"
   ]
  },
  {
   "cell_type": "markdown",
   "metadata": {},
   "source": [
    "Así, en la fuente, la potencia compleja suministrada es"
   ]
  },
  {
   "cell_type": "markdown",
   "metadata": {},
   "source": [
    "$$ S_s = 3 V_p I_p^\\ast $$"
   ]
  },
  {
   "cell_type": "code",
   "execution_count": 4,
   "metadata": {},
   "outputs": [],
   "source": [
    "Ss = 3*Vp*Ip.conjugate()"
   ]
  },
  {
   "cell_type": "code",
   "execution_count": 20,
   "metadata": {},
   "outputs": [
    {
     "name": "stdout",
     "output_type": "stream",
     "text": [
      "Ss = 2086.2+834.5j VA\n"
     ]
    }
   ],
   "source": [
    "print('Ss = {:.1f} VA'.format(Ss))"
   ]
  },
  {
   "cell_type": "markdown",
   "metadata": {},
   "source": [
    "En la carga, la potencia compleja absobida es"
   ]
  },
  {
   "cell_type": "markdown",
   "metadata": {},
   "source": [
    "$$ S_L = 3 |I_p|^2 Z_p $$"
   ]
  },
  {
   "cell_type": "code",
   "execution_count": 23,
   "metadata": {},
   "outputs": [],
   "source": [
    "Zp = 10+8j\n",
    "\n",
    "SL = 3*abs(Ip)**2 * Zp"
   ]
  },
  {
   "cell_type": "code",
   "execution_count": 24,
   "metadata": {},
   "outputs": [
    {
     "name": "stdout",
     "output_type": "stream",
     "text": [
      "SL = 1390.8+1112.6j VA\n"
     ]
    }
   ],
   "source": [
    "print('SL = {:.1f} VA'.format(SL))"
   ]
  },
  {
   "cell_type": "markdown",
   "metadata": {},
   "source": [
    "La potencia real absorbida es de 1390.8 W y la potencia reactiva absorbida de 1112.6 VAr. La diferencia entre las dos potencias complejas es absorbida por la impedancia de línea $(5-j2) \\, \\Omega$. Para demostrar que éste es el caso, la potencia compleja absorbida por la línea se halla como"
   ]
  },
  {
   "cell_type": "markdown",
   "metadata": {},
   "source": [
    "$$ S_\\ell = 3|I_p|^2 Z_\\ell $$"
   ]
  },
  {
   "cell_type": "code",
   "execution_count": 25,
   "metadata": {},
   "outputs": [],
   "source": [
    "Zl = 5-2j # Ohm\n",
    "\n",
    "Sl = 3*abs(Ip)**2 * Zl"
   ]
  },
  {
   "cell_type": "code",
   "execution_count": 26,
   "metadata": {},
   "outputs": [
    {
     "name": "stdout",
     "output_type": "stream",
     "text": [
      "Sl = 695.4-278.2j VA\n"
     ]
    }
   ],
   "source": [
    "print('Sl = {:.1f} VA'.format(Sl))"
   ]
  },
  {
   "cell_type": "markdown",
   "metadata": {},
   "source": [
    "la cual es la diferencia entre $S_s$ y $S_L$, como era de esperar."
   ]
  },
  {
   "cell_type": "code",
   "execution_count": 18,
   "metadata": {},
   "outputs": [
    {
     "name": "stdout",
     "output_type": "stream",
     "text": [
      "Ss - Sl = 695.4-278.2j VA\n"
     ]
    }
   ],
   "source": [
    "print('Ss - Sl = {:.1f} VA'.format(Ss - SL) )"
   ]
  },
  {
   "cell_type": "code",
   "execution_count": 27,
   "metadata": {},
   "outputs": [],
   "source": [
    "%reset -s -f"
   ]
  },
  {
   "cell_type": "markdown",
   "metadata": {},
   "source": [
    "## Problema de práctica 12.6\n",
    "En referencia al circuito Y-Y del problema de práctica 12.2, calcule la potencia compleja en la fuente y en la carga."
   ]
  },
  {
   "cell_type": "markdown",
   "metadata": {},
   "source": [
    "<img src=\"img/ejp12-2.png\">"
   ]
  },
  {
   "cell_type": "code",
   "execution_count": 28,
   "metadata": {},
   "outputs": [],
   "source": [
    "import math, cmath"
   ]
  },
  {
   "cell_type": "code",
   "execution_count": 29,
   "metadata": {},
   "outputs": [],
   "source": [
    "# Datos:\n",
    "Zy = (0.4+0.3j) + (0.6+0.7j) + (24+19j) # Ohm\n",
    "Zp = 24+19j # Ohm\n",
    "Vp = cmath.rect(120, math.radians(30) )"
   ]
  },
  {
   "cell_type": "code",
   "execution_count": null,
   "metadata": {},
   "outputs": [],
   "source": [
    "Ip = Vp/Zy"
   ]
  },
  {
   "cell_type": "markdown",
   "metadata": {},
   "source": [
    "$$ I_p = \\frac{V_p}{Z_Y} $$"
   ]
  },
  {
   "cell_type": "code",
   "execution_count": 30,
   "metadata": {
    "jupyter": {
     "source_hidden": true
    }
   },
   "outputs": [
    {
     "name": "stdout",
     "output_type": "stream",
     "text": [
      "Zy = 25+20j Ohm\n",
      "Ip = (3.75 < -8.66°) A\n"
     ]
    }
   ],
   "source": [
    "print('Zy = {:.0f} Ohm'.format(Zy))\n",
    "print('Ip = (%.2f < %.2f°) A'%(abs(Ip) , math.degrees( cmath.phase(Ip) ) ))"
   ]
  },
  {
   "cell_type": "code",
   "execution_count": 31,
   "metadata": {},
   "outputs": [],
   "source": [
    "# Potencia compleja suministrada\n",
    "Ss = 3*Vp*Ip.conjugate()"
   ]
  },
  {
   "cell_type": "markdown",
   "metadata": {},
   "source": [
    "$$ S_s = 3 V_p I_p^\\ast $$"
   ]
  },
  {
   "cell_type": "code",
   "execution_count": 36,
   "metadata": {
    "jupyter": {
     "source_hidden": true
    }
   },
   "outputs": [
    {
     "name": "stdout",
     "output_type": "stream",
     "text": [
      "---------------------\n",
      "Ss = 1053.7+842.9j VA\n",
      "---------------------\n"
     ]
    }
   ],
   "source": [
    "print('---------------------')\n",
    "print('Ss = {:.1f} VA'.format(Ss))\n",
    "print('---------------------')"
   ]
  },
  {
   "cell_type": "code",
   "execution_count": 33,
   "metadata": {},
   "outputs": [],
   "source": [
    "# Potencia compleja absorbida\n",
    "SL = 3*abs(Ip)**2*Zp"
   ]
  },
  {
   "cell_type": "markdown",
   "metadata": {},
   "source": [
    "$$ S_L = 3 |I_p|^2 Z_p $$"
   ]
  },
  {
   "cell_type": "code",
   "execution_count": 37,
   "metadata": {
    "jupyter": {
     "source_hidden": true
    }
   },
   "outputs": [
    {
     "name": "stdout",
     "output_type": "stream",
     "text": [
      "---------------------\n",
      "SL = 1011.5+800.8j VA\n",
      "---------------------\n"
     ]
    }
   ],
   "source": [
    "print('---------------------')\n",
    "print('SL = {:.1f} VA'.format(SL))\n",
    "print('---------------------')"
   ]
  },
  {
   "cell_type": "code",
   "execution_count": 38,
   "metadata": {},
   "outputs": [],
   "source": [
    "%reset -s -f"
   ]
  },
  {
   "cell_type": "markdown",
   "metadata": {},
   "source": [
    "## Ejemplo 12.7\n",
    "Un motor trifásico puede considerarse una carga en Y balanceada. Un motor trifásico toma 5.6kW cuando la tensión de línea es de 220 V y la corriente de línea de 18.2 A. Determine el factor de potencia del motor."
   ]
  },
  {
   "cell_type": "markdown",
   "metadata": {},
   "source": [
    "### Solución\n",
    "La potencia es\n",
    "$$ S = \\sqrt{3} V_L I_L $$"
   ]
  },
  {
   "cell_type": "markdown",
   "metadata": {},
   "source": [
    "Dado que la potencia real es\n",
    "$$ P = 5600 \\, \\mathrm{W} = S \\cos \\theta $$"
   ]
  },
  {
   "cell_type": "markdown",
   "metadata": {},
   "source": [
    "el factor de potencia\n",
    "$$ \\mathrm{fp} = \\cos \\theta = \\frac{P}{S} $$"
   ]
  },
  {
   "cell_type": "code",
   "execution_count": 40,
   "metadata": {},
   "outputs": [],
   "source": [
    "import math, cmath"
   ]
  },
  {
   "cell_type": "code",
   "execution_count": 41,
   "metadata": {},
   "outputs": [],
   "source": [
    "# Datos\n",
    "VL = 220 # V\n",
    "IL = 18.2 # A\n",
    "P = 5600 # W"
   ]
  },
  {
   "cell_type": "code",
   "execution_count": 42,
   "metadata": {},
   "outputs": [],
   "source": [
    "S = math.sqrt(3)*VL*IL\n",
    "fp = P/S"
   ]
  },
  {
   "cell_type": "code",
   "execution_count": 45,
   "metadata": {
    "jupyter": {
     "source_hidden": true
    }
   },
   "outputs": [
    {
     "name": "stdout",
     "output_type": "stream",
     "text": [
      "Resultados:\n",
      "S = 6935.13 VA\n",
      "fp = 0.8075\n"
     ]
    }
   ],
   "source": [
    "print('Resultados:')\n",
    "print('S = %.2f VA'%S)\n",
    "print('fp = %.4f'%fp)"
   ]
  },
  {
   "cell_type": "code",
   "execution_count": 46,
   "metadata": {},
   "outputs": [],
   "source": [
    "%reset -s -f"
   ]
  },
  {
   "cell_type": "markdown",
   "metadata": {},
   "source": [
    "## Problema de práctica 12.7\n",
    "Calcule la corriente de línea requerida para un motor de 30kW con un factor de potencia atrasado de 0.85 si se conecta a una fuente balanceada con una tensión de línea de 440 V."
   ]
  },
  {
   "cell_type": "code",
   "execution_count": 47,
   "metadata": {},
   "outputs": [],
   "source": [
    "import math, cmath"
   ]
  },
  {
   "cell_type": "code",
   "execution_count": 48,
   "metadata": {},
   "outputs": [],
   "source": [
    "# Datos:\n",
    "P = 30e3 # W\n",
    "fp = 0.85\n",
    "VL = 440 # V"
   ]
  },
  {
   "cell_type": "markdown",
   "metadata": {},
   "source": [
    "el factor de potencia\n",
    "$$ \\mathrm{fp} = \\cos \\theta = \\frac{P}{S} $$"
   ]
  },
  {
   "cell_type": "markdown",
   "metadata": {},
   "source": [
    "Entonces\n",
    "$$ S = \\frac{P}{\\mathrm{fp}} $$"
   ]
  },
  {
   "cell_type": "code",
   "execution_count": 49,
   "metadata": {},
   "outputs": [],
   "source": [
    "S = P/fp"
   ]
  },
  {
   "cell_type": "markdown",
   "metadata": {},
   "source": [
    "La potencia es\n",
    "$$ S = \\sqrt{3} V_L I_L $$"
   ]
  },
  {
   "cell_type": "markdown",
   "metadata": {},
   "source": [
    "Entonces\n",
    "$$ I_L = \\frac{S}{\\sqrt{3} V_L} $$"
   ]
  },
  {
   "cell_type": "code",
   "execution_count": 50,
   "metadata": {},
   "outputs": [],
   "source": [
    "IL = S/(math.sqrt(3)*VL)"
   ]
  },
  {
   "cell_type": "code",
   "execution_count": 51,
   "metadata": {
    "jupyter": {
     "source_hidden": true
    }
   },
   "outputs": [
    {
     "name": "stdout",
     "output_type": "stream",
     "text": [
      "IL = 46.31 A\n"
     ]
    }
   ],
   "source": [
    "print('IL = %.2f A'%IL)"
   ]
  },
  {
   "cell_type": "markdown",
   "metadata": {},
   "source": [
    "## Ejemplo 12.8\n",
    "Dos cargas balanceadas se conectan a una línea de 240 kV rms a 60 Hz, como se muestra en la figura. La carga 1 toma 30 kW con un factor de potencia atrasado de 0,6 mientras que la carga 2 toma 45 kVAR con un factor de potencia atrasado de 0,8. Suponiendo la secuencia *abc*, determine:\n",
    "1. Las potencias compleja, real y reactiva absorbidas por la carga combinada\n",
    "2. Las corrientes de línea \n",
    "3. La capacidad nominal en kVAR de los tres capacitores conectados en $\\Delta$ en paralelo con la carga que elevarán el factor de potencia atrasado de 0,9 y la capacitancia de cada capacitor."
   ]
  },
  {
   "cell_type": "markdown",
   "metadata": {},
   "source": [
    "### Solución\n",
    "1. En cuanto a la carga 1, dado que $P_1 = 30 \\, \\mathrm{kW}$ y $\\cos \\theta_1 = 0,6$, entonces $\\sin \\theta_1 = 0,8$. Por lo tanto,"
   ]
  },
  {
   "cell_type": "code",
   "execution_count": 9,
   "metadata": {},
   "outputs": [],
   "source": [
    "# Datos:\n",
    "P1 = 30e3 # W\n",
    "fp1 = 0.6\n",
    "fq1 = 0.8"
   ]
  },
  {
   "cell_type": "code",
   "execution_count": 10,
   "metadata": {},
   "outputs": [],
   "source": [
    "import math, cmath"
   ]
  },
  {
   "cell_type": "code",
   "execution_count": 11,
   "metadata": {},
   "outputs": [],
   "source": [
    "Q1 = (P1/fp1)*fq1\n",
    "S1 = complex(P1,Q1)"
   ]
  },
  {
   "cell_type": "code",
   "execution_count": 14,
   "metadata": {},
   "outputs": [
    {
     "name": "stdout",
     "output_type": "stream",
     "text": [
      "Potencia compleja debido a la carga 1:\n",
      "S1 = 30.0+40.0j kVA\n"
     ]
    }
   ],
   "source": [
    "print('Potencia compleja debido a la carga 1:')\n",
    "print('S1 = {:.1f} kVA'.format(S1/1e3))"
   ]
  },
  {
   "cell_type": "code",
   "execution_count": 19,
   "metadata": {},
   "outputs": [],
   "source": [
    "fp2 = 0.8\n",
    "fq2 = math.sin( math.acos(fp2) )\n",
    "Q2 = 45e3 # VAR"
   ]
  },
  {
   "cell_type": "markdown",
   "metadata": {},
   "source": [
    "$\\mathrm{fp}_2 = \\cos \\theta_2 = 0,8 \\quad \\rightarrow \\quad \\mathrm{fq}_2 = \\sin \\theta_2 = 0,6$"
   ]
  },
  {
   "cell_type": "markdown",
   "metadata": {},
   "source": [
    "$$ |S_2| = \\frac{Q_2}{\\sin \\theta_2} $$"
   ]
  },
  {
   "cell_type": "markdown",
   "metadata": {},
   "source": [
    "$$ P_2 = |S_2| \\cos \\theta_2 $$"
   ]
  },
  {
   "cell_type": "code",
   "execution_count": 20,
   "metadata": {},
   "outputs": [],
   "source": [
    "P2 = (Q2/fq2)*fp2\n",
    "S2 = complex(P2,Q2)"
   ]
  },
  {
   "cell_type": "code",
   "execution_count": 23,
   "metadata": {},
   "outputs": [
    {
     "name": "stdout",
     "output_type": "stream",
     "text": [
      "S2 = 60.0+45.0j kVA\n"
     ]
    }
   ],
   "source": [
    "print('S2 = {:.1f} kVA'.format(S2/1e3))"
   ]
  },
  {
   "cell_type": "code",
   "execution_count": 24,
   "metadata": {},
   "outputs": [],
   "source": [
    "# Potencia total absorbida\n",
    "S = S1 + S2"
   ]
  },
  {
   "cell_type": "code",
   "execution_count": 27,
   "metadata": {},
   "outputs": [
    {
     "name": "stdout",
     "output_type": "stream",
     "text": [
      "S = 90.0+85.0j kVA\n",
      "S = (123.8 < 43.36°) kVA\n"
     ]
    }
   ],
   "source": [
    "print('S = {:.1f} kVA'.format(S/1e3))\n",
    "print('S = (%.1f < %.2f°) kVA'%(abs(S/1e3) , math.degrees( cmath.phase(S) ) ))"
   ]
  },
  {
   "cell_type": "code",
   "execution_count": 28,
   "metadata": {},
   "outputs": [],
   "source": [
    "fp = math.cos( cmath.phase(S) )"
   ]
  },
  {
   "cell_type": "code",
   "execution_count": 29,
   "metadata": {},
   "outputs": [
    {
     "name": "stdout",
     "output_type": "stream",
     "text": [
      "fp = 0.727\n"
     ]
    }
   ],
   "source": [
    "print('fp = %.3f'%fp)"
   ]
  },
  {
   "cell_type": "code",
   "execution_count": 37,
   "metadata": {},
   "outputs": [],
   "source": [
    "# 2. item\n",
    "V_lin = 240e3 # V\n",
    "I_lin = (S/(math.sqrt(3)*V_lin)).conjugate()\n",
    "Ia = I_lin\n",
    "Ib = Ia * cmath.rect(1 , math.radians(-120) )\n",
    "Ic = Ia * cmath.rect(1 , math.radians( 120) )"
   ]
  },
  {
   "cell_type": "code",
   "execution_count": 38,
   "metadata": {},
   "outputs": [
    {
     "name": "stdout",
     "output_type": "stream",
     "text": [
      "I_lin = (297.80 < -43.36°) mA\n",
      "---------------------------------\n",
      "Ia = (297.80 < -43.36°) mA\n",
      "Ib = (297.80 < -163.36°) mA\n",
      "Ic = (297.80 < 76.64°) mA\n"
     ]
    }
   ],
   "source": [
    "print('I_lin = (%.2f < %.2f°) mA'%(abs(I_lin*1e3), math.degrees( cmath.phase(I_lin) ) ))\n",
    "print('---------------------------------')\n",
    "print('Ia = (%.2f < %.2f°) mA'%(abs(Ia*1e3), math.degrees( cmath.phase(Ia) ) ))\n",
    "print('Ib = (%.2f < %.2f°) mA'%(abs(Ib*1e3), math.degrees( cmath.phase(Ib) ) ))\n",
    "print('Ic = (%.2f < %.2f°) mA'%(abs(Ic*1e3), math.degrees( cmath.phase(Ic) ) ))"
   ]
  },
  {
   "cell_type": "code",
   "execution_count": 43,
   "metadata": {},
   "outputs": [],
   "source": [
    "# 3. ítem\n",
    "theta_i = cmath.phase(S)\n",
    "theta_f = math.acos(0.9)\n",
    "P = S.real\n",
    "\n",
    "Qc = P*(math.tan(theta_i) - math.tan(theta_f)) "
   ]
  },
  {
   "cell_type": "code",
   "execution_count": 44,
   "metadata": {},
   "outputs": [
    {
     "name": "stdout",
     "output_type": "stream",
     "text": [
      "Qc = 41.4 kVAR\n"
     ]
    }
   ],
   "source": [
    "print('Qc = %.1f kVAR'%(Qc/1e3))"
   ]
  },
  {
   "cell_type": "code",
   "execution_count": 45,
   "metadata": {},
   "outputs": [],
   "source": [
    "Qc2 = 13800 # VAR\n",
    "f = 60 # Hz\n",
    "w = 2*math.pi*f\n",
    "\n",
    "C = Qc2/(w*V_lin**2)"
   ]
  },
  {
   "cell_type": "code",
   "execution_count": 48,
   "metadata": {},
   "outputs": [
    {
     "name": "stdout",
     "output_type": "stream",
     "text": [
      "C = 635.5 pF\n"
     ]
    }
   ],
   "source": [
    "print('C = %.1f pF'%(C*1e12))"
   ]
  },
  {
   "cell_type": "code",
   "execution_count": 49,
   "metadata": {},
   "outputs": [],
   "source": [
    "%reset -s -f"
   ]
  },
  {
   "cell_type": "markdown",
   "metadata": {},
   "source": [
    "## Ejemplo 12.9\n",
    "La carga en Y desbalanceada de la figura tiene tensiones balanceadas de 100 V y la secuencia *abc*. Calcule las corrientes de línea y la corriente neutra. Considere $Z_A = 15 \\, \\Omega, \\; Z_B = 10 + j5 \\, \\Omega, \\; Z_C = 6 - j8 \\, \\Omega$."
   ]
  },
  {
   "cell_type": "markdown",
   "metadata": {},
   "source": [
    "### Solución\n",
    "Las corrientes de línea son"
   ]
  },
  {
   "cell_type": "code",
   "execution_count": 50,
   "metadata": {},
   "outputs": [],
   "source": [
    "import math, cmath"
   ]
  },
  {
   "cell_type": "code",
   "execution_count": 51,
   "metadata": {},
   "outputs": [],
   "source": [
    "# Datos:\n",
    "Va = cmath.rect(100 , 0)\n",
    "Vb = cmath.rect(100 , math.radians(120))\n",
    "Vc = cmath.rect(100 , math.radians(240))\n",
    "Za = 15    # Ohm\n",
    "Zb = 10+5j # Ohm\n",
    "Zc =  6-8j # Ohm"
   ]
  },
  {
   "cell_type": "code",
   "execution_count": 52,
   "metadata": {},
   "outputs": [],
   "source": [
    "# Corrientes de línea\n",
    "Ia = Va/Za\n",
    "Ib = Vb/Zb\n",
    "Ic = Vc/Zc"
   ]
  },
  {
   "cell_type": "code",
   "execution_count": 53,
   "metadata": {
    "jupyter": {
     "source_hidden": true
    }
   },
   "outputs": [
    {
     "name": "stdout",
     "output_type": "stream",
     "text": [
      "Ia = (6.67 < 0.00°) A\n",
      "Ib = (8.94 < 93.43°) A\n",
      "Ic = (10.00 < -66.87°) A\n"
     ]
    }
   ],
   "source": [
    "print('Ia = (%.2f < %.2f°) A'%(abs(Ia) , math.degrees( cmath.phase(Ia) ) ) )\n",
    "print('Ib = (%.2f < %.2f°) A'%(abs(Ib) , math.degrees( cmath.phase(Ib) ) ) )\n",
    "print('Ic = (%.2f < %.2f°) A'%(abs(Ic) , math.degrees( cmath.phase(Ic) ) ) )"
   ]
  },
  {
   "cell_type": "code",
   "execution_count": 56,
   "metadata": {},
   "outputs": [],
   "source": [
    "# Corriente de línea neutra\n",
    "In = -(Ia + Ib + Ic)"
   ]
  },
  {
   "cell_type": "code",
   "execution_count": 57,
   "metadata": {
    "jupyter": {
     "source_hidden": true
    }
   },
   "outputs": [
    {
     "name": "stdout",
     "output_type": "stream",
     "text": [
      "In = (10.06 < 178.47°) A\n"
     ]
    }
   ],
   "source": [
    "print('In = (%.2f < %.2f°) A'%(abs(In) , math.degrees( cmath.phase(In) ) ) )"
   ]
  },
  {
   "cell_type": "code",
   "execution_count": 58,
   "metadata": {},
   "outputs": [],
   "source": [
    "%reset -s -f"
   ]
  },
  {
   "cell_type": "markdown",
   "metadata": {},
   "source": [
    "-----------\n",
    "<a href=\"https://colab.research.google.com/github/daniel-lorenzo/Electrotecnia/blob/master/Potencia_trifasico.ipynb\"><img align=\"left\" src=\"https://colab.research.google.com/assets/colab-badge.svg\" alt=\"Open in Colab\" title=\"Open and Execute in Google Colaboratory\"></a>"
   ]
  }
 ],
 "metadata": {
  "kernelspec": {
   "display_name": "Python 3",
   "language": "python",
   "name": "python3"
  },
  "language_info": {
   "codemirror_mode": {
    "name": "ipython",
    "version": 3
   },
   "file_extension": ".py",
   "mimetype": "text/x-python",
   "name": "python",
   "nbconvert_exporter": "python",
   "pygments_lexer": "ipython3",
   "version": "3.7.6"
  }
 },
 "nbformat": 4,
 "nbformat_minor": 4
}
