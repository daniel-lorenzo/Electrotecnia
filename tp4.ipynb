{
 "cells": [
  {
   "cell_type": "markdown",
   "metadata": {},
   "source": [
    "# Problema 1"
   ]
  },
  {
   "cell_type": "markdown",
   "metadata": {},
   "source": [
    "Calcular las corrientes de las fuentes y las corrientes y tensiones encada resistencia de los siguientes\n",
    "circuitos."
   ]
  },
  {
   "cell_type": "markdown",
   "metadata": {},
   "source": [
    "<img src=\"img/tp4-01.svg\" alt=\"tp4-01.svg\" width=\"500\" height=auto>"
   ]
  },
  {
   "cell_type": "markdown",
   "metadata": {},
   "source": [
    "Calculamos la resistencia equivalente a $R_1$ y $R_2$ que estan en serie"
   ]
  },
  {
   "cell_type": "markdown",
   "metadata": {},
   "source": [
    "$$ R_{eq} = R_1 + R_2 $$"
   ]
  },
  {
   "cell_type": "code",
   "execution_count": 1,
   "metadata": {},
   "outputs": [],
   "source": [
    "# Datos:\n",
    "R1 = 5 ; R2 = 15 ; R3 = 20 # [Ohm]\n",
    "V = 20 # [V]"
   ]
  },
  {
   "cell_type": "code",
   "execution_count": 2,
   "metadata": {},
   "outputs": [
    {
     "name": "stdout",
     "output_type": "stream",
     "text": [
      "Req = 20 [Ohm]\n"
     ]
    }
   ],
   "source": [
    "Req = R1 + R2\n",
    "print('Req = %s [Ohm]'%Req)"
   ]
  },
  {
   "cell_type": "markdown",
   "metadata": {},
   "source": [
    "Podemos calcular la corriente $I_1$"
   ]
  },
  {
   "cell_type": "markdown",
   "metadata": {},
   "source": [
    "$$ I_1 = \\frac{V}{R_{eq12}} $$"
   ]
  },
  {
   "cell_type": "code",
   "execution_count": 3,
   "metadata": {},
   "outputs": [
    {
     "name": "stdout",
     "output_type": "stream",
     "text": [
      "I1 = 1.0 [A]\n"
     ]
    }
   ],
   "source": [
    "I1 = V/Req\n",
    "print('I1 = %s [A]'%I1)"
   ]
  },
  {
   "cell_type": "markdown",
   "metadata": {},
   "source": [
    "Calculamos la corriente $I_2$"
   ]
  },
  {
   "cell_type": "markdown",
   "metadata": {},
   "source": [
    "$$ I_2 = \\frac{V}{R_3} $$"
   ]
  },
  {
   "cell_type": "code",
   "execution_count": 4,
   "metadata": {},
   "outputs": [
    {
     "name": "stdout",
     "output_type": "stream",
     "text": [
      "I2 = 1.0 [A]\n"
     ]
    }
   ],
   "source": [
    "I2 = V/R3\n",
    "print('I2 = %s [A]'%I2)"
   ]
  },
  {
   "cell_type": "markdown",
   "metadata": {},
   "source": [
    "La corriente total es:"
   ]
  },
  {
   "cell_type": "markdown",
   "metadata": {},
   "source": [
    "$$ I_{tot} = I_1 + I_2 $$"
   ]
  },
  {
   "cell_type": "code",
   "execution_count": 5,
   "metadata": {},
   "outputs": [
    {
     "name": "stdout",
     "output_type": "stream",
     "text": [
      "Itot = 2.0 [A]\n"
     ]
    }
   ],
   "source": [
    "Itot = I1 + I2\n",
    "print('Itot = %s [A]'%Itot)"
   ]
  },
  {
   "cell_type": "markdown",
   "metadata": {},
   "source": [
    "$$\\begin{array}{l}\n",
    "V_1 = I_1 R_1 \\\\\n",
    "V_2 = I_2 R_1 \\\\\n",
    "V_3 = I_3 R_2\n",
    "\\end{array}$$"
   ]
  },
  {
   "cell_type": "code",
   "execution_count": 6,
   "metadata": {},
   "outputs": [
    {
     "name": "stdout",
     "output_type": "stream",
     "text": [
      "V1    =  5.0 [V]\n",
      "V2    = 15.0 [V]\n",
      "V3    = 20.0 [V]\n"
     ]
    }
   ],
   "source": [
    "V1 = I1*R1\n",
    "V2 = I1*R2\n",
    "V3 = I2*R3\n",
    "print('V1    =  %s [V]'%V1)\n",
    "print('V2    = %s [V]'%V2)\n",
    "print('V3    = %s [V]'%V3)"
   ]
  },
  {
   "cell_type": "markdown",
   "metadata": {},
   "source": [
    "<img src=\"img/tp4-01s.png\" alt=\"tp4-01s.png\">"
   ]
  },
  {
   "cell_type": "code",
   "execution_count": 7,
   "metadata": {},
   "outputs": [
    {
     "name": "stdout",
     "output_type": "stream",
     "text": [
      "Resumen:\n",
      "I1   = 1.0 [A]\n",
      "I2   = 1.0 [A]\n",
      "Itot = 2.0 [A]\n",
      "V1   = 5.0 [V]\n",
      "V2   = 15.0 [V]\n",
      "V3   = 20.0 [V]\n"
     ]
    }
   ],
   "source": [
    "print('Resumen:')\n",
    "print('I1   = %s [A]'%I1)\n",
    "print('I2   = %s [A]'%I2)\n",
    "print('Itot = %s [A]'%Itot)\n",
    "print('V1   = %s [V]'%V1)\n",
    "print('V2   = %s [V]'%V2)\n",
    "print('V3   = %s [V]'%V3)"
   ]
  },
  {
   "cell_type": "code",
   "execution_count": null,
   "metadata": {},
   "outputs": [],
   "source": []
  }
 ],
 "metadata": {
  "kernelspec": {
   "display_name": "Python 3",
   "language": "python",
   "name": "python3"
  },
  "language_info": {
   "codemirror_mode": {
    "name": "ipython",
    "version": 3
   },
   "file_extension": ".py",
   "mimetype": "text/x-python",
   "name": "python",
   "nbconvert_exporter": "python",
   "pygments_lexer": "ipython3",
   "version": "3.7.4"
  }
 },
 "nbformat": 4,
 "nbformat_minor": 4
}
