{
 "cells": [
  {
   "cell_type": "code",
   "execution_count": 1,
   "metadata": {},
   "outputs": [
    {
     "data": {
      "text/html": [
       "/* This template is inspired in the one used by Lorena Barba\n",
       "in the numerical-mooc repository: https://github.com/numerical-mooc/numerical-mooc\n",
       "We thank her work and hope you also enjoy the look of the notobooks with this style */\n",
       "\n",
       "/* <link href='http://fonts.googleapis.com/css?family=Source+Sans+Pro|Josefin+Sans:400,700,400italic|Ubuntu+Condensed' rel='stylesheet' type='text/css'>\n",
       "\n",
       "El estilo se ha aplicado =)\n",
       "\n",
       "<style>\n",
       "\n",
       "\n",
       "\n",
       "#notebook_panel { /* main background */\n",
       "    background: #f7f7f7;\n",
       "}\n",
       "\n",
       "div.cell { /* set cell width */\n",
       "    width: 900px;\n",
       "}\n",
       "\n",
       "div #notebook { /* centre the content */\n",
       "    background: #fff; /* white background for content */\n",
       "    width: 1100px;\n",
       "    margin: auto;\n",
       "    padding-left: 0em;\n",
       "}\n",
       "\n",
       "#notebook li { /* More space between bullet points */\n",
       "    margin-top:0.7em;\n",
       "}\n",
       "\n",
       "/* draw border around running cells */\n",
       "div.cell.border-box-sizing.code_cell.running { \n",
       "    border: 1px solid #111;\n",
       "}\n",
       "\n",
       "/* Put a solid color box around each cell and its output, visually linking them*/\n",
       "div.cell.code_cell {\n",
       "    font-family: 'Source Sans Pro', sans-serif;\n",
       "    background-color: rgb(256,256,256);\n",
       "    font-size: 110%;\n",
       "    border-radius: 0px; \n",
       "    padding: 0.5em;\n",
       "    margin-left:1em;\n",
       "    margin-top: 1em;\n",
       "}\n",
       "\n",
       "div.text_cell_render{\n",
       "    font-family: 'DejaVu Serif', serif;\n",
       "    line-height: 145%;\n",
       "    font-size: 125%;\n",
       "    font-weight: 500;\n",
       "    width:800px;\n",
       "    margin-left:auto;\n",
       "    margin-right:auto;\n",
       "}\n",
       "\n",
       "\n",
       "/* Formatting for header cells */\n",
       ".text_cell_render h1, .text_cell_render h2, .text_cell_render h3,\n",
       ".text_cell_render h4, .text_cell_render h5 {\n",
       "    font-family: 'Ubuntu Condensed', sans-serif;\n",
       "}\n",
       "/*\n",
       ".text_cell_render h1 {\n",
       "    font-family: Flux, 'Ubuntu Condensed', serif;\n",
       "    font-style:regular;\n",
       "    font-weight: 400;    \n",
       "    font-size: 30pt;\n",
       "    text-align: center;\n",
       "    line-height: 100%;\n",
       "    color: #335082;\n",
       "    margin-bottom: 0.5em;\n",
       "    margin-top: 0.5em;\n",
       "    display: block;\n",
       "}\n",
       "*/\n",
       ".text_cell_render h1 {\n",
       "    font-weight: 600;\n",
       "    font-size: 35pt;\n",
       "    line-height: 100%;\n",
       "    color: #000000;\n",
       "    margin-bottom: 0.1em;\n",
       "    margin-top: 0.3em;\n",
       "    display: block;\n",
       "}\n",
       "\n",
       ".text_cell_render h2 {\n",
       "    margin-top:16px;\n",
       "    font-size: 27pt;\n",
       "    font-weight: 550;\n",
       "    margin-bottom: 0.1em;\n",
       "    margin-top: 0.3em;\n",
       "    font-style: regular;\n",
       "    color: #2c6391;\n",
       "}\t\n",
       "\n",
       ".text_cell_render h3 {\n",
       "    font-size: 20pt;\n",
       "    font-weight: 550\n",
       "    text-align: left;\n",
       "    margin-bottom: 0.1em;\n",
       "    margin-top: 0.3em;\n",
       "    font-style: regular;\n",
       "    color:  #387eb8;\n",
       "}\n",
       "\n",
       ".text_cell_render h4 {    /*Use this for captions*/\n",
       "    font-size: 18pt;\n",
       "    font-weight: 450\n",
       "    text-align: left;\n",
       "    margin-bottom: 0.1em;\n",
       "    margin-top: 0.3em;\n",
       "    font-style: regular;\n",
       "    color:  #5797cc;\n",
       "}\n",
       "\n",
       ".text_cell_render h5 {  /*Use this for small titles*/\n",
       "    font-size: 18pt;\n",
       "    font-weight: 550;\n",
       "    color: rgb(163,0,0);\n",
       "    font-style: italic;\n",
       "    margin-bottom: .1em;\n",
       "    margin-top: 0.8em;\n",
       "    display: block;\n",
       "    color:  #b21c0d;\n",
       "}\n",
       "\n",
       ".text_cell_render h6 { /*use this for copyright note*/\n",
       "    font-family: 'Ubuntu Condensed', sans-serif;\n",
       "    font-weight: 300;\n",
       "    font-size: 14pt;\n",
       "    line-height: 100%;\n",
       "    color: #252525;\n",
       "    text-align: right;\n",
       "    margin-bottom: 1px;\n",
       "    margin-top: 1px;\n",
       "}\n",
       "\n",
       ".CodeMirror{\n",
       "        font-family: 'Duru Sans', sans-serif;\n",
       "        font-size: 100%;\n",
       "}\n",
       "\n",
       "</style>\n",
       "<script>\n",
       "    MathJax.Hub.Config({\n",
       "                        TeX: {\n",
       "                           extensions: [\"AMSmath.js\"],\n",
       "                           equationNumbers: { autoNumber: \"AMS\", useLabelIds: true}\n",
       "                           },\n",
       "                tex2jax: {\n",
       "                    inlineMath: [ ['$','$'], [\"\\\\(\",\"\\\\)\"] ],\n",
       "                    displayMath: [ ['$$','$$'], [\"\\\\[\",\"\\\\]\"] ]\n",
       "                },\n",
       "                displayAlign: 'center', // Change this to 'center' to center equations.\n",
       "                \"HTML-CSS\": {\n",
       "                    styles: {'.MathJax_Display': {\"margin\": 4}}\n",
       "                }\n",
       "        });\n",
       "</script>\n"
      ],
      "text/plain": [
       "<IPython.core.display.HTML object>"
      ]
     },
     "execution_count": 1,
     "metadata": {},
     "output_type": "execute_result"
    }
   ],
   "source": [
    "# Esta celda da el estilo al notebook\n",
    "from IPython.core.display import HTML\n",
    "css_file = 'styles/aeropython.css'\n",
    "HTML(open(css_file, \"r\").read())"
   ]
  },
  {
   "cell_type": "markdown",
   "metadata": {},
   "source": [
    "## Relaciones fasoriales de elementos de circuitos"
   ]
  },
  {
   "cell_type": "markdown",
   "metadata": {},
   "source": [
    "### Resistor\n",
    "Si la corriente que circula por un resistor $R$ es $i = I_m \\cos (\\omega t + \\phi)$, la tensión a través de él está dada por la ley de Ohm como"
   ]
  },
  {
   "cell_type": "markdown",
   "metadata": {},
   "source": [
    "$$ v = iR = RI_m \\cos (\\omega t + \\phi) $$"
   ]
  },
  {
   "cell_type": "markdown",
   "metadata": {},
   "source": [
    "La forma fasorial de esta tensión es"
   ]
  },
  {
   "cell_type": "markdown",
   "metadata": {},
   "source": [
    "$$ \\mathrm{V} = R I_m \\angle \\phi $$"
   ]
  },
  {
   "cell_type": "markdown",
   "metadata": {},
   "source": [
    "Pero la representación fasorial de la corriente es $\\mathrm{I} = I_m \\angle \\phi$. Así,"
   ]
  },
  {
   "cell_type": "markdown",
   "metadata": {},
   "source": [
    "$$ \\mathrm{V} = R \\mathrm{I} $$"
   ]
  },
  {
   "cell_type": "markdown",
   "metadata": {},
   "source": [
    "Cabe señalar que la tensión y corriente están en fase."
   ]
  },
  {
   "cell_type": "markdown",
   "metadata": {},
   "source": [
    "### Inductor\n",
    "Supóngase que la corriente que circula por él es $i = I_m (\\omega t + \\phi)$. Así, la tensión a través del inductor es"
   ]
  },
  {
   "cell_type": "markdown",
   "metadata": {},
   "source": [
    "$$ v = L \\frac{di}{dt} = -\\omega L I_m \\sin (\\omega t + \\phi) $$"
   ]
  },
  {
   "cell_type": "markdown",
   "metadata": {},
   "source": [
    "Recuerde que $-\\sin A = \\cos (A + 90^\\circ)$. Se puede escribir la tensión como"
   ]
  },
  {
   "cell_type": "markdown",
   "metadata": {},
   "source": [
    "$$ v = \\omega L I_m \\cos (\\omega + \\phi + 90^\\circ) $$"
   ]
  },
  {
   "cell_type": "markdown",
   "metadata": {},
   "source": [
    "lo que al transformar en la forma fasorial da por resultado"
   ]
  },
  {
   "cell_type": "markdown",
   "metadata": {},
   "source": [
    "$$ \\mathrm{V} = \\omega L I_m e^{j(\\phi + 90^\\circ)} = \\omega L I_m e^{j \\phi} e^{j 90^\\circ} = \\omega L I_m \\angle (\\phi + 90^\\circ) $$"
   ]
  },
  {
   "cell_type": "markdown",
   "metadata": {},
   "source": [
    "Pero $I_m \\angle \\phi = \\mathrm{I}$, y con base en la ecuación, $e^{j90^\\circ} = j$. Por lo tanto,"
   ]
  },
  {
   "cell_type": "markdown",
   "metadata": {},
   "source": [
    "$$ \\mathrm{V} = j \\omega L \\mathrm{I} $$"
   ]
  },
  {
   "cell_type": "markdown",
   "metadata": {},
   "source": [
    "lo cual indica que la tensión tiene una magnitud de $\\omega LI_m$ y una fase de $\\phi + 90^\\circ$. La tensión y la corriente están desfasadas $90^\\circ$. Específicamente, la corriente se atrasa de la tensión en $90^\\circ$."
   ]
  },
  {
   "cell_type": "markdown",
   "metadata": {},
   "source": [
    "### Capacitor\n",
    "Supóngase que la tensión a través él es $v = V_m \\cos (\\omega t + \\phi)$. La corriente a través del capacitor es"
   ]
  },
  {
   "cell_type": "markdown",
   "metadata": {},
   "source": [
    "$$ i = C \\frac{dv}{dt} $$"
   ]
  },
  {
   "cell_type": "markdown",
   "metadata": {},
   "source": [
    "Al seguir los mismos pasos dados en el caso del inductor"
   ]
  },
  {
   "cell_type": "markdown",
   "metadata": {},
   "source": [
    "$$\\mathrm{I} = j \\omega C \\mathrm{V} \\qquad \\Rightarrow \\qquad \\mathrm{V} = \\frac{\\mathrm{I}}{j \\omega C} $$"
   ]
  },
  {
   "cell_type": "markdown",
   "metadata": {},
   "source": [
    "### Tabla\n",
    "$$\\begin{array}{ccc}\n",
    "\\mbox{Elemento} & \\mbox{Dominio temporal} & \\mbox{Dominio de frecuencia} \\\\\n",
    "\\hline\n",
    "R & v = Ri & \\mathrm{V} = R \\mathrm{I} \\\\\n",
    "L & \\displaystyle v = L \\frac{di}{dt} & \\mathrm{V} = j \\omega L \\mathrm{I} \\\\\n",
    "C & \\displaystyle i = C \\frac{dv}{dt} & \\displaystyle \\mathrm{V} = \\frac{\\mathrm{I}}{j \\omega C} \\\\\n",
    "\\hline\n",
    "\\end{array}$$"
   ]
  },
  {
   "cell_type": "markdown",
   "metadata": {},
   "source": [
    "----------------\n",
    "## Ejemplo 9.8\n",
    "La tensión $v = 12 \\cos(60t + 45^\\circ)$ se aplica a un inductor a $0,1 \\, \\mathrm{H}$. Halle la corriente en estado estable que circula por el inductor."
   ]
  },
  {
   "cell_type": "markdown",
   "metadata": {},
   "source": [
    "### Solución\n",
    "En el caso del inductor, $\\mathrm{V} = j \\omega L \\mathrm{I}$, donde $\\omega = 60 \\, \\mathrm{rad/s}$ y $\\mathrm{V} = 12 \\angle 45^\\circ \\, \\mathrm{V}$. Así,"
   ]
  },
  {
   "cell_type": "markdown",
   "metadata": {},
   "source": [
    "$$ \\mathrm{I} = \\frac{\\mathrm{V}}{j \\omega L} = \\frac{12 \\angle 45^\\circ}{j60 \\times 0,1} = \\frac{12 \\angle 45^\\circ}{6 \\angle 90^\\circ} = 2 \\angle -45^\\circ \\, \\mathrm{A} $$"
   ]
  },
  {
   "cell_type": "markdown",
   "metadata": {},
   "source": [
    "Al convertir esto al dominio temporal,"
   ]
  },
  {
   "cell_type": "markdown",
   "metadata": {},
   "source": [
    "$$ i(t) = 2 \\cos (60t - 45^\\circ) \\, \\mathrm{A} $$"
   ]
  },
  {
   "cell_type": "markdown",
   "metadata": {},
   "source": [
    "### Problema de práctica 9.8\n",
    "Si la tensión $v = 6 \\cos (100t - 30^\\circ)$ se aplica a un capacitor de $50 \\, \\mathrm{\\mu F}$ calcule la corriente que circula por el capacitor."
   ]
  },
  {
   "cell_type": "markdown",
   "metadata": {},
   "source": [
    "### Solución\n",
    "En el caso del capacitor, $\\mathrm{V = I}j \\omega C$, donde $\\omega = 100 \\, \\mathrm{rad/s}$ y $\\mathrm{V} = 6 \\angle (-30^\\circ) \\, \\mathrm{V}$. Así, "
   ]
  },
  {
   "cell_type": "markdown",
   "metadata": {},
   "source": [
    "$$ I = j \\omega C \\mathrm{V} = j100 \\cdot (50 \\times 10^{-6}) \\cdot (6 \\angle -30^\\circ) \\, \\mathrm{A} $$"
   ]
  },
  {
   "cell_type": "markdown",
   "metadata": {},
   "source": [
    "$$ I = 0,03 \\angle (90^\\circ - 30^\\circ) \\, \\mathrm{A} $$"
   ]
  },
  {
   "cell_type": "markdown",
   "metadata": {},
   "source": [
    "$$ I = 30 \\angle 60^\\circ \\, \\mathrm{mA} $$"
   ]
  },
  {
   "cell_type": "markdown",
   "metadata": {},
   "source": [
    "Al convertir esto al dominio temporal,"
   ]
  },
  {
   "cell_type": "markdown",
   "metadata": {},
   "source": [
    "$$ i(t) = 30 \\cos(100t + 60^\\circ) \\, \\mathrm{mA} $$"
   ]
  },
  {
   "cell_type": "markdown",
   "metadata": {},
   "source": [
    "---------\n",
    "## Impedancia y admitancia\n",
    "En la sección anterior se obtuvieron las relaciones de tensión-corriente de los tres elementos pasivos como"
   ]
  },
  {
   "cell_type": "markdown",
   "metadata": {},
   "source": [
    "$$ \\mathrm{V} = R \\mathrm{I}, \\qquad \\mathrm{V} = j \\omega L \\mathrm{I}, \\qquad \\mathrm{V} = \\frac{\\mathrm{I}}{j \\omega C} $$"
   ]
  },
  {
   "cell_type": "markdown",
   "metadata": {},
   "source": [
    "Estas ecuaciones pueden escribirse en términos de la razón entre la tensión fasorial y la corriente fasorial como"
   ]
  },
  {
   "cell_type": "markdown",
   "metadata": {},
   "source": [
    "$$ \\mathrm{\\frac{V}{I}} = R, \\qquad \\mathrm{\\frac{V}{I}} = j \\omega L, \\qquad \\mathrm{\\frac{V}{I}} = \\frac{1}{j \\omega C} $$"
   ]
  },
  {
   "cell_type": "markdown",
   "metadata": {},
   "source": [
    "De estas tres expresiones se obtiene la ley de Ohm en forma fasorial para cualquier tipo de elemento como"
   ]
  },
  {
   "cell_type": "markdown",
   "metadata": {},
   "source": [
    "$$\\begin{array}{|ccc|}\n",
    "\\hline\n",
    "\\displaystyle \\mathrm{Z = \\frac{V}{I}} & \\mbox{o sea} & \\mathrm{V = Z I} \\\\\n",
    "\\hline\n",
    "\\end{array}$$"
   ]
  },
  {
   "cell_type": "markdown",
   "metadata": {},
   "source": [
    "donde $Z$ es una cantidad dependiente de la frecuencia conocida como *impedancia*, medida en ohms."
   ]
  },
  {
   "cell_type": "markdown",
   "metadata": {},
   "source": [
    "<div class=\"alert alert-info\">La <strong>impedancia Z</strong> \n",
    " de un circuito es la razón entre la tensión fasorial V y la corriente fasorial I, medida en ohms $(\\Omega)$.\n",
    "    </div>"
   ]
  },
  {
   "cell_type": "markdown",
   "metadata": {},
   "source": [
    "La impedancia representa la oposición que exhibe el circuito al flujo de la corriente senoidal. Aunque es la relación entre dos fasores, la impedancia no es un fasor, porque no corresponde a una cantidad que varíe senoidalmente."
   ]
  },
  {
   "cell_type": "markdown",
   "metadata": {},
   "source": [
    "Como cantidad compleja, la impedanci puede expresarse en forma rectangular como"
   ]
  },
  {
   "cell_type": "markdown",
   "metadata": {},
   "source": [
    "$$ \\mathrm{Z} = R + jX $$"
   ]
  },
  {
   "cell_type": "markdown",
   "metadata": {},
   "source": [
    "donde $R = \\mathrm{Re \\; Z}$ es la *resistencia* y  $X = \\mathrm{Im \\; Z}$ es la *reactancia*. Se dice que la impedancia es inductiva o de retardo cuando $X$ es positiva y capacitiva o de adelanto cuando $X$ es negativa. La impedancia, la resistencia y la reactancia se miden en ohms. La impedancia también puede expresarse en forma polar como"
   ]
  },
  {
   "cell_type": "markdown",
   "metadata": {},
   "source": [
    "$$ \\mathrm{Z = |Z| \\angle \\theta} $$"
   ]
  },
  {
   "cell_type": "markdown",
   "metadata": {},
   "source": [
    "Al comparar las ecuaciones se infiere que"
   ]
  },
  {
   "cell_type": "markdown",
   "metadata": {},
   "source": [
    "<div class=\"alert alert-info\">\n",
    "$$ \\mathrm{Z} = R + jX = \\mathrm{|Z|} \\angle \\theta $$\n",
    "</div>    "
   ]
  },
  {
   "cell_type": "markdown",
   "metadata": {},
   "source": [
    "donde"
   ]
  },
  {
   "cell_type": "markdown",
   "metadata": {},
   "source": [
    "$$ \\mathrm{|Z|} = \\sqrt{R^2 + X^2}, \\qquad \\theta = \\tan^{-1} \\frac{X}{R} $$"
   ]
  },
  {
   "cell_type": "markdown",
   "metadata": {},
   "source": [
    "y\n",
    "$$ R = \\mathrm{|Z|} \\cos \\theta, \\qquad X = \\mathrm{|Z|} \\sin \\theta $$"
   ]
  },
  {
   "cell_type": "markdown",
   "metadata": {},
   "source": [
    "A veces resulta conveniente trabajar con el inverso de la impedancia, conocido como *admitancia*."
   ]
  },
  {
   "cell_type": "markdown",
   "metadata": {},
   "source": [
    "<div class=\"alert alert-info\">La <strong>admitancia Y</strong> \n",
    " es el inverso de la impedancia, medido en siemens (S). \n",
    "   </div>"
   ]
  },
  {
   "cell_type": "markdown",
   "metadata": {},
   "source": [
    "La admitanci Y de un elemento (o circuito) es la razón entre la corriente fasorial y la tensión fasorial a través de él, o sea"
   ]
  },
  {
   "cell_type": "markdown",
   "metadata": {},
   "source": [
    "$$ \\mathrm{ Y = \\frac{1}{Z} = \\frac{I}{V} } $$"
   ]
  },
  {
   "cell_type": "markdown",
   "metadata": {},
   "source": [
    "Las admitancias de resistores, inductores y capacitores, se resume en la tabla:"
   ]
  },
  {
   "cell_type": "markdown",
   "metadata": {},
   "source": [
    "$$\\begin{array}{cll}\n",
    "\\mbox{Elemento} & \\mbox{Impedancia} & \\mbox{Admitancia} \\\\\n",
    "\\hline\n",
    "R & \\mathrm{Z} = R & \\displaystyle \\mathrm{Y} = \\frac{1}{R} \\\\\n",
    "L & \\mathrm{Z} = j \\omega L & \\displaystyle \\mathrm{Y} = \\frac{1}{j \\omega L} \\\\\n",
    "C & \\displaystyle \\mathrm{Z} = \\frac{1}{j \\omega C} & \\mathrm{Y} = j \\omega C \\\\\n",
    "\\hline\n",
    "\\end{array}$$"
   ]
  },
  {
   "cell_type": "markdown",
   "metadata": {},
   "source": [
    "-------------\n",
    "## Ejemplo 9.9\n",
    "Halle $v(t)$ e $i(t)$ en el circuito que aparece en la fig."
   ]
  },
  {
   "cell_type": "markdown",
   "metadata": {},
   "source": [
    "<img src=\"img/ej9-9.png\" alt=\"ej9-9.png\">"
   ]
  },
  {
   "cell_type": "markdown",
   "metadata": {},
   "source": [
    "### Solución\n",
    "A partir de la fuente de tensión $10 \\cos 4t$, $\\omega = 4$,"
   ]
  },
  {
   "cell_type": "markdown",
   "metadata": {},
   "source": [
    "$$ \\mathrm{V}_s = 10 \\angle 0^\\circ \\, \\mathrm{V} $$"
   ]
  },
  {
   "cell_type": "markdown",
   "metadata": {},
   "source": [
    "La impedancia es"
   ]
  },
  {
   "cell_type": "markdown",
   "metadata": {},
   "source": [
    "$$ \\mathrm{Z} = 5 + \\frac{1}{j \\omega C} = 5 + \\frac{1}{j4 \\times 0,1} = 5 - j2,5 \\, \\Omega $$ "
   ]
  },
  {
   "cell_type": "markdown",
   "metadata": {},
   "source": [
    "Así, la corriente,"
   ]
  },
  {
   "cell_type": "markdown",
   "metadata": {},
   "source": [
    "$$ \\mathrm{I} = \\frac{\\mathrm{V}_s}{\\mathrm{Z}} = \\frac{10 \\angle 0^\\circ}{5 - j2,5} = \\frac{10(5 + j2,5)}{5^2 + 2,5^2} $$"
   ]
  },
  {
   "cell_type": "markdown",
   "metadata": {},
   "source": [
    "$$ = 1,6 + j0,8 = 1,789 \\angle 26,57^\\circ \\, \\mathrm{A} $$"
   ]
  },
  {
   "cell_type": "markdown",
   "metadata": {},
   "source": [
    "La tensión a través del capacitor es"
   ]
  },
  {
   "cell_type": "markdown",
   "metadata": {},
   "source": [
    "$$ \\mathrm{V = IZ}_C = \\frac{\\mathrm{I}}{j \\omega C} = \\frac{1,789 \\angle 26,57^\\circ}{j4 \\times 0,1} $$"
   ]
  },
  {
   "cell_type": "markdown",
   "metadata": {},
   "source": [
    "$$ = \\frac{1,789 \\angle 26,57^\\circ}{0,4 \\angle 90^\\circ} = 4,47 \\angle -63,43^\\circ \\, \\mathrm{V} $$"
   ]
  },
  {
   "cell_type": "markdown",
   "metadata": {},
   "source": [
    "Al convertir al dominio temporal se obtiene"
   ]
  },
  {
   "cell_type": "markdown",
   "metadata": {},
   "source": [
    "$$\\begin{array}{c}\n",
    "i(t) = 1,789 \\cos (4t + 26,57^\\circ) \\, \\mathrm{A} \\\\\n",
    "v(t) = 4,47 \\cos (4t - 63,43^\\circ) \\, \\mathrm{V}\n",
    "\\end{array}$$"
   ]
  },
  {
   "cell_type": "markdown",
   "metadata": {},
   "source": [
    "Nótese que $i(t)$ se adelanta a $v(t)$ en 90°, como era de esperar."
   ]
  },
  {
   "cell_type": "code",
   "execution_count": 21,
   "metadata": {},
   "outputs": [],
   "source": [
    "import cmath, math"
   ]
  },
  {
   "cell_type": "code",
   "execution_count": 22,
   "metadata": {},
   "outputs": [],
   "source": [
    "R = 5 # Ohm\n",
    "C = 0.1 # F\n",
    "omega = 4\n",
    "Z_R = R\n",
    "Z_C = 1/complex(0,omega*C)\n",
    "Vs = cmath.rect(10,0)\n",
    "\n",
    "Z = Z_R + Z_C\n",
    "\n",
    "I = Vs/Z\n",
    "I_polar = cmath.polar(I)"
   ]
  },
  {
   "cell_type": "code",
   "execution_count": 23,
   "metadata": {},
   "outputs": [
    {
     "name": "stdout",
     "output_type": "stream",
     "text": [
      "I_polar = (1.789<0.464rad) A\n",
      "I_polar = (1.789<26.57°) A\n"
     ]
    }
   ],
   "source": [
    "print('I_polar = (%.3f<%.3frad) A'%I_polar)\n",
    "print('I_polar = (%.3f<%.2f°) A'%(I_polar[0],I_polar[1]*180/math.pi))"
   ]
  },
  {
   "cell_type": "code",
   "execution_count": 24,
   "metadata": {},
   "outputs": [],
   "source": [
    "V = I*Z_C\n",
    "V_polar = cmath.polar(V)"
   ]
  },
  {
   "cell_type": "code",
   "execution_count": 25,
   "metadata": {},
   "outputs": [
    {
     "name": "stdout",
     "output_type": "stream",
     "text": [
      "V_polar = (4.472<-1.107rad) A\n",
      "V_polar = (4.472<-63.43°) A\n"
     ]
    }
   ],
   "source": [
    "print('V_polar = (%.3f<%.3frad) A'%V_polar)\n",
    "print('V_polar = (%.3f<%.2f°) A'%(V_polar[0],V_polar[1]*180/math.pi))"
   ]
  },
  {
   "cell_type": "code",
   "execution_count": 26,
   "metadata": {},
   "outputs": [],
   "source": [
    "%reset -s -f"
   ]
  },
  {
   "cell_type": "markdown",
   "metadata": {},
   "source": [
    "## Problema de práctica 9.9\n",
    "Determine $v(t)$ e $i(t)$.\n",
    "<img src=\"img/ejpr9-9.png\" alt=\"ejpr9-9.png\">"
   ]
  },
  {
   "cell_type": "markdown",
   "metadata": {},
   "source": [
    "### Solución\n",
    "A partir de la fuente de tensión $5 \\sin 10t$, $\\omega = 10$"
   ]
  },
  {
   "cell_type": "markdown",
   "metadata": {},
   "source": [
    "$$ \\mathrm{V}_s = 5 \\angle 0^\\circ \\, \\mathrm{V} $$"
   ]
  },
  {
   "cell_type": "markdown",
   "metadata": {},
   "source": [
    "La impedancia es"
   ]
  },
  {
   "cell_type": "markdown",
   "metadata": {},
   "source": [
    "$$ \\mathrm{Z} = 4 + j10 \\cdot 0,2 = 4 + 2j \\, \\Omega $$"
   ]
  },
  {
   "cell_type": "markdown",
   "metadata": {},
   "source": [
    "Así la corriente"
   ]
  },
  {
   "cell_type": "markdown",
   "metadata": {},
   "source": [
    "$$ \\mathrm{I} = \\frac{\\mathrm{V}_s}{\\mathrm{Z}} $$"
   ]
  },
  {
   "cell_type": "code",
   "execution_count": 2,
   "metadata": {},
   "outputs": [],
   "source": [
    "import cmath, math"
   ]
  },
  {
   "cell_type": "code",
   "execution_count": 10,
   "metadata": {},
   "outputs": [],
   "source": [
    "Vs = cmath.rect(5,0)\n",
    "Z = complex(4,2)\n",
    "I = Vs/Z\n",
    "I_polar = cmath.polar(I)"
   ]
  },
  {
   "cell_type": "code",
   "execution_count": 11,
   "metadata": {},
   "outputs": [
    {
     "name": "stdout",
     "output_type": "stream",
     "text": [
      "I_polar = (1.118<-0.464rad) A\n",
      "I_polar = (1.118<-26.57°) A\n"
     ]
    }
   ],
   "source": [
    "print('I_polar = (%.3f<%.3frad) A'%I_polar)\n",
    "print('I_polar = (%.3f<%.2f°) A'%(I_polar[0],I_polar[1]*180/math.pi))"
   ]
  },
  {
   "cell_type": "markdown",
   "metadata": {},
   "source": [
    "La tensión en el capacitor es"
   ]
  },
  {
   "cell_type": "markdown",
   "metadata": {},
   "source": [
    "$$ \\mathrm{V = I Z}_L = \\mathrm{I}  \\, j \\omega L  $$"
   ]
  },
  {
   "cell_type": "code",
   "execution_count": 18,
   "metadata": {},
   "outputs": [],
   "source": [
    "omega = 10 ; L = 0.2\n",
    "Z_L = complex(0 , omega*L)\n",
    "\n",
    "V = I*Z_L\n",
    "V_polar = cmath.polar(V)"
   ]
  },
  {
   "cell_type": "code",
   "execution_count": 19,
   "metadata": {},
   "outputs": [
    {
     "name": "stdout",
     "output_type": "stream",
     "text": [
      "V_polar = (2.236<1.107rad) A\n",
      "V_polar = (2.236<63.43°) A\n"
     ]
    }
   ],
   "source": [
    "print('V_polar = (%.3f<%.3frad) A'%V_polar)\n",
    "print('V_polar = (%.3f<%.2f°) A'%(V_polar[0],V_polar[1]*180/math.pi))"
   ]
  },
  {
   "cell_type": "code",
   "execution_count": 20,
   "metadata": {},
   "outputs": [],
   "source": [
    "%reset -s -f"
   ]
  },
  {
   "cell_type": "markdown",
   "metadata": {},
   "source": [
    "--------------\n",
    "## Ejemplo 9.10\n",
    "Halle la impedancia de entrada del circuito de la figura. Suponga que el circuito opera a $\\omega = 50 \\, \\mathrm{rad/s}$."
   ]
  },
  {
   "cell_type": "markdown",
   "metadata": {},
   "source": [
    "<img src=\"img/ej9-10.png\" alt=\"ej9-10.png\">"
   ]
  },
  {
   "cell_type": "markdown",
   "metadata": {},
   "source": [
    "### Solución\n",
    "Sean      \n",
    "\n",
    "$Z_1 =$ Impedancia del capacitor de $2 \\, \\mathrm{mF}$       \n",
    "$Z_2 =$ Impedancia del resistor de $3 \\, \\Omega$ en serie con el capacitor de $10 \\,  \\mathrm{mF}$     \n",
    "$Z_3 =$ Impedancia del inductor de 0,2 H en serie con el resistor de $8 \\, \\Omega$"
   ]
  },
  {
   "cell_type": "markdown",
   "metadata": {},
   "source": [
    "Así,\n",
    "$$ Z_1 = \\frac{1}{j \\omega C} \\qquad Z_2 = 3 + \\frac{1}{j \\omega C} \\qquad Z_3 = 8 + j \\omega L $$"
   ]
  },
  {
   "cell_type": "code",
   "execution_count": 14,
   "metadata": {},
   "outputs": [],
   "source": [
    "w = 50 # rad/s\n",
    "R1 = 3 ; R2 = 8 # Ohm\n",
    "C1 = 2e-3 ; C2 = 10e-3 # F\n",
    "L1 = 0.2 # H\n",
    "\n",
    "Z1 = complex( 0 , 1/(-1*w*C1) )\n",
    "Z2 = complex( 3 , 1/(-1*w*C2) )\n",
    "Z3 = complex( 8 , w*L1 )"
   ]
  },
  {
   "cell_type": "markdown",
   "metadata": {},
   "source": [
    "$$ Z_{en} = Z_1 + Z_2 || Z_3 $$"
   ]
  },
  {
   "cell_type": "code",
   "execution_count": 15,
   "metadata": {},
   "outputs": [],
   "source": [
    "Z_en = Z1 + (Z2*Z3)/(Z2 + Z3)"
   ]
  },
  {
   "cell_type": "code",
   "execution_count": 16,
   "metadata": {},
   "outputs": [
    {
     "name": "stdout",
     "output_type": "stream",
     "text": [
      "Z_en = 3.22-11.07j\n"
     ]
    }
   ],
   "source": [
    "print('Z_en = {:.2f}'.format(Z_en))"
   ]
  },
  {
   "cell_type": "markdown",
   "metadata": {},
   "source": [
    "Por lo tanto,\n",
    "$$ Z_{ent} = 3,22 - j11,07 \\, \\Omega $$"
   ]
  },
  {
   "cell_type": "markdown",
   "metadata": {},
   "source": [
    "---------\n",
    "## Problema de práctica 9.10\n",
    "Determine la impedancia de entrada del circuito de la fig. en $\\omega = 10 \\, \\mathrm{rad/s}$"
   ]
  },
  {
   "cell_type": "markdown",
   "metadata": {},
   "source": [
    "<img src=\"img/ejpr9-10.png\" alt=\"ejpr9-10.png\">"
   ]
  },
  {
   "cell_type": "markdown",
   "metadata": {},
   "source": [
    "### Solución"
   ]
  },
  {
   "cell_type": "code",
   "execution_count": 2,
   "metadata": {},
   "outputs": [],
   "source": [
    "# Datos:\n",
    "C1 = 2e-3 ; C2 = 4e-3 # F\n",
    "R1 = 20 ; R2 = 50 # Ohm\n",
    "L1 = 2 # H\n",
    "w = 10 # rad/s\n",
    "\n",
    "Z1 = R1 + complex( 0 , 1/(-1*w*C1) )\n",
    "Z2 = complex( 0 , 1/(-1*w*C2) )\n",
    "Z3 = R2 + complex( 0 , w*L1 )"
   ]
  },
  {
   "cell_type": "code",
   "execution_count": 3,
   "metadata": {},
   "outputs": [],
   "source": [
    "Z_ent = Z1 + (Z2*Z3)/(Z2 + Z3)"
   ]
  },
  {
   "cell_type": "code",
   "execution_count": 7,
   "metadata": {},
   "outputs": [
    {
     "name": "stdout",
     "output_type": "stream",
     "text": [
      "Z_ent = 32.38-73.76j Ohm\n"
     ]
    }
   ],
   "source": [
    "print('Z_ent = {:.2f} Ohm'.format(Z_ent))"
   ]
  },
  {
   "cell_type": "code",
   "execution_count": 8,
   "metadata": {},
   "outputs": [],
   "source": [
    "%reset -s -f"
   ]
  },
  {
   "cell_type": "markdown",
   "metadata": {},
   "source": [
    "---------------\n",
    "## Ejemplo 9.11\n",
    "Determine $v_0(t)$ en el circuito de la figura."
   ]
  },
  {
   "cell_type": "markdown",
   "metadata": {},
   "source": [
    "<img src=\"img/ej9-11.png\" alt=\"ej9-11.png\">"
   ]
  },
  {
   "cell_type": "markdown",
   "metadata": {},
   "source": [
    "### Solución"
   ]
  },
  {
   "cell_type": "code",
   "execution_count": 9,
   "metadata": {},
   "outputs": [],
   "source": [
    "import cmath, math"
   ]
  },
  {
   "cell_type": "code",
   "execution_count": 14,
   "metadata": {},
   "outputs": [],
   "source": [
    "Vs = cmath.rect( 20 , -15*(math.pi/180) )\n",
    "w = 4\n",
    "R1 = 60 # Ohm\n",
    "C1 = 10e-3 # F\n",
    "L1 = 5 # H\n",
    "\n",
    "Z1 = R1\n",
    "Z_C1 = complex(0 , 1/(-1*w*C1) )\n",
    "Z_L1 = complex(0 , w*L1)\n",
    "\n",
    "Z2 = (Z_C1*Z_L1)/(Z_C1 + Z_L1) \n",
    "\n",
    "Z_ent = Z1 + Z2"
   ]
  },
  {
   "cell_type": "code",
   "execution_count": 15,
   "metadata": {},
   "outputs": [],
   "source": [
    "Vo = Z2/(Z1 + Z2) * Vs"
   ]
  },
  {
   "cell_type": "code",
   "execution_count": 16,
   "metadata": {},
   "outputs": [
    {
     "name": "stdout",
     "output_type": "stream",
     "text": [
      "Vo = 16.49+4.72j\n"
     ]
    }
   ],
   "source": [
    "print('Vo = {:.2f}'.format(Vo))"
   ]
  },
  {
   "cell_type": "code",
   "execution_count": 17,
   "metadata": {},
   "outputs": [],
   "source": [
    "Vo_polar = cmath.polar(Vo)"
   ]
  },
  {
   "cell_type": "code",
   "execution_count": 23,
   "metadata": {},
   "outputs": [
    {
     "name": "stdout",
     "output_type": "stream",
     "text": [
      "Vo_polar = (17.15<0.28rad) V\n",
      "Vo_polar = (17.15<15.96°) V\n"
     ]
    }
   ],
   "source": [
    "phi = Vo_polar[1]*(180/math.pi)\n",
    "r = Vo_polar[0]\n",
    "print('Vo_polar = (%.2f<%.2frad) V'%(Vo_polar[0],Vo_polar[1]))\n",
    "print('Vo_polar = (%.2f<%.2f°) V'%(r,phi) )"
   ]
  },
  {
   "cell_type": "code",
   "execution_count": 24,
   "metadata": {},
   "outputs": [],
   "source": [
    "%reset -s -f"
   ]
  },
  {
   "cell_type": "markdown",
   "metadata": {},
   "source": [
    "## Problema de práctica 9.11\n",
    "Calcule $v_0$ en el circuito de la figura.\n",
    "<img src=\"img/ejpr9-11.png\" alt=\"ejpr9-11.png\">"
   ]
  },
  {
   "cell_type": "markdown",
   "metadata": {},
   "source": [
    "### Solución"
   ]
  },
  {
   "cell_type": "code",
   "execution_count": 1,
   "metadata": {},
   "outputs": [],
   "source": [
    "import cmath, math"
   ]
  },
  {
   "cell_type": "code",
   "execution_count": 2,
   "metadata": {},
   "outputs": [],
   "source": [
    "R = 10 # Ohm\n",
    "L = 0.5 # H\n",
    "C = 1/20 # F\n",
    "w = 10\n",
    "\n",
    "Z_R = R\n",
    "Z_L = complex(0 , w*L)\n",
    "Z_C = complex(0 , 1/(-1*w*C))"
   ]
  },
  {
   "cell_type": "code",
   "execution_count": 4,
   "metadata": {},
   "outputs": [],
   "source": [
    "Z_ent = (Z_R*Z_L)/(Z_R + Z_L) + Z_C"
   ]
  },
  {
   "cell_type": "code",
   "execution_count": 7,
   "metadata": {},
   "outputs": [],
   "source": [
    "Vs = cmath.rect(10 , 75*(math.pi/180) )\n",
    "\n",
    "Vo = Z_C/Z_ent * Vs\n",
    "Vo_polar = cmath.polar(Vo)"
   ]
  },
  {
   "cell_type": "code",
   "execution_count": 11,
   "metadata": {},
   "outputs": [
    {
     "name": "stdout",
     "output_type": "stream",
     "text": [
      "Vo_polar = (7.071<-1.047rad) V\n",
      "Vo_polar = (7.071<-60.00°) V\n"
     ]
    }
   ],
   "source": [
    "phi = Vo_polar[1]*(180/math.pi)\n",
    "r = Vo_polar[0]\n",
    "print('Vo_polar = (%.3f<%.3frad) V'%(Vo_polar[0],Vo_polar[1]))\n",
    "print('Vo_polar = (%.3f<%.2f°) V'%(r,phi) )"
   ]
  },
  {
   "cell_type": "markdown",
   "metadata": {},
   "source": [
    "$$ v_0 (t) = 7,071 \\cos(10t - 60^\\circ) \\, \\mathrm{V} $$"
   ]
  },
  {
   "cell_type": "code",
   "execution_count": 12,
   "metadata": {},
   "outputs": [],
   "source": [
    "%reset -s -f"
   ]
  },
  {
   "cell_type": "markdown",
   "metadata": {},
   "source": [
    "Las transformaciones delta a estrella y estrella a delta aplicadas a circuitos resistivos también son válidas para las impedancias. En referencia a la figura, las fórmulas de conversión son las siguientes.\n",
    "<img src=\"img/fig9-22.png\" alt=\"fig9-22.png\">"
   ]
  },
  {
   "cell_type": "markdown",
   "metadata": {},
   "source": [
    "Conversión $Y- \\Delta:$"
   ]
  },
  {
   "cell_type": "markdown",
   "metadata": {},
   "source": [
    "$$ Z_a = \\frac{Z_1 Z_2 + Z_2 Z_3 +Z_3 Z_1}{Z_1} $$"
   ]
  },
  {
   "cell_type": "markdown",
   "metadata": {},
   "source": [
    "$$ Z_b = \\frac{Z_1 Z_2 + Z_2 Z_3 +Z_3 Z_1}{Z_2} $$"
   ]
  },
  {
   "cell_type": "markdown",
   "metadata": {},
   "source": [
    "$$ Z_c = \\frac{Z_1 Z_2 + Z_2 Z_3 +Z_3 Z_1}{Z_3} $$"
   ]
  },
  {
   "cell_type": "markdown",
   "metadata": {},
   "source": [
    "Conversión $\\Delta - Y:$"
   ]
  },
  {
   "cell_type": "markdown",
   "metadata": {},
   "source": [
    "$$ Z_1 = \\frac{Z_b Z_c}{Z_a + Z_b + Z_c} $$"
   ]
  },
  {
   "cell_type": "markdown",
   "metadata": {},
   "source": [
    "$$ Z_2 = \\frac{Z_c Z_a}{Z_a + Z_b + Z_c} $$"
   ]
  },
  {
   "cell_type": "markdown",
   "metadata": {},
   "source": [
    "$$ Z_3 = \\frac{Z_a Z_b}{Z_a + Z_b + Z_c} $$"
   ]
  },
  {
   "cell_type": "markdown",
   "metadata": {},
   "source": [
    "## Ejemplo 9.12\n",
    "Halle la corriente $I$ en el circuito de la figura.\n",
    "<img src=\"img/ej9-12-0.png\" alt=\"ej-12-0.png\">"
   ]
  },
  {
   "cell_type": "markdown",
   "metadata": {},
   "source": [
    "### Solución\n",
    "La red delta conectada a los nodos $a, \\; b, \\; c$ puede convertirse en la red $Y$ de la figura."
   ]
  },
  {
   "cell_type": "markdown",
   "metadata": {},
   "source": [
    "<img src=\"img/ej9-12-1.png\" alt=\"ej9-12-1.png\">"
   ]
  },
  {
   "cell_type": "code",
   "execution_count": 17,
   "metadata": {},
   "outputs": [],
   "source": [
    "Z_a = 8 # Ohm\n",
    "Z_b = 2 + complex(0 , -4) # Ohm\n",
    "Z_c = complex(0 , 4) # Ohm\n",
    "\n",
    "Z_an = (Z_b*Z_c)/(Z_a + Z_b + Z_c)\n",
    "Z_bn = (Z_c*Z_a)/(Z_a + Z_b + Z_c)\n",
    "Z_cn = (Z_a*Z_b)/(Z_a + Z_b + Z_c)"
   ]
  },
  {
   "cell_type": "code",
   "execution_count": 16,
   "metadata": {},
   "outputs": [],
   "source": [
    "# Importa biblioteca de números complejos y matemática\n",
    "import cmath, math"
   ]
  },
  {
   "cell_type": "code",
   "execution_count": 19,
   "metadata": {},
   "outputs": [],
   "source": [
    "# Datos\n",
    "Z_R1 = 12 # Ohm\n",
    "Z_C1 = complex(0 , -3) # Ohm\n",
    "Z_L1 = complex(0 , 6) # Ohm\n",
    "Z_R2 = 8 # Ohm\n",
    "Vs = cmath.rect(50,0) # V"
   ]
  },
  {
   "cell_type": "code",
   "execution_count": 20,
   "metadata": {},
   "outputs": [],
   "source": [
    "# Sumamos las impedancias en serie\n",
    "Z_1 = Z_R1 + Z_an\n",
    "Z_2 = Z_bn + Z_C1\n",
    "Z_3 = Z_cn + Z_L1 + Z_R2"
   ]
  },
  {
   "cell_type": "code",
   "execution_count": 21,
   "metadata": {},
   "outputs": [],
   "source": [
    "# Impedancia\n",
    "Z_ent = Z_1 + (Z_2*Z_3)/(Z_2 + Z_3)"
   ]
  },
  {
   "cell_type": "markdown",
   "metadata": {},
   "source": [
    "La corriente deseada es\n",
    "$$ V = I Z \\quad \\Rightarrow \\quad I = \\frac{V}{Z} $$"
   ]
  },
  {
   "cell_type": "code",
   "execution_count": 23,
   "metadata": {},
   "outputs": [],
   "source": [
    "# Corriente\n",
    "I = Vs/Z_ent\n",
    "I_polar = cmath.polar(I)"
   ]
  },
  {
   "cell_type": "code",
   "execution_count": 29,
   "metadata": {},
   "outputs": [
    {
     "name": "stdout",
     "output_type": "stream",
     "text": [
      "I = 3.656-0.268j A\n",
      "I = 3.666<-0.073rad A\n",
      "I = 3.666<-4.199° A\n"
     ]
    }
   ],
   "source": [
    "# Imprime resultados\n",
    "print('I = {:.3f} A'.format(I))\n",
    "print('I = %.3f<%.3frad A'%I_polar)\n",
    "print('I = %.3f<%.3f° A'%(I_polar[0],I_polar[1]*180/math.pi) )"
   ]
  },
  {
   "cell_type": "markdown",
   "metadata": {},
   "source": [
    "$$ I = 3,666 \\angle -4,199 \\, \\mathrm{A} $$"
   ]
  },
  {
   "cell_type": "code",
   "execution_count": 30,
   "metadata": {},
   "outputs": [],
   "source": [
    "%reset -s -f"
   ]
  },
  {
   "cell_type": "markdown",
   "metadata": {},
   "source": [
    "-------------\n",
    "## Ejercicio 9.63\n",
    "En relación con el circuito de la figura, halle el valor de $Z_T$"
   ]
  },
  {
   "cell_type": "markdown",
   "metadata": {},
   "source": [
    "<img src=\"img/ejer9-63.png\" alt=\"ejer9-63.png\">"
   ]
  },
  {
   "cell_type": "markdown",
   "metadata": {},
   "source": [
    "### Solución\n",
    "Conversión $Y - \\Delta$ (transformación estrella a delta)"
   ]
  },
  {
   "cell_type": "code",
   "execution_count": 2,
   "metadata": {},
   "outputs": [],
   "source": [
    "Z1 = 10 ; Z2 = complex(0, 15) ; Z3 = 20 # Ohm\n",
    "\n",
    "Za = (Z1*Z2 + Z2*Z3 + Z3*Z1)/Z1\n",
    "Zb = (Z1*Z2 + Z2*Z3 + Z3*Z1)/Z2\n",
    "Zc = (Z1*Z2 + Z2*Z3 + Z3*Z1)/Z3"
   ]
  },
  {
   "cell_type": "code",
   "execution_count": 3,
   "metadata": {},
   "outputs": [
    {
     "name": "stdout",
     "output_type": "stream",
     "text": [
      "Za = 20.00+45.00j Ohm\n",
      "Zb = 30.00-13.33j Ohm\n",
      "Zc = 10.00+22.50j Ohm\n"
     ]
    }
   ],
   "source": [
    "print('Za = {:.2f} Ohm'.format(Za))\n",
    "print('Zb = {:.2f} Ohm'.format(Zb))\n",
    "print('Zc = {:.2f} Ohm'.format(Zc))"
   ]
  },
  {
   "cell_type": "markdown",
   "metadata": {},
   "source": [
    "Ahora lo que necesitamos es combinar impedancias."
   ]
  },
  {
   "cell_type": "markdown",
   "metadata": {},
   "source": [
    "$\\begin{array}{l}\n",
    "Z_{L2} = Z_2||(10 - 16j) \\\\\n",
    "Z_{L3} = Z_3||(10 - 16j)\n",
    "\\end{array}$"
   ]
  },
  {
   "cell_type": "code",
   "execution_count": 6,
   "metadata": {},
   "outputs": [],
   "source": [
    "Z_L2 = (Zb*complex(10,-16))/(Zb + complex(10,-16))\n",
    "Z_L3 = (Zc*complex(10,-16))/(Zc + complex(10,-16))"
   ]
  },
  {
   "cell_type": "code",
   "execution_count": 7,
   "metadata": {},
   "outputs": [
    {
     "name": "stdout",
     "output_type": "stream",
     "text": [
      "Z_L2 = 8.72-8.94j Ohm\n",
      "Z_L3 = 21.76-3.82j Ohm\n"
     ]
    }
   ],
   "source": [
    "print('Z_L2 = {:.2f} Ohm'.format(Z_L2))\n",
    "print('Z_L3 = {:.2f} Ohm'.format(Z_L3))"
   ]
  },
  {
   "cell_type": "markdown",
   "metadata": {},
   "source": [
    "$$ Z_T = 8 - 12j + Z_a||(Z_{L2} + Z_{L3}) $$"
   ]
  },
  {
   "cell_type": "code",
   "execution_count": 9,
   "metadata": {},
   "outputs": [],
   "source": [
    "Z_T = complex(8,-12) + Za*(Z_L2 + Z_L3)/(Za + Z_L2 + Z_L3)"
   ]
  },
  {
   "cell_type": "code",
   "execution_count": 10,
   "metadata": {},
   "outputs": [
    {
     "name": "stdout",
     "output_type": "stream",
     "text": [
      "Z_T = 34.69-6.93j Ohm\n"
     ]
    }
   ],
   "source": [
    "print('Z_T = {:.2f} Ohm'.format(Z_T))"
   ]
  },
  {
   "cell_type": "code",
   "execution_count": 11,
   "metadata": {},
   "outputs": [],
   "source": [
    "%reset -s -f"
   ]
  },
  {
   "cell_type": "markdown",
   "metadata": {},
   "source": [
    "## Ejercicio de práctica 9.12\n",
    "Halle $I$ en el circuito de la figura."
   ]
  },
  {
   "cell_type": "markdown",
   "metadata": {},
   "source": [
    "<img src=\"img/ejpr9-12.png\" alt=\"ejpr9-12.png\">"
   ]
  },
  {
   "cell_type": "markdown",
   "metadata": {},
   "source": [
    "### Solución\n",
    "Conversión $Y - \\Delta$ (transformación estrella a delta)"
   ]
  },
  {
   "cell_type": "code",
   "execution_count": 12,
   "metadata": {},
   "outputs": [],
   "source": [
    "Z1 = complex(8,5)\n",
    "Z2 = complex(5,-2)\n",
    "Z3 = complex(0,4)"
   ]
  },
  {
   "cell_type": "code",
   "execution_count": 13,
   "metadata": {},
   "outputs": [],
   "source": [
    "Za = (Z1*Z2 + Z2*Z3 + Z3*Z1)/Z1\n",
    "Zb = (Z1*Z2 + Z2*Z3 + Z3*Z1)/Z2\n",
    "Zc = (Z1*Z2 + Z2*Z3 + Z3*Z1)/Z3"
   ]
  },
  {
   "cell_type": "code",
   "execution_count": 14,
   "metadata": {},
   "outputs": [
    {
     "name": "stdout",
     "output_type": "stream",
     "text": [
      "Za = 6.84+3.35j Ohm\n",
      "Zb = 2.34+13.14j Ohm\n",
      "Zc = 15.25-9.50j Ohm\n"
     ]
    }
   ],
   "source": [
    "print('Za = {:.2f} Ohm'.format(Za))\n",
    "print('Zb = {:.2f} Ohm'.format(Zb))\n",
    "print('Zc = {:.2f} Ohm'.format(Zc))"
   ]
  },
  {
   "cell_type": "code",
   "execution_count": 15,
   "metadata": {},
   "outputs": [],
   "source": [
    "Z_L2 = Zb*complex(0,-3)/(Zb + complex(0,-3))\n",
    "Z_L3 = Zc*10/(Zc + 10)"
   ]
  },
  {
   "cell_type": "code",
   "execution_count": 16,
   "metadata": {},
   "outputs": [],
   "source": [
    "Z_T = Za*(Z_L2 + Z_L3)/(Za + Z_L2 + Z_L3)"
   ]
  },
  {
   "cell_type": "code",
   "execution_count": 17,
   "metadata": {},
   "outputs": [
    {
     "name": "stdout",
     "output_type": "stream",
     "text": [
      "Z_T = 4.70-0.31j Ohm\n"
     ]
    }
   ],
   "source": [
    "print('Z_T = {:.2f} Ohm'.format(Z_T))"
   ]
  },
  {
   "cell_type": "markdown",
   "metadata": {},
   "source": [
    "$$ I = \\frac{V}{Z} $$"
   ]
  },
  {
   "cell_type": "code",
   "execution_count": 18,
   "metadata": {},
   "outputs": [],
   "source": [
    "import cmath, math"
   ]
  },
  {
   "cell_type": "code",
   "execution_count": 19,
   "metadata": {},
   "outputs": [],
   "source": [
    "Vs = cmath.rect(30,0)\n",
    "\n",
    "I = Vs/Z_T\n",
    "I_polar = cmath.polar(I)"
   ]
  },
  {
   "cell_type": "code",
   "execution_count": 26,
   "metadata": {},
   "outputs": [
    {
     "name": "stdout",
     "output_type": "stream",
     "text": [
      "I = 6.35+0.42j Ohm\n",
      "I_polar = (6.364<0.0664rad)\n",
      "I_polar = (6.364<3.802°)\n"
     ]
    }
   ],
   "source": [
    "print('I = {:.2f} Ohm'.format(I))\n",
    "print('I_polar = (%.3f<%.4frad)'%I_polar)\n",
    "print('I_polar = (%.3f<%.3f°)'%(I_polar[0],I_polar[1]*180/math.pi))"
   ]
  },
  {
   "cell_type": "code",
   "execution_count": 27,
   "metadata": {},
   "outputs": [],
   "source": [
    "%reset -s -f"
   ]
  },
  {
   "cell_type": "code",
   "execution_count": null,
   "metadata": {},
   "outputs": [],
   "source": []
  }
 ],
 "metadata": {
  "kernelspec": {
   "display_name": "Python 3",
   "language": "python",
   "name": "python3"
  },
  "language_info": {
   "codemirror_mode": {
    "name": "ipython",
    "version": 3
   },
   "file_extension": ".py",
   "mimetype": "text/x-python",
   "name": "python",
   "nbconvert_exporter": "python",
   "pygments_lexer": "ipython3",
   "version": "3.7.4"
  }
 },
 "nbformat": 4,
 "nbformat_minor": 4
}
