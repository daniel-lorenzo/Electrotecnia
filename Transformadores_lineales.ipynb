{
 "cells": [
  {
   "cell_type": "markdown",
   "metadata": {},
   "source": [
    "# Transformadores lineales\n",
    "__UNLZ - Facultad de Ingeniería__       \n",
    "__Electrotecnia__      \n",
    "__Alumno:__ Daniel Antonio Lorenzo"
   ]
  },
  {
   "cell_type": "markdown",
   "metadata": {},
   "source": [
    "<a href=\"https://colab.research.google.com/github/daniel-lorenzo/Electrotecnia/blob/master/Transformadores_lineales.ipynb\"><img align=\"left\" src=\"https://colab.research.google.com/assets/colab-badge.svg\" alt=\"Open in Colab\" title=\"Open and Execute in Google Colaboratory\"></a>"
   ]
  },
  {
   "cell_type": "markdown",
   "metadata": {},
   "source": [
    "<div class=\"alert-info\">Un transformador es por lo general un dispositivo de cuatro terminales que comprende dos (o más) bobinas magnéticamente acopladas.</div>"
   ]
  },
  {
   "cell_type": "markdown",
   "metadata": {},
   "source": [
    "## Ejemplo 13.4\n",
    "En el circuito de la figura, calcule la impedancia de entrada y la corriente $I_1$. Considere $Z_1 = 60 - j100 \\, \\Omega$, $Z_2 = 30 + j40 \\, \\Omega$ y $Z_L = 80 + j60 \\, \\Omega$."
   ]
  },
  {
   "cell_type": "markdown",
   "metadata": {},
   "source": [
    "<img src=\"img/ej13-4.png\">"
   ]
  },
  {
   "cell_type": "markdown",
   "metadata": {},
   "source": [
    "### Solución"
   ]
  },
  {
   "cell_type": "code",
   "execution_count": 1,
   "metadata": {},
   "outputs": [],
   "source": [
    "import numpy as np\n",
    "import cmath"
   ]
  },
  {
   "cell_type": "code",
   "execution_count": 3,
   "metadata": {},
   "outputs": [],
   "source": [
    "# Datos:\n",
    "Z1 = 60 - 100j # Ohm\n",
    "Z2 = 30 + 40j # Ohm\n",
    "ZL = 80 + 60j # Ohm\n",
    "XL1 = 20j # Ohm\n",
    "XL2 = 40j # Ohm\n",
    "M = 5j # Ohm\n",
    "Vs = cmath.rect(50 , np.deg2rad(60) ) # V\n",
    "w = 1 # rad/s"
   ]
  },
  {
   "cell_type": "markdown",
   "metadata": {},
   "source": [
    "A partir de la ecuación\n",
    "$$ Z_{ent} = Z_1 + X_{L1} + \\frac{\\omega^2 M^2}{Z_2 + X_{L2} + Z_L} $$"
   ]
  },
  {
   "cell_type": "code",
   "execution_count": 4,
   "metadata": {},
   "outputs": [],
   "source": [
    "Zent = Z1 + XL1 + (w**2 * M**2)/(Z2 + XL2 + ZL)"
   ]
  },
  {
   "cell_type": "code",
   "execution_count": 8,
   "metadata": {},
   "outputs": [
    {
     "name": "stdout",
     "output_type": "stream",
     "text": [
      "Zent = (100 < -53.13°) Ohm\n"
     ]
    }
   ],
   "source": [
    "print('Zent = (%.0f < %.2f°) Ohm'%(abs(Zent) , np.rad2deg( cmath.phase(Zent) ) ))"
   ]
  },
  {
   "cell_type": "markdown",
   "metadata": {},
   "source": [
    "Así\n",
    "$$ I_1 = \\frac{V}{Z_{ent}} $$"
   ]
  },
  {
   "cell_type": "code",
   "execution_count": 6,
   "metadata": {},
   "outputs": [],
   "source": [
    "I1 = Vs/Zent"
   ]
  },
  {
   "cell_type": "code",
   "execution_count": 10,
   "metadata": {},
   "outputs": [
    {
     "name": "stdout",
     "output_type": "stream",
     "text": [
      "I1 = (0.50 < 113.13°) A\n"
     ]
    }
   ],
   "source": [
    "print('I1 = (%.2f < %.2f°) A'%(abs(I1) , np.rad2deg( cmath.phase(I1) )))"
   ]
  },
  {
   "cell_type": "markdown",
   "metadata": {},
   "source": [
    "__Simulación en qucs:__\n",
    "\n",
    "<img src=\"img/ej13-4-2.png\">"
   ]
  },
  {
   "cell_type": "code",
   "execution_count": 11,
   "metadata": {},
   "outputs": [],
   "source": [
    "%reset -s -f"
   ]
  },
  {
   "cell_type": "markdown",
   "metadata": {},
   "source": [
    "## Problema de práctica 13.4\n",
    "Halle la impedancia de entrada del circuito de la figura y la corriente procedente de la fuente de tensión."
   ]
  },
  {
   "cell_type": "markdown",
   "metadata": {},
   "source": [
    "<img src=\"img/ejp13-4.png\">"
   ]
  },
  {
   "cell_type": "markdown",
   "metadata": {},
   "source": [
    "### Solución"
   ]
  },
  {
   "cell_type": "code",
   "execution_count": 31,
   "metadata": {},
   "outputs": [],
   "source": [
    "import numpy as np\n",
    "import cmath"
   ]
  },
  {
   "cell_type": "code",
   "execution_count": 92,
   "metadata": {},
   "outputs": [],
   "source": [
    "# Datos:\n",
    "Z1 = 4 # Ohm\n",
    "XL1 = 8j # Ohm\n",
    "XL2 = 10j # Ohm\n",
    "M = 3j # Ohm\n",
    "Z2 = -6j # Ohm\n",
    "ZL = 6 + 4j # Ohm\n",
    "Vs = 20 # V\n",
    "w = 1 # rad/s"
   ]
  },
  {
   "cell_type": "markdown",
   "metadata": {},
   "source": [
    "A partir de la ecuación\n",
    "$$ Z_{ent} = Z_1 + X_{L1} - \\frac{\\omega^2 M^2}{Z_2 + X_{L2} + Z_L} $$"
   ]
  },
  {
   "cell_type": "code",
   "execution_count": 95,
   "metadata": {},
   "outputs": [],
   "source": [
    "Zent = Z1 + XL1 - (w**2 * M**2)/(Z2 + XL2 + ZL)"
   ]
  },
  {
   "cell_type": "code",
   "execution_count": 96,
   "metadata": {},
   "outputs": [
    {
     "name": "stdout",
     "output_type": "stream",
     "text": [
      "Zent = (8.58 < 58.05°) Ohm\n"
     ]
    }
   ],
   "source": [
    "print('Zent = (%.2f < %.2f°) Ohm'%(abs(Zent) , np.rad2deg( cmath.phase(Zent) ) ))"
   ]
  },
  {
   "cell_type": "markdown",
   "metadata": {},
   "source": [
    "Así\n",
    "$$ I_1 = \\frac{V}{Z_{ent}} $$"
   ]
  },
  {
   "cell_type": "code",
   "execution_count": 97,
   "metadata": {},
   "outputs": [],
   "source": [
    "I1 = Vs/Zent"
   ]
  },
  {
   "cell_type": "code",
   "execution_count": 98,
   "metadata": {},
   "outputs": [
    {
     "name": "stdout",
     "output_type": "stream",
     "text": [
      "I1 = (2.33 < -58.05°) A\n"
     ]
    }
   ],
   "source": [
    "print('I1 = (%.2f < %.2f°) A'%(abs(I1) , np.rad2deg( cmath.phase(I1) )))"
   ]
  },
  {
   "cell_type": "markdown",
   "metadata": {},
   "source": [
    "__Simulación en qucs:__\n",
    "\n",
    "<img src=\"img/ejp13-4-2.png\">"
   ]
  },
  {
   "cell_type": "code",
   "execution_count": 30,
   "metadata": {},
   "outputs": [],
   "source": [
    "%reset -s -f"
   ]
  },
  {
   "cell_type": "markdown",
   "metadata": {},
   "source": [
    "## Ejemplo 13.5\n",
    "Determine el circuito T equivalente del transformador lineal de la figura."
   ]
  },
  {
   "cell_type": "markdown",
   "metadata": {},
   "source": [
    "<img src=\"img/ej13-5.png\">"
   ]
  },
  {
   "cell_type": "markdown",
   "metadata": {},
   "source": [
    "(a) transformador lineal     \n",
    "(b) circuito T equivalente"
   ]
  },
  {
   "cell_type": "markdown",
   "metadata": {},
   "source": [
    "### Solución\n",
    "Dado que $L_1 = 10$, $L_2 = 4$ y $M = 2$, la red equivalente tiene los siguientes parámetros:"
   ]
  },
  {
   "cell_type": "markdown",
   "metadata": {},
   "source": [
    "$$ L_a = L_1 - M = 10 -2 = 8 \\, \\mathrm{H} $$"
   ]
  },
  {
   "cell_type": "markdown",
   "metadata": {},
   "source": [
    "$$ L_b = L_2 - M = 4 - 2 = 2 \\, \\mathrm{H} $$"
   ]
  },
  {
   "cell_type": "markdown",
   "metadata": {},
   "source": [
    "$$ L_c = M = 2 \\, \\mathrm{H} $$"
   ]
  },
  {
   "cell_type": "markdown",
   "metadata": {},
   "source": [
    "Se ha supuesto que las direcciones de referencia de las corrientes y las polaridades de las tensiones en los devanados de referencia de las corrientes y las polaridades de las tensiones en los devanados primario y secundario se ajustan a las de la figura. De lo contrario, podría ser necesario reemplazar $M$ por $-M$."
   ]
  },
  {
   "cell_type": "markdown",
   "metadata": {},
   "source": [
    "## Problema de práctica 13.5\n",
    "En relación con el transformador lineal de la figura, halle la red $\\Pi$ equivalente."
   ]
  },
  {
   "cell_type": "markdown",
   "metadata": {},
   "source": [
    "<img src=\"img/ejp13-5.png\">"
   ]
  },
  {
   "cell_type": "markdown",
   "metadata": {},
   "source": [
    "### Solución"
   ]
  },
  {
   "cell_type": "markdown",
   "metadata": {},
   "source": [
    "<img src=\"img/ejp13-5-2.png\">"
   ]
  },
  {
   "cell_type": "markdown",
   "metadata": {},
   "source": [
    "$$ L_A = \\frac{L_1 L_2 - M^2}{L_2 - M} \\quad ; \\quad L_B = \\frac{L_1 L_2 - M^2}{L_1 - M} \\quad ; \\quad L_C = \\frac{L_1 L_2 - M^2}{M} $$"
   ]
  },
  {
   "cell_type": "code",
   "execution_count": 1,
   "metadata": {},
   "outputs": [],
   "source": [
    "# Datos:\n",
    "L1 = 10 # H\n",
    "L2 = 4 # H\n",
    "M = 2 # H"
   ]
  },
  {
   "cell_type": "code",
   "execution_count": 2,
   "metadata": {},
   "outputs": [],
   "source": [
    "LA = (L1*L2 - M**2)/(L2 - M)\n",
    "LB = (L1*L2 - M**2)/(L1 - M)\n",
    "LC = (L1*L2 - M**2)/(M)"
   ]
  },
  {
   "cell_type": "code",
   "execution_count": 4,
   "metadata": {
    "jupyter": {
     "source_hidden": true
    }
   },
   "outputs": [
    {
     "name": "stdout",
     "output_type": "stream",
     "text": [
      "LA = 18.0 H\n",
      "LB = 4.5 H\n",
      "LC = 18.0 H\n"
     ]
    }
   ],
   "source": [
    "print('LA = %.1f H'%LA)\n",
    "print('LB = %.1f H'%LB)\n",
    "print('LC = %.1f H'%LC)"
   ]
  },
  {
   "cell_type": "markdown",
   "metadata": {},
   "source": [
    "## Ejemplo 13.6\n",
    "Determine $I_1$, $I_2$ y $V_0$ en la figura usando el circuito T equivalente del transformador lineal."
   ]
  },
  {
   "cell_type": "markdown",
   "metadata": {},
   "source": [
    "<img src=\"img/ej13-6.png\">"
   ]
  },
  {
   "cell_type": "markdown",
   "metadata": {},
   "source": [
    "### Solución\n",
    "Las bobinas acopladas magnéticamente deben reemplazarse por el circuito T equivalente."
   ]
  },
  {
   "cell_type": "markdown",
   "metadata": {},
   "source": [
    "$$\\begin{array}{l}\n",
    "L_a = L_1 - (-M) \\\\\n",
    "L_b = L_2 - (-M) \\\\\n",
    "L_c = -M\n",
    "\\end{array}$$"
   ]
  },
  {
   "cell_type": "code",
   "execution_count": 2,
   "metadata": {},
   "outputs": [],
   "source": [
    "import cmath\n",
    "import numpy as np"
   ]
  },
  {
   "cell_type": "code",
   "execution_count": 3,
   "metadata": {},
   "outputs": [],
   "source": [
    "# Datos:\n",
    "L1 = 8j # Ohm\n",
    "L2 = 5j # Ohm\n",
    "M = 1j # Ohm\n",
    "R1 = 4 # Ohm\n",
    "R2 = 10 # Ohm\n",
    "Vs = cmath.rect(60 , np.deg2rad(90) )"
   ]
  },
  {
   "cell_type": "code",
   "execution_count": 4,
   "metadata": {},
   "outputs": [],
   "source": [
    "La = L1 - (-M)\n",
    "Lb = L2 - (-M)\n",
    "Lc = -M"
   ]
  },
  {
   "cell_type": "code",
   "execution_count": 5,
   "metadata": {},
   "outputs": [
    {
     "name": "stdout",
     "output_type": "stream",
     "text": [
      "La = 0.0+9.0j H\n",
      "Lb = 0.0+6.0j H\n",
      "Lc = -0.0-1.0j H\n"
     ]
    }
   ],
   "source": [
    "print('La = {:.1f} H'.format(La))\n",
    "print('Lb = {:.1f} H'.format(Lb))\n",
    "print('Lc = {:.1f} H'.format(Lc))"
   ]
  },
  {
   "cell_type": "markdown",
   "metadata": {},
   "source": [
    "<img src=\"img/ej13-6-2.png\">"
   ]
  },
  {
   "cell_type": "markdown",
   "metadata": {},
   "source": [
    "Así, el circuito T equivalente de la figura (b) en reemplazo de las dos bobinas de la figura (a)"
   ]
  },
  {
   "cell_type": "markdown",
   "metadata": {},
   "source": [
    "El circuito equivalente de la figura (b) puede resolverse aplicando el análisis nodal o el de mallas. De la aplicación del análisis de mallas se obtiene"
   ]
  },
  {
   "cell_type": "markdown",
   "metadata": {},
   "source": [
    "Malla 1:\n",
    "$$ j6 = I_1 (4 + j9 - j1) + I_2 (-j1) $$"
   ]
  },
  {
   "cell_type": "markdown",
   "metadata": {},
   "source": [
    "$$ (4 + 8j) I_1 - (j1)I_2 = j6  \\tag{1} $$"
   ]
  },
  {
   "cell_type": "markdown",
   "metadata": {},
   "source": [
    "Malla 2:\n",
    "$$ 0 = I_1 (-j1) + I_2 (10 + j6 - j1) $$"
   ]
  },
  {
   "cell_type": "markdown",
   "metadata": {},
   "source": [
    "$$ (-j1) I_1 + (10 + j5)I_2 = 0 \\tag{2} $$"
   ]
  },
  {
   "cell_type": "code",
   "execution_count": 7,
   "metadata": {},
   "outputs": [],
   "source": [
    "A = np.array([[4+8j , -1j],[-1j , 10+5j]  ])\n",
    "B = np.array([[6j],[0]])"
   ]
  },
  {
   "cell_type": "code",
   "execution_count": 8,
   "metadata": {},
   "outputs": [],
   "source": [
    "I = np.dot( np.linalg.inv(A) , B )"
   ]
  },
  {
   "cell_type": "code",
   "execution_count": 11,
   "metadata": {
    "jupyter": {
     "source_hidden": true
    }
   },
   "outputs": [
    {
     "name": "stdout",
     "output_type": "stream",
     "text": [
      "I1 = (0.671 < 27.14°) A\n",
      "I2 = (0.060 < 90.57°) A\n"
     ]
    }
   ],
   "source": [
    "print('I1 = (%.3f < %.2f°) A'%(abs(I[0]) , np.rad2deg( cmath.phase(I[0]) ) ))\n",
    "print('I2 = (%.3f < %.2f°) A'%(abs(I[1]) , np.rad2deg( cmath.phase(I[1]) ) ))"
   ]
  },
  {
   "cell_type": "markdown",
   "metadata": {},
   "source": [
    "$$ V_0 = -I_2 R_2 $$"
   ]
  },
  {
   "cell_type": "code",
   "execution_count": 14,
   "metadata": {},
   "outputs": [],
   "source": [
    "I1 = I[0]\n",
    "I2 = I[1]\n",
    "\n",
    "Vo = -I2*R2"
   ]
  },
  {
   "cell_type": "code",
   "execution_count": 15,
   "metadata": {
    "jupyter": {
     "source_hidden": true
    }
   },
   "outputs": [
    {
     "name": "stdout",
     "output_type": "stream",
     "text": [
      "Vo = (0.60 < -89.43°) V\n"
     ]
    }
   ],
   "source": [
    "print('Vo = (%.2f < %.2f°) V'%(abs(Vo) , np.rad2deg( cmath.phase(Vo) )))"
   ]
  },
  {
   "cell_type": "code",
   "execution_count": 16,
   "metadata": {},
   "outputs": [],
   "source": [
    "%reset -s -f"
   ]
  },
  {
   "cell_type": "markdown",
   "metadata": {},
   "source": [
    "## Problema de práctica 13.6\n",
    "Resuelva el problema del ejemplo 13.1 usando el modelo T equivalente de las bobinas acopladas magnéticamente."
   ]
  },
  {
   "cell_type": "markdown",
   "metadata": {},
   "source": [
    "<img src=\"img/ej13-1.png\">"
   ]
  },
  {
   "cell_type": "markdown",
   "metadata": {},
   "source": [
    "### Solución"
   ]
  },
  {
   "cell_type": "markdown",
   "metadata": {},
   "source": [
    "$$\\begin{align}\n",
    "L_a &= L_1 - M \\\\\n",
    "L_b &= L_2 - M \\\\\n",
    "L_c &= M\n",
    "\\end{align}$$"
   ]
  },
  {
   "cell_type": "code",
   "execution_count": 17,
   "metadata": {},
   "outputs": [],
   "source": [
    "# Datos:\n",
    "L1 = 5j # Ohm\n",
    "L2 = 6j # Ohm\n",
    "M = 3j # Ohm\n",
    "C1 = -4j # Ohm\n",
    "R1 = 12 # Ohm\n",
    "Vs = 12 # V"
   ]
  },
  {
   "cell_type": "code",
   "execution_count": 18,
   "metadata": {},
   "outputs": [],
   "source": [
    "La = L1 - M\n",
    "Lb = L2 - M\n",
    "Lc = M"
   ]
  },
  {
   "cell_type": "code",
   "execution_count": 19,
   "metadata": {},
   "outputs": [
    {
     "name": "stdout",
     "output_type": "stream",
     "text": [
      "La = 0.00+2.00j Ohm\n",
      "Lb = 0.00+3.00j Ohm\n",
      "Lc = 0.00+3.00j Ohm\n"
     ]
    }
   ],
   "source": [
    "print('La = {:.2f} Ohm'.format(La))\n",
    "print('Lb = {:.2f} Ohm'.format(Lb))\n",
    "print('Lc = {:.2f} Ohm'.format(Lc))"
   ]
  },
  {
   "cell_type": "code",
   "execution_count": 24,
   "metadata": {},
   "outputs": [],
   "source": [
    "import numpy as np\n",
    "import cmath"
   ]
  },
  {
   "cell_type": "code",
   "execution_count": 22,
   "metadata": {},
   "outputs": [],
   "source": [
    "A = np.array([[1j,-3j],[-3j,12+6j]])\n",
    "B = np.array([[12],[0]])"
   ]
  },
  {
   "cell_type": "code",
   "execution_count": 23,
   "metadata": {},
   "outputs": [],
   "source": [
    "I = np.dot( np.linalg.inv(A) , B )"
   ]
  },
  {
   "cell_type": "code",
   "execution_count": 25,
   "metadata": {
    "jupyter": {
     "source_hidden": true
    }
   },
   "outputs": [
    {
     "name": "stdout",
     "output_type": "stream",
     "text": [
      "I1 = (13.02 < -49.40°) A\n",
      "I2 = (2.91 < 14.04°) A\n"
     ]
    }
   ],
   "source": [
    "print('I1 = (%.2f < %.2f°) A'%(abs(I[0]) , np.rad2deg( cmath.phase(I[0]) ) ))\n",
    "print('I2 = (%.2f < %.2f°) A'%(abs(I[1]) , np.rad2deg( cmath.phase(I[1]) ) ))"
   ]
  },
  {
   "cell_type": "markdown",
   "metadata": {},
   "source": [
    "__Simulación en qucs:__\n",
    "\n",
    "<img src=\"img/ejp13-6.png\">"
   ]
  },
  {
   "cell_type": "markdown",
   "metadata": {},
   "source": [
    "<a href=\"https://colab.research.google.com/github/daniel-lorenzo/Electrotecnia/blob/master/Transformadores_lineales.ipynb\"><img align=\"left\" src=\"https://colab.research.google.com/assets/colab-badge.svg\" alt=\"Open in Colab\" title=\"Open and Execute in Google Colaboratory\"></a>"
   ]
  }
 ],
 "metadata": {
  "kernelspec": {
   "display_name": "Python 3",
   "language": "python",
   "name": "python3"
  },
  "language_info": {
   "codemirror_mode": {
    "name": "ipython",
    "version": 3
   },
   "file_extension": ".py",
   "mimetype": "text/x-python",
   "name": "python",
   "nbconvert_exporter": "python",
   "pygments_lexer": "ipython3",
   "version": "3.7.6"
  }
 },
 "nbformat": 4,
 "nbformat_minor": 4
}
