{
 "cells": [
  {
   "cell_type": "markdown",
   "metadata": {},
   "source": [
    "# Sistema eléctrico trifásico"
   ]
  },
  {
   "cell_type": "markdown",
   "metadata": {},
   "source": [
    "## Introducción\n",
    "Los sistemas eléctricos de potencia están compuestos por distintas etapas bien definidas, denominadas __generación, transmisión, distribución y consumo__. Estas etapas están interconectadas entre sí configurando la red o sistema eléctrico trifásico."
   ]
  },
  {
   "cell_type": "markdown",
   "metadata": {},
   "source": [
    "### Ventajas\n",
    "Este tipo de red presenta ventajas en:"
   ]
  },
  {
   "cell_type": "markdown",
   "metadata": {},
   "source": [
    "* __Generación:__ \n",
    " - Presenta mejor aprovechamiento de los materiales de los circuitos magnéticos (Fe) y eléctricos conductores (Cu).\n",
    "* __Transmisión y distribución:__ \n",
    " - Permite la posibilidad de variar los niveles de tensión, mediante la utilización de transformadores.     \n",
    " - Ahorro de material en los conductores eléctricos.\n",
    "* __Consumo:__ \n",
    " - Presenta versatilidad en los niveles de tensiones disponibles.      \n",
    " - Presenta un flujo de potencia estable.     \n",
    " - Los motores presentan una cupla o par estable.\n",
    " - Las cargas o impedancias pueden conectarse en distintas configuraciones y a su vez, con distintas características (equilibrada o desequilibrada)"
   ]
  },
  {
   "cell_type": "markdown",
   "metadata": {},
   "source": [
    "### Generación"
   ]
  },
  {
   "cell_type": "markdown",
   "metadata": {},
   "source": [
    "#### Generación monofásica\n",
    "Analicemos una máquina elemental de generación alterna monofásica."
   ]
  },
  {
   "cell_type": "code",
   "execution_count": null,
   "metadata": {},
   "outputs": [],
   "source": []
  }
 ],
 "metadata": {
  "kernelspec": {
   "display_name": "Python 3",
   "language": "python",
   "name": "python3"
  },
  "language_info": {
   "codemirror_mode": {
    "name": "ipython",
    "version": 3
   },
   "file_extension": ".py",
   "mimetype": "text/x-python",
   "name": "python",
   "nbconvert_exporter": "python",
   "pygments_lexer": "ipython3",
   "version": "3.7.6"
  }
 },
 "nbformat": 4,
 "nbformat_minor": 4
}
